{
 "cells": [
  {
   "cell_type": "code",
   "execution_count": null,
   "id": "1c3e82a9",
   "metadata": {},
   "outputs": [],
   "source": [
    "import pathlib as pl\n",
    "import pandas as pd\n",
    "import numpy as np\n",
    "import scanpy as sc\n",
    "import matplotlib.pyplot as plt"
   ]
  },
  {
   "cell_type": "code",
   "execution_count": null,
   "id": "c4fa0003",
   "metadata": {},
   "outputs": [],
   "source": [
    "cell_type_markers = {\"B\": [\"BANK1\",\"CD19\",\"CD79A\",\"CD79B\",\"IGLL5\",\"MS4A1\",\"VPREB3\"], \n",
    "                     \"CAF\": [\"BGN\",\"COL1A1\",\"COL1A2\",\"FN1\",\"PDGFRA\",\"RGS5\"], \n",
    "                     \"Fibroblast\": [\"ACTA2\",\"TAGLN\"],\n",
    "                     \"Hepatocyte\": [\"ALB\",\"HHEX\",\"CYP2E1\",\"SERPINA1\"],\n",
    "                     \"Endothelial\": [\"CD34\",\"CDH5\",\"CLDN5\",\"EGFL7\",\"PECAM1\",\"PLVAP\",\"RAMP2\",\"RAMP3\",\"TM4SF1\",\"VWF\"],\n",
    "                     \"Epithelial\": [\"ACPP\",\"AR\",\"CD24\",\"EPCAM\",\"KLK2\",\"KLK3\",\"KLK4\",\"KRT13\",\"KRT18\",\"KRT19\",\"KRT8\"], \n",
    "                     \"Basal epithelial\": [\"KRT5\",\"KRT14\",\"TP63\"],\n",
    "                     \"Macrophage\": [\"C1QA\",\"CD163\",\"CD68\",\"CSF1R\",\"FCGR1A\",\"MERTK\",\"MRC1\",\"MS4A4A\",\"MSR1\"], \n",
    "                     'Mast': [\"CPA3\",\"HDC\",\"KIT\",\"RGS1\",\"TPSAB1\",\"TPSB2\"], \n",
    "                     \"NK\": [\"FCGR3A\",\"FGFBP2\",\"GNLY\" ,\"ITGAM\",\"KLRB1\",\"KLRC1\",\"KLRD1\",\"KLRF1\",\"NCAM1\",\"NKG7\",\"PRF1\"], \n",
    "                     \"pDC\": [\"GZMB\",\"IL3RA\",\"IRF7\",\"ITM2C\",\"LILRA4\",\"MZB1\",\"SERPINF1\"], \n",
    "                     \"T\": [\"CD247\",\"CD3D\",\"CD3E\",\"CD3G\",\"SKAP1\",\"THEMIS\",\"TRAC\"], \n",
    "                     \"TAM\": [\"C1QB\",\"C1QC\",\"VSIG4\"], \n",
    "                     \"Treg\": [\"FOXP3\"], \n",
    "                     \"Smooth muscle\": [\"ACTG2\",\"CNN1\",\"MYH11\",\"TAGLN\"],\n",
    "                     \"EAC\": [\"KRAS\",\"MUC1\",\"AGR2\"], \"Nerve\": [\"NRXN1\",\"NRXN3\",\"NCAM1\",\"NRG1\"]}"
   ]
  },
  {
   "cell_type": "code",
   "execution_count": null,
   "id": "36532981",
   "metadata": {},
   "outputs": [],
   "source": [
    "datapath = pl.Path(\"/add/path/here/\")"
   ]
  },
  {
   "cell_type": "code",
   "execution_count": null,
   "id": "5a0033ee",
   "metadata": {},
   "outputs": [],
   "source": [
    "adata = sc.read_h5ad(datapath / \"CCG1153_4496262_GEX_Cellbender_Scrublet.h5ad\")"
   ]
  },
  {
   "cell_type": "code",
   "execution_count": null,
   "id": "f8cefd27",
   "metadata": {},
   "outputs": [],
   "source": [
    "adata.raw = None\n",
    "\n",
    "sc.pp.filter_cells(adata, min_genes=200)\n",
    "sc.pp.filter_genes(adata, min_cells=3)\n",
    "adata.var['mt'] = adata.var_names.str.startswith('MT-')  # annotate the group of mitochondrial genes as 'mt'\n",
    "sc.pp.calculate_qc_metrics(adata, qc_vars=['mt'], percent_top=None, log1p=True, inplace=True)\n",
    "adata = adata[adata.obs.pct_counts_mt < 20, :].copy()\n",
    "\n",
    "adata.layers[\"counts\"] = adata.X.copy()\n",
    "sc.pp.normalize_total(adata, target_sum=10000)\n",
    "sc.pp.log1p(adata)"
   ]
  },
  {
   "cell_type": "code",
   "execution_count": null,
   "id": "7583d566",
   "metadata": {},
   "outputs": [],
   "source": [
    "for ct in cell_type_markers:\n",
    "    sc.tl.score_genes(adata, gene_list=cell_type_markers[ct], score_name=f\"{ct}_score\")"
   ]
  },
  {
   "cell_type": "code",
   "execution_count": null,
   "id": "1ec33931",
   "metadata": {},
   "outputs": [],
   "source": [
    "sc.tl.pca(adata, n_comps=50)"
   ]
  },
  {
   "cell_type": "code",
   "execution_count": null,
   "id": "54a84a3b",
   "metadata": {},
   "outputs": [],
   "source": [
    "sc.pp.neighbors(adata, use_rep=\"X_pca\")"
   ]
  },
  {
   "cell_type": "code",
   "execution_count": null,
   "id": "129346cf",
   "metadata": {},
   "outputs": [],
   "source": [
    "sc.tl.umap(adata)"
   ]
  },
  {
   "cell_type": "code",
   "execution_count": null,
   "id": "272c9f7d",
   "metadata": {},
   "outputs": [],
   "source": [
    "sc.tl.leiden(adata, resolution=0.7)"
   ]
  },
  {
   "cell_type": "code",
   "execution_count": null,
   "id": "aa6ac4a7",
   "metadata": {},
   "outputs": [],
   "source": [
    "sc.pl.umap(adata, color=[\"Basal epithelial_score\"])"
   ]
  },
  {
   "cell_type": "code",
   "execution_count": null,
   "id": "b865430c",
   "metadata": {},
   "outputs": [],
   "source": [
    "sc.pl.umap(adata, color=[\"log1p_total_counts\",\"pct_counts_mt\",\"leiden\",], ncols=2)"
   ]
  },
  {
   "cell_type": "code",
   "execution_count": null,
   "id": "4bc59989",
   "metadata": {},
   "outputs": [],
   "source": [
    "for ct in cell_type_markers:\n",
    "    fig, ax = plt.subplots(1,1)\n",
    "    sc.pl.violin(adata, keys=[f\"{ct}_score\"], groupby=\"leiden\", ax=ax)"
   ]
  },
  {
   "cell_type": "code",
   "execution_count": null,
   "id": "6fe58caf",
   "metadata": {},
   "outputs": [],
   "source": [
    "manual_annotations = {\"0\": \"Fibroblast/CAF\", \n",
    "                      \"1\": \"Endothelial\", \n",
    "                      \"2\": \"Fibroblast/CAF\", \n",
    "                      \"3\": \"Endothelial\", \n",
    "                      \"4\": \"Fibroblast/CAF\", \n",
    "                      \"5\": \"Epithelial\", \n",
    "                      \"6\": \"Epithelial\", \n",
    "                      \"7\": \"Smooth muscle\", \n",
    "                      \"8\": \"Epithelial\", \n",
    "                      \"9\": \"Smooth muscle\", \n",
    "                      \"10\": \"Macrophage\",\n",
    "                      \"11\": \"Epithelial\", \n",
    "                      \"12\": \"Endothelial\",\n",
    "                      \"13\": \"Macrophage\", \n",
    "                      \"14\": \"T/NK\", \n",
    "                      \"15\": \"Epithelial\", \n",
    "                      \"16\": \"Nerve\", \n",
    "                      \"17\": \"Fibroblast/CAF\", }"
   ]
  },
  {
   "cell_type": "code",
   "execution_count": null,
   "id": "0244be9e",
   "metadata": {},
   "outputs": [],
   "source": [
    "adata.obs[\"celltype\"] = adata.obs.leiden.replace(manual_annotations)"
   ]
  },
  {
   "cell_type": "code",
   "execution_count": null,
   "id": "06940fb5",
   "metadata": {},
   "outputs": [],
   "source": [
    "sc.tl.rank_genes_groups(adata, groupby=\"celltype\")"
   ]
  },
  {
   "cell_type": "code",
   "execution_count": null,
   "id": "bb445085",
   "metadata": {},
   "outputs": [],
   "source": [
    "sc.pl.rank_genes_groups_heatmap(adata, n_genes=4, use_raw=False, swap_axes=True, vmax=3, cmap='bwr')"
   ]
  },
  {
   "cell_type": "code",
   "execution_count": null,
   "id": "48b5a22a",
   "metadata": {},
   "outputs": [],
   "source": [
    "import infercnvpy as cnv"
   ]
  },
  {
   "cell_type": "code",
   "execution_count": null,
   "id": "b5f4ce0a",
   "metadata": {},
   "outputs": [],
   "source": [
    "gencode_df = pd.read_csv(\"/add/path/here/gencode_v41_positions.csv\",index_col=0).set_index(\"gene_name\")\n",
    "gencode_df = gencode_df.loc[~gencode_df.index.duplicated()]\n",
    "gencode_df = gencode_df.loc[gencode_df.index.intersection(adata.var.index)]\n",
    "\n",
    "gencode_df = gencode_df.rename(columns={\"seqname\": \"chromosome\"})"
   ]
  },
  {
   "cell_type": "code",
   "execution_count": null,
   "id": "db97cc55",
   "metadata": {},
   "outputs": [],
   "source": [
    "adata.var = pd.concat([adata.var,gencode_df],axis=1)"
   ]
  },
  {
   "cell_type": "code",
   "execution_count": null,
   "id": "23cba0ed",
   "metadata": {},
   "outputs": [],
   "source": [
    "subadata = adata[:,adata.var.mean_counts>=0.1].copy()"
   ]
  },
  {
   "cell_type": "code",
   "execution_count": null,
   "id": "295badba",
   "metadata": {},
   "outputs": [],
   "source": [
    "cnv.tl.infercnv(\n",
    "    subadata,\n",
    "    reference_key=\"celltype\",\n",
    "    reference_cat=[\n",
    "        \"Fibroblast/CAF\",\n",
    "        \"Endothelial\", \"Smooth muscle\",\n",
    "        \n",
    "    ],\n",
    "    window_size=200,\n",
    ")"
   ]
  },
  {
   "cell_type": "code",
   "execution_count": null,
   "id": "3fd4e1f0",
   "metadata": {},
   "outputs": [],
   "source": [
    "cnv.pl.chromosome_heatmap(subadata, groupby=\"celltype\")"
   ]
  },
  {
   "cell_type": "code",
   "execution_count": null,
   "id": "0726248f",
   "metadata": {},
   "outputs": [],
   "source": [
    "cnv.tl.pca(subadata)\n",
    "cnv.pp.neighbors(subadata)\n",
    "cnv.tl.leiden(subadata)\n",
    "cnv.tl.umap(subadata)\n",
    "cnv.tl.cnv_score(subadata)"
   ]
  },
  {
   "cell_type": "code",
   "execution_count": null,
   "id": "f304a75d",
   "metadata": {},
   "outputs": [],
   "source": []
  },
  {
   "cell_type": "code",
   "execution_count": null,
   "id": "27cc9349",
   "metadata": {},
   "outputs": [],
   "source": [
    "cnv.pl.chromosome_heatmap(subadata, groupby=\"cnv_leiden\", dendrogram=True)"
   ]
  },
  {
   "cell_type": "code",
   "execution_count": null,
   "id": "63eaa33a",
   "metadata": {},
   "outputs": [],
   "source": [
    "fig, ((ax1, ax2), (ax3, ax4)) = plt.subplots(2, 2, figsize=(11, 11))\n",
    "ax4.axis(\"off\")\n",
    "cnv.pl.umap(\n",
    "    subadata,\n",
    "    color=\"cnv_leiden\",\n",
    "    legend_loc=\"on data\",\n",
    "    legend_fontoutline=2,\n",
    "    ax=ax1,\n",
    "    show=False,\n",
    ")\n",
    "cnv.pl.umap(subadata, color=\"cnv_score\", ax=ax2, show=False)\n",
    "cnv.pl.umap(subadata, color=\"celltype\", ax=ax3)"
   ]
  },
  {
   "cell_type": "code",
   "execution_count": null,
   "id": "d123b777",
   "metadata": {},
   "outputs": [],
   "source": [
    "resdir = pl.Path(\"/add/path/here/\")\n",
    "\n",
    "adata.write(resdir / \"CCG1153_4496262.h5ad\")"
   ]
  },
  {
   "cell_type": "code",
   "execution_count": null,
   "id": "5cd855b6",
   "metadata": {},
   "outputs": [],
   "source": []
  }
 ],
 "metadata": {
  "kernelspec": {
   "display_name": "Python 3 (ipykernel)",
   "language": "python",
   "name": "python3"
  },
  "language_info": {
   "codemirror_mode": {
    "name": "ipython",
    "version": 3
   },
   "file_extension": ".py",
   "mimetype": "text/x-python",
   "name": "python",
   "nbconvert_exporter": "python",
   "pygments_lexer": "ipython3",
   "version": "3.9.16"
  }
 },
 "nbformat": 4,
 "nbformat_minor": 5
}
