{
 "cells": [
  {
   "cell_type": "code",
   "execution_count": null,
   "id": "b71fd484",
   "metadata": {},
   "outputs": [],
   "source": [
    "import dill\n",
    "import pathlib as pl\n",
    "\n",
    "import os\n",
    "from tqdm.notebook import tqdm\n",
    "\n",
    "import scanpy as sc\n",
    "\n",
    "import pandas as pd\n",
    "\n",
    "import palettable\n",
    "\n",
    "import numpy as np"
   ]
  },
  {
   "cell_type": "code",
   "execution_count": null,
   "id": "d4db16bf-f2a8-4f1a-a698-830e9c9f3ee0",
   "metadata": {},
   "outputs": [],
   "source": [
    "def pretty_ax(ax):\n",
    "    ax.spines['right'].set_visible(False)\n",
    "    ax.spines['top'].set_visible(False)\n",
    "    ax.tick_params(\n",
    "        axis='both',  \n",
    "        which='both',      \n",
    "        bottom=True,     \n",
    "        top=False,\n",
    "        left=False,\n",
    "        labelbottom=True,\n",
    "        labelleft = True)\n",
    "    ax.spines[\"bottom\"].set_linewidth(1.5)\n",
    "    ax.spines[\"left\"].set_linewidth(1.5)"
   ]
  },
  {
   "cell_type": "code",
   "execution_count": null,
   "id": "03c67093-914a-447f-9c01-da82696f27b2",
   "metadata": {},
   "outputs": [],
   "source": [
    "work_dir = pl.Path(\"/add/path/here/\")\n",
    "\n",
    "refined_wcancer = pd.read_csv(\"/add/path/here/refined_annotations_wsampleid.csv\",index_col=0)"
   ]
  },
  {
   "cell_type": "code",
   "execution_count": null,
   "id": "d63eecf4-c964-49b2-844e-1ae030104063",
   "metadata": {},
   "outputs": [],
   "source": [
    "all_scplus = {}\n",
    "for f in tqdm(work_dir.iterdir()):\n",
    "    sample_name = f.stem\n",
    "    if sample_name==\"CCG1153_4411\":\n",
    "        continue\n",
    "    print(sample_name)\n",
    "    infile = open(f / 'scplus_obj.pkl', 'rb')\n",
    "    all_scplus[sample_name] = dill.load(infile)\n",
    "    infile.close()"
   ]
  },
  {
   "cell_type": "code",
   "execution_count": null,
   "id": "7e8b72a9-375b-4a09-b8ec-a8667273a2c3",
   "metadata": {},
   "outputs": [],
   "source": [
    "from scenicplus.utils import format_egrns\n",
    "for sample_name in tqdm(all_scplus):\n",
    "    format_egrns(all_scplus[sample_name], eregulons_key = 'eRegulons_importance', TF2G_key = 'TF2G_adj', key_added = 'eRegulon_metadata')"
   ]
  },
  {
   "cell_type": "code",
   "execution_count": null,
   "id": "53a81421-3fb1-40b3-b3a2-3545f583150f",
   "metadata": {},
   "outputs": [],
   "source": [
    "all_scplus[sample_name].uns['eRegulon_metadata'][all_scplus[sample_name].uns['eRegulon_metadata'].TF==\"BNC2\"]"
   ]
  },
  {
   "cell_type": "code",
   "execution_count": null,
   "id": "575c9e2e-4a7f-47c8-8110-a5ae931de470",
   "metadata": {},
   "outputs": [],
   "source": [
    "from scenicplus.eregulon_enrichment import *\n",
    "for sample_name in tqdm(all_scplus):\n",
    "    get_eRegulons_as_signatures(all_scplus[sample_name], eRegulon_metadata_key='eRegulon_metadata', key_added='eRegulon_signatures')"
   ]
  },
  {
   "cell_type": "code",
   "execution_count": null,
   "id": "bfdbe879-164e-4e20-8b88-1b2ef5e28c99",
   "metadata": {
    "scrolled": true
   },
   "outputs": [],
   "source": [
    "from scenicplus.cistromes import *\n",
    "import time\n",
    "\n",
    "for sample_name in tqdm(all_scplus):\n",
    "    start_time = time.time()\n",
    "    region_ranking = make_rankings(all_scplus[sample_name], target='region')\n",
    "    # Score region regulons\n",
    "    score_eRegulons(all_scplus[sample_name],\n",
    "                    ranking = region_ranking,\n",
    "                    eRegulon_signatures_key = 'eRegulon_signatures',\n",
    "                    key_added = 'eRegulon_AUC',\n",
    "                    enrichment_type= 'region',\n",
    "                    auc_threshold = 0.05,\n",
    "                    normalize = False,\n",
    "                    n_cpu = 1)\n",
    "    tm = time.time()-start_time\n",
    "    print(sample_name,tm/60)"
   ]
  },
  {
   "cell_type": "code",
   "execution_count": null,
   "id": "da2625ed-9cb1-43b8-987a-2b9b43e79365",
   "metadata": {
    "scrolled": true
   },
   "outputs": [],
   "source": [
    "## Score transcriptome layer\n",
    "# Gene based raking\n",
    "from scenicplus.cistromes import *\n",
    "import time\n",
    "\n",
    "for sample_name in tqdm(all_scplus):\n",
    "    start_time = time.time()\n",
    "    gene_ranking = make_rankings(all_scplus[sample_name], target='gene')\n",
    "    # Score gene regulons\n",
    "    score_eRegulons(all_scplus[sample_name],\n",
    "                    gene_ranking,\n",
    "                    eRegulon_signatures_key = 'eRegulon_signatures',\n",
    "                    key_added = 'eRegulon_AUC',\n",
    "                    enrichment_type = 'gene',\n",
    "                    auc_threshold = 0.05,\n",
    "                    normalize= False,\n",
    "                    n_cpu = 1)\n",
    "    tm = time.time()-start_time\n",
    "    print(sample_name,tm/60)"
   ]
  },
  {
   "cell_type": "code",
   "execution_count": null,
   "id": "45c027a1-b207-48c9-a206-8d1035b7d224",
   "metadata": {},
   "outputs": [],
   "source": [
    "for sample_name in tqdm(all_scplus):\n",
    "\n",
    "    patrefined = refined_wcancer[refined_wcancer.sample_id==sample_name].copy()\n",
    "    patrefined.index = patrefined.index.str[:-2] + \"-\" + sample_name\n",
    "\n",
    "    all_scplus[sample_name].metadata_cell = pd.concat([all_scplus[sample_name].metadata_cell,patrefined.refined_annotations.loc[all_scplus[sample_name].metadata_cell.index]],axis=1)\n",
    "\n",
    "    subset_cells = all_scplus[sample_name].metadata_cell[~all_scplus[sample_name].metadata_cell[\"ACC_highlevel_wcancer\"].isin([\"Other\"])].index\n",
    "    \n",
    "    all_scplus[sample_name].subset(cells=subset_cells)\n",
    "    \n",
    "    all_scplus[sample_name].uns[\"eRegulon_AUC\"][\"Gene_based\"] = all_scplus[sample_name].uns[\"eRegulon_AUC\"][\"Gene_based\"].loc[subset_cells]\n",
    "    \n",
    "    all_scplus[sample_name].uns[\"eRegulon_AUC\"][\"Region_based\"] = all_scplus[sample_name].uns[\"eRegulon_AUC\"][\"Region_based\"].loc[subset_cells]"
   ]
  },
  {
   "cell_type": "code",
   "execution_count": null,
   "id": "13e9a0b3-f297-4cbf-bf31-61674ec870ef",
   "metadata": {},
   "outputs": [],
   "source": [
    "highlevel_refined = {\"Hepatocyte\": \"Epithelial\", \n",
    "                     \"Carcinoma\": \"Carcinoma\", \n",
    "                     \"Fibroblast\": \"Fibroblast\", \n",
    "                     \"Quiescent endothelial cells\": \"Endothelial\", \n",
    "                     \"Smooth muscle\": \"Muscle\", \n",
    "                     \"Skeletal muscle\": \"Muscle\",\n",
    "                     \"TAM2\": \"Myeloid\", \"TAM3\": \"Myeloid\",\n",
    "                     \"TCD4\": \"Lymphoid\", \n",
    "                     \"Inflammatory CAF\": \"Fibroblast\", \n",
    "                     \"Adipose CAF\": \"Fibroblast\",\n",
    "                     \"HGF-CAF\": \"Fibroblast\",\n",
    "                     \"TAM1\": \"Myeloid\", \n",
    "                     \"Myeloid-HighMT\": \"Unknown/technical\", \n",
    "                     \"Angiogenic EC\": \"Endothelial\", \n",
    "                     \"Quiescent EC\": \"Endothelial\", \n",
    "                     \"Venous EC\": \"Endothelial\",\n",
    "                     \"TCD8\": \"Lymphoid\", \n",
    "                     \"B\": \"Lymphoid\", \n",
    "                     \"DC\": \"Myeloid\", \n",
    "                     \"Hepatic EC\": \"Endothelial\", \n",
    "                     \"Kupffer cells\": \"Myeloid\", \n",
    "                     \"NK\": \"Lymphoid\", \n",
    "                     \"Treg\": \"Lymphoid\", \n",
    "                     \"StrMus-HighMT\": \"Unknown/technical\", \n",
    "                     \"T-HighMT\": \"Unknown/technical\", \n",
    "                     \"Mast\": \"Myeloid\", \n",
    "                     \"Adipocytes\": \"Stromal/Muscle\", \n",
    "                     \"Endo-HighMT\": \"Unknown/technical\"}\n",
    "\n",
    "for sample_name in tqdm(all_scplus):\n",
    "    all_scplus[sample_name].metadata_cell[\"highlevel_wcancer\"] = all_scplus[sample_name].metadata_cell.refined_wcancer.replace(highlevel_refined)"
   ]
  },
  {
   "cell_type": "code",
   "execution_count": null,
   "id": "da36d868-0bd0-4863-8596-dc1cc98e5eba",
   "metadata": {},
   "outputs": [],
   "source": [
    "# Generate pseudobulks\n",
    "import time\n",
    "\n",
    "for sample_name in tqdm(all_scplus):\n",
    "    start_time = time.time()\n",
    "    df = all_scplus[sample_name].metadata_cell.refined_wcancer.copy()\n",
    "    df = df.apply(lambda x: x if df.value_counts().loc[x]>=10 else \"Other\")\n",
    "    all_scplus[sample_name].metadata_cell[\"refined_wcancer_red\"] = df\n",
    "    generate_pseudobulks(all_scplus[sample_name],\n",
    "                             variable = \"refined_wcancer_red\",\n",
    "                             auc_key = 'eRegulon_AUC',\n",
    "                             signature_key = 'Gene_based',\n",
    "                             nr_cells = 5,\n",
    "                             nr_pseudobulks = 100,\n",
    "                             seed=555)\n",
    "    generate_pseudobulks(all_scplus[sample_name],\n",
    "                             variable = \"refined_wcancer_red\",\n",
    "                             auc_key = 'eRegulon_AUC',\n",
    "                             signature_key = 'Region_based',\n",
    "                             nr_cells = 5,\n",
    "                             nr_pseudobulks = 100,\n",
    "                             seed=555)\n",
    "    tm = time.time()-start_time\n",
    "    print(tm/60)"
   ]
  },
  {
   "cell_type": "code",
   "execution_count": null,
   "id": "73c39735-1784-40d9-9735-a37d37e36d66",
   "metadata": {
    "scrolled": true
   },
   "outputs": [],
   "source": [
    "# Correlation between TF and eRegulons\n",
    "import time\n",
    "\n",
    "for sample_name in tqdm(all_scplus):\n",
    "    start_time = time.time()\n",
    "    TF_cistrome_correlation(all_scplus[sample_name],\n",
    "                            variable = 'refined_wcancer_red',\n",
    "                            auc_key = 'eRegulon_AUC',\n",
    "                            signature_key = 'Gene_based',\n",
    "                            out_key = 'ACC_refined_wcancer_eGRN_gene_based')\n",
    "    TF_cistrome_correlation(all_scplus[sample_name],\n",
    "                            variable = 'refined_wcancer_red',\n",
    "                            auc_key = 'eRegulon_AUC',\n",
    "                            signature_key = 'Region_based',\n",
    "                            out_key = 'ACC_refined_wcancer_eGRN_region_based')\n",
    "    tm = time.time()-start_time\n",
    "    print(tm/60)"
   ]
  },
  {
   "cell_type": "code",
   "execution_count": null,
   "id": "7e97ecbb-1d19-4aeb-af3f-799742d5d709",
   "metadata": {},
   "outputs": [],
   "source": [
    "# Correlation between region based regulons and gene based regulons\n",
    "def select_regulons_filter(scplus_obj, corr_lim= 0.2):\n",
    "    df1 = scplus_obj.uns['eRegulon_AUC']['Gene_based'].copy()\n",
    "    df2 = scplus_obj.uns['eRegulon_AUC']['Region_based'].copy()\n",
    "    df1.columns = [x.split('_(')[0] for x in df1.columns]\n",
    "    df2.columns = [x.split('_(')[0] for x in df2.columns]\n",
    "    correlations = df1.corrwith(df2, axis = 0)\n",
    "    correlations = correlations[abs(correlations) > corr_lim]\n",
    "    # Kepp only activator\n",
    "    keep = [x for x in correlations.index if '+_+' in x] + [x for x in correlations.index if '+_-' in x] \n",
    "    # Keep extended if not direct\n",
    "    extended = [x for x in keep if 'extended' in x]\n",
    "    direct = [x for x in keep if not 'extended' in x]\n",
    "    keep_extended = [x for x in extended if not x.replace('extended_', '') in direct]\n",
    "    keep = direct + keep_extended\n",
    "    # Keep regulons with more than 10 genes\n",
    "    keep_gene = [x for x in scplus_obj.uns['eRegulon_AUC']['Gene_based'].columns if x.split('_(')[0] in keep]\n",
    "    keep_gene = [x for x in keep_gene if (int(x.split('_(')[1].replace('g)', '')) > 10)]\n",
    "    keep_all = [x.split('_(')[0] for x in keep_gene]\n",
    "    keep_region = [x for x in scplus_obj.uns['eRegulon_AUC']['Region_based'].columns if x.split('_(')[0] in keep]\n",
    "    scplus_obj.uns['selected_eRegulons'] = {}\n",
    "    scplus_obj.uns['selected_eRegulons']['Gene_based'] = keep_gene\n",
    "    scplus_obj.uns['selected_eRegulons']['Region_based'] = keep_region\n",
    "    return scplus_obj"
   ]
  },
  {
   "cell_type": "code",
   "execution_count": null,
   "id": "be43181c-2eef-43ff-8324-9737e6c626d4",
   "metadata": {},
   "outputs": [],
   "source": [
    "len(all_scplus[sample_name].uns[\"Cistromes\"][\"Unfiltered\"].keys())"
   ]
  },
  {
   "cell_type": "code",
   "execution_count": null,
   "id": "c8c85272-ffee-4bc0-8f28-ef05c10b29cb",
   "metadata": {},
   "outputs": [],
   "source": [
    "for sample_name in tqdm(all_scplus):\n",
    "    all_scplus[sample_name] = select_regulons_filter(all_scplus[sample_name])"
   ]
  },
  {
   "cell_type": "markdown",
   "id": "52349333-9935-4c54-98e5-ad6c9a376bc5",
   "metadata": {},
   "source": [
    "# Prioritizing TFs"
   ]
  },
  {
   "cell_type": "code",
   "execution_count": null,
   "id": "e9fa46f5-0a7a-4767-ba79-eaff74af5f38",
   "metadata": {},
   "outputs": [],
   "source": [
    "all_tfs = pd.read_csv(\"/add/path/here/DatabaseExtract_v_1.01.csv\",index_col=0)\n",
    "\n",
    "list_tfs = all_tfs[all_tfs[\"Is TF?\"]==\"Yes\"][\"HGNC symbol\"].unique()\n",
    "\n",
    "scores = pd.read_csv(\"/add/path/here/adata_cNMF_scores.csv\",index_col=0)"
   ]
  },
  {
   "cell_type": "markdown",
   "id": "bb74db9c-6f70-4cea-b236-2138c73d8a86",
   "metadata": {},
   "source": [
    "## For Carcinoma cells"
   ]
  },
  {
   "cell_type": "code",
   "execution_count": null,
   "id": "87f4593c-7ad6-4ebc-8161-ab8bb490db91",
   "metadata": {},
   "outputs": [],
   "source": [
    "from scipy.stats import pearsonr\n",
    "from statsmodels.stats.multitest import multipletests\n",
    "from adjustText import adjust_text\n",
    "\n",
    "def get_corr_and_p(all_plot_dfs: pd.DataFrame):\n",
    "    full_auc = all_plot_dfs.drop([\"cNMF_1_score\", \"cNMF_2_score\", \"cNMF_3_score\",\n",
    "                              \"cNMF_4_score\", \"cNMF_5_score\", \"sample_id\", \"highlevel_refined\"],axis=1).copy()\n",
    "\n",
    "    tf_z_corr = []\n",
    "    tf_z_ps = []\n",
    "    tf_z_qs = []\n",
    "    for score in [\"cNMF_1_score\", \"cNMF_2_score\", \"cNMF_3_score\",\n",
    "                                  \"cNMF_4_score\", \"cNMF_5_score\", ]:\n",
    "        corrs = full_auc.corrwith(all_plot_dfs[score])\n",
    "        ps = full_auc.corrwith(all_plot_dfs[score], method=lambda x, y: pearsonr(x, y)[1])\n",
    "        qs = pd.DataFrame(multipletests(ps.ravel())[1], index=ps.index, columns=[score])\n",
    "        corrs.name = score\n",
    "        ps.name = score\n",
    "        \n",
    "        tf_z_corr.append(corrs)\n",
    "        tf_z_ps.append(ps)\n",
    "        tf_z_qs.append(qs)\n",
    "\n",
    "    return pd.concat(tf_z_corr,axis=1), pd.concat(tf_z_ps,axis=1), pd.concat(tf_z_qs,axis=1)"
   ]
  },
  {
   "cell_type": "code",
   "execution_count": null,
   "id": "33550f57-663b-4357-81fc-2aeb41c2efe5",
   "metadata": {},
   "outputs": [],
   "source": [
    "trajec_df = []\n",
    "for sample_name in all_scplus:\n",
    "    gex_adata = sc.AnnData(all_scplus[sample_name].to_df(\"EXP\").copy())\n",
    "    gex_adata = gex_adata[:,gex_adata.var_names.intersection(list_tfs)].copy()\n",
    "    sc.pp.normalize_total(adata=gex_adata, target_sum=10000)\n",
    "    sc.pp.log1p(gex_adata)\n",
    "\n",
    "    patscores = scores[(scores.sample_id==sample_name) & (scores.highlevel_refined==\"Carcinoma\")].copy()\n",
    "    patscores.index = patscores.index.str[:-2] + \"-\" + sample_name\n",
    "    gex_adata = gex_adata[gex_adata.obs_names.intersection(patscores.index)].copy()\n",
    "    gex_adata.obs = pd.concat([gex_adata.obs, patscores.loc[gex_adata.obs_names.intersection(patscores.index)]],axis=1)\n",
    "    \n",
    "    gex_df = pd.DataFrame(gex_adata.X.copy(),\n",
    "                          index=gex_adata.obs_names,\n",
    "                          columns=gex_adata.var_names)\n",
    "    plot_df = pd.concat([gex_df,\n",
    "                     gex_adata.obs],axis=1)\n",
    "\n",
    "    trajec_df.append(plot_df)\n",
    "trajec_df = pd.concat(trajec_df)"
   ]
  },
  {
   "cell_type": "code",
   "execution_count": null,
   "id": "74d4174d-905f-4e74-afbe-c8cf781040af",
   "metadata": {},
   "outputs": [],
   "source": [
    "trajec_df[\"Diff\"] = trajec_df[\"cNMF_4_score\"] - trajec_df[\"cNMF_5_score\"]\n",
    "\n",
    "trajec_df = trajec_df.sort_values(\"Diff\").copy()\n",
    "\n",
    "trajec_df[\"Bin\"] = pd.cut(trajec_df[\"Diff\"], bins=10, labels=np.arange(1,11))"
   ]
  },
  {
   "cell_type": "code",
   "execution_count": null,
   "id": "7b0cd0a2-9453-4c39-b4f3-c5ff02bb6222",
   "metadata": {},
   "outputs": [],
   "source": [
    "for TF in [\"FOXO3\", \"HNF4A\", \"KLF3\", \"ZBTB43\", \"THRB\", \"CREB3L1\", \"MAFK\", \"PPARD\", \"LCOR\", \"FOXO1\", \"SMAD3\", \n",
    "           \"MECOM\", \"HMGA2\",\"GRHL2\", \"ZKSCAN1\"]:\n",
    "    fig, ax = plt.subplots(1,1,figsize=(2,2))\n",
    "    sns.barplot(data=trajec_df, x=\"Bin\", y=TF, ax=ax)\n",
    "    ax.set_xlabel(\"cNMF$_5$ to cNMF$_4$\")\n",
    "    ax.set_xticks([])\n",
    "    pretty_ax(ax)\n",
    "    fig.savefig(f\"figures/malignant/{TF}_expression_cNMF_4_to_cNMF_5.svg\", dpi=200, bbox_inches='tight')"
   ]
  },
  {
   "cell_type": "code",
   "execution_count": null,
   "id": "f32c1091-1feb-4a64-bc83-8b6705a2dcf8",
   "metadata": {
    "scrolled": true
   },
   "outputs": [],
   "source": [
    "all_plot_dfs = []\n",
    "for sample_name in all_scplus:\n",
    "    gex_adata = sc.AnnData(all_scplus[sample_name].to_df(\"EXP\").copy())\n",
    "    gex_adata = gex_adata[:,gex_adata.var_names.intersection(list_tfs)].copy()\n",
    "    sc.pp.normalize_total(adata=gex_adata, target_sum=10000)\n",
    "    sc.pp.log1p(gex_adata)\n",
    "\n",
    "    patscores = scores[(scores.sample_id==sample_name) & (scores.highlevel_refined==\"Carcinoma\")].copy()\n",
    "    patscores.index = patscores.index.str[:-2] + \"-\" + sample_name\n",
    "    gex_adata = gex_adata[gex_adata.obs_names.intersection(patscores.index)].copy()\n",
    "    gex_adata.obs = pd.concat([gex_adata.obs, patscores.loc[gex_adata.obs_names.intersection(patscores.index)]],axis=1)\n",
    "    \n",
    "    gex_df = pd.DataFrame(gex_adata.X.copy(),\n",
    "                          index=gex_adata.obs_names,\n",
    "                          columns=gex_adata.var_names)\n",
    "    plot_df = pd.concat([gex_df,\n",
    "                     gex_adata.obs],axis=1)\n",
    "\n",
    "    all_plot_dfs.append(plot_df)\n",
    "all_plot_dfs = pd.concat(all_plot_dfs)\n",
    "\n",
    "tf_z_corr, tf_z_ps, tf_z_qs = get_corr_and_p(all_plot_dfs)\n",
    "\n",
    "all_plot_dfs = []\n",
    "for sample_name in tqdm(all_scplus):\n",
    "    auc_alltfs = []\n",
    "    patscores = scores[(scores.sample_id==sample_name) & (scores.highlevel_refined==\"Carcinoma\")].copy()\n",
    "    patscores.index = patscores.index.str[:-2] + \"-\" + sample_name\n",
    "    \n",
    "    for tf in list_tfs:\n",
    "        auc_df = all_scplus[sample_name].uns[\"eRegulon_AUC\"][\"Gene_based\"].copy()\n",
    "        auc_df = auc_df.loc[:,auc_df.columns.str.contains(tf)]\n",
    "        if auc_df.shape[1]==0:\n",
    "            continue\n",
    "        \n",
    "        if auc_df.shape[1]>1:\n",
    "            auc_df = auc_df.loc[:,~auc_df.columns.str.contains(\"extended\")]\n",
    "            auc_df = auc_df.loc[:,~auc_df.columns.str.contains(\"+_-\", regex=False)]\n",
    "            auc_df = auc_df.loc[:,~auc_df.columns.str.contains(\"-_-\", regex=False)]\n",
    "        \n",
    "        auc_alltfs.append(auc_df)\n",
    "    auc_alltfs = pd.concat(auc_alltfs,axis=1)\n",
    "    auc_alltfs = auc_alltfs.groupby(level=0,axis=1).mean()\n",
    "    auc_alltfs.columns = auc_alltfs.columns.str.split(\"_\").str[0]\n",
    "    auc_alltfs = pd.concat([auc_alltfs, patscores],\n",
    "                           axis=1).dropna()\n",
    "    all_plot_dfs.append(auc_alltfs)\n",
    "\n",
    "all_plot_dfs = pd.concat(all_plot_dfs).fillna(0)\n",
    "\n",
    "gene_based_z_corr, gene_based_z_ps, gene_based_z_qs = get_corr_and_p(all_plot_dfs)\n",
    "\n",
    "all_plot_dfs = []\n",
    "for sample_name in tqdm(all_scplus):\n",
    "    auc_alltfs = []\n",
    "    patscores = scores[(scores.sample_id==sample_name) & (scores.highlevel_refined==\"Carcinoma\")].copy()\n",
    "    patscores.index = patscores.index.str[:-2] + \"-\" + sample_name\n",
    "    \n",
    "    for tf in list_tfs:\n",
    "        auc_df = all_scplus[sample_name].uns[\"eRegulon_AUC\"][\"Region_based\"].copy()\n",
    "        auc_df = auc_df.loc[:,auc_df.columns.str.contains(tf)]\n",
    "        if auc_df.shape[1]==0:\n",
    "            continue\n",
    "        \n",
    "        if auc_df.shape[1]>1:\n",
    "            auc_df = auc_df.loc[:,~auc_df.columns.str.contains(\"extended\")]\n",
    "            auc_df = auc_df.loc[:,~auc_df.columns.str.contains(\"+_-\", regex=False)]\n",
    "            auc_df = auc_df.loc[:,~auc_df.columns.str.contains(\"-_-\", regex=False)]\n",
    "        \n",
    "        auc_alltfs.append(auc_df)\n",
    "    auc_alltfs = pd.concat(auc_alltfs,axis=1)\n",
    "    auc_alltfs = auc_alltfs.groupby(level=0,axis=1).mean()\n",
    "    auc_alltfs.columns = auc_alltfs.columns.str.split(\"_\").str[0]\n",
    "    auc_alltfs = pd.concat([auc_alltfs, patscores],\n",
    "                           axis=1).dropna()\n",
    "    all_plot_dfs.append(auc_alltfs)\n",
    "\n",
    "all_plot_dfs = pd.concat(all_plot_dfs).fillna(0)\n",
    "\n",
    "region_based_z_corr, region_based_z_ps, region_based_z_qs = get_corr_and_p(all_plot_dfs)\n",
    "\n",
    "triad_corrs = {}\n",
    "toptfs = {}\n",
    "for score in [\"cNMF_1_score\", \"cNMF_2_score\", \"cNMF_3_score\",\n",
    "                              \"cNMF_4_score\", \"cNMF_5_score\", ]:\n",
    "    triad_corrs[score] = pd.concat([tf_z_corr[score],\n",
    "           gene_based_z_corr[score],\n",
    "           region_based_z_corr[score]],axis=1)\n",
    "    seltf = tf_z_corr[(tf_z_corr[score]>0.1) & (tf_z_qs[score]<0.1)].index\n",
    "    selgene = gene_based_z_corr[(gene_based_z_corr[score]>0.1) & (gene_based_z_qs[score]<0.1)].index\n",
    "    selreg = region_based_z_corr[(region_based_z_corr[score]>0.1) & (region_based_z_qs[score]<0.1)].index\n",
    "    \n",
    "    common = seltf.intersection(selgene)\n",
    "    common = common.intersection(selreg)\n",
    "    toptfs[score] = triad_corrs[score].dropna().mean(axis=1).loc[common].sort_values(ascending=False).head(20).index"
   ]
  },
  {
   "cell_type": "code",
   "execution_count": null,
   "id": "1a0c9e0b-6b81-478a-93ca-3b27c1042712",
   "metadata": {},
   "outputs": [],
   "source": [
    "df_toptfs = pd.DataFrame(dict([ (k,pd.Series(v)) for k,v in toptfs.items() ]))"
   ]
  },
  {
   "cell_type": "code",
   "execution_count": null,
   "id": "0f28c775-4629-4e6d-915d-4e9e812c4139",
   "metadata": {},
   "outputs": [],
   "source": [
    "for state in triad_corrs:\n",
    "    df = triad_corrs[state].copy()\n",
    "    df.columns = [\"TF GEX r\", \"eReg. Gene r\", \"eReg. Reg. r\"]\n",
    "    df.to_csv(f\"/add/path/here/{state}_triad_corr.csv\")"
   ]
  },
  {
   "cell_type": "code",
   "execution_count": null,
   "id": "86a90700-4425-4a4f-9e7b-6c0be50a4968",
   "metadata": {},
   "outputs": [],
   "source": [
    "pd.DataFrame(df_toptfs).to_csv(\"/add/path/here/toptfs_top20.csv\")"
   ]
  },
  {
   "cell_type": "code",
   "execution_count": null,
   "id": "a6694900-327c-4166-9c28-99c0e93b786c",
   "metadata": {},
   "outputs": [],
   "source": []
  },
  {
   "cell_type": "markdown",
   "id": "cc57b72b-74c9-476e-98e7-7dc5529de63f",
   "metadata": {},
   "source": [
    "## For TME cells"
   ]
  },
  {
   "cell_type": "code",
   "execution_count": null,
   "id": "81b3abf8-c342-42b8-ad1e-6ee4018441ae",
   "metadata": {},
   "outputs": [],
   "source": [
    "from scenicplus.RSS import *\n",
    "for sample_name in tqdm(all_scplus):\n",
    "    \n",
    "    regulon_specificity_scores(all_scplus[sample_name],\n",
    "                         'refined_wcancer_red',\n",
    "                         signature_keys=['Gene_based'],\n",
    "                         selected_regulons=all_scplus[sample_name].uns['selected_eRegulons']['Gene_based'],\n",
    "                         out_key_suffix='_gene_based',\n",
    "                         scale=False)"
   ]
  },
  {
   "cell_type": "code",
   "execution_count": null,
   "id": "e9b2efe1-a38d-4da5-9238-bf5e48dc6bd7",
   "metadata": {
    "scrolled": true
   },
   "outputs": [],
   "source": [
    "rank_df_TME = {}\n",
    "for ct in [\"Hepatic EC\", \"Kupffer cells\", \"TAM2\", \"TAM1\", \"Quiescent EC\", \"Inflammatory CAF\", \"HGF-CAF\", \"Fibroblast\", \n",
    "           \"DC\", \"B\", \"TCD4\", \"TCD8\", \"Angiogenic EC\",\"NK\",\"Treg\",\"Skeletal muscle\", \"Smooth muscle\"]:\n",
    "    print(ct)\n",
    "    rank_df_TME[ct] = []\n",
    "    for sample_name in tqdm(all_scplus):\n",
    "        df = all_scplus[sample_name].uns[\"RSS\"]['refined_wcancer_red_gene_based']\n",
    "        if ct in df.index:\n",
    "            print(sample_name)\n",
    "            seldf = df.loc[ct,:].sort_values(ascending=False).head(10)\n",
    "            #seldf = seldf[seldf>0.15]\n",
    "            seldf.name = sample_name\n",
    "            seldf.index = seldf.index.str.split(\"_\").str[0]\n",
    "            rank_df_TME[ct].append(seldf.groupby(level=0).median())\n",
    "    if len(rank_df_TME[ct])==0:\n",
    "        continue\n",
    "    else:\n",
    "        rank_df_TME[ct] = pd.concat(rank_df_TME[ct],axis=1)"
   ]
  },
  {
   "cell_type": "code",
   "execution_count": null,
   "id": "6cf177d7-9e61-419b-ad3d-7a994fc2b878",
   "metadata": {},
   "outputs": [],
   "source": [
    "seltfs_TME = {}\n",
    "for state in rank_df_TME.keys():\n",
    "    if len(rank_df_TME[state])>0:\n",
    "        seltfs_TME[state] = rank_df_TME[state][(~rank_df_TME[state].isna()).sum(axis=1)>=2]"
   ]
  },
  {
   "cell_type": "code",
   "execution_count": null,
   "id": "375a90fe-333a-4e52-a03a-42de3d82c87f",
   "metadata": {},
   "outputs": [],
   "source": [
    "all_seltfs_TME = []\n",
    "for state in seltfs_TME:\n",
    "    all_seltfs_TME.append(seltfs_TME[state].index)\n",
    "all_seltfs_TME = np.unique(np.hstack(all_seltfs_TME))"
   ]
  },
  {
   "cell_type": "markdown",
   "id": "a0b34f09-d68e-4451-9644-f40e82d0c06b",
   "metadata": {},
   "source": [
    "# Plotting SCENIC+ results"
   ]
  },
  {
   "cell_type": "markdown",
   "id": "dac4159b-87ab-467d-b619-29f14463b5c8",
   "metadata": {},
   "source": [
    "## cNMF results"
   ]
  },
  {
   "cell_type": "code",
   "execution_count": null,
   "id": "48947352-722e-4461-ad46-aa7af956c5ea",
   "metadata": {},
   "outputs": [],
   "source": [
    "def pretty_ax(ax, linew: float=1.5):\n",
    "    ax.spines['right'].set_visible(False)\n",
    "    ax.spines['top'].set_visible(False)\n",
    "    ax.tick_params(\n",
    "        axis='both',  \n",
    "        which='both',      \n",
    "        bottom=True,     \n",
    "        top=False,\n",
    "        left=False,\n",
    "        labelbottom=True,\n",
    "        labelleft = True)\n",
    "    ax.spines[\"bottom\"].set_linewidth(linew)\n",
    "    ax.spines[\"left\"].set_linewidth(linew)"
   ]
  },
  {
   "cell_type": "code",
   "execution_count": null,
   "id": "910fe61e-5322-4ba9-b027-6482834ee114",
   "metadata": {},
   "outputs": [],
   "source": [
    "for i,state in enumerate([f\"cNMF_{i}\" for i in range(1,6)]):\n",
    "\n",
    "    df = triad_corrs[f\"{state}_score\"].copy().dropna()\n",
    "    df.columns = [\"TF GEX r\", \"eReg. Gene r\", \"eReg. Region r\"]\n",
    "    \n",
    "    fig, ax = plt.subplots(1,1,figsize=(3,3))\n",
    "    \n",
    "    sns.scatterplot(data=df, x=\"eReg. Gene r\", y=\"eReg. Region r\", hue=\"TF GEX r\", \n",
    "                    palette=\"vlag\", hue_norm=(-0.4,0.4), ax=ax)\n",
    "    TFs_candidate = toptfs[f\"{state}_score\"]\n",
    "    pretty_ax(ax)\n",
    "    plt.legend(frameon=False, bbox_to_anchor=(1,1,0,0), \n",
    "               title=\"TF GEX r\", fontsize=13, prop={\"size\": 13})\n",
    "    #ax.get_legend().get_frame().set_facecolor('none')\n",
    "    #ax.get_legend().get_frame().set_linewidth(0.0)\n",
    "    #ax.get_legend().set(bbox_to_anchor=(1,1,0,0))\n",
    "    ax.set_title(f\"cNMF$_{i+1}$ top TFs\", fontsize=13)\n",
    "\n",
    "    ax.xaxis.set_tick_params(labelsize=13)\n",
    "    ax.yaxis.set_tick_params(labelsize=13)\n",
    "    ax.set_xlabel(\"Gene-based eReg. r\", fontsize=13)\n",
    "    ax.set_ylabel(\"Region-based eReg. r\", fontsize=13)\n",
    "    pretty_ax(ax, linew=3)\n",
    "    \n",
    "    \n",
    "    \n",
    "    if len(TFs_candidate)>0:\n",
    "        texts = []\n",
    "        for g in TFs_candidate:\n",
    "            x = df.loc[g,\"eReg. Gene r\"]\n",
    "            y = df.loc[g,\"eReg. Region r\"]\n",
    "            texts.append(ax.text(x,y,g,fontsize=13,c=\"red\"))\n",
    "        adjust_text(texts, only_move={'points':'y', 'texts':'y'}, arrowprops=dict(arrowstyle=\"-\", color='r', lw=1.5))\n",
    "\n",
    "    fig.savefig(f\"figures/{state}_scenicplus_discovery.png\", \n",
    "            dpi=200, bbox_inches=\"tight\")\n",
    "    fig.savefig(f\"figures/{state}_scenicplus_discovery.svg\", \n",
    "            dpi=200, bbox_inches=\"tight\")"
   ]
  },
  {
   "cell_type": "markdown",
   "id": "f8b1c610-3b70-4e7e-a996-b27f4117774e",
   "metadata": {},
   "source": [
    "## TME results"
   ]
  },
  {
   "cell_type": "code",
   "execution_count": null,
   "id": "ecbd9389",
   "metadata": {},
   "outputs": [],
   "source": [
    "os.makedirs(\"figures/TME\", exist_ok=True)"
   ]
  },
  {
   "cell_type": "code",
   "execution_count": null,
   "id": "1a61bb2b-e71c-4fcc-9c10-6292a6784249",
   "metadata": {},
   "outputs": [],
   "source": [
    "tf_order = [\"ERG\", \"ELK3\", \"GATA4\",'SMAD9',\"HLX\", \"ETS1\", \"FLI1\", 'KLF2', \"RUNX3\",'SOX17',\n",
    "            \"IKZF1\",\"IKZF3\",\"NFATC3\",\n",
    "            \"IRF8\",\"SPI1\",\"IRF5\",\"RBPJ\",\"ETV5\", \"MAFB\",\"MITF\",\"MEF2C\",\n",
    "            \"BNC2\",\"RUNX1\",\"RUNX2\",\"PRRX1\",\"NFATC4\",'MEIS1',\n",
    "            \"RARB\",\"SOX5\",\"TCF4\", ]"
   ]
  },
  {
   "cell_type": "code",
   "execution_count": null,
   "id": "1aec647a-a90d-4507-978a-f574813cdbd7",
   "metadata": {},
   "outputs": [],
   "source": [
    "celltype_order = [\"Angiogenic EC\", \"Hepatic EC\", \"Quiescent EC\", \"B\", \"TCD4\", \"TCD8\", \"Treg\", \"NK\",\n",
    "                  \"TAM1\",\"TAM2\", \"DC\",\"Kupffer cells\",\n",
    "                   \"Inflammatory CAF\", \"HGF-CAF\", \"Fibroblast\", \"Smooth muscle\", \"Skeletal muscle\",\n",
    "                  \"cNMF_2\",\"cNMF_3\",\"cNMF_4\",\"Carcinoma\"]"
   ]
  },
  {
   "cell_type": "code",
   "execution_count": null,
   "id": "e27645d4-9bca-4ac4-a976-ea47570a75c4",
   "metadata": {
    "scrolled": true
   },
   "outputs": [],
   "source": [
    "all_plot_dfs = []\n",
    "for sample_name in all_scplus:\n",
    "    gex_adata = sc.AnnData(all_scplus[sample_name].to_df(\"EXP\").copy())\n",
    "    sc.pp.normalize_total(adata=gex_adata, target_sum=10000)\n",
    "    sc.pp.log1p(gex_adata)\n",
    "    gex_df = pd.DataFrame(gex_adata[:,all_seltfs_TME].X.copy(),\n",
    "                          index=all_scplus[sample_name].cell_names,\n",
    "                          columns=all_seltfs_TME)\n",
    "    plot_df = pd.concat([gex_df,\n",
    "                     all_scplus[sample_name].metadata_cell[\"refined_wcancer_red\"]],axis=1)\n",
    "\n",
    "    all_plot_dfs.append(plot_df)\n",
    "all_plot_dfs = pd.concat(all_plot_dfs)\n",
    "\n",
    "full_gex = all_plot_dfs.iloc[:,:-1].copy()\n",
    "full_gex = (full_gex - full_gex.mean())/full_gex.std()\n",
    "all_plot_dfs = pd.concat([full_gex,all_plot_dfs.iloc[:,-1]],axis=1)\n",
    "\n",
    "all_plot_dfs = all_plot_dfs.groupby(by=\"refined_wcancer_red\").mean()"
   ]
  },
  {
   "cell_type": "code",
   "execution_count": null,
   "id": "76280379-1bca-42d8-a1a0-e5260d10fdaf",
   "metadata": {},
   "outputs": [],
   "source": [
    "fig, ax = plt.subplots(1,1,figsize=(10,8))\n",
    "sns.heatmap(data=all_plot_dfs.loc[celltype_order,tf_order], cmap=\"vlag\", linewidths=1, linecolor=\"grey\",\n",
    "            center=0, vmin=-1, vmax=2, ax=ax, cbar_kws={\"label\": \"TF Z-score\"})\n",
    "ax.set_xticklabels(ax.get_xticklabels(), rotation=45, ha=\"right\")\n",
    "ax.set_ylabel(\"\")\n",
    "fig.savefig(\"figures/TME/TME_scenic_TF_zscore.svg\", dpi=200, bbox_inches=\"tight\")"
   ]
  },
  {
   "cell_type": "code",
   "execution_count": null,
   "id": "4f33454e-b6d2-43be-ac98-d713bda2c218",
   "metadata": {},
   "outputs": [],
   "source": [
    "fig, ax = plt.subplots(1,1,figsize=(3,2))\n",
    "sns.heatmap(data=all_plot_dfs.loc[[\"Inflammatory CAF\",\"HGF-CAF\",\"Fibroblast\"],\n",
    "            [\"BNC2\",\"RUNX1\",\"RUNX2\",\"PRRX1\",\"NFATC4\",'MEIS1',]], linewidths=1, linecolor=\"grey\",\n",
    "            cmap=\"vlag\", center=0, vmin=-1, vmax=2, ax=ax, cbar_kws={\"label\": \"TF Z-score\"})\n",
    "ax.set_xticklabels(ax.get_xticklabels(), rotation=45, ha=\"right\")\n",
    "ax.set_ylabel(\"\")\n",
    "fig.savefig(\"figures/TME/TME_Fibroblasts_scenic_TF_zscore.svg\", dpi=200, bbox_inches=\"tight\")"
   ]
  },
  {
   "cell_type": "code",
   "execution_count": null,
   "id": "709462a2-3a93-4045-85ff-c740ff29b934",
   "metadata": {},
   "outputs": [],
   "source": [
    "all_plot_dfs = []\n",
    "for sample_name in all_scplus:\n",
    "    auc_alltfs = []\n",
    "    for tf in all_seltfs_TME:\n",
    "        auc_df = all_scplus[sample_name].uns[\"eRegulon_AUC\"][\"Gene_based\"].copy()\n",
    "        auc_df = auc_df.loc[:,auc_df.columns.str.contains(tf)]\n",
    "        if auc_df.shape[1]==0:\n",
    "            continue\n",
    "        \n",
    "        if auc_df.shape[1]>1:\n",
    "            auc_df = auc_df.loc[:,~auc_df.columns.str.contains(\"extended\")]\n",
    "            auc_df = auc_df.loc[:,~auc_df.columns.str.contains(\"+_-\", regex=False)]\n",
    "            auc_df = auc_df.loc[:,~auc_df.columns.str.contains(\"-_+\", regex=False)]\n",
    "        auc_df.columns = auc_df.columns.str.split(\"_\").str[0]\n",
    "        auc_alltfs.append(auc_df)\n",
    "    auc_alltfs = pd.concat(auc_alltfs,axis=1)\n",
    "    auc_alltfs = pd.concat([auc_alltfs, all_scplus[sample_name].metadata_cell[\"refined_wcancer_red\"]],\n",
    "                           axis=1)\n",
    "    all_plot_dfs.append(auc_alltfs)\n",
    "\n",
    "all_plot_dfs = pd.concat(all_plot_dfs).fillna(0)\n",
    "\n",
    "full_auc = all_plot_dfs.drop(\"refined_wcancer_red\",axis=1).copy()\n",
    "full_auc = (full_auc - full_auc.mean())/full_auc.std()\n",
    "all_plot_dfs = pd.concat([full_auc,all_plot_dfs[\"refined_wcancer_red\"]],axis=1)\n",
    "\n",
    "all_plot_dfs = all_plot_dfs.groupby(by=\"refined_wcancer_red\").mean()"
   ]
  },
  {
   "cell_type": "code",
   "execution_count": null,
   "id": "56dee185-7b01-456d-9e25-31c16bad4a7d",
   "metadata": {},
   "outputs": [],
   "source": [
    "fig, ax = plt.subplots(1,1,figsize=(8,8))\n",
    "sns.heatmap(data=all_plot_dfs.loc[celltype_order,tf_order], cmap=\"vlag\", center=0, linewidths=1, linecolor=\"grey\",\n",
    "            vmin=-1, vmax=2, ax=ax, cbar_kws={\"label\": \"eRegulon Gene-based expression, Z-score\"})\n",
    "ax.set_xticklabels(ax.get_xticklabels(), rotation=45, ha=\"right\")\n",
    "ax.set_ylabel(\"\")\n",
    "fig.savefig(\"figures/TME/TME_scenic_eRegulon_gene_based_zscore.svg\", dpi=200, bbox_inches=\"tight\")"
   ]
  },
  {
   "cell_type": "code",
   "execution_count": null,
   "id": "2b49534a-697b-445a-b4a0-68f88c87d13f",
   "metadata": {},
   "outputs": [],
   "source": [
    "fig, ax = plt.subplots(1,1,figsize=(3,2))\n",
    "sns.heatmap(data=all_plot_dfs.loc[[\"Inflammatory CAF\",\"HGF-CAF\",\"Fibroblast\"],\n",
    "            [\"BNC2\",\"RUNX1\",\"RUNX2\",\"PRRX1\",\"NFATC4\",'MEIS1',]], cmap=\"vlag\", center=0, vmin=-1, vmax=3, linewidths=1, linecolor=\"grey\",\n",
    "            ax=ax, cbar_kws={\"label\": \"eRegulon Gene-based expression, Z-score\"})\n",
    "ax.set_xticklabels(ax.get_xticklabels(), rotation=45, ha=\"right\")\n",
    "ax.set_ylabel(\"\")\n",
    "fig.savefig(\"figures/TME/TME_Fibroblasts_eRegulon_gene_based_zscore.svg\", dpi=200, bbox_inches=\"tight\")"
   ]
  },
  {
   "cell_type": "code",
   "execution_count": null,
   "id": "3456acd8-34ff-43a8-a9fd-59a9612b0afd",
   "metadata": {},
   "outputs": [],
   "source": [
    "all_plot_dfs = []\n",
    "for sample_name in all_scplus:\n",
    "    auc_alltfs = []\n",
    "    for tf in all_seltfs_TME:\n",
    "        auc_df = all_scplus[sample_name].uns[\"eRegulon_AUC\"][\"Region_based\"].copy()\n",
    "        auc_df = auc_df.loc[:,auc_df.columns.str.contains(tf)]\n",
    "        if auc_df.shape[1]==0:\n",
    "            continue\n",
    "        \n",
    "        if auc_df.shape[1]>1:\n",
    "            auc_df = auc_df.loc[:,~auc_df.columns.str.contains(\"extended\")]\n",
    "            auc_df = auc_df.loc[:,~auc_df.columns.str.contains(\"+_-\", regex=False)]\n",
    "            auc_df = auc_df.loc[:,~auc_df.columns.str.contains(\"-_+\", regex=False)]\n",
    "        auc_df.columns = auc_df.columns.str.split(\"_\").str[0]\n",
    "        auc_alltfs.append(auc_df)\n",
    "    auc_alltfs = pd.concat(auc_alltfs,axis=1)\n",
    "    auc_alltfs = pd.concat([auc_alltfs, all_scplus[sample_name].metadata_cell[\"refined_wcancer_red\"]],\n",
    "                           axis=1)\n",
    "    all_plot_dfs.append(auc_alltfs)\n",
    "\n",
    "all_plot_dfs = pd.concat(all_plot_dfs).fillna(0)\n",
    "\n",
    "full_auc = all_plot_dfs.drop(\"refined_wcancer_red\",axis=1).copy()\n",
    "full_auc = (full_auc - full_auc.mean())/full_auc.std()\n",
    "all_plot_dfs = pd.concat([full_auc,all_plot_dfs[\"refined_wcancer_red\"]],axis=1)\n",
    "\n",
    "all_plot_dfs = all_plot_dfs.groupby(by=\"refined_wcancer_red\").mean()"
   ]
  },
  {
   "cell_type": "code",
   "execution_count": null,
   "id": "2e342c4f-6ba9-4fb3-b66d-bde76d5a681f",
   "metadata": {},
   "outputs": [],
   "source": [
    "fig, ax = plt.subplots(1,1,figsize=(8,8))\n",
    "sns.heatmap(data=all_plot_dfs.loc[celltype_order,tf_order], cmap=\"vlag\", center=0, vmin=-1, vmax=2, linewidths=1, linecolor=\"grey\",\n",
    "            ax=ax, cbar_kws={\"label\": \"eRegulon Region-based expression, Z-score\"})\n",
    "ax.set_xticklabels(ax.get_xticklabels(), rotation=45, ha=\"right\")\n",
    "ax.set_ylabel(\"\")\n",
    "fig.savefig(\"figures/TME/TME_scenic_eRegulon_region_based_zscore.svg\", dpi=200, bbox_inches=\"tight\")"
   ]
  },
  {
   "cell_type": "code",
   "execution_count": null,
   "id": "3953882d-320c-42e2-9549-07ab5e9ef64e",
   "metadata": {},
   "outputs": [],
   "source": [
    "fig, ax = plt.subplots(1,1,figsize=(3,2))\n",
    "sns.heatmap(data=all_plot_dfs.loc[[\"Inflammatory CAF\",\"HGF-CAF\",\"Fibroblast\"],\n",
    "            [\"BNC2\",\"RUNX1\",\"RUNX2\",\"PRRX1\",\"NFATC4\",'MEIS1',]], cmap=\"vlag\", center=0, vmin=-1, vmax=2, linewidths=1, linecolor=\"grey\",\n",
    "            ax=ax, cbar_kws={\"label\": \"eRegulon Region-based expression, Z-score\"})\n",
    "ax.set_xticklabels(ax.get_xticklabels(), rotation=45, ha=\"right\")\n",
    "ax.set_ylabel(\"\")\n",
    "fig.savefig(\"figures/TME/TME_Fibroblasts_eRegulon_region_based_zscore.svg\", dpi=200, bbox_inches=\"tight\")"
   ]
  },
  {
   "cell_type": "code",
   "execution_count": null,
   "id": "df751df2-bfe7-4efc-9d52-10d72278de5e",
   "metadata": {},
   "outputs": [],
   "source": []
  },
  {
   "cell_type": "code",
   "execution_count": null,
   "id": "79a93736-de61-4b6a-a301-64b305b4dad9",
   "metadata": {},
   "outputs": [],
   "source": []
  }
 ],
 "metadata": {
  "kernelspec": {
   "display_name": "Python 3 (ipykernel)",
   "language": "python",
   "name": "python3"
  },
  "language_info": {
   "codemirror_mode": {
    "name": "ipython",
    "version": 3
   },
   "file_extension": ".py",
   "mimetype": "text/x-python",
   "name": "python",
   "nbconvert_exporter": "python",
   "pygments_lexer": "ipython3",
   "version": "3.9.16"
  }
 },
 "nbformat": 4,
 "nbformat_minor": 5
}
