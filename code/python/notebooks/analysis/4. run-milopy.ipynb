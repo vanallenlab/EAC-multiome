{
 "cells": [
  {
   "cell_type": "code",
   "execution_count": null,
   "id": "49fc482a-1e5b-4591-a670-41483e6483a0",
   "metadata": {},
   "outputs": [],
   "source": [
    "import scanpy as sc\n",
    "import numpy as np\n",
    "import pandas as pd\n",
    "import milopy\n",
    "import milopy.core as milo\n",
    "import palettable\n",
    "import seaborn as sns\n",
    "import matplotlib.pyplot as plt"
   ]
  },
  {
   "cell_type": "code",
   "execution_count": null,
   "id": "d8ecf956-ca4c-4153-8b30-b57b5e8b251a",
   "metadata": {},
   "outputs": [],
   "source": [
    "adata = sc.read_h5ad(\"/add/path/here/full_cohort.h5ad\")"
   ]
  },
  {
   "cell_type": "code",
   "execution_count": null,
   "id": "c95b2ec5-1a0a-4c45-899d-cde5c0185b0e",
   "metadata": {},
   "outputs": [],
   "source": [
    "refined_annotations = pd.read_csv(\"/add/path/here/refined_annotations.csv\",index_col=0)\n",
    "\n",
    "refined_annotations.columns = [\"refined_annotations\"]"
   ]
  },
  {
   "cell_type": "code",
   "execution_count": null,
   "id": "7239c0db-3eab-4a82-8a02-77e8bd8c49ed",
   "metadata": {},
   "outputs": [],
   "source": [
    "highlevel_refined = {\"Hepatocyte\": \"Epithelial\", \n",
    "                     \"Carcinoma\": \"Carcinoma\", \n",
    "                     \"Fibroblast\": \"Fibroblast\", \n",
    "                     \"Quiescent endothelial cells\": \"Endothelial\", \n",
    "                     \"Smooth muscle\": \"Muscle\", \n",
    "                     \"Skeletal muscle\": \"Muscle\",\n",
    "                     \"TAM2\": \"Myeloid\", \"TAM3\": \"Myeloid\",\n",
    "                     \"TCD4\": \"Lymphoid\", \n",
    "                     \"Inflammatory CAF\": \"Fibroblast\", \n",
    "                     \"Adipose CAF\": \"Fibroblast\",\n",
    "                     \"HGF-CAF\": \"Fibroblast\",\n",
    "                     \"TAM1\": \"Myeloid\", \n",
    "                     \"Myeloid-HighMT\": \"Unknown/technical\", \n",
    "                     \"Angiogenic EC\": \"Endothelial\", \n",
    "                     \"Quiescent EC\": \"Endothelial\", \n",
    "                     \"Venous EC\": \"Endothelial\",\n",
    "                     \"TCD8\": \"Lymphoid\", \n",
    "                     \"B\": \"Lymphoid\", \n",
    "                     \"DC\": \"Myeloid\", \n",
    "                     \"Hepatic EC\": \"Endothelial\", \n",
    "                     \"Kupffer cells\": \"Myeloid\", \n",
    "                     \"NK\": \"Lymphoid\", \n",
    "                     \"Treg\": \"Lymphoid\", \n",
    "                     \"StrMus-HighMT\": \"Unknown/technical\", \n",
    "                     \"T-HighMT\": \"Unknown/technical\", \n",
    "                     \"Mast\": \"Myeloid\", \n",
    "                     \"Adipocytes\": \"Stromal/Muscle\", \n",
    "                     \"Endo-HighMT\": \"Unknown/technical\"}"
   ]
  },
  {
   "cell_type": "code",
   "execution_count": null,
   "id": "252b24ff-408a-4e2e-a49e-c0d11a0faa5a",
   "metadata": {},
   "outputs": [],
   "source": [
    "adata.obs = pd.concat([adata.obs,refined_annotations],axis=1)\n",
    "adata.obs[\"highlevel_refined\"] = adata.obs.refined_annotations.replace(highlevel_refined)"
   ]
  },
  {
   "cell_type": "markdown",
   "id": "bc98b7af-8d45-4249-923c-36095a447479",
   "metadata": {},
   "source": [
    "# Subset macrophage"
   ]
  },
  {
   "cell_type": "markdown",
   "id": "f6e6e2e5-0ad2-4544-8ce2-1c2572b25c86",
   "metadata": {},
   "source": [
    "## Comparing primary vs metastatic"
   ]
  },
  {
   "cell_type": "code",
   "execution_count": null,
   "id": "de0933ac-2aa6-4511-b6a7-21fbc2f95366",
   "metadata": {},
   "outputs": [],
   "source": [
    "subadata = adata[(adata.obs.highlevel_refined==\"Myeloid\") & (adata.obs.Tumor==True)].copy()\n",
    "sc.tl.pca(subadata)\n",
    "sc.external.pp.harmony_integrate(subadata, key=\"sample_id\", basis=\"X_pca\", max_iter_harmony=20)\n",
    "sc.pp.neighbors(subadata, use_rep=\"X_pca_harmony\", n_neighbors=20)\n",
    "sc.tl.umap(subadata)"
   ]
  },
  {
   "cell_type": "code",
   "execution_count": null,
   "id": "ec26a401-525b-41fc-802a-82eb87f4eb96",
   "metadata": {},
   "outputs": [],
   "source": [
    "colorlist = palettable.colorbrewer.sequential.Greens_9.mpl_colors\n",
    "ctlist = subadata.obs.refined_annotations.unique()\n",
    "colormapping = {ct: colorlist[i+1] for i,ct in enumerate(ctlist)}\n",
    "colormapping[\"Mixed\"] = \"whitesmoke\""
   ]
  },
  {
   "cell_type": "code",
   "execution_count": null,
   "id": "22846603-00c7-4d3a-a04e-584f017f6d54",
   "metadata": {},
   "outputs": [],
   "source": [
    "subadata.X = subadata.layers[\"counts\"] "
   ]
  },
  {
   "cell_type": "code",
   "execution_count": null,
   "id": "56da3048-6e91-47de-9cca-465f0ab8c8c3",
   "metadata": {},
   "outputs": [],
   "source": [
    "## Assign cells to neighbourhoods\n",
    "milo.make_nhoods(subadata)\n",
    "\n",
    "## Count cells from each sample in each nhood\n",
    "milo.count_nhoods(subadata, sample_col=\"sample_id\")\n",
    "\n",
    "## Test for differential abundance between conditions\n",
    "milo.DA_nhoods(subadata, design=\"~ Metastatic\")"
   ]
  },
  {
   "cell_type": "code",
   "execution_count": null,
   "id": "e65be1bd-d104-4227-a370-f6026b26c900",
   "metadata": {},
   "outputs": [],
   "source": [
    "fig, ax = plt.subplots(1,1)\n",
    "milopy.utils.build_nhood_graph(subadata)\n",
    "milopy.plot.plot_nhood_graph(subadata, alpha=0.1, min_size=4, ax=ax)\n",
    "fig.savefig(\"figures/myeloid/DA_milo_myeloid_umap_fdr.png\", dpi=200, bbox_inches=\"tight\")"
   ]
  },
  {
   "cell_type": "code",
   "execution_count": null,
   "id": "26a582ab-29e9-4490-a62e-cf6477c8f48b",
   "metadata": {},
   "outputs": [],
   "source": [
    "milopy.utils.annotate_nhoods(subadata, anno_col='refined_annotations')"
   ]
  },
  {
   "cell_type": "code",
   "execution_count": null,
   "id": "a316d688-3f2a-4c25-94e7-a264b0910e72",
   "metadata": {},
   "outputs": [],
   "source": [
    "plt.hist(subadata.uns['nhood_adata'].obs[\"nhood_annotation_frac\"]);\n",
    "plt.xlabel(\"celltype fraction\")"
   ]
  },
  {
   "cell_type": "code",
   "execution_count": null,
   "id": "e1635b80-299b-4d90-8701-5e2e3f1f6a94",
   "metadata": {},
   "outputs": [],
   "source": [
    "subadata.uns['nhood_adata'].obs.loc[subadata.uns['nhood_adata'].obs[\"nhood_annotation_frac\"] < 0.6, \"nhood_annotation\"] = \"Mixed\""
   ]
  },
  {
   "cell_type": "code",
   "execution_count": null,
   "id": "9260eaad-22b8-4f63-a53c-cf9f4c8ec683",
   "metadata": {},
   "outputs": [],
   "source": [
    "fig, ax = plt.subplots(1,1)\n",
    "sns.swarmplot(data=subadata.uns['nhood_adata'].obs, x=\"nhood_annotation\", \n",
    "              y=\"logFC\", palette=colormapping, order=[\"DC\", \"Mast\", \"Kupffer cells\", \"TAM1\", \"TAM2\"], ax=ax)\n",
    "sns.boxplot(data=subadata.uns['nhood_adata'].obs, x=\"nhood_annotation\", y=\"logFC\",\n",
    "                 showcaps=False,width=0.3,boxprops={'facecolor':'None','linewidth':1},\n",
    "                 showfliers=False,whiskerprops={'linewidth':1}, order=[\"DC\", \"Mast\", \"Kupffer cells\", \"TAM1\", \"TAM2\"],ax=ax)\n",
    "ax.set_title(\"Differential abundance, Myeloid\", fontsize=15, style=\"italic\") \n",
    "ax.spines[[\"top\",\"right\"]].set_visible(False)\n",
    "ax.spines[[\"bottom\",\"left\"]].set_linewidth(4)\n",
    "ax.set_xticklabels(ax.get_xticklabels(), fontsize=15, rotation=45)\n",
    "ax.set_xlabel(\"\")\n",
    "ax.set_yticklabels(ax.get_yticklabels(), fontsize=15)\n",
    "ax.set_ylabel(\"log(FC)\", fontsize=15)\n",
    "ax.hlines(y=0, xmin=ax.get_xlim()[0], xmax=ax.get_xlim()[1], linestyles=\"dashed\", color=\"grey\")\n",
    "fig.savefig(\"figures/myeloid/DA_milo_myeloid_boxplot.png\", dpi=200, bbox_inches=\"tight\")\n",
    "fig.savefig(\"figures/myeloid/DA_milo_myeloid_boxplot.svg\", dpi=200, bbox_inches=\"tight\")"
   ]
  },
  {
   "cell_type": "markdown",
   "id": "07e7ece1-e425-4056-a9fe-14861c1a5787",
   "metadata": {},
   "source": [
    "## Comparing normal vs tumor"
   ]
  },
  {
   "cell_type": "code",
   "execution_count": null,
   "id": "3b2f6410-de0e-4301-96d2-72016bd9b725",
   "metadata": {},
   "outputs": [],
   "source": [
    "subadata = adata[(adata.obs.highlevel_refined==\"Myeloid\")].copy()\n",
    "sc.tl.pca(subadata)\n",
    "sc.external.pp.harmony_integrate(subadata, key=\"sample_id\", basis=\"X_pca\", max_iter_harmony=20)\n",
    "sc.pp.neighbors(subadata, use_rep=\"X_pca_harmony\", n_neighbors=20)\n",
    "sc.tl.umap(subadata)"
   ]
  },
  {
   "cell_type": "code",
   "execution_count": null,
   "id": "69f67ca8-0a33-4f05-a196-b340c0e959b8",
   "metadata": {},
   "outputs": [],
   "source": [
    "colorlist = palettable.colorbrewer.sequential.Greens_9.mpl_colors\n",
    "ctlist = subadata.obs.refined_annotations.unique()\n",
    "colormapping = {ct: colorlist[i+1] for i,ct in enumerate(ctlist)}\n",
    "colormapping[\"Mixed\"] = \"whitesmoke\""
   ]
  },
  {
   "cell_type": "code",
   "execution_count": null,
   "id": "0a2f7cb0-4b90-4aaf-947c-52b683a90163",
   "metadata": {},
   "outputs": [],
   "source": [
    "subadata.X = subadata.layers[\"counts\"] "
   ]
  },
  {
   "cell_type": "code",
   "execution_count": null,
   "id": "ef645064-fc40-43bd-b846-6c18a0837f7c",
   "metadata": {},
   "outputs": [],
   "source": [
    "## Assign cells to neighbourhoods\n",
    "milo.make_nhoods(subadata)\n",
    "\n",
    "## Count cells from each sample in each nhood\n",
    "milo.count_nhoods(subadata, sample_col=\"sample_id\")\n",
    "\n",
    "## Test for differential abundance between conditions\n",
    "milo.DA_nhoods(subadata, design=\"~ Tumor\")"
   ]
  },
  {
   "cell_type": "code",
   "execution_count": null,
   "id": "7565fa87-5f2e-4170-8aac-07e85b63b981",
   "metadata": {},
   "outputs": [],
   "source": [
    "fig, ax = plt.subplots(1,1)\n",
    "milopy.utils.build_nhood_graph(subadata)\n",
    "milopy.plot.plot_nhood_graph(subadata, alpha=0.1, min_size=4, ax=ax)\n",
    "fig.savefig(\"figures/myeloid/DA_milo_myeloid_tumorstatus_umap_fdr.png\", dpi=200, bbox_inches=\"tight\")"
   ]
  },
  {
   "cell_type": "code",
   "execution_count": null,
   "id": "34478bd9-2dcf-43be-a084-088727af9cf9",
   "metadata": {},
   "outputs": [],
   "source": [
    "milopy.utils.annotate_nhoods(subadata, anno_col='refined_annotations')"
   ]
  },
  {
   "cell_type": "code",
   "execution_count": null,
   "id": "30c07eb1-37f3-4271-8418-1e450155e43d",
   "metadata": {},
   "outputs": [],
   "source": [
    "plt.hist(subadata.uns['nhood_adata'].obs[\"nhood_annotation_frac\"]);\n",
    "plt.xlabel(\"celltype fraction\")"
   ]
  },
  {
   "cell_type": "code",
   "execution_count": null,
   "id": "6dc0a571-ea27-4bb4-b2fc-7d135fbaa90e",
   "metadata": {},
   "outputs": [],
   "source": [
    "subadata.uns['nhood_adata'].obs.loc[subadata.uns['nhood_adata'].obs[\"nhood_annotation_frac\"] < 0.6, \"nhood_annotation\"] = \"Mixed\""
   ]
  },
  {
   "cell_type": "code",
   "execution_count": null,
   "id": "578e0342-58bf-4238-af65-95cc3b633862",
   "metadata": {},
   "outputs": [],
   "source": [
    "fig, ax = plt.subplots(1,1)\n",
    "sns.swarmplot(data=subadata.uns['nhood_adata'].obs, x=\"nhood_annotation\", \n",
    "              y=\"logFC\", palette=colormapping, order=[\"DC\", \"Mast\", \"Kupffer cells\", \"TAM1\", \"TAM2\"], ax=ax)\n",
    "sns.boxplot(data=subadata.uns['nhood_adata'].obs, x=\"nhood_annotation\", y=\"logFC\",\n",
    "                 showcaps=False,width=0.3,boxprops={'facecolor':'None','linewidth':1},\n",
    "                 showfliers=False,whiskerprops={'linewidth':1}, order=[\"DC\", \"Mast\", \"Kupffer cells\", \"TAM1\", \"TAM2\"],ax=ax)\n",
    "ax.set_title(\"Differential abundance, Myeloid\", fontsize=15, style=\"italic\") \n",
    "ax.spines[[\"top\",\"right\"]].set_visible(False)\n",
    "ax.spines[[\"bottom\",\"left\"]].set_linewidth(4)\n",
    "ax.set_xticklabels(ax.get_xticklabels(), fontsize=15, rotation=45)\n",
    "ax.set_xlabel(\"\")\n",
    "ax.set_yticklabels(ax.get_yticklabels(), fontsize=15)\n",
    "ax.set_ylabel(\"log(FC)\", fontsize=15)\n",
    "ax.hlines(y=0, xmin=ax.get_xlim()[0], xmax=ax.get_xlim()[1], linestyles=\"dashed\", color=\"grey\")\n",
    "fig.savefig(\"figures/myeloid/DA_milo_myeloid_tumorstatus_boxplot.png\", dpi=200, bbox_inches=\"tight\")\n",
    "fig.savefig(\"figures/myeloid/DA_milo_myeloid_tumorstatus_boxplot.svg\", dpi=200, bbox_inches=\"tight\")"
   ]
  },
  {
   "cell_type": "code",
   "execution_count": null,
   "id": "738fa32b-1239-4e4b-a5c9-72b96137dce0",
   "metadata": {},
   "outputs": [],
   "source": []
  },
  {
   "cell_type": "markdown",
   "id": "7c7982b5-e3d4-45c3-a0aa-5181e1e04b6a",
   "metadata": {},
   "source": [
    "# Subset lymphoid"
   ]
  },
  {
   "cell_type": "code",
   "execution_count": null,
   "id": "f56c3d4a-6caf-4a53-9acb-6a94f982c483",
   "metadata": {},
   "outputs": [],
   "source": [
    "subadata = adata[(adata.obs.highlevel_refined==\"Lymphoid\") & (adata.obs.Tumor==True)].copy()\n",
    "sc.tl.pca(subadata)\n",
    "sc.external.pp.harmony_integrate(subadata, key=\"sample_id\", basis=\"X_pca\", max_iter_harmony=20)\n",
    "sc.pp.neighbors(subadata, use_rep=\"X_pca_harmony\", n_neighbors=20)\n",
    "sc.tl.umap(subadata)"
   ]
  },
  {
   "cell_type": "code",
   "execution_count": null,
   "id": "8156eccd-bb00-412c-8754-57f9e8e110c8",
   "metadata": {},
   "outputs": [],
   "source": [
    "colorlist = palettable.colorbrewer.sequential.Greys_9.mpl_colors\n",
    "ctlist = subadata.obs.refined_annotations.unique()\n",
    "colormapping = {ct: colorlist[i+2] for i,ct in enumerate(ctlist)}\n",
    "colormapping[\"B\"] = colorlist[8]\n",
    "colormapping[\"Mixed\"] = \"whitesmoke\""
   ]
  },
  {
   "cell_type": "code",
   "execution_count": null,
   "id": "e681dc41-2eeb-4005-a86a-6fbd6ffdf36a",
   "metadata": {},
   "outputs": [],
   "source": [
    "subadata.X = subadata.layers[\"counts\"] \n",
    "\n",
    "subadata.obs[\"Condition\"] = subadata.obs.sample_id.replace(clinical[\"Metastatic?\"].to_dict())"
   ]
  },
  {
   "cell_type": "code",
   "execution_count": null,
   "id": "e794c762-b779-4265-87f7-98bbbda9c8c7",
   "metadata": {},
   "outputs": [],
   "source": [
    "## Assign cells to neighbourhoods\n",
    "milo.make_nhoods(subadata)\n",
    "\n",
    "## Count cells from each sample in each nhood\n",
    "milo.count_nhoods(subadata, sample_col=\"sample_id\")\n",
    "\n",
    "## Test for differential abundance between conditions\n",
    "milo.DA_nhoods(subadata, design=\"~ Condition\")"
   ]
  },
  {
   "cell_type": "code",
   "execution_count": null,
   "id": "fef58858-9ceb-453d-8cce-f489f9d7e2c4",
   "metadata": {},
   "outputs": [],
   "source": [
    "fig, ax = plt.subplots(1,1)\n",
    "milopy.utils.build_nhood_graph(subadata)\n",
    "milopy.plot.plot_nhood_graph(subadata, alpha=0.1, min_size=4, ax=ax)\n",
    "fig.savefig(\"figures/lymphoid/DA_milo_lymphoid_umap_fdr.png\", dpi=200, bbox_inches=\"tight\")"
   ]
  },
  {
   "cell_type": "code",
   "execution_count": null,
   "id": "7b6a925d-dade-44d4-b631-5d40b44f5432",
   "metadata": {},
   "outputs": [],
   "source": [
    "fig= sc.pl.umap(subadata, color=[\"refined_annotations\"], \n",
    "           ncols=1, frameon=False, palette=colormapping, return_fig=True)\n",
    "fig.savefig(\"figures/lymphoid/umap_annotations_subsetmal.png\",dpi=200,bbox_inches=\"tight\")"
   ]
  },
  {
   "cell_type": "code",
   "execution_count": null,
   "id": "2c3e7781-11a2-4391-9657-65711780e568",
   "metadata": {},
   "outputs": [],
   "source": [
    "milopy.utils.annotate_nhoods(subadata, anno_col='refined_annotations')"
   ]
  },
  {
   "cell_type": "code",
   "execution_count": null,
   "id": "d3458332-adfe-4d27-9820-0c21af2cc36a",
   "metadata": {},
   "outputs": [],
   "source": [
    "plt.hist(subadata.uns['nhood_adata'].obs[\"nhood_annotation_frac\"]);\n",
    "plt.xlabel(\"celltype fraction\")"
   ]
  },
  {
   "cell_type": "code",
   "execution_count": null,
   "id": "fb5cc51e-8b5c-4735-b795-55df90dce1b6",
   "metadata": {},
   "outputs": [],
   "source": [
    "subadata.uns['nhood_adata'].obs.loc[subadata.uns['nhood_adata'].obs[\"nhood_annotation_frac\"] < 0.6, \"nhood_annotation\"] = \"Mixed\""
   ]
  },
  {
   "cell_type": "code",
   "execution_count": null,
   "id": "b462eb81-dd65-4ad4-ab9e-a2c216dc3b97",
   "metadata": {},
   "outputs": [],
   "source": [
    "fig, ax = plt.subplots(1,1)\n",
    "sns.swarmplot(data=subadata.uns['nhood_adata'].obs, x=\"nhood_annotation\", \n",
    "              y=\"logFC\", palette=colormapping, order=[\"B\", \"NK\", \"TCD8\", \"TCD4\", \"Treg\", \"Mixed\"], ax=ax)\n",
    "sns.boxplot(data=subadata.uns['nhood_adata'].obs, x=\"nhood_annotation\", y=\"logFC\",\n",
    "                 showcaps=False,width=0.3,boxprops={'facecolor':'None','linewidth':1},\n",
    "                 showfliers=False,whiskerprops={'linewidth':1}, order=[\"B\", \"NK\", \"TCD8\", \"TCD4\", \"Treg\", \"Mixed\"],ax=ax)\n",
    "ax.set_title(\"Differential abundance, Lymphoid\", fontsize=15, style=\"italic\") \n",
    "ax.spines[[\"top\",\"right\"]].set_visible(False)\n",
    "ax.spines[[\"bottom\",\"left\"]].set_linewidth(4)\n",
    "ax.set_xticklabels(ax.get_xticklabels(), fontsize=15, rotation=45)\n",
    "ax.set_xlabel(\"\")\n",
    "ax.set_yticklabels(ax.get_yticklabels(), fontsize=15)\n",
    "ax.set_ylabel(\"log(FC)\", fontsize=15)\n",
    "ax.hlines(y=0, xmin=ax.get_xlim()[0], xmax=ax.get_xlim()[1], linestyles=\"dashed\", color=\"grey\")\n",
    "fig.savefig(\"figures/lymphoid/DA_milo_lymphoid_boxplot.png\", dpi=200, bbox_inches=\"tight\")"
   ]
  },
  {
   "cell_type": "markdown",
   "id": "2aead91b-d8d5-4eca-832d-e07c61c44668",
   "metadata": {},
   "source": [
    "# Subset fibroblast"
   ]
  },
  {
   "cell_type": "code",
   "execution_count": null,
   "id": "201f5db1-97ec-48c2-a1d6-7d879cc51cc2",
   "metadata": {},
   "outputs": [],
   "source": [
    "subadata = adata[(adata.obs.highlevel_refined==\"Fibroblast\") & (adata.obs.Tumor==True)].copy()\n",
    "sc.tl.pca(subadata)\n",
    "sc.external.pp.harmony_integrate(subadata, key=\"sample_id\", basis=\"X_pca\", max_iter_harmony=20)\n",
    "sc.pp.neighbors(subadata, use_rep=\"X_pca_harmony\", n_neighbors=20)\n",
    "sc.tl.umap(subadata)"
   ]
  },
  {
   "cell_type": "code",
   "execution_count": null,
   "id": "1dda25be-3f73-4500-9c4b-2130babf595f",
   "metadata": {},
   "outputs": [],
   "source": [
    "colorlist = palettable.colorbrewer.sequential.Oranges_5.mpl_colors\n",
    "ctlist = subadata.obs.refined_annotations.unique()\n",
    "colormapping = {ct: colorlist[i+1] for i,ct in enumerate(ctlist)}\n",
    "colormapping[\"Mixed\"] = \"whitesmoke\""
   ]
  },
  {
   "cell_type": "code",
   "execution_count": null,
   "id": "0424adaf-9330-4713-9779-498ba29c07e0",
   "metadata": {},
   "outputs": [],
   "source": [
    "subadata.X = subadata.layers[\"counts\"] \n",
    "\n",
    "subadata.obs[\"Condition\"] = subadata.obs.sample_id.replace(clinical[\"Metastatic?\"].to_dict())"
   ]
  },
  {
   "cell_type": "code",
   "execution_count": null,
   "id": "b09e2e75-a37f-4819-a454-9cb2acf1dc8b",
   "metadata": {},
   "outputs": [],
   "source": [
    "## Assign cells to neighbourhoods\n",
    "milo.make_nhoods(subadata)\n",
    "\n",
    "## Count cells from each sample in each nhood\n",
    "milo.count_nhoods(subadata, sample_col=\"sample_id\")\n",
    "\n",
    "## Test for differential abundance between conditions\n",
    "milo.DA_nhoods(subadata, design=\"~ Condition\")"
   ]
  },
  {
   "cell_type": "code",
   "execution_count": null,
   "id": "903c0e58-fbf7-4f48-a942-b550925ba6a9",
   "metadata": {},
   "outputs": [],
   "source": [
    "fig, ax = plt.subplots(1,1)\n",
    "milopy.utils.build_nhood_graph(subadata)\n",
    "milopy.plot.plot_nhood_graph(subadata, alpha=0.1, min_size=4, ax=ax)\n",
    "fig.savefig(\"figures/fibroblast/DA_milo_fibroblast_umap_fdr.png\", dpi=200, bbox_inches=\"tight\")"
   ]
  },
  {
   "cell_type": "code",
   "execution_count": null,
   "id": "67c74f12-2f32-4b59-ba27-ed4cb57001ae",
   "metadata": {},
   "outputs": [],
   "source": [
    "fig= sc.pl.umap(subadata, color=[\"refined_annotations\"], \n",
    "           ncols=1, frameon=False, palette=colormapping, return_fig=True)\n",
    "fig.savefig(\"figures/fibroblast/umap_annotations_subsetmal.png\",dpi=200,bbox_inches=\"tight\")"
   ]
  },
  {
   "cell_type": "code",
   "execution_count": null,
   "id": "6bf5084c-f321-45a4-a9c5-7f7e22af9cc6",
   "metadata": {},
   "outputs": [],
   "source": [
    "milopy.utils.annotate_nhoods(subadata, anno_col='refined_annotations')"
   ]
  },
  {
   "cell_type": "code",
   "execution_count": null,
   "id": "0cc8ae08-f136-4cc2-ae3c-441d025136b8",
   "metadata": {},
   "outputs": [],
   "source": [
    "plt.hist(subadata.uns['nhood_adata'].obs[\"nhood_annotation_frac\"]);\n",
    "plt.xlabel(\"celltype fraction\")"
   ]
  },
  {
   "cell_type": "code",
   "execution_count": null,
   "id": "60d1a373-535d-4066-95f5-48aae767fa8b",
   "metadata": {},
   "outputs": [],
   "source": [
    "subadata.uns['nhood_adata'].obs.loc[subadata.uns['nhood_adata'].obs[\"nhood_annotation_frac\"] < 0.6, \"nhood_annotation\"] = \"Mixed\""
   ]
  },
  {
   "cell_type": "code",
   "execution_count": null,
   "id": "7dd62631-697c-4256-8226-06d61c6f06f0",
   "metadata": {},
   "outputs": [],
   "source": [
    "fig, ax = plt.subplots(1,1)\n",
    "sns.swarmplot(data=subadata.uns['nhood_adata'].obs, x=\"nhood_annotation\", \n",
    "              y=\"logFC\", palette=colormapping, order=[\"Fibroblast\", \"Inflammatory CAF\", \"Adipose CAF\", \"HGF-CAF\", \"Mixed\"], ax=ax)\n",
    "sns.boxplot(data=subadata.uns['nhood_adata'].obs, x=\"nhood_annotation\", y=\"logFC\",\n",
    "                 showcaps=False,width=0.3,boxprops={'facecolor':'None','linewidth':1},\n",
    "                 showfliers=False,whiskerprops={'linewidth':1}, order=[\"Fibroblast\", \"Inflammatory CAF\", \"Adipose CAF\", \"HGF-CAF\", \"Mixed\"],\n",
    "            ax=ax)\n",
    "ax.set_title(\"Differential abundance, Fibroblast\", fontsize=15, style=\"italic\") \n",
    "ax.spines[[\"top\",\"right\"]].set_visible(False)\n",
    "ax.spines[[\"bottom\",\"left\"]].set_linewidth(4)\n",
    "ax.set_xticklabels(ax.get_xticklabels(), fontsize=15, rotation=45)\n",
    "ax.set_xlabel(\"\")\n",
    "ax.set_yticklabels(ax.get_yticklabels(), fontsize=15)\n",
    "ax.set_ylabel(\"log(FC)\", fontsize=15)\n",
    "ax.hlines(y=0, xmin=ax.get_xlim()[0], xmax=ax.get_xlim()[1], linestyles=\"dashed\", color=\"grey\")\n",
    "fig.savefig(\"figures/fibroblast/DA_milo_fibroblast_boxplot.png\", dpi=200, bbox_inches=\"tight\")\n",
    "fig.savefig(\"figures/fibroblast/DA_milo_fibroblast_boxplot.svg\", dpi=200, bbox_inches=\"tight\")"
   ]
  },
  {
   "cell_type": "code",
   "execution_count": null,
   "id": "87f0b532-42ce-4a3a-a165-0378a583bf7a",
   "metadata": {},
   "outputs": [],
   "source": []
  }
 ],
 "metadata": {
  "kernelspec": {
   "display_name": "Python 3 (ipykernel)",
   "language": "python",
   "name": "python3"
  },
  "language_info": {
   "codemirror_mode": {
    "name": "ipython",
    "version": 3
   },
   "file_extension": ".py",
   "mimetype": "text/x-python",
   "name": "python",
   "nbconvert_exporter": "python",
   "pygments_lexer": "ipython3",
   "version": "3.9.16"
  }
 },
 "nbformat": 4,
 "nbformat_minor": 5
}
