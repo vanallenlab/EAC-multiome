{
 "cells": [
  {
   "cell_type": "code",
   "execution_count": null,
   "id": "adb4f030-2da4-48a9-86c2-dfab2f291670",
   "metadata": {},
   "outputs": [],
   "source": [
    "import scanpy as sc\n",
    "import pandas as pd\n",
    "import numpy as np\n",
    "import matplotlib.pyplot as plt\n",
    "import seaborn as sns\n",
    "import os\n",
    "\n",
    "import pathlib as pl\n",
    "\n",
    "from tqdm.notebook import tqdm\n",
    "\n",
    "import palettable"
   ]
  },
  {
   "cell_type": "markdown",
   "id": "f8e44daf-aaf1-48df-95d4-1056f6977ad1",
   "metadata": {},
   "source": [
    "# Download data"
   ]
  },
  {
   "cell_type": "code",
   "execution_count": null,
   "id": "0b549117",
   "metadata": {},
   "outputs": [],
   "source": [
    "adata = sc.read_h5ad(\"/add/path/here/full_cohort.h5ad\")"
   ]
  },
  {
   "cell_type": "code",
   "execution_count": null,
   "id": "c9981303",
   "metadata": {},
   "outputs": [],
   "source": [
    "clinical = pd.read_csv(\"/add/path/here/EAC_clinical_info.csv\",index_col=0)\n",
    "treatment_mapping = {\"Neoadjuvant CROSS\": \"Neoadj. chemo\", \"Neoadjuvent carboplatin\": \"Neoadj. chemo\"}\n",
    "metastatic = (clinical[\"Tumor?\"]==\"Yes \") & (clinical[\"Site\"].str.contains(\"metastasis\"))\n",
    "metastatic.name = \"Metastatic?\"\n",
    "clinical[\"Metastatic?\"] = metastatic\n",
    "\n",
    "clinical[\"Location\"] = clinical[\"Site\"].replace({\"GEJ\": \"Esophagus/GEJ\", \n",
    "                          \"Esophagus\": \"Esophagus/GEJ\"})\n",
    "clinical[\"Location\"][clinical[\"Location\"].str.contains(\"Liver\")] = \"Liver\"\n",
    "clinical[\"Location\"][clinical[\"Location\"].str.contains(\"Adrenal\")] = \"Adrenal gland\"\n",
    "clinical[\"Location\"][clinical[\"Location\"].str.contains(\"Peritoneal\")] = \"Peritoneum\"\n",
    "\n",
    "clinical[\"Stage\"] = clinical[\"Grade/stage\"].replace({\"Stage IV \": \"IV\", \"Stage IV\": \"IV\", \n",
    "                                                     \"Moderately differentiated; ypT1aN0\": \"I\", \n",
    "                                                     \"Moderately differentiated; pT1aN0\": \"I\", \n",
    "                                                     \"Poorly differentiated; ypT2N0\": \"II\", \n",
    "                                                     \"Presented with stage III became stage IV during esophagectomy when pleural metastases were identified\": \"III/IV\"})\n",
    "\n",
    "clinical[\"Treatment\"] = [\"Neoadj. chemo\",\n",
    "                         \"None\",\n",
    "                         \"Neoadj. chemo + ICI + RT\",\n",
    "                         \"None\",\n",
    "                         \"None\",\n",
    "                         \"Chemo + HER2 targeted + ICI\", \n",
    "                         \"Neoadj. chemo + HER2 targeted\", \n",
    "                         \"Neoadj. chemo + ICI\", \n",
    "                         \"None\",\n",
    "                         \"Neoadj. chemo + VEGFR2i\"]\n",
    "\n",
    "clinical[\"HER2 status\"] = clinical[\"HER2\"].replace({\"HER 2 1+\": \"1+/equivocal\"})\n",
    "\n",
    "clinical = clinical.sort_values(by=[\"Tumor?\",\"Metastatic?\",\"Location\"])\n",
    "\n",
    "clinical[\"PD-L1 CPS score\"] = [0,2,7,2,3,24,0,8,3,15]"
   ]
  },
  {
   "cell_type": "code",
   "execution_count": null,
   "id": "f429f091",
   "metadata": {},
   "outputs": [],
   "source": [
    "refined_annotations = pd.read_csv(\"/add/path/here/refined_annotations.csv\",index_col=0)\n",
    "\n",
    "refined_annotations.columns = [\"refined_annotations\"]"
   ]
  },
  {
   "cell_type": "code",
   "execution_count": null,
   "id": "2f84e51f-6011-4ee1-b810-11080e3da304",
   "metadata": {},
   "outputs": [],
   "source": [
    "highlevel_refined = {\"Hepatocyte\": \"Epithelial\", \n",
    "                     \"Carcinoma\": \"Carcinoma\", \n",
    "                     \"Fibroblast\": \"Fibroblast\", \n",
    "                     \"Quiescent endothelial cells\": \"Endothelial\", \n",
    "                     \"Smooth muscle\": \"Muscle\", \n",
    "                     \"Skeletal muscle\": \"Muscle\",\n",
    "                     \"TAM2\": \"Myeloid\", \"TAM3\": \"Myeloid\",\n",
    "                     \"TCD4\": \"Lymphoid\", \n",
    "                     \"Inflammatory CAF\": \"Fibroblast\", \n",
    "                     \"Adipose CAF\": \"Fibroblast\",\n",
    "                     \"HGF-CAF\": \"Fibroblast\",\n",
    "                     \"TAM1\": \"Myeloid\", \n",
    "                     \"Myeloid-HighMT\": \"Unknown/technical\", \n",
    "                     \"Angiogenic EC\": \"Endothelial\", \n",
    "                     \"Quiescent EC\": \"Endothelial\", \n",
    "                     \"Venous EC\": \"Endothelial\",\n",
    "                     \"TCD8\": \"Lymphoid\", \n",
    "                     \"B\": \"Lymphoid\", \n",
    "                     \"DC\": \"Myeloid\", \n",
    "                     \"Hepatic EC\": \"Endothelial\", \n",
    "                     \"Kupffer cells\": \"Myeloid\", \n",
    "                     \"NK\": \"Lymphoid\", \n",
    "                     \"Treg\": \"Lymphoid\", \n",
    "                     \"StrMus-HighMT\": \"Unknown/technical\", \n",
    "                     \"T-HighMT\": \"Unknown/technical\", \n",
    "                     \"Mast\": \"Myeloid\", \n",
    "                     \"Adipocytes\": \"Stromal/Muscle\", \n",
    "                     \"Endo-HighMT\": \"Unknown/technical\"}"
   ]
  },
  {
   "cell_type": "code",
   "execution_count": null,
   "id": "3a70cc86-4350-4eb4-adba-d314bbac7272",
   "metadata": {},
   "outputs": [],
   "source": [
    "adata.obs = pd.concat([adata.obs,refined_annotations],axis=1)\n",
    "\n",
    "adata.obs[\"highlevel_refined\"] = adata.obs.refined_annotations.replace(highlevel_refined)"
   ]
  },
  {
   "cell_type": "code",
   "execution_count": null,
   "id": "25630e2d-f36c-4045-a3d8-ab4fff779ed9",
   "metadata": {},
   "outputs": [],
   "source": [
    "colorlist = palettable.colorbrewer.qualitative.Dark2_8.mpl_colors\n",
    "colorlistbis = palettable.colorbrewer.qualitative.Paired_3.mpl_colors\n",
    "colormapping_pat = {'Aguirre_EGSFR1982': colorlist[0], \n",
    "                    \"Aguirre_EGSFR2218\": colorlist[1], \n",
    "                    \"CCG1153_4411\": colorlist[2], \n",
    "                    \"Aguirre_EGSFR1938\": colorlist[3], \n",
    "                    \"Aguirre_EGSFR0074\": colorlist[4], \n",
    "                    \"Aguirre_EGSFR0128\": colorlist[5], \n",
    "                    \"Aguirre_EGSFR1732\": colorlist[6], \n",
    "                    \"Aguirre_EGSFR0148\": colorlist[7], \n",
    "                    \"CCG1153_4496262\": colorlistbis[0], \n",
    "                    \"CCG1153_6640539\": colorlistbis[1]}"
   ]
  },
  {
   "cell_type": "markdown",
   "id": "31a9d1b5",
   "metadata": {},
   "source": [
    "# Lymphoid"
   ]
  },
  {
   "cell_type": "code",
   "execution_count": null,
   "id": "7ca63f2d-7474-41c6-a348-7be86572daf1",
   "metadata": {},
   "outputs": [],
   "source": [
    "os.makedirs(\"figures/lymphoid\",exist_ok=True)\n",
    "\n",
    "subadata = adata[adata.obs[\"highlevel_refined\"]==\"Lymphoid\"].copy()"
   ]
  },
  {
   "cell_type": "code",
   "execution_count": null,
   "id": "06639c5e",
   "metadata": {
    "scrolled": true
   },
   "outputs": [],
   "source": [
    "subadata.obs.refined_annotations.value_counts()"
   ]
  },
  {
   "cell_type": "code",
   "execution_count": null,
   "id": "c603ac4c-3bf4-490b-b315-f80bd8bc1d68",
   "metadata": {},
   "outputs": [],
   "source": [
    "colorlist = palettable.colorbrewer.sequential.Greys_9.mpl_colors\n",
    "ctlist = subadata.obs.refined_annotations.unique()\n",
    "colormapping = {ct: colorlist[i+2] for i,ct in enumerate(ctlist)}\n",
    "colormapping[\"B\"] = colorlist[8]"
   ]
  },
  {
   "cell_type": "code",
   "execution_count": null,
   "id": "19c7fa96",
   "metadata": {},
   "outputs": [],
   "source": [
    "sc.tl.pca(subadata)"
   ]
  },
  {
   "cell_type": "code",
   "execution_count": null,
   "id": "f2f01913",
   "metadata": {},
   "outputs": [],
   "source": [
    "sc.external.pp.harmony_integrate(subadata, sigma=0.5,\n",
    "                                 key=\"sample_id\", \n",
    "                                 max_iter_harmony=20)"
   ]
  },
  {
   "cell_type": "code",
   "execution_count": null,
   "id": "1dcae1bf",
   "metadata": {
    "scrolled": true
   },
   "outputs": [],
   "source": [
    "sc.pp.neighbors(subadata, use_rep=\"X_pca_harmony\")"
   ]
  },
  {
   "cell_type": "code",
   "execution_count": null,
   "id": "01f57ede",
   "metadata": {},
   "outputs": [],
   "source": [
    "sc.tl.umap(subadata)"
   ]
  },
  {
   "cell_type": "code",
   "execution_count": null,
   "id": "c4e16444",
   "metadata": {},
   "outputs": [],
   "source": [
    "fig= sc.pl.umap(subadata, color=[\"sample_id\"], \n",
    "           ncols=1, frameon=False, palette=colormapping_pat, return_fig=True)\n",
    "fig.savefig(\"figures/lymphoid/umap_sample_id.png\",dpi=200,bbox_inches=\"tight\")"
   ]
  },
  {
   "cell_type": "code",
   "execution_count": null,
   "id": "d37a8aad-dc4e-444c-a937-b7a0e7bbe025",
   "metadata": {},
   "outputs": [],
   "source": [
    "fig= sc.pl.umap(subadata, color=[\"refined_annotations\"], \n",
    "           ncols=1, frameon=False, palette=colormapping, return_fig=True)\n",
    "fig.savefig(\"figures/lymphoid/umap_annotations.png\",dpi=200,bbox_inches=\"tight\")"
   ]
  },
  {
   "cell_type": "code",
   "execution_count": null,
   "id": "886260e0",
   "metadata": {},
   "outputs": [],
   "source": [
    "sc.tl.rank_genes_groups(subadata, groupby=\"refined_annotations\")"
   ]
  },
  {
   "cell_type": "code",
   "execution_count": null,
   "id": "62737cfc",
   "metadata": {},
   "outputs": [],
   "source": [
    "markers = {'T-cell': [\"CD3E\",\"CD3G\"], \n",
    "           'Th': [\"CD4\"], \n",
    "           'T cytotoxic': [\"CD8B\",\"GZMA\"], \n",
    "           \"Treg\": [\"FOXP3\",\"PDCD1\",\"TIGIT\",], \n",
    "           \"NK\": [\"NKG7\",\"NCAM1\",], \"B\": [\"IGHA1\"]}"
   ]
  },
  {
   "cell_type": "code",
   "execution_count": null,
   "id": "ba86a37b",
   "metadata": {},
   "outputs": [],
   "source": [
    "fig = sc.pl.dotplot(subadata, var_names=markers, groupby=\"refined_annotations\", standard_scale=\"var\", dot_max=0.5, return_fig=True)\n",
    "fig.savefig(\"figures/lymphoid/dotplot_knownmarkers.png\",dpi=200,bbox_inches=\"tight\")"
   ]
  },
  {
   "cell_type": "code",
   "execution_count": null,
   "id": "4da5b206",
   "metadata": {},
   "outputs": [],
   "source": [
    "group_markers = {}\n",
    "for ct in sorted(subadata.obs.refined_annotations.unique()):\n",
    "    group_markers[ct] = sc.get.rank_genes_groups_df(subadata, group=ct)\n",
    "    group_markers[ct] = group_markers[ct].loc[~group_markers[ct].names.str.startswith(\"MT-\")]\n",
    "    group_markers[ct] = group_markers[ct].sort_values(by=\"scores\",ascending=False).head(10).names.to_numpy()"
   ]
  },
  {
   "cell_type": "code",
   "execution_count": null,
   "id": "83ec7f9d",
   "metadata": {},
   "outputs": [],
   "source": [
    "fig = sc.pl.dotplot(subadata,\n",
    "              var_names=group_markers, groupby=\"refined_annotations\", standard_scale=\"var\", return_fig=True)\n",
    "fig.savefig(\"figures/lymphoid/dotplot_groupmarkers.png\",dpi=200,bbox_inches=\"tight\")"
   ]
  },
  {
   "cell_type": "code",
   "execution_count": null,
   "id": "a12a1893-8716-44fb-9e9d-9bfcb9046316",
   "metadata": {},
   "outputs": [],
   "source": [
    "patlevel_counts = subadata.obs[[\"sample_id\",\"refined_annotations\"]]\n",
    "patlevel_counts = patlevel_counts.groupby(by=\"sample_id\").value_counts(normalize=True)\n",
    "patlevel_counts = patlevel_counts.round(2)*100\n",
    "\n",
    "df = patlevel_counts.unstack(level=-1)\n",
    "\n",
    "df = df.loc[clinical.index.intersection(df.index)]"
   ]
  },
  {
   "cell_type": "code",
   "execution_count": null,
   "id": "b016cca3",
   "metadata": {},
   "outputs": [],
   "source": [
    "def add_clinical_info(ax):\n",
    "    x1, x2 = 0, 1   # columns 'Sat' and 'Sun' (first column: 0, see plt.xticks())\n",
    "    y, h, col = 100, 10, 'k'\n",
    "    ax.plot([x1-0.3, x1-0.3, x2+0.3, x2+0.3], [y, y+h, y+h, y], lw=1.5, c=col)\n",
    "    ax.text((x1+x2)*.5, y+1.3*h, \"NT\", ha='center', va='bottom', color=col)\n",
    "    \n",
    "    x1, x2 = 2, 3   # columns 'Sat' and 'Sun' (first column: 0, see plt.xticks())\n",
    "    y, h, col = 100, 10, 'k'\n",
    "    ax.plot([x1-0.3, x1-0.3, x2+0.3, x2+0.3], [y, y+h, y+h, y], lw=1.5, c=col)\n",
    "    ax.text((x1+x2)*.5, y+1.3*h, \"Primary\", ha='center', va='bottom', color=col)\n",
    "    \n",
    "    x1, x2 = 4, 8   # columns 'Sat' and 'Sun' (first column: 0, see plt.xticks())\n",
    "    y, h, col = 100, 10, 'k'\n",
    "    ax.plot([x1-0.3, x1-0.3, x2+0.3, x2+0.3], [y, y+h, y+h, y], lw=1.5, c=col)\n",
    "    ax.text((x1+x2)*.5, y+1.3*h, \"Metastatic\", ha='center', va='bottom', color=col)\n",
    "    \n",
    "    return ax"
   ]
  },
  {
   "cell_type": "code",
   "execution_count": null,
   "id": "bb69beea",
   "metadata": {},
   "outputs": [],
   "source": [
    "fig, ax = plt.subplots(1,1,figsize=(6,3))\n",
    "df.plot (kind = 'bar', stacked = True, color=colormapping, ax=ax,)\n",
    "ax.legend(bbox_to_anchor=(1.05, 1), frameon=False)\n",
    "ax.spines[['right', 'top']].set_visible(False)\n",
    "ax.set_xlabel(\"\")\n",
    "ax.set_xticklabels(ax.get_xticklabels(), rotation=45, ha=\"right\")\n",
    "ax = add_clinical_info(ax)\n",
    "for c in ax.containers:\n",
    "\n",
    "    # Optional: if the segment is small or 0, customize the labels\n",
    "    labels = [int(v.get_height()) if v.get_height() >= 5 else '' for v in c]\n",
    "    \n",
    "    # remove the labels parameter if it's not needed for customized labels\n",
    "    ax.bar_label(c, labels=labels, label_type='center', fmt='%0.0f', color=\"white\")\n",
    "fig.savefig(\"figures/lymphoid/barplot_pat_tme_scaled.png\", dpi=300, bbox_inches=\"tight\")"
   ]
  },
  {
   "cell_type": "markdown",
   "id": "1c3f58b4",
   "metadata": {},
   "source": [
    "# Myeloid"
   ]
  },
  {
   "cell_type": "code",
   "execution_count": null,
   "id": "e2f2f7fa-31d4-4c0e-b2a3-016e67c67811",
   "metadata": {},
   "outputs": [],
   "source": [
    "os.makedirs(\"figures/myeloid\",exist_ok=True)\n",
    "\n",
    "subadata = adata[adata.obs[\"highlevel_refined\"]==\"Myeloid\"].copy()"
   ]
  },
  {
   "cell_type": "code",
   "execution_count": null,
   "id": "fcb85124-0155-4b79-ae3c-cdd2e1c55eef",
   "metadata": {},
   "outputs": [],
   "source": [
    "subadata.obs.refined_annotations = subadata.obs.refined_annotations.replace({\"TAM3\":\"TAM2\"})"
   ]
  },
  {
   "cell_type": "code",
   "execution_count": null,
   "id": "70245a08",
   "metadata": {},
   "outputs": [],
   "source": [
    "subadata.obs[\"refined_annotations\"].value_counts()"
   ]
  },
  {
   "cell_type": "code",
   "execution_count": null,
   "id": "f6f23ad3-9ee3-420e-97d9-2ffc509628c0",
   "metadata": {},
   "outputs": [],
   "source": [
    "colorlist = palettable.colorbrewer.sequential.Greens_9.mpl_colors\n",
    "ctlist = subadata.obs.refined_annotations.unique()\n",
    "colormapping = {ct: colorlist[i+1] for i,ct in enumerate(ctlist)}"
   ]
  },
  {
   "cell_type": "code",
   "execution_count": null,
   "id": "083c1a05",
   "metadata": {},
   "outputs": [],
   "source": [
    "sc.tl.pca(subadata)"
   ]
  },
  {
   "cell_type": "code",
   "execution_count": null,
   "id": "5ebb1036",
   "metadata": {},
   "outputs": [],
   "source": [
    "sc.external.pp.harmony_integrate(subadata, \n",
    "                                 key=\"sample_id\", \n",
    "                                 max_iter_harmony=20, sigma=0.1)"
   ]
  },
  {
   "cell_type": "code",
   "execution_count": null,
   "id": "7d6e6173",
   "metadata": {},
   "outputs": [],
   "source": [
    "sc.pp.neighbors(subadata, use_rep=\"X_pca_harmony\")"
   ]
  },
  {
   "cell_type": "code",
   "execution_count": null,
   "id": "5b61b30e",
   "metadata": {},
   "outputs": [],
   "source": [
    "sc.tl.umap(subadata)"
   ]
  },
  {
   "cell_type": "code",
   "execution_count": null,
   "id": "d3a75322-0ff8-4254-b3f7-c630d745632c",
   "metadata": {},
   "outputs": [],
   "source": [
    "fig= sc.pl.umap(subadata, color=[\"sample_id\"], \n",
    "           ncols=1, frameon=False,  palette=colormapping_pat, return_fig=True)\n",
    "fig.savefig(\"figures/myeloid/umap_sample_id.png\",dpi=200,bbox_inches=\"tight\")"
   ]
  },
  {
   "cell_type": "code",
   "execution_count": null,
   "id": "eea5c621-c956-4a2a-bb49-b021ca3ad8d5",
   "metadata": {},
   "outputs": [],
   "source": [
    "fig= sc.pl.umap(subadata, color=[\"refined_annotations\"], \n",
    "           ncols=1, frameon=False, palette=colormapping, return_fig=True)\n",
    "fig.savefig(\"figures/myeloid/umap_annotations.png\",dpi=200,bbox_inches=\"tight\")"
   ]
  },
  {
   "cell_type": "code",
   "execution_count": null,
   "id": "e229654f",
   "metadata": {},
   "outputs": [],
   "source": [
    "sc.tl.rank_genes_groups(subadata, groupby=\"refined_annotations\")"
   ]
  },
  {
   "cell_type": "code",
   "execution_count": null,
   "id": "08231825",
   "metadata": {},
   "outputs": [],
   "source": [
    "group_markers = {}\n",
    "for ct in sorted(subadata.obs.refined_annotations.unique()):\n",
    "    group_markers[ct] = sc.get.rank_genes_groups_df(subadata, group=ct)\n",
    "    group_markers[ct] = group_markers[ct].loc[~group_markers[ct].names.str.startswith(\"MT-\")]\n",
    "    group_markers[ct] = group_markers[ct].sort_values(by=\"scores\",ascending=False).head(10).names.to_numpy()"
   ]
  },
  {
   "cell_type": "code",
   "execution_count": null,
   "id": "30c64518",
   "metadata": {
    "scrolled": true
   },
   "outputs": [],
   "source": [
    "fig = sc.pl.dotplot(subadata,\n",
    "              var_names=group_markers, groupby=\"refined_annotations\", standard_scale=\"var\", return_fig=True)\n",
    "fig.savefig(\"figures/myeloid/dotplot_groupmarkers.png\",dpi=200,bbox_inches=\"tight\")\n",
    "fig.savefig(\"figures/myeloid/dotplot_groupmarkers.svg\",dpi=200,bbox_inches=\"tight\")"
   ]
  },
  {
   "cell_type": "code",
   "execution_count": null,
   "id": "244c5e64",
   "metadata": {},
   "outputs": [],
   "source": [
    "fig = sc.pl.dotplot(subadata, var_names={#\"Mast\": [\"KIT\",\"TPSAB1\",\"CPA3\"], \n",
    "    \"Mast\": [\"KIT\",], \n",
    "                                   #\"pDC\": [\"LILRA4\",\"GZMB\",\"IL3RA\"], \n",
    "    \"pDC\": [\"LILRB4\",\"GZMA\",\"IL3RA\"],\n",
    "                                   \"cDC1\": [\"CLEC9A\",\"FLT3\",\"IDO1\"], \n",
    "                                   #\"cDC2\": [\"CD1C\",\"FCER1A\",\"HLA-DQA1\"],\n",
    "                                   \"cDC2\": [\"HLA-DQA1\",],\n",
    "                                   \"cDC3\": [\"LAMP3\",\"CCR7\",\"FSCN1\"], \n",
    "                                   \"Mono_CD14\": [\"FCN1\",\"S100A8\",\"S100A9\"], \n",
    "                                   \"Mono_CD16\": [\"FCGR3A\",\"LST1\",\"LILRB2\"], \n",
    "                                   \"Macro_INHBA\": [\"INHBA\",\"IL1RN\",\"CCL4\"], \n",
    "                                   #\"Macro_NLRP3\": [\"NLRP3\",\"EREG\",\"IL1B\"], \n",
    "    \"Macro_NLRP3\": [\"NLRP3\",\"EREG\",], \n",
    "                                   \"Macro_LYVE1\": [\"LYVE1\",\"PLTP\",\"SELENOP\"], \n",
    "                                   \"Macro_C1QC\": [\"C1QC\",\"C1QA\",\"APOE\"], \n",
    "    \"Kupffer-like\": [\"MARCO\",\"VSIG4\",\"TIMD4\"],\n",
    "    \"Mono/Macro\": [\"CD68\",\"CD163\"], \n",
    "    \"Mono-to-Macro\": [\"CLEC5A\"], \n",
    "    \"TRM\": [\"ITGAM\",\"ADGRE1\",\"MERTK\",\"FCGR1A\"]}, \n",
    "                    groupby=\"refined_annotations\", standard_scale=\"var\", return_fig=True)\n",
    "fig.savefig(\"figures/myeloid/dotplot_knownmarkers.png\",dpi=200,bbox_inches=\"tight\")\n",
    "fig.savefig(\"figures/myeloid/dotplot_knownmarkers.svg\",dpi=200,bbox_inches=\"tight\")"
   ]
  },
  {
   "cell_type": "code",
   "execution_count": null,
   "id": "5a03173d-3fba-452b-be3d-29b627dab712",
   "metadata": {},
   "outputs": [],
   "source": [
    "patlevel_counts = subadata.obs[[\"sample_id\",\"refined_annotations\"]]\n",
    "patlevel_counts = patlevel_counts.groupby(by=\"sample_id\").value_counts(normalize=True)\n",
    "patlevel_counts = patlevel_counts.round(2)*100\n",
    "\n",
    "df = patlevel_counts.unstack(level=-1)\n",
    "\n",
    "df = df.loc[clinical.index.intersection(df.index)]"
   ]
  },
  {
   "cell_type": "code",
   "execution_count": null,
   "id": "e990e345",
   "metadata": {},
   "outputs": [],
   "source": [
    "def add_clinical_info(ax):\n",
    "    x1, x2 = 0, 1   # columns 'Sat' and 'Sun' (first column: 0, see plt.xticks())\n",
    "    y, h, col = 100, 10, 'k'\n",
    "    ax.plot([x1-0.3, x1-0.3, x2+0.3, x2+0.3], [y, y+h, y+h, y], lw=1.5, c=col)\n",
    "    ax.text((x1+x2)*.5, y+1.3*h, \"NT\", ha='center', va='bottom', color=col)\n",
    "    \n",
    "    x1, x2 = 2, 3   # columns 'Sat' and 'Sun' (first column: 0, see plt.xticks())\n",
    "    y, h, col = 100, 10, 'k'\n",
    "    ax.plot([x1-0.3, x1-0.3, x2+0.3, x2+0.3], [y, y+h, y+h, y], lw=1.5, c=col)\n",
    "    ax.text((x1+x2)*.5, y+1.3*h, \"Primary\", ha='center', va='bottom', color=col)\n",
    "    \n",
    "    x1, x2 = 4, 8   # columns 'Sat' and 'Sun' (first column: 0, see plt.xticks())\n",
    "    y, h, col = 100, 10, 'k'\n",
    "    ax.plot([x1-0.3, x1-0.3, x2+0.3, x2+0.3], [y, y+h, y+h, y], lw=1.5, c=col)\n",
    "    ax.text((x1+x2)*.5, y+1.3*h, \"Metastatic\", ha='center', va='bottom', color=col)\n",
    "    \n",
    "    return ax"
   ]
  },
  {
   "cell_type": "code",
   "execution_count": null,
   "id": "01313461",
   "metadata": {},
   "outputs": [],
   "source": [
    "fig, ax = plt.subplots(1,1,figsize=(6,3))\n",
    "df.plot (kind = 'bar', stacked = True, color=colormapping, ax=ax,)\n",
    "ax.legend(bbox_to_anchor=(1.05, 1), frameon=False)\n",
    "ax.spines[['right', 'top']].set_visible(False)\n",
    "ax.set_xlabel(\"\")\n",
    "ax.set_xticklabels(ax.get_xticklabels(), rotation=45, ha=\"right\")\n",
    "ax = add_clinical_info(ax)\n",
    "for c in ax.containers:\n",
    "\n",
    "    # Optional: if the segment is small or 0, customize the labels\n",
    "    labels = [int(v.get_height()) if v.get_height() >= 5 else '' for v in c]\n",
    "    \n",
    "    # remove the labels parameter if it's not needed for customized labels\n",
    "    ax.bar_label(c, labels=labels, label_type='center', fmt='%0.0f', color=\"white\")\n",
    "fig.savefig(\"figures/myeloid/barplot_pat_tme_scaled.png\", dpi=300, bbox_inches=\"tight\")\n",
    "fig.savefig(\"figures/myeloid/barplot_pat_tme_scaled.svg\", dpi=300, bbox_inches=\"tight\")"
   ]
  },
  {
   "cell_type": "code",
   "execution_count": null,
   "id": "96b10f63-1028-4935-b8ac-7b26bb69e494",
   "metadata": {},
   "outputs": [],
   "source": [
    "myeloid_markers = {}\n",
    "for ct in group_markers.keys():\n",
    "    myeloid_markers[ct] = sc.get.rank_genes_groups_df(subadata, group=ct)\n",
    "    myeloid_markers[ct].to_csv(f\"/add/path/here/marker_genes/myeloid/{ct}.csv\")"
   ]
  },
  {
   "cell_type": "code",
   "execution_count": null,
   "id": "bf7abafc-30bb-4f80-85ea-038d16f121dd",
   "metadata": {},
   "outputs": [],
   "source": []
  },
  {
   "cell_type": "markdown",
   "id": "ce52ea19",
   "metadata": {},
   "source": [
    "# Endothelial "
   ]
  },
  {
   "cell_type": "code",
   "execution_count": null,
   "id": "e341b519",
   "metadata": {},
   "outputs": [],
   "source": [
    "os.makedirs(\"figures/endothelial\",exist_ok=True)\n",
    "\n",
    "subadata = adata[adata.obs[\"highlevel_refined\"]==\"Endothelial\"].copy()"
   ]
  },
  {
   "cell_type": "code",
   "execution_count": null,
   "id": "6010c66c",
   "metadata": {},
   "outputs": [],
   "source": [
    "subadata.obs.refined_annotations = subadata.obs.refined_annotations.replace({\"Endothelial\": \"Quiescent EC\"})"
   ]
  },
  {
   "cell_type": "code",
   "execution_count": null,
   "id": "a97acae0-4013-4786-863a-37f83ac6a075",
   "metadata": {},
   "outputs": [],
   "source": [
    "subadata.obs.refined_annotations.value_counts()"
   ]
  },
  {
   "cell_type": "code",
   "execution_count": null,
   "id": "baf0496a-fe90-4455-a1c8-5c568ff7d885",
   "metadata": {},
   "outputs": [],
   "source": [
    "colorlist = palettable.colorbrewer.sequential.RdPu_9.mpl_colors\n",
    "ctlist = subadata.obs.refined_annotations.unique()\n",
    "colormapping = {ct: colorlist[2*i+1] for i,ct in enumerate(ctlist)}"
   ]
  },
  {
   "cell_type": "code",
   "execution_count": null,
   "id": "768ab239",
   "metadata": {},
   "outputs": [],
   "source": [
    "sc.tl.pca(subadata)"
   ]
  },
  {
   "cell_type": "code",
   "execution_count": null,
   "id": "42488dfb",
   "metadata": {},
   "outputs": [],
   "source": [
    "sc.external.pp.harmony_integrate(subadata, \n",
    "                                 key=\"sample_id\", \n",
    "                                 max_iter_harmony=20)"
   ]
  },
  {
   "cell_type": "code",
   "execution_count": null,
   "id": "3c1921dc",
   "metadata": {},
   "outputs": [],
   "source": [
    "sc.pp.neighbors(subadata, use_rep=\"X_pca_harmony\")"
   ]
  },
  {
   "cell_type": "code",
   "execution_count": null,
   "id": "5892e776",
   "metadata": {},
   "outputs": [],
   "source": [
    "sc.tl.umap(subadata)"
   ]
  },
  {
   "cell_type": "code",
   "execution_count": null,
   "id": "e88ada87-fba5-49ea-8201-15bcdda8471e",
   "metadata": {},
   "outputs": [],
   "source": [
    "fig= sc.pl.umap(subadata, color=[\"sample_id\"], \n",
    "           ncols=1, frameon=False,  palette=colormapping_pat, return_fig=True)\n",
    "fig.savefig(\"figures/endothelial/umap_sample_id.png\",dpi=200,bbox_inches=\"tight\")"
   ]
  },
  {
   "cell_type": "code",
   "execution_count": null,
   "id": "ce9a7abd-08eb-4197-bfd4-eb7ed8c942f5",
   "metadata": {},
   "outputs": [],
   "source": [
    "fig= sc.pl.umap(subadata, color=[\"refined_annotations\"], \n",
    "           ncols=1, frameon=False, palette=colormapping, return_fig=True)\n",
    "fig.savefig(\"figures/endothelial/umap_annotations.png\",dpi=200,bbox_inches=\"tight\")"
   ]
  },
  {
   "cell_type": "code",
   "execution_count": null,
   "id": "810214f5-75cb-4dba-9a0f-a6029535b7be",
   "metadata": {},
   "outputs": [],
   "source": [
    "sc.tl.rank_genes_groups(subadata, groupby=\"refined_annotations\")"
   ]
  },
  {
   "cell_type": "code",
   "execution_count": null,
   "id": "e0c8b18f-d82c-429f-96d5-77beead11eb4",
   "metadata": {},
   "outputs": [],
   "source": [
    "group_markers = {}\n",
    "for ct in sorted(subadata.obs.refined_annotations.unique()):\n",
    "    group_markers[ct] = sc.get.rank_genes_groups_df(subadata, group=ct)\n",
    "    group_markers[ct] = group_markers[ct].loc[~group_markers[ct].names.str.startswith(\"MT-\")]\n",
    "    group_markers[ct] = group_markers[ct].sort_values(by=\"scores\",ascending=False).head(10).names.to_numpy()"
   ]
  },
  {
   "cell_type": "code",
   "execution_count": null,
   "id": "2c310662-fe3a-4c3f-8284-75aebc93ea98",
   "metadata": {
    "scrolled": true
   },
   "outputs": [],
   "source": [
    "fig = sc.pl.dotplot(subadata,\n",
    "              var_names=group_markers, groupby=\"refined_annotations\", standard_scale=\"var\", return_fig=True)\n",
    "fig.savefig(\"figures/endothelial/dotplot_groupmarkers.png\",dpi=200,bbox_inches=\"tight\")"
   ]
  },
  {
   "cell_type": "code",
   "execution_count": null,
   "id": "50808171-1020-4052-8616-cfd61f6d6d54",
   "metadata": {},
   "outputs": [],
   "source": [
    "patlevel_counts = subadata.obs[[\"sample_id\",\"refined_annotations\"]]\n",
    "patlevel_counts = patlevel_counts.groupby(by=\"sample_id\").value_counts(normalize=True)\n",
    "patlevel_counts = patlevel_counts.round(2)*100\n",
    "\n",
    "df = patlevel_counts.unstack(level=-1)\n",
    "\n",
    "df = df.loc[clinical.index.intersection(df.index)]"
   ]
  },
  {
   "cell_type": "code",
   "execution_count": null,
   "id": "06cea665-78d7-4f10-921e-b92f86c2e91d",
   "metadata": {},
   "outputs": [],
   "source": [
    "def add_clinical_info(ax):\n",
    "    x1, x2 = 0, 1   # columns 'Sat' and 'Sun' (first column: 0, see plt.xticks())\n",
    "    y, h, col = 100, 10, 'k'\n",
    "    ax.plot([x1-0.3, x1-0.3, x2+0.3, x2+0.3], [y, y+h, y+h, y], lw=1.5, c=col)\n",
    "    ax.text((x1+x2)*.5, y+1.3*h, \"NT\", ha='center', va='bottom', color=col)\n",
    "    \n",
    "    x1, x2 = 2, 4   # columns 'Sat' and 'Sun' (first column: 0, see plt.xticks())\n",
    "    y, h, col = 100, 10, 'k'\n",
    "    ax.plot([x1-0.3, x1-0.3, x2+0.3, x2+0.3], [y, y+h, y+h, y], lw=1.5, c=col)\n",
    "    ax.text((x1+x2)*.5, y+1.3*h, \"Primary\", ha='center', va='bottom', color=col)\n",
    "    \n",
    "    x1, x2 = 5, 9   # columns 'Sat' and 'Sun' (first column: 0, see plt.xticks())\n",
    "    y, h, col = 100, 10, 'k'\n",
    "    ax.plot([x1-0.3, x1-0.3, x2+0.3, x2+0.3], [y, y+h, y+h, y], lw=1.5, c=col)\n",
    "    ax.text((x1+x2)*.5, y+1.3*h, \"Metastatic\", ha='center', va='bottom', color=col)\n",
    "    \n",
    "    return ax"
   ]
  },
  {
   "cell_type": "code",
   "execution_count": null,
   "id": "70af8967-d885-41fe-88d1-e448c4bbff4b",
   "metadata": {},
   "outputs": [],
   "source": [
    "fig, ax = plt.subplots(1,1,figsize=(6,3))\n",
    "df.plot (kind = 'bar', stacked = True, color=colormapping, ax=ax,)\n",
    "ax.legend(bbox_to_anchor=(1.05, 1), frameon=False)\n",
    "ax.spines[['right', 'top']].set_visible(False)\n",
    "ax.set_xlabel(\"\")\n",
    "ax.set_xticklabels(ax.get_xticklabels(), rotation=45, ha=\"right\")\n",
    "ax = add_clinical_info(ax)\n",
    "for c in ax.containers:\n",
    "\n",
    "    # Optional: if the segment is small or 0, customize the labels\n",
    "    labels = [int(v.get_height()) if v.get_height() >= 5 else '' for v in c]\n",
    "    \n",
    "    # remove the labels parameter if it's not needed for customized labels\n",
    "    ax.bar_label(c, labels=labels, label_type='center', fmt='%0.0f', color=\"white\")\n",
    "fig.savefig(\"figures/endothelial/barplot_pat_tme_scaled.png\", dpi=300, bbox_inches=\"tight\")"
   ]
  },
  {
   "cell_type": "code",
   "execution_count": null,
   "id": "67002b73-5ad6-440b-84d4-1293328af111",
   "metadata": {},
   "outputs": [],
   "source": []
  },
  {
   "cell_type": "markdown",
   "id": "d360c173-29d3-40aa-a530-33d33cc7c904",
   "metadata": {},
   "source": [
    "# Muscle/adipocytes"
   ]
  },
  {
   "cell_type": "code",
   "execution_count": null,
   "id": "7796ecac-2ac7-495c-9e69-4185f42927dc",
   "metadata": {},
   "outputs": [],
   "source": [
    "os.makedirs(\"figures/muscle\",exist_ok=True)\n",
    "\n",
    "subadata = adata[adata.obs[\"highlevel_refined\"].isin([\"Muscle\",\"Stromal/Muscle\"])].copy()"
   ]
  },
  {
   "cell_type": "code",
   "execution_count": null,
   "id": "687e2800-315d-4029-b478-47843d759712",
   "metadata": {},
   "outputs": [],
   "source": [
    "subadata.obs.refined_annotations = subadata.obs.refined_annotations.replace({\"Stromal/Muscle\": \"Adipocytes\"})"
   ]
  },
  {
   "cell_type": "code",
   "execution_count": null,
   "id": "90a9ce2f-309c-4628-b530-c7976e2df2a9",
   "metadata": {},
   "outputs": [],
   "source": [
    "subadata.obs.refined_annotations.value_counts()"
   ]
  },
  {
   "cell_type": "code",
   "execution_count": null,
   "id": "5e1678b6-d25f-491b-894a-636c465461c9",
   "metadata": {},
   "outputs": [],
   "source": [
    "colorlist = palettable.colorbrewer.sequential.YlOrBr_4.mpl_colors\n",
    "ctlist = subadata.obs.refined_annotations.unique()\n",
    "colormapping = {ct: colorlist[i+1] for i,ct in enumerate(ctlist)}"
   ]
  },
  {
   "cell_type": "code",
   "execution_count": null,
   "id": "aebacbac-6837-4592-8ae4-c2b0f9b826aa",
   "metadata": {},
   "outputs": [],
   "source": [
    "sc.tl.pca(subadata)"
   ]
  },
  {
   "cell_type": "code",
   "execution_count": null,
   "id": "bb5017e2-b277-44e3-b422-36f127d4b906",
   "metadata": {},
   "outputs": [],
   "source": [
    "sc.external.pp.harmony_integrate(subadata, \n",
    "                                 key=\"sample_id\", \n",
    "                                 max_iter_harmony=20)"
   ]
  },
  {
   "cell_type": "code",
   "execution_count": null,
   "id": "06c3fc72-957a-4123-ab15-af99c2627a7e",
   "metadata": {},
   "outputs": [],
   "source": [
    "sc.pp.neighbors(subadata, use_rep=\"X_pca_harmony\")"
   ]
  },
  {
   "cell_type": "code",
   "execution_count": null,
   "id": "8a01223e-318b-4652-b96d-3f259ecc969e",
   "metadata": {},
   "outputs": [],
   "source": [
    "sc.tl.umap(subadata)"
   ]
  },
  {
   "cell_type": "code",
   "execution_count": null,
   "id": "666be827-16e0-4281-94ad-43770859b65d",
   "metadata": {},
   "outputs": [],
   "source": [
    "fig= sc.pl.umap(subadata, color=[\"sample_id\"], \n",
    "           ncols=1, frameon=False,  palette=colormapping_pat, return_fig=True)\n",
    "fig.savefig(\"figures/muscle/umap_sample_id.png\",dpi=200,bbox_inches=\"tight\")"
   ]
  },
  {
   "cell_type": "code",
   "execution_count": null,
   "id": "9251bc90-ffb2-425b-a2af-3e7cde8e4600",
   "metadata": {},
   "outputs": [],
   "source": [
    "fig= sc.pl.umap(subadata, color=[\"refined_annotations\"], \n",
    "           ncols=1, frameon=False, palette=colormapping, return_fig=True)\n",
    "fig.savefig(\"figures/muscle/umap_annotations.png\",dpi=200,bbox_inches=\"tight\")"
   ]
  },
  {
   "cell_type": "code",
   "execution_count": null,
   "id": "bd35d530-8030-428d-a9c1-f00cf3081871",
   "metadata": {},
   "outputs": [],
   "source": [
    "sc.tl.rank_genes_groups(subadata, groupby=\"refined_annotations\")"
   ]
  },
  {
   "cell_type": "code",
   "execution_count": null,
   "id": "8a07166e-34c1-46c4-ad39-edd8fa62b5da",
   "metadata": {},
   "outputs": [],
   "source": [
    "group_markers = {}\n",
    "for ct in sorted(subadata.obs.refined_annotations.unique()):\n",
    "    group_markers[ct] = sc.get.rank_genes_groups_df(subadata, group=ct)\n",
    "    group_markers[ct] = group_markers[ct].loc[~group_markers[ct].names.str.startswith(\"MT-\")]\n",
    "    group_markers[ct] = group_markers[ct].sort_values(by=\"scores\",ascending=False).head(10).names.to_numpy()"
   ]
  },
  {
   "cell_type": "code",
   "execution_count": null,
   "id": "65db4650-50e5-4f49-ab16-8dd1058aeb40",
   "metadata": {
    "scrolled": true
   },
   "outputs": [],
   "source": [
    "fig = sc.pl.dotplot(subadata,\n",
    "              var_names=group_markers, groupby=\"refined_annotations\", standard_scale=\"var\", return_fig=True)\n",
    "fig.savefig(\"figures/muscle/dotplot_groupmarkers.png\",dpi=200,bbox_inches=\"tight\")"
   ]
  },
  {
   "cell_type": "code",
   "execution_count": null,
   "id": "97a543c3-3760-4086-a21e-70c5440c2873",
   "metadata": {},
   "outputs": [],
   "source": [
    "patlevel_counts = subadata.obs[[\"sample_id\",\"refined_annotations\"]]\n",
    "patlevel_counts = patlevel_counts.groupby(by=\"sample_id\").value_counts(normalize=True)\n",
    "patlevel_counts = patlevel_counts.round(2)*100\n",
    "\n",
    "df = patlevel_counts.unstack(level=-1)\n",
    "\n",
    "df = df.loc[clinical.index.intersection(df.index)]"
   ]
  },
  {
   "cell_type": "code",
   "execution_count": null,
   "id": "521fc702-1a87-48ca-91f3-7c472872cb06",
   "metadata": {},
   "outputs": [],
   "source": [
    "def add_clinical_info(ax):\n",
    "    x1, x2 = 0, 1   # columns 'Sat' and 'Sun' (first column: 0, see plt.xticks())\n",
    "    y, h, col = 100, 10, 'k'\n",
    "    ax.plot([x1-0.3, x1-0.3, x2+0.3, x2+0.3], [y, y+h, y+h, y], lw=1.5, c=col)\n",
    "    ax.text((x1+x2)*.5, y+1.3*h, \"NT\", ha='center', va='bottom', color=col)\n",
    "    \n",
    "    x1, x2 = 2, 4   # columns 'Sat' and 'Sun' (first column: 0, see plt.xticks())\n",
    "    y, h, col = 100, 10, 'k'\n",
    "    ax.plot([x1-0.3, x1-0.3, x2+0.3, x2+0.3], [y, y+h, y+h, y], lw=1.5, c=col)\n",
    "    ax.text((x1+x2)*.5, y+1.3*h, \"Primary\", ha='center', va='bottom', color=col)\n",
    "    \n",
    "    x1, x2 = 5, 9   # columns 'Sat' and 'Sun' (first column: 0, see plt.xticks())\n",
    "    y, h, col = 100, 10, 'k'\n",
    "    ax.plot([x1-0.3, x1-0.3, x2+0.3, x2+0.3], [y, y+h, y+h, y], lw=1.5, c=col)\n",
    "    ax.text((x1+x2)*.5, y+1.3*h, \"Metastatic\", ha='center', va='bottom', color=col)\n",
    "    \n",
    "    return ax"
   ]
  },
  {
   "cell_type": "code",
   "execution_count": null,
   "id": "209670a3-450d-432a-b2eb-33e4f9914741",
   "metadata": {},
   "outputs": [],
   "source": [
    "fig, ax = plt.subplots(1,1,figsize=(6,3))\n",
    "df.plot (kind = 'bar', stacked = True, color=colormapping, ax=ax,)\n",
    "ax.legend(bbox_to_anchor=(1.05, 1), frameon=False)\n",
    "ax.spines[['right', 'top']].set_visible(False)\n",
    "ax.set_xlabel(\"\")\n",
    "ax.set_xticklabels(ax.get_xticklabels(), rotation=45, ha=\"right\")\n",
    "ax = add_clinical_info(ax)\n",
    "for c in ax.containers:\n",
    "\n",
    "    # Optional: if the segment is small or 0, customize the labels\n",
    "    labels = [int(v.get_height()) if v.get_height() >= 5 else '' for v in c]\n",
    "    \n",
    "    # remove the labels parameter if it's not needed for customized labels\n",
    "    ax.bar_label(c, labels=labels, label_type='center', fmt='%0.0f', color=\"white\")\n",
    "fig.savefig(\"figures/muscle/barplot_pat_tme_scaled.png\", dpi=300, bbox_inches=\"tight\")"
   ]
  },
  {
   "cell_type": "code",
   "execution_count": null,
   "id": "391e1f81",
   "metadata": {},
   "outputs": [],
   "source": []
  },
  {
   "cell_type": "markdown",
   "id": "f1383e70-b785-44ef-9c33-349eec829ac7",
   "metadata": {},
   "source": [
    "# Fibroblasts"
   ]
  },
  {
   "cell_type": "code",
   "execution_count": null,
   "id": "4905b97d-27ce-4ea9-8d73-5b4567f54735",
   "metadata": {},
   "outputs": [],
   "source": [
    "os.makedirs(\"figures/fibroblast\",exist_ok=True)\n",
    "\n",
    "subadata = adata[adata.obs[\"highlevel_refined\"].isin([\"Fibroblast\"])].copy()"
   ]
  },
  {
   "cell_type": "code",
   "execution_count": null,
   "id": "2c1c6b66-1bef-4cf7-af23-c83c9a879c9d",
   "metadata": {},
   "outputs": [],
   "source": [
    "subadata.obs.refined_annotations.value_counts()"
   ]
  },
  {
   "cell_type": "code",
   "execution_count": null,
   "id": "3d193c9e-ab71-4651-8517-a755e244c5c6",
   "metadata": {},
   "outputs": [],
   "source": [
    "colorlist = palettable.colorbrewer.sequential.Oranges_5.mpl_colors\n",
    "ctlist = subadata.obs.refined_annotations.unique()\n",
    "colormapping = {ct: colorlist[i+1] for i,ct in enumerate(ctlist)}"
   ]
  },
  {
   "cell_type": "code",
   "execution_count": null,
   "id": "eb8cbbce-721e-46ae-a606-eddf42e9fcab",
   "metadata": {},
   "outputs": [],
   "source": [
    "sc.tl.pca(subadata)"
   ]
  },
  {
   "cell_type": "code",
   "execution_count": null,
   "id": "2c88ed93-d673-48b8-abbc-44c7ebe7dbfd",
   "metadata": {},
   "outputs": [],
   "source": [
    "sc.external.pp.harmony_integrate(subadata, \n",
    "                                 key=\"sample_id\", \n",
    "                                 max_iter_harmony=20)"
   ]
  },
  {
   "cell_type": "code",
   "execution_count": null,
   "id": "4a3026f2-d151-4fc7-bd4d-e9d7366f5eae",
   "metadata": {},
   "outputs": [],
   "source": [
    "sc.pp.neighbors(subadata, use_rep=\"X_pca_harmony\")"
   ]
  },
  {
   "cell_type": "code",
   "execution_count": null,
   "id": "c5639ec5-bc2c-47d9-9092-f642d78bd951",
   "metadata": {},
   "outputs": [],
   "source": [
    "sc.tl.umap(subadata)"
   ]
  },
  {
   "cell_type": "code",
   "execution_count": null,
   "id": "f10e4f80-c87a-41e9-8bad-9ba796f9b5e4",
   "metadata": {},
   "outputs": [],
   "source": [
    "fig= sc.pl.umap(subadata, color=[\"sample_id\"], \n",
    "           ncols=1, frameon=False,  palette=colormapping_pat, return_fig=True)\n",
    "fig.savefig(\"figures/fibroblast/umap_sample_id.png\",dpi=200,bbox_inches=\"tight\")"
   ]
  },
  {
   "cell_type": "code",
   "execution_count": null,
   "id": "e762e020-4e3f-41cd-8323-6ea7c065eaa5",
   "metadata": {},
   "outputs": [],
   "source": [
    "fig= sc.pl.umap(subadata, color=[\"refined_annotations\"], \n",
    "           ncols=1, frameon=False, palette=colormapping, return_fig=True)\n",
    "fig.savefig(\"figures/fibroblast/umap_annotations.png\",dpi=200,bbox_inches=\"tight\")"
   ]
  },
  {
   "cell_type": "code",
   "execution_count": null,
   "id": "4f0c1cbf-b8c7-4c25-afe0-dff17c7ce77f",
   "metadata": {},
   "outputs": [],
   "source": [
    "fig= sc.pl.umap(subadata, color=[\"RUNX1\",\"RUNX2\"], \n",
    "           ncols=2, frameon=False, palette=colormapping, return_fig=True)\n",
    "fig.savefig(\"figures/fibroblast/runx1-runx2-umap.png\",dpi=200,bbox_inches=\"tight\")"
   ]
  },
  {
   "cell_type": "code",
   "execution_count": null,
   "id": "66c119c1-9b9f-41eb-9e1c-888e03bdcc98",
   "metadata": {},
   "outputs": [],
   "source": [
    "fig= sc.pl.umap(subadata, color=[\"HGF\",\"ETS1\"], \n",
    "           ncols=2, frameon=False, palette=colormapping, return_fig=True)\n",
    "fig.savefig(\"figures/fibroblast/hgf-ets1-umap.png\",dpi=200,bbox_inches=\"tight\")"
   ]
  },
  {
   "cell_type": "code",
   "execution_count": null,
   "id": "162b7069-d67a-4617-968d-a9635aac9e17",
   "metadata": {},
   "outputs": [],
   "source": [
    "sc.tl.rank_genes_groups(subadata, groupby=\"refined_annotations\")"
   ]
  },
  {
   "cell_type": "code",
   "execution_count": null,
   "id": "f8f2748d-263f-444e-a4b4-b18ab62c0e39",
   "metadata": {},
   "outputs": [],
   "source": [
    "group_markers = {}\n",
    "for ct in sorted(subadata.obs.refined_annotations.unique()):\n",
    "    group_markers[ct] = sc.get.rank_genes_groups_df(subadata, group=ct)\n",
    "    group_markers[ct] = group_markers[ct].loc[~group_markers[ct].names.str.startswith(\"MT-\")]\n",
    "    group_markers[ct] = group_markers[ct].sort_values(by=\"scores\",ascending=False).head(10).names.to_numpy()"
   ]
  },
  {
   "cell_type": "code",
   "execution_count": null,
   "id": "fb65dec5-e174-4455-a3ad-067274ef1767",
   "metadata": {
    "scrolled": true
   },
   "outputs": [],
   "source": [
    "fig = sc.pl.dotplot(subadata,\n",
    "              var_names=group_markers, groupby=\"refined_annotations\", standard_scale=\"var\", return_fig=True)\n",
    "fig.savefig(\"figures/fibroblast/dotplot_groupmarkers.png\",dpi=200,bbox_inches=\"tight\")\n",
    "fig.savefig(\"figures/fibroblast/dotplot_groupmarkers.svg\",dpi=200,bbox_inches=\"tight\")"
   ]
  },
  {
   "cell_type": "code",
   "execution_count": null,
   "id": "d433e8c5-7448-4efa-8ea7-a11404250712",
   "metadata": {},
   "outputs": [],
   "source": [
    "# genes from here https://www.nature.com/articles/s41467-022-34395-2\n",
    "fig = sc.pl.dotplot(subadata, var_names={\"CAFinfla\": [\"FAP\",\"COL1A1\",\"TGFB1\",\"MMP11\",],\n",
    "                                   \"CAFmyo\": [\"RGS5\",\"MYH11\",\"ACTA2\"], \n",
    "                                   \"CAFadi\": [\"CFD\",\"PTGDS\",\"FBLN1\"], \n",
    "                                   \"CAFendMT\": [\"PLVAP\",\"RAMP2\",\"FLT1\"], \n",
    "                                   \"CAFpn\": [\"S100B\",\"GPM6B\",\"NRXN1\"], \n",
    "                                   \"CAFap\": [\"HLA-DRA\",\"LYZ\"], \n",
    "                                   \"Fibroblast\": [\"PDGFRA\",\"PDGFRB\",\"THY1\",]}, \n",
    "                    groupby=\"refined_annotations\", standard_scale=\"var\", return_fig=True)\n",
    "fig.savefig(\"figures/fibroblast/dotplot_knownmarkers.png\",dpi=200,bbox_inches=\"tight\")\n",
    "fig.savefig(\"figures/fibroblast/dotplot_knownmarkers.svg\",dpi=200,bbox_inches=\"tight\")"
   ]
  },
  {
   "cell_type": "code",
   "execution_count": null,
   "id": "afd1cb5b-1352-41d8-a96e-6a53f6daaf9a",
   "metadata": {},
   "outputs": [],
   "source": [
    "fibroblast_markers = {}\n",
    "for ct in group_markers.keys():\n",
    "    fibroblast_markers[ct] = sc.get.rank_genes_groups_df(subadata, group=ct)\n",
    "    fibroblast_markers[ct].to_csv(f\"/add/path/here/marker_genes/fibroblast/{ct}.csv\")"
   ]
  },
  {
   "cell_type": "code",
   "execution_count": null,
   "id": "ffd95def-e570-458c-92b5-f5d65d0d4a10",
   "metadata": {},
   "outputs": [],
   "source": [
    "patlevel_counts = subadata.obs[[\"sample_id\",\"refined_annotations\"]]\n",
    "patlevel_counts = patlevel_counts.groupby(by=\"sample_id\").value_counts(normalize=True)\n",
    "patlevel_counts = patlevel_counts.round(2)*100\n",
    "\n",
    "df = patlevel_counts.unstack(level=-1)\n",
    "\n",
    "df = df.loc[clinical.index.intersection(df.index)]"
   ]
  },
  {
   "cell_type": "code",
   "execution_count": null,
   "id": "76951aba-c21a-4a8d-98bc-668946851662",
   "metadata": {},
   "outputs": [],
   "source": [
    "def add_clinical_info(ax):\n",
    "    x1, x2 = 0, 1   # columns 'Sat' and 'Sun' (first column: 0, see plt.xticks())\n",
    "    y, h, col = 100, 10, 'k'\n",
    "    ax.plot([x1-0.3, x1-0.3, x2+0.3, x2+0.3], [y, y+h, y+h, y], lw=1.5, c=col)\n",
    "    ax.text((x1+x2)*.5, y+1.3*h, \"NT\", ha='center', va='bottom', color=col)\n",
    "    \n",
    "    x1, x2 = 2, 4   # columns 'Sat' and 'Sun' (first column: 0, see plt.xticks())\n",
    "    y, h, col = 100, 10, 'k'\n",
    "    ax.plot([x1-0.3, x1-0.3, x2+0.3, x2+0.3], [y, y+h, y+h, y], lw=1.5, c=col)\n",
    "    ax.text((x1+x2)*.5, y+1.3*h, \"Primary\", ha='center', va='bottom', color=col)\n",
    "    \n",
    "    x1, x2 = 5, 9   # columns 'Sat' and 'Sun' (first column: 0, see plt.xticks())\n",
    "    y, h, col = 100, 10, 'k'\n",
    "    ax.plot([x1-0.3, x1-0.3, x2+0.3, x2+0.3], [y, y+h, y+h, y], lw=1.5, c=col)\n",
    "    ax.text((x1+x2)*.5, y+1.3*h, \"Metastatic\", ha='center', va='bottom', color=col)\n",
    "    \n",
    "    return ax"
   ]
  },
  {
   "cell_type": "code",
   "execution_count": null,
   "id": "79b37917-7f3a-436a-87be-4e68f91cc50c",
   "metadata": {},
   "outputs": [],
   "source": [
    "fig, ax = plt.subplots(1,1,figsize=(6,3))\n",
    "df.plot (kind = 'bar', stacked = True, color=colormapping, ax=ax,)\n",
    "ax.legend(bbox_to_anchor=(1.05, 1), frameon=False)\n",
    "ax.spines[['right', 'top']].set_visible(False)\n",
    "ax.set_xlabel(\"\")\n",
    "ax.set_xticklabels(ax.get_xticklabels(), rotation=45, ha=\"right\")\n",
    "ax = add_clinical_info(ax)\n",
    "for c in ax.containers:\n",
    "\n",
    "    # Optional: if the segment is small or 0, customize the labels\n",
    "    labels = [int(v.get_height()) if v.get_height() >= 5 else '' for v in c]\n",
    "    \n",
    "    # remove the labels parameter if it's not needed for customized labels\n",
    "    ax.bar_label(c, labels=labels, label_type='center', fmt='%0.0f', color=\"white\")\n",
    "fig.savefig(\"figures/fibroblast/barplot_pat_tme_scaled.png\", dpi=300, bbox_inches=\"tight\")\n",
    "fig.savefig(\"figures/fibroblast/barplot_pat_tme_scaled.svg\", dpi=300, bbox_inches=\"tight\")"
   ]
  },
  {
   "cell_type": "markdown",
   "id": "c40ed346-d936-4e2a-b976-62df4c46360f",
   "metadata": {},
   "source": [
    "# Epithelial"
   ]
  },
  {
   "cell_type": "code",
   "execution_count": null,
   "id": "9a2334a1-2261-4fc2-8c56-dfe98b3152db",
   "metadata": {},
   "outputs": [],
   "source": [
    "os.makedirs(\"figures/epithelial\",exist_ok=True)\n",
    "\n",
    "subadata = adata[adata.obs[\"highlevel_refined\"].isin([\"Epithelial\"])].copy()"
   ]
  },
  {
   "cell_type": "code",
   "execution_count": null,
   "id": "44cc3778-3294-47f1-828e-ef41784d4e1b",
   "metadata": {},
   "outputs": [],
   "source": [
    "subadata.obs.refined_annotations.value_counts()"
   ]
  },
  {
   "cell_type": "code",
   "execution_count": null,
   "id": "9e89a5de-70f1-43fe-89f0-f2ab2d1f6c19",
   "metadata": {},
   "outputs": [],
   "source": [
    "colorlist = palettable.colorbrewer.sequential.Blues_3.mpl_colors\n",
    "ctlist = subadata.obs.refined_annotations.unique()\n",
    "colormapping = {ct: colorlist[i+1] for i,ct in enumerate(ctlist)}"
   ]
  },
  {
   "cell_type": "code",
   "execution_count": null,
   "id": "c8a84759-c2ef-4c6c-8c68-83a2eece8c65",
   "metadata": {},
   "outputs": [],
   "source": [
    "sc.tl.pca(subadata)"
   ]
  },
  {
   "cell_type": "code",
   "execution_count": null,
   "id": "cba02f96-ec95-4955-9e60-492053625e63",
   "metadata": {},
   "outputs": [],
   "source": [
    "sc.pp.neighbors(subadata)"
   ]
  },
  {
   "cell_type": "code",
   "execution_count": null,
   "id": "19fac4e9-13fc-4d1a-9821-cb717c7f2987",
   "metadata": {},
   "outputs": [],
   "source": [
    "sc.external.pp.harmony_integrate(subadata, \n",
    "                                 key=\"sample_id\", \n",
    "                                 max_iter_harmony=20)"
   ]
  },
  {
   "cell_type": "code",
   "execution_count": null,
   "id": "d33dadc6-aa2e-4fb3-96fa-e0dab4b69099",
   "metadata": {},
   "outputs": [],
   "source": [
    "sc.pp.neighbors(subadata, use_rep=\"X_pca_harmony\")"
   ]
  },
  {
   "cell_type": "code",
   "execution_count": null,
   "id": "f8d5a64b-78a0-4228-a573-0453a59bef27",
   "metadata": {},
   "outputs": [],
   "source": [
    "sc.tl.umap(subadata)"
   ]
  },
  {
   "cell_type": "code",
   "execution_count": null,
   "id": "bdad59c3-09ab-4898-bc0c-36eb020bd36b",
   "metadata": {},
   "outputs": [],
   "source": [
    "fig= sc.pl.umap(subadata, color=[\"sample_id\"], \n",
    "           ncols=1, frameon=False, palette=colormapping_pat, return_fig=True)\n",
    "fig.savefig(\"figures/epithelial/umap_sample_id.png\",dpi=200,bbox_inches=\"tight\")"
   ]
  },
  {
   "cell_type": "code",
   "execution_count": null,
   "id": "647ed2c8-a907-41b5-85d8-82f6b635b384",
   "metadata": {},
   "outputs": [],
   "source": [
    "fig= sc.pl.umap(subadata, color=[\"refined_annotations\"], \n",
    "           ncols=1, frameon=False, palette=colormapping, return_fig=True)\n",
    "fig.savefig(\"figures/epithelial/umap_annotations.png\",dpi=200,bbox_inches=\"tight\")"
   ]
  },
  {
   "cell_type": "code",
   "execution_count": null,
   "id": "bcff6641-d07f-4da5-bd12-06d305263995",
   "metadata": {},
   "outputs": [],
   "source": [
    "sc.tl.rank_genes_groups(subadata, groupby=\"refined_annotations\")"
   ]
  },
  {
   "cell_type": "code",
   "execution_count": null,
   "id": "d390c5e1-fb96-4a5b-b436-9b6a53c706e2",
   "metadata": {},
   "outputs": [],
   "source": [
    "group_markers = {}\n",
    "for ct in sorted(subadata.obs.refined_annotations.unique()):\n",
    "    group_markers[ct] = sc.get.rank_genes_groups_df(subadata, group=ct)\n",
    "    group_markers[ct] = group_markers[ct].loc[~group_markers[ct].names.str.startswith(\"MT-\")]\n",
    "    group_markers[ct] = group_markers[ct].sort_values(by=\"scores\",ascending=False).head(10).names.to_numpy()"
   ]
  },
  {
   "cell_type": "code",
   "execution_count": null,
   "id": "9bcaef2e-f89d-4844-912e-6a97e6a46158",
   "metadata": {
    "scrolled": true
   },
   "outputs": [],
   "source": [
    "fig = sc.pl.dotplot(subadata,\n",
    "              var_names=group_markers, groupby=\"refined_annotations\", standard_scale=\"var\", return_fig=True)\n",
    "fig.savefig(\"figures/epithelial/dotplot_groupmarkers.png\",dpi=200,bbox_inches=\"tight\")"
   ]
  },
  {
   "cell_type": "code",
   "execution_count": null,
   "id": "08b6aff4-7453-46c0-957e-7320d8821a48",
   "metadata": {},
   "outputs": [],
   "source": [
    "patlevel_counts = subadata.obs[[\"sample_id\",\"refined_annotations\"]]\n",
    "patlevel_counts = patlevel_counts.groupby(by=\"sample_id\").value_counts(normalize=True)\n",
    "patlevel_counts = patlevel_counts.round(2)*100\n",
    "\n",
    "df = patlevel_counts.unstack(level=-1)\n",
    "\n",
    "df = df.loc[clinical.index.intersection(df.index)]"
   ]
  },
  {
   "cell_type": "code",
   "execution_count": null,
   "id": "fe090760-573b-4bfd-96bf-d468cb647683",
   "metadata": {},
   "outputs": [],
   "source": [
    "def add_clinical_info(ax):\n",
    "    x1, x2 = 0, 1   # columns 'Sat' and 'Sun' (first column: 0, see plt.xticks())\n",
    "    y, h, col = 100, 10, 'k'\n",
    "    ax.plot([x1-0.3, x1-0.3, x2+0.3, x2+0.3], [y, y+h, y+h, y], lw=1.5, c=col)\n",
    "    ax.text((x1+x2)*.5, y+1.3*h, \"NT\", ha='center', va='bottom', color=col)\n",
    "    \n",
    "    x1, x2 = 2, 2   # columns 'Sat' and 'Sun' (first column: 0, see plt.xticks())\n",
    "    y, h, col = 100, 10, 'k'\n",
    "    ax.plot([x1-0.3, x1-0.3, x2+0.3, x2+0.3], [y, y+h, y+h, y], lw=1.5, c=col)\n",
    "    ax.text((x1+x2)*.5, y+1.3*h, \"Primary\", ha='center', va='bottom', color=col)\n",
    "    \n",
    "    x1, x2 = 3, 5   # columns 'Sat' and 'Sun' (first column: 0, see plt.xticks())\n",
    "    y, h, col = 100, 10, 'k'\n",
    "    ax.plot([x1-0.3, x1-0.3, x2+0.3, x2+0.3], [y, y+h, y+h, y], lw=1.5, c=col)\n",
    "    ax.text((x1+x2)*.5, y+1.3*h, \"Metastatic\", ha='center', va='bottom', color=col)\n",
    "    \n",
    "    return ax"
   ]
  },
  {
   "cell_type": "code",
   "execution_count": null,
   "id": "fe5a1336-c27b-4af7-86d9-22f133f79d5c",
   "metadata": {},
   "outputs": [],
   "source": [
    "fig, ax = plt.subplots(1,1,figsize=(6,3))\n",
    "df.plot (kind = 'bar', stacked = True, color=colormapping, ax=ax,)\n",
    "ax.legend(bbox_to_anchor=(1.05, 1), frameon=False)\n",
    "ax.spines[['right', 'top']].set_visible(False)\n",
    "ax.set_xlabel(\"\")\n",
    "ax.set_xticklabels(ax.get_xticklabels(), rotation=45, ha=\"right\")\n",
    "ax = add_clinical_info(ax)\n",
    "for c in ax.containers:\n",
    "\n",
    "    # Optional: if the segment is small or 0, customize the labels\n",
    "    labels = [int(v.get_height()) if v.get_height() >= 5 else '' for v in c]\n",
    "    \n",
    "    # remove the labels parameter if it's not needed for customized labels\n",
    "    ax.bar_label(c, labels=labels, label_type='center', fmt='%0.0f', color=\"white\")\n",
    "fig.savefig(\"figures/epithelial/barplot_pat_tme_scaled.png\", dpi=300, bbox_inches=\"tight\")"
   ]
  },
  {
   "cell_type": "code",
   "execution_count": null,
   "id": "36cb50d2",
   "metadata": {},
   "outputs": [],
   "source": []
  }
 ],
 "metadata": {
  "kernelspec": {
   "display_name": "Python 3 (ipykernel)",
   "language": "python",
   "name": "python3"
  },
  "language_info": {
   "codemirror_mode": {
    "name": "ipython",
    "version": 3
   },
   "file_extension": ".py",
   "mimetype": "text/x-python",
   "name": "python",
   "nbconvert_exporter": "python",
   "pygments_lexer": "ipython3",
   "version": "3.9.16"
  }
 },
 "nbformat": 4,
 "nbformat_minor": 5
}
