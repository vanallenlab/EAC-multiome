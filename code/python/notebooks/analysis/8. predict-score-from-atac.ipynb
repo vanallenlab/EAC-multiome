{
 "cells": [
  {
   "cell_type": "code",
   "execution_count": null,
   "id": "3c4d563e-2a5c-4ad9-a8ff-9774d0428791",
   "metadata": {},
   "outputs": [],
   "source": [
    "import pandas as pd\n",
    "import numpy as np\n",
    "import scanpy as sc\n",
    "\n",
    "from statsmodels.stats.multitest import multipletests\n",
    "\n",
    "from tqdm.notebook import tqdm\n",
    "\n",
    "from sklearn.metrics import confusion_matrix, balanced_accuracy_score, classification_report\n",
    "\n",
    "import seaborn as sns\n",
    "import matplotlib.pyplot as plt\n",
    "\n",
    "import palettable"
   ]
  },
  {
   "cell_type": "code",
   "execution_count": null,
   "id": "085410b1-6070-408c-8366-3edaf2d3fb82",
   "metadata": {},
   "outputs": [],
   "source": [
    "def pretty_ax_wlabels(ax):\n",
    "    ax.spines['right'].set_visible(False)\n",
    "    ax.spines['top'].set_visible(False)\n",
    "    ax.tick_params(\n",
    "        axis='both',  \n",
    "        which='both',      \n",
    "        bottom=True,     \n",
    "        top=False,\n",
    "        left=False,\n",
    "        labelbottom=True,\n",
    "        labelleft = True)\n",
    "    ax.spines[\"bottom\"].set_linewidth(1.5)\n",
    "    ax.spines[\"left\"].set_linewidth(1.5)"
   ]
  },
  {
   "cell_type": "code",
   "execution_count": null,
   "id": "32c70fcf-1f32-417f-9fcf-bce27cfad182",
   "metadata": {},
   "outputs": [],
   "source": [
    "colorlist = palettable.colorbrewer.qualitative.Set1_7.mpl_colors\n",
    "colormapping_mal = {\"cNMF_1\": colorlist[0], \"cNMF_2\": colorlist[1], \"cNMF_3\": colorlist[3], \n",
    "                    \"cNMF_4\": colorlist[4], \"cNMF_5\": colorlist[6]}\n",
    "colormapping_mal[\"Mixed\"] = \"lightgrey\"\n",
    "colormapping_mal[\"Outlier\"] = \"grey\""
   ]
  },
  {
   "cell_type": "code",
   "execution_count": null,
   "id": "33395acc-18e0-46de-9ded-0c90360db10d",
   "metadata": {},
   "outputs": [],
   "source": [
    "import math\n",
    "def softmax_w_temp(logits, temp: float=1):\n",
    "    logits_temp = [x/temp for x in logits]\n",
    "    bottom = sum([math.exp(x) for x in logits_temp])\n",
    "    softmax = [math.exp(x)/bottom for x in logits_temp]\n",
    "    return np.array(softmax)\n",
    "\n",
    "def get_probs_and_class(Xz, y, n_regions, temp):\n",
    "    \n",
    "    scores = pd.concat([Xz[n_regions[state].index].mean(axis=1) for state in sorted(n_regions.keys())],axis=1)\n",
    "    scores.columns = sorted(n_regions.keys())\n",
    "        \n",
    "    y_pred = scores.idxmax(axis=1).replace({f\"cNMF_{i}\": i-1 for i in range(1,6)})\n",
    "\n",
    "    m = scores.apply(lambda row: softmax_w_temp(row, temp), axis=1)\n",
    "    m = pd.DataFrame(np.vstack(m.values), index=scores.index, columns=scores.columns)\n",
    "    \n",
    "    plasticity = m.applymap(lambda x: -x*np.log(x)).sum(axis=1)\n",
    "    plasticity.name = \"Plasticity score\"\n",
    "    \n",
    "    prob_w_class = pd.concat([m, y],axis=1)\n",
    "    y_pred = pd.DataFrame(y_pred, index=y.index, columns=[\"Pred\"])\n",
    "\n",
    "    return y_pred, plasticity, prob_w_class"
   ]
  },
  {
   "cell_type": "code",
   "execution_count": null,
   "id": "ed4cd2ba-479e-4912-987b-0a6bccafe965",
   "metadata": {},
   "outputs": [],
   "source": [
    "peak_info = pd.read_csv(\"/add/path/here/peaks_closestfeatures.csv\").set_index(\"query_region\")\n",
    "\n",
    "atac = sc.read_h5ad(\"/add/path/here/combined_atac.h5ad\")\n",
    "\n",
    "scores = pd.read_csv(\"/add/path/here/adata_cNMF_scores_wtop.csv\",index_col=0)"
   ]
  },
  {
   "cell_type": "code",
   "execution_count": null,
   "id": "ec964e7c-24f9-4512-bfd4-4bf863a2d2cf",
   "metadata": {},
   "outputs": [],
   "source": [
    "most_corr_dir = pl.Path(\"/add/path/here/\")\n",
    "all_corrs = {}\n",
    "for state in [f\"cNMF_{i}\" for i in range(1,6)]:\n",
    "    all_corrs[state] = pd.read_csv(most_corr_dir / f\"{state}_region_correlation.csv\",index_col=0)\n",
    "\n",
    "all_ps = {}\n",
    "for state in [f\"cNMF_{i}\" for i in range(1,6)]:\n",
    "    all_ps[state] = pd.read_csv(most_corr_dir / f\"{state}_region_pval.csv\",index_col=0)"
   ]
  },
  {
   "cell_type": "code",
   "execution_count": null,
   "id": "2b5f661e-b09b-427e-8250-9254d09917ad",
   "metadata": {},
   "outputs": [],
   "source": [
    "atac = atac[atac.obs.nCount_ATAC>2000].copy()"
   ]
  },
  {
   "cell_type": "code",
   "execution_count": null,
   "id": "c3b3eb27-dc2f-4d1d-98e3-d44c2329354b",
   "metadata": {},
   "outputs": [],
   "source": [
    "# add the cNMF scores\n",
    "\n",
    "new_annot = []\n",
    "for sample in atac.obs.dataset.unique():\n",
    "\n",
    "    df1 = scores[scores.sample_id==sample].copy()\n",
    "    df1.index = df1.index.str[:-2]\n",
    "    \n",
    "    df2 = atac.obs[atac.obs.sample_id==sample].copy()\n",
    "    raw_idx = df2.index.copy()\n",
    "    df2.index = np.hstack(df2.index.str.split(\"_\").str[1:])\n",
    "    \n",
    "    dict_map = {df2.index[i]: raw_idx[i] for i in range(len(raw_idx))}\n",
    "    \n",
    "    df = pd.concat([df1.loc[df2.index.intersection(df1.index),['cNMF_1_score', 'cNMF_2_score',\n",
    "       'cNMF_3_score', 'cNMF_4_score', 'cNMF_5_score', 'highlevel_wtop']],df2.refined_annotation],axis=1).iloc[:,:-1]\n",
    "    \n",
    "    df = df.rename(index=dict_map)\n",
    "    new_annot.append(df)\n",
    "new_annot = pd.concat(new_annot)\n",
    "\n",
    "atac.obs = pd.concat([atac.obs,new_annot],axis=1)"
   ]
  },
  {
   "cell_type": "code",
   "execution_count": null,
   "id": "d5d5b489-4080-4851-9a52-ac3eade37474",
   "metadata": {},
   "outputs": [],
   "source": [
    "subatac = atac[atac.obs.highlevel_wtop.isin([f\"cNMF_{i}\" for i in range(1,6)])].copy()\n",
    "\n",
    "n_regions = {}\n",
    "for state in all_corrs:\n",
    "    statedf = pd.concat([all_corrs[state],all_ps[state]],axis=1)\n",
    "    statedf.columns = [\"Correlation\", \"p\"]\n",
    "    statedf[\"q\"] = multipletests(all_ps[state].values.ravel())[1]\n",
    "    \n",
    "    n_regions[state] = statedf[(statedf[\"q\"]<0.05)].sort_values(by=\"Correlation\",ascending=False).head(200)\n",
    "\n",
    "predatac = subatac[np.random.choice(range(0,subatac.shape[0]),size=(subatac.shape[0],),replace=False),np.unique(np.hstack([n_regions[state].index for state in n_regions]))].copy()"
   ]
  },
  {
   "cell_type": "code",
   "execution_count": null,
   "id": "71b9072e-f200-4bab-be4e-6ac7f585e5d0",
   "metadata": {},
   "outputs": [],
   "source": [
    "X = predatac.X.toarray().copy()\n",
    "y = predatac.obs.highlevel_wtop.str[-1].astype(int) - 1\n",
    "\n",
    "Xz = predatac.to_df().copy()\n",
    "Xz = (Xz - Xz.mean())/Xz.std()"
   ]
  },
  {
   "cell_type": "code",
   "execution_count": null,
   "id": "49e8ef8e-dc38-43af-9b67-55a688ad1cbf",
   "metadata": {
    "scrolled": true
   },
   "outputs": [],
   "source": [
    "alltemp_probs = []\n",
    "for temp in [0.05, 0.1, 0.25, 0.5, 1, 2]:\n",
    "    _, _, all_probs = get_probs_and_class(Xz, y, n_regions, temp)\n",
    "    alltemp_probs.append(all_probs)"
   ]
  },
  {
   "cell_type": "code",
   "execution_count": null,
   "id": "cd18e717-f68c-4758-b0f1-274b2f784ac3",
   "metadata": {
    "scrolled": true
   },
   "outputs": [],
   "source": [
    "clrs = [\"red\", \"blue\", \"purple\", \"pink\", \"green\", \"yellow\"]\n",
    "\n",
    "fig, ax = plt.subplots(1,5, figsize=(13,2))\n",
    "flatax = ax.flatten()\n",
    "     \n",
    "for i in range(len(flatax)):# Plot perfectly calibrated\n",
    "    flatax[i].plot([0, 1], [0, 1], linestyle = '--', label = 'Ideally Calibrated')\n",
    "\n",
    "for i in range(len(alltemp_probs)):\n",
    "    prob_w_class = alltemp_probs[i]\n",
    "    for cl in prob_w_class[\"highlevel_wtop\"].unique():\n",
    "    \n",
    "        binary_probs = [prob_w_class.iloc[i,cl] for i in range(prob_w_class.shape[0])]\n",
    "        binary_class = [1 if prob_w_class[\"highlevel_wtop\"].iloc[i]==cl else 0 for i in range(prob_w_class.shape[0])]\n",
    "        \n",
    "        from sklearn.calibration import calibration_curve\n",
    "        # Creating Calibration Curve\n",
    "        x_cal, y_cal = calibration_curve(binary_class, binary_probs, n_bins = 15)\n",
    "         \n",
    "        # Plot model's calibration curve\n",
    "        flatax[cl].plot(y_cal, x_cal, marker = '.', label = 'Softmax w/temp', c=clrs[i])\n",
    "        flatax[cl].set_xlabel('Avg Pred. Prob in each bin')\n",
    "        flatax[cl].set_ylabel('Ratio of positives')\n",
    "        flatax[cl].set_title(f\"Calibration for class cNMF_{cl+1}\")\n",
    "fig.tight_layout()\n",
    "fig.savefig(\"figures/calibration_curves_cnmf_class.svg\", dpi=200, bbox_inches=\"tight\")"
   ]
  },
  {
   "cell_type": "code",
   "execution_count": null,
   "id": "b5756571-1353-488f-864b-242ed529c222",
   "metadata": {},
   "outputs": [],
   "source": [
    "y_pred, plasticity, all_probs = get_probs_and_class(Xz, y, n_regions, 0.25)"
   ]
  },
  {
   "cell_type": "code",
   "execution_count": null,
   "id": "1aca8476-22c8-467c-9183-5bd3fcd0ca97",
   "metadata": {},
   "outputs": [],
   "source": [
    "print(\"Confusion matrix\")\n",
    "print(confusion_matrix(y.ravel(), y_pred.values.ravel()))\n",
    "\n",
    "print(f\"BAC={balanced_accuracy_score(y.ravel(), y_pred.values.ravel()):.2f}\")\n",
    "\n",
    "print(\"Classification report\")\n",
    "print(classification_report(y.ravel(), y_pred.values.ravel()))"
   ]
  },
  {
   "cell_type": "code",
   "execution_count": null,
   "id": "5fa48e26-535a-4d57-b671-b49cd6ec36af",
   "metadata": {},
   "outputs": [],
   "source": [
    "plasticity_df = pd.concat([plasticity,predatac.obs.highlevel_wtop],axis=1)"
   ]
  },
  {
   "cell_type": "code",
   "execution_count": null,
   "id": "644074ea-ebb0-45e2-8726-aec1226a450f",
   "metadata": {},
   "outputs": [],
   "source": [
    "fig, ax = plt.subplots(1,1,figsize=(1.5,2))\n",
    "sns.boxplot(data=plasticity_df, y=\"highlevel_wtop\", x=\"Plasticity score\", order=[\"cNMF_1\",\"cNMF_2\",\"cNMF_3\",\"cNMF_4\",\"cNMF_5\"],\n",
    "            palette=colormapping_mal)\n",
    "pretty_ax_wlabels(ax)\n",
    "ax.set_ylabel(\"\")\n",
    "ax.set_yticks(ax.get_yticks(), [\"cNMF$_{1}$\",\"cNMF$_{2}$\",\"cNMF$_{3}$\",\"cNMF$_{4}$\",\"cNMF$_{5}$\"])\n",
    "fig.savefig(\"figures/malignant/plasticity_score.svg\", dpi=200, bbox_inches=\"tight\")"
   ]
  },
  {
   "cell_type": "code",
   "execution_count": null,
   "id": "866afdff-1ee7-4524-bf0a-7e1bee025cce",
   "metadata": {},
   "outputs": [],
   "source": [
    "confs = confusion_matrix(y.ravel(), y_pred)\n",
    "\n",
    "perc = (confs.T/confs.sum(axis=1)).T"
   ]
  },
  {
   "cell_type": "code",
   "execution_count": null,
   "id": "1595f7cf-04f6-4488-8f0a-5fa97142b1e8",
   "metadata": {},
   "outputs": [],
   "source": [
    "import itertools\n",
    "import matplotlib\n",
    "import matplotlib.cm as cm\n",
    "import matplotlib.colors as mcolors\n",
    "\n",
    "coordinates = pd.DataFrame(np.array(list(itertools.product(np.arange(0,5), np.arange(0,5)))), columns=[\"True\",\"Pred.\"])\n",
    "\n",
    "coordinates[\"Conf\"] = np.hstack(perc)\n",
    "\n",
    "coordinates[\"True\"] = coordinates[\"True\"].replace({0:4, 1:3, 2:2, 3:1, 4:0})\n",
    "\n",
    "vcenter = 0.1\n",
    "vmin, vmax = 0,1\n",
    "normalize = mcolors.TwoSlopeNorm(vcenter=vcenter, vmin=vmin, vmax=vmax)\n",
    "colormap = matplotlib.colormaps['RdBu_r']\n",
    "\n",
    "fig, ax = plt.subplots(1,1,figsize=(2,2))\n",
    "sns.scatterplot(data=coordinates, x=\"Pred.\", y=\"True\", size=np.hstack(perc), c=np.hstack(perc), norm=normalize,\n",
    "        cmap=colormap,)\n",
    "plt.legend(bbox_to_anchor=(1,1,0,0), frameon=False)\n",
    "ax.set_xticks([0,1,2,3,4], [f\"cNMF_{i}\" for i in range(1,6)], rotation=45, ha=\"right\")\n",
    "ax.set_yticks([4,3,2,1,0], [f\"cNMF_{i}\" for i in range(1,6)], ha=\"right\")\n",
    "pretty_ax_wlabels(ax)\n",
    "ax.set_yticks(ax.get_yticks(), [\"cNMF$_{1}$\",\"cNMF$_{2}$\",\"cNMF$_{3}$\",\"cNMF$_{4}$\",\"cNMF$_{5}$\"])\n",
    "ax.set_xticks(ax.get_xticks(), [\"cNMF$_{1}$\",\"cNMF$_{2}$\",\"cNMF$_{3}$\",\"cNMF$_{4}$\",\"cNMF$_{5}$\"])\n",
    "ax.set_xlabel(\"ATAC identity\")\n",
    "ax.set_ylabel(\"RNA identity\")\n",
    "fig.savefig(\"figures/malignant/confusion_matrix_prediction_atac_from_rna.svg\", dpi=200, bbox_inches=\"tight\")"
   ]
  },
  {
   "cell_type": "markdown",
   "id": "04f19883-40e5-458d-aeac-c714a55d7f9e",
   "metadata": {},
   "source": [
    "# Plot"
   ]
  },
  {
   "cell_type": "code",
   "execution_count": null,
   "id": "47ec8d04-4000-43d8-ad8f-58fd6823d09c",
   "metadata": {},
   "outputs": [],
   "source": [
    "redatac = subatac[np.random.choice(range(0,subatac.shape[0]),size=(subatac.shape[0],),replace=False),\n",
    "    np.hstack([n_regions[st].index for st in n_regions])].copy()"
   ]
  },
  {
   "cell_type": "code",
   "execution_count": null,
   "id": "0f95d9f6-c3e6-48c2-8207-2c10c7a25162",
   "metadata": {},
   "outputs": [],
   "source": [
    "cell_idx = redatac.obs[\"highlevel_wtop\"].sort_values().index.to_numpy()\n",
    "\n",
    "row_colors = []\n",
    "mispred = redatac.obs.loc[cell_idx,\"highlevel_wtop\"]\n",
    "for cell in cell_idx:\n",
    "    row_colors.append(colormapping_mal[mispred.loc[cell]])"
   ]
  },
  {
   "cell_type": "code",
   "execution_count": null,
   "id": "971359bc-42a9-4ba1-8cfe-5014c324dc25",
   "metadata": {},
   "outputs": [],
   "source": [
    "df = redatac.to_df().loc[cell_idx].copy()\n",
    "df = (df - df.mean())/df.std()"
   ]
  },
  {
   "cell_type": "code",
   "execution_count": null,
   "id": "06370f4d-a22a-41ba-b2f7-17050cdd37f0",
   "metadata": {},
   "outputs": [],
   "source": [
    "clmap = sns.clustermap(data=df, row_cluster=False, \n",
    "                       col_cluster=False, row_colors=row_colors, cmap=\"vlag\", center=0, vmax=2, vmin=-2)\n",
    "clmap.ax_heatmap.set_xticklabels([])\n",
    "clmap.ax_heatmap.set_xticks([])\n",
    "clmap.ax_heatmap.set_yticklabels([])\n",
    "clmap.ax_heatmap.set_yticks([])\n",
    "clmap.ax_cbar.set_position((0.82, .32, .03, .4))\n",
    "clmap.ax_cbar.set_title('ATAC\\nZ-score')\n",
    "clmap.ax_heatmap.vlines([200, 400, 600, 800], 0, redatac.shape[0], linewidth=2, color=\"gray\")\n",
    "clmap.ax_heatmap.hlines(np.cumsum(mispred.value_counts().loc[[\"cNMF_1\",\"cNMF_2\",\"cNMF_3\",\"cNMF_4\",\"cNMF_5\"]].ravel())[:-1], 0, \n",
    "                        redatac.shape[1], linewidth=2, color=\"gray\")\n",
    "clmap.savefig(\"figures/malignant/heatmap_ATAC_to_RNA_openness.png\", dpi=300, bbox_inches=\"tight\")"
   ]
  },
  {
   "cell_type": "code",
   "execution_count": null,
   "id": "f1db1018-4ab9-4b51-b632-1260d5c625f3",
   "metadata": {},
   "outputs": [],
   "source": []
  },
  {
   "cell_type": "code",
   "execution_count": null,
   "id": "2fba0e37-319b-4710-8aea-155b05a998a5",
   "metadata": {},
   "outputs": [],
   "source": []
  }
 ],
 "metadata": {
  "kernelspec": {
   "display_name": "Python 3 (ipykernel)",
   "language": "python",
   "name": "python3"
  },
  "language_info": {
   "codemirror_mode": {
    "name": "ipython",
    "version": 3
   },
   "file_extension": ".py",
   "mimetype": "text/x-python",
   "name": "python",
   "nbconvert_exporter": "python",
   "pygments_lexer": "ipython3",
   "version": "3.9.16"
  }
 },
 "nbformat": 4,
 "nbformat_minor": 5
}
