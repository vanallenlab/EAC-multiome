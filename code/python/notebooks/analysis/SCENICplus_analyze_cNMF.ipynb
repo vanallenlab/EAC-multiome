{
 "cells": [
  {
   "cell_type": "code",
   "execution_count": null,
   "id": "b71fd484",
   "metadata": {},
   "outputs": [],
   "source": [
    "import dill\n",
    "import pathlib as pl"
   ]
  },
  {
   "cell_type": "code",
   "execution_count": null,
   "id": "538a14a7-47a8-4b5d-86b0-90e9592a8c12",
   "metadata": {},
   "outputs": [],
   "source": [
    "import os\n",
    "from tqdm.notebook import tqdm"
   ]
  },
  {
   "cell_type": "code",
   "execution_count": null,
   "id": "0e35566b-142a-41cb-9701-0d8e960e6652",
   "metadata": {},
   "outputs": [],
   "source": [
    "import scanpy as sc"
   ]
  },
  {
   "cell_type": "code",
   "execution_count": null,
   "id": "03c67093-914a-447f-9c01-da82696f27b2",
   "metadata": {},
   "outputs": [],
   "source": []
  },
  {
   "cell_type": "code",
   "execution_count": null,
   "id": "d63eecf4-c964-49b2-844e-1ae030104063",
   "metadata": {},
   "outputs": [],
   "source": [
    "all_scplus = {}\n",
    "for f in tqdm(work_dir.iterdir()):\n",
    "    sample_name = f.stem\n",
    "    if sample_name==\"CCG1153_4411\":\n",
    "        continue\n",
    "    print(sample_name)\n",
    "    infile = open(f / 'scplus_obj.pkl', 'rb')\n",
    "    all_scplus[sample_name] = dill.load(infile)\n",
    "    infile.close()"
   ]
  },
  {
   "cell_type": "code",
   "execution_count": null,
   "id": "7e8b72a9-375b-4a09-b8ec-a8667273a2c3",
   "metadata": {},
   "outputs": [],
   "source": [
    "from scenicplus.utils import format_egrns\n",
    "for sample_name in tqdm(all_scplus):\n",
    "    format_egrns(all_scplus[sample_name], eregulons_key = 'eRegulons_importance', TF2G_key = 'TF2G_adj', key_added = 'eRegulon_metadata')"
   ]
  },
  {
   "cell_type": "code",
   "execution_count": null,
   "id": "ca55d111-eb5c-4bfa-a9d2-dd30531f707d",
   "metadata": {},
   "outputs": [],
   "source": []
  },
  {
   "cell_type": "code",
   "execution_count": null,
   "id": "53a81421-3fb1-40b3-b3a2-3545f583150f",
   "metadata": {},
   "outputs": [],
   "source": [
    "all_scplus[sample_name].uns['eRegulon_metadata'][all_scplus[sample_name].uns['eRegulon_metadata'].TF==\"BNC2\"]"
   ]
  },
  {
   "cell_type": "code",
   "execution_count": null,
   "id": "575c9e2e-4a7f-47c8-8110-a5ae931de470",
   "metadata": {},
   "outputs": [],
   "source": [
    "from scenicplus.eregulon_enrichment import *\n",
    "for sample_name in tqdm(all_scplus):\n",
    "    get_eRegulons_as_signatures(all_scplus[sample_name], eRegulon_metadata_key='eRegulon_metadata', key_added='eRegulon_signatures')"
   ]
  },
  {
   "cell_type": "code",
   "execution_count": null,
   "id": "bfdbe879-164e-4e20-8b88-1b2ef5e28c99",
   "metadata": {
    "scrolled": true
   },
   "outputs": [],
   "source": [
    "from scenicplus.cistromes import *\n",
    "import time\n",
    "\n",
    "for sample_name in tqdm(all_scplus):\n",
    "    start_time = time.time()\n",
    "    region_ranking = make_rankings(all_scplus[sample_name], target='region')\n",
    "    # Score region regulons\n",
    "    score_eRegulons(all_scplus[sample_name],\n",
    "                    ranking = region_ranking,\n",
    "                    eRegulon_signatures_key = 'eRegulon_signatures',\n",
    "                    key_added = 'eRegulon_AUC',\n",
    "                    enrichment_type= 'region',\n",
    "                    auc_threshold = 0.05,\n",
    "                    normalize = False,\n",
    "                    n_cpu = 1)\n",
    "    tm = time.time()-start_time\n",
    "    print(sample_name,tm/60)"
   ]
  },
  {
   "cell_type": "code",
   "execution_count": null,
   "id": "da2625ed-9cb1-43b8-987a-2b9b43e79365",
   "metadata": {},
   "outputs": [],
   "source": [
    "## Score transcriptome layer\n",
    "# Gene based raking\n",
    "from scenicplus.cistromes import *\n",
    "import time\n",
    "\n",
    "for sample_name in tqdm(all_scplus):\n",
    "    start_time = time.time()\n",
    "    gene_ranking = make_rankings(all_scplus[sample_name], target='gene')\n",
    "    # Score gene regulons\n",
    "    score_eRegulons(all_scplus[sample_name],\n",
    "                    gene_ranking,\n",
    "                    eRegulon_signatures_key = 'eRegulon_signatures',\n",
    "                    key_added = 'eRegulon_AUC',\n",
    "                    enrichment_type = 'gene',\n",
    "                    auc_threshold = 0.05,\n",
    "                    normalize= False,\n",
    "                    n_cpu = 1)\n",
    "    tm = time.time()-start_time\n",
    "    print(sample_name,tm/60)"
   ]
  },
  {
   "cell_type": "code",
   "execution_count": null,
   "id": "45c027a1-b207-48c9-a206-8d1035b7d224",
   "metadata": {},
   "outputs": [],
   "source": [
    "for sample_name in tqdm(all_scplus):\n",
    "\n",
    "    subset_cells = all_scplus[sample_name].metadata_cell[~all_scplus[sample_name].metadata_cell[\"ACC_highlevel_wcancer\"].isin([\"cNMF_Outlier\",\"Other\"])].index\n",
    "    \n",
    "    all_scplus[sample_name].subset(cells=subset_cells)\n",
    "    \n",
    "    all_scplus[sample_name].uns[\"eRegulon_AUC\"][\"Gene_based\"] = all_scplus[sample_name].uns[\"eRegulon_AUC\"][\"Gene_based\"].loc[subset_cells]\n",
    "    \n",
    "    all_scplus[sample_name].uns[\"eRegulon_AUC\"][\"Region_based\"] = all_scplus[sample_name].uns[\"eRegulon_AUC\"][\"Region_based\"].loc[subset_cells]"
   ]
  },
  {
   "cell_type": "code",
   "execution_count": null,
   "id": "b4b8874a-eba7-4a2e-b540-421793737cff",
   "metadata": {},
   "outputs": [],
   "source": []
  },
  {
   "cell_type": "code",
   "execution_count": null,
   "id": "da36d868-0bd0-4863-8596-dc1cc98e5eba",
   "metadata": {},
   "outputs": [],
   "source": [
    "# Generate pseudobulks\n",
    "import time\n",
    "\n",
    "for sample_name in tqdm(all_scplus):\n",
    "    start_time = time.time()\n",
    "    df = all_scplus[sample_name].metadata_cell.ACC_refined_wcancer.copy()\n",
    "    df = df.apply(lambda x: x if df.value_counts().loc[x]>=10 else \"Other\")\n",
    "    all_scplus[sample_name].metadata_cell[\"refined_wcancer_red\"] = df\n",
    "    generate_pseudobulks(all_scplus[sample_name],\n",
    "                             variable = \"refined_wcancer_red\",\n",
    "                             auc_key = 'eRegulon_AUC',\n",
    "                             signature_key = 'Gene_based',\n",
    "                             nr_cells = 5,\n",
    "                             nr_pseudobulks = 100,\n",
    "                             seed=555)\n",
    "    generate_pseudobulks(all_scplus[sample_name],\n",
    "                             variable = \"refined_wcancer_red\",\n",
    "                             auc_key = 'eRegulon_AUC',\n",
    "                             signature_key = 'Region_based',\n",
    "                             nr_cells = 5,\n",
    "                             nr_pseudobulks = 100,\n",
    "                             seed=555)\n",
    "    tm = time.time()-start_time\n",
    "    print(tm/60)"
   ]
  },
  {
   "cell_type": "code",
   "execution_count": null,
   "id": "73c39735-1784-40d9-9735-a37d37e36d66",
   "metadata": {
    "scrolled": true
   },
   "outputs": [],
   "source": [
    "# Correlation between TF and eRegulons\n",
    "import time\n",
    "\n",
    "for sample_name in tqdm(all_scplus):\n",
    "    start_time = time.time()\n",
    "    TF_cistrome_correlation(all_scplus[sample_name],\n",
    "                            variable = 'refined_wcancer_red',\n",
    "                            auc_key = 'eRegulon_AUC',\n",
    "                            signature_key = 'Gene_based',\n",
    "                            out_key = 'ACC_refined_wcancer_eGRN_gene_based')\n",
    "    TF_cistrome_correlation(all_scplus[sample_name],\n",
    "                            variable = 'refined_wcancer_red',\n",
    "                            auc_key = 'eRegulon_AUC',\n",
    "                            signature_key = 'Region_based',\n",
    "                            out_key = 'ACC_refined_wcancer_eGRN_region_based')\n",
    "    tm = time.time()-start_time\n",
    "    print(tm/60)"
   ]
  },
  {
   "cell_type": "code",
   "execution_count": null,
   "id": "7e97ecbb-1d19-4aeb-af3f-799742d5d709",
   "metadata": {},
   "outputs": [],
   "source": [
    "# Correlation between region based regulons and gene based regulons\n",
    "def select_regulons_filter(scplus_obj, corr_lim= 0.2):\n",
    "    df1 = scplus_obj.uns['eRegulon_AUC']['Gene_based'].copy()\n",
    "    df2 = scplus_obj.uns['eRegulon_AUC']['Region_based'].copy()\n",
    "    df1.columns = [x.split('_(')[0] for x in df1.columns]\n",
    "    df2.columns = [x.split('_(')[0] for x in df2.columns]\n",
    "    correlations = df1.corrwith(df2, axis = 0)\n",
    "    correlations = correlations[abs(correlations) > corr_lim]\n",
    "    # Kepp only activator\n",
    "    keep = [x for x in correlations.index if '+_+' in x] + [x for x in correlations.index if '+_-' in x] \n",
    "    # Keep extended if not direct\n",
    "    extended = [x for x in keep if 'extended' in x]\n",
    "    direct = [x for x in keep if not 'extended' in x]\n",
    "    keep_extended = [x for x in extended if not x.replace('extended_', '') in direct]\n",
    "    keep = direct + keep_extended\n",
    "    # Keep regulons with more than 10 genes\n",
    "    keep_gene = [x for x in scplus_obj.uns['eRegulon_AUC']['Gene_based'].columns if x.split('_(')[0] in keep]\n",
    "    keep_gene = [x for x in keep_gene if (int(x.split('_(')[1].replace('g)', '')) > 10)]\n",
    "    keep_all = [x.split('_(')[0] for x in keep_gene]\n",
    "    keep_region = [x for x in scplus_obj.uns['eRegulon_AUC']['Region_based'].columns if x.split('_(')[0] in keep]\n",
    "    scplus_obj.uns['selected_eRegulons'] = {}\n",
    "    scplus_obj.uns['selected_eRegulons']['Gene_based'] = keep_gene\n",
    "    scplus_obj.uns['selected_eRegulons']['Region_based'] = keep_region\n",
    "    return scplus_obj"
   ]
  },
  {
   "cell_type": "code",
   "execution_count": null,
   "id": "be43181c-2eef-43ff-8324-9737e6c626d4",
   "metadata": {},
   "outputs": [],
   "source": [
    "len(all_scplus[sample_name].uns[\"Cistromes\"][\"Unfiltered\"].keys())"
   ]
  },
  {
   "cell_type": "code",
   "execution_count": null,
   "id": "c8c85272-ffee-4bc0-8f28-ef05c10b29cb",
   "metadata": {},
   "outputs": [],
   "source": [
    "for sample_name in tqdm(all_scplus):\n",
    "    all_scplus[sample_name] = select_regulons_filter(all_scplus[sample_name])"
   ]
  },
  {
   "cell_type": "code",
   "execution_count": null,
   "id": "7416eb35-a86c-431f-ba90-9417f1d77b1c",
   "metadata": {},
   "outputs": [],
   "source": [
    "from scenicplus.plotting.correlation_plot import *\n",
    "correlation_heatmap(all_scplus[sample_name],\n",
    "                    auc_key = 'eRegulon_AUC',\n",
    "                    signature_keys = ['Gene_based'],\n",
    "                    selected_regulons = all_scplus[sample_name].uns['selected_eRegulons']['Gene_based'],\n",
    "                    fcluster_threshold = 0.1,\n",
    "                    fontsize = 10)"
   ]
  },
  {
   "cell_type": "code",
   "execution_count": null,
   "id": "52e74bc8-107a-49a2-823c-5d5dfe5674be",
   "metadata": {},
   "outputs": [],
   "source": []
  },
  {
   "cell_type": "code",
   "execution_count": null,
   "id": "14fff394-84cc-4166-bd39-30ebb2f35c19",
   "metadata": {},
   "outputs": [],
   "source": [
    "from scenicplus.RSS import *\n",
    "for sample_name in tqdm(all_scplus):\n",
    "    \n",
    "    regulon_specificity_scores(all_scplus[sample_name],\n",
    "                         'refined_wcancer_red',\n",
    "                         signature_keys=['Gene_based'],\n",
    "                         selected_regulons=all_scplus[sample_name].uns['selected_eRegulons']['Gene_based'],\n",
    "                         out_key_suffix='_gene_based',\n",
    "                         scale=False)"
   ]
  },
  {
   "cell_type": "code",
   "execution_count": null,
   "id": "e5329fba-b2d5-41d1-98bd-4adbe1bfa5bc",
   "metadata": {},
   "outputs": [],
   "source": [
    "rank_df = {}\n",
    "for state in [\"cNMF_1\",\"cNMF_3\",\"cNMF_4\",\"Carcinoma_undefined\"]:\n",
    "    rank_df[state] = []\n",
    "    for sample_name in tqdm(all_scplus):\n",
    "        df = all_scplus[sample_name].uns[\"RSS\"]['refined_wcancer_red_gene_based']\n",
    "        if state in df.index:\n",
    "            print(sample_name)\n",
    "            seldf = df.loc[state,:].sort_values(ascending=False).head(10)\n",
    "            seldf.name = sample_name\n",
    "            seldf.index = seldf.index.str.split(\"_\").str[0]\n",
    "            seldf = seldf.groupby(level=0).mean()\n",
    "            rank_df[state].append(seldf)\n",
    "    rank_df[state] = pd.concat(rank_df[state],axis=1)"
   ]
  },
  {
   "cell_type": "code",
   "execution_count": null,
   "id": "d628d655-4083-4af3-bc5b-a846e952b5bc",
   "metadata": {},
   "outputs": [],
   "source": [
    "seltfs = {}\n",
    "for state in [\"cNMF_1\",\"cNMF_3\",\"cNMF_4\",\"Carcinoma_undefined\"]:\n",
    "    seltfs[state] = rank_df[state][(~rank_df[state].isna()).sum(axis=1)>=2]"
   ]
  },
  {
   "cell_type": "code",
   "execution_count": null,
   "id": "075ecfe1-e036-4d57-848b-bf66eaef5e44",
   "metadata": {},
   "outputs": [],
   "source": [
    "seltfs[\"cNMF_4\"]"
   ]
  },
  {
   "cell_type": "code",
   "execution_count": null,
   "id": "9f44326f-0aba-4f19-a27d-662d57d4e154",
   "metadata": {},
   "outputs": [],
   "source": [
    "all_seltfs = []\n",
    "for state in seltfs:\n",
    "    all_seltfs.append(seltfs[state].index)\n",
    "all_seltfs = np.unique(np.hstack(all_seltfs))"
   ]
  },
  {
   "cell_type": "code",
   "execution_count": null,
   "id": "1df55299-e653-4e7e-82b2-c57608dce873",
   "metadata": {},
   "outputs": [],
   "source": [
    "all_seltfs"
   ]
  },
  {
   "cell_type": "code",
   "execution_count": null,
   "id": "e9b2efe1-a38d-4da5-9238-bf5e48dc6bd7",
   "metadata": {
    "scrolled": true
   },
   "outputs": [],
   "source": [
    "rank_df_TME = {}\n",
    "for ct in [\"Hepatic EC\", \"Kupffer cells\", \"TAM2\", \"TAM1\", \"Quiescent EC\", \"Inflammatory CAF\", \"HGF-CAF\", \"Fibroblast\", \n",
    "           \"DC\", \"B\", \"TCD4\", \"TCD8\", \"Angiogenic EC\",\"NK\",\"Treg\",\"Skeletal muscle\", \"Smooth muscle\"]:\n",
    "    print(ct)\n",
    "    rank_df_TME[ct] = []\n",
    "    for sample_name in tqdm(all_scplus):\n",
    "        df = all_scplus[sample_name].uns[\"RSS\"]['refined_wcancer_red_gene_based']\n",
    "        if ct in df.index:\n",
    "            print(sample_name)\n",
    "            seldf = df.loc[ct,:].sort_values(ascending=False).head(10)\n",
    "            seldf.name = sample_name\n",
    "            seldf.index = seldf.index.str.split(\"_\").str[0]\n",
    "            rank_df_TME[ct].append(seldf)\n",
    "    if len(rank_df_TME[ct])==0:\n",
    "        continue\n",
    "    else:\n",
    "        rank_df_TME[ct] = pd.concat(rank_df_TME[ct],axis=1)"
   ]
  },
  {
   "cell_type": "code",
   "execution_count": null,
   "id": "6cf177d7-9e61-419b-ad3d-7a994fc2b878",
   "metadata": {},
   "outputs": [],
   "source": [
    "seltfs_TME = {}\n",
    "for state in rank_df_TME.keys():\n",
    "    if len(rank_df_TME[state])>0:\n",
    "        seltfs_TME[state] = rank_df_TME[state][(~rank_df_TME[state].isna()).sum(axis=1)>=2]"
   ]
  },
  {
   "cell_type": "code",
   "execution_count": null,
   "id": "375a90fe-333a-4e52-a03a-42de3d82c87f",
   "metadata": {},
   "outputs": [],
   "source": [
    "all_seltfs_TME = []\n",
    "for state in seltfs_TME:\n",
    "    all_seltfs_TME.append(seltfs_TME[state].index)\n",
    "all_seltfs_TME = np.unique(np.hstack(all_seltfs_TME))"
   ]
  },
  {
   "cell_type": "markdown",
   "id": "a0b34f09-d68e-4451-9644-f40e82d0c06b",
   "metadata": {},
   "source": [
    "# Plotting SCENIC+ results"
   ]
  },
  {
   "cell_type": "markdown",
   "id": "dac4159b-87ab-467d-b619-29f14463b5c8",
   "metadata": {},
   "source": [
    "## cNMF results"
   ]
  },
  {
   "cell_type": "code",
   "execution_count": null,
   "id": "38bb9e68-0e00-45ff-b671-eeac060c4870",
   "metadata": {},
   "outputs": [],
   "source": [
    "all_seltfs = ['KLF5', 'ELF3', 'SMAD3', 'TCF7L2',  'HMGA2',\"BNC2\"]\n",
    "tf_order = all_seltfs"
   ]
  },
  {
   "cell_type": "code",
   "execution_count": null,
   "id": "db1ad748-01da-484e-9611-34ebb2c8aa41",
   "metadata": {},
   "outputs": [],
   "source": [
    "celltype_order = [\"Endothelial\",\"Epithelial\",\"Fibroblast\",\"Stromal_Muscle\",\"Lymphoid\",\n",
    "                  \"Myeloid\",\"Nerve_adrenal\",\"cNMF_3\",\"cNMF_1\",\"cNMF_4\",\"Carcinoma_undefined\"]"
   ]
  },
  {
   "cell_type": "code",
   "execution_count": null,
   "id": "ca984f63-61e2-4932-a81e-67c0d3bb648c",
   "metadata": {},
   "outputs": [],
   "source": [
    "all_plot_dfs = []\n",
    "for sample_name in all_scplus:\n",
    "    gex_adata = sc.AnnData(all_scplus[sample_name].to_df(\"EXP\").copy())\n",
    "    sc.pp.normalize_total(adata=gex_adata, target_sum=10000)\n",
    "    sc.pp.log1p(gex_adata)\n",
    "    gex_df = pd.DataFrame(gex_adata[:,all_seltfs].X.copy(),\n",
    "                          index=all_scplus[sample_name].cell_names,\n",
    "                          columns=all_seltfs)\n",
    "    plot_df = pd.concat([gex_df,\n",
    "                     all_scplus[sample_name].metadata_cell[\"ACC_highlevel_wcancer\"]],axis=1)\n",
    "\n",
    "    all_plot_dfs.append(plot_df)\n",
    "all_plot_dfs = pd.concat(all_plot_dfs)\n",
    "\n",
    "full_auc = all_plot_dfs.drop(\"ACC_highlevel_wcancer\",axis=1).copy()\n",
    "full_auc = (full_auc - full_auc.mean())/full_auc.std()\n",
    "all_plot_dfs = pd.concat([full_auc,all_plot_dfs[\"ACC_highlevel_wcancer\"]],axis=1)\n",
    "\n",
    "all_plot_dfs = all_plot_dfs.groupby(by=\"ACC_highlevel_wcancer\").mean()"
   ]
  },
  {
   "cell_type": "code",
   "execution_count": null,
   "id": "c4ed0595-7e57-4a38-a7ae-9a929af62274",
   "metadata": {},
   "outputs": [],
   "source": [
    "fig, ax = plt.subplots(1,1,figsize=(5,5))\n",
    "sns.heatmap(data=all_plot_dfs.loc[celltype_order,tf_order], cmap=\"vlag\", \n",
    "            center=0, ax=ax, cbar_kws={\"label\": \"TF Z-score\"}, linewidths=1, linecolor=\"grey\")\n",
    "ax.set_xticklabels(ax.get_xticklabels(), rotation=45, ha=\"right\")\n",
    "ax.set_ylabel(\"\")\n",
    "fig.savefig(\"figures/malignant/cNMF_scenic_TF_zscore.svg\", dpi=200, bbox_inches=\"tight\")"
   ]
  },
  {
   "cell_type": "code",
   "execution_count": null,
   "id": "a394166d-ac32-4974-a157-63f9328aad5e",
   "metadata": {},
   "outputs": [],
   "source": [
    "all_plot_dfs = []\n",
    "for sample_name in all_scplus:\n",
    "    gex_adata = sc.AnnData(all_scplus[sample_name].to_df(\"EXP\").copy(),\n",
    "                           obs=all_scplus[sample_name].metadata_cell[[\"ACC_highlevel_celltype\"]])\n",
    "    sc.pp.normalize_total(adata=gex_adata, target_sum=10000)\n",
    "    sc.pp.log1p(gex_adata)\n",
    "    gex_df = pd.DataFrame(gex_adata[gex_adata.obs[\"ACC_highlevel_celltype\"]==\"Carcinoma\",all_seltfs].X.copy(),\n",
    "                          index=gex_adata.obs[gex_adata.obs[\"ACC_highlevel_celltype\"]==\"Carcinoma\"].index,\n",
    "                          columns=all_seltfs)\n",
    "    plot_df = pd.concat([gex_df,\n",
    "                     all_scplus[sample_name].metadata_cell[\"ACC_highlevel_wcancer\"]],axis=1).dropna()\n",
    "\n",
    "    all_plot_dfs.append(plot_df)\n",
    "all_plot_dfs = pd.concat(all_plot_dfs)\n",
    "\n",
    "full_auc = all_plot_dfs.drop(\"ACC_highlevel_wcancer\",axis=1).copy()\n",
    "full_auc = (full_auc - full_auc.mean())/full_auc.std()\n",
    "all_plot_dfs = pd.concat([full_auc,all_plot_dfs[\"ACC_highlevel_wcancer\"]],axis=1)\n",
    "\n",
    "all_plot_dfs = all_plot_dfs.groupby(by=\"ACC_highlevel_wcancer\").mean()"
   ]
  },
  {
   "cell_type": "code",
   "execution_count": null,
   "id": "405a8748-f939-4ec3-bfbe-e2d4ad75da3e",
   "metadata": {},
   "outputs": [],
   "source": [
    "fig, ax = plt.subplots(1,1,figsize=(5,3))\n",
    "sns.heatmap(data=all_plot_dfs.loc[[\"cNMF_3\",\"cNMF_1\",\"cNMF_4\",\"Carcinoma_undefined\"],tf_order], cmap=\"vlag\", \n",
    "            center=0, ax=ax, cbar_kws={\"label\": \"TF Z-score\"},linewidths=1, linecolor=\"grey\")\n",
    "ax.set_xticklabels(ax.get_xticklabels(), rotation=45, ha=\"right\")\n",
    "ax.set_yticklabels(ax.get_yticklabels(), rotation=0, ha=\"right\")\n",
    "ax.set_ylabel(\"\")\n",
    "fig.savefig(\"figures/malignant/cNMF_scenic_TF_zscore_malonly.svg\", dpi=200, bbox_inches=\"tight\")"
   ]
  },
  {
   "cell_type": "code",
   "execution_count": null,
   "id": "11a0ffab-3f78-4b5c-91eb-ab85ea206357",
   "metadata": {},
   "outputs": [],
   "source": [
    "all_plot_dfs = []\n",
    "for sample_name in all_scplus:\n",
    "    auc_alltfs = []\n",
    "    for tf in all_seltfs:\n",
    "        auc_df = all_scplus[sample_name].uns[\"eRegulon_AUC\"][\"Gene_based\"].copy()\n",
    "        auc_df = auc_df.loc[:,auc_df.columns.str.contains(tf)]\n",
    "        if auc_df.shape[1]==0:\n",
    "            continue\n",
    "        \n",
    "        if auc_df.shape[1]>1:\n",
    "            auc_df = auc_df.loc[:,~auc_df.columns.str.contains(\"extended\")]\n",
    "            auc_df = auc_df.loc[:,~auc_df.columns.str.contains(\"+_-\", regex=False)]\n",
    "            auc_df = auc_df.loc[:,~auc_df.columns.str.contains(\"-_+\", regex=False)]\n",
    "        auc_df.columns = auc_df.columns.str.split(\"_\").str[0]\n",
    "        auc_alltfs.append(auc_df)\n",
    "    auc_alltfs = pd.concat(auc_alltfs,axis=1)\n",
    "    auc_alltfs = pd.concat([auc_alltfs, all_scplus[sample_name].metadata_cell[\"ACC_highlevel_wcancer\"]],\n",
    "                           axis=1)\n",
    "    all_plot_dfs.append(auc_alltfs)\n",
    "\n",
    "all_plot_dfs = pd.concat(all_plot_dfs).fillna(0)\n",
    "\n",
    "full_auc = all_plot_dfs.drop(\"ACC_highlevel_wcancer\",axis=1).copy()\n",
    "full_auc = (full_auc - full_auc.mean())/full_auc.std()\n",
    "all_plot_dfs = pd.concat([full_auc,all_plot_dfs[\"ACC_highlevel_wcancer\"]],axis=1)\n",
    "\n",
    "all_plot_dfs = all_plot_dfs.groupby(by=\"ACC_highlevel_wcancer\").mean()"
   ]
  },
  {
   "cell_type": "code",
   "execution_count": null,
   "id": "13577556-f1d4-48a9-bf01-e68a7e398659",
   "metadata": {},
   "outputs": [],
   "source": [
    "fig, ax = plt.subplots(1,1,figsize=(5,5))\n",
    "sns.heatmap(data=all_plot_dfs.loc[celltype_order,tf_order], cmap=\"vlag\", \n",
    "            center=0, vmin=-1, vmax=1, ax=ax, linewidths=1, linecolor=\"grey\",\n",
    "            cbar_kws={\"label\": \"eRegulon Gene-based expression, Z-score\"})\n",
    "ax.set_xticklabels(ax.get_xticklabels(), rotation=45, ha=\"right\")\n",
    "ax.set_ylabel(\"\")\n",
    "fig.savefig(\"figures/malignant/cNMF_scenic_eRegulon_gene_based_zscore.svg\", dpi=200, bbox_inches=\"tight\")"
   ]
  },
  {
   "cell_type": "code",
   "execution_count": null,
   "id": "3a80bd61-e65c-4e1a-b1d1-59eee209f4a3",
   "metadata": {},
   "outputs": [],
   "source": [
    "all_plot_dfs = []\n",
    "for sample_name in all_scplus:\n",
    "    auc_alltfs = []\n",
    "    selcells = all_scplus[sample_name].metadata_cell[all_scplus[sample_name].metadata_cell[\"ACC_highlevel_annotation\"]==\"Carcinoma\"].index\n",
    "    for tf in all_seltfs:\n",
    "        auc_df = all_scplus[sample_name].uns[\"eRegulon_AUC\"][\"Gene_based\"].copy()\n",
    "        auc_df = auc_df.loc[selcells,auc_df.columns.str.contains(tf)]\n",
    "        if auc_df.shape[1]==0:\n",
    "            continue\n",
    "        \n",
    "        if auc_df.shape[1]>1:\n",
    "            auc_df = auc_df.loc[:,~auc_df.columns.str.contains(\"extended\")]\n",
    "            auc_df = auc_df.loc[:,~auc_df.columns.str.contains(\"+_-\", regex=False)]\n",
    "            auc_df = auc_df.loc[:,~auc_df.columns.str.contains(\"-_+\", regex=False)]\n",
    "            \n",
    "        auc_df.columns = auc_df.columns.str.split(\"_\").str[0]\n",
    "        auc_alltfs.append(auc_df)\n",
    "    auc_alltfs = pd.concat(auc_alltfs,axis=1)\n",
    "    auc_alltfs = pd.concat([auc_alltfs, all_scplus[sample_name].metadata_cell.loc[selcells,\"ACC_highlevel_wcancer\"]],\n",
    "                           axis=1)\n",
    "    all_plot_dfs.append(auc_alltfs)\n",
    "\n",
    "all_plot_dfs = pd.concat(all_plot_dfs).fillna(0)\n",
    "\n",
    "full_auc = all_plot_dfs.drop(\"ACC_highlevel_wcancer\",axis=1).copy()\n",
    "full_auc = (full_auc - full_auc.mean())/full_auc.std()\n",
    "all_plot_dfs = pd.concat([full_auc,all_plot_dfs[\"ACC_highlevel_wcancer\"]],axis=1)\n",
    "\n",
    "all_plot_dfs = all_plot_dfs.groupby(by=\"ACC_highlevel_wcancer\").mean()"
   ]
  },
  {
   "cell_type": "code",
   "execution_count": null,
   "id": "2b33167b-5af6-4ee1-8a4e-e9d91ddf0f78",
   "metadata": {},
   "outputs": [],
   "source": [
    "fig, ax = plt.subplots(1,1,figsize=(5,3))\n",
    "sns.heatmap(data=all_plot_dfs.loc[[\"cNMF_3\",\"cNMF_1\",\"cNMF_4\",\"Carcinoma_undefined\"],\n",
    "            tf_order], cmap=\"vlag\", center=0, vmin=-1, vmax=1, ax=ax, linewidths=1, linecolor=\"grey\",\n",
    "            cbar_kws={\"label\": \"eRegulon Gene-based expression, Z-score\"})\n",
    "ax.set_xticklabels(ax.get_xticklabels(), rotation=45, ha=\"right\")\n",
    "ax.set_ylabel(\"\")\n",
    "fig.savefig(\"figures/malignant/cNMF_scenic_eRegulon_gene_based_zscore.svg\", dpi=200, bbox_inches=\"tight\")"
   ]
  },
  {
   "cell_type": "code",
   "execution_count": null,
   "id": "a19c0281-a984-48fc-9ded-db411fbacfbb",
   "metadata": {},
   "outputs": [],
   "source": [
    "all_plot_dfs = []\n",
    "for sample_name in all_scplus:\n",
    "    auc_alltfs = []\n",
    "    for tf in all_seltfs:\n",
    "        auc_df = all_scplus[sample_name].uns[\"eRegulon_AUC\"][\"Region_based\"].copy()\n",
    "        auc_df = auc_df.loc[:,auc_df.columns.str.contains(tf)]\n",
    "        if auc_df.shape[1]==0:\n",
    "            continue\n",
    "        \n",
    "        if auc_df.shape[1]>1:\n",
    "            auc_df = auc_df.loc[:,~auc_df.columns.str.contains(\"extended\")]\n",
    "            auc_df = auc_df.loc[:,~auc_df.columns.str.contains(\"+_-\", regex=False)]\n",
    "            auc_df = auc_df.loc[:,~auc_df.columns.str.contains(\"-_+\", regex=False)]\n",
    "        auc_df.columns = auc_df.columns.str.split(\"_\").str[0]\n",
    "        auc_alltfs.append(auc_df)\n",
    "    auc_alltfs = pd.concat(auc_alltfs,axis=1)\n",
    "    auc_alltfs = pd.concat([auc_alltfs, all_scplus[sample_name].metadata_cell[\"ACC_highlevel_wcancer\"]],\n",
    "                           axis=1)\n",
    "    all_plot_dfs.append(auc_alltfs)\n",
    "\n",
    "all_plot_dfs = pd.concat(all_plot_dfs).fillna(0)\n",
    "\n",
    "full_auc = all_plot_dfs.drop(\"ACC_highlevel_wcancer\",axis=1).copy()\n",
    "full_auc = (full_auc - full_auc.mean())/full_auc.std()\n",
    "all_plot_dfs = pd.concat([full_auc,all_plot_dfs[\"ACC_highlevel_wcancer\"]],axis=1)\n",
    "\n",
    "all_plot_dfs = all_plot_dfs.groupby(by=\"ACC_highlevel_wcancer\").mean()"
   ]
  },
  {
   "cell_type": "code",
   "execution_count": null,
   "id": "074b4ad7-1a82-48b9-a66e-9931ac028a43",
   "metadata": {},
   "outputs": [],
   "source": [
    "fig, ax = plt.subplots(1,1,figsize=(5,5))\n",
    "sns.heatmap(data=all_plot_dfs.loc[celltype_order,tf_order], cmap=\"vlag\", \n",
    "            center=0, vmin=-1, vmax=1, ax=ax, linewidths=1, linecolor=\"grey\",\n",
    "            cbar_kws={\"label\": \"eRegulon Region-based expression, Z-score\"})\n",
    "ax.set_xticklabels(ax.get_xticklabels(), rotation=45, ha=\"right\")\n",
    "ax.set_ylabel(\"\")\n",
    "fig.savefig(\"figures/malignant/cNMF_scenic_eRegulon_region_based_zscore.svg\", dpi=200, bbox_inches=\"tight\")"
   ]
  },
  {
   "cell_type": "code",
   "execution_count": null,
   "id": "0cef957a-3e0f-42ce-a1ab-c8b7f0617994",
   "metadata": {},
   "outputs": [],
   "source": [
    "all_plot_dfs = []\n",
    "for sample_name in all_scplus:\n",
    "    auc_alltfs = []\n",
    "    selcells = all_scplus[sample_name].metadata_cell[all_scplus[sample_name].metadata_cell[\"ACC_highlevel_annotation\"]==\"Carcinoma\"].index\n",
    "    for tf in all_seltfs:\n",
    "        auc_df = all_scplus[sample_name].uns[\"eRegulon_AUC\"][\"Region_based\"].copy()\n",
    "        auc_df = auc_df.loc[selcells,auc_df.columns.str.contains(tf)]\n",
    "        if auc_df.shape[1]==0:\n",
    "            continue\n",
    "        \n",
    "        if auc_df.shape[1]>1:\n",
    "            auc_df = auc_df.loc[:,~auc_df.columns.str.contains(\"extended\")]\n",
    "            auc_df = auc_df.loc[:,~auc_df.columns.str.contains(\"+_-\", regex=False)]\n",
    "            auc_df = auc_df.loc[:,~auc_df.columns.str.contains(\"-_+\", regex=False)]\n",
    "        auc_df.columns = auc_df.columns.str.split(\"_\").str[0]\n",
    "        auc_alltfs.append(auc_df)\n",
    "    auc_alltfs = pd.concat(auc_alltfs,axis=1)\n",
    "    auc_alltfs = pd.concat([auc_alltfs, all_scplus[sample_name].metadata_cell.loc[selcells,\"ACC_highlevel_wcancer\"]],\n",
    "                           axis=1)\n",
    "    all_plot_dfs.append(auc_alltfs)\n",
    "\n",
    "all_plot_dfs = pd.concat(all_plot_dfs).fillna(0)\n",
    "\n",
    "full_auc = all_plot_dfs.drop(\"ACC_highlevel_wcancer\",axis=1).copy()\n",
    "full_auc = (full_auc - full_auc.mean())/full_auc.std()\n",
    "all_plot_dfs = pd.concat([full_auc,all_plot_dfs[\"ACC_highlevel_wcancer\"]],axis=1)\n",
    "\n",
    "all_plot_dfs = all_plot_dfs.groupby(by=\"ACC_highlevel_wcancer\").mean()"
   ]
  },
  {
   "cell_type": "code",
   "execution_count": null,
   "id": "812c4413-194d-4190-bb19-3e37fadffe7b",
   "metadata": {},
   "outputs": [],
   "source": [
    "fig, ax = plt.subplots(1,1,figsize=(5,3))\n",
    "sns.heatmap(data=all_plot_dfs.loc[[\"cNMF_3\",\"cNMF_1\",\"cNMF_4\",\"Carcinoma_undefined\"],\n",
    "            tf_order], cmap=\"vlag\", center=0, vmin=-1, vmax=1, ax=ax, linewidths=1, linecolor=\"grey\",\n",
    "            cbar_kws={\"label\": \"eRegulon Region-based expression, Z-score\"})\n",
    "ax.set_xticklabels(ax.get_xticklabels(), rotation=45, ha=\"right\")\n",
    "ax.set_ylabel(\"\")\n",
    "fig.savefig(\"figures/malignant/cNMF_scenic_eRegulon_gene_based_zscore.svg\", dpi=200, bbox_inches=\"tight\")"
   ]
  },
  {
   "cell_type": "markdown",
   "id": "f8b1c610-3b70-4e7e-a996-b27f4117774e",
   "metadata": {},
   "source": [
    "## TME results"
   ]
  },
  {
   "cell_type": "code",
   "execution_count": null,
   "id": "1a61bb2b-e71c-4fcc-9c10-6292a6784249",
   "metadata": {},
   "outputs": [],
   "source": [
    "tf_order = [\"ERG\", \"ELK3\", \"HLX\", \"ETS1\", \"FLI1\",  \"RUNX3\",\n",
    "            \"IKZF1\",\"IKZF3\",\"NFATC2\",\"NFATC3\",\n",
    "            \"VDR\",\"IRF8\",\"SPI1\",\"IRF5\",\"RBPJ\",\"ETV5\", \"MAFB\",\"MITF\",\"MEF2C\",\n",
    "            \"BNC2\",\"RUNX1\",\"RUNX2\",\"PRRX1\",\"NFATC4\",\"RARB\",\"SOX5\",\n",
    "            \"TCF4\",\"TCF7L1\",\"WT1\"]"
   ]
  },
  {
   "cell_type": "code",
   "execution_count": null,
   "id": "1aec647a-a90d-4507-978a-f574813cdbd7",
   "metadata": {},
   "outputs": [],
   "source": [
    "celltype_order = [\"Angiogenic EC\", \"Hepatic EC\", \"Quiescent EC\", \"B\", \"TCD4\", \"TCD8\", \"Treg\", \"NK\",\n",
    "                  \"TAM1\",\"TAM2\", \"DC\",\"Kupffer cells\",\n",
    "                   \"Inflammatory CAF\", \"HGF-CAF\", \"Fibroblast\", \"Smooth muscle\", \"Skeletal muscle\",\n",
    "                  \"cNMF_1\",\"cNMF_3\",\"cNMF_4\",\"Carcinoma_undefined\"]"
   ]
  },
  {
   "cell_type": "code",
   "execution_count": null,
   "id": "e27645d4-9bca-4ac4-a976-ea47570a75c4",
   "metadata": {
    "scrolled": true
   },
   "outputs": [],
   "source": [
    "all_plot_dfs = []\n",
    "for sample_name in all_scplus:\n",
    "    gex_adata = sc.AnnData(all_scplus[sample_name].to_df(\"EXP\").copy())\n",
    "    sc.pp.normalize_total(adata=gex_adata, target_sum=10000)\n",
    "    sc.pp.log1p(gex_adata)\n",
    "    gex_df = pd.DataFrame(gex_adata[:,all_seltfs_TME].X.copy(),\n",
    "                          index=all_scplus[sample_name].cell_names,\n",
    "                          columns=all_seltfs_TME)\n",
    "    plot_df = pd.concat([gex_df,\n",
    "                     all_scplus[sample_name].metadata_cell[\"refined_wcancer_red\"].replace({\"TAM3\": \"TAM2\"})],axis=1)\n",
    "\n",
    "    all_plot_dfs.append(plot_df)\n",
    "all_plot_dfs = pd.concat(all_plot_dfs)\n",
    "\n",
    "full_gex = all_plot_dfs.iloc[:,:-1].copy()\n",
    "full_gex = (full_gex - full_gex.mean())/full_gex.std()\n",
    "all_plot_dfs = pd.concat([full_gex,all_plot_dfs.iloc[:,-1]],axis=1)\n",
    "\n",
    "all_plot_dfs = all_plot_dfs.groupby(by=\"refined_wcancer_red\").mean()"
   ]
  },
  {
   "cell_type": "code",
   "execution_count": null,
   "id": "76280379-1bca-42d8-a1a0-e5260d10fdaf",
   "metadata": {},
   "outputs": [],
   "source": [
    "fig, ax = plt.subplots(1,1,figsize=(8,8))\n",
    "sns.heatmap(data=all_plot_dfs.loc[celltype_order,tf_order], cmap=\"vlag\", center=0, vmin=-1, vmax=2, ax=ax, cbar_kws={\"label\": \"TF Z-score\"})\n",
    "ax.set_xticklabels(ax.get_xticklabels(), rotation=45, ha=\"right\")\n",
    "ax.set_ylabel(\"\")\n",
    "fig.savefig(\"figures/TME/TME_scenic_TF_zscore.svg\", dpi=200, bbox_inches=\"tight\")"
   ]
  },
  {
   "cell_type": "code",
   "execution_count": null,
   "id": "4f33454e-b6d2-43be-ac98-d713bda2c218",
   "metadata": {},
   "outputs": [],
   "source": [
    "fig, ax = plt.subplots(1,1,figsize=(3,2))\n",
    "sns.heatmap(data=all_plot_dfs.loc[[\"Inflammatory CAF\",\"HGF-CAF\",\"Fibroblast\"],[\"BNC2\",\"RUNX1\",\"RUNX2\",\"PRRX1\",\"NFATC4\",\"ETS1\"]], cmap=\"vlag\", center=0, vmin=-1, vmax=2, ax=ax, cbar_kws={\"label\": \"TF Z-score\"})\n",
    "ax.set_xticklabels(ax.get_xticklabels(), rotation=45, ha=\"right\")\n",
    "ax.set_ylabel(\"\")\n",
    "fig.savefig(\"figures/TME/TME_Fibroblasts_scenic_TF_zscore.svg\", dpi=200, bbox_inches=\"tight\")"
   ]
  },
  {
   "cell_type": "code",
   "execution_count": null,
   "id": "709462a2-3a93-4045-85ff-c740ff29b934",
   "metadata": {},
   "outputs": [],
   "source": [
    "all_plot_dfs = []\n",
    "for sample_name in all_scplus:\n",
    "    auc_alltfs = []\n",
    "    for tf in all_seltfs_TME:\n",
    "        auc_df = all_scplus[sample_name].uns[\"eRegulon_AUC\"][\"Gene_based\"].copy()\n",
    "        auc_df = auc_df.loc[:,auc_df.columns.str.contains(tf)]\n",
    "        if auc_df.shape[1]==0:\n",
    "            continue\n",
    "        \n",
    "        if auc_df.shape[1]>1:\n",
    "            auc_df = auc_df.loc[:,~auc_df.columns.str.contains(\"extended\")]\n",
    "            auc_df = auc_df.loc[:,~auc_df.columns.str.contains(\"+_-\", regex=False)]\n",
    "            auc_df = auc_df.loc[:,~auc_df.columns.str.contains(\"-_+\", regex=False)]\n",
    "        auc_df.columns = auc_df.columns.str.split(\"_\").str[0]\n",
    "        auc_alltfs.append(auc_df)\n",
    "    auc_alltfs = pd.concat(auc_alltfs,axis=1)\n",
    "    auc_alltfs = pd.concat([auc_alltfs, all_scplus[sample_name].metadata_cell[\"refined_wcancer_red\"].replace({\"TAM3\": \"TAM2\"})],\n",
    "                           axis=1)\n",
    "    all_plot_dfs.append(auc_alltfs)\n",
    "\n",
    "all_plot_dfs = pd.concat(all_plot_dfs).fillna(0)\n",
    "\n",
    "full_auc = all_plot_dfs.drop(\"refined_wcancer_red\",axis=1).copy()\n",
    "full_auc = (full_auc - full_auc.mean())/full_auc.std()\n",
    "all_plot_dfs = pd.concat([full_auc,all_plot_dfs[\"refined_wcancer_red\"]],axis=1)\n",
    "\n",
    "all_plot_dfs = all_plot_dfs.groupby(by=\"refined_wcancer_red\").mean()"
   ]
  },
  {
   "cell_type": "code",
   "execution_count": null,
   "id": "56dee185-7b01-456d-9e25-31c16bad4a7d",
   "metadata": {},
   "outputs": [],
   "source": [
    "fig, ax = plt.subplots(1,1,figsize=(8,8))\n",
    "sns.heatmap(data=all_plot_dfs.loc[celltype_order,tf_order], cmap=\"vlag\", center=0, vmin=-1, vmax=2, ax=ax, cbar_kws={\"label\": \"eRegulon Gene-based expression, Z-score\"})\n",
    "ax.set_xticklabels(ax.get_xticklabels(), rotation=45, ha=\"right\")\n",
    "ax.set_ylabel(\"\")\n",
    "fig.savefig(\"figures/TME/TME_scenic_eRegulon_gene_based_zscore.svg\", dpi=200, bbox_inches=\"tight\")"
   ]
  },
  {
   "cell_type": "code",
   "execution_count": null,
   "id": "2b49534a-697b-445a-b4a0-68f88c87d13f",
   "metadata": {},
   "outputs": [],
   "source": [
    "fig, ax = plt.subplots(1,1,figsize=(3,2))\n",
    "sns.heatmap(data=all_plot_dfs.loc[[\"Inflammatory CAF\",\"HGF-CAF\",\"Fibroblast\"],\n",
    "            [\"BNC2\",\"RUNX1\",\"RUNX2\",\"PRRX1\",\"NFATC4\",\"ETS1\"]], cmap=\"vlag\", center=0, vmin=-1, vmax=3, ax=ax, cbar_kws={\"label\": \"eRegulon Gene-based expression, Z-score\"})\n",
    "ax.set_xticklabels(ax.get_xticklabels(), rotation=45, ha=\"right\")\n",
    "ax.set_ylabel(\"\")\n",
    "fig.savefig(\"figures/TME/TME_Fibroblasts_eRegulon_gene_based_zscore.svg\", dpi=200, bbox_inches=\"tight\")"
   ]
  },
  {
   "cell_type": "code",
   "execution_count": null,
   "id": "3456acd8-34ff-43a8-a9fd-59a9612b0afd",
   "metadata": {},
   "outputs": [],
   "source": [
    "all_plot_dfs = []\n",
    "for sample_name in all_scplus:\n",
    "    auc_alltfs = []\n",
    "    for tf in all_seltfs_TME:\n",
    "        auc_df = all_scplus[sample_name].uns[\"eRegulon_AUC\"][\"Region_based\"].copy()\n",
    "        auc_df = auc_df.loc[:,auc_df.columns.str.contains(tf)]\n",
    "        if auc_df.shape[1]==0:\n",
    "            continue\n",
    "        \n",
    "        if auc_df.shape[1]>1:\n",
    "            auc_df = auc_df.loc[:,~auc_df.columns.str.contains(\"extended\")]\n",
    "            auc_df = auc_df.loc[:,~auc_df.columns.str.contains(\"+_-\", regex=False)]\n",
    "            auc_df = auc_df.loc[:,~auc_df.columns.str.contains(\"-_+\", regex=False)]\n",
    "        auc_df.columns = auc_df.columns.str.split(\"_\").str[0]\n",
    "        auc_alltfs.append(auc_df)\n",
    "    auc_alltfs = pd.concat(auc_alltfs,axis=1)\n",
    "    auc_alltfs = pd.concat([auc_alltfs, all_scplus[sample_name].metadata_cell[\"refined_wcancer_red\"].replace({\"TAM3\": \"TAM2\"})],\n",
    "                           axis=1)\n",
    "    all_plot_dfs.append(auc_alltfs)\n",
    "\n",
    "all_plot_dfs = pd.concat(all_plot_dfs).fillna(0)\n",
    "\n",
    "full_auc = all_plot_dfs.drop(\"refined_wcancer_red\",axis=1).copy()\n",
    "full_auc = (full_auc - full_auc.mean())/full_auc.std()\n",
    "all_plot_dfs = pd.concat([full_auc,all_plot_dfs[\"refined_wcancer_red\"]],axis=1)\n",
    "\n",
    "all_plot_dfs = all_plot_dfs.groupby(by=\"refined_wcancer_red\").mean()"
   ]
  },
  {
   "cell_type": "code",
   "execution_count": null,
   "id": "2e342c4f-6ba9-4fb3-b66d-bde76d5a681f",
   "metadata": {},
   "outputs": [],
   "source": [
    "fig, ax = plt.subplots(1,1,figsize=(8,8))\n",
    "sns.heatmap(data=all_plot_dfs.loc[celltype_order,tf_order], cmap=\"vlag\", center=0, vmin=-1, vmax=2, ax=ax, cbar_kws={\"label\": \"eRegulon Region-based expression, Z-score\"})\n",
    "ax.set_xticklabels(ax.get_xticklabels(), rotation=45, ha=\"right\")\n",
    "ax.set_ylabel(\"\")\n",
    "fig.savefig(\"figures/TME/TME_scenic_eRegulon_region_based_zscore.svg\", dpi=200, bbox_inches=\"tight\")"
   ]
  },
  {
   "cell_type": "code",
   "execution_count": null,
   "id": "3953882d-320c-42e2-9549-07ab5e9ef64e",
   "metadata": {},
   "outputs": [],
   "source": [
    "fig, ax = plt.subplots(1,1,figsize=(3,2))\n",
    "sns.heatmap(data=all_plot_dfs.loc[[\"Inflammatory CAF\",\"HGF-CAF\",\"Fibroblast\"],\n",
    "            [\"BNC2\",\"RUNX1\",\"RUNX2\",\"PRRX1\",\"NFATC4\",\"ETS1\"]], cmap=\"vlag\", center=0, vmin=-1, vmax=2, ax=ax, cbar_kws={\"label\": \"eRegulon Region-based expression, Z-score\"})\n",
    "ax.set_xticklabels(ax.get_xticklabels(), rotation=45, ha=\"right\")\n",
    "ax.set_ylabel(\"\")\n",
    "fig.savefig(\"figures/TME/TME_Fibroblasts_eRegulon_region_based_zscore.svg\", dpi=200, bbox_inches=\"tight\")"
   ]
  },
  {
   "cell_type": "code",
   "execution_count": null,
   "id": "a7b820bb-8b81-4851-98c0-a23674f10243",
   "metadata": {},
   "outputs": [],
   "source": []
  }
 ],
 "metadata": {
  "kernelspec": {
   "display_name": "Python 3 (ipykernel)",
   "language": "python",
   "name": "python3"
  },
  "language_info": {
   "codemirror_mode": {
    "name": "ipython",
    "version": 3
   },
   "file_extension": ".py",
   "mimetype": "text/x-python",
   "name": "python",
   "nbconvert_exporter": "python",
   "pygments_lexer": "ipython3",
   "version": "3.9.16"
  }
 },
 "nbformat": 4,
 "nbformat_minor": 5
}
