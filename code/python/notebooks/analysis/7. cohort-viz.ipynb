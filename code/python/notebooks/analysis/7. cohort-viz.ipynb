{
 "cells": [
  {
   "cell_type": "code",
   "execution_count": null,
   "id": "37c48700-ae8a-4746-8f82-1ac985692bd8",
   "metadata": {},
   "outputs": [],
   "source": [
    "import scanpy as sc\n",
    "import pandas as pd\n",
    "import numpy as np\n",
    "import matplotlib.pyplot as plt\n",
    "import seaborn as sns\n",
    "import palettable\n",
    "\n",
    "import pathlib as pl\n",
    "\n",
    "from tqdm.notebook import tqdm"
   ]
  },
  {
   "cell_type": "code",
   "execution_count": null,
   "id": "702b92f3-d670-4a12-9ae6-a94833cbec66",
   "metadata": {},
   "outputs": [],
   "source": [
    "import scib\n",
    "\n",
    "from scipy.stats import fisher_exact"
   ]
  },
  {
   "cell_type": "code",
   "execution_count": null,
   "id": "cccd2928-4f0e-49fc-a833-d8031637adf9",
   "metadata": {},
   "outputs": [],
   "source": [
    "def pretty_ax(ax):\n",
    "    ax.spines['right'].set_visible(False)\n",
    "    ax.spines['top'].set_visible(False)\n",
    "    ax.tick_params(\n",
    "        axis='both',  \n",
    "        which='both',      \n",
    "        bottom=True,     \n",
    "        top=False,\n",
    "        left=False,\n",
    "        labelbottom=False,\n",
    "        labelleft = False)\n",
    "    ax.spines[\"bottom\"].set_linewidth(1.5)\n",
    "    ax.spines[\"left\"].set_linewidth(1.5)"
   ]
  },
  {
   "cell_type": "code",
   "execution_count": null,
   "id": "b886c8bb-0cd8-4494-a8af-98f8260efcb2",
   "metadata": {},
   "outputs": [],
   "source": [
    "def pretty_ax_wlabels(ax):\n",
    "    ax.spines['right'].set_visible(False)\n",
    "    ax.spines['top'].set_visible(False)\n",
    "    ax.tick_params(\n",
    "        axis='both',  \n",
    "        which='both',      \n",
    "        bottom=True,     \n",
    "        top=False,\n",
    "        left=False,\n",
    "        labelbottom=True,\n",
    "        labelleft = True)\n",
    "    ax.spines[\"bottom\"].set_linewidth(1.5)\n",
    "    ax.spines[\"left\"].set_linewidth(1.5)"
   ]
  },
  {
   "cell_type": "markdown",
   "id": "7fb7c42e-a2aa-466c-b0ec-6bb57d5846ce",
   "metadata": {},
   "source": [
    "# Download data"
   ]
  },
  {
   "cell_type": "code",
   "execution_count": null,
   "id": "20edd475-38ab-4795-b566-dfd72cd91e8f",
   "metadata": {},
   "outputs": [],
   "source": [
    "adata = sc.read_h5ad(\"/add/path/here/full_cohort.h5ad\")"
   ]
  },
  {
   "cell_type": "code",
   "execution_count": null,
   "id": "a658c877-9a51-492f-a660-daa8a307729d",
   "metadata": {},
   "outputs": [],
   "source": [
    "refined_annotations = pd.read_csv(\"/add/path/here/refined_annotations.csv\",index_col=0)\n",
    "\n",
    "refined_annotations.columns = [\"refined_annotations\"]"
   ]
  },
  {
   "cell_type": "code",
   "execution_count": null,
   "id": "093a8afe-1132-40ab-b709-38fcb172d2b3",
   "metadata": {},
   "outputs": [],
   "source": [
    "patient_id_mapping = {\"CCG1153_4496262\": \"P1\", \"CCG1153_6640539\": \"P2\", \n",
    "                      \"CCG1153_4411\": \"P3\", \"Aguirre_EGSFR0074\": \"P4\", \n",
    "                      \"Aguirre_EGSFR0148\": \"P5\", \"Aguirre_EGSFR1732\": \"P6\", \n",
    "                      \"Aguirre_EGSFR0128\": \"P7\", \"Aguirre_EGSFR1938\": \"P8\", \n",
    "                      \"Aguirre_EGSFR1982\": \"P9\", \"Aguirre_EGSFR2218\": \"P10\"}"
   ]
  },
  {
   "cell_type": "code",
   "execution_count": null,
   "id": "780bada8-4340-44a8-8b27-32a53fbd7f4b",
   "metadata": {},
   "outputs": [],
   "source": [
    "colorlist = palettable.colorbrewer.qualitative.Dark2_8.mpl_colors\n",
    "colorlistbis = palettable.colorbrewer.qualitative.Paired_3.mpl_colors\n",
    "colormapping_pat = {'Aguirre_EGSFR1982': colorlist[0], \n",
    "                    \"Aguirre_EGSFR2218\": colorlist[1], \n",
    "                    \"CCG1153_4411\": colorlist[2], \n",
    "                    \"Aguirre_EGSFR1938\": colorlist[3], \n",
    "                    \"Aguirre_EGSFR0074\": colorlist[4], \n",
    "                    \"Aguirre_EGSFR0128\": colorlist[5], \n",
    "                    \"Aguirre_EGSFR1732\": colorlist[6], \n",
    "                    \"Aguirre_EGSFR0148\": colorlist[7], \n",
    "                    \"CCG1153_4496262\": colorlistbis[0], \n",
    "                    \"CCG1153_6640539\": colorlistbis[1], \n",
    "                    \"NA\": \"whitesmoke\"}\n",
    "colormapping_pat_bis = {patient_id_mapping[pat]: colormapping_pat[pat] for pat in patient_id_mapping}\n",
    "colormapping_pat_bis[\"NA\"] = \"whitesmoke\""
   ]
  },
  {
   "cell_type": "code",
   "execution_count": null,
   "id": "9f9b6ffe-7819-484d-9ddb-c48731d7c9ce",
   "metadata": {},
   "outputs": [],
   "source": [
    "colorlist = palettable.colorbrewer.qualitative.Set1_7.mpl_colors\n",
    "colormapping_mal = {\"cNMF_1\": colorlist[0], \"cNMF_2\": colorlist[1], \"cNMF_3\": colorlist[3], \n",
    "                    \"cNMF_4\": colorlist[4], \"cNMF_5\": colorlist[6]}\n",
    "colormapping_mal[\"Mixed\"] = \"lightgrey\"\n",
    "colormapping_mal[\"Outlier\"] = \"grey\""
   ]
  },
  {
   "cell_type": "markdown",
   "id": "98b93fa0-8886-4a17-b624-5fa6faa2b398",
   "metadata": {},
   "source": [
    "# snRNA-seq"
   ]
  },
  {
   "cell_type": "code",
   "execution_count": null,
   "id": "80fd421f-787a-4b32-b55d-9c5e67873b91",
   "metadata": {},
   "outputs": [],
   "source": [
    "highlevel_refined = {\"Hepatocyte\": \"Epithelial\", \n",
    "                     \"Carcinoma\": \"Carcinoma\", \n",
    "                     \"Fibroblast\": \"Fibroblast\", \n",
    "                     \"Quiescent endothelial cells\": \"Endothelial\", \n",
    "                     \"Smooth muscle\": \"Muscle\", \n",
    "                     \"Skeletal muscle\": \"Muscle\",\n",
    "                     \"TAM2\": \"Myeloid\", \"TAM3\": \"Myeloid\",\n",
    "                     \"TCD4\": \"Lymphoid\", \n",
    "                     \"Inflammatory CAF\": \"Fibroblast\", \n",
    "                     \"Adipose CAF\": \"Fibroblast\",\n",
    "                     \"HGF-CAF\": \"Fibroblast\",\n",
    "                     \"TAM1\": \"Myeloid\", \n",
    "                     \"Myeloid-HighMT\": \"Unknown/technical\", \n",
    "                     \"Angiogenic EC\": \"Endothelial\", \n",
    "                     \"Quiescent EC\": \"Endothelial\", \n",
    "                     \"Venous EC\": \"Endothelial\",\n",
    "                     \"TCD8\": \"Lymphoid\", \n",
    "                     \"B\": \"Lymphoid\", \n",
    "                     \"DC\": \"Myeloid\", \n",
    "                     \"Hepatic EC\": \"Endothelial\", \n",
    "                     \"Kupffer cells\": \"Myeloid\", \n",
    "                     \"NK\": \"Lymphoid\", \n",
    "                     \"Treg\": \"Lymphoid\", \n",
    "                     \"StrMus-HighMT\": \"Unknown/technical\", \n",
    "                     \"T-HighMT\": \"Unknown/technical\", \n",
    "                     \"Mast\": \"Myeloid\", \n",
    "                     \"Adipocytes\": \"Stromal/Muscle\", \n",
    "                     \"Endo-HighMT\": \"Unknown/technical\"}\n",
    "\n",
    "adata.obs = pd.concat([adata.obs,refined_annotations],axis=1)\n",
    "adata.obs[\"highlevel_refined\"] = adata.obs.refined_annotations.replace(highlevel_refined)"
   ]
  },
  {
   "cell_type": "code",
   "execution_count": null,
   "id": "4fc412fa-3c49-442e-9cba-e4237a8332d5",
   "metadata": {},
   "outputs": [],
   "source": [
    "scib.preprocessing.score_cell_cycle(adata, organism=\"human\")"
   ]
  },
  {
   "cell_type": "code",
   "execution_count": null,
   "id": "5d359463-e076-4cc2-aa05-6914d119fe5a",
   "metadata": {},
   "outputs": [],
   "source": [
    "adata.obs[[\"refined_annotations\",\"sample_id\"]].to_csv(\"/add/path/here/refined_annotations_wsampleid.csv\")"
   ]
  },
  {
   "cell_type": "markdown",
   "id": "1f83f3ee-bd23-418e-bd44-a6ad345b6f4c",
   "metadata": {},
   "source": [
    "## Patient-level distributions"
   ]
  },
  {
   "cell_type": "code",
   "execution_count": null,
   "id": "a9592c17-1015-4645-8f7e-4dbfec9058af",
   "metadata": {},
   "outputs": [],
   "source": [
    "patlevel_counts = adata.obs[[\"sample_id\",\"highlevel_refined\"]].groupby(by=\"sample_id\").value_counts(normalize=True)\n",
    "patlevel_counts = patlevel_counts.round(2)*100\n",
    "\n",
    "df = patlevel_counts.unstack(level=-1)\n",
    "\n",
    "df = df.loc[clinical.index.intersection(df.index)].fillna(0).astype(int)\n",
    "\n",
    "colorlist = sns.color_palette(\"colorblind\", 10)\n",
    "ctlist = adata.obs.highlevel_refined.unique()\n",
    "colormapping = {ct: colorlist[i] for i,ct in enumerate(ctlist)}\n",
    "colormapping[\"NA\"] = \"whitesmoke\""
   ]
  },
  {
   "cell_type": "code",
   "execution_count": null,
   "id": "c6abcd03-7e10-44b4-9e3b-f3acda7586dc",
   "metadata": {},
   "outputs": [],
   "source": [
    "df = df.rename(index=patient_id_mapping)"
   ]
  },
  {
   "cell_type": "code",
   "execution_count": null,
   "id": "51eddae7-28b5-4e89-a50f-3b59a44e89c0",
   "metadata": {},
   "outputs": [],
   "source": [
    "def add_clinical_info(ax):\n",
    "\n",
    "    x1, x2 = 0, 1   # columns 'Sat' and 'Sun' (first column: 0, see plt.xticks())\n",
    "    y, h, col = 100, 10, 'k'\n",
    "    ax.plot([x1-0.4, x1-0.3, x2+0.3, x2+0.4], [y, y+h, y+h, y], lw=1.5, c=col)\n",
    "    ax.text((x1+x2)*.5, y+1.3*h, \"NAT\", ha='center', va='bottom', color=col)\n",
    "    \n",
    "    x1, x2 = 2, 4   # columns 'Sat' and 'Sun' (first column: 0, see plt.xticks())\n",
    "    y, h, col = 100, 10, 'k'\n",
    "    ax.plot([x1-0.4, x1-0.3, x2+0.3, x2+0.4], [y, y+h, y+h, y], lw=1.5, c=col)\n",
    "    ax.text((x1+x2)*.5, y+1.3*h, \"Primary\", ha='center', va='bottom', color=col)\n",
    "    \n",
    "    x1, x2 = 5, 9   # columns 'Sat' and 'Sun' (first column: 0, see plt.xticks())\n",
    "    y, h, col = 100, 10, 'k'\n",
    "    ax.plot([x1-0.4, x1-0.3, x2+0.3, x2+0.4], [y, y+h, y+h, y], lw=1.5, c=col)\n",
    "    ax.text((x1+x2)*.5, y+1.3*h, \"Metastatic\", ha='center', va='bottom', color=col)\n",
    "    \n",
    "    return ax"
   ]
  },
  {
   "cell_type": "code",
   "execution_count": null,
   "id": "8496f502-159c-4c5e-8ed4-8ecfc1860123",
   "metadata": {},
   "outputs": [],
   "source": [
    "fig, ax = plt.subplots(1,1,figsize=(8,4))\n",
    "df.plot(kind = 'bar', stacked = True, color=colormapping, ax=ax,)\n",
    "ax.legend(bbox_to_anchor=(1.05, 1), frameon=False)\n",
    "ax.spines[['right', 'top']].set_visible(False)\n",
    "ax.set_xlabel(\"\")\n",
    "ax.set_xticklabels(ax.get_xticklabels(), rotation=45, ha=\"right\")\n",
    "for c in ax.containers:\n",
    "\n",
    "    # Optional: if the segment is small or 0, customize the labels\n",
    "    labels = [int(v.get_height()) if v.get_height() >= 5 else '' for v in c]\n",
    "    \n",
    "    # remove the labels parameter if it's not needed for customized labels\n",
    "    ax.bar_label(c, labels=labels, label_type='center', fmt='%0.0f', color=\"white\")\n",
    "ax = add_clinical_info(ax)\n",
    "fig.savefig(\"figures/barplot_pat_tme_highlevel_scaled.png\", dpi=300, bbox_inches=\"tight\")\n",
    "fig.savefig(\"figures/barplot_pat_tme_highlevel_scaled.svg\", dpi=300, bbox_inches=\"tight\")"
   ]
  },
  {
   "cell_type": "code",
   "execution_count": null,
   "id": "5362c6c5-6931-47ed-acb1-203bd0e0a11f",
   "metadata": {},
   "outputs": [],
   "source": [
    "patlevel_counts = adata.obs[[\"sample_id\",\"highlevel_refined\"]].groupby(by=\"sample_id\").value_counts()\n",
    "df = patlevel_counts.unstack(level=-1)\n",
    "\n",
    "df = df.loc[clinical.index.intersection(df.index)]\n",
    "\n",
    "colorlist = sns.color_palette(\"colorblind\", 10)\n",
    "ctlist = adata.obs.highlevel_refined.unique()\n",
    "colormapping = {ct: colorlist[i] for i,ct in enumerate(ctlist)}\n",
    "colormapping[\"NA\"] = \"whitesmoke\""
   ]
  },
  {
   "cell_type": "code",
   "execution_count": null,
   "id": "d959ac81-1dfd-43f6-9302-8e504fb36c40",
   "metadata": {},
   "outputs": [],
   "source": [
    "df = df.rename(index=patient_id_mapping)"
   ]
  },
  {
   "cell_type": "code",
   "execution_count": null,
   "id": "5ecd4484-8e68-48c5-8aa8-8a5befb0d211",
   "metadata": {},
   "outputs": [],
   "source": [
    "def add_clinical_info(ax):\n",
    "\n",
    "    x1, x2 = 0, 1   # columns 'Sat' and 'Sun' (first column: 0, see plt.xticks())\n",
    "    y, h, col = 16000, 1000, 'k'\n",
    "    ax.plot([x1-0.4, x1-0.3, x2+0.3, x2+0.4], [y, y+h, y+h, y], lw=1.5, c=col)\n",
    "    ax.text((x1+x2)*.5, y+1.3*h, \"NAT\", ha='center', va='bottom', color=col)\n",
    "    \n",
    "    x1, x2 = 2, 4   # columns 'Sat' and 'Sun' (first column: 0, see plt.xticks())\n",
    "    y, h, col = 16000, 1000, 'k'\n",
    "    ax.plot([x1-0.4, x1-0.3, x2+0.3, x2+0.4], [y, y+h, y+h, y], lw=1.5, c=col)\n",
    "    ax.text((x1+x2)*.5, y+1.3*h, \"Primary\", ha='center', va='bottom', color=col)\n",
    "    \n",
    "    x1, x2 = 5, 9   # columns 'Sat' and 'Sun' (first column: 0, see plt.xticks())\n",
    "    y, h, col = 16000, 1000, 'k'\n",
    "    ax.plot([x1-0.4, x1-0.3, x2+0.3, x2+0.4], [y, y+h, y+h, y], lw=1.5, c=col)\n",
    "    ax.text((x1+x2)*.5, y+1.3*h, \"Metastatic\", ha='center', va='bottom', color=col)\n",
    "    \n",
    "    return ax"
   ]
  },
  {
   "cell_type": "code",
   "execution_count": null,
   "id": "c2764753-dff6-488c-8153-9834deacad6b",
   "metadata": {},
   "outputs": [],
   "source": [
    "fig, ax = plt.subplots(1,1,figsize=(8,4))\n",
    "df.plot(kind = 'bar', stacked = True, color=colormapping, ax=ax,)\n",
    "ax.legend(bbox_to_anchor=(1.05, 1), frameon=False)\n",
    "ax.spines[['right', 'top']].set_visible(False)\n",
    "ax.set_xlabel(\"\")\n",
    "ax.set_xticklabels(ax.get_xticklabels(), rotation=45, ha=\"right\")\n",
    "ax = add_clinical_info(ax)\n",
    "fig.savefig(\"figures/barplot_pat_tme_highlevel_nonscaled.png\", dpi=300, bbox_inches=\"tight\")\n",
    "fig.savefig(\"figures/barplot_pat_tme_highlevel_nonscaled.svg\", dpi=300, bbox_inches=\"tight\")"
   ]
  },
  {
   "cell_type": "markdown",
   "id": "47167b42-c49f-4284-8b84-57c015d77a2b",
   "metadata": {},
   "source": [
    "## UMAP viz"
   ]
  },
  {
   "cell_type": "code",
   "execution_count": null,
   "id": "0e89e329-8678-4907-b637-60ab3354b558",
   "metadata": {},
   "outputs": [],
   "source": [
    "sc.tl.pca(adata)\n",
    "\n",
    "sc.external.pp.harmony_integrate(adata, key=\"sample_id\", max_iter_harmony=20)\n",
    "\n",
    "sc.pp.neighbors(adata, use_rep=\"X_pca_harmony\")\n",
    "\n",
    "sc.tl.umap(adata)"
   ]
  },
  {
   "cell_type": "code",
   "execution_count": null,
   "id": "73a4f87e-57b2-4f79-9002-e4abcf8afa82",
   "metadata": {},
   "outputs": [],
   "source": [
    "fig = sc.pl.umap(adata, color=[\"highlevel_refined\"], palette=colormapping, frameon=False, ncols=1, return_fig=True)\n",
    "fig.savefig(\"figures/highlevel_refined_scRNA_umap.png\", dpi=300, bbox_inches=\"tight\")"
   ]
  },
  {
   "cell_type": "code",
   "execution_count": null,
   "id": "7abbd4d3-0aab-4f0f-982b-95b4e5d2d41c",
   "metadata": {},
   "outputs": [],
   "source": [
    "adata.obs.highlevel_refined.value_counts()"
   ]
  },
  {
   "cell_type": "code",
   "execution_count": null,
   "id": "90ed0d49-b9f8-4afc-9b93-00f6dbbb3fd4",
   "metadata": {},
   "outputs": [],
   "source": [
    "fig = sc.pl.umap(adata, color=[\"sample_id\"], frameon=False, ncols=1, return_fig=True, palette=colormapping_pat)\n",
    "fig.savefig(\"figures/highlevel_refined_snRNA_umap_sampleid.png\", dpi=300, bbox_inches=\"tight\")"
   ]
  },
  {
   "cell_type": "code",
   "execution_count": null,
   "id": "8c2cb517-9492-43a7-bac5-0b533b208950",
   "metadata": {},
   "outputs": [],
   "source": [
    "fig = sc.pl.umap(adata, color=[\"refined_annotations\"], frameon=False, ncols=1, return_fig=True)\n",
    "fig.savefig(\"figures/lowlevel_refined_snRNA_umap.png\", dpi=300, bbox_inches=\"tight\")"
   ]
  },
  {
   "cell_type": "code",
   "execution_count": null,
   "id": "774908d2-2834-47fb-8d0b-6553f1936c8f",
   "metadata": {},
   "outputs": [],
   "source": []
  },
  {
   "cell_type": "code",
   "execution_count": null,
   "id": "f716bffd-cc86-4e8e-9ae5-c00d07797074",
   "metadata": {},
   "outputs": [],
   "source": [
    "#import signaturescoring as ssc\n",
    "marker_genes = {}\n",
    "for cl in [\"1\",\"2\",\"3\",\"4\",\"5\"]:\n",
    "    marker_genes[cl] = pd.read_csv(f\"/add/path/here/cNMF_{cl}.csv\",index_col=0)\n",
    "\n",
    "for prog in marker_genes:\n",
    "    sc.tl.score_genes(adata=adata,\n",
    "                        gene_list=list(marker_genes[prog].head(100).index.ravel()), \n",
    "                        score_name=f\"cNMF_{prog}_score\")\n",
    "    "
   ]
  },
  {
   "cell_type": "code",
   "execution_count": null,
   "id": "a362d69b-15bf-4dda-a2d5-02a5476e9de8",
   "metadata": {},
   "outputs": [],
   "source": [
    "adata.obs[[f\"cNMF_{i}_score\" for i in range(1,6)]+[\"sample_id\",\"highlevel_refined\"]].to_csv(\"/add/path/here/adata_cNMF_scores.csv\")"
   ]
  },
  {
   "cell_type": "code",
   "execution_count": null,
   "id": "cfba954e-ec3e-4377-bc3e-ec8f220c066e",
   "metadata": {},
   "outputs": [],
   "source": [
    "score_annotations = adata.obs[[f\"cNMF_{i}_score\" for i in range(1,6)]+[\"sample_id\",\"highlevel_refined\"]].copy()\n",
    "score_annotations[\"highlevel_wtop\"] = score_annotations[\"highlevel_refined\"].copy()\n",
    "\n",
    "df = score_annotations[score_annotations[\"highlevel_refined\"]==\"Carcinoma\"].copy()\n",
    "\n",
    "top_cells = {}\n",
    "for state in [f\"cNMF_{i}_score\" for i in range(1,6)]:\n",
    "    top_cells[state] = df[df[state]>df[state].quantile(0.95)].index\n",
    "\n",
    "vc = pd.Series(np.hstack(list(top_cells.values()))).value_counts()\n",
    "to_keep = vc[vc==1].index\n",
    "\n",
    "for state in top_cells:\n",
    "    top_cells[state] = top_cells[state].intersection(to_keep)\n",
    "\n",
    "for state in top_cells:\n",
    "    score_annotations.loc[top_cells[state],\"highlevel_wtop\"] = state[:-6]\n",
    "\n",
    "score_annotations.to_csv(\"/add/path/here/adata_cNMF_scores_wtop.csv\")"
   ]
  },
  {
   "cell_type": "code",
   "execution_count": null,
   "id": "e34d9d2b-f031-4944-891b-ffda6a84d9cb",
   "metadata": {},
   "outputs": [],
   "source": [
    "fig, axs = plt.subplots(3,2, figsize=(10,10))\n",
    "flatax = axs.flatten()\n",
    "for i,ax in enumerate(flatax[:-1]):\n",
    "    sns.boxplot(data=score_annotations[score_annotations[\"highlevel_refined\"]==\"Carcinoma\"], \n",
    "                x=\"highlevel_wtop\", y=f\"cNMF_{i+1}_score\", palette=(colormapping | colormapping_mal), \n",
    "                ax=flatax[i], order=[\"cNMF_1\",\"cNMF_2\",\"cNMF_3\",\"cNMF_4\",\"cNMF_5\",\"Carcinoma\"])\n",
    "    flatax[i].spines[['right', 'top']].set_visible(False)\n",
    "    flatax[i].set_xticklabels(ax.get_xticklabels(), rotation=45, ha=\"right\")\n",
    "    flatax[i].hlines(y=0, xmin=flatax[i].get_xlim()[0], xmax=flatax[i].get_xlim()[1], linestyles=\"dashed\", color=\"grey\")\n",
    "    flatax[i].set_xlabel(\"\")\n",
    "flatax[-1].axis(\"off\")\n",
    "fig.tight_layout()\n",
    "fig.savefig(\"figures/malignant/boxplot_cNMF_score_per_celltype.png\", dpi=250, bbox_inches=\"tight\")"
   ]
  },
  {
   "cell_type": "code",
   "execution_count": null,
   "id": "859dad68-b0ec-4441-837f-c350696868da",
   "metadata": {},
   "outputs": [],
   "source": [
    "fig, axs = plt.subplots(3,2, figsize=(10,10))\n",
    "flatax = axs.flatten()\n",
    "for i,ax in enumerate(flatax[:-1]):\n",
    "    sns.boxplot(data=score_annotations, x=\"highlevel_refined\", y=f\"cNMF_{i+1}_score\", palette=colormapping, ax=flatax[i])\n",
    "    flatax[i].spines[['right', 'top']].set_visible(False)\n",
    "    flatax[i].set_xticklabels(ax.get_xticklabels(), rotation=45, ha=\"right\")\n",
    "    flatax[i].hlines(y=0, xmin=flatax[i].get_xlim()[0], xmax=flatax[i].get_xlim()[1], linestyles=\"dashed\", color=\"grey\")\n",
    "    flatax[i].set_xlabel(\"\")\n",
    "flatax[-1].axis(\"off\")\n",
    "fig.tight_layout()\n",
    "fig.savefig(\"figures/malignant/boxplot_cNMF_score_per_celltype.png\", dpi=250, bbox_inches=\"tight\")"
   ]
  },
  {
   "cell_type": "code",
   "execution_count": null,
   "id": "5acf0492-0d40-4a22-bcc1-bb97633396e1",
   "metadata": {},
   "outputs": [],
   "source": []
  },
  {
   "cell_type": "markdown",
   "id": "aeaddb12-0a7a-4405-ab19-36c3b4a478a3",
   "metadata": {},
   "source": [
    "## Subset of malignant cells"
   ]
  },
  {
   "cell_type": "code",
   "execution_count": null,
   "id": "3e3225aa-fda6-487d-8182-488668363e9d",
   "metadata": {},
   "outputs": [],
   "source": [
    "subadata = adata[(adata.obs.highlevel_refined==\"Carcinoma\") & (adata.obs.CNV_celltype_annotation==\"Tumor\")].copy()"
   ]
  },
  {
   "cell_type": "code",
   "execution_count": null,
   "id": "8ac710d8-11fe-4d34-8881-672e860a4ed3",
   "metadata": {},
   "outputs": [],
   "source": [
    "sc.tl.pca(subadata)\n",
    "sc.pp.neighbors(subadata)\n",
    "sc.tl.umap(subadata)"
   ]
  },
  {
   "cell_type": "code",
   "execution_count": null,
   "id": "213ff5b1-b702-47c7-98f3-e5d391622d6a",
   "metadata": {},
   "outputs": [],
   "source": [
    "fig = sc.pl.umap(subadata, color=[\"cNMF_1_score\",\"cNMF_2_score\",\"cNMF_3_score\",\"cNMF_4_score\",\"cNMF_5_score\",\"pid\"], \n",
    "                 palette=colormapping_pat_bis, frameon=False, ncols=2, return_fig=True)\n",
    "for i in range(5):\n",
    "    fig.axes[2*i].set_title(f\"cNMF$_{i+1}$ score\")\n",
    "fig.axes[-1].set_title(\"Patient ID\")\n",
    "fig.savefig(\"figures/malonly_unintegrated_cNMF_score_snRNA_umap.png\", dpi=300, bbox_inches=\"tight\")"
   ]
  },
  {
   "cell_type": "code",
   "execution_count": null,
   "id": "d9adc89e-02d1-4533-86c2-788272f0ab1a",
   "metadata": {},
   "outputs": [],
   "source": [
    "sc.tl.pca(subadata)\n",
    "sc.external.pp.harmony_integrate(subadata, key=\"sample_id\", basis=\"X_pca\", max_iter_harmony=20)\n",
    "sc.pp.neighbors(subadata, use_rep=\"X_pca_harmony\")\n",
    "sc.tl.umap(subadata)"
   ]
  },
  {
   "cell_type": "code",
   "execution_count": null,
   "id": "85cc61cf-3a7b-4664-8ce8-a115046d42ea",
   "metadata": {},
   "outputs": [],
   "source": [
    "import matplotlib\n",
    "import matplotlib.cm as cm\n",
    "import matplotlib.colors as mcolors\n",
    "X_pca = pd.DataFrame(subadata.obsm[\"X_pca_harmony\"][:,:2],index=subadata.obs_names,columns=[\"PC1\",\"PC2\"])\n",
    "\n",
    "X_pca = pd.concat([X_pca, subadata.obs[[\"cNMF_1_score\",\"cNMF_2_score\",\"cNMF_3_score\",\"cNMF_4_score\",\"cNMF_5_score\"]]],axis=1)\n",
    "X_pca.columns = [\"PC1\",\"PC2\",\"cNMF$_{1}$\",\"cNMF$_{2}$\",\"cNMF$_{3}$\",\"cNMF$_{4}$\",\"cNMF$_{5}$\"]\n",
    "\n",
    "def plot_pcs_color(ax, state):\n",
    "    \n",
    "    vmin, vmax = X_pca[state].min(), X_pca[state].max()\n",
    "    #vcenter = 0\n",
    "    vcenter = (X_pca[state].quantile(0.75) + X_pca[state].quantile(0.25))/2\n",
    "    normalize = mcolors.TwoSlopeNorm(vcenter=vcenter, vmin=vmin, vmax=vmax)\n",
    "    colormap = matplotlib.colormaps['RdBu_r']\n",
    "    sns.scatterplot(\n",
    "        y=X_pca[\"PC2\"],\n",
    "        x=X_pca[\"PC1\"],\n",
    "        c=X_pca[state],\n",
    "        s=1,\n",
    "        norm=normalize,\n",
    "        cmap=colormap,\n",
    "        ax=ax\n",
    "    )\n",
    "    scalarmappaple = cm.ScalarMappable(norm=normalize, cmap=colormap)\n",
    "    scalarmappaple.set_array(X_pca[state])\n",
    "    ax.set_title(state)\n",
    "    fig.colorbar(scalarmappaple, ax=ax)\n",
    "    pretty_ax(ax)\n",
    "\n",
    "fig, ax = plt.subplots(1,5, figsize=(22.5,3))\n",
    "flatax = ax.flatten()\n",
    "\n",
    "plot_pcs_color(flatax[0], \"cNMF$_{1}$\")\n",
    "plot_pcs_color(flatax[1], \"cNMF$_{2}$\")\n",
    "plot_pcs_color(flatax[2], \"cNMF$_{3}$\")\n",
    "plot_pcs_color(flatax[3], \"cNMF$_{4}$\")\n",
    "plot_pcs_color(flatax[4], \"cNMF$_{5}$\")\n",
    "\n",
    "fig.tight_layout()\n",
    "fig.savefig(\"figures/malonly_pca_harmony.png\", dpi=200, bbox_inches=\"tight\")"
   ]
  },
  {
   "cell_type": "code",
   "execution_count": null,
   "id": "24cad652-bd03-4c89-8110-ca508779ca02",
   "metadata": {},
   "outputs": [],
   "source": [
    "fig = sc.pl.umap(subadata, color=[\"cNMF_1_score\",\"cNMF_2_score\",\"cNMF_3_score\",\"cNMF_4_score\",\"cNMF_5_score\",\"pid\"], \n",
    "                 palette=colormapping_pat_bis, frameon=False, ncols=2, return_fig=True)\n",
    "for i in range(5):\n",
    "    fig.axes[2*i].set_title(f\"cNMF$_{i+1}$ score\")\n",
    "fig.axes[-1].set_title(\"Patient ID\")\n",
    "fig.savefig(\"figures/malonly_cNMF_score_snRNA_umap.png\", dpi=300, bbox_inches=\"tight\")"
   ]
  },
  {
   "cell_type": "code",
   "execution_count": null,
   "id": "2eaf0317-f044-45e0-b5ef-170dd34e4d3c",
   "metadata": {},
   "outputs": [],
   "source": [
    "subadata.obs[[\"cNMF_1_score\",\"cNMF_2_score\",\"cNMF_3_score\",\"cNMF_4_score\",\"cNMF_5_score\"]].corr()"
   ]
  },
  {
   "cell_type": "code",
   "execution_count": null,
   "id": "975d9326-507a-4ee4-9bf6-9990da54cbbd",
   "metadata": {},
   "outputs": [],
   "source": [
    "from statannotations.Annotator import Annotator\n",
    "\n",
    "df = subadata.obs.copy()\n",
    "df.Metastatic = df.Metastatic.replace({True: \"Metastatic\", False: \"Primary\"})\n",
    "fig, ax = plt.subplots(3,2, figsize=(8,8))\n",
    "flatax = ax.flatten()\n",
    "\n",
    "pairs = [(\"Metastatic\", \"Primary\")]\n",
    "for i,state in enumerate([\"cNMF_1_score\",\"cNMF_2_score\",\"cNMF_3_score\",\"cNMF_4_score\",\"cNMF_5_score\"]):\n",
    "\n",
    "    medians = df[[\"Metastatic\",state]].groupby(\"Metastatic\").median()\n",
    "    diff = (medians.loc[\"Metastatic\"] - medians.loc[\"Primary\"]).values[0]\n",
    "    sns.boxplot(data=df, x=\"Metastatic\",y=state,ax=flatax[i], order=[\"Primary\", \"Metastatic\"],\n",
    "            showcaps=True,boxprops={'facecolor':'None'},\n",
    "             showfliers=False,whiskerprops={'linewidth':1}, zorder=20)\n",
    "    sns.violinplot(data=df, x=\"Metastatic\",y=state, order=[\"Primary\", \"Metastatic\"], \n",
    "                   ax=flatax[i],inner=\"box\", zorder=0)\n",
    "    flatax[i].spines[[\"bottom\",\"left\"]].set_linewidth(4)\n",
    "    flatax[i].spines[[\"top\",\"right\"]].set_visible(False)\n",
    "    flatax[i].set_xticklabels(flatax[i].get_xticklabels(),rotation=45,ha=\"right\")\n",
    "    flatax[i].set_xlabel(\"\")\n",
    "    flatax[i].set_ylabel(f\"cNMF$_{i+1}$ score\")\n",
    "    flatax[i].text(-0.4, flatax[i].get_ylim()[1], f'$\\Delta$ = {diff:.2f}')\n",
    "\n",
    "    annot = Annotator(\n",
    "        flatax[i], pairs,\n",
    "        data=df, x=\"Metastatic\",y=state, order=[\"Primary\", \"Metastatic\"],\n",
    "    )\n",
    "    annot.configure(\n",
    "        test=\"Mann-Whitney\",\n",
    "        loc=\"inside\",\n",
    "        text_format=\"star\",\n",
    "        show_test_name=False,\n",
    "        verbose=2,\n",
    "        comparisons_correction=\"BH\",\n",
    "        correction_format=\"replace\",\n",
    "    )\n",
    "    annot.apply_test()\n",
    "    flatax[i], _ = annot.annotate()\n",
    "flatax[-1].axis(\"off\")\n",
    "fig.tight_layout()\n",
    "fig.savefig(\"figures/malonly_cNMF_score_metastasis_link.svg\", dpi=200, bbox_inches=\"tight\")"
   ]
  },
  {
   "cell_type": "code",
   "execution_count": null,
   "id": "b669e05f-822a-4889-ad10-94399489ba40",
   "metadata": {},
   "outputs": [],
   "source": [
    "from statannotations.Annotator import Annotator\n",
    "\n",
    "df = subadata.obs.copy()\n",
    "df.TreatmentNaive = df.TreatmentNaive.replace({True: \"Naïve\", False: \"Treated\"})\n",
    "fig, ax = plt.subplots(3,2, figsize=(8,8))\n",
    "flatax = ax.flatten()\n",
    "\n",
    "pairs = [(\"Naïve\", \"Treated\")]\n",
    "for i,state in enumerate([\"cNMF_1_score\",\"cNMF_2_score\",\"cNMF_3_score\",\"cNMF_4_score\",\"cNMF_5_score\"]):\n",
    "\n",
    "    medians = df[[\"TreatmentNaive\",state]].groupby(\"TreatmentNaive\").median()\n",
    "    diff = (medians.loc[\"Treated\"] - medians.loc[\"Naïve\"]).values[0]\n",
    "    sns.boxplot(data=df, x=\"TreatmentNaive\",y=state,ax=flatax[i], order=[\"Naïve\", \"Treated\"],\n",
    "            showcaps=True,boxprops={'facecolor':'None'},\n",
    "             showfliers=False,whiskerprops={'linewidth':1}, zorder=20)\n",
    "    sns.violinplot(data=df, x=\"TreatmentNaive\",y=state, order=[\"Naïve\", \"Treated\"], \n",
    "                   ax=flatax[i],inner=\"box\", zorder=0)\n",
    "    flatax[i].spines[[\"bottom\",\"left\"]].set_linewidth(4)\n",
    "    flatax[i].spines[[\"top\",\"right\"]].set_visible(False)\n",
    "    flatax[i].set_xticklabels(flatax[i].get_xticklabels(),rotation=45,ha=\"right\")\n",
    "    flatax[i].set_xlabel(\"\")\n",
    "    flatax[i].set_ylabel(f\"cNMF$_{i+1}$ score\")\n",
    "    flatax[i].text(-0.4, flatax[i].get_ylim()[1], f'$\\Delta$ = {diff:.2f}')\n",
    "\n",
    "    annot = Annotator(\n",
    "        flatax[i], pairs,\n",
    "        data=df, x=\"TreatmentNaive\",y=state, order=[\"Naïve\", \"Treated\"],\n",
    "    )\n",
    "    annot.configure(\n",
    "        test=\"Mann-Whitney\",\n",
    "        loc=\"inside\",\n",
    "        text_format=\"star\",\n",
    "        show_test_name=False,\n",
    "        verbose=2,\n",
    "        comparisons_correction=\"BH\",\n",
    "        correction_format=\"replace\",\n",
    "    )\n",
    "    annot.apply_test()\n",
    "    flatax[i], _ = annot.annotate()\n",
    "flatax[-1].axis(\"off\")\n",
    "fig.tight_layout()\n",
    "fig.savefig(\"figures/malonly_cNMF_score_treatment_naive_link.svg\", dpi=200, bbox_inches=\"tight\")"
   ]
  },
  {
   "cell_type": "code",
   "execution_count": null,
   "id": "46a91851-ee17-4e42-af7c-7efe3e6be1d4",
   "metadata": {},
   "outputs": [],
   "source": [
    "fig = sc.pl.umap(subadata, color=[\"log1p_total_counts\",\"pct_counts_mt\"], frameon=False, ncols=1, return_fig=True)\n",
    "fig.savefig(\"figures/malonly_technical_harmony_snRNA_umap.png\", dpi=300, bbox_inches=\"tight\")"
   ]
  },
  {
   "cell_type": "markdown",
   "id": "84842df2-14b9-4751-9d73-503375fb56b6",
   "metadata": {},
   "source": [
    "# snATAC-seq"
   ]
  },
  {
   "cell_type": "code",
   "execution_count": null,
   "id": "731e09e2-efe6-4fb5-8ef4-6b3817886f0b",
   "metadata": {},
   "outputs": [],
   "source": [
    "atac = sc.read_h5ad(\"/add/path/here/combined_atac.h5ad\")"
   ]
  },
  {
   "cell_type": "code",
   "execution_count": null,
   "id": "b99af2ae-7e63-415a-bdf7-855c87d4e0d0",
   "metadata": {},
   "outputs": [],
   "source": [
    "# add the cNMF scores\n",
    "adata_cnmf_scores = pd.read_csv(\"/add/path/here/adata_cNMF_scores.csv\",index_col=0)\n",
    "\n",
    "new_annot = []\n",
    "for sample in atac.obs.dataset.unique():\n",
    "\n",
    "    df1 = adata_cnmf_scores[adata_cnmf_scores.sample_id==sample].copy()\n",
    "    df1.index = df1.index.str[:-2]\n",
    "    \n",
    "    df2 = atac.obs[atac.obs.sample_id==sample].copy()\n",
    "    raw_idx = df2.index.copy()\n",
    "    df2.index = np.hstack(df2.index.str.split(\"_\").str[1:])\n",
    "    \n",
    "    dict_map = {df2.index[i]: raw_idx[i] for i in range(len(raw_idx))}\n",
    "    \n",
    "    df = pd.concat([df1.loc[df2.index.intersection(df1.index),['cNMF_1_score', 'cNMF_2_score',\n",
    "       'cNMF_3_score', 'cNMF_4_score', 'cNMF_5_score']],df2.refined_annotation],axis=1).iloc[:,:-1]\n",
    "    \n",
    "    df = df.rename(index=dict_map)\n",
    "    new_annot.append(df)\n",
    "new_annot = pd.concat(new_annot)\n",
    "\n",
    "atac.obs = pd.concat([atac.obs,new_annot],axis=1)"
   ]
  },
  {
   "cell_type": "code",
   "execution_count": null,
   "id": "d0523767-1b5a-4efd-8af6-05cde6159f44",
   "metadata": {},
   "outputs": [],
   "source": [
    "atac.obs[\"pid\"] = atac.obs.sample_id.replace(patient_id_mapping)"
   ]
  },
  {
   "cell_type": "code",
   "execution_count": null,
   "id": "83e3969f-620c-4a59-a208-2ce65a732b2f",
   "metadata": {},
   "outputs": [],
   "source": [
    "atac.obs[\"highlevel_annotation\"] = atac.obs.refined_annotation.replace(highlevel_refined)"
   ]
  },
  {
   "cell_type": "code",
   "execution_count": null,
   "id": "c8f85109-2fab-47a1-9a2f-887beb4d7c16",
   "metadata": {},
   "outputs": [],
   "source": [
    "atac.obsm[\"X_lsi_rd\"] = atac.obsm[\"X_lsi\"][:,:40]"
   ]
  },
  {
   "cell_type": "code",
   "execution_count": null,
   "id": "62ea7665-b72a-43e2-a168-263f7bb6ad89",
   "metadata": {},
   "outputs": [],
   "source": [
    "sc.external.pp.harmony_integrate(atac, key=\"sample_id\", basis=\"X_lsi_red\", max_iter_harmony=20)"
   ]
  },
  {
   "cell_type": "code",
   "execution_count": null,
   "id": "e556acb1-d567-4a6d-84fc-21540ef6d7d1",
   "metadata": {},
   "outputs": [],
   "source": [
    "sc.pp.neighbors(atac, use_rep=\"X_pca_harmony\")"
   ]
  },
  {
   "cell_type": "code",
   "execution_count": null,
   "id": "e315bf14-a86b-4e25-a883-86a9b90734da",
   "metadata": {},
   "outputs": [],
   "source": [
    "sc.tl.umap(atac)"
   ]
  },
  {
   "cell_type": "code",
   "execution_count": null,
   "id": "22e71a4b-1abf-4997-b69d-84122ee8c0e8",
   "metadata": {},
   "outputs": [],
   "source": [
    "fig = sc.pl.umap(atac, color=[\"highlevel_annotation\"], palette=colormapping, frameon=False, ncols=1, return_fig=True)\n",
    "fig.savefig(\"figures/highlevel_refined_snATAC_umap.png\", dpi=300, bbox_inches=\"tight\")"
   ]
  },
  {
   "cell_type": "code",
   "execution_count": null,
   "id": "3888f16b-c940-4981-b1a4-3d805c4e49ab",
   "metadata": {},
   "outputs": [],
   "source": [
    "fig = sc.pl.umap(atac, color=[\"dataset\"], frameon=False, ncols=1, palette=colormapping_pat, return_fig=True)\n",
    "fig.savefig(\"figures/highlevel_refined_snATAC_umap_sampleid.png\", dpi=300, bbox_inches=\"tight\")"
   ]
  },
  {
   "cell_type": "markdown",
   "id": "fa0ca0ab-a0e1-412d-a6d9-dfc6afa0fba1",
   "metadata": {},
   "source": [
    "## Patient-level distributions"
   ]
  },
  {
   "cell_type": "code",
   "execution_count": null,
   "id": "ce45d2fa-7ac8-4d59-b124-1de10d367f88",
   "metadata": {},
   "outputs": [],
   "source": [
    "patlevel_counts = atac.obs[[\"sample_id\",\"highlevel_annotation\"]].groupby(by=\"sample_id\").value_counts(normalize=True)\n",
    "patlevel_counts = patlevel_counts.round(2)*100\n",
    "\n",
    "df = patlevel_counts.unstack(level=-1)\n",
    "\n",
    "df = df.loc[clinical.index.intersection(df.index)].fillna(0).astype(int)\n",
    "\n",
    "colorlist = sns.color_palette(\"colorblind\", 10)\n",
    "ctlist = adata.obs.highlevel_refined.unique()\n",
    "colormapping = {ct: colorlist[i] for i,ct in enumerate(ctlist)}\n",
    "colormapping[\"NA\"] = \"whitesmoke\""
   ]
  },
  {
   "cell_type": "code",
   "execution_count": null,
   "id": "62df1cd6-d534-46de-b49d-2dac1258027d",
   "metadata": {},
   "outputs": [],
   "source": [
    "def add_clinical_info(ax):\n",
    "\n",
    "    x1, x2 = 0, 0   # columns 'Sat' and 'Sun' (first column: 0, see plt.xticks())\n",
    "    y, h, col = 100, 10, 'k'\n",
    "    ax.plot([x1-0.4, x1-0.3, x2+0.3, x2+0.4], [y, y+h, y+h, y], lw=1.5, c=col)\n",
    "    ax.text((x1+x2)*.5, y+1.3*h, \"NAT\", ha='center', va='bottom', color=col)\n",
    "    \n",
    "    x1, x2 = 1, 3   # columns 'Sat' and 'Sun' (first column: 0, see plt.xticks())\n",
    "    y, h, col = 100, 10, 'k'\n",
    "    ax.plot([x1-0.4, x1-0.3, x2+0.3, x2+0.4], [y, y+h, y+h, y], lw=1.5, c=col)\n",
    "    ax.text((x1+x2)*.5, y+1.3*h, \"Primary\", ha='center', va='bottom', color=col)\n",
    "    \n",
    "    x1, x2 = 4, 8   # columns 'Sat' and 'Sun' (first column: 0, see plt.xticks())\n",
    "    y, h, col = 100, 10, 'k'\n",
    "    ax.plot([x1-0.4, x1-0.3, x2+0.3, x2+0.4], [y, y+h, y+h, y], lw=1.5, c=col)\n",
    "    ax.text((x1+x2)*.5, y+1.3*h, \"Metastatic\", ha='center', va='bottom', color=col)\n",
    "    \n",
    "    return ax"
   ]
  },
  {
   "cell_type": "code",
   "execution_count": null,
   "id": "2397f1f5-e304-425f-b43f-d90915852b51",
   "metadata": {},
   "outputs": [],
   "source": [
    "fig, ax = plt.subplots(1,1,figsize=(8,4))\n",
    "df.plot(kind = 'bar', stacked = True, color=colormapping, ax=ax,)\n",
    "ax.legend(bbox_to_anchor=(1.05, 0.9,), frameon=False)\n",
    "ax.spines[['right', 'top']].set_visible(False)\n",
    "ax.set_xlabel(\"\")\n",
    "ax.set_xticklabels(ax.get_xticklabels(), rotation=45, ha=\"right\")\n",
    "for c in ax.containers:\n",
    "\n",
    "    # Optional: if the segment is small or 0, customize the labels\n",
    "    labels = [int(v.get_height()) if v.get_height() >= 5 else '' for v in c]\n",
    "    \n",
    "    # remove the labels parameter if it's not needed for customized labels\n",
    "    ax.bar_label(c, labels=labels, label_type='center', fmt='%0.0f', color=\"white\")\n",
    "ax = add_clinical_info(ax)\n",
    "fig.savefig(\"figures/barplot_pat_tme_ATAC_highlevel_scaled.png\", dpi=300, bbox_inches=\"tight\")\n",
    "fig.savefig(\"figures/barplot_pat_tme_ATAC_highlevel_scaled.svg\", dpi=300, bbox_inches=\"tight\")"
   ]
  },
  {
   "cell_type": "code",
   "execution_count": null,
   "id": "9aa9cfb5-205b-438f-a10b-b36141764d95",
   "metadata": {},
   "outputs": [],
   "source": [
    "patlevel_counts = atac.obs[[\"sample_id\",\"highlevel_annotation\"]].groupby(by=\"sample_id\").value_counts()\n",
    "df = patlevel_counts.unstack(level=-1)\n",
    "\n",
    "df = df.loc[clinical.index.intersection(df.index)].fillna(0).astype(int)\n",
    "\n",
    "colorlist = sns.color_palette(\"colorblind\", 10)\n",
    "ctlist = adata.obs.highlevel_refined.unique()\n",
    "colormapping = {ct: colorlist[i] for i,ct in enumerate(ctlist)}\n",
    "colormapping[\"NA\"] = \"whitesmoke\""
   ]
  },
  {
   "cell_type": "code",
   "execution_count": null,
   "id": "6739b06f-16c3-4053-affa-38fa97710237",
   "metadata": {},
   "outputs": [],
   "source": [
    "def add_clinical_info(ax):\n",
    "\n",
    "    x1, x2 = 0, 0   # columns 'Sat' and 'Sun' (first column: 0, see plt.xticks())\n",
    "    y, h, col = 9000, 600, 'k'\n",
    "    ax.plot([x1-0.4, x1-0.3, x2+0.3, x2+0.4], [y, y+h, y+h, y], lw=1.5, c=col)\n",
    "    ax.text((x1+x2)*.5, y+1.3*h, \"NAT\", ha='center', va='bottom', color=col)\n",
    "    \n",
    "    x1, x2 = 1, 3   # columns 'Sat' and 'Sun' (first column: 0, see plt.xticks())\n",
    "    y, h, col = 9000, 600, 'k'\n",
    "    ax.plot([x1-0.4, x1-0.3, x2+0.3, x2+0.4], [y, y+h, y+h, y], lw=1.5, c=col)\n",
    "    ax.text((x1+x2)*.5, y+1.3*h, \"Primary\", ha='center', va='bottom', color=col)\n",
    "    \n",
    "    x1, x2 = 4, 8   # columns 'Sat' and 'Sun' (first column: 0, see plt.xticks())\n",
    "    y, h, col = 9000, 600, 'k'\n",
    "    ax.plot([x1-0.4, x1-0.3, x2+0.3, x2+0.4], [y, y+h, y+h, y], lw=1.5, c=col)\n",
    "    ax.text((x1+x2)*.5, y+1.3*h, \"Metastatic\", ha='center', va='bottom', color=col)\n",
    "    \n",
    "    return ax"
   ]
  },
  {
   "cell_type": "code",
   "execution_count": null,
   "id": "e5e763da-6670-494e-9025-c975d16d9935",
   "metadata": {},
   "outputs": [],
   "source": [
    "fig, ax = plt.subplots(1,1,figsize=(8,4))\n",
    "df.plot(kind = 'bar', stacked = True, color=colormapping, ax=ax,)\n",
    "ax.legend(bbox_to_anchor=(1.05, 0.9), frameon=False)\n",
    "ax.spines[['right', 'top']].set_visible(False)\n",
    "ax.set_xlabel(\"\")\n",
    "ax.set_xticklabels(ax.get_xticklabels(), rotation=45, ha=\"right\")\n",
    "ax = add_clinical_info(ax)\n",
    "fig.savefig(\"figures/barplot_pat_tme_ATAC_highlevel_nonscaled.png\", dpi=300, bbox_inches=\"tight\")\n",
    "fig.savefig(\"figures/barplot_pat_tme_ATAC_highlevel_nonscaled.svg\", dpi=300, bbox_inches=\"tight\")"
   ]
  },
  {
   "cell_type": "markdown",
   "id": "de5cb352-b1bd-442c-ad34-0de3be819400",
   "metadata": {},
   "source": [
    "## Subset malignant"
   ]
  },
  {
   "cell_type": "code",
   "execution_count": null,
   "id": "7f1a2ef1-b645-42ba-a1c5-5e900818e2c2",
   "metadata": {
    "scrolled": true
   },
   "outputs": [],
   "source": [
    "subatac = atac[atac.obs.highlevel_annotation==\"Carcinoma\"].copy()\n",
    "subatac.obsm[\"X_lsi_red\"] = subatac.obsm[\"X_lsi\"][:,:40]"
   ]
  },
  {
   "cell_type": "code",
   "execution_count": null,
   "id": "bbe82011-375e-4b4d-a866-4a92cfad6e0e",
   "metadata": {
    "scrolled": true
   },
   "outputs": [],
   "source": [
    "sc.pp.neighbors(subatac, use_rep=\"X_lsi_red\")\n",
    "sc.tl.umap(subatac)"
   ]
  },
  {
   "cell_type": "code",
   "execution_count": null,
   "id": "dfb2f01b-6c5f-4a58-8daa-16553df58f58",
   "metadata": {},
   "outputs": [],
   "source": [
    "fig = sc.pl.umap(subatac, color=[\"cNMF_1_score\",\"cNMF_2_score\",\"cNMF_3_score\",\"cNMF_4_score\",\"cNMF_5_score\",\"pid\"], \n",
    "                 palette=colormapping_pat_bis, frameon=False, ncols=2, return_fig=True)\n",
    "for i in range(5):\n",
    "    fig.axes[2*i].set_title(f\"cNMF$_{i+1}$ score\")\n",
    "fig.axes[-1].set_title(\"Patient ID\")\n",
    "fig.savefig(\"figures/malonly_unintegrated_cNMF_score_snATAC_umap.png\", dpi=300, bbox_inches=\"tight\")"
   ]
  },
  {
   "cell_type": "code",
   "execution_count": null,
   "id": "55ac0926-89d8-4790-ad41-038a59dfb266",
   "metadata": {
    "scrolled": true
   },
   "outputs": [],
   "source": [
    "sc.external.pp.harmony_integrate(subatac, key=\"sample_id\", basis=\"X_lsi_red\", max_iter_harmony=20)\n",
    "sc.pp.neighbors(subatac, use_rep=\"X_pca_harmony\")\n",
    "sc.tl.umap(subatac)"
   ]
  },
  {
   "cell_type": "code",
   "execution_count": null,
   "id": "40c35ede-6e35-4a1a-95e1-610dbbdf8f5d",
   "metadata": {},
   "outputs": [],
   "source": [
    "fig = sc.pl.umap(subatac, color=[\"cNMF_1_score\",\"cNMF_2_score\",\"cNMF_3_score\",\"cNMF_4_score\",\"cNMF_5_score\",\"pid\"], \n",
    "                 palette=colormapping_pat_bis, frameon=False, ncols=2, return_fig=True)\n",
    "for i in range(5):\n",
    "    fig.axes[2*i].set_title(f\"cNMF$_{i+1}$ score\")\n",
    "fig.axes[-1].set_title(\"Patient ID\")\n",
    "fig.savefig(\"figures/malonly_cNMF_score_snATAC_umap.png\", dpi=300, bbox_inches=\"tight\")"
   ]
  },
  {
   "cell_type": "code",
   "execution_count": null,
   "id": "3317f6ca-7a15-47aa-ac35-cd18e87fcd06",
   "metadata": {},
   "outputs": [],
   "source": [
    "fig = sc.pl.umap(subatac, color=[\"sample_id\"], palette=colormapping_pat, frameon=False, ncols=1, return_fig=True)\n",
    "fig.savefig(\"figures/malonly_sampleid_harmony_snATAC_umap.png\", dpi=300, bbox_inches=\"tight\")"
   ]
  },
  {
   "cell_type": "markdown",
   "id": "4cc3f0f4-22b6-49f9-8280-684a5a7cde95",
   "metadata": {},
   "source": [
    "# Heatmaps of marker genes/regions"
   ]
  },
  {
   "cell_type": "markdown",
   "id": "12097f2c-b36b-4f79-ac0a-70240a8502f9",
   "metadata": {},
   "source": [
    "## Regions"
   ]
  },
  {
   "cell_type": "code",
   "execution_count": null,
   "id": "479f1ccf-228a-4ffe-b482-404a64f70ed4",
   "metadata": {},
   "outputs": [],
   "source": [
    "from statsmodels.stats.multitest import multipletests\n",
    "from scipy.stats import pearsonr"
   ]
  },
  {
   "cell_type": "code",
   "execution_count": null,
   "id": "f7436379-d6a9-4b88-8eb4-6bef48ab65c1",
   "metadata": {},
   "outputs": [],
   "source": [
    "highly_expressed_regions = subatac.var[subatac.var.percentile>0.25].index\n",
    "\n",
    "highatac = subatac[:,highly_expressed_regions].copy()\n",
    "# remove NA\n",
    "highatac = highatac[highatac.obs.cNMF_1_score.dropna().index].copy()"
   ]
  },
  {
   "cell_type": "code",
   "execution_count": null,
   "id": "26cf69a5-73ad-43e0-a945-caf99643ef59",
   "metadata": {},
   "outputs": [],
   "source": [
    "n_bins = highatac.shape[1]//10000 + (1 if highatac.shape[1]%10000>0 else 0)\n",
    "\n",
    "all_corrs = {state: [] for state in [\"cNMF_1\",\"cNMF_2\",\"cNMF_3\",\"cNMF_4\",\"cNMF_5\"]}\n",
    "for state in [\"cNMF_1\",\"cNMF_2\",\"cNMF_3\",\"cNMF_4\",\"cNMF_5\"]:\n",
    "    for i in tqdm(range(n_bins)):\n",
    "        Xarray = pd.DataFrame(highatac.X[:,i*10000:(i+1)*10000].toarray(), \n",
    "                              index=highatac.obs_names, \n",
    "                              columns=highatac.var_names[i*10000:(i+1)*10000])\n",
    "        all_corrs[state].append(Xarray.corrwith(highatac.obs[f\"{state}_score\"]))"
   ]
  },
  {
   "cell_type": "code",
   "execution_count": null,
   "id": "d1f74c42-b095-437c-9a92-80a36b0012c0",
   "metadata": {},
   "outputs": [],
   "source": [
    "n_bins = highatac.shape[1]//10000 + (1 if highatac.shape[1]%10000>0 else 0)\n",
    "\n",
    "all_ps = {state: [] for state in [\"cNMF_1\",\"cNMF_2\",\"cNMF_3\",\"cNMF_4\",\"cNMF_5\"]}\n",
    "for state in [\"cNMF_1\",\"cNMF_2\",\"cNMF_3\",\"cNMF_4\",\"cNMF_5\"]:\n",
    "    for i in tqdm(range(n_bins)):\n",
    "        Xarray = pd.DataFrame(highatac.X[:,i*10000:(i+1)*10000].toarray(), \n",
    "                              index=highatac.obs_names, \n",
    "                              columns=highatac.var_names[i*10000:(i+1)*10000])\n",
    "        all_ps[state].append(Xarray.corrwith(highatac.obs[f\"{state}_score\"], method=lambda x, y: pearsonr(x, y)[1]))"
   ]
  },
  {
   "cell_type": "code",
   "execution_count": null,
   "id": "e11c0a9a-079f-4409-952e-56e2cf1b8ad0",
   "metadata": {},
   "outputs": [],
   "source": [
    "most_corr_dir = pl.Path(\"/add/path/here/\")\n",
    "all_corrs = {state : pd.concat(all_corrs[state]) for state in all_corrs}\n",
    "\n",
    "for state in all_corrs:\n",
    "    all_corrs[state].to_csv(most_corr_dir / f\"{state}_region_correlation.csv\")\n",
    "\n",
    "all_ps = {state : pd.concat(all_ps[state]) for state in all_ps}\n",
    "\n",
    "for state in all_ps:\n",
    "    all_ps[state].to_csv(most_corr_dir / f\"{state}_region_pval.csv\")\n",
    "\n",
    "dar_regions = {state: all_corrs[state].sort_values(ascending=False).head(100) for state in all_corrs}"
   ]
  },
  {
   "cell_type": "code",
   "execution_count": null,
   "id": "5b204d96-d08e-4bf2-8d40-aae9deac3f02",
   "metadata": {},
   "outputs": [],
   "source": [
    "n_regions = {}\n",
    "for state in all_corrs:\n",
    "    statedf = pd.concat([all_corrs[state],all_ps[state]],axis=1)\n",
    "    statedf.columns = [\"Correlation\", \"p\"]\n",
    "    statedf[\"q\"] = multipletests(all_ps[state].values.ravel())[1]\n",
    "    \n",
    "    n_regions[state] = [statedf[(statedf[\"Correlation\"]>0.1) & (statedf[\"q\"]<0.05)].shape[0]]"
   ]
  },
  {
   "cell_type": "code",
   "execution_count": null,
   "id": "f05dc0da-c641-446b-83c6-978b780b253f",
   "metadata": {},
   "outputs": [],
   "source": [
    "color=[colormapping_mal[f\"cNMF_{i}\"] for i in range(1,6)]"
   ]
  },
  {
   "cell_type": "code",
   "execution_count": null,
   "id": "7d66e10b-bd38-4ec3-9b38-433c1b3e65da",
   "metadata": {},
   "outputs": [],
   "source": [
    "fig, ax = plt.subplots(1,1,figsize=(4,2))\n",
    "sns.barplot(data=pd.DataFrame(n_regions),ax=ax, palette=colormapping_mal)\n",
    "ax.set_xticklabels(ax.get_xticklabels(), rotation=45, ha=\"right\")\n",
    "pretty_ax_wlabels(ax)\n",
    "ax.bar_label(ax.containers[-1], fmt='%.0f', label_type='edge')\n",
    "ax.set_xticks(ax.get_xticks(), [\"cNMF$_{1}$\",\"cNMF$_{2}$\",\"cNMF$_{3}$\",\"cNMF$_{4}$\",\"cNMF$_{5}$\"])\n",
    "fig.savefig(\"figures/malonly_link_regions_cnmf_scores.svg\", dpi=200, bbox_inches=\"tight\")"
   ]
  },
  {
   "cell_type": "code",
   "execution_count": null,
   "id": "1110d872-9cb8-4328-adb2-4d6f5cc4f807",
   "metadata": {},
   "outputs": [],
   "source": []
  }
 ],
 "metadata": {
  "kernelspec": {
   "display_name": "Python 3 (ipykernel)",
   "language": "python",
   "name": "python3"
  },
  "language_info": {
   "codemirror_mode": {
    "name": "ipython",
    "version": 3
   },
   "file_extension": ".py",
   "mimetype": "text/x-python",
   "name": "python",
   "nbconvert_exporter": "python",
   "pygments_lexer": "ipython3",
   "version": "3.9.16"
  }
 },
 "nbformat": 4,
 "nbformat_minor": 5
}
