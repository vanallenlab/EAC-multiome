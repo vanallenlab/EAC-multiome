{
 "cells": [
  {
   "cell_type": "code",
   "execution_count": null,
   "id": "49fc482a-1e5b-4591-a670-41483e6483a0",
   "metadata": {},
   "outputs": [],
   "source": [
    "import scanpy as sc\n",
    "import numpy as np\n",
    "import pandas as pd\n",
    "import milopy\n",
    "import milopy.core as milo\n",
    "import palettable\n",
    "import seaborn as sns\n",
    "import matplotlib.pyplot as plt"
   ]
  },
  {
   "cell_type": "code",
   "execution_count": null,
   "id": "d8ecf956-ca4c-4153-8b30-b57b5e8b251a",
   "metadata": {},
   "outputs": [],
   "source": [
    "adata = sc.read_h5ad(\"/add/path/here/full_cohort.h5ad\")"
   ]
  },
  {
   "cell_type": "code",
   "execution_count": null,
   "id": "dc87a69b-85eb-4c70-bb85-3f77f84fcc72",
   "metadata": {},
   "outputs": [],
   "source": [
    "clinical = pd.read_csv(\"/add/path/here/EAC_clinical_info.csv\",index_col=0)\n",
    "treatment_mapping = {\"Neoadjuvant CROSS\": \"Neoadj. chemo\", \"Neoadjuvent carboplatin\": \"Neoadj. chemo\"}\n",
    "metastatic = (clinical[\"Tumor?\"]==\"Yes \") & (clinical[\"Site\"].str.contains(\"metastasis\"))\n",
    "metastatic.name = \"Metastatic?\"\n",
    "clinical[\"Metastatic?\"] = metastatic\n",
    "\n",
    "clinical[\"Location\"] = clinical[\"Site\"].replace({\"GEJ\": \"Esophagus/GEJ\", \n",
    "                          \"Esophagus\": \"Esophagus/GEJ\"})\n",
    "clinical[\"Location\"][clinical[\"Location\"].str.contains(\"Liver\")] = \"Liver\"\n",
    "clinical[\"Location\"][clinical[\"Location\"].str.contains(\"Adrenal\")] = \"Adrenal gland\"\n",
    "clinical[\"Location\"][clinical[\"Location\"].str.contains(\"Peritoneal\")] = \"Peritoneum\"\n",
    "\n",
    "clinical[\"Stage\"] = clinical[\"Grade/stage\"].replace({\"Stage IV \": \"IV\", \"Stage IV\": \"IV\", \n",
    "                                                     \"Moderately differentiated; ypT1aN0\": \"I\", \n",
    "                                                     \"Moderately differentiated; pT1aN0\": \"I\", \n",
    "                                                     \"Poorly differentiated; ypT2N0\": \"II\", \n",
    "                                                     \"Presented with stage III became stage IV during esophagectomy when pleural metastases were identified\": \"III/IV\"})\n",
    "\n",
    "clinical[\"Treatment\"] = [\"Neoadj. chemo\",\n",
    "                         \"None\",\n",
    "                         \"Neoadj. chemo + ICI + RT\",\n",
    "                         \"None\",\n",
    "                         \"None\",\n",
    "                         \"Chemo + HER2 targeted + ICI\", \n",
    "                         \"Neoadj. chemo + HER2 targeted\", \n",
    "                         \"Neoadj. chemo + ICI\", \n",
    "                         \"None\",\n",
    "                         \"Neoadj. chemo + VEGFR2i\"]\n",
    "\n",
    "clinical[\"HER2 status\"] = clinical[\"HER2\"].replace({\"HER 2 1+\": \"1+/equivocal\"})\n",
    "\n",
    "clinical = clinical.sort_values(by=[\"Tumor?\",\"Metastatic?\",\"Location\"])\n",
    "\n",
    "clinical[\"PD-L1 CPS score\"] = [0,2,7,2,3,24,0,8,3,15]"
   ]
  },
  {
   "cell_type": "code",
   "execution_count": null,
   "id": "c95b2ec5-1a0a-4c45-899d-cde5c0185b0e",
   "metadata": {},
   "outputs": [],
   "source": [
    "refined_annotations = pd.read_csv(\"/add/path/here/refined_annotations.csv\",index_col=0)\n",
    "\n",
    "refined_annotations.columns = [\"refined_annotations\"]\n",
    "\n",
    "refined_wcancer = pd.read_csv(\"/add/path/here/refined_wCNMF_programs_and_sampleid.csv\",index_col=0)"
   ]
  },
  {
   "cell_type": "code",
   "execution_count": null,
   "id": "7239c0db-3eab-4a82-8a02-77e8bd8c49ed",
   "metadata": {},
   "outputs": [],
   "source": [
    "highlevel_refined = {\"Hepatocyte\": \"Epithelial\", \n",
    "                     \"Carcinoma\": \"Carcinoma\", \n",
    "                     \"Fibroblast\": \"Fibroblast\", \n",
    "                     \"Quiescent endothelial cells\": \"Endothelial\", \n",
    "                     \"Smooth muscle\": \"Muscle\", \n",
    "                     \"Skeletal muscle\": \"Muscle\",\n",
    "                     \"TAM2\": \"Myeloid\", \"TAM3\": \"Myeloid\",\n",
    "                     \"TCD4\": \"Lymphoid\", \n",
    "                     \"Inflammatory CAF\": \"Fibroblast\", \n",
    "                     \"Adipose CAF\": \"Fibroblast\",\n",
    "                     \"HGF-CAF\": \"Fibroblast\",\n",
    "                     \"TAM1\": \"Myeloid\", \n",
    "                     \"Myeloid-HighMT\": \"Unknown/technical\", \n",
    "                     \"Angiogenic EC\": \"Endothelial\", \n",
    "                     \"Quiescent EC\": \"Endothelial\", \n",
    "                     \"Venous EC\": \"Endothelial\",\n",
    "                     \"TCD8\": \"Lymphoid\", \n",
    "                     \"B\": \"Lymphoid\", \n",
    "                     \"DC\": \"Myeloid\", \n",
    "                     \"Hepatic EC\": \"Endothelial\", \n",
    "                     \"Kupffer cells\": \"Myeloid\", \n",
    "                     \"NK\": \"Lymphoid\", \n",
    "                     \"Treg\": \"Lymphoid\", \n",
    "                     \"StrMus-HighMT\": \"Unknown/technical\", \n",
    "                     \"T-HighMT\": \"Unknown/technical\", \n",
    "                     \"Mast\": \"Myeloid\", \n",
    "                     \"Adipocytes\": \"Stromal/Muscle\", \n",
    "                     \"Endo-HighMT\": \"Unknown/technical\"}"
   ]
  },
  {
   "cell_type": "code",
   "execution_count": null,
   "id": "252b24ff-408a-4e2e-a49e-c0d11a0faa5a",
   "metadata": {},
   "outputs": [],
   "source": [
    "adata.obs = pd.concat([adata.obs,refined_annotations],axis=1)\n",
    "adata.obs = pd.concat([adata.obs,refined_wcancer[\"refined_wcancer\"]],axis=1)\n",
    "\n",
    "adata.obs[\"highlevel_refined\"] = adata.obs.refined_annotations.replace(highlevel_refined)"
   ]
  },
  {
   "cell_type": "code",
   "execution_count": null,
   "id": "c1882163-0259-407a-ae81-f48f97854c8f",
   "metadata": {},
   "outputs": [],
   "source": [
    "adata.obs[\"Metastatic\"] = adata.obs.sample_id.replace(clinical[\"Metastatic?\"].to_dict())"
   ]
  },
  {
   "cell_type": "code",
   "execution_count": null,
   "id": "cfea7574-c248-48b1-90ea-c142a4efc50d",
   "metadata": {},
   "outputs": [],
   "source": [
    "adata.obs[\"Tumor\"] = adata.obs.sample_id.replace(clinical[\"Tumor?\"].replace({\"Adjacent normal\": False, \"Yes \": True}).to_dict())"
   ]
  },
  {
   "cell_type": "code",
   "execution_count": null,
   "id": "8da3c462-22b8-4396-934c-a4e0f07d7cb0",
   "metadata": {},
   "outputs": [],
   "source": [
    "treatment_naive = clinical[\"Treatment\"].apply(lambda x: True if x==\"None\" else False)\n",
    "adata.obs[\"TreatmentNaive\"] = adata.obs.sample_id.replace(treatment_naive.to_dict())"
   ]
  },
  {
   "cell_type": "markdown",
   "id": "bda7fa36-6db9-427b-a5c0-d0d3795232fc",
   "metadata": {},
   "source": [
    "# Subset malignant"
   ]
  },
  {
   "cell_type": "markdown",
   "id": "35b4a6bc-6641-49d2-b0bb-8619dce3a783",
   "metadata": {},
   "source": [
    "## Compare primary vs metastatic"
   ]
  },
  {
   "cell_type": "code",
   "execution_count": null,
   "id": "9af1d186-dd1a-42f4-ae29-703a667f6c19",
   "metadata": {},
   "outputs": [],
   "source": [
    "colorlist = palettable.colorbrewer.qualitative.Set1_5.mpl_colors\n",
    "colormapping_mal = {\"cNMF_1\": colorlist[0], \"cNMF_2\": colorlist[1], \"cNMF_3\": colorlist[2], \n",
    "                    \"cNMF_4\": colorlist[3], \"cNMF_5\": colorlist[4]}\n",
    "colormapping_mal[\"cNMF_Outlier\"] = \"grey\"\n",
    "colormapping_mal[\"Carcinoma_undefined\"] = \"grey\"\n",
    "\n",
    "colorlist = palettable.colorbrewer.qualitative.Dark2_8.mpl_colors\n",
    "colorlistbis = palettable.colorbrewer.qualitative.Paired_3.mpl_colors\n",
    "colormapping_pat = {'Aguirre_EGSFR1982': colorlist[0], \n",
    "                    \"Aguirre_EGSFR2218\": colorlist[1], \n",
    "                    \"CCG1153_4411\": colorlist[2], \n",
    "                    \"Aguirre_EGSFR1938\": colorlist[3], \n",
    "                    \"Aguirre_EGSFR0074\": colorlist[4], \n",
    "                    \"Aguirre_EGSFR0128\": colorlist[5], \n",
    "                    \"Aguirre_EGSFR1732\": colorlist[6], \n",
    "                    \"Aguirre_EGSFR0148\": colorlist[7], \n",
    "                    \"CCG1153_4496262\": colorlistbis[0], \n",
    "                    \"CCG1153_6640539\": colorlistbis[1]}"
   ]
  },
  {
   "cell_type": "code",
   "execution_count": null,
   "id": "9572605b-83ea-4531-ae8b-52a1b0b26466",
   "metadata": {},
   "outputs": [],
   "source": [
    "subadata = adata[adata.obs.highlevel_refined==\"Carcinoma\"].copy()\n",
    "sc.tl.pca(subadata)\n",
    "sc.external.pp.harmony_integrate(subadata, key=\"sample_id\", basis=\"X_pca\", max_iter_harmony=20)\n",
    "sc.pp.neighbors(subadata, use_rep=\"X_pca_harmony\", n_neighbors=15)\n",
    "sc.tl.umap(subadata)"
   ]
  },
  {
   "cell_type": "code",
   "execution_count": null,
   "id": "d762c0a8-1b37-482c-bc0d-bc7eb60c3628",
   "metadata": {},
   "outputs": [],
   "source": [
    "subadata.X = subadata.layers[\"counts\"] \n",
    "\n",
    "subadata.obs[\"Condition\"] = subadata.obs.sample_id.replace(clinical[\"Metastatic?\"].to_dict())"
   ]
  },
  {
   "cell_type": "code",
   "execution_count": null,
   "id": "f3c693ce-f1ad-4977-90c4-cd7962b3fbef",
   "metadata": {},
   "outputs": [],
   "source": [
    "## Assign cells to neighbourhoods\n",
    "milo.make_nhoods(subadata)\n",
    "\n",
    "## Count cells from each sample in each nhood\n",
    "milo.count_nhoods(subadata, sample_col=\"sample_id\")\n",
    "\n",
    "## Test for differential abundance between conditions\n",
    "milo.DA_nhoods(subadata, design=\"~ Condition\")"
   ]
  },
  {
   "cell_type": "code",
   "execution_count": null,
   "id": "c6159b39-eaee-459b-9f88-286ac621e5b8",
   "metadata": {},
   "outputs": [],
   "source": [
    "fig, ax = plt.subplots(1,1)\n",
    "milopy.utils.build_nhood_graph(subadata)\n",
    "milopy.plot.plot_nhood_graph(subadata, alpha=0.25, min_size=4, ax=ax)\n",
    "fig.savefig(\"figures/malignant/DA_milo_malignant_umap_fdr.png\", dpi=200, bbox_inches=\"tight\")"
   ]
  },
  {
   "cell_type": "code",
   "execution_count": null,
   "id": "ae9f1aec-7a2e-49ec-8e4c-ce85165cf6fa",
   "metadata": {},
   "outputs": [],
   "source": [
    "milopy.utils.annotate_nhoods(subadata, anno_col='refined_wcancer')"
   ]
  },
  {
   "cell_type": "code",
   "execution_count": null,
   "id": "a93f0358-2d55-45b4-8516-3d9484288cd4",
   "metadata": {},
   "outputs": [],
   "source": [
    "plt.hist(subadata.uns['nhood_adata'].obs[\"nhood_annotation_frac\"]);\n",
    "plt.xlabel(\"celltype fraction\")"
   ]
  },
  {
   "cell_type": "code",
   "execution_count": null,
   "id": "79909d16-fd5b-4394-acc4-81b1795072c0",
   "metadata": {},
   "outputs": [],
   "source": [
    "subadata.uns['nhood_adata'].obs.loc[subadata.uns['nhood_adata'].obs[\"nhood_annotation_frac\"] < 0.6, \"nhood_annotation\"] = \"Mixed\""
   ]
  },
  {
   "cell_type": "code",
   "execution_count": null,
   "id": "83e100ce-49ab-4193-8ed0-bd70aff84a5a",
   "metadata": {},
   "outputs": [],
   "source": [
    "fig, ax = plt.subplots(1,1)\n",
    "sns.swarmplot(data=subadata.uns['nhood_adata'].obs, x=\"nhood_annotation\", \n",
    "              y=\"logFC\", palette=colormapping_mal, order=[\"cNMF_1\",\"cNMF_3\", \"cNMF_4\"], ax=ax)\n",
    "sns.boxplot(data=subadata.uns['nhood_adata'].obs, x=\"nhood_annotation\", y=\"logFC\",\n",
    "                 showcaps=False,width=0.3,boxprops={'facecolor':'None','linewidth':1},\n",
    "                 showfliers=False,whiskerprops={'linewidth':1}, order=[\"cNMF_1\", \"cNMF_3\", \"cNMF_4\",],ax=ax)\n",
    "ax.set_title(\"Differential abundance, Malignant\", fontsize=15, style=\"italic\") \n",
    "ax.spines[[\"top\",\"right\"]].set_visible(False)\n",
    "ax.spines[[\"bottom\",\"left\"]].set_linewidth(4)\n",
    "ax.set_xticklabels(ax.get_xticklabels(), fontsize=15, rotation=45)\n",
    "ax.set_xlabel(\"\")\n",
    "ax.set_yticklabels(ax.get_yticklabels(), fontsize=15)\n",
    "ax.set_ylabel(\"log(FC)\", fontsize=15)\n",
    "ax.hlines(y=0, xmin=ax.get_xlim()[0], xmax=ax.get_xlim()[1], linestyles=\"dashed\", color=\"grey\")\n",
    "fig.savefig(\"figures/malignant/DA_milo_malignant_boxplot.png\", dpi=200, bbox_inches=\"tight\")"
   ]
  },
  {
   "cell_type": "markdown",
   "id": "418f4d78-8b7a-4673-97a0-7f15a2f3af73",
   "metadata": {},
   "source": [
    "## Compare treatment naive vs not in metastatic samples"
   ]
  },
  {
   "cell_type": "code",
   "execution_count": null,
   "id": "ddbd096d-6528-4e0e-b6a4-fd759d37ac60",
   "metadata": {},
   "outputs": [],
   "source": [
    "subadata = adata[(adata.obs.highlevel_refined==\"Carcinoma\") & (adata.obs.Metastatic==True)].copy()\n",
    "sc.tl.pca(subadata)\n",
    "sc.external.pp.harmony_integrate(subadata, key=\"sample_id\", basis=\"X_pca\", max_iter_harmony=20)\n",
    "sc.pp.neighbors(subadata, use_rep=\"X_pca_harmony\", n_neighbors=25)\n",
    "sc.tl.umap(subadata)"
   ]
  },
  {
   "cell_type": "code",
   "execution_count": null,
   "id": "5959a772-2885-4064-ad01-8a9a26ede8be",
   "metadata": {},
   "outputs": [],
   "source": [
    "subadata.X = subadata.layers[\"counts\"] "
   ]
  },
  {
   "cell_type": "code",
   "execution_count": null,
   "id": "cdfafd8c-a0b0-45e0-973c-25f27e7d822b",
   "metadata": {},
   "outputs": [],
   "source": [
    "## Assign cells to neighbourhoods\n",
    "milo.make_nhoods(subadata)\n",
    "\n",
    "## Count cells from each sample in each nhood\n",
    "milo.count_nhoods(subadata, sample_col=\"sample_id\")\n",
    "\n",
    "## Test for differential abundance between conditions\n",
    "milo.DA_nhoods(subadata, design=\"~ TreatmentNaive\")"
   ]
  },
  {
   "cell_type": "code",
   "execution_count": null,
   "id": "b6a8933b-addd-4055-853c-35dc5827bcb9",
   "metadata": {},
   "outputs": [],
   "source": [
    "subadata.uns[\"nhood_adata\"].obs.SpatialFDR.hist(bins=20)"
   ]
  },
  {
   "cell_type": "code",
   "execution_count": null,
   "id": "5d3804a5-f33c-45ee-90e2-81fd54fc430d",
   "metadata": {},
   "outputs": [],
   "source": [
    "fig, ax = plt.subplots(1,1)\n",
    "milopy.utils.build_nhood_graph(subadata)\n",
    "milopy.plot.plot_nhood_graph(subadata, alpha=0.25, min_size=4, ax=ax)\n",
    "fig.savefig(\"figures/malignant/DA_milo_malignant_treatmentnaive_umap_fdr.png\", dpi=200, bbox_inches=\"tight\")"
   ]
  },
  {
   "cell_type": "code",
   "execution_count": null,
   "id": "3c6608bd-8827-416d-8b09-7e586d7b254e",
   "metadata": {},
   "outputs": [],
   "source": [
    "fig= sc.pl.umap(subadata, color=[\"refined_wcancer\"], \n",
    "           ncols=1, frameon=False, palette=colormapping_mal, return_fig=True)\n",
    "fig.savefig(\"figures/malignant/umap_annotations_subsetmetastatic.png\",dpi=200,bbox_inches=\"tight\")"
   ]
  },
  {
   "cell_type": "code",
   "execution_count": null,
   "id": "b15a3332-74ef-431b-b49a-c1280fa5724b",
   "metadata": {},
   "outputs": [],
   "source": [
    "fig= sc.pl.umap(subadata, color=[\"sample_id\"], \n",
    "           ncols=1, frameon=False, palette=colormapping_pat, return_fig=True)\n",
    "fig.savefig(\"figures/malignant/umap_annotations_subsetmetastatic_sampleid.png\",dpi=200,bbox_inches=\"tight\")"
   ]
  },
  {
   "cell_type": "code",
   "execution_count": null,
   "id": "a1a8e878-25ea-493a-973c-fd799e565457",
   "metadata": {},
   "outputs": [],
   "source": [
    "milopy.utils.annotate_nhoods(subadata, anno_col='refined_wcancer')"
   ]
  },
  {
   "cell_type": "code",
   "execution_count": null,
   "id": "8a70a337-281f-4f9c-a701-1762771d32e3",
   "metadata": {},
   "outputs": [],
   "source": [
    "plt.hist(subadata.uns['nhood_adata'].obs[\"nhood_annotation_frac\"]);\n",
    "plt.xlabel(\"celltype fraction\")"
   ]
  },
  {
   "cell_type": "code",
   "execution_count": null,
   "id": "9f955d59-46f6-4c02-941b-8689aabd63df",
   "metadata": {},
   "outputs": [],
   "source": [
    "subadata.uns['nhood_adata'].obs.loc[subadata.uns['nhood_adata'].obs[\"nhood_annotation_frac\"] < 0.6, \"nhood_annotation\"] = \"Mixed\""
   ]
  },
  {
   "cell_type": "code",
   "execution_count": null,
   "id": "119addeb-87ab-4c9c-9993-61913a3d5ced",
   "metadata": {},
   "outputs": [],
   "source": [
    "fig, ax = plt.subplots(1,1)\n",
    "sns.swarmplot(data=subadata.uns['nhood_adata'].obs, x=\"nhood_annotation\", \n",
    "              y=\"logFC\", palette=colormapping_mal, order=[\"cNMF_1\", \"cNMF_3\", \"cNMF_4\"], ax=ax)\n",
    "sns.boxplot(data=subadata.uns['nhood_adata'].obs, x=\"nhood_annotation\", y=\"logFC\",\n",
    "                 showcaps=False,width=0.3,boxprops={'facecolor':'None','linewidth':1},\n",
    "                 showfliers=False,whiskerprops={'linewidth':1}, order=[\"cNMF_1\",\"cNMF_3\", \"cNMF_4\"],ax=ax)\n",
    "ax.set_title(\"Differential abundance, Malignant\", fontsize=15, style=\"italic\") \n",
    "ax.spines[[\"top\",\"right\"]].set_visible(False)\n",
    "ax.spines[[\"bottom\",\"left\"]].set_linewidth(4)\n",
    "ax.set_xticklabels(ax.get_xticklabels(), fontsize=15, rotation=45)\n",
    "ax.set_xlabel(\"\")\n",
    "ax.set_yticklabels(ax.get_yticklabels(), fontsize=15)\n",
    "ax.set_ylabel(\"log(FC)\", fontsize=15)\n",
    "ax.hlines(y=0, xmin=ax.get_xlim()[0], xmax=ax.get_xlim()[1], linestyles=\"dashed\", color=\"grey\")\n",
    "fig.savefig(\"figures/malignant/DA_milo_malignant_treatmentnaive_boxplot.png\", dpi=200, bbox_inches=\"tight\")"
   ]
  },
  {
   "cell_type": "markdown",
   "id": "bc98b7af-8d45-4249-923c-36095a447479",
   "metadata": {},
   "source": [
    "# Subset macrophage"
   ]
  },
  {
   "cell_type": "markdown",
   "id": "f6e6e2e5-0ad2-4544-8ce2-1c2572b25c86",
   "metadata": {},
   "source": [
    "## Comparing primary vs metastatic"
   ]
  },
  {
   "cell_type": "code",
   "execution_count": null,
   "id": "de0933ac-2aa6-4511-b6a7-21fbc2f95366",
   "metadata": {},
   "outputs": [],
   "source": [
    "subadata = adata[(adata.obs.highlevel_refined==\"Myeloid\") & (adata.obs.Tumor==True)].copy()\n",
    "sc.tl.pca(subadata)\n",
    "sc.external.pp.harmony_integrate(subadata, key=\"sample_id\", basis=\"X_pca\", max_iter_harmony=20)\n",
    "sc.pp.neighbors(subadata, use_rep=\"X_pca_harmony\", n_neighbors=20)\n",
    "sc.tl.umap(subadata)"
   ]
  },
  {
   "cell_type": "code",
   "execution_count": null,
   "id": "ec26a401-525b-41fc-802a-82eb87f4eb96",
   "metadata": {},
   "outputs": [],
   "source": [
    "colorlist = palettable.colorbrewer.sequential.Greens_9.mpl_colors\n",
    "ctlist = subadata.obs.refined_annotations.unique()\n",
    "colormapping = {ct: colorlist[i+1] for i,ct in enumerate(ctlist)}\n",
    "colormapping[\"Mixed\"] = \"whitesmoke\""
   ]
  },
  {
   "cell_type": "code",
   "execution_count": null,
   "id": "22846603-00c7-4d3a-a04e-584f017f6d54",
   "metadata": {},
   "outputs": [],
   "source": [
    "subadata.X = subadata.layers[\"counts\"] "
   ]
  },
  {
   "cell_type": "code",
   "execution_count": null,
   "id": "56da3048-6e91-47de-9cca-465f0ab8c8c3",
   "metadata": {},
   "outputs": [],
   "source": [
    "## Assign cells to neighbourhoods\n",
    "milo.make_nhoods(subadata)\n",
    "\n",
    "## Count cells from each sample in each nhood\n",
    "milo.count_nhoods(subadata, sample_col=\"sample_id\")\n",
    "\n",
    "## Test for differential abundance between conditions\n",
    "milo.DA_nhoods(subadata, design=\"~ Metastatic\")"
   ]
  },
  {
   "cell_type": "code",
   "execution_count": null,
   "id": "e65be1bd-d104-4227-a370-f6026b26c900",
   "metadata": {},
   "outputs": [],
   "source": [
    "fig, ax = plt.subplots(1,1)\n",
    "milopy.utils.build_nhood_graph(subadata)\n",
    "milopy.plot.plot_nhood_graph(subadata, alpha=0.1, min_size=4, ax=ax)\n",
    "fig.savefig(\"figures/myeloid/DA_milo_myeloid_umap_fdr.png\", dpi=200, bbox_inches=\"tight\")"
   ]
  },
  {
   "cell_type": "code",
   "execution_count": null,
   "id": "5c428c1c-f704-418b-bfcf-9958c942efa8",
   "metadata": {},
   "outputs": [],
   "source": [
    "subadata.obs.refined_wcancer = subadata.obs.refined_wcancer.replace({\"TAM3\":\"TAM2\"})"
   ]
  },
  {
   "cell_type": "code",
   "execution_count": null,
   "id": "26a582ab-29e9-4490-a62e-cf6477c8f48b",
   "metadata": {},
   "outputs": [],
   "source": [
    "milopy.utils.annotate_nhoods(subadata, anno_col='refined_wcancer')"
   ]
  },
  {
   "cell_type": "code",
   "execution_count": null,
   "id": "a316d688-3f2a-4c25-94e7-a264b0910e72",
   "metadata": {},
   "outputs": [],
   "source": [
    "plt.hist(subadata.uns['nhood_adata'].obs[\"nhood_annotation_frac\"]);\n",
    "plt.xlabel(\"celltype fraction\")"
   ]
  },
  {
   "cell_type": "code",
   "execution_count": null,
   "id": "e1635b80-299b-4d90-8701-5e2e3f1f6a94",
   "metadata": {},
   "outputs": [],
   "source": [
    "subadata.uns['nhood_adata'].obs.loc[subadata.uns['nhood_adata'].obs[\"nhood_annotation_frac\"] < 0.6, \"nhood_annotation\"] = \"Mixed\""
   ]
  },
  {
   "cell_type": "code",
   "execution_count": null,
   "id": "9260eaad-22b8-4f63-a53c-cf9f4c8ec683",
   "metadata": {},
   "outputs": [],
   "source": [
    "fig, ax = plt.subplots(1,1)\n",
    "sns.swarmplot(data=subadata.uns['nhood_adata'].obs, x=\"nhood_annotation\", \n",
    "              y=\"logFC\", palette=colormapping, order=[\"DC\", \"Mast\", \"Kupffer cells\", \"TAM1\", \"TAM2\"], ax=ax)\n",
    "sns.boxplot(data=subadata.uns['nhood_adata'].obs, x=\"nhood_annotation\", y=\"logFC\",\n",
    "                 showcaps=False,width=0.3,boxprops={'facecolor':'None','linewidth':1},\n",
    "                 showfliers=False,whiskerprops={'linewidth':1}, order=[\"DC\", \"Mast\", \"Kupffer cells\", \"TAM1\", \"TAM2\"],ax=ax)\n",
    "ax.set_title(\"Differential abundance, Myeloid\", fontsize=15, style=\"italic\") \n",
    "ax.spines[[\"top\",\"right\"]].set_visible(False)\n",
    "ax.spines[[\"bottom\",\"left\"]].set_linewidth(4)\n",
    "ax.set_xticklabels(ax.get_xticklabels(), fontsize=15, rotation=45)\n",
    "ax.set_xlabel(\"\")\n",
    "ax.set_yticklabels(ax.get_yticklabels(), fontsize=15)\n",
    "ax.set_ylabel(\"log(FC)\", fontsize=15)\n",
    "ax.hlines(y=0, xmin=ax.get_xlim()[0], xmax=ax.get_xlim()[1], linestyles=\"dashed\", color=\"grey\")\n",
    "fig.savefig(\"figures/myeloid/DA_milo_myeloid_boxplot.png\", dpi=200, bbox_inches=\"tight\")"
   ]
  },
  {
   "cell_type": "markdown",
   "id": "07e7ece1-e425-4056-a9fe-14861c1a5787",
   "metadata": {},
   "source": [
    "## Comparing normal vs tumor"
   ]
  },
  {
   "cell_type": "code",
   "execution_count": null,
   "id": "3b2f6410-de0e-4301-96d2-72016bd9b725",
   "metadata": {},
   "outputs": [],
   "source": [
    "subadata = adata[(adata.obs.highlevel_refined==\"Myeloid\")].copy()\n",
    "sc.tl.pca(subadata)\n",
    "sc.external.pp.harmony_integrate(subadata, key=\"sample_id\", basis=\"X_pca\", max_iter_harmony=20)\n",
    "sc.pp.neighbors(subadata, use_rep=\"X_pca_harmony\", n_neighbors=20)\n",
    "sc.tl.umap(subadata)"
   ]
  },
  {
   "cell_type": "code",
   "execution_count": null,
   "id": "69f67ca8-0a33-4f05-a196-b340c0e959b8",
   "metadata": {},
   "outputs": [],
   "source": [
    "colorlist = palettable.colorbrewer.sequential.Greens_9.mpl_colors\n",
    "ctlist = subadata.obs.refined_annotations.unique()\n",
    "colormapping = {ct: colorlist[i+1] for i,ct in enumerate(ctlist)}\n",
    "colormapping[\"Mixed\"] = \"whitesmoke\""
   ]
  },
  {
   "cell_type": "code",
   "execution_count": null,
   "id": "0a2f7cb0-4b90-4aaf-947c-52b683a90163",
   "metadata": {},
   "outputs": [],
   "source": [
    "subadata.X = subadata.layers[\"counts\"] "
   ]
  },
  {
   "cell_type": "code",
   "execution_count": null,
   "id": "ef645064-fc40-43bd-b846-6c18a0837f7c",
   "metadata": {},
   "outputs": [],
   "source": [
    "## Assign cells to neighbourhoods\n",
    "milo.make_nhoods(subadata)\n",
    "\n",
    "## Count cells from each sample in each nhood\n",
    "milo.count_nhoods(subadata, sample_col=\"sample_id\")\n",
    "\n",
    "## Test for differential abundance between conditions\n",
    "milo.DA_nhoods(subadata, design=\"~ Tumor\")"
   ]
  },
  {
   "cell_type": "code",
   "execution_count": null,
   "id": "7565fa87-5f2e-4170-8aac-07e85b63b981",
   "metadata": {},
   "outputs": [],
   "source": [
    "fig, ax = plt.subplots(1,1)\n",
    "milopy.utils.build_nhood_graph(subadata)\n",
    "milopy.plot.plot_nhood_graph(subadata, alpha=0.1, min_size=4, ax=ax)\n",
    "fig.savefig(\"figures/myeloid/DA_milo_myeloid_tumorstatus_umap_fdr.png\", dpi=200, bbox_inches=\"tight\")"
   ]
  },
  {
   "cell_type": "code",
   "execution_count": null,
   "id": "94b2eebd-d97b-46e6-9946-11fdbaf5f237",
   "metadata": {},
   "outputs": [],
   "source": [
    "subadata.obs.refined_wcancer = subadata.obs.refined_wcancer.replace({\"TAM3\":\"TAM2\"})"
   ]
  },
  {
   "cell_type": "code",
   "execution_count": null,
   "id": "34478bd9-2dcf-43be-a084-088727af9cf9",
   "metadata": {},
   "outputs": [],
   "source": [
    "milopy.utils.annotate_nhoods(subadata, anno_col='refined_wcancer')"
   ]
  },
  {
   "cell_type": "code",
   "execution_count": null,
   "id": "30c07eb1-37f3-4271-8418-1e450155e43d",
   "metadata": {},
   "outputs": [],
   "source": [
    "plt.hist(subadata.uns['nhood_adata'].obs[\"nhood_annotation_frac\"]);\n",
    "plt.xlabel(\"celltype fraction\")"
   ]
  },
  {
   "cell_type": "code",
   "execution_count": null,
   "id": "6dc0a571-ea27-4bb4-b2fc-7d135fbaa90e",
   "metadata": {},
   "outputs": [],
   "source": [
    "subadata.uns['nhood_adata'].obs.loc[subadata.uns['nhood_adata'].obs[\"nhood_annotation_frac\"] < 0.6, \"nhood_annotation\"] = \"Mixed\""
   ]
  },
  {
   "cell_type": "code",
   "execution_count": null,
   "id": "578e0342-58bf-4238-af65-95cc3b633862",
   "metadata": {},
   "outputs": [],
   "source": [
    "fig, ax = plt.subplots(1,1)\n",
    "sns.swarmplot(data=subadata.uns['nhood_adata'].obs, x=\"nhood_annotation\", \n",
    "              y=\"logFC\", palette=colormapping, order=[\"DC\", \"Mast\", \"Kupffer cells\", \"TAM1\", \"TAM2\"], ax=ax)\n",
    "sns.boxplot(data=subadata.uns['nhood_adata'].obs, x=\"nhood_annotation\", y=\"logFC\",\n",
    "                 showcaps=False,width=0.3,boxprops={'facecolor':'None','linewidth':1},\n",
    "                 showfliers=False,whiskerprops={'linewidth':1}, order=[\"DC\", \"Mast\", \"Kupffer cells\", \"TAM1\", \"TAM2\"],ax=ax)\n",
    "ax.set_title(\"Differential abundance, Myeloid\", fontsize=15, style=\"italic\") \n",
    "ax.spines[[\"top\",\"right\"]].set_visible(False)\n",
    "ax.spines[[\"bottom\",\"left\"]].set_linewidth(4)\n",
    "ax.set_xticklabels(ax.get_xticklabels(), fontsize=15, rotation=45)\n",
    "ax.set_xlabel(\"\")\n",
    "ax.set_yticklabels(ax.get_yticklabels(), fontsize=15)\n",
    "ax.set_ylabel(\"log(FC)\", fontsize=15)\n",
    "ax.hlines(y=0, xmin=ax.get_xlim()[0], xmax=ax.get_xlim()[1], linestyles=\"dashed\", color=\"grey\")\n",
    "fig.savefig(\"figures/myeloid/DA_milo_myeloid_tumorstatus_boxplot.png\", dpi=200, bbox_inches=\"tight\")"
   ]
  },
  {
   "cell_type": "code",
   "execution_count": null,
   "id": "738fa32b-1239-4e4b-a5c9-72b96137dce0",
   "metadata": {},
   "outputs": [],
   "source": []
  },
  {
   "cell_type": "markdown",
   "id": "7c7982b5-e3d4-45c3-a0aa-5181e1e04b6a",
   "metadata": {},
   "source": [
    "# Subset lymphoid"
   ]
  },
  {
   "cell_type": "code",
   "execution_count": null,
   "id": "f56c3d4a-6caf-4a53-9acb-6a94f982c483",
   "metadata": {},
   "outputs": [],
   "source": [
    "subadata = adata[(adata.obs.highlevel_refined==\"Lymphoid\") & (adata.obs.Tumor==True)].copy()\n",
    "sc.tl.pca(subadata)\n",
    "sc.external.pp.harmony_integrate(subadata, key=\"sample_id\", basis=\"X_pca\", max_iter_harmony=20)\n",
    "sc.pp.neighbors(subadata, use_rep=\"X_pca_harmony\", n_neighbors=20)\n",
    "sc.tl.umap(subadata)"
   ]
  },
  {
   "cell_type": "code",
   "execution_count": null,
   "id": "8156eccd-bb00-412c-8754-57f9e8e110c8",
   "metadata": {},
   "outputs": [],
   "source": [
    "colorlist = palettable.colorbrewer.sequential.Greys_9.mpl_colors\n",
    "ctlist = subadata.obs.refined_annotations.unique()\n",
    "colormapping = {ct: colorlist[i+2] for i,ct in enumerate(ctlist)}\n",
    "colormapping[\"B\"] = colorlist[8]\n",
    "colormapping[\"Mixed\"] = \"whitesmoke\""
   ]
  },
  {
   "cell_type": "code",
   "execution_count": null,
   "id": "e681dc41-2eeb-4005-a86a-6fbd6ffdf36a",
   "metadata": {},
   "outputs": [],
   "source": [
    "subadata.X = subadata.layers[\"counts\"] \n",
    "\n",
    "subadata.obs[\"Condition\"] = subadata.obs.sample_id.replace(clinical[\"Metastatic?\"].to_dict())"
   ]
  },
  {
   "cell_type": "code",
   "execution_count": null,
   "id": "e794c762-b779-4265-87f7-98bbbda9c8c7",
   "metadata": {},
   "outputs": [],
   "source": [
    "## Assign cells to neighbourhoods\n",
    "milo.make_nhoods(subadata)\n",
    "\n",
    "## Count cells from each sample in each nhood\n",
    "milo.count_nhoods(subadata, sample_col=\"sample_id\")\n",
    "\n",
    "## Test for differential abundance between conditions\n",
    "milo.DA_nhoods(subadata, design=\"~ Condition\")"
   ]
  },
  {
   "cell_type": "code",
   "execution_count": null,
   "id": "fef58858-9ceb-453d-8cce-f489f9d7e2c4",
   "metadata": {},
   "outputs": [],
   "source": [
    "fig, ax = plt.subplots(1,1)\n",
    "milopy.utils.build_nhood_graph(subadata)\n",
    "milopy.plot.plot_nhood_graph(subadata, alpha=0.1, min_size=4, ax=ax)\n",
    "fig.savefig(\"figures/lymphoid/DA_milo_lymphoid_umap_fdr.png\", dpi=200, bbox_inches=\"tight\")"
   ]
  },
  {
   "cell_type": "code",
   "execution_count": null,
   "id": "7b6a925d-dade-44d4-b631-5d40b44f5432",
   "metadata": {},
   "outputs": [],
   "source": [
    "fig= sc.pl.umap(subadata, color=[\"refined_wcancer\"], \n",
    "           ncols=1, frameon=False, palette=colormapping, return_fig=True)\n",
    "fig.savefig(\"figures/lymphoid/umap_annotations_subsetmal.png\",dpi=200,bbox_inches=\"tight\")"
   ]
  },
  {
   "cell_type": "code",
   "execution_count": null,
   "id": "2c3e7781-11a2-4391-9657-65711780e568",
   "metadata": {},
   "outputs": [],
   "source": [
    "milopy.utils.annotate_nhoods(subadata, anno_col='refined_wcancer')"
   ]
  },
  {
   "cell_type": "code",
   "execution_count": null,
   "id": "d3458332-adfe-4d27-9820-0c21af2cc36a",
   "metadata": {},
   "outputs": [],
   "source": [
    "plt.hist(subadata.uns['nhood_adata'].obs[\"nhood_annotation_frac\"]);\n",
    "plt.xlabel(\"celltype fraction\")"
   ]
  },
  {
   "cell_type": "code",
   "execution_count": null,
   "id": "fb5cc51e-8b5c-4735-b795-55df90dce1b6",
   "metadata": {},
   "outputs": [],
   "source": [
    "subadata.uns['nhood_adata'].obs.loc[subadata.uns['nhood_adata'].obs[\"nhood_annotation_frac\"] < 0.6, \"nhood_annotation\"] = \"Mixed\""
   ]
  },
  {
   "cell_type": "code",
   "execution_count": null,
   "id": "b462eb81-dd65-4ad4-ab9e-a2c216dc3b97",
   "metadata": {},
   "outputs": [],
   "source": [
    "fig, ax = plt.subplots(1,1)\n",
    "sns.swarmplot(data=subadata.uns['nhood_adata'].obs, x=\"nhood_annotation\", \n",
    "              y=\"logFC\", palette=colormapping, order=[\"B\", \"NK\", \"TCD8\", \"TCD4\", \"Treg\", \"Mixed\"], ax=ax)\n",
    "sns.boxplot(data=subadata.uns['nhood_adata'].obs, x=\"nhood_annotation\", y=\"logFC\",\n",
    "                 showcaps=False,width=0.3,boxprops={'facecolor':'None','linewidth':1},\n",
    "                 showfliers=False,whiskerprops={'linewidth':1}, order=[\"B\", \"NK\", \"TCD8\", \"TCD4\", \"Treg\", \"Mixed\"],ax=ax)\n",
    "ax.set_title(\"Differential abundance, Lymphoid\", fontsize=15, style=\"italic\") \n",
    "ax.spines[[\"top\",\"right\"]].set_visible(False)\n",
    "ax.spines[[\"bottom\",\"left\"]].set_linewidth(4)\n",
    "ax.set_xticklabels(ax.get_xticklabels(), fontsize=15, rotation=45)\n",
    "ax.set_xlabel(\"\")\n",
    "ax.set_yticklabels(ax.get_yticklabels(), fontsize=15)\n",
    "ax.set_ylabel(\"log(FC)\", fontsize=15)\n",
    "ax.hlines(y=0, xmin=ax.get_xlim()[0], xmax=ax.get_xlim()[1], linestyles=\"dashed\", color=\"grey\")\n",
    "fig.savefig(\"figures/lymphoid/DA_milo_lymphoid_boxplot.png\", dpi=200, bbox_inches=\"tight\")"
   ]
  },
  {
   "cell_type": "markdown",
   "id": "2aead91b-d8d5-4eca-832d-e07c61c44668",
   "metadata": {},
   "source": [
    "# Subset fibroblast"
   ]
  },
  {
   "cell_type": "code",
   "execution_count": null,
   "id": "201f5db1-97ec-48c2-a1d6-7d879cc51cc2",
   "metadata": {},
   "outputs": [],
   "source": [
    "subadata = adata[(adata.obs.highlevel_refined==\"Fibroblast\") & (adata.obs.Tumor==True)].copy()\n",
    "sc.tl.pca(subadata)\n",
    "sc.external.pp.harmony_integrate(subadata, key=\"sample_id\", basis=\"X_pca\", max_iter_harmony=20)\n",
    "sc.pp.neighbors(subadata, use_rep=\"X_pca_harmony\", n_neighbors=20)\n",
    "sc.tl.umap(subadata)"
   ]
  },
  {
   "cell_type": "code",
   "execution_count": null,
   "id": "1dda25be-3f73-4500-9c4b-2130babf595f",
   "metadata": {},
   "outputs": [],
   "source": [
    "colorlist = palettable.colorbrewer.sequential.Oranges_5.mpl_colors\n",
    "ctlist = subadata.obs.refined_annotations.unique()\n",
    "colormapping = {ct: colorlist[i+1] for i,ct in enumerate(ctlist)}\n",
    "colormapping[\"Mixed\"] = \"whitesmoke\""
   ]
  },
  {
   "cell_type": "code",
   "execution_count": null,
   "id": "0424adaf-9330-4713-9779-498ba29c07e0",
   "metadata": {},
   "outputs": [],
   "source": [
    "subadata.X = subadata.layers[\"counts\"] \n",
    "\n",
    "subadata.obs[\"Condition\"] = subadata.obs.sample_id.replace(clinical[\"Metastatic?\"].to_dict())"
   ]
  },
  {
   "cell_type": "code",
   "execution_count": null,
   "id": "b09e2e75-a37f-4819-a454-9cb2acf1dc8b",
   "metadata": {},
   "outputs": [],
   "source": [
    "## Assign cells to neighbourhoods\n",
    "milo.make_nhoods(subadata)\n",
    "\n",
    "## Count cells from each sample in each nhood\n",
    "milo.count_nhoods(subadata, sample_col=\"sample_id\")\n",
    "\n",
    "## Test for differential abundance between conditions\n",
    "milo.DA_nhoods(subadata, design=\"~ Condition\")"
   ]
  },
  {
   "cell_type": "code",
   "execution_count": null,
   "id": "903c0e58-fbf7-4f48-a942-b550925ba6a9",
   "metadata": {},
   "outputs": [],
   "source": [
    "fig, ax = plt.subplots(1,1)\n",
    "milopy.utils.build_nhood_graph(subadata)\n",
    "milopy.plot.plot_nhood_graph(subadata, alpha=0.1, min_size=4, ax=ax)\n",
    "fig.savefig(\"figures/fibroblast/DA_milo_fibroblast_umap_fdr.png\", dpi=200, bbox_inches=\"tight\")"
   ]
  },
  {
   "cell_type": "code",
   "execution_count": null,
   "id": "67c74f12-2f32-4b59-ba27-ed4cb57001ae",
   "metadata": {},
   "outputs": [],
   "source": [
    "fig= sc.pl.umap(subadata, color=[\"refined_wcancer\"], \n",
    "           ncols=1, frameon=False, palette=colormapping, return_fig=True)\n",
    "fig.savefig(\"figures/fibroblast/umap_annotations_subsetmal.png\",dpi=200,bbox_inches=\"tight\")"
   ]
  },
  {
   "cell_type": "code",
   "execution_count": null,
   "id": "6bf5084c-f321-45a4-a9c5-7f7e22af9cc6",
   "metadata": {},
   "outputs": [],
   "source": [
    "milopy.utils.annotate_nhoods(subadata, anno_col='refined_wcancer')"
   ]
  },
  {
   "cell_type": "code",
   "execution_count": null,
   "id": "0cc8ae08-f136-4cc2-ae3c-441d025136b8",
   "metadata": {},
   "outputs": [],
   "source": [
    "plt.hist(subadata.uns['nhood_adata'].obs[\"nhood_annotation_frac\"]);\n",
    "plt.xlabel(\"celltype fraction\")"
   ]
  },
  {
   "cell_type": "code",
   "execution_count": null,
   "id": "60d1a373-535d-4066-95f5-48aae767fa8b",
   "metadata": {},
   "outputs": [],
   "source": [
    "subadata.uns['nhood_adata'].obs.loc[subadata.uns['nhood_adata'].obs[\"nhood_annotation_frac\"] < 0.6, \"nhood_annotation\"] = \"Mixed\""
   ]
  },
  {
   "cell_type": "code",
   "execution_count": null,
   "id": "7dd62631-697c-4256-8226-06d61c6f06f0",
   "metadata": {},
   "outputs": [],
   "source": [
    "fig, ax = plt.subplots(1,1)\n",
    "sns.swarmplot(data=subadata.uns['nhood_adata'].obs, x=\"nhood_annotation\", \n",
    "              y=\"logFC\", palette=colormapping, order=[\"Fibroblast\", \"Inflammatory CAF\", \"Adipose CAF\", \"HGF-CAF\", \"Mixed\"], ax=ax)\n",
    "sns.boxplot(data=subadata.uns['nhood_adata'].obs, x=\"nhood_annotation\", y=\"logFC\",\n",
    "                 showcaps=False,width=0.3,boxprops={'facecolor':'None','linewidth':1},\n",
    "                 showfliers=False,whiskerprops={'linewidth':1}, order=[\"Fibroblast\", \"Inflammatory CAF\", \"Adipose CAF\", \"HGF-CAF\", \"Mixed\"],\n",
    "            ax=ax)\n",
    "ax.set_title(\"Differential abundance, Fibroblast\", fontsize=15, style=\"italic\") \n",
    "ax.spines[[\"top\",\"right\"]].set_visible(False)\n",
    "ax.spines[[\"bottom\",\"left\"]].set_linewidth(4)\n",
    "ax.set_xticklabels(ax.get_xticklabels(), fontsize=15, rotation=45)\n",
    "ax.set_xlabel(\"\")\n",
    "ax.set_yticklabels(ax.get_yticklabels(), fontsize=15)\n",
    "ax.set_ylabel(\"log(FC)\", fontsize=15)\n",
    "ax.hlines(y=0, xmin=ax.get_xlim()[0], xmax=ax.get_xlim()[1], linestyles=\"dashed\", color=\"grey\")\n",
    "fig.savefig(\"figures/fibroblast/DA_milo_fibroblast_boxplot.png\", dpi=200, bbox_inches=\"tight\")"
   ]
  },
  {
   "cell_type": "code",
   "execution_count": null,
   "id": "87f0b532-42ce-4a3a-a165-0378a583bf7a",
   "metadata": {},
   "outputs": [],
   "source": []
  }
 ],
 "metadata": {
  "kernelspec": {
   "display_name": "Python 3 (ipykernel)",
   "language": "python",
   "name": "python3"
  },
  "language_info": {
   "codemirror_mode": {
    "name": "ipython",
    "version": 3
   },
   "file_extension": ".py",
   "mimetype": "text/x-python",
   "name": "python",
   "nbconvert_exporter": "python",
   "pygments_lexer": "ipython3",
   "version": "3.9.16"
  }
 },
 "nbformat": 4,
 "nbformat_minor": 5
}
