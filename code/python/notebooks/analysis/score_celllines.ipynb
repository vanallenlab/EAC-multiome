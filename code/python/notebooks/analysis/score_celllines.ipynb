{
 "cells": [
  {
   "cell_type": "code",
   "execution_count": null,
   "id": "6744b5d7-f918-4a6c-a8bb-60d0ed3fd294",
   "metadata": {},
   "outputs": [],
   "source": [
    "import numpy as np\n",
    "import pandas as pd\n",
    "import matplotlib.pyplot as plt\n",
    "import seaborn as sns"
   ]
  },
  {
   "cell_type": "code",
   "execution_count": null,
   "id": "147ddfcc-9545-4945-976f-336b399604e9",
   "metadata": {},
   "outputs": [],
   "source": [
    "import pathlib as pl"
   ]
  },
  {
   "cell_type": "code",
   "execution_count": null,
   "id": "ada0efdf-2e01-4d1c-b374-ad9c8c751554",
   "metadata": {},
   "outputs": [],
   "source": [
    "from statannotations.Annotator import Annotator"
   ]
  },
  {
   "cell_type": "code",
   "execution_count": null,
   "id": "64ac5a96-3d7c-4873-af92-9719030e7a71",
   "metadata": {},
   "outputs": [],
   "source": [
    "from tqdm.notebook import tqdm"
   ]
  },
  {
   "cell_type": "code",
   "execution_count": null,
   "id": "2cd275cb-d01b-4b3c-a0ed-612002136601",
   "metadata": {},
   "outputs": [],
   "source": [
    "from scipy.stats import pearsonr"
   ]
  },
  {
   "cell_type": "code",
   "execution_count": null,
   "id": "0bab1641-cf1a-43d6-941b-291a74585887",
   "metadata": {},
   "outputs": [],
   "source": [
    "from statsmodels.stats.multitest import multipletests"
   ]
  },
  {
   "cell_type": "code",
   "execution_count": null,
   "id": "4161495c-0d05-411a-a5b4-05a65501e95b",
   "metadata": {},
   "outputs": [],
   "source": [
    "def pretty_ax(ax):\n",
    "    ax.spines['right'].set_visible(False)\n",
    "    ax.spines['top'].set_visible(False)\n",
    "    ax.tick_params(\n",
    "        axis='both',  \n",
    "        which='both',      \n",
    "        bottom=True,     \n",
    "        top=False,\n",
    "        left=False,\n",
    "        labelbottom=True,\n",
    "        labelleft = True)\n",
    "    ax.spines[\"bottom\"].set_linewidth(1.5)\n",
    "    ax.spines[\"left\"].set_linewidth(1.5)"
   ]
  },
  {
   "cell_type": "code",
   "execution_count": null,
   "id": "7423b7b4-e456-4b6f-a2af-ead759932daa",
   "metadata": {},
   "outputs": [],
   "source": [
    "import matplotlib\n",
    "import matplotlib.cm as cm\n",
    "import matplotlib.colors as mcolors\n",
    "\n",
    "from sklearn.decomposition import PCA\n",
    "\n",
    "from adjustText import adjust_text\n",
    "\n",
    "def plot_pcs_color(ax, state, annotate=False, mapping=None):\n",
    "    vcenter = 0\n",
    "    vmin, vmax = X_pca[state].min(), X_pca[state].max()\n",
    "    normalize = mcolors.TwoSlopeNorm(vcenter=vcenter, vmin=vmin, vmax=vmax)\n",
    "    colormap = matplotlib.colormaps['RdBu_r']\n",
    "    sns.scatterplot(\n",
    "        y=X_pca[\"PC2\"],\n",
    "        x=X_pca[\"PC1\"],\n",
    "        c=X_pca[state],\n",
    "        norm=normalize,\n",
    "        cmap=colormap,\n",
    "        ax=ax\n",
    "    )\n",
    "    scalarmappaple = cm.ScalarMappable(norm=normalize, cmap=colormap)\n",
    "    scalarmappaple.set_array(X_pca[state])\n",
    "    fig.colorbar(scalarmappaple, ax=ax)\n",
    "    ax.set_title(state)\n",
    "    pretty_ax(ax)\n",
    "\n",
    "    top_hits = X_pca[state].sort_values(ascending=False).head(5).index.to_numpy()\n",
    "    if annotate:\n",
    "        texts = []\n",
    "        for cl in top_hits:\n",
    "            texts.append(ax.text(X_pca[\"PC1\"].loc[cl]+0.01, X_pca[\"PC2\"].loc[cl], \n",
    "                     mapping[cl], ha='center', va='center',\n",
    "                     size=5, color='black', weight='semibold'))\n",
    "        adjust_text(texts, arrowprops=dict(arrowstyle=\"-\", color='black', lw=0.5), ax=ax)"
   ]
  },
  {
   "cell_type": "markdown",
   "id": "f792b723-632f-4593-8645-9164df9de457",
   "metadata": {},
   "source": [
    "# Download cell line info"
   ]
  },
  {
   "cell_type": "code",
   "execution_count": null,
   "id": "d08ecbc2-af6a-49dc-b3e3-3a2b1e67d49b",
   "metadata": {},
   "outputs": [],
   "source": [
    "celline_dir = pl.Path(\"/add/path/here/\")"
   ]
  },
  {
   "cell_type": "code",
   "execution_count": null,
   "id": "bddc88b3-53d6-48b7-87be-d2cb7ddf6f7e",
   "metadata": {},
   "outputs": [],
   "source": [
    "celllines_metadata = pd.read_csv(celline_dir / \"internal-23q2_v98-model.csv\",index_col=0)"
   ]
  },
  {
   "cell_type": "code",
   "execution_count": null,
   "id": "16988b3e-04f4-4218-8f54-4a24f03108c8",
   "metadata": {},
   "outputs": [],
   "source": [
    "celllines_gex = pd.read_csv(celline_dir / \"internal-23q2_v98-omicsexpressionproteincodinggenestpmlogp1.csv\",index_col=0)"
   ]
  },
  {
   "cell_type": "code",
   "execution_count": null,
   "id": "c2217f73-9c43-4d49-bee3-fb96a7f7ff5c",
   "metadata": {},
   "outputs": [],
   "source": [
    "celllines_metadata_eac = celllines_metadata[celllines_metadata[\"DepmapModelType\"]==\"ESCA\"]\n",
    "\n",
    "celllines_gex_eac= celllines_gex.loc[celllines_gex.index.intersection(celllines_metadata_eac.index)].copy()\n",
    "\n",
    "celllines_gex_eac.columns = celllines_gex_eac.columns.str.split(\" \\(\").str[0]"
   ]
  },
  {
   "cell_type": "code",
   "execution_count": null,
   "id": "83e581d3-a85b-461a-ba6e-2b17c44cadb3",
   "metadata": {},
   "outputs": [],
   "source": [
    "celllines_metadata_eac[celllines_metadata_eac.CellLineName.isin([\"CCLF_UPGI_0034_T\",\"CCLF_NEURO_0046_T\",\"OANC1\",\"IS076A\",\"SK-GT-4\"])].iloc[:,-25:-15]"
   ]
  },
  {
   "cell_type": "code",
   "execution_count": null,
   "id": "f4b816cc-1828-4cdd-a4c6-d0d5fbb9b1a5",
   "metadata": {},
   "outputs": [],
   "source": [
    "celllines_metadata_eac[celllines_metadata_eac.CellLineName.isin([\"OE33\",\"CCLF_UPGI_0081_T\",\n",
    "                                                                 \"CCLF_UPGI_0070_T\",\"CCLF_UPGI_0012_T\",\n",
    "                                                                 \"CCLF_UPGI_0086_T\"])].iloc[:,-25:-15]"
   ]
  },
  {
   "cell_type": "markdown",
   "id": "6cd768ca-5bb5-44b3-885b-948a1a4382a5",
   "metadata": {},
   "source": [
    "# Score signatures"
   ]
  },
  {
   "cell_type": "code",
   "execution_count": null,
   "id": "f5d572b0",
   "metadata": {},
   "outputs": [],
   "source": [
    "mTFs = ['KLF5', 'ELF3', 'SMAD3', 'TCF7L2', 'HMGA2',\"BNC2\"]"
   ]
  },
  {
   "cell_type": "code",
   "execution_count": null,
   "id": "1cbad9df-5b66-4eab-a119-445e0eb77e1f",
   "metadata": {},
   "outputs": [],
   "source": [
    "signature_dir = pl.Path(\"/add/path/here\")\n",
    "\n",
    "full_sigs = {}\n",
    "for s in (signature_dir).iterdir():\n",
    "    sig = s.stem\n",
    "    full_sigs[sig] = pd.read_csv(s,index_col=0)\n",
    "    _N_GENES = full_sigs[sig].shape[0]\n",
    "    full_sigs[sig] = full_sigs[sig].head(100).index.ravel()"
   ]
  },
  {
   "cell_type": "code",
   "execution_count": null,
   "id": "225efff2-36b7-46f6-a502-99742d6d4635",
   "metadata": {},
   "outputs": [],
   "source": [
    "std_gex = (celllines_gex_eac - celllines_gex_eac.mean())/celllines_gex_eac.std()"
   ]
  },
  {
   "cell_type": "code",
   "execution_count": null,
   "id": "fc3ab4e3-0a34-41e6-a32f-b6b21592df7d",
   "metadata": {},
   "outputs": [],
   "source": [
    "state_score = []\n",
    "for sig, genes in full_sigs.items():\n",
    "    selgenes = std_gex.columns.intersection(genes)\n",
    "    selgenes = np.setdiff1d(selgenes, mTFs)\n",
    "    scores = std_gex[selgenes].mean(axis=1)\n",
    "    scores.name = sig\n",
    "    state_score.append(scores)\n",
    "state_score = pd.concat(state_score,axis=1)"
   ]
  },
  {
   "cell_type": "code",
   "execution_count": null,
   "id": "5d2c9e05-9b71-410d-a033-739d523deb74",
   "metadata": {},
   "outputs": [],
   "source": [
    "all_rs, all_ps = [],[]\n",
    "for tf in tqdm(std_gex.columns.intersection(list_tfs)):\n",
    "    r,p = pearsonr(std_gex[tf].fillna(0),state_score[\"cNMF_4\"])\n",
    "    all_rs.append(r)\n",
    "    all_ps.append(p)"
   ]
  },
  {
   "cell_type": "code",
   "execution_count": null,
   "id": "e17985b7-bbef-4944-810f-0e38b9d0b7cd",
   "metadata": {},
   "outputs": [],
   "source": [
    "all_qs = multipletests(all_ps)[1]"
   ]
  },
  {
   "cell_type": "code",
   "execution_count": null,
   "id": "205bbd4e-74c1-423d-a05b-3b24754fb893",
   "metadata": {},
   "outputs": [],
   "source": [
    "std_gex.columns.intersection(list_tfs)[all_qs<0.01]"
   ]
  },
  {
   "cell_type": "code",
   "execution_count": null,
   "id": "dd8a5249-e119-4b0d-bf6c-eba6a8ac7c3a",
   "metadata": {},
   "outputs": [],
   "source": [
    "mTF_score = std_gex[std_gex.columns.intersection([\"KLF5\",\"ELF3\",\"SMAD3\",\"TCF7L2\",\"HNF4G\"])].mean(axis=1)\n",
    "mTF_score.name = \"mTF_score\""
   ]
  },
  {
   "cell_type": "code",
   "execution_count": null,
   "id": "1a8af0bc-23dd-4c02-82dc-33e65acfb64c",
   "metadata": {},
   "outputs": [],
   "source": [
    "red_mTF_score = std_gex[std_gex.columns.intersection([\"KLF5\",\"ELF3\"])].mean(axis=1)\n",
    "red_mTF_score.name = \"red_mTF_score\""
   ]
  },
  {
   "cell_type": "markdown",
   "id": "f91da2b7-02f6-49e1-a0e4-384c939d596c",
   "metadata": {},
   "source": [
    "### Relationship between states"
   ]
  },
  {
   "cell_type": "code",
   "execution_count": null,
   "id": "4d96a714-0c3e-46f7-bdea-3eea289b38eb",
   "metadata": {},
   "outputs": [],
   "source": [
    "df = state_score[[\"cNMF_1\",\"cNMF_3\",\"cNMF_4\"]]\n",
    "g = sns.PairGrid(df, diag_sharey=False, corner=True)\n",
    "g.map_lower(sns.kdeplot)\n",
    "g.map_diag(sns.histplot)\n",
    "g.fig.savefig(\"figures/celllines/cNMF_pairgrid_relbetweenscore.png\", dpi=300, bbox_inches=\"tight\")"
   ]
  },
  {
   "cell_type": "code",
   "execution_count": null,
   "id": "3683f5de-729e-4d68-ae60-f003ffff7b65",
   "metadata": {},
   "outputs": [],
   "source": [
    "pca = PCA(n_components=2)\n",
    "X_pca = pd.DataFrame(pca.fit_transform(std_gex.fillna(0)),index=std_gex.index,columns=[\"PC1\",\"PC2\"])\n",
    "\n",
    "X_pca = pd.concat([X_pca, state_score],axis=1)\n",
    "\n",
    "_MAPPING = celllines_metadata_eac.loc[X_pca.index][\"CellLineName\"].to_dict()\n",
    "\n",
    "\n",
    "fig, ax = plt.subplots(1,3, figsize=(10,2))\n",
    "flatax = ax.flatten()\n",
    "\n",
    "plot_pcs_color(flatax[0], \"cNMF_3\")\n",
    "plot_pcs_color(flatax[1], \"cNMF_1\")\n",
    "plot_pcs_color(flatax[2], \"cNMF_4\")\n",
    "#plot_pcs_color(flatax[0], \"cNMF_3\", annotate=True, mapping=_MAPPING)\n",
    "#plot_pcs_color(flatax[1], \"cNMF_1\", annotate=True, mapping=_MAPPING)\n",
    "#plot_pcs_color(flatax[2], \"cNMF_4\", annotate=True, mapping=_MAPPING)\n",
    "fig.tight_layout()\n",
    "fig.savefig(\"/figures/celllines/PC_wCNMF_score.svg\", dpi=200, bbox_inches=\"tight\")\n",
    "\n",
    "fig, ax = plt.subplots(1,2, figsize=(6,2))\n",
    "flatax = ax.flatten()\n",
    "\n",
    "plot_pcs_color(flatax[0], \"cNMF_2\")\n",
    "plot_pcs_color(flatax[1], \"cNMF_5\")\n",
    "\n",
    "fig.tight_layout()"
   ]
  },
  {
   "cell_type": "code",
   "execution_count": null,
   "id": "b6623cc8-136a-4954-8e2c-d5d65e3d6eae",
   "metadata": {},
   "outputs": [],
   "source": [
    "X_pca.corr()"
   ]
  },
  {
   "cell_type": "markdown",
   "id": "efe701ae-3544-4288-a1f6-d0cfa8a0ed75",
   "metadata": {},
   "source": [
    "### Correlation between signatures and TFs"
   ]
  },
  {
   "cell_type": "code",
   "execution_count": null,
   "id": "d9ec5022-26f7-4653-b72e-b6b032f954d2",
   "metadata": {},
   "outputs": [],
   "source": [
    "corr_df = pd.concat([state_score[[\"cNMF_1\",\"cNMF_3\",\"cNMF_4\"]],\n",
    "           celllines_gex_eac.loc[:,mTFs]],axis=1)"
   ]
  },
  {
   "cell_type": "code",
   "execution_count": null,
   "id": "b0775124-9dcb-4bb3-83c9-6393d39bea6a",
   "metadata": {},
   "outputs": [],
   "source": [
    "heatmap_df = corr_df.corr().loc[[\"cNMF_3\",\"cNMF_1\",\"cNMF_4\"],mTFs]"
   ]
  },
  {
   "cell_type": "code",
   "execution_count": null,
   "id": "e42f0a03-2231-4309-aaee-56483c003efd",
   "metadata": {},
   "outputs": [],
   "source": [
    "fig, ax = plt.subplots(1,1,figsize=(4,1.5))\n",
    "sns.heatmap(data=heatmap_df, annot=heatmap_df, cmap=\"vlag\", center=0, ax=ax)\n",
    "fig.savefig(\"figures/celllines/heatmap_cNMF_TF_corr.png\", dpi=300, bbox_inches=\"tight\")"
   ]
  },
  {
   "cell_type": "code",
   "execution_count": null,
   "id": "4159114e-86a5-483d-b9e2-d05a0ddeb905",
   "metadata": {},
   "outputs": [],
   "source": [
    "corr_df = pd.concat([state_score[[\"cNMF_3\",\"cNMF_1\",\"cNMF_4\"]],\n",
    "           mTF_score],axis=1)\n",
    "\n",
    "heatmap_df = corr_df.corr().loc[[\"mTF_score\"],[\"cNMF_3\",\"cNMF_1\",\"cNMF_4\"]]"
   ]
  },
  {
   "cell_type": "code",
   "execution_count": null,
   "id": "5c999beb-cb18-4db0-b0fe-c4011e0acdba",
   "metadata": {},
   "outputs": [],
   "source": [
    "fig, ax = plt.subplots(1,1,figsize=(2,0.5))\n",
    "sns.heatmap(data=heatmap_df, annot=heatmap_df, cmap=\"vlag\", center=0, ax=ax)\n",
    "ax.set_yticklabels(ax.get_yticklabels(), rotation=0)\n",
    "ax.set_xticklabels([\"cNMF_3\",\"cNMF_1\",\"cNMF_4\"], rotation=45, ha=\"right\")\n",
    "fig.savefig(\"figures/celllines/heatmap_cNMF_mTFscore_corr.png\", dpi=300, bbox_inches=\"tight\")"
   ]
  },
  {
   "cell_type": "code",
   "execution_count": null,
   "id": "207ccf2f-d27c-4741-8c39-53e70340deec",
   "metadata": {},
   "outputs": [],
   "source": [
    "corr_df = pd.concat([state_score[[\"cNMF_3\",\"cNMF_1\",\"cNMF_4\"]],\n",
    "           red_mTF_score],axis=1)\n",
    "\n",
    "heatmap_df = corr_df.corr().loc[[\"red_mTF_score\"],[\"cNMF_3\",\"cNMF_1\",\"cNMF_4\"]]"
   ]
  },
  {
   "cell_type": "code",
   "execution_count": null,
   "id": "c4a3b132-ebf3-4c43-aaee-6e6e24c7b956",
   "metadata": {},
   "outputs": [],
   "source": [
    "fig, ax = plt.subplots(1,1,figsize=(2,0.5))\n",
    "sns.heatmap(data=heatmap_df, annot=heatmap_df, cmap=\"vlag\", center=0, ax=ax)\n",
    "ax.set_yticklabels(ax.get_yticklabels(), rotation=0)\n",
    "ax.set_xticklabels([\"cNMF_3\",\"cNMF_1\",\"cNMF_4\"], rotation=45, ha=\"right\")\n",
    "fig.savefig(\"figures/celllines/heatmap_cNMF_red_mTFscore_corr.png\", dpi=300, bbox_inches=\"tight\")"
   ]
  },
  {
   "cell_type": "code",
   "execution_count": null,
   "id": "5ca8c73c-465c-473b-a9b6-e77b5b48019f",
   "metadata": {},
   "outputs": [],
   "source": []
  }
 ],
 "metadata": {
  "kernelspec": {
   "display_name": "Python 3 (ipykernel)",
   "language": "python",
   "name": "python3"
  },
  "language_info": {
   "codemirror_mode": {
    "name": "ipython",
    "version": 3
   },
   "file_extension": ".py",
   "mimetype": "text/x-python",
   "name": "python",
   "nbconvert_exporter": "python",
   "pygments_lexer": "ipython3",
   "version": "3.9.16"
  }
 },
 "nbformat": 4,
 "nbformat_minor": 5
}
