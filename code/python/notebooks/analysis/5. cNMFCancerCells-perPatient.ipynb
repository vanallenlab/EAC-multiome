{
 "cells": [
  {
   "cell_type": "code",
   "execution_count": null,
   "id": "7825dd97",
   "metadata": {},
   "outputs": [],
   "source": [
    "import scanpy as sc\n",
    "import pandas as pd\n",
    "import numpy as np\n",
    "import seaborn as sns\n",
    "import matplotlib.pyplot as plt\n",
    "import signaturescoring as ssc"
   ]
  },
  {
   "cell_type": "code",
   "execution_count": null,
   "id": "129952e4",
   "metadata": {},
   "outputs": [],
   "source": [
    "import pathlib as pl"
   ]
  },
  {
   "cell_type": "code",
   "execution_count": null,
   "id": "8b693c3a",
   "metadata": {},
   "outputs": [],
   "source": [
    "from tqdm.notebook import tqdm"
   ]
  },
  {
   "cell_type": "code",
   "execution_count": null,
   "id": "b097225c",
   "metadata": {},
   "outputs": [],
   "source": [
    "import gseapy as gp"
   ]
  },
  {
   "cell_type": "code",
   "execution_count": null,
   "id": "beed71af",
   "metadata": {},
   "outputs": [],
   "source": [
    "import os"
   ]
  },
  {
   "cell_type": "code",
   "execution_count": null,
   "id": "3828f0cb",
   "metadata": {},
   "outputs": [],
   "source": [
    "adata = sc.read_h5ad(\"/add/path/here/full_cohort.h5ad\")\n",
    "\n",
    "refined_annotations = pd.read_csv(\"/add/path/here/refined_annotations.csv\", index_col=0)\n",
    "\n",
    "adata.obs[\"refined_annotation\"] = refined_annotations.loc[adata.obs_names,\"Annotation\"].ravel()"
   ]
  },
  {
   "cell_type": "code",
   "execution_count": null,
   "id": "f38d251b-b14f-4945-814d-ed0ddd5a54fc",
   "metadata": {},
   "outputs": [],
   "source": [
    "patient_id_mapping = {\"CCG1153_4496262\": \"P1\", \"CCG1153_6640539\": \"P2\", \n",
    "                      \"CCG1153_4411\": \"P3\", \"Aguirre_EGSFR0074\": \"P4\", \n",
    "                      \"Aguirre_EGSFR0148\": \"P5\", \"Aguirre_EGSFR1732\": \"P6\", \n",
    "                      \"Aguirre_EGSFR0128\": \"P7\", \"Aguirre_EGSFR1938\": \"P8\", \n",
    "                      \"Aguirre_EGSFR1982\": \"P9\", \"Aguirre_EGSFR2218\": \"P10\"}"
   ]
  },
  {
   "cell_type": "markdown",
   "id": "1633d2a0",
   "metadata": {},
   "source": [
    "# Save the adatas for cNMF"
   ]
  },
  {
   "cell_type": "code",
   "execution_count": null,
   "id": "cfb12795",
   "metadata": {},
   "outputs": [],
   "source": [
    "toremove = [f\"AC{i}\" for i in range(0,10)] + [f\"AL{i}\" for i in range(0,10)] + [\"LINC\"] + [\"MT-\"]"
   ]
  },
  {
   "cell_type": "code",
   "execution_count": null,
   "id": "da483450",
   "metadata": {},
   "outputs": [],
   "source": [
    "adata = adata[:,~adata.var_names.str.startswith(tuple(toremove))].copy()"
   ]
  },
  {
   "cell_type": "code",
   "execution_count": null,
   "id": "469ea5fc-675f-4f03-9308-194bc16d4062",
   "metadata": {},
   "outputs": [],
   "source": [
    "pd.Series(adata.var_names).to_csv(\"/add/path/here/eac_gene_names.csv\")"
   ]
  },
  {
   "cell_type": "code",
   "execution_count": null,
   "id": "a9fe7293",
   "metadata": {},
   "outputs": [],
   "source": [
    "subadata = adata[(adata.obs.refined_annotation==\"Carcinoma\") & (adata.obs.CNV_celltype_annotation==\"Tumor\")].copy()"
   ]
  },
  {
   "cell_type": "code",
   "execution_count": null,
   "id": "8e616b4a",
   "metadata": {},
   "outputs": [],
   "source": [
    "subadata.X = subadata.layers[\"counts\"].copy()"
   ]
  },
  {
   "cell_type": "code",
   "execution_count": null,
   "id": "81caed8f",
   "metadata": {},
   "outputs": [],
   "source": [
    "for sample in subadata.obs.sample_id.unique():\n",
    "    patadata = subadata[subadata.obs.sample_id==sample].copy()\n",
    "    patadata.write(f\"/add/path/here/{sample}_subadata_cNMF.h5ad\")"
   ]
  },
  {
   "cell_type": "markdown",
   "id": "1abd418f",
   "metadata": {},
   "source": [
    "# Per patient"
   ]
  },
  {
   "cell_type": "code",
   "execution_count": null,
   "id": "f3fb4ff2",
   "metadata": {},
   "outputs": [],
   "source": [
    "from cnmf import cNMF"
   ]
  },
  {
   "cell_type": "code",
   "execution_count": null,
   "id": "70246257",
   "metadata": {},
   "outputs": [],
   "source": [
    "subadata.obs.sample_id.unique()"
   ]
  },
  {
   "cell_type": "markdown",
   "id": "1cf8b37a",
   "metadata": {},
   "source": [
    "## Aguirre_EGSFR1982"
   ]
  },
  {
   "cell_type": "code",
   "execution_count": null,
   "id": "f2afb7ab",
   "metadata": {},
   "outputs": [],
   "source": [
    "sample = \"Aguirre_EGSFR1982\"\n",
    "\n",
    "sample_file = f\"/add/path/here/{sample}_subadata_cNMF.h5ad\"\n",
    "\n",
    "cnmf_obj = cNMF(output_dir=\"./cNMF_malignant_per_patient/\", name=sample)"
   ]
  },
  {
   "cell_type": "code",
   "execution_count": null,
   "id": "01d5cf42",
   "metadata": {},
   "outputs": [],
   "source": [
    "cnmf_obj.prepare(counts_fn=sample_file, components=np.arange(2,11),n_iter=20, seed=14, num_highvar_genes=2000)"
   ]
  },
  {
   "cell_type": "code",
   "execution_count": null,
   "id": "764b3cba",
   "metadata": {
    "scrolled": true
   },
   "outputs": [],
   "source": [
    "cnmf_obj.factorize(worker_i=0, total_workers=1)"
   ]
  },
  {
   "cell_type": "code",
   "execution_count": null,
   "id": "e9faf8fe",
   "metadata": {},
   "outputs": [],
   "source": [
    "cnmf_obj.combine()"
   ]
  },
  {
   "cell_type": "code",
   "execution_count": null,
   "id": "e692ff08",
   "metadata": {
    "scrolled": true
   },
   "outputs": [],
   "source": [
    "cnmf_obj.k_selection_plot(close_fig=False)"
   ]
  },
  {
   "cell_type": "code",
   "execution_count": null,
   "id": "1d05eda8",
   "metadata": {},
   "outputs": [],
   "source": [
    "selected_K = 7\n",
    "density_threshold = 0.1"
   ]
  },
  {
   "cell_type": "code",
   "execution_count": null,
   "id": "fcaa5f25",
   "metadata": {},
   "outputs": [],
   "source": [
    "cnmf_obj.consensus(k=selected_K, density_threshold=density_threshold, show_clustering=True, close_clustergram_fig=False)"
   ]
  },
  {
   "cell_type": "code",
   "execution_count": null,
   "id": "a7e29db4",
   "metadata": {},
   "outputs": [],
   "source": [
    "hvgs = open(f'./cNMF_malignant_per_patient/{sample}/{sample}.overdispersed_genes.txt').read().split('\\n')"
   ]
  },
  {
   "cell_type": "code",
   "execution_count": null,
   "id": "1116a33a",
   "metadata": {},
   "outputs": [],
   "source": [
    "patadata = sc.read_h5ad(sample_file)"
   ]
  },
  {
   "cell_type": "code",
   "execution_count": null,
   "id": "66779018",
   "metadata": {},
   "outputs": [],
   "source": [
    "sc.pp.normalize_total(patadata, target_sum=10000)\n",
    "sc.pp.log1p(patadata)"
   ]
  },
  {
   "cell_type": "code",
   "execution_count": null,
   "id": "ab1321c9",
   "metadata": {},
   "outputs": [],
   "source": [
    "patadata = patadata[:,hvgs].copy()"
   ]
  },
  {
   "cell_type": "code",
   "execution_count": null,
   "id": "30160fd7",
   "metadata": {
    "scrolled": true
   },
   "outputs": [],
   "source": [
    "sc.tl.pca(patadata)\n",
    "sc.pp.neighbors(patadata)\n",
    "sc.tl.umap(patadata)"
   ]
  },
  {
   "cell_type": "code",
   "execution_count": null,
   "id": "464b862a",
   "metadata": {},
   "outputs": [],
   "source": [
    "usage_norm, gep_scores, gep_tpm, topgenes = cnmf_obj.load_results(K=selected_K, density_threshold=density_threshold)\n",
    "usage_norm.columns = ['Usage_%d' % i for i in usage_norm.columns]"
   ]
  },
  {
   "cell_type": "code",
   "execution_count": null,
   "id": "08dbe5c6",
   "metadata": {},
   "outputs": [],
   "source": [
    "patadata.obs = pd.concat([patadata.obs, usage_norm],axis=1)"
   ]
  },
  {
   "cell_type": "code",
   "execution_count": null,
   "id": "aa9150f6",
   "metadata": {},
   "outputs": [],
   "source": [
    "sc.pl.umap(patadata, color=usage_norm.columns,\n",
    "           ncols=3, vmin=0, vmax=1)"
   ]
  },
  {
   "cell_type": "code",
   "execution_count": null,
   "id": "a1def9e7",
   "metadata": {},
   "outputs": [],
   "source": [
    "topgenes.head(20)"
   ]
  },
  {
   "cell_type": "code",
   "execution_count": null,
   "id": "2c8329d2",
   "metadata": {},
   "outputs": [],
   "source": [
    "patadata.obs[\"GEP\"] = usage_norm.idxmax(axis=1)"
   ]
  },
  {
   "cell_type": "code",
   "execution_count": null,
   "id": "a9aa3f20",
   "metadata": {},
   "outputs": [],
   "source": [
    "sc.pl.umap(patadata, color=\"GEP\",)"
   ]
  },
  {
   "cell_type": "markdown",
   "id": "8e1cf59b",
   "metadata": {},
   "source": [
    "## Aguirre_EGSFR2218"
   ]
  },
  {
   "cell_type": "code",
   "execution_count": null,
   "id": "847fb54d",
   "metadata": {},
   "outputs": [],
   "source": []
  },
  {
   "cell_type": "code",
   "execution_count": null,
   "id": "0b15f113",
   "metadata": {},
   "outputs": [],
   "source": [
    "sample = \"Aguirre_EGSFR2218\"\n",
    "\n",
    "sample_file = f\"/add/path/here/{sample}_subadata_cNMF.h5ad\"\n",
    "\n",
    "cnmf_obj = cNMF(output_dir=\"./cNMF_malignant_per_patient/\", name=sample)"
   ]
  },
  {
   "cell_type": "code",
   "execution_count": null,
   "id": "b14548c7",
   "metadata": {},
   "outputs": [],
   "source": [
    "cnmf_obj.prepare(counts_fn=sample_file, components=np.arange(2,11),n_iter=20, seed=14, num_highvar_genes=2000)"
   ]
  },
  {
   "cell_type": "code",
   "execution_count": null,
   "id": "b9f2eb36",
   "metadata": {
    "scrolled": true
   },
   "outputs": [],
   "source": [
    "cnmf_obj.factorize(worker_i=0, total_workers=1)"
   ]
  },
  {
   "cell_type": "code",
   "execution_count": null,
   "id": "8f867107",
   "metadata": {},
   "outputs": [],
   "source": [
    "cnmf_obj.combine()"
   ]
  },
  {
   "cell_type": "code",
   "execution_count": null,
   "id": "5ca9683b",
   "metadata": {},
   "outputs": [],
   "source": [
    "cnmf_obj.k_selection_plot(close_fig=False)"
   ]
  },
  {
   "cell_type": "code",
   "execution_count": null,
   "id": "331277f9",
   "metadata": {},
   "outputs": [],
   "source": [
    "selected_K = 3\n",
    "density_threshold = 0.1"
   ]
  },
  {
   "cell_type": "code",
   "execution_count": null,
   "id": "d09617fd",
   "metadata": {},
   "outputs": [],
   "source": [
    "cnmf_obj.consensus(k=selected_K, density_threshold=density_threshold, show_clustering=True, close_clustergram_fig=False)"
   ]
  },
  {
   "cell_type": "code",
   "execution_count": null,
   "id": "312de260",
   "metadata": {},
   "outputs": [],
   "source": [
    "hvgs = open(f'./cNMF_malignant_per_patient/{sample}/{sample}.overdispersed_genes.txt').read().split('\\n')"
   ]
  },
  {
   "cell_type": "code",
   "execution_count": null,
   "id": "51a20d3d",
   "metadata": {},
   "outputs": [],
   "source": [
    "patadata = sc.read_h5ad(sample_file)"
   ]
  },
  {
   "cell_type": "code",
   "execution_count": null,
   "id": "e2173d79",
   "metadata": {},
   "outputs": [],
   "source": [
    "sc.pp.normalize_total(patadata, target_sum=10000)\n",
    "sc.pp.log1p(patadata)"
   ]
  },
  {
   "cell_type": "code",
   "execution_count": null,
   "id": "276d5444",
   "metadata": {},
   "outputs": [],
   "source": [
    "patadata = patadata[:,hvgs].copy()"
   ]
  },
  {
   "cell_type": "code",
   "execution_count": null,
   "id": "4adf8fac",
   "metadata": {
    "scrolled": true
   },
   "outputs": [],
   "source": [
    "sc.tl.pca(patadata)\n",
    "sc.pp.neighbors(patadata)\n",
    "sc.tl.umap(patadata)"
   ]
  },
  {
   "cell_type": "code",
   "execution_count": null,
   "id": "3e6717ea",
   "metadata": {},
   "outputs": [],
   "source": [
    "usage_norm, gep_scores, gep_tpm, topgenes = cnmf_obj.load_results(K=selected_K, density_threshold=density_threshold)\n",
    "usage_norm.columns = ['Usage_%d' % i for i in usage_norm.columns]"
   ]
  },
  {
   "cell_type": "code",
   "execution_count": null,
   "id": "0c4e6577",
   "metadata": {},
   "outputs": [],
   "source": [
    "patadata.obs = pd.concat([patadata.obs, usage_norm],axis=1)"
   ]
  },
  {
   "cell_type": "code",
   "execution_count": null,
   "id": "5f8e3da1",
   "metadata": {},
   "outputs": [],
   "source": [
    "sc.pl.umap(patadata, color=usage_norm.columns,\n",
    "           ncols=3, vmin=0, vmax=1)"
   ]
  },
  {
   "cell_type": "code",
   "execution_count": null,
   "id": "8b6db605",
   "metadata": {},
   "outputs": [],
   "source": []
  },
  {
   "cell_type": "code",
   "execution_count": null,
   "id": "43bcb5e5",
   "metadata": {},
   "outputs": [],
   "source": [
    "topgenes.head(20)"
   ]
  },
  {
   "cell_type": "code",
   "execution_count": null,
   "id": "34d81c16-f6ec-495a-b069-1e814ff3eff1",
   "metadata": {},
   "outputs": [],
   "source": []
  },
  {
   "cell_type": "code",
   "execution_count": null,
   "id": "8f226daa",
   "metadata": {},
   "outputs": [],
   "source": [
    "patadata.obs[\"GEP\"] = usage_norm.idxmax(axis=1)"
   ]
  },
  {
   "cell_type": "code",
   "execution_count": null,
   "id": "ec6d92b5",
   "metadata": {
    "scrolled": true
   },
   "outputs": [],
   "source": [
    "sc.pl.umap(patadata, color=\"GEP\",)"
   ]
  },
  {
   "cell_type": "markdown",
   "id": "38621ed1",
   "metadata": {},
   "source": [
    "## CCG1153_4411"
   ]
  },
  {
   "cell_type": "code",
   "execution_count": null,
   "id": "cd1b1bd0",
   "metadata": {},
   "outputs": [],
   "source": []
  },
  {
   "cell_type": "code",
   "execution_count": null,
   "id": "35d9aefb",
   "metadata": {},
   "outputs": [],
   "source": [
    "sample = \"CCG1153_4411\"\n",
    "\n",
    "sample_file = f\"/add/path/here/{sample}_subadata_cNMF.h5ad\"\n",
    "\n",
    "cnmf_obj = cNMF(output_dir=\"./cNMF_malignant_per_patient/\", name=sample)"
   ]
  },
  {
   "cell_type": "code",
   "execution_count": null,
   "id": "57dad678",
   "metadata": {},
   "outputs": [],
   "source": [
    "cnmf_obj.prepare(counts_fn=sample_file, components=np.arange(2,11),n_iter=20, seed=14, num_highvar_genes=2000)"
   ]
  },
  {
   "cell_type": "code",
   "execution_count": null,
   "id": "b81d509d",
   "metadata": {
    "scrolled": true
   },
   "outputs": [],
   "source": [
    "cnmf_obj.factorize(worker_i=0, total_workers=1)"
   ]
  },
  {
   "cell_type": "code",
   "execution_count": null,
   "id": "a24319d9",
   "metadata": {},
   "outputs": [],
   "source": [
    "cnmf_obj.combine()"
   ]
  },
  {
   "cell_type": "code",
   "execution_count": null,
   "id": "7dc4b108",
   "metadata": {},
   "outputs": [],
   "source": [
    "cnmf_obj.k_selection_plot(close_fig=False)"
   ]
  },
  {
   "cell_type": "code",
   "execution_count": null,
   "id": "2df806e9",
   "metadata": {},
   "outputs": [],
   "source": [
    "selected_K = 7\n",
    "density_threshold = 0.1"
   ]
  },
  {
   "cell_type": "code",
   "execution_count": null,
   "id": "04aa435c",
   "metadata": {},
   "outputs": [],
   "source": [
    "cnmf_obj.consensus(k=selected_K, density_threshold=density_threshold, show_clustering=True, close_clustergram_fig=False)"
   ]
  },
  {
   "cell_type": "code",
   "execution_count": null,
   "id": "4b53402a",
   "metadata": {},
   "outputs": [],
   "source": [
    "hvgs = open(f'./cNMF_malignant_per_patient/{sample}/{sample}.overdispersed_genes.txt').read().split('\\n')"
   ]
  },
  {
   "cell_type": "code",
   "execution_count": null,
   "id": "593adf0a",
   "metadata": {},
   "outputs": [],
   "source": [
    "patadata = sc.read_h5ad(sample_file)"
   ]
  },
  {
   "cell_type": "code",
   "execution_count": null,
   "id": "2e1e3365",
   "metadata": {},
   "outputs": [],
   "source": [
    "sc.pp.normalize_total(patadata, target_sum=10000)\n",
    "sc.pp.log1p(patadata)"
   ]
  },
  {
   "cell_type": "code",
   "execution_count": null,
   "id": "0e60eeb5",
   "metadata": {},
   "outputs": [],
   "source": [
    "patadata = patadata[:,hvgs].copy()"
   ]
  },
  {
   "cell_type": "code",
   "execution_count": null,
   "id": "7732af46",
   "metadata": {
    "scrolled": true
   },
   "outputs": [],
   "source": [
    "sc.tl.pca(patadata)\n",
    "sc.pp.neighbors(patadata)\n",
    "sc.tl.umap(patadata)"
   ]
  },
  {
   "cell_type": "code",
   "execution_count": null,
   "id": "890d8d89",
   "metadata": {},
   "outputs": [],
   "source": [
    "usage_norm, gep_scores, gep_tpm, topgenes = cnmf_obj.load_results(K=selected_K, density_threshold=density_threshold)\n",
    "usage_norm.columns = ['Usage_%d' % i for i in usage_norm.columns]"
   ]
  },
  {
   "cell_type": "code",
   "execution_count": null,
   "id": "cd12c3d1",
   "metadata": {},
   "outputs": [],
   "source": [
    "patadata.obs = pd.concat([patadata.obs, usage_norm],axis=1)"
   ]
  },
  {
   "cell_type": "code",
   "execution_count": null,
   "id": "74e28308",
   "metadata": {},
   "outputs": [],
   "source": [
    "sc.pl.umap(patadata, color=usage_norm.columns,\n",
    "           ncols=3, vmin=0, vmax=1)"
   ]
  },
  {
   "cell_type": "code",
   "execution_count": null,
   "id": "77fe65c6",
   "metadata": {},
   "outputs": [],
   "source": [
    "topgenes.head(20)"
   ]
  },
  {
   "cell_type": "code",
   "execution_count": null,
   "id": "8123fcd9-c971-4503-bb5f-91d19c4b1ddb",
   "metadata": {},
   "outputs": [],
   "source": []
  },
  {
   "cell_type": "code",
   "execution_count": null,
   "id": "a8e3b538",
   "metadata": {},
   "outputs": [],
   "source": [
    "patadata.obs[\"GEP\"] = usage_norm.idxmax(axis=1)"
   ]
  },
  {
   "cell_type": "code",
   "execution_count": null,
   "id": "7d6f1dc9",
   "metadata": {
    "scrolled": true
   },
   "outputs": [],
   "source": [
    "sc.pl.umap(patadata, color=\"GEP\",)"
   ]
  },
  {
   "cell_type": "markdown",
   "id": "ed817725",
   "metadata": {},
   "source": [
    "## Aguirre_EGSFR1938"
   ]
  },
  {
   "cell_type": "code",
   "execution_count": null,
   "id": "c03e5e46",
   "metadata": {},
   "outputs": [],
   "source": []
  },
  {
   "cell_type": "code",
   "execution_count": null,
   "id": "71d432f1",
   "metadata": {},
   "outputs": [],
   "source": [
    "sample = \"Aguirre_EGSFR1938\"\n",
    "\n",
    "sample_file = f\"/add/path/here/{sample}_subadata_cNMF.h5ad\"\n",
    "\n",
    "cnmf_obj = cNMF(output_dir=\"./cNMF_malignant_per_patient/\", name=sample)"
   ]
  },
  {
   "cell_type": "code",
   "execution_count": null,
   "id": "410a6ca9",
   "metadata": {},
   "outputs": [],
   "source": [
    "cnmf_obj.prepare(counts_fn=sample_file, components=np.arange(2,11),n_iter=20, seed=14, num_highvar_genes=2000)"
   ]
  },
  {
   "cell_type": "code",
   "execution_count": null,
   "id": "a04c6b0e",
   "metadata": {
    "scrolled": true
   },
   "outputs": [],
   "source": [
    "cnmf_obj.factorize(worker_i=0, total_workers=1)"
   ]
  },
  {
   "cell_type": "code",
   "execution_count": null,
   "id": "e89e88cb",
   "metadata": {},
   "outputs": [],
   "source": [
    "cnmf_obj.combine()"
   ]
  },
  {
   "cell_type": "code",
   "execution_count": null,
   "id": "370eb8d1",
   "metadata": {},
   "outputs": [],
   "source": [
    "cnmf_obj.k_selection_plot(close_fig=False)"
   ]
  },
  {
   "cell_type": "code",
   "execution_count": null,
   "id": "27828e55",
   "metadata": {},
   "outputs": [],
   "source": [
    "selected_K = 5\n",
    "density_threshold = 0.1"
   ]
  },
  {
   "cell_type": "code",
   "execution_count": null,
   "id": "6c11f89c",
   "metadata": {},
   "outputs": [],
   "source": [
    "cnmf_obj.consensus(k=selected_K, density_threshold=density_threshold, show_clustering=True, close_clustergram_fig=False)"
   ]
  },
  {
   "cell_type": "code",
   "execution_count": null,
   "id": "c4b21016",
   "metadata": {},
   "outputs": [],
   "source": [
    "hvgs = open(f'./cNMF_malignant_per_patient/{sample}/{sample}.overdispersed_genes.txt').read().split('\\n')"
   ]
  },
  {
   "cell_type": "code",
   "execution_count": null,
   "id": "95a6ffb0",
   "metadata": {},
   "outputs": [],
   "source": [
    "patadata = sc.read_h5ad(sample_file)"
   ]
  },
  {
   "cell_type": "code",
   "execution_count": null,
   "id": "dde26104",
   "metadata": {},
   "outputs": [],
   "source": [
    "sc.pp.normalize_total(patadata, target_sum=10000)\n",
    "sc.pp.log1p(patadata)"
   ]
  },
  {
   "cell_type": "code",
   "execution_count": null,
   "id": "76521186",
   "metadata": {},
   "outputs": [],
   "source": [
    "patadata = patadata[:,hvgs].copy()"
   ]
  },
  {
   "cell_type": "code",
   "execution_count": null,
   "id": "32289192",
   "metadata": {
    "scrolled": true
   },
   "outputs": [],
   "source": [
    "sc.tl.pca(patadata)\n",
    "sc.pp.neighbors(patadata)\n",
    "sc.tl.umap(patadata)"
   ]
  },
  {
   "cell_type": "code",
   "execution_count": null,
   "id": "f7bf653f",
   "metadata": {},
   "outputs": [],
   "source": [
    "usage_norm, gep_scores, gep_tpm, topgenes = cnmf_obj.load_results(K=selected_K, density_threshold=density_threshold)\n",
    "usage_norm.columns = ['Usage_%d' % i for i in usage_norm.columns]"
   ]
  },
  {
   "cell_type": "code",
   "execution_count": null,
   "id": "c1f89605",
   "metadata": {},
   "outputs": [],
   "source": [
    "patadata.obs = pd.concat([patadata.obs, usage_norm],axis=1)"
   ]
  },
  {
   "cell_type": "code",
   "execution_count": null,
   "id": "e6cbf85f",
   "metadata": {},
   "outputs": [],
   "source": [
    "sc.pl.umap(patadata, color=usage_norm.columns,\n",
    "           ncols=3, vmin=0, vmax=1)"
   ]
  },
  {
   "cell_type": "code",
   "execution_count": null,
   "id": "3c408e4a",
   "metadata": {},
   "outputs": [],
   "source": []
  },
  {
   "cell_type": "code",
   "execution_count": null,
   "id": "0107ace5",
   "metadata": {},
   "outputs": [],
   "source": [
    "topgenes.head(20)"
   ]
  },
  {
   "cell_type": "code",
   "execution_count": null,
   "id": "720b6bc3-4b13-4162-aea9-02c569235745",
   "metadata": {},
   "outputs": [],
   "source": []
  },
  {
   "cell_type": "code",
   "execution_count": null,
   "id": "1c3b0b6f",
   "metadata": {},
   "outputs": [],
   "source": [
    "patadata.obs[\"GEP\"] = usage_norm.idxmax(axis=1)"
   ]
  },
  {
   "cell_type": "code",
   "execution_count": null,
   "id": "6358f3fb",
   "metadata": {
    "scrolled": true
   },
   "outputs": [],
   "source": [
    "sc.pl.umap(patadata, color=\"GEP\",)"
   ]
  },
  {
   "cell_type": "markdown",
   "id": "03ca7a94",
   "metadata": {},
   "source": [
    "## Aguirre_EGSFR0074"
   ]
  },
  {
   "cell_type": "code",
   "execution_count": null,
   "id": "941044d9",
   "metadata": {},
   "outputs": [],
   "source": []
  },
  {
   "cell_type": "code",
   "execution_count": null,
   "id": "06d0a026",
   "metadata": {},
   "outputs": [],
   "source": [
    "sample = \"Aguirre_EGSFR0074\"\n",
    "\n",
    "sample_file = f\"/add/path/here/{sample}_subadata_cNMF.h5ad\"\n",
    "\n",
    "cnmf_obj = cNMF(output_dir=\"./cNMF_malignant_per_patient/\", name=sample)"
   ]
  },
  {
   "cell_type": "code",
   "execution_count": null,
   "id": "6352b834",
   "metadata": {},
   "outputs": [],
   "source": [
    "cnmf_obj.prepare(counts_fn=sample_file, components=np.arange(2,11),n_iter=20, seed=14, num_highvar_genes=2000)"
   ]
  },
  {
   "cell_type": "code",
   "execution_count": null,
   "id": "3aa65226",
   "metadata": {
    "scrolled": true
   },
   "outputs": [],
   "source": [
    "cnmf_obj.factorize(worker_i=0, total_workers=1)"
   ]
  },
  {
   "cell_type": "code",
   "execution_count": null,
   "id": "54cde880",
   "metadata": {},
   "outputs": [],
   "source": [
    "cnmf_obj.combine()"
   ]
  },
  {
   "cell_type": "code",
   "execution_count": null,
   "id": "a7fd2f3e",
   "metadata": {
    "scrolled": true
   },
   "outputs": [],
   "source": [
    "cnmf_obj.k_selection_plot(close_fig=False)"
   ]
  },
  {
   "cell_type": "code",
   "execution_count": null,
   "id": "483b3bf6",
   "metadata": {},
   "outputs": [],
   "source": [
    "selected_K = 7\n",
    "density_threshold = 0.1"
   ]
  },
  {
   "cell_type": "code",
   "execution_count": null,
   "id": "4519b5dc",
   "metadata": {},
   "outputs": [],
   "source": [
    "cnmf_obj.consensus(k=selected_K, density_threshold=density_threshold, show_clustering=True, close_clustergram_fig=False)"
   ]
  },
  {
   "cell_type": "code",
   "execution_count": null,
   "id": "2995e4e3",
   "metadata": {},
   "outputs": [],
   "source": [
    "hvgs = open(f'./cNMF_malignant_per_patient/{sample}/{sample}.overdispersed_genes.txt').read().split('\\n')"
   ]
  },
  {
   "cell_type": "code",
   "execution_count": null,
   "id": "88e6b47a",
   "metadata": {},
   "outputs": [],
   "source": [
    "patadata = sc.read_h5ad(sample_file)"
   ]
  },
  {
   "cell_type": "code",
   "execution_count": null,
   "id": "36d9f474",
   "metadata": {},
   "outputs": [],
   "source": [
    "sc.pp.normalize_total(patadata, target_sum=10000)\n",
    "sc.pp.log1p(patadata)"
   ]
  },
  {
   "cell_type": "code",
   "execution_count": null,
   "id": "47174c5a",
   "metadata": {},
   "outputs": [],
   "source": [
    "patadata = patadata[:,hvgs].copy()"
   ]
  },
  {
   "cell_type": "code",
   "execution_count": null,
   "id": "8dbe59f7",
   "metadata": {
    "scrolled": true
   },
   "outputs": [],
   "source": [
    "sc.tl.pca(patadata)\n",
    "sc.pp.neighbors(patadata)\n",
    "sc.tl.umap(patadata)"
   ]
  },
  {
   "cell_type": "code",
   "execution_count": null,
   "id": "4a6ae44d",
   "metadata": {},
   "outputs": [],
   "source": [
    "usage_norm, gep_scores, gep_tpm, topgenes = cnmf_obj.load_results(K=selected_K, density_threshold=density_threshold)\n",
    "usage_norm.columns = ['Usage_%d' % i for i in usage_norm.columns]"
   ]
  },
  {
   "cell_type": "code",
   "execution_count": null,
   "id": "3e6be236",
   "metadata": {},
   "outputs": [],
   "source": [
    "patadata.obs = pd.concat([patadata.obs, usage_norm],axis=1)"
   ]
  },
  {
   "cell_type": "code",
   "execution_count": null,
   "id": "b10589d3",
   "metadata": {},
   "outputs": [],
   "source": [
    "sc.pl.umap(patadata, color=usage_norm.columns,\n",
    "           ncols=3, vmin=0, vmax=1)"
   ]
  },
  {
   "cell_type": "code",
   "execution_count": null,
   "id": "b07f7d46",
   "metadata": {},
   "outputs": [],
   "source": []
  },
  {
   "cell_type": "code",
   "execution_count": null,
   "id": "a441c006",
   "metadata": {},
   "outputs": [],
   "source": [
    "topgenes.head(20)"
   ]
  },
  {
   "cell_type": "code",
   "execution_count": null,
   "id": "1c0e1f84-e29e-4bbf-8f27-2dc4579641b4",
   "metadata": {},
   "outputs": [],
   "source": []
  },
  {
   "cell_type": "code",
   "execution_count": null,
   "id": "0c0840dc",
   "metadata": {},
   "outputs": [],
   "source": [
    "patadata.obs[\"GEP\"] = usage_norm.idxmax(axis=1)"
   ]
  },
  {
   "cell_type": "code",
   "execution_count": null,
   "id": "229b98d7",
   "metadata": {
    "scrolled": true
   },
   "outputs": [],
   "source": [
    "sc.pl.umap(patadata, color=\"GEP\",)"
   ]
  },
  {
   "cell_type": "markdown",
   "id": "7fc064a3",
   "metadata": {},
   "source": [
    "## Aguirre_EGSFR0128"
   ]
  },
  {
   "cell_type": "code",
   "execution_count": null,
   "id": "974558dc",
   "metadata": {},
   "outputs": [],
   "source": []
  },
  {
   "cell_type": "code",
   "execution_count": null,
   "id": "2c11f396",
   "metadata": {},
   "outputs": [],
   "source": [
    "sample = \"Aguirre_EGSFR0128\"\n",
    "\n",
    "sample_file = f\"/add/path/here/{sample}_subadata_cNMF.h5ad\"\n",
    "\n",
    "cnmf_obj = cNMF(output_dir=\"./cNMF_malignant_per_patient/\", name=sample)"
   ]
  },
  {
   "cell_type": "code",
   "execution_count": null,
   "id": "7212619d",
   "metadata": {},
   "outputs": [],
   "source": [
    "cnmf_obj.prepare(counts_fn=sample_file, components=np.arange(2,11),n_iter=20, seed=14, num_highvar_genes=2000)"
   ]
  },
  {
   "cell_type": "code",
   "execution_count": null,
   "id": "faceb3f2",
   "metadata": {
    "scrolled": true
   },
   "outputs": [],
   "source": [
    "cnmf_obj.factorize(worker_i=0, total_workers=1)"
   ]
  },
  {
   "cell_type": "code",
   "execution_count": null,
   "id": "767ed766",
   "metadata": {},
   "outputs": [],
   "source": [
    "cnmf_obj.combine()"
   ]
  },
  {
   "cell_type": "code",
   "execution_count": null,
   "id": "84ae1f67",
   "metadata": {},
   "outputs": [],
   "source": [
    "cnmf_obj.k_selection_plot(close_fig=False)"
   ]
  },
  {
   "cell_type": "code",
   "execution_count": null,
   "id": "dbba3d7f",
   "metadata": {},
   "outputs": [],
   "source": [
    "selected_K = 4\n",
    "density_threshold = 0.1"
   ]
  },
  {
   "cell_type": "code",
   "execution_count": null,
   "id": "4754c207",
   "metadata": {},
   "outputs": [],
   "source": [
    "cnmf_obj.consensus(k=selected_K, density_threshold=density_threshold, show_clustering=True, close_clustergram_fig=False)"
   ]
  },
  {
   "cell_type": "code",
   "execution_count": null,
   "id": "27b16482",
   "metadata": {},
   "outputs": [],
   "source": [
    "hvgs = open(f'./cNMF_malignant_per_patient/{sample}/{sample}.overdispersed_genes.txt').read().split('\\n')"
   ]
  },
  {
   "cell_type": "code",
   "execution_count": null,
   "id": "16c4df83",
   "metadata": {},
   "outputs": [],
   "source": [
    "patadata = sc.read_h5ad(sample_file)"
   ]
  },
  {
   "cell_type": "code",
   "execution_count": null,
   "id": "33d777e9",
   "metadata": {},
   "outputs": [],
   "source": [
    "sc.pp.normalize_total(patadata, target_sum=10000)\n",
    "sc.pp.log1p(patadata)"
   ]
  },
  {
   "cell_type": "code",
   "execution_count": null,
   "id": "46396ca7",
   "metadata": {},
   "outputs": [],
   "source": [
    "patadata = patadata[:,hvgs].copy()"
   ]
  },
  {
   "cell_type": "code",
   "execution_count": null,
   "id": "a8abf606",
   "metadata": {
    "scrolled": true
   },
   "outputs": [],
   "source": [
    "sc.tl.pca(patadata)\n",
    "sc.pp.neighbors(patadata)\n",
    "sc.tl.umap(patadata)"
   ]
  },
  {
   "cell_type": "code",
   "execution_count": null,
   "id": "fbce37fc",
   "metadata": {},
   "outputs": [],
   "source": [
    "usage_norm, gep_scores, gep_tpm, topgenes = cnmf_obj.load_results(K=selected_K, density_threshold=density_threshold)\n",
    "usage_norm.columns = ['Usage_%d' % i for i in usage_norm.columns]"
   ]
  },
  {
   "cell_type": "code",
   "execution_count": null,
   "id": "9a7703a3",
   "metadata": {},
   "outputs": [],
   "source": [
    "patadata.obs = pd.concat([patadata.obs, usage_norm],axis=1)"
   ]
  },
  {
   "cell_type": "code",
   "execution_count": null,
   "id": "b18a8ecf",
   "metadata": {},
   "outputs": [],
   "source": [
    "sc.pl.umap(patadata, color=usage_norm.columns,\n",
    "           ncols=3, vmin=0, vmax=1)"
   ]
  },
  {
   "cell_type": "code",
   "execution_count": null,
   "id": "711599e6",
   "metadata": {},
   "outputs": [],
   "source": []
  },
  {
   "cell_type": "code",
   "execution_count": null,
   "id": "c733164a",
   "metadata": {},
   "outputs": [],
   "source": [
    "topgenes.head(20)"
   ]
  },
  {
   "cell_type": "code",
   "execution_count": null,
   "id": "3a551b26",
   "metadata": {},
   "outputs": [],
   "source": [
    "patadata.obs[\"GEP\"] = usage_norm.idxmax(axis=1)"
   ]
  },
  {
   "cell_type": "code",
   "execution_count": null,
   "id": "58f7783e",
   "metadata": {
    "scrolled": true
   },
   "outputs": [],
   "source": [
    "sc.pl.umap(patadata, color=\"GEP\",)"
   ]
  },
  {
   "cell_type": "code",
   "execution_count": null,
   "id": "ac1bd5ef",
   "metadata": {},
   "outputs": [],
   "source": []
  },
  {
   "cell_type": "markdown",
   "id": "b3eb79ed",
   "metadata": {},
   "source": [
    "## Aguirre_EGSFR1732"
   ]
  },
  {
   "cell_type": "code",
   "execution_count": null,
   "id": "f51577d1",
   "metadata": {},
   "outputs": [],
   "source": [
    "sample = \"Aguirre_EGSFR1732\"\n",
    "\n",
    "sample_file = f\"/add/path/here/{sample}_subadata_cNMF.h5ad\"\n",
    "\n",
    "cnmf_obj = cNMF(output_dir=\"./cNMF_malignant_per_patient/\", name=sample)"
   ]
  },
  {
   "cell_type": "code",
   "execution_count": null,
   "id": "b3b3423d",
   "metadata": {},
   "outputs": [],
   "source": [
    "cnmf_obj.prepare(counts_fn=sample_file, components=np.arange(2,11),n_iter=20, seed=14, num_highvar_genes=2000)"
   ]
  },
  {
   "cell_type": "code",
   "execution_count": null,
   "id": "7d4272a0",
   "metadata": {
    "scrolled": true
   },
   "outputs": [],
   "source": [
    "cnmf_obj.factorize(worker_i=0, total_workers=1)"
   ]
  },
  {
   "cell_type": "code",
   "execution_count": null,
   "id": "f3df9819",
   "metadata": {},
   "outputs": [],
   "source": [
    "cnmf_obj.combine()"
   ]
  },
  {
   "cell_type": "code",
   "execution_count": null,
   "id": "98214a8f",
   "metadata": {},
   "outputs": [],
   "source": [
    "cnmf_obj.k_selection_plot(close_fig=False)"
   ]
  },
  {
   "cell_type": "code",
   "execution_count": null,
   "id": "776de59c",
   "metadata": {},
   "outputs": [],
   "source": [
    "selected_K = 4\n",
    "density_threshold = 0.1"
   ]
  },
  {
   "cell_type": "code",
   "execution_count": null,
   "id": "b36c7823",
   "metadata": {},
   "outputs": [],
   "source": [
    "cnmf_obj.consensus(k=selected_K, density_threshold=density_threshold, show_clustering=True, close_clustergram_fig=False)"
   ]
  },
  {
   "cell_type": "code",
   "execution_count": null,
   "id": "860e35dd",
   "metadata": {},
   "outputs": [],
   "source": [
    "hvgs = open(f'./cNMF_malignant_per_patient/{sample}/{sample}.overdispersed_genes.txt').read().split('\\n')"
   ]
  },
  {
   "cell_type": "code",
   "execution_count": null,
   "id": "45a8bc18",
   "metadata": {},
   "outputs": [],
   "source": [
    "patadata = sc.read_h5ad(sample_file)"
   ]
  },
  {
   "cell_type": "code",
   "execution_count": null,
   "id": "1ed49edf",
   "metadata": {},
   "outputs": [],
   "source": [
    "sc.pp.normalize_total(patadata, target_sum=10000)\n",
    "sc.pp.log1p(patadata)"
   ]
  },
  {
   "cell_type": "code",
   "execution_count": null,
   "id": "f0a11822",
   "metadata": {},
   "outputs": [],
   "source": [
    "patadata = patadata[:,hvgs].copy()"
   ]
  },
  {
   "cell_type": "code",
   "execution_count": null,
   "id": "3e5c9389",
   "metadata": {
    "scrolled": true
   },
   "outputs": [],
   "source": [
    "sc.tl.pca(patadata)\n",
    "sc.pp.neighbors(patadata)\n",
    "sc.tl.umap(patadata)"
   ]
  },
  {
   "cell_type": "code",
   "execution_count": null,
   "id": "567fc93b",
   "metadata": {},
   "outputs": [],
   "source": [
    "usage_norm, gep_scores, gep_tpm, topgenes = cnmf_obj.load_results(K=selected_K, density_threshold=density_threshold)\n",
    "usage_norm.columns = ['Usage_%d' % i for i in usage_norm.columns]"
   ]
  },
  {
   "cell_type": "code",
   "execution_count": null,
   "id": "dfe7af60",
   "metadata": {},
   "outputs": [],
   "source": [
    "patadata.obs = pd.concat([patadata.obs, usage_norm],axis=1)"
   ]
  },
  {
   "cell_type": "code",
   "execution_count": null,
   "id": "ee2702f4",
   "metadata": {},
   "outputs": [],
   "source": [
    "sc.pl.umap(patadata, color=usage_norm.columns,\n",
    "           ncols=3, vmin=0, vmax=1)"
   ]
  },
  {
   "cell_type": "code",
   "execution_count": null,
   "id": "500cce15",
   "metadata": {},
   "outputs": [],
   "source": []
  },
  {
   "cell_type": "code",
   "execution_count": null,
   "id": "70203f1a",
   "metadata": {},
   "outputs": [],
   "source": [
    "topgenes.head(20)"
   ]
  },
  {
   "cell_type": "code",
   "execution_count": null,
   "id": "3efc06a4-f383-4cee-bd70-cbfb056b979a",
   "metadata": {},
   "outputs": [],
   "source": []
  },
  {
   "cell_type": "code",
   "execution_count": null,
   "id": "72547080",
   "metadata": {},
   "outputs": [],
   "source": [
    "patadata.obs[\"GEP\"] = usage_norm.idxmax(axis=1)"
   ]
  },
  {
   "cell_type": "code",
   "execution_count": null,
   "id": "e2498918",
   "metadata": {
    "scrolled": true
   },
   "outputs": [],
   "source": [
    "sc.pl.umap(patadata, color=\"GEP\",)"
   ]
  },
  {
   "cell_type": "code",
   "execution_count": null,
   "id": "a832b96e",
   "metadata": {},
   "outputs": [],
   "source": []
  },
  {
   "cell_type": "markdown",
   "id": "b06dbc99",
   "metadata": {},
   "source": [
    "## Aguirre_EGSFR0148"
   ]
  },
  {
   "cell_type": "code",
   "execution_count": null,
   "id": "4a362273",
   "metadata": {},
   "outputs": [],
   "source": [
    "sample = \"Aguirre_EGSFR0148\"\n",
    "\n",
    "sample_file = f\"/add/path/here/{sample}_subadata_cNMF.h5ad\"\n",
    "\n",
    "cnmf_obj = cNMF(output_dir=\"./cNMF_malignant_per_patient/\", name=sample)"
   ]
  },
  {
   "cell_type": "code",
   "execution_count": null,
   "id": "2d48fc13",
   "metadata": {},
   "outputs": [],
   "source": [
    "cnmf_obj.prepare(counts_fn=sample_file, components=np.arange(2,11),n_iter=20, seed=14, num_highvar_genes=2000)"
   ]
  },
  {
   "cell_type": "code",
   "execution_count": null,
   "id": "8c72977a",
   "metadata": {
    "scrolled": true
   },
   "outputs": [],
   "source": [
    "cnmf_obj.factorize(worker_i=0, total_workers=1)"
   ]
  },
  {
   "cell_type": "code",
   "execution_count": null,
   "id": "ca145913",
   "metadata": {},
   "outputs": [],
   "source": [
    "cnmf_obj.combine()"
   ]
  },
  {
   "cell_type": "code",
   "execution_count": null,
   "id": "1f00b0f4",
   "metadata": {},
   "outputs": [],
   "source": [
    "cnmf_obj.k_selection_plot(close_fig=False)"
   ]
  },
  {
   "cell_type": "code",
   "execution_count": null,
   "id": "e233dc31",
   "metadata": {},
   "outputs": [],
   "source": [
    "selected_K = 4\n",
    "density_threshold = 0.1"
   ]
  },
  {
   "cell_type": "code",
   "execution_count": null,
   "id": "17d75aab",
   "metadata": {},
   "outputs": [],
   "source": [
    "cnmf_obj.consensus(k=selected_K, density_threshold=density_threshold, show_clustering=True, close_clustergram_fig=False)"
   ]
  },
  {
   "cell_type": "code",
   "execution_count": null,
   "id": "b2936905",
   "metadata": {},
   "outputs": [],
   "source": [
    "hvgs = open(f'./cNMF_malignant_per_patient/{sample}/{sample}.overdispersed_genes.txt').read().split('\\n')"
   ]
  },
  {
   "cell_type": "code",
   "execution_count": null,
   "id": "2096e19e",
   "metadata": {},
   "outputs": [],
   "source": [
    "patadata = sc.read_h5ad(sample_file)"
   ]
  },
  {
   "cell_type": "code",
   "execution_count": null,
   "id": "41a164aa",
   "metadata": {},
   "outputs": [],
   "source": [
    "sc.pp.normalize_total(patadata, target_sum=10000)\n",
    "sc.pp.log1p(patadata)"
   ]
  },
  {
   "cell_type": "code",
   "execution_count": null,
   "id": "357a89f6",
   "metadata": {},
   "outputs": [],
   "source": [
    "patadata = patadata[:,hvgs].copy()"
   ]
  },
  {
   "cell_type": "code",
   "execution_count": null,
   "id": "ed505caa",
   "metadata": {
    "scrolled": true
   },
   "outputs": [],
   "source": [
    "sc.tl.pca(patadata)\n",
    "sc.pp.neighbors(patadata)\n",
    "sc.tl.umap(patadata)"
   ]
  },
  {
   "cell_type": "code",
   "execution_count": null,
   "id": "3819ea1a",
   "metadata": {},
   "outputs": [],
   "source": [
    "usage_norm, gep_scores, gep_tpm, topgenes = cnmf_obj.load_results(K=selected_K, density_threshold=density_threshold)\n",
    "usage_norm.columns = ['Usage_%d' % i for i in usage_norm.columns]"
   ]
  },
  {
   "cell_type": "code",
   "execution_count": null,
   "id": "830ff0a0",
   "metadata": {},
   "outputs": [],
   "source": [
    "patadata.obs = pd.concat([patadata.obs, usage_norm],axis=1)"
   ]
  },
  {
   "cell_type": "code",
   "execution_count": null,
   "id": "6410d300",
   "metadata": {},
   "outputs": [],
   "source": [
    "sc.pl.umap(patadata, color=usage_norm.columns,\n",
    "           ncols=3, vmin=0, vmax=1)"
   ]
  },
  {
   "cell_type": "code",
   "execution_count": null,
   "id": "f392bf64",
   "metadata": {},
   "outputs": [],
   "source": []
  },
  {
   "cell_type": "code",
   "execution_count": null,
   "id": "69b6f185",
   "metadata": {},
   "outputs": [],
   "source": [
    "topgenes.head(20)"
   ]
  },
  {
   "cell_type": "code",
   "execution_count": null,
   "id": "33b0efe5-46a3-4866-816f-0bc2bd13353c",
   "metadata": {},
   "outputs": [],
   "source": []
  },
  {
   "cell_type": "code",
   "execution_count": null,
   "id": "c09f1ca7",
   "metadata": {},
   "outputs": [],
   "source": [
    "patadata.obs[\"GEP\"] = usage_norm.idxmax(axis=1)"
   ]
  },
  {
   "cell_type": "code",
   "execution_count": null,
   "id": "5f1311d3",
   "metadata": {
    "scrolled": true
   },
   "outputs": [],
   "source": [
    "sc.pl.umap(patadata, color=\"GEP\",)"
   ]
  },
  {
   "cell_type": "markdown",
   "id": "646cf6c5",
   "metadata": {},
   "source": [
    "# Aggregate programs"
   ]
  },
  {
   "cell_type": "code",
   "execution_count": null,
   "id": "c9f16f56",
   "metadata": {},
   "outputs": [],
   "source": []
  },
  {
   "cell_type": "code",
   "execution_count": null,
   "id": "cb44388c",
   "metadata": {},
   "outputs": [],
   "source": [
    "import seaborn as sns \n",
    "from sklearn.metrics.pairwise import cosine_similarity, pairwise_distances, euclidean_distances"
   ]
  },
  {
   "cell_type": "code",
   "execution_count": null,
   "id": "15fe0f45",
   "metadata": {},
   "outputs": [],
   "source": [
    "import scipy"
   ]
  },
  {
   "cell_type": "code",
   "execution_count": null,
   "id": "f44a1f7b-ccef-4028-9bb1-4298c062eb74",
   "metadata": {},
   "outputs": [],
   "source": [
    "import palettable\n",
    "colorlist = palettable.colorbrewer.qualitative.Set1_7.mpl_colors\n",
    "colormapping_mal = {\"cNMF_1\": colorlist[0], \"cNMF_2\": colorlist[1], \"cNMF_3\": colorlist[3], \n",
    "                    \"cNMF_4\": colorlist[4], \"cNMF_5\": colorlist[6]}\n",
    "colormapping_mal[\"Outlier\"] = \"whitesmoke\"\n",
    "colormapping_mal[\"Mixed\"] = \"lightgrey\"\n",
    "\n",
    "colorlist = palettable.colorbrewer.qualitative.Dark2_8.mpl_colors\n",
    "colorlistbis = palettable.colorbrewer.qualitative.Paired_3.mpl_colors\n",
    "colormapping_pat = {'Aguirre_EGSFR1982': colorlist[0], \n",
    "                    \"Aguirre_EGSFR2218\": colorlist[1], \n",
    "                    \"CCG1153_4411\": colorlist[2], \n",
    "                    \"Aguirre_EGSFR1938\": colorlist[3], \n",
    "                    \"Aguirre_EGSFR0074\": colorlist[4], \n",
    "                    \"Aguirre_EGSFR0128\": colorlist[5], \n",
    "                    \"Aguirre_EGSFR1732\": colorlist[6], \n",
    "                    \"Aguirre_EGSFR0148\": colorlist[7], \n",
    "                    \"CCG1153_4496262\": colorlistbis[0], \n",
    "                    \"CCG1153_6640539\": colorlistbis[1]}\n",
    "\n",
    "colormapping_pat_bis = {patient_id_mapping[pat]: colormapping_pat[pat] for pat in colormapping_pat}"
   ]
  },
  {
   "cell_type": "code",
   "execution_count": null,
   "id": "d416e088",
   "metadata": {},
   "outputs": [],
   "source": [
    "program_dir = pl.Path(\"./cNMF_malignant_per_patient/\")"
   ]
  },
  {
   "cell_type": "code",
   "execution_count": null,
   "id": "1a4cb7c2",
   "metadata": {},
   "outputs": [],
   "source": [
    "program_genes = []\n",
    "usages = []\n",
    "for sample in program_dir.iterdir():\n",
    "    print(\"_________\")\n",
    "    print(sample.stem)\n",
    "    print(\"_________\")\n",
    "    for f in sample.iterdir():\n",
    "        if \"gene_spectra_score\" in f.stem:\n",
    "            df = pd.read_csv(f, index_col=0, sep=\"\\t\").T\n",
    "            df.columns = f\"{sample.stem}_\" + df.columns.astype(str)\n",
    "            program_genes.append(df)\n",
    "        if \"usages\" in f.stem:\n",
    "            df = pd.read_csv(f, index_col=0, sep=\"\\t\")\n",
    "            df.columns = f\"{sample.stem}_\" + df.columns.astype(str)\n",
    "            df = (df.T/df.sum(axis=1)).T\n",
    "            usages.append(df)"
   ]
  },
  {
   "cell_type": "code",
   "execution_count": null,
   "id": "68caee10",
   "metadata": {},
   "outputs": [],
   "source": [
    "programs_to_remove = [\"Aguirre_EGSFR1982_5\", \"Aguirre_EGSFR1982_6\", \"Aguirre_EGSFR1982_7\", \"CCG1153_4411_6\", \n",
    "             \"CCG1153_4411_7\", \"Aguirre_EGSFR1938_5\",\n",
    "             \"Aguirre_EGSFR0074_5\",\"Aguirre_EGSFR0074_6\",\"Aguirre_EGSFR0074_7\",\n",
    "             \"Aguirre_EGSFR0128_3\",\"Aguirre_EGSFR1732_4\",]"
   ]
  },
  {
   "cell_type": "code",
   "execution_count": null,
   "id": "5f14054b",
   "metadata": {},
   "outputs": [],
   "source": [
    "full_programs = pd.concat(program_genes,axis=1).drop(programs_to_remove,axis=1)"
   ]
  },
  {
   "cell_type": "code",
   "execution_count": null,
   "id": "bef7168e",
   "metadata": {},
   "outputs": [],
   "source": [
    "cossim = pd.DataFrame(cosine_similarity(full_programs.T.fillna(0)),index=full_programs.columns,columns=full_programs.columns)"
   ]
  },
  {
   "cell_type": "code",
   "execution_count": null,
   "id": "ebb4a99e-e096-43e0-b7c2-0a0b346b30aa",
   "metadata": {},
   "outputs": [],
   "source": [
    "linkage = scipy.cluster.hierarchy.linkage(full_programs.T.fillna(0), method='average', metric='cosine', optimal_ordering=False)"
   ]
  },
  {
   "cell_type": "code",
   "execution_count": null,
   "id": "f8a458d3-9a3c-490b-8ae9-e28a0aa47262",
   "metadata": {},
   "outputs": [],
   "source": [
    "ax = sns.clustermap(data=cossim, cmap=\"vlag\", \n",
    "               center=0., row_linkage=linkage, col_linkage=linkage )"
   ]
  },
  {
   "cell_type": "code",
   "execution_count": null,
   "id": "8743a7de-764d-4feb-ba0c-f8151a823ad0",
   "metadata": {},
   "outputs": [],
   "source": [
    "lnkg = linkage\n",
    "\n",
    "clusters = scipy.cluster.hierarchy.fcluster(lnkg, t=5, criterion=\"maxclust\")\n",
    "\n",
    "row_programs = (\"cNMF_\" + pd.Series(clusters, index=full_programs.columns).astype(str)).ravel()\n",
    "pats = list(full_programs.columns.str.split(\"_\").str[:-1])\n",
    "row_pats = [\"_\".join(pat) for pat in pats]\n",
    "\n",
    "row_colors = [[],[]]\n",
    "for i,prog in enumerate(row_programs):\n",
    "    row_colors[0].append(colormapping_mal[prog])\n",
    "    row_colors[1].append(colormapping_pat[row_pats[i]])"
   ]
  },
  {
   "cell_type": "code",
   "execution_count": null,
   "id": "43e0e36b-ce3f-4d8e-bf5c-7cb387e57e52",
   "metadata": {},
   "outputs": [],
   "source": [
    "os.makedirs(\"figures/malignant/\",exist_ok=True)\n",
    "fig = sns.clustermap(data=cossim, cmap=\"vlag\", \n",
    "               center=0., row_linkage=linkage, col_linkage=linkage, row_colors=row_colors, xticklabels=False, yticklabels=False)\n",
    "fig.savefig(\"figures/malignant/clustermap_cnmf.svg\", dpi=300, bbox_inches=\"tight\")"
   ]
  },
  {
   "cell_type": "code",
   "execution_count": null,
   "id": "c1f49a44-b84e-42d1-852a-ccece369f454",
   "metadata": {},
   "outputs": [],
   "source": [
    "cluster_assignment = pd.Series(clusters, index=full_programs.columns)"
   ]
  },
  {
   "cell_type": "code",
   "execution_count": null,
   "id": "67dbf67c-ec16-4f6b-9a60-57c6d1914aa0",
   "metadata": {},
   "outputs": [],
   "source": [
    "marker_genes = {}\n",
    "for cl in cluster_assignment.unique():\n",
    "    \n",
    "    sigs = cluster_assignment[cluster_assignment==cl].index\n",
    "    marker_genes[cl] = full_programs[sigs].median(axis=1).sort_values(ascending=False)\n",
    "    marker_genes[cl] = marker_genes[cl].loc[~marker_genes[cl].index.str.startswith((\"MT-\",\"RPS\",\"RPL\"))]"
   ]
  },
  {
   "cell_type": "code",
   "execution_count": null,
   "id": "123e9c46",
   "metadata": {},
   "outputs": [],
   "source": [
    "for cl in marker_genes:\n",
    "    marker_genes[cl].to_csv(f\"/add/path/here/cNMF_{cl}.csv\")"
   ]
  },
  {
   "cell_type": "code",
   "execution_count": null,
   "id": "a45e862c-7da1-4a6e-94e2-c33a33517c09",
   "metadata": {},
   "outputs": [],
   "source": [
    "(\"cNMF_\"+ cluster_assignment.astype(str)).to_csv(\"/add/path/here/cNMF_program_assignment_cluster.csv\")"
   ]
  },
  {
   "cell_type": "markdown",
   "id": "418483f6",
   "metadata": {},
   "source": [
    "# Go back to original data"
   ]
  },
  {
   "cell_type": "code",
   "execution_count": null,
   "id": "1f1fd91f",
   "metadata": {},
   "outputs": [],
   "source": [
    "sc.pp.normalize_total(subadata, target_sum=10000)\n",
    "sc.pp.log1p(subadata)"
   ]
  },
  {
   "cell_type": "code",
   "execution_count": null,
   "id": "19d18e5b",
   "metadata": {
    "scrolled": true
   },
   "outputs": [],
   "source": [
    "sc.tl.pca(subadata)\n",
    "sc.pp.neighbors(subadata)\n",
    "sc.tl.umap(subadata)"
   ]
  },
  {
   "cell_type": "code",
   "execution_count": null,
   "id": "d1c625ad-c982-412d-b605-88d4f0905f87",
   "metadata": {},
   "outputs": [],
   "source": [
    "fig = sc.pl.umap(subadata, color=[\"pid\"], palette=colormapping_pat_bis, frameon=False, return_fig=True)\n",
    "\n",
    "fig.axes[0].set_title('Patient ID', fontsize=18)\n",
    "fig.axes[0].legend(fontsize=15, frameon=False, bbox_to_anchor=(1,1,-0.5,0))\n",
    "fig.savefig(\"figures/malignant/unintegrated_sampleid_umap.png\", dpi=300, bbox_inches=\"tight\")"
   ]
  },
  {
   "cell_type": "code",
   "execution_count": null,
   "id": "2d4de264",
   "metadata": {},
   "outputs": [],
   "source": [
    "itay_MPs = pd.read_csv(\"/add/path/here/ItayTiroshHeterogeneityMPs.csv\")"
   ]
  },
  {
   "cell_type": "code",
   "execution_count": null,
   "id": "f9fe9ba1",
   "metadata": {
    "scrolled": true
   },
   "outputs": [],
   "source": [
    "sorted_gm = sorted(list(marker_genes))\n",
    "mp_similarities = pd.DataFrame(np.zeros((len(sorted_gm),itay_MPs.shape[1])), \n",
    "                               columns=itay_MPs.columns, \n",
    "                               index=[f\"cNMF_{cl}\" for cl in sorted_gm])\n",
    "for cl in sorted_gm:\n",
    "    for mp in itay_MPs.columns:\n",
    "        available = len(np.intersect1d(itay_MPs.loc[:,mp].ravel(),marker_genes[cl].index))\n",
    "        inter = len(np.intersect1d(marker_genes[cl].head(50).index.ravel(),\n",
    "                                                    itay_MPs[mp].ravel()))/available\n",
    "        if inter>0:\n",
    "            print(cl, mp)\n",
    "            print(np.intersect1d(marker_genes[cl].head(50).index.ravel(),\n",
    "                                                    itay_MPs[mp].ravel()))\n",
    "        mp_similarities.loc[f\"cNMF_{cl}\",mp] = inter"
   ]
  },
  {
   "cell_type": "code",
   "execution_count": null,
   "id": "d05b7c09",
   "metadata": {
    "scrolled": true
   },
   "outputs": [],
   "source": [
    "fig = sns.clustermap(data=mp_similarities, row_cluster=False, col_cluster=False,\n",
    "                    cmap=\"vlag\", vmin=0, vmax=0.2, center=0.01,\n",
    "                    figsize=(12,4))\n",
    "fig.ax_heatmap.set_yticks(fig.ax_heatmap.get_yticks(), [\"cNMF$_{1}$\",\"cNMF$_{2}$\",\"cNMF$_{3}$\",\"cNMF$_{4}$\",\"cNMF$_{5}$\"])\n",
    "fig.savefig(\"figures/malignant/heatmap_itay_program_comparison.png\", dpi=200, bbox_inches=\"tight\")"
   ]
  },
  {
   "cell_type": "code",
   "execution_count": null,
   "id": "d9573607-8081-4556-98f1-6019d31ae54f",
   "metadata": {},
   "outputs": [],
   "source": [
    "from gseapy import gseaplot"
   ]
  },
  {
   "cell_type": "code",
   "execution_count": null,
   "id": "1cea90d3",
   "metadata": {
    "scrolled": true
   },
   "outputs": [],
   "source": [
    "gsea_results_scanpy = {}\n",
    "for cl in sorted(marker_genes):\n",
    "    \n",
    "    df = marker_genes[cl].to_frame()\n",
    "    pre_res = gp.prerank(rnk=df, # or rnk = rnk,\n",
    "                         gene_sets='/add/path/here/h.all.v7.4.symbols.gmt',\n",
    "                         #threads=4,\n",
    "                         min_size=5,\n",
    "                         max_size=1000,\n",
    "                         permutation_num=1000, # reduce number to speed up testing\n",
    "                         outdir=None, # don't write to disk\n",
    "                         seed=6,\n",
    "                         verbose=True, # see what's going on behind the scenes\n",
    "                        )\n",
    "\n",
    "    gsea_results_scanpy[cl] = pre_res.res2d.sort_values(by=\"nes\",ascending=False)\n",
    "    gsea_results_scanpy[cl][\"cluster\"] = cl\n",
    "\n",
    "    if cl==3:\n",
    "        gseaplot(rank_metric=pre_res.ranking, \n",
    "                 term=\"HALLMARK_EPITHELIAL_MESENCHYMAL_TRANSITION\", \n",
    "                 ofname=f'figures/cNMF_3_EMT.pdf', **pre_res.results[\"HALLMARK_EPITHELIAL_MESENCHYMAL_TRANSITION\"])\n",
    "    elif cl==2:\n",
    "        gseaplot(rank_metric=pre_res.ranking, \n",
    "                 term=\"HALLMARK_G2M_CHECKPOINT\", \n",
    "                 ofname=f'figures/cNMF_2_G2M.pdf', **pre_res.results[\"HALLMARK_G2M_CHECKPOINT\"])"
   ]
  },
  {
   "cell_type": "code",
   "execution_count": null,
   "id": "7526057f-6231-418b-b0b7-0380bc961c0e",
   "metadata": {},
   "outputs": [],
   "source": [
    "gsea_df = pd.concat(list(gsea_results_scanpy.values()))\n",
    "\n",
    "colorlist = palettable.colorbrewer.qualitative.Dark2_8.mpl_colors\n",
    "\n",
    "hallmark_classif = {\"APICAL JUNCTION\": \"Cellular component\", \"PEROXISOME\": \"Cellular component\", \n",
    "                    \"ANDROGEN RESPONSE\": \"Signaling\", \"ESTROGEN RESPONSE EARLY\": \"Signaling\", \"ESTROGEN RESPONSE LATE\": \"Signaling\",\n",
    "                    \"HEDGEHOG SIGNALING\": \"Signaling\", \"IL2 STAT5 SIGNALING\": \"Signaling\", \"MTORC1 SIGNALING\": \"Signaling\", \n",
    "                    \"NOTCH SIGNALING\": \"Signaling\", \"TGF BETA SIGNALING\": \"Signaling\", \"PI3K AKT MTOR SIGNALING\": \"Signaling\",\n",
    "                    \"TNFA SIGNALING VIA NFKB\": \"Signaling\", \"WNT BETA CATENIN SIGNALING\": \"Signaling\", \n",
    "                    \"IL6 JAK STAT3 SIGNALING\": \"Signaling\", \"KRAS SIGNALING UP\": \"Signaling\", \n",
    "                    \"DNA REPAIR\": \"DNA damage\", \"UV RESPONSE DN\": \"DNA damage\", \"UV RESPONSE UP\": \"DNA damage\", \n",
    "                    \"E2F TARGETS\": \"Proliferation\", \"APOPTOSIS\": \"Proliferation\", \n",
    "                    \"G2M CHECKPOINT\": \"Proliferation\", \"MITOTIC SPINDLE\": \"Proliferation\", \"MYC TARGETS V1\": \"Proliferation\", \n",
    "                    \"MYC TARGETS V2\": \"Proliferation\", \"P53 PATHWAY\": \"Proliferation\", \"CHOLESTEROL HOMEOSTASIS\": \"Metabolic\", \n",
    "                    \"FATTY ACID METABOLISM\": \"Metabolic\", \"GLYCOLYSIS\": \"Metabolic\", \"OXIDATIVE PHOSPHORYLATION\": \"Metabolic\", \n",
    "                    \"BILE ACID METABOLISM\": \"Metabolic\", \"XENOBIOTIC METABOLISM\": \"Metabolic\", \"HEME METABOLISM\": \"Metabolic\",\n",
    "                    \"ALLOGRAFT REJECTION\": \"Immune\", \"COAGULATION\": \"Immune\", \"INTERFERON ALPHA RESPONSE\": \"Immune\", \n",
    "                    \"COMPLEMENT\": \"Immune\", \"INTERFERON GAMMA RESPONSE\": \"Immune\", \"INFLAMMATORY RESPONSE\": \"Immune\", \n",
    "                    \"ADIPOGENESIS\": \"Development\", \"ANGIOGENESIS\": \"Development\", \n",
    "                    \"EPITHELIAL MESENCHYMAL TRANSITION\": \"Development\",\n",
    "                    \"PANCREAS BETA CELLS\": \"Development\", \"SPERMATOGENESIS\": \"Development\",\n",
    "                    \"HYPOXIA\": \"Other\", \"MYOGENESIS\": \"Development\", \n",
    "                    \"PROTEIN SECRETION\": \"Other\", \"UNFOLDED PROTEIN RESPONSE\": \"Other\", \"REACTIVE OXYGEN SPECIES PATHWAY\": \"Other\"}\n",
    "\n",
    "hallmark_classif = pd.DataFrame(hallmark_classif, index=[\"Hallmark gr.\"]).T\n",
    "\n",
    "colormapping_hallmark = {gr: colorlist[i] for i,gr in enumerate(hallmark_classif[\"Hallmark gr.\"].unique())}\n",
    "\n",
    "sign_df = gsea_df[gsea_df[\"fdr\"]<0.05].copy()\n",
    "\n",
    "gsea_heatmap_df = {}\n",
    "\n",
    "for term in sign_df.index:\n",
    "    termdf = sign_df.loc[[term]].copy()\n",
    "    termdf = termdf.replace({np.inf: 0})\n",
    "    gsea_heatmap_df[term] = termdf[[\"nes\",\"cluster\"]].set_index(\"cluster\")\n",
    "\n",
    "gsea_heatmap_df = pd.concat(gsea_heatmap_df,axis=1).fillna(0).T\n",
    "gsea_heatmap_df.index = gsea_heatmap_df.index.droplevel(1).str.replace(\"_\",\" \").str[9:]\n",
    "\n",
    "gsea_heatmap_df = pd.concat([gsea_heatmap_df, hallmark_classif],axis=1).sort_values(by=\"Hallmark gr.\")"
   ]
  },
  {
   "cell_type": "code",
   "execution_count": null,
   "id": "b7e8b2ab-f167-42a7-b1b7-928e3ec6d326",
   "metadata": {},
   "outputs": [],
   "source": [
    "fig = sns.clustermap(data=gsea_heatmap_df.drop(\"Hallmark gr.\",axis=1), cmap=\"vlag\", row_cluster=False, \n",
    "               col_cluster=False, \n",
    "               row_colors=gsea_heatmap_df[\"Hallmark gr.\"].replace(colormapping_hallmark, regex=True), \n",
    "                     figsize=(2,13))\n",
    "fig.ax_heatmap.set_xticks(fig.ax_heatmap.get_xticks(), [\"cNMF$_{1}$\",\"cNMF$_{2}$\",\"cNMF$_{3}$\",\"cNMF$_{4}$\",\"cNMF$_{5}$\"], rotation=90, ha=\"center\")\n",
    "fig.savefig(\"figures/malignant/cNMF_GSEA_results.svg\", dpi=200, bbox_inches=\"tight\")"
   ]
  },
  {
   "cell_type": "code",
   "execution_count": null,
   "id": "f814da26-3c85-4d49-8cbc-f0d31309b444",
   "metadata": {},
   "outputs": [],
   "source": []
  }
 ],
 "metadata": {
  "kernelspec": {
   "display_name": "Python 3 (ipykernel)",
   "language": "python",
   "name": "python3"
  },
  "language_info": {
   "codemirror_mode": {
    "name": "ipython",
    "version": 3
   },
   "file_extension": ".py",
   "mimetype": "text/x-python",
   "name": "python",
   "nbconvert_exporter": "python",
   "pygments_lexer": "ipython3",
   "version": "3.9.16"
  }
 },
 "nbformat": 4,
 "nbformat_minor": 5
}
