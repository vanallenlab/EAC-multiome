{
 "cells": [
  {
   "cell_type": "code",
   "execution_count": null,
   "id": "7825dd97",
   "metadata": {},
   "outputs": [],
   "source": [
    "import scanpy as sc\n",
    "import pandas as pd\n",
    "import numpy as np\n",
    "import seaborn as sns\n",
    "import matplotlib.pyplot as plt\n",
    "import signaturescoring as ssc"
   ]
  },
  {
   "cell_type": "code",
   "execution_count": null,
   "id": "129952e4",
   "metadata": {},
   "outputs": [],
   "source": [
    "import pathlib as pl"
   ]
  },
  {
   "cell_type": "code",
   "execution_count": null,
   "id": "8b693c3a",
   "metadata": {},
   "outputs": [],
   "source": [
    "from tqdm.notebook import tqdm"
   ]
  },
  {
   "cell_type": "code",
   "execution_count": null,
   "id": "b097225c",
   "metadata": {},
   "outputs": [],
   "source": [
    "import gseapy as gp"
   ]
  },
  {
   "cell_type": "code",
   "execution_count": null,
   "id": "3828f0cb",
   "metadata": {},
   "outputs": [],
   "source": [
    "adata = sc.read_h5ad(\"/add/path/here/full_cohort.h5ad\")\n",
    "\n",
    "refined_annotations = pd.read_csv(\"../refined_annotations.csv\", index_col=0)\n",
    "\n",
    "adata.obs[\"refined_annotation\"] = refined_annotations.loc[adata.obs_names,\"Annotation\"].ravel()\n",
    "\n",
    "#scib.preprocessing.score_cell_cycle(adata, organism='human')"
   ]
  },
  {
   "cell_type": "code",
   "execution_count": null,
   "id": "679a6932",
   "metadata": {},
   "outputs": [],
   "source": [
    "clinical = pd.read_csv(\"/add/path/here/EAC_clinical_info.csv\",index_col=0)\n",
    "treatment_mapping = {\"Neoadjuvant CROSS\": \"Neoadj. chemo\", \"Neoadjuvent carboplatin\": \"Neoadj. chemo\"}\n",
    "metastatic = (clinical[\"Tumor?\"]==\"Yes \") & (clinical[\"Site\"].str.contains(\"metastasis\"))\n",
    "metastatic.name = \"Metastatic?\"\n",
    "clinical[\"Metastatic?\"] = metastatic\n",
    "\n",
    "clinical[\"Location\"] = clinical[\"Site\"].replace({\"GEJ\": \"Esophagus/GEJ\", \n",
    "                          \"Esophagus\": \"Esophagus/GEJ\"})\n",
    "clinical[\"Location\"][clinical[\"Location\"].str.contains(\"Liver\")] = \"Liver\"\n",
    "clinical[\"Location\"][clinical[\"Location\"].str.contains(\"Adrenal\")] = \"Adrenal gland\"\n",
    "clinical[\"Location\"][clinical[\"Location\"].str.contains(\"Peritoneal\")] = \"Peritoneum\"\n",
    "\n",
    "clinical[\"Stage\"] = clinical[\"Grade/stage\"].replace({\"Stage IV \": \"IV\", \"Stage IV\": \"IV\", \n",
    "                                                     \"Moderately differentiated; ypT1aN0\": \"I\", \n",
    "                                                     \"Moderately differentiated; pT1aN0\": \"I\", \n",
    "                                                     \"Poorly differentiated; ypT2N0\": \"II\", \n",
    "                                                     \"Presented with stage III became stage IV during esophagectomy when pleural metastases were identified\": \"III/IV\"})\n",
    "\n",
    "clinical[\"Treatment\"] = [\"Neoadj. chemo\",\n",
    "                         \"None\",\n",
    "                         \"Neoadj. chemo + ICI + RT\",\n",
    "                         \"None\",\n",
    "                         \"None\",\n",
    "                         \"Chemo + HER2 targeted + ICI\", \n",
    "                         \"Neoadj. chemo + HER2 targeted\", \n",
    "                         \"Neoadj. chemo + ICI\", \n",
    "                         \"None\",\n",
    "                         \"Neoadj. chemo + VEGFR2i\"]\n",
    "\n",
    "clinical[\"HER2 status\"] = clinical[\"HER2\"].replace({\"HER 2 1+\": \"1+/equivocal\"})\n",
    "\n",
    "clinical = clinical.sort_values(by=[\"Tumor?\",\"Metastatic?\",\"Location\"])"
   ]
  },
  {
   "cell_type": "code",
   "execution_count": null,
   "id": "4dc178be",
   "metadata": {},
   "outputs": [],
   "source": [
    "location_map = clinical[\"Location\"].to_dict()\n",
    "treatment_map = clinical[\"Treatment\"].to_dict()\n",
    "metastatic_map = clinical[\"Metastatic?\"].to_dict()\n",
    "\n",
    "adata.obs[\"Location\"] = adata.obs.sample_id.replace(location_map)\n",
    "\n",
    "adata.obs[\"Treatment\"] = adata.obs.sample_id.replace(treatment_map)\n",
    "\n",
    "adata.obs[\"Metastatic\"] = adata.obs.sample_id.replace(metastatic_map)\n",
    "\n",
    "adata.obs[\"Treatment Naïve\"] = adata.obs.Treatment.apply(lambda x: \"Yes\" if x==\"None\" else \"No\")"
   ]
  },
  {
   "cell_type": "markdown",
   "id": "1633d2a0",
   "metadata": {},
   "source": [
    "# Save the adatas for cNMF"
   ]
  },
  {
   "cell_type": "code",
   "execution_count": null,
   "id": "cfb12795",
   "metadata": {},
   "outputs": [],
   "source": [
    "toremove = [f\"AC{i}\" for i in range(0,10)] + [f\"AL{i}\" for i in range(0,10)] + [\"LINC\"] + [\"MT-\"]"
   ]
  },
  {
   "cell_type": "code",
   "execution_count": null,
   "id": "da483450",
   "metadata": {},
   "outputs": [],
   "source": [
    "adata = adata[:,~adata.var_names.str.startswith(tuple(toremove))].copy()"
   ]
  },
  {
   "cell_type": "code",
   "execution_count": null,
   "id": "a9fe7293",
   "metadata": {},
   "outputs": [],
   "source": [
    "subadata = adata[adata.obs.refined_annotation==\"Carcinoma\"].copy()"
   ]
  },
  {
   "cell_type": "code",
   "execution_count": null,
   "id": "8e616b4a",
   "metadata": {},
   "outputs": [],
   "source": [
    "subadata.X = subadata.layers[\"counts\"].copy()"
   ]
  },
  {
   "cell_type": "code",
   "execution_count": null,
   "id": "e17e1cd5",
   "metadata": {},
   "outputs": [],
   "source": [
    "subadata.write(\"subadata_cNMF.h5ad\")"
   ]
  },
  {
   "cell_type": "code",
   "execution_count": null,
   "id": "81caed8f",
   "metadata": {},
   "outputs": [],
   "source": [
    "for sample in subadata.obs.sample_id.unique():\n",
    "    patadata = subadata[subadata.obs.sample_id==sample].copy()\n",
    "    patadata.write(f\"{sample}_subadata_cNMF.h5ad\")"
   ]
  },
  {
   "cell_type": "markdown",
   "id": "1abd418f",
   "metadata": {},
   "source": [
    "# Per patient"
   ]
  },
  {
   "cell_type": "code",
   "execution_count": null,
   "id": "f3fb4ff2",
   "metadata": {},
   "outputs": [],
   "source": [
    "from cnmf import cNMF"
   ]
  },
  {
   "cell_type": "code",
   "execution_count": null,
   "id": "70246257",
   "metadata": {},
   "outputs": [],
   "source": [
    "subadata.obs.sample_id.unique()"
   ]
  },
  {
   "cell_type": "markdown",
   "id": "1cf8b37a",
   "metadata": {},
   "source": [
    "## Aguirre_EGSFR1982"
   ]
  },
  {
   "cell_type": "code",
   "execution_count": null,
   "id": "f2afb7ab",
   "metadata": {},
   "outputs": [],
   "source": [
    "sample = \"Aguirre_EGSFR1982\"\n",
    "\n",
    "sample_file = f\"{sample}_subadata_cNMF.h5ad\"\n",
    "\n",
    "cnmf_obj = cNMF(output_dir=\"./cNMF_malignant_per_patient/\", name=sample)"
   ]
  },
  {
   "cell_type": "code",
   "execution_count": null,
   "id": "01d5cf42",
   "metadata": {},
   "outputs": [],
   "source": [
    "cnmf_obj.prepare(counts_fn=sample_file, components=np.arange(2,11),n_iter=20, seed=14, num_highvar_genes=2000)"
   ]
  },
  {
   "cell_type": "code",
   "execution_count": null,
   "id": "764b3cba",
   "metadata": {
    "scrolled": true
   },
   "outputs": [],
   "source": [
    "cnmf_obj.factorize(worker_i=0, total_workers=1)"
   ]
  },
  {
   "cell_type": "code",
   "execution_count": null,
   "id": "e9faf8fe",
   "metadata": {},
   "outputs": [],
   "source": [
    "cnmf_obj.combine()"
   ]
  },
  {
   "cell_type": "code",
   "execution_count": null,
   "id": "e692ff08",
   "metadata": {
    "scrolled": true
   },
   "outputs": [],
   "source": [
    "cnmf_obj.k_selection_plot(close_fig=False)"
   ]
  },
  {
   "cell_type": "code",
   "execution_count": null,
   "id": "1d05eda8",
   "metadata": {},
   "outputs": [],
   "source": [
    "selected_K = 5\n",
    "density_threshold = 0.1"
   ]
  },
  {
   "cell_type": "code",
   "execution_count": null,
   "id": "fcaa5f25",
   "metadata": {},
   "outputs": [],
   "source": [
    "cnmf_obj.consensus(k=selected_K, density_threshold=density_threshold, show_clustering=True, close_clustergram_fig=False)"
   ]
  },
  {
   "cell_type": "code",
   "execution_count": null,
   "id": "a7e29db4",
   "metadata": {},
   "outputs": [],
   "source": [
    "hvgs = open(f'./cNMF_malignant_per_patient/{sample}/{sample}.overdispersed_genes.txt').read().split('\\n')"
   ]
  },
  {
   "cell_type": "code",
   "execution_count": null,
   "id": "1116a33a",
   "metadata": {},
   "outputs": [],
   "source": [
    "patadata = sc.read_h5ad(sample_file)"
   ]
  },
  {
   "cell_type": "code",
   "execution_count": null,
   "id": "66779018",
   "metadata": {},
   "outputs": [],
   "source": [
    "sc.pp.normalize_total(patadata, target_sum=10000)\n",
    "sc.pp.log1p(patadata)"
   ]
  },
  {
   "cell_type": "code",
   "execution_count": null,
   "id": "ab1321c9",
   "metadata": {},
   "outputs": [],
   "source": [
    "patadata = patadata[:,hvgs].copy()"
   ]
  },
  {
   "cell_type": "code",
   "execution_count": null,
   "id": "30160fd7",
   "metadata": {
    "scrolled": true
   },
   "outputs": [],
   "source": [
    "sc.tl.pca(patadata)\n",
    "sc.pp.neighbors(patadata)\n",
    "sc.tl.umap(patadata)"
   ]
  },
  {
   "cell_type": "code",
   "execution_count": null,
   "id": "464b862a",
   "metadata": {},
   "outputs": [],
   "source": [
    "usage_norm, gep_scores, gep_tpm, topgenes = cnmf_obj.load_results(K=selected_K, density_threshold=density_threshold)\n",
    "usage_norm.columns = ['Usage_%d' % i for i in usage_norm.columns]"
   ]
  },
  {
   "cell_type": "code",
   "execution_count": null,
   "id": "08dbe5c6",
   "metadata": {},
   "outputs": [],
   "source": [
    "patadata.obs = pd.concat([patadata.obs, usage_norm],axis=1)"
   ]
  },
  {
   "cell_type": "code",
   "execution_count": null,
   "id": "aa9150f6",
   "metadata": {},
   "outputs": [],
   "source": [
    "sc.pl.umap(patadata, color=usage_norm.columns,\n",
    "           ncols=3, vmin=0, vmax=1)"
   ]
  },
  {
   "cell_type": "code",
   "execution_count": null,
   "id": "a1def9e7",
   "metadata": {},
   "outputs": [],
   "source": [
    "topgenes.head(20)"
   ]
  },
  {
   "cell_type": "code",
   "execution_count": null,
   "id": "2c8329d2",
   "metadata": {},
   "outputs": [],
   "source": [
    "patadata.obs[\"GEP\"] = usage_norm.idxmax(axis=1)"
   ]
  },
  {
   "cell_type": "code",
   "execution_count": null,
   "id": "a9aa3f20",
   "metadata": {},
   "outputs": [],
   "source": [
    "sc.pl.umap(patadata, color=\"GEP\",)"
   ]
  },
  {
   "cell_type": "markdown",
   "id": "8e1cf59b",
   "metadata": {},
   "source": [
    "## Aguirre_EGSFR2218"
   ]
  },
  {
   "cell_type": "code",
   "execution_count": null,
   "id": "847fb54d",
   "metadata": {},
   "outputs": [],
   "source": []
  },
  {
   "cell_type": "code",
   "execution_count": null,
   "id": "0b15f113",
   "metadata": {},
   "outputs": [],
   "source": [
    "sample = \"Aguirre_EGSFR2218\"\n",
    "\n",
    "sample_file = f\"{sample}_subadata_cNMF.h5ad\"\n",
    "\n",
    "cnmf_obj = cNMF(output_dir=\"./cNMF_malignant_per_patient/\", name=sample)"
   ]
  },
  {
   "cell_type": "code",
   "execution_count": null,
   "id": "b14548c7",
   "metadata": {},
   "outputs": [],
   "source": [
    "cnmf_obj.prepare(counts_fn=sample_file, components=np.arange(2,11),n_iter=20, seed=14, num_highvar_genes=2000)"
   ]
  },
  {
   "cell_type": "code",
   "execution_count": null,
   "id": "b9f2eb36",
   "metadata": {
    "scrolled": true
   },
   "outputs": [],
   "source": [
    "cnmf_obj.factorize(worker_i=0, total_workers=1)"
   ]
  },
  {
   "cell_type": "code",
   "execution_count": null,
   "id": "8f867107",
   "metadata": {},
   "outputs": [],
   "source": [
    "cnmf_obj.combine()"
   ]
  },
  {
   "cell_type": "code",
   "execution_count": null,
   "id": "5ca9683b",
   "metadata": {},
   "outputs": [],
   "source": [
    "cnmf_obj.k_selection_plot(close_fig=False)"
   ]
  },
  {
   "cell_type": "code",
   "execution_count": null,
   "id": "331277f9",
   "metadata": {},
   "outputs": [],
   "source": [
    "selected_K = 4\n",
    "density_threshold = 0.1"
   ]
  },
  {
   "cell_type": "code",
   "execution_count": null,
   "id": "d09617fd",
   "metadata": {},
   "outputs": [],
   "source": [
    "cnmf_obj.consensus(k=selected_K, density_threshold=density_threshold, show_clustering=True, close_clustergram_fig=False)"
   ]
  },
  {
   "cell_type": "code",
   "execution_count": null,
   "id": "312de260",
   "metadata": {},
   "outputs": [],
   "source": [
    "hvgs = open(f'./cNMF_malignant_per_patient/{sample}/{sample}.overdispersed_genes.txt').read().split('\\n')"
   ]
  },
  {
   "cell_type": "code",
   "execution_count": null,
   "id": "51a20d3d",
   "metadata": {},
   "outputs": [],
   "source": [
    "patadata = sc.read_h5ad(sample_file)"
   ]
  },
  {
   "cell_type": "code",
   "execution_count": null,
   "id": "e2173d79",
   "metadata": {},
   "outputs": [],
   "source": [
    "sc.pp.normalize_total(patadata, target_sum=10000)\n",
    "sc.pp.log1p(patadata)"
   ]
  },
  {
   "cell_type": "code",
   "execution_count": null,
   "id": "276d5444",
   "metadata": {},
   "outputs": [],
   "source": [
    "patadata = patadata[:,hvgs].copy()"
   ]
  },
  {
   "cell_type": "code",
   "execution_count": null,
   "id": "4adf8fac",
   "metadata": {
    "scrolled": true
   },
   "outputs": [],
   "source": [
    "sc.tl.pca(patadata)\n",
    "sc.pp.neighbors(patadata)\n",
    "sc.tl.umap(patadata)"
   ]
  },
  {
   "cell_type": "code",
   "execution_count": null,
   "id": "3e6717ea",
   "metadata": {},
   "outputs": [],
   "source": [
    "usage_norm, gep_scores, gep_tpm, topgenes = cnmf_obj.load_results(K=selected_K, density_threshold=density_threshold)\n",
    "usage_norm.columns = ['Usage_%d' % i for i in usage_norm.columns]"
   ]
  },
  {
   "cell_type": "code",
   "execution_count": null,
   "id": "0c4e6577",
   "metadata": {},
   "outputs": [],
   "source": [
    "patadata.obs = pd.concat([patadata.obs, usage_norm],axis=1)"
   ]
  },
  {
   "cell_type": "code",
   "execution_count": null,
   "id": "5f8e3da1",
   "metadata": {},
   "outputs": [],
   "source": [
    "sc.pl.umap(patadata, color=usage_norm.columns,\n",
    "           ncols=3, vmin=0, vmax=1)"
   ]
  },
  {
   "cell_type": "code",
   "execution_count": null,
   "id": "8b6db605",
   "metadata": {},
   "outputs": [],
   "source": []
  },
  {
   "cell_type": "code",
   "execution_count": null,
   "id": "43bcb5e5",
   "metadata": {},
   "outputs": [],
   "source": [
    "topgenes.head(20)"
   ]
  },
  {
   "cell_type": "code",
   "execution_count": null,
   "id": "8f226daa",
   "metadata": {},
   "outputs": [],
   "source": [
    "patadata.obs[\"GEP\"] = usage_norm.idxmax(axis=1)"
   ]
  },
  {
   "cell_type": "code",
   "execution_count": null,
   "id": "ec6d92b5",
   "metadata": {
    "scrolled": true
   },
   "outputs": [],
   "source": [
    "sc.pl.umap(patadata, color=\"GEP\",)"
   ]
  },
  {
   "cell_type": "markdown",
   "id": "38621ed1",
   "metadata": {},
   "source": [
    "## CCG1153_4411"
   ]
  },
  {
   "cell_type": "code",
   "execution_count": null,
   "id": "cd1b1bd0",
   "metadata": {},
   "outputs": [],
   "source": []
  },
  {
   "cell_type": "code",
   "execution_count": null,
   "id": "35d9aefb",
   "metadata": {},
   "outputs": [],
   "source": [
    "sample = \"CCG1153_4411\"\n",
    "\n",
    "sample_file = f\"{sample}_subadata_cNMF.h5ad\"\n",
    "\n",
    "cnmf_obj = cNMF(output_dir=\"./cNMF_malignant_per_patient/\", name=sample)"
   ]
  },
  {
   "cell_type": "code",
   "execution_count": null,
   "id": "57dad678",
   "metadata": {},
   "outputs": [],
   "source": [
    "cnmf_obj.prepare(counts_fn=sample_file, components=np.arange(2,11),n_iter=20, seed=14, num_highvar_genes=2000)"
   ]
  },
  {
   "cell_type": "code",
   "execution_count": null,
   "id": "b81d509d",
   "metadata": {
    "scrolled": true
   },
   "outputs": [],
   "source": [
    "cnmf_obj.factorize(worker_i=0, total_workers=1)"
   ]
  },
  {
   "cell_type": "code",
   "execution_count": null,
   "id": "a24319d9",
   "metadata": {},
   "outputs": [],
   "source": [
    "cnmf_obj.combine()"
   ]
  },
  {
   "cell_type": "code",
   "execution_count": null,
   "id": "7dc4b108",
   "metadata": {},
   "outputs": [],
   "source": [
    "cnmf_obj.k_selection_plot(close_fig=False)"
   ]
  },
  {
   "cell_type": "code",
   "execution_count": null,
   "id": "2df806e9",
   "metadata": {},
   "outputs": [],
   "source": [
    "selected_K = 5\n",
    "density_threshold = 0.1"
   ]
  },
  {
   "cell_type": "code",
   "execution_count": null,
   "id": "04aa435c",
   "metadata": {},
   "outputs": [],
   "source": [
    "cnmf_obj.consensus(k=selected_K, density_threshold=density_threshold, show_clustering=True, close_clustergram_fig=False)"
   ]
  },
  {
   "cell_type": "code",
   "execution_count": null,
   "id": "4b53402a",
   "metadata": {},
   "outputs": [],
   "source": [
    "hvgs = open(f'./cNMF_malignant_per_patient/{sample}/{sample}.overdispersed_genes.txt').read().split('\\n')"
   ]
  },
  {
   "cell_type": "code",
   "execution_count": null,
   "id": "593adf0a",
   "metadata": {},
   "outputs": [],
   "source": [
    "patadata = sc.read_h5ad(sample_file)"
   ]
  },
  {
   "cell_type": "code",
   "execution_count": null,
   "id": "2e1e3365",
   "metadata": {},
   "outputs": [],
   "source": [
    "sc.pp.normalize_total(patadata, target_sum=10000)\n",
    "sc.pp.log1p(patadata)"
   ]
  },
  {
   "cell_type": "code",
   "execution_count": null,
   "id": "0e60eeb5",
   "metadata": {},
   "outputs": [],
   "source": [
    "patadata = patadata[:,hvgs].copy()"
   ]
  },
  {
   "cell_type": "code",
   "execution_count": null,
   "id": "7732af46",
   "metadata": {
    "scrolled": true
   },
   "outputs": [],
   "source": [
    "sc.tl.pca(patadata)\n",
    "sc.pp.neighbors(patadata)\n",
    "sc.tl.umap(patadata)"
   ]
  },
  {
   "cell_type": "code",
   "execution_count": null,
   "id": "890d8d89",
   "metadata": {},
   "outputs": [],
   "source": [
    "usage_norm, gep_scores, gep_tpm, topgenes = cnmf_obj.load_results(K=selected_K, density_threshold=density_threshold)\n",
    "usage_norm.columns = ['Usage_%d' % i for i in usage_norm.columns]"
   ]
  },
  {
   "cell_type": "code",
   "execution_count": null,
   "id": "cd12c3d1",
   "metadata": {},
   "outputs": [],
   "source": [
    "patadata.obs = pd.concat([patadata.obs, usage_norm],axis=1)"
   ]
  },
  {
   "cell_type": "code",
   "execution_count": null,
   "id": "74e28308",
   "metadata": {},
   "outputs": [],
   "source": [
    "sc.pl.umap(patadata, color=usage_norm.columns,\n",
    "           ncols=3, vmin=0, vmax=1)"
   ]
  },
  {
   "cell_type": "code",
   "execution_count": null,
   "id": "7cc5bf02",
   "metadata": {},
   "outputs": [],
   "source": []
  },
  {
   "cell_type": "code",
   "execution_count": null,
   "id": "77fe65c6",
   "metadata": {},
   "outputs": [],
   "source": [
    "topgenes.head(20)"
   ]
  },
  {
   "cell_type": "code",
   "execution_count": null,
   "id": "a8e3b538",
   "metadata": {},
   "outputs": [],
   "source": [
    "patadata.obs[\"GEP\"] = usage_norm.idxmax(axis=1)"
   ]
  },
  {
   "cell_type": "code",
   "execution_count": null,
   "id": "7d6f1dc9",
   "metadata": {
    "scrolled": true
   },
   "outputs": [],
   "source": [
    "sc.pl.umap(patadata, color=\"GEP\",)"
   ]
  },
  {
   "cell_type": "markdown",
   "id": "ed817725",
   "metadata": {},
   "source": [
    "## Aguirre_EGSFR1938"
   ]
  },
  {
   "cell_type": "code",
   "execution_count": null,
   "id": "c03e5e46",
   "metadata": {},
   "outputs": [],
   "source": []
  },
  {
   "cell_type": "code",
   "execution_count": null,
   "id": "71d432f1",
   "metadata": {},
   "outputs": [],
   "source": [
    "sample = \"Aguirre_EGSFR1938\"\n",
    "\n",
    "sample_file = f\"{sample}_subadata_cNMF.h5ad\"\n",
    "\n",
    "cnmf_obj = cNMF(output_dir=\"./cNMF_malignant_per_patient/\", name=sample)"
   ]
  },
  {
   "cell_type": "code",
   "execution_count": null,
   "id": "410a6ca9",
   "metadata": {},
   "outputs": [],
   "source": [
    "cnmf_obj.prepare(counts_fn=sample_file, components=np.arange(2,11),n_iter=20, seed=14, num_highvar_genes=2000)"
   ]
  },
  {
   "cell_type": "code",
   "execution_count": null,
   "id": "a04c6b0e",
   "metadata": {
    "scrolled": true
   },
   "outputs": [],
   "source": [
    "cnmf_obj.factorize(worker_i=0, total_workers=1)"
   ]
  },
  {
   "cell_type": "code",
   "execution_count": null,
   "id": "e89e88cb",
   "metadata": {},
   "outputs": [],
   "source": [
    "cnmf_obj.combine()"
   ]
  },
  {
   "cell_type": "code",
   "execution_count": null,
   "id": "370eb8d1",
   "metadata": {},
   "outputs": [],
   "source": [
    "cnmf_obj.k_selection_plot(close_fig=False)"
   ]
  },
  {
   "cell_type": "code",
   "execution_count": null,
   "id": "27828e55",
   "metadata": {},
   "outputs": [],
   "source": [
    "selected_K = 5\n",
    "density_threshold = 0.1"
   ]
  },
  {
   "cell_type": "code",
   "execution_count": null,
   "id": "6c11f89c",
   "metadata": {},
   "outputs": [],
   "source": [
    "cnmf_obj.consensus(k=selected_K, density_threshold=density_threshold, show_clustering=True, close_clustergram_fig=False)"
   ]
  },
  {
   "cell_type": "code",
   "execution_count": null,
   "id": "c4b21016",
   "metadata": {},
   "outputs": [],
   "source": [
    "hvgs = open(f'./cNMF_malignant_per_patient/{sample}/{sample}.overdispersed_genes.txt').read().split('\\n')"
   ]
  },
  {
   "cell_type": "code",
   "execution_count": null,
   "id": "95a6ffb0",
   "metadata": {},
   "outputs": [],
   "source": [
    "patadata = sc.read_h5ad(sample_file)"
   ]
  },
  {
   "cell_type": "code",
   "execution_count": null,
   "id": "dde26104",
   "metadata": {},
   "outputs": [],
   "source": [
    "sc.pp.normalize_total(patadata, target_sum=10000)\n",
    "sc.pp.log1p(patadata)"
   ]
  },
  {
   "cell_type": "code",
   "execution_count": null,
   "id": "76521186",
   "metadata": {},
   "outputs": [],
   "source": [
    "patadata = patadata[:,hvgs].copy()"
   ]
  },
  {
   "cell_type": "code",
   "execution_count": null,
   "id": "32289192",
   "metadata": {
    "scrolled": true
   },
   "outputs": [],
   "source": [
    "sc.tl.pca(patadata)\n",
    "sc.pp.neighbors(patadata)\n",
    "sc.tl.umap(patadata)"
   ]
  },
  {
   "cell_type": "code",
   "execution_count": null,
   "id": "f7bf653f",
   "metadata": {},
   "outputs": [],
   "source": [
    "usage_norm, gep_scores, gep_tpm, topgenes = cnmf_obj.load_results(K=selected_K, density_threshold=density_threshold)\n",
    "usage_norm.columns = ['Usage_%d' % i for i in usage_norm.columns]"
   ]
  },
  {
   "cell_type": "code",
   "execution_count": null,
   "id": "c1f89605",
   "metadata": {},
   "outputs": [],
   "source": [
    "patadata.obs = pd.concat([patadata.obs, usage_norm],axis=1)"
   ]
  },
  {
   "cell_type": "code",
   "execution_count": null,
   "id": "e6cbf85f",
   "metadata": {},
   "outputs": [],
   "source": [
    "sc.pl.umap(patadata, color=usage_norm.columns,\n",
    "           ncols=3, vmin=0, vmax=1)"
   ]
  },
  {
   "cell_type": "code",
   "execution_count": null,
   "id": "3c408e4a",
   "metadata": {},
   "outputs": [],
   "source": []
  },
  {
   "cell_type": "code",
   "execution_count": null,
   "id": "0107ace5",
   "metadata": {},
   "outputs": [],
   "source": [
    "topgenes.head(20)"
   ]
  },
  {
   "cell_type": "code",
   "execution_count": null,
   "id": "1c3b0b6f",
   "metadata": {},
   "outputs": [],
   "source": [
    "patadata.obs[\"GEP\"] = usage_norm.idxmax(axis=1)"
   ]
  },
  {
   "cell_type": "code",
   "execution_count": null,
   "id": "6358f3fb",
   "metadata": {
    "scrolled": true
   },
   "outputs": [],
   "source": [
    "sc.pl.umap(patadata, color=\"GEP\",)"
   ]
  },
  {
   "cell_type": "markdown",
   "id": "03ca7a94",
   "metadata": {},
   "source": [
    "## Aguirre_EGSFR0074"
   ]
  },
  {
   "cell_type": "code",
   "execution_count": null,
   "id": "941044d9",
   "metadata": {},
   "outputs": [],
   "source": []
  },
  {
   "cell_type": "code",
   "execution_count": null,
   "id": "06d0a026",
   "metadata": {},
   "outputs": [],
   "source": [
    "sample = \"Aguirre_EGSFR0074\"\n",
    "\n",
    "sample_file = f\"{sample}_subadata_cNMF.h5ad\"\n",
    "\n",
    "cnmf_obj = cNMF(output_dir=\"./cNMF_malignant_per_patient/\", name=sample)"
   ]
  },
  {
   "cell_type": "code",
   "execution_count": null,
   "id": "6352b834",
   "metadata": {},
   "outputs": [],
   "source": [
    "cnmf_obj.prepare(counts_fn=sample_file, components=np.arange(2,11),n_iter=20, seed=14, num_highvar_genes=2000)"
   ]
  },
  {
   "cell_type": "code",
   "execution_count": null,
   "id": "3aa65226",
   "metadata": {
    "scrolled": true
   },
   "outputs": [],
   "source": [
    "cnmf_obj.factorize(worker_i=0, total_workers=1)"
   ]
  },
  {
   "cell_type": "code",
   "execution_count": null,
   "id": "54cde880",
   "metadata": {},
   "outputs": [],
   "source": [
    "cnmf_obj.combine()"
   ]
  },
  {
   "cell_type": "code",
   "execution_count": null,
   "id": "a7fd2f3e",
   "metadata": {
    "scrolled": true
   },
   "outputs": [],
   "source": [
    "cnmf_obj.k_selection_plot(close_fig=False)"
   ]
  },
  {
   "cell_type": "code",
   "execution_count": null,
   "id": "483b3bf6",
   "metadata": {},
   "outputs": [],
   "source": [
    "selected_K = 5\n",
    "density_threshold = 0.1"
   ]
  },
  {
   "cell_type": "code",
   "execution_count": null,
   "id": "4519b5dc",
   "metadata": {},
   "outputs": [],
   "source": [
    "cnmf_obj.consensus(k=selected_K, density_threshold=density_threshold, show_clustering=True, close_clustergram_fig=False)"
   ]
  },
  {
   "cell_type": "code",
   "execution_count": null,
   "id": "2995e4e3",
   "metadata": {},
   "outputs": [],
   "source": [
    "hvgs = open(f'./cNMF_malignant_per_patient/{sample}/{sample}.overdispersed_genes.txt').read().split('\\n')"
   ]
  },
  {
   "cell_type": "code",
   "execution_count": null,
   "id": "88e6b47a",
   "metadata": {},
   "outputs": [],
   "source": [
    "patadata = sc.read_h5ad(sample_file)"
   ]
  },
  {
   "cell_type": "code",
   "execution_count": null,
   "id": "36d9f474",
   "metadata": {},
   "outputs": [],
   "source": [
    "sc.pp.normalize_total(patadata, target_sum=10000)\n",
    "sc.pp.log1p(patadata)"
   ]
  },
  {
   "cell_type": "code",
   "execution_count": null,
   "id": "47174c5a",
   "metadata": {},
   "outputs": [],
   "source": [
    "patadata = patadata[:,hvgs].copy()"
   ]
  },
  {
   "cell_type": "code",
   "execution_count": null,
   "id": "8dbe59f7",
   "metadata": {
    "scrolled": true
   },
   "outputs": [],
   "source": [
    "sc.tl.pca(patadata)\n",
    "sc.pp.neighbors(patadata)\n",
    "sc.tl.umap(patadata)"
   ]
  },
  {
   "cell_type": "code",
   "execution_count": null,
   "id": "4a6ae44d",
   "metadata": {},
   "outputs": [],
   "source": [
    "usage_norm, gep_scores, gep_tpm, topgenes = cnmf_obj.load_results(K=selected_K, density_threshold=density_threshold)\n",
    "usage_norm.columns = ['Usage_%d' % i for i in usage_norm.columns]"
   ]
  },
  {
   "cell_type": "code",
   "execution_count": null,
   "id": "3e6be236",
   "metadata": {},
   "outputs": [],
   "source": [
    "patadata.obs = pd.concat([patadata.obs, usage_norm],axis=1)"
   ]
  },
  {
   "cell_type": "code",
   "execution_count": null,
   "id": "b10589d3",
   "metadata": {},
   "outputs": [],
   "source": [
    "sc.pl.umap(patadata, color=usage_norm.columns,\n",
    "           ncols=3, vmin=0, vmax=1)"
   ]
  },
  {
   "cell_type": "code",
   "execution_count": null,
   "id": "b07f7d46",
   "metadata": {},
   "outputs": [],
   "source": []
  },
  {
   "cell_type": "code",
   "execution_count": null,
   "id": "a441c006",
   "metadata": {},
   "outputs": [],
   "source": [
    "topgenes.head(20)"
   ]
  },
  {
   "cell_type": "code",
   "execution_count": null,
   "id": "0c0840dc",
   "metadata": {},
   "outputs": [],
   "source": [
    "patadata.obs[\"GEP\"] = usage_norm.idxmax(axis=1)"
   ]
  },
  {
   "cell_type": "code",
   "execution_count": null,
   "id": "229b98d7",
   "metadata": {
    "scrolled": true
   },
   "outputs": [],
   "source": [
    "sc.pl.umap(patadata, color=\"GEP\",)"
   ]
  },
  {
   "cell_type": "markdown",
   "id": "7fc064a3",
   "metadata": {},
   "source": [
    "## Aguirre_EGSFR0128"
   ]
  },
  {
   "cell_type": "code",
   "execution_count": null,
   "id": "974558dc",
   "metadata": {},
   "outputs": [],
   "source": []
  },
  {
   "cell_type": "code",
   "execution_count": null,
   "id": "2c11f396",
   "metadata": {},
   "outputs": [],
   "source": [
    "sample = \"Aguirre_EGSFR0128\"\n",
    "\n",
    "sample_file = f\"{sample}_subadata_cNMF.h5ad\"\n",
    "\n",
    "cnmf_obj = cNMF(output_dir=\"./cNMF_malignant_per_patient/\", name=sample)"
   ]
  },
  {
   "cell_type": "code",
   "execution_count": null,
   "id": "7212619d",
   "metadata": {},
   "outputs": [],
   "source": [
    "cnmf_obj.prepare(counts_fn=sample_file, components=np.arange(2,11),n_iter=20, seed=14, num_highvar_genes=2000)"
   ]
  },
  {
   "cell_type": "code",
   "execution_count": null,
   "id": "faceb3f2",
   "metadata": {
    "scrolled": true
   },
   "outputs": [],
   "source": [
    "cnmf_obj.factorize(worker_i=0, total_workers=1)"
   ]
  },
  {
   "cell_type": "code",
   "execution_count": null,
   "id": "767ed766",
   "metadata": {},
   "outputs": [],
   "source": [
    "cnmf_obj.combine()"
   ]
  },
  {
   "cell_type": "code",
   "execution_count": null,
   "id": "84ae1f67",
   "metadata": {},
   "outputs": [],
   "source": [
    "cnmf_obj.k_selection_plot(close_fig=False)"
   ]
  },
  {
   "cell_type": "code",
   "execution_count": null,
   "id": "dbba3d7f",
   "metadata": {},
   "outputs": [],
   "source": [
    "selected_K = 5\n",
    "density_threshold = 0.1"
   ]
  },
  {
   "cell_type": "code",
   "execution_count": null,
   "id": "4754c207",
   "metadata": {},
   "outputs": [],
   "source": [
    "cnmf_obj.consensus(k=selected_K, density_threshold=density_threshold, show_clustering=True, close_clustergram_fig=False)"
   ]
  },
  {
   "cell_type": "code",
   "execution_count": null,
   "id": "27b16482",
   "metadata": {},
   "outputs": [],
   "source": [
    "hvgs = open(f'./cNMF_malignant_per_patient/{sample}/{sample}.overdispersed_genes.txt').read().split('\\n')"
   ]
  },
  {
   "cell_type": "code",
   "execution_count": null,
   "id": "16c4df83",
   "metadata": {},
   "outputs": [],
   "source": [
    "patadata = sc.read_h5ad(sample_file)"
   ]
  },
  {
   "cell_type": "code",
   "execution_count": null,
   "id": "33d777e9",
   "metadata": {},
   "outputs": [],
   "source": [
    "sc.pp.normalize_total(patadata, target_sum=10000)\n",
    "sc.pp.log1p(patadata)"
   ]
  },
  {
   "cell_type": "code",
   "execution_count": null,
   "id": "46396ca7",
   "metadata": {},
   "outputs": [],
   "source": [
    "patadata = patadata[:,hvgs].copy()"
   ]
  },
  {
   "cell_type": "code",
   "execution_count": null,
   "id": "a8abf606",
   "metadata": {
    "scrolled": true
   },
   "outputs": [],
   "source": [
    "sc.tl.pca(patadata)\n",
    "sc.pp.neighbors(patadata)\n",
    "sc.tl.umap(patadata)"
   ]
  },
  {
   "cell_type": "code",
   "execution_count": null,
   "id": "fbce37fc",
   "metadata": {},
   "outputs": [],
   "source": [
    "usage_norm, gep_scores, gep_tpm, topgenes = cnmf_obj.load_results(K=selected_K, density_threshold=density_threshold)\n",
    "usage_norm.columns = ['Usage_%d' % i for i in usage_norm.columns]"
   ]
  },
  {
   "cell_type": "code",
   "execution_count": null,
   "id": "9a7703a3",
   "metadata": {},
   "outputs": [],
   "source": [
    "patadata.obs = pd.concat([patadata.obs, usage_norm],axis=1)"
   ]
  },
  {
   "cell_type": "code",
   "execution_count": null,
   "id": "b18a8ecf",
   "metadata": {},
   "outputs": [],
   "source": [
    "sc.pl.umap(patadata, color=usage_norm.columns,\n",
    "           ncols=3, vmin=0, vmax=1)"
   ]
  },
  {
   "cell_type": "code",
   "execution_count": null,
   "id": "711599e6",
   "metadata": {},
   "outputs": [],
   "source": []
  },
  {
   "cell_type": "code",
   "execution_count": null,
   "id": "c733164a",
   "metadata": {
    "scrolled": true
   },
   "outputs": [],
   "source": [
    "topgenes.head(20)"
   ]
  },
  {
   "cell_type": "code",
   "execution_count": null,
   "id": "3a551b26",
   "metadata": {},
   "outputs": [],
   "source": [
    "patadata.obs[\"GEP\"] = usage_norm.idxmax(axis=1)"
   ]
  },
  {
   "cell_type": "code",
   "execution_count": null,
   "id": "58f7783e",
   "metadata": {
    "scrolled": true
   },
   "outputs": [],
   "source": [
    "sc.pl.umap(patadata, color=\"GEP\",)"
   ]
  },
  {
   "cell_type": "code",
   "execution_count": null,
   "id": "ac1bd5ef",
   "metadata": {},
   "outputs": [],
   "source": []
  },
  {
   "cell_type": "markdown",
   "id": "b3eb79ed",
   "metadata": {},
   "source": [
    "## Aguirre_EGSFR1732"
   ]
  },
  {
   "cell_type": "code",
   "execution_count": null,
   "id": "f51577d1",
   "metadata": {},
   "outputs": [],
   "source": [
    "sample = \"Aguirre_EGSFR1732\"\n",
    "\n",
    "sample_file = f\"{sample}_subadata_cNMF.h5ad\"\n",
    "\n",
    "cnmf_obj = cNMF(output_dir=\"./cNMF_malignant_per_patient/\", name=sample)"
   ]
  },
  {
   "cell_type": "code",
   "execution_count": null,
   "id": "b3b3423d",
   "metadata": {},
   "outputs": [],
   "source": [
    "cnmf_obj.prepare(counts_fn=sample_file, components=np.arange(2,11),n_iter=20, seed=14, num_highvar_genes=2000)"
   ]
  },
  {
   "cell_type": "code",
   "execution_count": null,
   "id": "7d4272a0",
   "metadata": {
    "scrolled": true
   },
   "outputs": [],
   "source": [
    "cnmf_obj.factorize(worker_i=0, total_workers=1)"
   ]
  },
  {
   "cell_type": "code",
   "execution_count": null,
   "id": "f3df9819",
   "metadata": {},
   "outputs": [],
   "source": [
    "cnmf_obj.combine()"
   ]
  },
  {
   "cell_type": "code",
   "execution_count": null,
   "id": "98214a8f",
   "metadata": {},
   "outputs": [],
   "source": [
    "cnmf_obj.k_selection_plot(close_fig=False)"
   ]
  },
  {
   "cell_type": "code",
   "execution_count": null,
   "id": "776de59c",
   "metadata": {},
   "outputs": [],
   "source": [
    "selected_K = 5\n",
    "density_threshold = 0.1"
   ]
  },
  {
   "cell_type": "code",
   "execution_count": null,
   "id": "b36c7823",
   "metadata": {},
   "outputs": [],
   "source": [
    "cnmf_obj.consensus(k=selected_K, density_threshold=density_threshold, show_clustering=True, close_clustergram_fig=False)"
   ]
  },
  {
   "cell_type": "code",
   "execution_count": null,
   "id": "860e35dd",
   "metadata": {},
   "outputs": [],
   "source": [
    "hvgs = open(f'./cNMF_malignant_per_patient/{sample}/{sample}.overdispersed_genes.txt').read().split('\\n')"
   ]
  },
  {
   "cell_type": "code",
   "execution_count": null,
   "id": "45a8bc18",
   "metadata": {},
   "outputs": [],
   "source": [
    "patadata = sc.read_h5ad(sample_file)"
   ]
  },
  {
   "cell_type": "code",
   "execution_count": null,
   "id": "1ed49edf",
   "metadata": {},
   "outputs": [],
   "source": [
    "sc.pp.normalize_total(patadata, target_sum=10000)\n",
    "sc.pp.log1p(patadata)"
   ]
  },
  {
   "cell_type": "code",
   "execution_count": null,
   "id": "f0a11822",
   "metadata": {},
   "outputs": [],
   "source": [
    "patadata = patadata[:,hvgs].copy()"
   ]
  },
  {
   "cell_type": "code",
   "execution_count": null,
   "id": "3e5c9389",
   "metadata": {
    "scrolled": true
   },
   "outputs": [],
   "source": [
    "sc.tl.pca(patadata)\n",
    "sc.pp.neighbors(patadata)\n",
    "sc.tl.umap(patadata)"
   ]
  },
  {
   "cell_type": "code",
   "execution_count": null,
   "id": "567fc93b",
   "metadata": {},
   "outputs": [],
   "source": [
    "usage_norm, gep_scores, gep_tpm, topgenes = cnmf_obj.load_results(K=selected_K, density_threshold=density_threshold)\n",
    "usage_norm.columns = ['Usage_%d' % i for i in usage_norm.columns]"
   ]
  },
  {
   "cell_type": "code",
   "execution_count": null,
   "id": "dfe7af60",
   "metadata": {},
   "outputs": [],
   "source": [
    "patadata.obs = pd.concat([patadata.obs, usage_norm],axis=1)"
   ]
  },
  {
   "cell_type": "code",
   "execution_count": null,
   "id": "ee2702f4",
   "metadata": {},
   "outputs": [],
   "source": [
    "sc.pl.umap(patadata, color=usage_norm.columns,\n",
    "           ncols=3, vmin=0, vmax=1)"
   ]
  },
  {
   "cell_type": "code",
   "execution_count": null,
   "id": "500cce15",
   "metadata": {},
   "outputs": [],
   "source": []
  },
  {
   "cell_type": "code",
   "execution_count": null,
   "id": "70203f1a",
   "metadata": {},
   "outputs": [],
   "source": [
    "topgenes.head(20)"
   ]
  },
  {
   "cell_type": "code",
   "execution_count": null,
   "id": "72547080",
   "metadata": {},
   "outputs": [],
   "source": [
    "patadata.obs[\"GEP\"] = usage_norm.idxmax(axis=1)"
   ]
  },
  {
   "cell_type": "code",
   "execution_count": null,
   "id": "e2498918",
   "metadata": {
    "scrolled": true
   },
   "outputs": [],
   "source": [
    "sc.pl.umap(patadata, color=\"GEP\",)"
   ]
  },
  {
   "cell_type": "code",
   "execution_count": null,
   "id": "a832b96e",
   "metadata": {},
   "outputs": [],
   "source": []
  },
  {
   "cell_type": "markdown",
   "id": "b06dbc99",
   "metadata": {},
   "source": [
    "## Aguirre_EGSFR0148"
   ]
  },
  {
   "cell_type": "code",
   "execution_count": null,
   "id": "4a362273",
   "metadata": {},
   "outputs": [],
   "source": [
    "sample = \"Aguirre_EGSFR0148\"\n",
    "\n",
    "sample_file = f\"{sample}_subadata_cNMF.h5ad\"\n",
    "\n",
    "cnmf_obj = cNMF(output_dir=\"./cNMF_malignant_per_patient/\", name=sample)"
   ]
  },
  {
   "cell_type": "code",
   "execution_count": null,
   "id": "2d48fc13",
   "metadata": {},
   "outputs": [],
   "source": [
    "cnmf_obj.prepare(counts_fn=sample_file, components=np.arange(2,11),n_iter=20, seed=14, num_highvar_genes=2000)"
   ]
  },
  {
   "cell_type": "code",
   "execution_count": null,
   "id": "8c72977a",
   "metadata": {
    "scrolled": true
   },
   "outputs": [],
   "source": [
    "cnmf_obj.factorize(worker_i=0, total_workers=1)"
   ]
  },
  {
   "cell_type": "code",
   "execution_count": null,
   "id": "ca145913",
   "metadata": {},
   "outputs": [],
   "source": [
    "cnmf_obj.combine()"
   ]
  },
  {
   "cell_type": "code",
   "execution_count": null,
   "id": "1f00b0f4",
   "metadata": {},
   "outputs": [],
   "source": [
    "cnmf_obj.k_selection_plot(close_fig=False)"
   ]
  },
  {
   "cell_type": "code",
   "execution_count": null,
   "id": "e233dc31",
   "metadata": {},
   "outputs": [],
   "source": [
    "selected_K = 4\n",
    "density_threshold = 0.1"
   ]
  },
  {
   "cell_type": "code",
   "execution_count": null,
   "id": "17d75aab",
   "metadata": {},
   "outputs": [],
   "source": [
    "cnmf_obj.consensus(k=selected_K, density_threshold=density_threshold, show_clustering=True, close_clustergram_fig=False)"
   ]
  },
  {
   "cell_type": "code",
   "execution_count": null,
   "id": "b2936905",
   "metadata": {},
   "outputs": [],
   "source": [
    "hvgs = open(f'./cNMF_malignant_per_patient/{sample}/{sample}.overdispersed_genes.txt').read().split('\\n')"
   ]
  },
  {
   "cell_type": "code",
   "execution_count": null,
   "id": "2096e19e",
   "metadata": {},
   "outputs": [],
   "source": [
    "patadata = sc.read_h5ad(sample_file)"
   ]
  },
  {
   "cell_type": "code",
   "execution_count": null,
   "id": "41a164aa",
   "metadata": {},
   "outputs": [],
   "source": [
    "sc.pp.normalize_total(patadata, target_sum=10000)\n",
    "sc.pp.log1p(patadata)"
   ]
  },
  {
   "cell_type": "code",
   "execution_count": null,
   "id": "357a89f6",
   "metadata": {},
   "outputs": [],
   "source": [
    "patadata = patadata[:,hvgs].copy()"
   ]
  },
  {
   "cell_type": "code",
   "execution_count": null,
   "id": "ed505caa",
   "metadata": {
    "scrolled": true
   },
   "outputs": [],
   "source": [
    "sc.tl.pca(patadata)\n",
    "sc.pp.neighbors(patadata)\n",
    "sc.tl.umap(patadata)"
   ]
  },
  {
   "cell_type": "code",
   "execution_count": null,
   "id": "3819ea1a",
   "metadata": {},
   "outputs": [],
   "source": [
    "usage_norm, gep_scores, gep_tpm, topgenes = cnmf_obj.load_results(K=selected_K, density_threshold=density_threshold)\n",
    "usage_norm.columns = ['Usage_%d' % i for i in usage_norm.columns]"
   ]
  },
  {
   "cell_type": "code",
   "execution_count": null,
   "id": "830ff0a0",
   "metadata": {},
   "outputs": [],
   "source": [
    "patadata.obs = pd.concat([patadata.obs, usage_norm],axis=1)"
   ]
  },
  {
   "cell_type": "code",
   "execution_count": null,
   "id": "6410d300",
   "metadata": {},
   "outputs": [],
   "source": [
    "sc.pl.umap(patadata, color=usage_norm.columns,\n",
    "           ncols=3, vmin=0, vmax=1)"
   ]
  },
  {
   "cell_type": "code",
   "execution_count": null,
   "id": "f392bf64",
   "metadata": {},
   "outputs": [],
   "source": []
  },
  {
   "cell_type": "code",
   "execution_count": null,
   "id": "69b6f185",
   "metadata": {},
   "outputs": [],
   "source": [
    "topgenes.head(20)"
   ]
  },
  {
   "cell_type": "code",
   "execution_count": null,
   "id": "c09f1ca7",
   "metadata": {},
   "outputs": [],
   "source": [
    "patadata.obs[\"GEP\"] = usage_norm.idxmax(axis=1)"
   ]
  },
  {
   "cell_type": "code",
   "execution_count": null,
   "id": "5f1311d3",
   "metadata": {
    "scrolled": true
   },
   "outputs": [],
   "source": [
    "sc.pl.umap(patadata, color=\"GEP\",)"
   ]
  },
  {
   "cell_type": "markdown",
   "id": "646cf6c5",
   "metadata": {},
   "source": [
    "# Aggregate programs"
   ]
  },
  {
   "cell_type": "code",
   "execution_count": null,
   "id": "c9f16f56",
   "metadata": {},
   "outputs": [],
   "source": []
  },
  {
   "cell_type": "code",
   "execution_count": null,
   "id": "cb44388c",
   "metadata": {},
   "outputs": [],
   "source": [
    "import seaborn as sns \n",
    "from sklearn.metrics.pairwise import cosine_similarity, pairwise_distances, euclidean_distances"
   ]
  },
  {
   "cell_type": "code",
   "execution_count": null,
   "id": "15fe0f45",
   "metadata": {},
   "outputs": [],
   "source": [
    "import scipy"
   ]
  },
  {
   "cell_type": "code",
   "execution_count": null,
   "id": "409e6ef7-2ac4-43c9-bc12-0c982cc30465",
   "metadata": {},
   "outputs": [],
   "source": [
    "adata.obs.sample_id.unique()"
   ]
  },
  {
   "cell_type": "code",
   "execution_count": null,
   "id": "0d75cb92-e6d4-4d17-833d-119c3e873954",
   "metadata": {},
   "outputs": [],
   "source": [
    "import palettable\n",
    "colorlist = palettable.colorbrewer.qualitative.Set1_5.mpl_colors\n",
    "colormapping_mal = {\"cNMF_1\": colorlist[0], \"cNMF_2\": colorlist[1], \"cNMF_3\": colorlist[2], \n",
    "                    \"cNMF_4\": colorlist[3], \"cNMF_5\": colorlist[4]}\n",
    "colormapping_mal[\"cNMF_Outlier\"] = \"grey\"\n",
    "colormapping_mal[\"Carcinoma_undefined\"] = \"grey\"\n",
    "\n",
    "colorlist = palettable.colorbrewer.qualitative.Dark2_8.mpl_colors\n",
    "colorlistbis = palettable.colorbrewer.qualitative.Paired_3.mpl_colors\n",
    "colormapping_pat = {'Aguirre_EGSFR1982': colorlist[0], \n",
    "                    \"Aguirre_EGSFR2218\": colorlist[1], \n",
    "                    \"CCG1153_4411\": colorlist[2], \n",
    "                    \"Aguirre_EGSFR1938\": colorlist[3], \n",
    "                    \"Aguirre_EGSFR0074\": colorlist[4], \n",
    "                    \"Aguirre_EGSFR0128\": colorlist[5], \n",
    "                    \"Aguirre_EGSFR1732\": colorlist[6], \n",
    "                    \"Aguirre_EGSFR0148\": colorlist[7], \n",
    "                    \"CCG1153_4496262\": colorlistbis[0], \n",
    "                    \"CCG1153_6640539\": colorlistbis[1]}"
   ]
  },
  {
   "cell_type": "code",
   "execution_count": null,
   "id": "d416e088",
   "metadata": {},
   "outputs": [],
   "source": [
    "program_dir = pl.Path(\"/add/path/here/cNMF_malignant_per_patient/\")"
   ]
  },
  {
   "cell_type": "code",
   "execution_count": null,
   "id": "1a4cb7c2",
   "metadata": {},
   "outputs": [],
   "source": [
    "program_genes = []\n",
    "usages = []\n",
    "for sample in program_dir.iterdir():\n",
    "    print(\"_________\")\n",
    "    print(sample.stem)\n",
    "    print(\"_________\")\n",
    "    for f in sample.iterdir():\n",
    "        if \"gene_spectra_score\" in f.stem:\n",
    "            df = pd.read_csv(f, index_col=0, sep=\"\\t\").T\n",
    "            df.columns = f\"{sample.stem}_\" + df.columns.astype(str)\n",
    "            program_genes.append(df)\n",
    "        if \"usages\" in f.stem:\n",
    "            df = pd.read_csv(f, index_col=0, sep=\"\\t\")\n",
    "            df.columns = f\"{sample.stem}_\" + df.columns.astype(str)\n",
    "            df = (df.T/df.sum(axis=1)).T\n",
    "            usages.append(df)"
   ]
  },
  {
   "cell_type": "code",
   "execution_count": null,
   "id": "68caee10",
   "metadata": {},
   "outputs": [],
   "source": [
    "programs_to_remove = [\"Aguirre_EGSFR1982_3\",\"Aguirre_EGSFR1982_4\",\"Aguirre_EGSFR1982_5\",\n",
    "                      \"Aguirre_EGSFR2218_3\",\"Aguirre_EGSFR2218_4\",\"CCG1153_4411_5\",\n",
    "                      \"Aguirre_EGSFR1938_5\",\"Aguirre_EGSFR0074_4\",\n",
    "                      \"Aguirre_EGSFR0074_5\",\n",
    "                      \"Aguirre_EGSFR0128_3\",\"Aguirre_EGSFR0128_4\",\"Aguirre_EGSFR0128_5\",\n",
    "                      \"Aguirre_EGSFR1732_4\",\"Aguirre_EGSFR1732_5\",\"Aguirre_EGSFR0148_4\"]"
   ]
  },
  {
   "cell_type": "code",
   "execution_count": null,
   "id": "5f14054b",
   "metadata": {},
   "outputs": [],
   "source": [
    "full_programs = pd.concat(program_genes,axis=1).drop(programs_to_remove,axis=1)"
   ]
  },
  {
   "cell_type": "code",
   "execution_count": null,
   "id": "bef7168e",
   "metadata": {},
   "outputs": [],
   "source": [
    "cossim = pd.DataFrame(cosine_similarity(full_programs.T.fillna(0)),index=full_programs.columns,columns=full_programs.columns)"
   ]
  },
  {
   "cell_type": "code",
   "execution_count": null,
   "id": "221a7565",
   "metadata": {},
   "outputs": [],
   "source": [
    "ax = sns.clustermap(data=cossim, cmap=\"vlag\", \n",
    "               center=0., method=\"average\", )"
   ]
  },
  {
   "cell_type": "code",
   "execution_count": null,
   "id": "4adbb031-00e3-4d87-a968-95153006089b",
   "metadata": {},
   "outputs": [],
   "source": [
    "lnkg = ax.dendrogram_col.linkage\n",
    "\n",
    "clusters = scipy.cluster.hierarchy.fcluster(lnkg, t=5, criterion=\"maxclust\")\n",
    "\n",
    "row_programs = (\"cNMF_\" + pd.Series(clusters, index=full_programs.columns).astype(str)).ravel()\n",
    "pats = list(full_programs.columns.str.split(\"_\").str[:-1])\n",
    "row_pats = [\"_\".join(pat) for pat in pats]\n",
    "\n",
    "row_colors = [[],[]]\n",
    "for i,prog in enumerate(row_programs):\n",
    "    row_colors[0].append(colormapping_mal[prog])\n",
    "    row_colors[1].append(colormapping_pat[row_pats[i]])"
   ]
  },
  {
   "cell_type": "code",
   "execution_count": null,
   "id": "7b27d21e",
   "metadata": {},
   "outputs": [],
   "source": [
    "fig = sns.clustermap(data=cossim, cmap=\"vlag\", \n",
    "               center=0., method=\"average\", row_colors=row_colors, xticklabels=False, yticklabels=False)\n",
    "fig.savefig(\"figures/malignant/clustermap_cnmf.svg\", dpi=300, bbox_inches=\"tight\")"
   ]
  },
  {
   "cell_type": "code",
   "execution_count": null,
   "id": "b7077000",
   "metadata": {},
   "outputs": [],
   "source": [
    "cluster_assignment = pd.Series(clusters, index=full_programs.columns)"
   ]
  },
  {
   "cell_type": "code",
   "execution_count": null,
   "id": "cad5ec33",
   "metadata": {},
   "outputs": [],
   "source": [
    "cell_assignment = []\n",
    "for i in range(len(usages)):\n",
    "    cell_assignment.append(usages[i].idxmax(axis=1))\n",
    "\n",
    "cell_assignment = pd.concat(cell_assignment)\n",
    "\n",
    "outliers = cell_assignment[~cell_assignment.isin(cluster_assignment.index)].index\n",
    "\n",
    "cell_assignment.loc[outliers] = \"Outlier\"\n",
    "\n",
    "cell_assignment = cell_assignment.replace(cluster_assignment.to_dict())\n",
    "cell_assignment = cell_assignment.to_frame()\n",
    "\n",
    "cell_assignment.columns = [\"cNMF_program\"]"
   ]
  },
  {
   "cell_type": "code",
   "execution_count": null,
   "id": "d049b967",
   "metadata": {},
   "outputs": [],
   "source": [
    "cell_confidence = []\n",
    "for i in range(len(usages)):\n",
    "    cell_confidence.append(usages[i].max(axis=1))\n",
    "\n",
    "cell_confidence = pd.concat(cell_confidence).to_frame()\n",
    "cell_confidence.columns = [\"cNMF_confidence\"]"
   ]
  },
  {
   "cell_type": "code",
   "execution_count": null,
   "id": "99547263",
   "metadata": {
    "scrolled": true
   },
   "outputs": [],
   "source": [
    "df = adata.obs.copy()"
   ]
  },
  {
   "cell_type": "code",
   "execution_count": null,
   "id": "f06d1182",
   "metadata": {},
   "outputs": [],
   "source": [
    "df.refined_annotation.loc[cell_assignment.index] =  \"cNMF_\" + cell_assignment.cNMF_program.astype(str).ravel()"
   ]
  },
  {
   "cell_type": "code",
   "execution_count": null,
   "id": "cbd023d1",
   "metadata": {},
   "outputs": [],
   "source": [
    "df.refined_annotation.to_csv(\"../refined_wCNM_programs_new.csv\")"
   ]
  },
  {
   "cell_type": "code",
   "execution_count": null,
   "id": "b98fc930",
   "metadata": {},
   "outputs": [],
   "source": [
    "marker_genes = {}\n",
    "for cl in cluster_assignment.unique():\n",
    "    \n",
    "    sigs = cluster_assignment[cluster_assignment==cl].index\n",
    "    marker_genes[cl] = full_programs[sigs].median(axis=1).sort_values(ascending=False)\n",
    "    marker_genes[cl] = marker_genes[cl].loc[~marker_genes[cl].index.str.startswith((\"MT-\",\"RPS\",\"RPL\"))]"
   ]
  },
  {
   "cell_type": "code",
   "execution_count": null,
   "id": "123e9c46",
   "metadata": {},
   "outputs": [],
   "source": [
    "for cl in marker_genes:\n",
    "    marker_genes[cl].to_csv(f\"/add/path/here/cNMF_{cl}.csv\")"
   ]
  },
  {
   "cell_type": "markdown",
   "id": "418483f6",
   "metadata": {},
   "source": [
    "# Go back to original data"
   ]
  },
  {
   "cell_type": "code",
   "execution_count": null,
   "id": "1f1fd91f",
   "metadata": {},
   "outputs": [],
   "source": [
    "sc.pp.normalize_total(subadata, target_sum=10000)\n",
    "sc.pp.log1p(subadata)"
   ]
  },
  {
   "cell_type": "code",
   "execution_count": null,
   "id": "c1735a4f",
   "metadata": {},
   "outputs": [],
   "source": [
    "if \"cNMF_program\" in subadata.obs.columns:\n",
    "    subadata.obs = subadata.obs.drop(\"cNMF_program\",axis=1)\n",
    "if \"cNMF_confidence\" in subadata.obs.columns:\n",
    "    subadata.obs = subadata.obs.drop(\"cNMF_confidence\",axis=1)\n",
    "\n",
    "subadata.obs = pd.concat([subadata.obs, cell_assignment.astype(str).astype('category')],axis=1)\n",
    "subadata.obs = pd.concat([subadata.obs, cell_confidence],axis=1)\n",
    "\n",
    "subadata.obs[\"Low confidence\"] = (subadata.obs.cNMF_confidence<0.5).astype(int)"
   ]
  },
  {
   "cell_type": "code",
   "execution_count": null,
   "id": "aa124cb5",
   "metadata": {
    "scrolled": true
   },
   "outputs": [],
   "source": [
    "subadata = subadata[~subadata.obs.cNMF_program.isna()].copy()"
   ]
  },
  {
   "cell_type": "code",
   "execution_count": null,
   "id": "665d738b-3bdc-4712-adfa-24a113542824",
   "metadata": {},
   "outputs": [],
   "source": [
    "subadata.obs.cNMF_program = \"cNMF_\" + subadata.obs.cNMF_program.astype(str)"
   ]
  },
  {
   "cell_type": "code",
   "execution_count": null,
   "id": "19d18e5b",
   "metadata": {
    "scrolled": true
   },
   "outputs": [],
   "source": [
    "sc.tl.pca(subadata)\n",
    "sc.pp.neighbors(subadata)\n",
    "sc.tl.umap(subadata)"
   ]
  },
  {
   "cell_type": "code",
   "execution_count": null,
   "id": "6348c144",
   "metadata": {},
   "outputs": [],
   "source": [
    "fig = sc.pl.umap(subadata, color=[\"sample_id\"], palette=colormapping_pat, frameon=False, return_fig=True)\n",
    "fig.savefig(\"figures/malignant/unintegrated_sampleid_umap.png\", dpi=300, bbox_inches=\"tight\")"
   ]
  },
  {
   "cell_type": "code",
   "execution_count": null,
   "id": "2d4de264",
   "metadata": {},
   "outputs": [],
   "source": [
    "itay_MPs = pd.read_csv(\"/add/path/here/ItayTiroshHeterogeneityMPs.csv\")"
   ]
  },
  {
   "cell_type": "code",
   "execution_count": null,
   "id": "f9fe9ba1",
   "metadata": {
    "scrolled": true
   },
   "outputs": [],
   "source": [
    "sorted_gm = sorted(list(marker_genes))\n",
    "mp_similarities = pd.DataFrame(np.zeros((len(sorted_gm),itay_MPs.shape[1])), \n",
    "                               columns=itay_MPs.columns, \n",
    "                               index=[f\"cNMF_{cl}\" for cl in sorted_gm])\n",
    "for cl in sorted_gm:\n",
    "    for mp in itay_MPs.columns:\n",
    "        available = len(np.intersect1d(itay_MPs.loc[:,mp].ravel(),marker_genes[cl].index))\n",
    "        inter = len(np.intersect1d(marker_genes[cl].head(50).index.ravel(),\n",
    "                                                    itay_MPs[mp].ravel()))/available\n",
    "        if inter>0:\n",
    "            print(cl, mp)\n",
    "            print(np.intersect1d(marker_genes[cl].head(50).index.ravel(),\n",
    "                                                    itay_MPs[mp].ravel()))\n",
    "        mp_similarities.loc[f\"cNMF_{cl}\",mp] = inter"
   ]
  },
  {
   "cell_type": "code",
   "execution_count": null,
   "id": "d05b7c09",
   "metadata": {},
   "outputs": [],
   "source": [
    "fig = sns.clustermap(data=mp_similarities, row_cluster=False, col_cluster=False,\n",
    "                    cmap=\"vlag\", vmin=0, vmax=0.2, center=0.01,\n",
    "                    figsize=(12,4))\n",
    "fig.savefig(\"figures/malignant/heatmap_itay_program_comparison.png\", dpi=200, bbox_inches=\"tight\")"
   ]
  },
  {
   "cell_type": "code",
   "execution_count": null,
   "id": "b0a17748-be2e-42a7-ae59-ba2a7bf61e31",
   "metadata": {},
   "outputs": [],
   "source": []
  },
  {
   "cell_type": "code",
   "execution_count": null,
   "id": "2e969e18",
   "metadata": {},
   "outputs": [],
   "source": [
    "for prog in marker_genes:\n",
    "    ssc.score_signature(adata=subadata,\n",
    "                        gene_list=list(marker_genes[prog].head(100).index.ravel()), \n",
    "                        method=\"adjusted_neighborhood_scoring\", \n",
    "                        ctrl_size=150,\n",
    "                        score_name=f\"cNMF_{prog}_score\")"
   ]
  },
  {
   "cell_type": "code",
   "execution_count": null,
   "id": "9e34e672-a4b4-47d2-838e-457fa89b08fa",
   "metadata": {},
   "outputs": [],
   "source": []
  },
  {
   "cell_type": "code",
   "execution_count": null,
   "id": "3a5b66f9-d20d-4fd6-9463-4ee133e53cb4",
   "metadata": {},
   "outputs": [],
   "source": [
    "import numpy as np\n",
    "from sklearn.mixture import GaussianMixture\n",
    "\n",
    "df = subadata.obs[[\"cNMF_1_score\",\"cNMF_3_score\",\"cNMF_4_score\"]].copy()\n",
    "df = (df - df.mean())/df.std()\n",
    "gm = GaussianMixture(n_components=3, random_state=0).fit(df)\n",
    "gm.means_\n",
    "\n",
    "labels = gm.fit_predict(df)\n",
    "confidence = gm.predict_proba(df).max(axis=1)\n",
    "\n",
    "gmm_scores = pd.concat([df,\n",
    "           pd.DataFrame(labels, index=df.index, columns=[\"GMM label\"]),\n",
    "           pd.DataFrame(confidence, index=df.index, columns=[\"GMM confidence\"])],axis=1)\n",
    "\n",
    "gmm_scores[\"Corrected label\"] = gmm_scores[\"GMM label\"]\n",
    "gmm_scores.loc[gmm_scores[\"GMM confidence\"]<0.8,\"Corrected label\"] = 3\n",
    "\n",
    "%matplotlib inline\n",
    "y = gmm_scores[\"Corrected label\"].ravel()\n",
    "\n",
    "Xax = df.iloc[:,0]\n",
    "Yax = df.iloc[:,1]\n",
    "Zax = df.iloc[:,2]\n",
    "\n",
    "cdict = {0:'red',1:'green',2:\"blue\",3:\"grey\"}\n",
    "labl =  gmm_scores.groupby(by=\"GMM label\").mean().drop([\"GMM confidence\",\"Corrected label\"],axis=1).idxmax(axis=1).str.rstrip(\"_score\").to_dict()\n",
    "labl[3] = \"Carcinoma_undefined\"\n",
    "marker = {0:'*',1:'o',2:\"x\",3:\"s\"}\n",
    "alpha = {0:.1, 1:.1, 2:.3,3:.1}"
   ]
  },
  {
   "cell_type": "code",
   "execution_count": null,
   "id": "5f07a0b5-87bd-4c5e-bf43-85d0a96b7289",
   "metadata": {},
   "outputs": [],
   "source": [
    "fig = plt.figure(figsize=(7,5))\n",
    "ax = fig.add_subplot(111, projection='3d')\n",
    "\n",
    "fig.patch.set_facecolor('white')\n",
    "for l in np.unique(y):\n",
    "    ix=np.where(y==l)[0]\n",
    "    ax.scatter(Xax[ix], Yax[ix], Zax[ix], c=cdict[l], s=40,\n",
    "           label=labl[l], marker=marker[l], alpha=alpha[l])\n",
    "# for loop ends\n",
    "ax.set_xlabel(\"cNMF_1\", fontsize=14)\n",
    "ax.set_ylabel(\"cNMF_3\", fontsize=14)\n",
    "ax.set_zlabel(\"cNMF_4\", fontsize=14)\n",
    "\n",
    "ax.legend()\n",
    "ax.view_init(60, 35)\n",
    "fig.tight_layout()"
   ]
  },
  {
   "cell_type": "code",
   "execution_count": null,
   "id": "753d3746-6179-48fd-a0f7-170bfccba3ad",
   "metadata": {},
   "outputs": [],
   "source": [
    "fig = plt.figure(figsize=(7,5))\n",
    "ax = fig.add_subplot(111, projection='3d')\n",
    "\n",
    "fig.patch.set_facecolor('white')\n",
    "for l in np.unique(y):\n",
    "    ix=np.where(y==l)[0]\n",
    "    ax.scatter(Xax[ix], Yax[ix], Zax[ix], c=cdict[l], s=40,\n",
    "           label=labl[l], marker=marker[l], alpha=alpha[l])\n",
    "# for loop ends\n",
    "ax.set_xlabel(\"cNMF_1\", fontsize=14)\n",
    "ax.set_ylabel(\"cNMF_3\", fontsize=14)\n",
    "ax.set_zlabel(\"cNMF_4\", fontsize=14)\n",
    "\n",
    "ax.legend()\n",
    "fig.tight_layout()"
   ]
  },
  {
   "cell_type": "code",
   "execution_count": null,
   "id": "2d7a70c5-459a-4a53-8775-720e89feb1cb",
   "metadata": {},
   "outputs": [],
   "source": [
    "gmm_scores[[\"cNMF_1_score\",\"cNMF_3_score\",\"cNMF_4_score\",\"GMM label\"]].groupby(by=\"GMM label\").mean()"
   ]
  },
  {
   "cell_type": "code",
   "execution_count": null,
   "id": "4be71741-f416-4f1f-9518-f1f3162d9caf",
   "metadata": {},
   "outputs": [],
   "source": [
    "subadata.obs = pd.concat([subadata.obs,gmm_scores[\"Corrected label\"].replace(labl)],axis=1)"
   ]
  },
  {
   "cell_type": "code",
   "execution_count": null,
   "id": "7eb37bf2-47d0-43c6-b430-80d10db2cb38",
   "metadata": {},
   "outputs": [],
   "source": [
    "cell_idx = []\n",
    "df = subadata.obs[[\"sample_id\",\"Corrected label\"]]\n",
    "for sample_name in df.sample_id.unique():\n",
    "    subdf = df.loc[df.sample_id==sample_name]\n",
    "    vc = subdf[\"Corrected label\"].value_counts()\n",
    "    toremove = vc[vc<25].index.to_numpy()\n",
    "    if len(toremove)>0:\n",
    "        cell_idx.append(subdf[subdf[\"Corrected label\"].isin(toremove)].index.to_numpy())\n",
    "\n",
    "cell_idx = np.hstack(cell_idx)\n",
    "\n",
    "subadata.obs.loc[cell_idx,\"Corrected label\"] = \"Carcinoma_undefined\""
   ]
  },
  {
   "cell_type": "code",
   "execution_count": null,
   "id": "ac3173b6-f2f2-4209-aa2f-cc7e2afa1f8b",
   "metadata": {},
   "outputs": [],
   "source": [
    "fig = sc.pl.umap(subadata, color=[\"Corrected label\"], palette=colormapping_mal, frameon=False, return_fig=True)\n",
    "fig.savefig(\"figures/malignant/unintegrated_cNMF_umap.png\", dpi=300, bbox_inches=\"tight\")"
   ]
  },
  {
   "cell_type": "code",
   "execution_count": null,
   "id": "9b4fb106-03be-445c-816b-536187f34531",
   "metadata": {},
   "outputs": [],
   "source": []
  },
  {
   "cell_type": "code",
   "execution_count": null,
   "id": "998d7603",
   "metadata": {},
   "outputs": [],
   "source": [
    "fig, axs = plt.subplots(3,2, figsize=(10,10))\n",
    "flatax = axs.flatten()\n",
    "for i,ax in enumerate(flatax[:-1]):\n",
    "    sns.boxplot(data=subadata.obs, x=\"Corrected label\", y=f\"cNMF_{i+1}_score\", palette=colormapping_mal, ax=flatax[i])\n",
    "    flatax[i].spines[['right', 'top']].set_visible(False)\n",
    "    flatax[i].set_xticklabels(ax.get_xticklabels(), rotation=45, ha=\"right\")\n",
    "    flatax[i].hlines(y=0, xmin=flatax[i].get_xlim()[0], xmax=flatax[i].get_xlim()[1], linestyles=\"dashed\", color=\"grey\")\n",
    "    flatax[i].set_xlabel(\"\")\n",
    "flatax[-1].axis(\"off\")\n",
    "fig.tight_layout()\n",
    "fig.savefig(\"figures/malignant/boxplot_cNMF_score_per_group.png\", dpi=250, bbox_inches=\"tight\")"
   ]
  },
  {
   "cell_type": "code",
   "execution_count": null,
   "id": "a07f5fa0-38f2-481b-802a-a91a0b3bf494",
   "metadata": {},
   "outputs": [],
   "source": []
  },
  {
   "cell_type": "code",
   "execution_count": null,
   "id": "5aa7a22e",
   "metadata": {},
   "outputs": [],
   "source": [
    "df = subadata.obs[[\"cNMF_1_score\",\"cNMF_3_score\",\"cNMF_4_score\"]]\n",
    "\n",
    "g = sns.PairGrid(df, diag_sharey=False, corner=True)\n",
    "g.map_lower(sns.kdeplot)\n",
    "g.map_diag(sns.histplot)\n",
    "g.fig.savefig(\"figures/malignant/cNMF_pairgrid_relbetweenscore.png\", dpi=300, bbox_inches=\"tight\")"
   ]
  },
  {
   "cell_type": "code",
   "execution_count": null,
   "id": "1cea90d3",
   "metadata": {
    "scrolled": true
   },
   "outputs": [],
   "source": [
    "gsea_results_scanpy = {}\n",
    "for cl in sorted(subadata.obs.cNMF_program.unique()):\n",
    "    if cl==\"Outlier\":\n",
    "        continue\n",
    "    \n",
    "    #df = group_markers[cl][[\"names\",\"scores\"]].set_index(\"names\")\n",
    "    df = marker_genes[int(cl)].to_frame()\n",
    "    pre_res = gp.prerank(rnk=df, # or rnk = rnk,\n",
    "                         s\n",
    "                         threads=4,\n",
    "                         min_size=5,\n",
    "                         max_size=1000,\n",
    "                         permutation_num=1000, # reduce number to speed up testing\n",
    "                         outdir=None, # don't write to disk\n",
    "                         seed=6,\n",
    "                         verbose=True, # see what's going on behind the scenes\n",
    "                        )\n",
    "\n",
    "    gsea_results_scanpy[cl] = pre_res.res2d.sort_values(by=\"NES\",ascending=False)\n",
    "    gsea_results_scanpy[cl][\"cluster\"] = cl"
   ]
  },
  {
   "cell_type": "code",
   "execution_count": null,
   "id": "d2fc318f",
   "metadata": {},
   "outputs": [],
   "source": [
    "gsea_df = pd.concat(list(gsea_results_scanpy.values())).set_index(\"Term\")"
   ]
  },
  {
   "cell_type": "code",
   "execution_count": null,
   "id": "929eb180",
   "metadata": {},
   "outputs": [],
   "source": [
    "def gsea_df_plot(gsea_df):\n",
    "    ms_names = gsea_df[\"cluster\"].unique()\n",
    "    \n",
    "    gsea_df = gsea_df[(gsea_df[\"FWER p-val\"]<0.05) & (gsea_df[\"NES\"]>=2)]\n",
    "\n",
    "    gsea_heatmap_df = pd.DataFrame(columns=ms_names)\n",
    "    sign_hallmarks = np.unique((gsea_df[gsea_df.NES>=1]).index)\n",
    "    \n",
    "    for hm in sign_hallmarks:\n",
    "        df = gsea_df[[\"NES\",\"cluster\"]].loc[[hm]].set_index(\"cluster\").T\n",
    "        df.index = [hm]\n",
    "        gsea_heatmap_df = pd.concat([gsea_heatmap_df,df])\n",
    "\n",
    "    fig, ax = plt.subplots(1,1,figsize=(len(ms_names),len(sign_hallmarks)))\n",
    "\n",
    "    annot = gsea_heatmap_df.applymap(lambda x: np.nan if x<1 else x).round(2)\n",
    "    annot = annot.fillna(\"\").astype(str)\n",
    "\n",
    "    sns.heatmap(gsea_heatmap_df.fillna(0),cmap=\"vlag\",center=2.,vmax=2.5,mask=gsea_heatmap_df.isnull(),annot=annot,fmt=\"\",ax=ax)\n",
    "    ax.set_xticklabels(ax.get_xticklabels(),rotation=45,horizontalalignment=\"right\")\n",
    "    return fig"
   ]
  },
  {
   "cell_type": "code",
   "execution_count": null,
   "id": "1509ac32",
   "metadata": {},
   "outputs": [],
   "source": [
    "fig = gsea_df_plot(gsea_df)"
   ]
  },
  {
   "cell_type": "code",
   "execution_count": null,
   "id": "7f1369a3",
   "metadata": {},
   "outputs": [],
   "source": [
    "patlevel_counts = subadata.copy()\n",
    "patlevel_counts = patlevel_counts.obs[[\"sample_id\",\"Corrected label\"]]\n",
    "\n",
    "patlevel_counts = patlevel_counts.groupby(by=\"sample_id\").value_counts(normalize=True)\n",
    "\n",
    "df = patlevel_counts.unstack(level=-1)\n",
    "df = df.loc[clinical.index.intersection(df.index)]\n",
    "\n",
    "fig, ax = plt.subplots(1,1,figsize=(6,3))\n",
    "df.plot (kind = 'bar', stacked = True, ax=ax, color=colormapping_mal)\n",
    "ax.legend(bbox_to_anchor=(1.05, 1), frameon=False)\n",
    "ax.spines[['right', 'top']].set_visible(False)\n",
    "ax.set_xlabel(\"\")\n",
    "ax.set_title(\"Patient distribution\")\n",
    "ax.set_xticklabels(ax.get_xticklabels(), rotation=45, ha=\"right\")\n",
    "fig.savefig(\"figures/malignant/barplot_pat_vs_cNMF_distribution.svg\", dpi=200, bbox_inches=\"tight\")"
   ]
  },
  {
   "cell_type": "code",
   "execution_count": null,
   "id": "683ed3ce",
   "metadata": {},
   "outputs": [],
   "source": [
    "patlevel_counts = subadata.copy()\n",
    "patlevel_counts = patlevel_counts.obs[[\"sample_id\",\"Corrected label\"]]\n",
    "patlevel_counts = patlevel_counts.groupby(by=\"Corrected label\").value_counts(normalize=True)\n",
    "\n",
    "df = patlevel_counts.unstack(level=-1)\n",
    "\n",
    "fig, ax = plt.subplots(1,1,figsize=(6,3))\n",
    "df.plot (kind = 'bar', stacked = True, ax=ax, color=colormapping_pat)\n",
    "ax.legend(bbox_to_anchor=(1.05, 1), frameon=False)\n",
    "ax.spines[['right', 'top']].set_visible(False)\n",
    "ax.set_xlabel(\"\")\n",
    "ax.set_title(\"Patient distribution\")\n",
    "ax.set_xticklabels(ax.get_xticklabels(), rotation=45, ha=\"right\")\n",
    "fig.savefig(\"figures/malignant/barplot_cNMF_vs_pat_distribution.svg\", dpi=200, bbox_inches=\"tight\")"
   ]
  },
  {
   "cell_type": "code",
   "execution_count": null,
   "id": "f42e8cd4",
   "metadata": {},
   "outputs": [],
   "source": [
    "patlevel_counts = subadata.copy()\n",
    "patlevel_counts = patlevel_counts.obs[[\"Location\",\"Corrected label\"]]\n",
    "patlevel_counts = patlevel_counts.groupby(by=\"Location\").value_counts(normalize=True)\n",
    "\n",
    "df = patlevel_counts.unstack(level=-1)\n",
    "\n",
    "fig, ax = plt.subplots(1,1,figsize=(6,3))\n",
    "df.plot (kind = 'bar', stacked = True, ax=ax, color=colormapping_mal)\n",
    "ax.legend(bbox_to_anchor=(1.05, 1), frameon=False)\n",
    "ax.spines[['right', 'top']].set_visible(False)\n",
    "ax.set_xlabel(\"\")\n",
    "ax.set_title(\"Location\")\n",
    "ax.set_xticklabels(ax.get_xticklabels(), rotation=45, ha=\"right\")\n",
    "fig.savefig(\"figures/malignant/barplot_cNMF_vs_location_distribution.svg\", dpi=200, bbox_inches=\"tight\")"
   ]
  },
  {
   "cell_type": "code",
   "execution_count": null,
   "id": "926dac77",
   "metadata": {},
   "outputs": [],
   "source": [
    "patlevel_counts = subadata.copy()\n",
    "patlevel_counts = patlevel_counts.obs[[\"Metastatic\",\"Corrected label\"]]\n",
    "patlevel_counts = patlevel_counts.groupby(by=\"Metastatic\").value_counts(normalize=True)\n",
    "\n",
    "df = patlevel_counts.unstack(level=-1)\n",
    "\n",
    "fig, ax = plt.subplots(1,1,figsize=(6,3))\n",
    "df.plot (kind = 'bar', stacked = True, ax=ax, color=colormapping_mal)\n",
    "ax.legend(bbox_to_anchor=(1.05, 1), frameon=False)\n",
    "ax.spines[['right', 'top']].set_visible(False)\n",
    "ax.set_xlabel(\"\")\n",
    "ax.set_title(\"Metastatic site\")\n",
    "ax.set_xticklabels(ax.get_xticklabels(), rotation=45, ha=\"right\")\n",
    "fig.savefig(\"figures/malignant/barplot_cNMF_vs_metastatic_distribution.svg\", dpi=200, bbox_inches=\"tight\")"
   ]
  },
  {
   "cell_type": "code",
   "execution_count": null,
   "id": "de0a9dd5",
   "metadata": {},
   "outputs": [],
   "source": [
    "patlevel_counts = subadata.copy()\n",
    "patlevel_counts = patlevel_counts.obs.loc[subadata.obs.Location!=\"Esophagus/GEJ\",[\"Treatment Naïve\",\"Corrected label\"]]\n",
    "patlevel_counts = patlevel_counts.groupby(by=\"Treatment Naïve\").value_counts(normalize=True)\n",
    "\n",
    "df = patlevel_counts.unstack(level=-1)\n",
    "df = df.loc[[\"Yes\",\"No\"]]\n",
    "\n",
    "fig, ax = plt.subplots(1,1,figsize=(6,3))\n",
    "df.plot (kind = 'bar', stacked = True, ax=ax, color=colormapping_mal)\n",
    "ax.legend(bbox_to_anchor=(1.05, 1), frameon=False)\n",
    "ax.spines[['right', 'top']].set_visible(False)\n",
    "ax.set_xlabel(\"\")\n",
    "ax.set_title(\"Treatment naïve, Metastatic sites\" )\n",
    "ax.set_xticklabels(ax.get_xticklabels(), rotation=45, ha=\"right\")\n",
    "fig.savefig(\"figures/malignant/barplot_cNMF_vs_metastatic_treatmentnaive_distribution.svg\", dpi=200, bbox_inches=\"tight\")"
   ]
  },
  {
   "cell_type": "code",
   "execution_count": null,
   "id": "dbec89f9-3077-499f-8d80-c985e790fc4e",
   "metadata": {},
   "outputs": [],
   "source": []
  },
  {
   "cell_type": "code",
   "execution_count": null,
   "id": "349b7191",
   "metadata": {},
   "outputs": [],
   "source": [
    "highlevel_annot = {\"Quiescent EC\": \"Endothelial\", \"Venous EC\": \"Endothelial\",\n",
    "                   \"Hepatocyte\": \"Epithelial\", \n",
    "                   \"Smooth muscle\": \"Stromal/Muscle\", \"TAM1\": \"Myeloid\", \n",
    "                   \"TAM2\": \"Myeloid\", \"Inflammatory CAF\": \"Fibroblast\", \n",
    "                   \"TCD4\": \"Lymphoid\", \"Skeletal muscle\": \"Stromal/Muscle\", \n",
    "                   \"TCD8\": \"Lymphoid\", \"TAM3\": \"Myeloid\", \"B\": \"Lymphoid\", \n",
    "                   \"Angiogenic EC\": \"Endothelial\", \"DC\": \"Myeloid\", \n",
    "                   \"Hepatic EC\": \"Endothelial\", \"HGF-CAF\": \"Fibroblast\",\n",
    "                   \"Kupffer cells\": \"Myeloid\", \n",
    "                   \"Treg\": \"Lymphoid\", \"NK\": \"Lymphoid\", \n",
    "                   \"Myeloid-HighMT\": \"Myeloid\", \"Adipose CAF\": \"Fibroblast\", \"T-HighMT\": \"Lymphoid\", \n",
    "                   \"Mast\": \"Myeloid\", \"Adipocytes\": \"Stromal/Muscle\",}\n",
    "\n",
    "malannot = subadata.obs[\"Corrected label\"].astype(str)\n",
    "df = pd.concat([adata.obs[[\"refined_annotation\",\"sample_id\"]].astype(str),malannot],axis=1)\n",
    "df[\"refined_wcancer\"] = df[\"Corrected label\"].fillna(df.refined_annotation)\n",
    "\n",
    "df[\"highlevel_annotation\"] = df[\"refined_annotation\"].replace(highlevel_annot)"
   ]
  },
  {
   "cell_type": "code",
   "execution_count": null,
   "id": "541c2d1c",
   "metadata": {},
   "outputs": [],
   "source": [
    "df.to_csv(\"../refined_wCNMF_programs_and_sampleid.csv\")"
   ]
  },
  {
   "cell_type": "code",
   "execution_count": null,
   "id": "6dadb3f3",
   "metadata": {},
   "outputs": [],
   "source": [
    "df.refined_wcancer.value_counts()"
   ]
  },
  {
   "cell_type": "code",
   "execution_count": null,
   "id": "23bdab7a-7275-4519-971c-8f31534da143",
   "metadata": {},
   "outputs": [],
   "source": []
  }
 ],
 "metadata": {
  "kernelspec": {
   "display_name": "Python 3 (ipykernel)",
   "language": "python",
   "name": "python3"
  },
  "language_info": {
   "codemirror_mode": {
    "name": "ipython",
    "version": 3
   },
   "file_extension": ".py",
   "mimetype": "text/x-python",
   "name": "python",
   "nbconvert_exporter": "python",
   "pygments_lexer": "ipython3",
   "version": "3.9.16"
  }
 },
 "nbformat": 4,
 "nbformat_minor": 5
}
