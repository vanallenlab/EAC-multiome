{
 "cells": [
  {
   "cell_type": "code",
   "execution_count": null,
   "id": "adb4f030-2da4-48a9-86c2-dfab2f291670",
   "metadata": {},
   "outputs": [],
   "source": [
    "import scanpy as sc\n",
    "import pandas as pd\n",
    "import numpy as np\n",
    "import matplotlib.pyplot as plt\n",
    "import seaborn as sns\n",
    "\n",
    "import pathlib as pl\n",
    "\n",
    "from tqdm.notebook import tqdm\n",
    "\n",
    "import palettable"
   ]
  },
  {
   "cell_type": "markdown",
   "id": "f8e44daf-aaf1-48df-95d4-1056f6977ad1",
   "metadata": {},
   "source": [
    "# Download data"
   ]
  },
  {
   "cell_type": "code",
   "execution_count": null,
   "id": "0b549117",
   "metadata": {},
   "outputs": [],
   "source": [
    "datadir = pl.Path(\"/add/path/here/\")\n",
    "\n",
    "adatas = []\n",
    "for f in tqdm(datadir.iterdir()):\n",
    "    sample = sc.read_h5ad(f)\n",
    "    sample.obs[\"sample_id\"] = [f.stem]*sample.obs.shape[0]\n",
    "    adatas.append(sample)\n",
    "\n",
    "adata = adatas[0].concatenate(*adatas[1:])"
   ]
  },
  {
   "cell_type": "code",
   "execution_count": null,
   "id": "c9981303",
   "metadata": {},
   "outputs": [],
   "source": [
    "highlevel_ct_mapping = {\"?\": \"Unknown/technical\", \n",
    "                        \"MT-high\": \"Unknown/technical\", \n",
    "                        \"Nerve\": \"Nerve/adrenal\", \n",
    "                        \"Parietal cells\": \"Epithelial\", \n",
    "                        \"Fibroblast/CAF\": \"Stromal/Muscle\", \n",
    "                        \"CAF/Fibroblast\": \"Stromal/Muscle\", \n",
    "                        \"Smooth muscle\": \"Stromal/Muscle\", \n",
    "                        \"Adipocyte\": \"Stromal/Muscle\"}"
   ]
  },
  {
   "cell_type": "code",
   "execution_count": null,
   "id": "f429f091",
   "metadata": {},
   "outputs": [],
   "source": [
    "adata.obs[\"highlevel_celltype\"] = adata.obs.celltype.replace(highlevel_ct_mapping)"
   ]
  },
  {
   "cell_type": "code",
   "execution_count": null,
   "id": "3ed73349-4c99-4d2e-863d-5677a844ac2f",
   "metadata": {},
   "outputs": [],
   "source": [
    "clinical = pd.read_csv(\"/add/path/here/EAC_clinical_info.csv\",index_col=0)\n",
    "treatment_mapping = {\"Neoadjuvant CROSS\": \"Neoadj. chemo\", \"Neoadjuvent carboplatin\": \"Neoadj. chemo\"}\n",
    "metastatic = (clinical[\"Tumor?\"]==\"Yes \") & (clinical[\"Site\"].str.contains(\"metastasis\"))\n",
    "metastatic.name = \"Metastatic?\"\n",
    "clinical[\"Metastatic?\"] = metastatic\n",
    "\n",
    "clinical[\"Location\"] = clinical[\"Site\"].replace({\"GEJ\": \"Esophagus/GEJ\", \n",
    "                          \"Esophagus\": \"Esophagus/GEJ\"})\n",
    "clinical[\"Location\"][clinical[\"Location\"].str.contains(\"Liver\")] = \"Liver\"\n",
    "clinical[\"Location\"][clinical[\"Location\"].str.contains(\"Adrenal\")] = \"Adrenal gland\"\n",
    "clinical[\"Location\"][clinical[\"Location\"].str.contains(\"Peritoneal\")] = \"Peritoneum\"\n",
    "\n",
    "clinical[\"Stage\"] = clinical[\"Grade/stage\"].replace({\"Stage IV \": \"IV\", \"Stage IV\": \"IV\", \n",
    "                                                     \"Moderately differentiated; ypT1aN0\": \"I\", \n",
    "                                                     \"Moderately differentiated; pT1aN0\": \"I\", \n",
    "                                                     \"Poorly differentiated; ypT2N0\": \"II\", \n",
    "                                                     \"Presented with stage III became stage IV during esophagectomy when pleural metastases were identified\": \"III/IV\"})\n",
    "\n",
    "clinical[\"Treatment\"] = [\"Neoadj. chemo\",\n",
    "                         \"None\",\n",
    "                         \"Neoadj. chemo + ICI + RT\",\n",
    "                         \"None\",\n",
    "                         \"None\",\n",
    "                         \"Chemo + HER2 targeted + ICI\", \n",
    "                         \"Neoadj. chemo + HER2 targeted\", \n",
    "                         \"Neoadj. chemo + ICI\", \n",
    "                         \"None\",\n",
    "                         \"Neoadj. chemo + VEGFR2i\"]\n",
    "\n",
    "clinical[\"HER2 status\"] = clinical[\"HER2\"].replace({\"HER 2 1+\": \"1+/equivocal\"})\n",
    "\n",
    "clinical = clinical.sort_values(by=[\"Tumor?\",\"Metastatic?\",\"Location\"])\n",
    "\n",
    "clinical[\"PD-L1 CPS score\"] = [0,2,7,2,3,24,0,8,3,15]"
   ]
  },
  {
   "cell_type": "markdown",
   "id": "078df7ff",
   "metadata": {},
   "source": [
    "# Saving refined annotations"
   ]
  },
  {
   "cell_type": "code",
   "execution_count": null,
   "id": "fb46c745",
   "metadata": {},
   "outputs": [],
   "source": [
    "refined_annotations = pd.DataFrame(index=adata.obs_names, columns=[\"Annotation\"])"
   ]
  },
  {
   "cell_type": "markdown",
   "id": "31a9d1b5",
   "metadata": {},
   "source": [
    "# T/NK cells"
   ]
  },
  {
   "cell_type": "code",
   "execution_count": null,
   "id": "2ac20b88",
   "metadata": {},
   "outputs": [],
   "source": [
    "subadata = adata[adata.obs[\"highlevel_celltype\"]==\"T/NK\"].copy()"
   ]
  },
  {
   "cell_type": "code",
   "execution_count": null,
   "id": "eae12774",
   "metadata": {},
   "outputs": [],
   "source": [
    "refined_annotations.loc[subadata[subadata.obs.pct_counts_mt>=15].obs_names] = \"T-HighMT\""
   ]
  },
  {
   "cell_type": "code",
   "execution_count": null,
   "id": "f0819af1",
   "metadata": {},
   "outputs": [],
   "source": [
    "subadata = subadata[subadata.obs[\"pct_counts_mt\"]<15].copy()"
   ]
  },
  {
   "cell_type": "code",
   "execution_count": null,
   "id": "06639c5e",
   "metadata": {
    "scrolled": true
   },
   "outputs": [],
   "source": [
    "subadata.shape"
   ]
  },
  {
   "cell_type": "code",
   "execution_count": null,
   "id": "19c7fa96",
   "metadata": {},
   "outputs": [],
   "source": [
    "sc.tl.pca(subadata)"
   ]
  },
  {
   "cell_type": "code",
   "execution_count": null,
   "id": "f2f01913",
   "metadata": {},
   "outputs": [],
   "source": [
    "sc.external.pp.harmony_integrate(subadata, sigma=0.5,\n",
    "                                 key=\"sample_id\", \n",
    "                                 max_iter_harmony=20)"
   ]
  },
  {
   "cell_type": "code",
   "execution_count": null,
   "id": "1dcae1bf",
   "metadata": {
    "scrolled": true
   },
   "outputs": [],
   "source": [
    "sc.pp.neighbors(subadata, use_rep=\"X_pca_harmony\")"
   ]
  },
  {
   "cell_type": "code",
   "execution_count": null,
   "id": "01f57ede",
   "metadata": {},
   "outputs": [],
   "source": [
    "sc.tl.umap(subadata)"
   ]
  },
  {
   "cell_type": "code",
   "execution_count": null,
   "id": "c4e16444",
   "metadata": {},
   "outputs": [],
   "source": [
    "sc.pl.umap(subadata, color=[\"celltype\", \"sample_id\", \"log1p_total_counts\", \"pct_counts_mt\"], ncols=1)"
   ]
  },
  {
   "cell_type": "code",
   "execution_count": null,
   "id": "feaf7e8b",
   "metadata": {},
   "outputs": [],
   "source": [
    "sc.tl.leiden(subadata, resolution=0.5)"
   ]
  },
  {
   "cell_type": "code",
   "execution_count": null,
   "id": "c7d3e8b4",
   "metadata": {},
   "outputs": [],
   "source": [
    "sc.pl.umap(subadata, color=[\"sample_id\", \"leiden\"], ncols=1)"
   ]
  },
  {
   "cell_type": "code",
   "execution_count": null,
   "id": "01940d80",
   "metadata": {},
   "outputs": [],
   "source": [
    "sc.pl.umap(subadata, color=[\"CD4\",\"CD8B\",\"FOXP3\",\"NKG7\",\"CD3E\",\"CD3G\", \"GZMA\"], ncols=2)"
   ]
  },
  {
   "cell_type": "code",
   "execution_count": null,
   "id": "886260e0",
   "metadata": {},
   "outputs": [],
   "source": [
    "sc.tl.rank_genes_groups(subadata, groupby=\"leiden\")"
   ]
  },
  {
   "cell_type": "code",
   "execution_count": null,
   "id": "48d98cf7",
   "metadata": {},
   "outputs": [],
   "source": [
    "sc.tl.dendrogram(subadata, groupby=\"leiden\", use_rep=\"X_pca_harmony\")"
   ]
  },
  {
   "cell_type": "code",
   "execution_count": null,
   "id": "cfa2d34f",
   "metadata": {},
   "outputs": [],
   "source": [
    "sc.pl.rank_genes_groups_heatmap(subadata, n_genes=5, use_raw=False, swap_axes=True, vmax=3, cmap='bwr')"
   ]
  },
  {
   "cell_type": "code",
   "execution_count": null,
   "id": "16d0a57c",
   "metadata": {},
   "outputs": [],
   "source": [
    "sc.pl.umap(subadata, color=[\"leiden\"], ncols=1)"
   ]
  },
  {
   "cell_type": "code",
   "execution_count": null,
   "id": "6f6731b0",
   "metadata": {},
   "outputs": [],
   "source": [
    "sc.get.rank_genes_groups_df(subadata, group=\"5\").sort_values(by=\"scores\",ascending=False).head(20)"
   ]
  },
  {
   "cell_type": "code",
   "execution_count": null,
   "id": "b74fbe83",
   "metadata": {},
   "outputs": [],
   "source": [
    "manual_annotations = {\"0\": \"TCD4\", \n",
    "                      \"1\": \"TCD4\", \n",
    "                      \"2\": \"TCD8\", \n",
    "                      \"3\": \"NK\", \n",
    "                      \"4\": \"Treg\", \n",
    "                      \"5\": \"B\", \n",
    "                      \"6\": \"Mast\",}"
   ]
  },
  {
   "cell_type": "code",
   "execution_count": null,
   "id": "53ae4915",
   "metadata": {},
   "outputs": [],
   "source": [
    "subadata.obs[\"lowlevel_celltype\"] = subadata.obs.leiden.replace(manual_annotations)"
   ]
  },
  {
   "cell_type": "code",
   "execution_count": null,
   "id": "86b06b98",
   "metadata": {},
   "outputs": [],
   "source": [
    "fig = sc.pl.umap(subadata[~subadata.obs.lowlevel_celltype.isin([\"B\",\"Mast\"])], color=[\"lowlevel_celltype\"], return_fig=True)\n",
    "fig.axes[0].spines[['right', 'top']].set_visible(False)\n",
    "fig.axes[0].set_title(\"Cell type\")"
   ]
  },
  {
   "cell_type": "code",
   "execution_count": null,
   "id": "862a34b3",
   "metadata": {},
   "outputs": [],
   "source": [
    "fig = sc.pl.umap(subadata[~subadata.obs.lowlevel_celltype.isin([\"B\",\"Mast\"])], color=[\"sample_id\"], return_fig=True)\n",
    "fig.axes[0].spines[['right', 'top']].set_visible(False)\n",
    "fig.axes[0].set_title(\"Sample ID\")"
   ]
  },
  {
   "cell_type": "code",
   "execution_count": null,
   "id": "93d5b2e2-2696-4ae1-9d51-744eed7f1c04",
   "metadata": {},
   "outputs": [],
   "source": [
    "refined_annotations.loc[subadata.obs_names,\"Annotation\"] = subadata.obs.lowlevel_celltype.ravel()"
   ]
  },
  {
   "cell_type": "markdown",
   "id": "1c3f58b4",
   "metadata": {},
   "source": [
    "# Macrophages"
   ]
  },
  {
   "cell_type": "code",
   "execution_count": null,
   "id": "00c02039",
   "metadata": {},
   "outputs": [],
   "source": [
    "subadata = adata[adata.obs[\"highlevel_celltype\"]==\"Macrophage\"].copy()"
   ]
  },
  {
   "cell_type": "code",
   "execution_count": null,
   "id": "84ca2ff4",
   "metadata": {},
   "outputs": [],
   "source": [
    "refined_annotations.loc[subadata[subadata.obs.pct_counts_mt>=15].obs_names,\"Annotation\"] = \"Myeloid-HighMT\""
   ]
  },
  {
   "cell_type": "code",
   "execution_count": null,
   "id": "00ff405c",
   "metadata": {},
   "outputs": [],
   "source": [
    "subadata = subadata[subadata.obs[\"pct_counts_mt\"]<15].copy()"
   ]
  },
  {
   "cell_type": "code",
   "execution_count": null,
   "id": "70245a08",
   "metadata": {},
   "outputs": [],
   "source": [
    "subadata.shape"
   ]
  },
  {
   "cell_type": "code",
   "execution_count": null,
   "id": "083c1a05",
   "metadata": {},
   "outputs": [],
   "source": [
    "sc.tl.pca(subadata)"
   ]
  },
  {
   "cell_type": "code",
   "execution_count": null,
   "id": "5ebb1036",
   "metadata": {},
   "outputs": [],
   "source": [
    "sc.external.pp.harmony_integrate(subadata, \n",
    "                                 key=\"sample_id\", \n",
    "                                 max_iter_harmony=20, sigma=0.1)"
   ]
  },
  {
   "cell_type": "code",
   "execution_count": null,
   "id": "7d6e6173",
   "metadata": {},
   "outputs": [],
   "source": [
    "sc.pp.neighbors(subadata, use_rep=\"X_pca_harmony\")"
   ]
  },
  {
   "cell_type": "code",
   "execution_count": null,
   "id": "5b61b30e",
   "metadata": {},
   "outputs": [],
   "source": [
    "sc.tl.umap(subadata)"
   ]
  },
  {
   "cell_type": "code",
   "execution_count": null,
   "id": "c4c2ae11",
   "metadata": {},
   "outputs": [],
   "source": [
    "sc.pl.umap(subadata, color=[\"celltype\", \"sample_id\", \"log1p_total_counts\", \"pct_counts_mt\"], ncols=1)"
   ]
  },
  {
   "cell_type": "code",
   "execution_count": null,
   "id": "77151ac7",
   "metadata": {},
   "outputs": [],
   "source": [
    "sc.tl.leiden(subadata, resolution=0.4)"
   ]
  },
  {
   "cell_type": "code",
   "execution_count": null,
   "id": "fdc56b39",
   "metadata": {},
   "outputs": [],
   "source": [
    "sc.pl.umap(subadata, color=[\"sample_id\", \"leiden\"], ncols=1)"
   ]
  },
  {
   "cell_type": "code",
   "execution_count": null,
   "id": "e229654f",
   "metadata": {},
   "outputs": [],
   "source": [
    "sc.tl.rank_genes_groups(subadata, groupby=\"leiden\")"
   ]
  },
  {
   "cell_type": "code",
   "execution_count": null,
   "id": "6597c701",
   "metadata": {},
   "outputs": [],
   "source": [
    "sc.tl.dendrogram(subadata, groupby=\"leiden\", use_rep=\"X_pca_harmony\")"
   ]
  },
  {
   "cell_type": "code",
   "execution_count": null,
   "id": "36e4bbcf",
   "metadata": {},
   "outputs": [],
   "source": [
    "sc.pl.rank_genes_groups_heatmap(subadata, n_genes=4, use_raw=False, swap_axes=True, vmax=3, cmap='bwr')"
   ]
  },
  {
   "cell_type": "markdown",
   "id": "9f96c615",
   "metadata": {},
   "source": [
    "References: \n",
    "- GPNMB https://www.frontiersin.org/articles/10.3389/fimmu.2021.674739/full\n",
    "- CTSD https://www.ncbi.nlm.nih.gov/pmc/articles/PMC3108842/, https://www.ncbi.nlm.nih.gov/pmc/articles/PMC7746538/\n",
    "- FKBP51 https://www.nature.com/articles/s41416-020-0840-8\n",
    "- PDE4D (degrades cAMP) https://www.ncbi.nlm.nih.gov/pmc/articles/PMC6199465/#:~:text=(A)%20PDE4%20regulates%20the%20production,via%20the%20degradation%20of%20cAMP.\n",
    "- MRC1 https://www.frontiersin.org/articles/10.3389/fimmu.2019.01084/full\n",
    "- CD163 https://www.ncbi.nlm.nih.gov/pmc/articles/PMC7432735/\n",
    "- ZBTB16 (=PLZF) https://www.ncbi.nlm.nih.gov/pmc/articles/PMC4321291/\n",
    "- RORA https://www.ncbi.nlm.nih.gov/pmc/articles/PMC6261595/\n",
    "- LRRK2 https://www.biorxiv.org/content/10.1101/2022.12.17.520834v2\n",
    "- ITGA4 (=CD49b) https://genomebiology.biomedcentral.com/articles/10.1186/s13059-017-1362-4\n",
    "- VISR (=VISTA) https://www.frontiersin.org/articles/10.3389/fimmu.2019.02641/full\n",
    "- IL1R2 https://www.frontiersin.org/articles/10.3389/fimmu.2022.804641/full\n",
    "- TCF7L2 https://www.frontiersin.org/articles/10.3389/fcvm.2021.701279/full#:~:text=TCF7L2%20Promotes%20M2%20Polarization,macrophages%20in%20the%20vascular%20wall. \n",
    "- AOAH https://elifesciences.org/articles/70938\n",
    "- HDAC9 https://www.ncbi.nlm.nih.gov/pmc/articles/PMC9356872/\n",
    "- general macrophage signatures https://www.cell.com/trends/immunology/fulltext/S1471-4906(22)00094-1"
   ]
  },
  {
   "cell_type": "code",
   "execution_count": null,
   "id": "0d48d171",
   "metadata": {},
   "outputs": [],
   "source": [
    "sc.pl.umap(subadata, color=[\"leiden\"])"
   ]
  },
  {
   "cell_type": "code",
   "execution_count": null,
   "id": "2c9983e4",
   "metadata": {},
   "outputs": [],
   "source": [
    "sc.get.rank_genes_groups_df(subadata, group=\"8\").sort_values(by=\"scores\",ascending=False).head(20)"
   ]
  },
  {
   "cell_type": "code",
   "execution_count": null,
   "id": "dc0923c5",
   "metadata": {},
   "outputs": [],
   "source": [
    "manual_annotations = {\"0\": \"TAM1\", \n",
    "                      \"1\": \"TAM3\", \n",
    "                      \"2\": \"TAM2\", \n",
    "                      \"3\": \"TAM2\", \n",
    "                      \"4\": \"TAM1\", \n",
    "                      \"5\": \"DC\",  \n",
    "                      \"6\": \"Kupffer cells\",\n",
    "                      \"7\": \"Mast\", \"8\": \"DC\"}"
   ]
  },
  {
   "cell_type": "code",
   "execution_count": null,
   "id": "fad5ca23",
   "metadata": {},
   "outputs": [],
   "source": [
    "subadata.obs[\"lowlevel_celltype\"] = subadata.obs.leiden.replace(manual_annotations)"
   ]
  },
  {
   "cell_type": "code",
   "execution_count": null,
   "id": "aaa6f8e9",
   "metadata": {},
   "outputs": [],
   "source": [
    "sc.pl.umap(subadata, color=[\"lowlevel_celltype\"])"
   ]
  },
  {
   "cell_type": "code",
   "execution_count": null,
   "id": "99ceb27a",
   "metadata": {},
   "outputs": [],
   "source": [
    "sc.tl.rank_genes_groups(subadata, groupby=\"lowlevel_celltype\")"
   ]
  },
  {
   "cell_type": "code",
   "execution_count": null,
   "id": "08231825",
   "metadata": {},
   "outputs": [],
   "source": [
    "group_markers = {}\n",
    "for ct in sorted(subadata.obs.lowlevel_celltype.unique()):\n",
    "    if ct in [\"Myeloid-HighMT\"]:\n",
    "        continue\n",
    "    else:\n",
    "        group_markers[ct] = sc.get.rank_genes_groups_df(subadata, group=ct)\n",
    "        group_markers[ct] = group_markers[ct].sort_values(by=\"scores\",ascending=False).head(10).names.to_numpy()"
   ]
  },
  {
   "cell_type": "code",
   "execution_count": null,
   "id": "30c64518",
   "metadata": {
    "scrolled": true
   },
   "outputs": [],
   "source": [
    "sc.pl.dotplot(subadata[~subadata.obs.lowlevel_celltype.isin([\"Myeloid-HighMT\"])], var_names=group_markers, groupby=\"lowlevel_celltype\")"
   ]
  },
  {
   "cell_type": "code",
   "execution_count": null,
   "id": "e7c86e4e",
   "metadata": {},
   "outputs": [],
   "source": [
    "refined_annotations.loc[subadata.obs_names,\"Annotation\"] = subadata.obs.lowlevel_celltype.ravel()"
   ]
  },
  {
   "cell_type": "markdown",
   "id": "ce52ea19",
   "metadata": {},
   "source": [
    "# Endothelial + Fibro + Muscle"
   ]
  },
  {
   "cell_type": "code",
   "execution_count": null,
   "id": "e341b519",
   "metadata": {},
   "outputs": [],
   "source": [
    "subadata = adata[adata.obs[\"highlevel_celltype\"].isin([\"Endothelial\",\"Stromal/Muscle\"])].copy()"
   ]
  },
  {
   "cell_type": "code",
   "execution_count": null,
   "id": "956634ea",
   "metadata": {},
   "outputs": [],
   "source": [
    "subadata = subadata[subadata.obs[\"pct_counts_mt\"]<15].copy()"
   ]
  },
  {
   "cell_type": "code",
   "execution_count": null,
   "id": "6010c66c",
   "metadata": {},
   "outputs": [],
   "source": [
    "subadata.shape"
   ]
  },
  {
   "cell_type": "code",
   "execution_count": null,
   "id": "768ab239",
   "metadata": {},
   "outputs": [],
   "source": [
    "sc.tl.pca(subadata)"
   ]
  },
  {
   "cell_type": "code",
   "execution_count": null,
   "id": "5b971402",
   "metadata": {},
   "outputs": [],
   "source": [
    "sc.pp.neighbors(subadata)"
   ]
  },
  {
   "cell_type": "code",
   "execution_count": null,
   "id": "42488dfb",
   "metadata": {},
   "outputs": [],
   "source": [
    "sc.external.pp.harmony_integrate(subadata, \n",
    "                                 key=\"sample_id\", \n",
    "                                 max_iter_harmony=20)"
   ]
  },
  {
   "cell_type": "code",
   "execution_count": null,
   "id": "3c1921dc",
   "metadata": {},
   "outputs": [],
   "source": [
    "sc.pp.neighbors(subadata, use_rep=\"X_pca_harmony\")"
   ]
  },
  {
   "cell_type": "code",
   "execution_count": null,
   "id": "5892e776",
   "metadata": {},
   "outputs": [],
   "source": [
    "sc.tl.umap(subadata)"
   ]
  },
  {
   "cell_type": "code",
   "execution_count": null,
   "id": "cb65998c",
   "metadata": {},
   "outputs": [],
   "source": [
    "sc.pl.umap(subadata, color=[\"celltype\", \"sample_id\", \"log1p_total_counts\", \"pct_counts_mt\"], ncols=1)"
   ]
  },
  {
   "cell_type": "code",
   "execution_count": null,
   "id": "6d244dd5",
   "metadata": {},
   "outputs": [],
   "source": [
    "sc.tl.leiden(subadata, resolution=0.1)"
   ]
  },
  {
   "cell_type": "code",
   "execution_count": null,
   "id": "dbf874ce",
   "metadata": {},
   "outputs": [],
   "source": [
    "sc.pl.umap(subadata, color=[\"sample_id\", \"leiden\"], ncols=1)"
   ]
  },
  {
   "cell_type": "code",
   "execution_count": null,
   "id": "5c7a1242",
   "metadata": {
    "scrolled": true
   },
   "outputs": [],
   "source": [
    "sc.tl.rank_genes_groups(subadata, groupby=\"leiden\")"
   ]
  },
  {
   "cell_type": "code",
   "execution_count": null,
   "id": "5495e447",
   "metadata": {},
   "outputs": [],
   "source": [
    "sc.tl.dendrogram(subadata, groupby=\"leiden\", use_rep=\"X_pca_harmony\")"
   ]
  },
  {
   "cell_type": "code",
   "execution_count": null,
   "id": "1315f560",
   "metadata": {},
   "outputs": [],
   "source": [
    "sc.pl.rank_genes_groups_heatmap(subadata, n_genes=4, use_raw=False, swap_axes=True, vmax=3, cmap='bwr')"
   ]
  },
  {
   "cell_type": "code",
   "execution_count": null,
   "id": "99a6dbe8",
   "metadata": {},
   "outputs": [],
   "source": [
    "manual_annotations = {\"0\": \"Fibroblast\", \n",
    "                      \"1\": \"Endothelial\", \n",
    "                      \"2\": \"Muscle\", \n",
    "                      \"3\": \"Fibroblast\", \n",
    "                      \"4\": \"Endothelial\", \n",
    "                      \"5\": \"Muscle\", }"
   ]
  },
  {
   "cell_type": "code",
   "execution_count": null,
   "id": "004b9048",
   "metadata": {},
   "outputs": [],
   "source": [
    "subadata.obs[\"lowlevel_celltype\"] = subadata.obs.leiden.replace(manual_annotations)"
   ]
  },
  {
   "cell_type": "code",
   "execution_count": null,
   "id": "7b56cc3a",
   "metadata": {},
   "outputs": [],
   "source": [
    "sc.pl.umap(subadata, color=[\"lowlevel_celltype\"])"
   ]
  },
  {
   "cell_type": "code",
   "execution_count": null,
   "id": "3dba955f",
   "metadata": {},
   "outputs": [],
   "source": [
    "sc.tl.rank_genes_groups(subadata, groupby=\"lowlevel_celltype\")"
   ]
  },
  {
   "cell_type": "code",
   "execution_count": null,
   "id": "f156e3f2",
   "metadata": {},
   "outputs": [],
   "source": [
    "group_markers = {}\n",
    "for ct in sorted(subadata.obs.lowlevel_celltype.unique().to_numpy()):\n",
    "    group_markers[ct] = sc.get.rank_genes_groups_df(subadata, group=ct)\n",
    "    group_markers[ct] = group_markers[ct].loc[~group_markers[ct].names.str.startswith(\"MT-\")]\n",
    "    group_markers[ct] = group_markers[ct].sort_values(by=\"scores\",ascending=False).head(10).names.to_numpy()"
   ]
  },
  {
   "cell_type": "code",
   "execution_count": null,
   "id": "21fd2c2f",
   "metadata": {
    "scrolled": true
   },
   "outputs": [],
   "source": [
    "sc.pl.dotplot(subadata, var_names=group_markers, groupby=\"lowlevel_celltype\")"
   ]
  },
  {
   "cell_type": "markdown",
   "id": "43550ba3",
   "metadata": {},
   "source": [
    "# Stromal/Muscle"
   ]
  },
  {
   "cell_type": "code",
   "execution_count": null,
   "id": "9cbf33b5",
   "metadata": {},
   "outputs": [],
   "source": [
    "subadata2 = subadata[subadata.obs.lowlevel_celltype==\"Muscle\"].copy()"
   ]
  },
  {
   "cell_type": "code",
   "execution_count": null,
   "id": "97a12c4f",
   "metadata": {},
   "outputs": [],
   "source": [
    "refined_annotations.loc[subadata2[subadata2.obs.pct_counts_mt>=15].obs_names,\"Annotation\"] = \"StrMus-HighMT\""
   ]
  },
  {
   "cell_type": "code",
   "execution_count": null,
   "id": "03186e0b",
   "metadata": {},
   "outputs": [],
   "source": [
    "subadata2 = subadata2[subadata2.obs[\"pct_counts_mt\"]<15].copy()"
   ]
  },
  {
   "cell_type": "code",
   "execution_count": null,
   "id": "54a801c5",
   "metadata": {},
   "outputs": [],
   "source": [
    "subadata2.shape"
   ]
  },
  {
   "cell_type": "code",
   "execution_count": null,
   "id": "7ad20a6a",
   "metadata": {},
   "outputs": [],
   "source": [
    "sc.tl.pca(subadata2)"
   ]
  },
  {
   "cell_type": "code",
   "execution_count": null,
   "id": "c73c0198",
   "metadata": {},
   "outputs": [],
   "source": [
    "sc.external.pp.harmony_integrate(subadata2, key=\"sample_id\", sigma=0.2, max_iter_harmony=20)"
   ]
  },
  {
   "cell_type": "code",
   "execution_count": null,
   "id": "e9c06265",
   "metadata": {},
   "outputs": [],
   "source": [
    "sc.pp.neighbors(subadata2, use_rep=\"X_pca_harmony\")"
   ]
  },
  {
   "cell_type": "code",
   "execution_count": null,
   "id": "65365868",
   "metadata": {},
   "outputs": [],
   "source": [
    "sc.tl.umap(subadata2)"
   ]
  },
  {
   "cell_type": "code",
   "execution_count": null,
   "id": "261bc3c3",
   "metadata": {},
   "outputs": [],
   "source": [
    "sc.pl.umap(subadata2, color=[\"sample_id\", \"log1p_total_counts\", \"pct_counts_mt\"], ncols=1)"
   ]
  },
  {
   "cell_type": "code",
   "execution_count": null,
   "id": "4cf7c1c3",
   "metadata": {},
   "outputs": [],
   "source": [
    "sc.tl.leiden(subadata2, resolution=0.1)"
   ]
  },
  {
   "cell_type": "code",
   "execution_count": null,
   "id": "f7141faa",
   "metadata": {},
   "outputs": [],
   "source": [
    "sc.pl.umap(subadata2, color=[\"sample_id\", \"leiden\"], ncols=1)"
   ]
  },
  {
   "cell_type": "code",
   "execution_count": null,
   "id": "fd80047a",
   "metadata": {},
   "outputs": [],
   "source": [
    "sc.tl.rank_genes_groups(subadata2, groupby=\"leiden\")"
   ]
  },
  {
   "cell_type": "code",
   "execution_count": null,
   "id": "cbde1f92",
   "metadata": {},
   "outputs": [],
   "source": [
    "sc.tl.dendrogram(subadata2, groupby=\"leiden\", use_rep=\"X_pca_harmony\")"
   ]
  },
  {
   "cell_type": "code",
   "execution_count": null,
   "id": "f35ef16b",
   "metadata": {},
   "outputs": [],
   "source": [
    "sc.pl.rank_genes_groups_heatmap(subadata2, n_genes=10, use_raw=False, swap_axes=True, vmax=3, cmap='bwr')"
   ]
  },
  {
   "cell_type": "code",
   "execution_count": null,
   "id": "49bdc1fa",
   "metadata": {},
   "outputs": [],
   "source": [
    "manual_annotations = {\"0\": \"Smooth muscle\", \n",
    "                      \"1\": \"Skeletal muscle\",\n",
    "                      \"2\": \"Smooth muscle\", \"3\": \"Smooth muscle\"}"
   ]
  },
  {
   "cell_type": "code",
   "execution_count": null,
   "id": "dd01b0e4",
   "metadata": {},
   "outputs": [],
   "source": [
    "subadata2.obs[\"lowlevel_celltype\"] = subadata2.obs.leiden.replace(manual_annotations)"
   ]
  },
  {
   "cell_type": "code",
   "execution_count": null,
   "id": "6596c4f2",
   "metadata": {},
   "outputs": [],
   "source": [
    "sc.pl.umap(subadata2, color=[\"lowlevel_celltype\"])"
   ]
  },
  {
   "cell_type": "code",
   "execution_count": null,
   "id": "ed566070",
   "metadata": {},
   "outputs": [],
   "source": [
    "sc.tl.rank_genes_groups(subadata2, groupby=\"lowlevel_celltype\")"
   ]
  },
  {
   "cell_type": "code",
   "execution_count": null,
   "id": "18bcb26b",
   "metadata": {},
   "outputs": [],
   "source": [
    "group_markers = {}\n",
    "for ct in sorted(subadata2.obs.lowlevel_celltype.unique().to_numpy()):\n",
    "    if ct in [\"StrMus-HighMT\"]:\n",
    "        continue\n",
    "    else:\n",
    "        group_markers[ct] = sc.get.rank_genes_groups_df(subadata2, group=ct)\n",
    "        group_markers[ct] = group_markers[ct].sort_values(by=\"scores\",ascending=False).head(10).names.to_numpy()"
   ]
  },
  {
   "cell_type": "code",
   "execution_count": null,
   "id": "71efb201",
   "metadata": {
    "scrolled": true
   },
   "outputs": [],
   "source": [
    "sc.pl.dotplot(subadata2[~subadata2.obs.lowlevel_celltype.isin([\"StrMus-HighMT\"])], var_names=group_markers, groupby=\"lowlevel_celltype\")"
   ]
  },
  {
   "cell_type": "code",
   "execution_count": null,
   "id": "9b2fcff6",
   "metadata": {},
   "outputs": [],
   "source": [
    "refined_annotations.loc[subadata2.obs_names,\"Annotation\"] = subadata2.obs.lowlevel_celltype.ravel()"
   ]
  },
  {
   "cell_type": "code",
   "execution_count": null,
   "id": "afe550aa",
   "metadata": {},
   "outputs": [],
   "source": []
  },
  {
   "cell_type": "code",
   "execution_count": null,
   "id": "af042a27",
   "metadata": {},
   "outputs": [],
   "source": []
  },
  {
   "cell_type": "markdown",
   "id": "777bc0e7",
   "metadata": {},
   "source": [
    "# Fibroblast"
   ]
  },
  {
   "cell_type": "code",
   "execution_count": null,
   "id": "0de7185c",
   "metadata": {},
   "outputs": [],
   "source": [
    "subadata2 = subadata[subadata.obs.lowlevel_celltype==\"Fibroblast\"].copy()"
   ]
  },
  {
   "cell_type": "code",
   "execution_count": null,
   "id": "c3d87aa7",
   "metadata": {},
   "outputs": [],
   "source": [
    "refined_annotations.loc[subadata2[subadata2.obs.pct_counts_mt>=15].obs_names,\"Annotation\"] = \"StrMus-HighMT\""
   ]
  },
  {
   "cell_type": "code",
   "execution_count": null,
   "id": "fde76b84",
   "metadata": {},
   "outputs": [],
   "source": [
    "subadata2 = subadata2[subadata2.obs[\"pct_counts_mt\"]<15].copy()"
   ]
  },
  {
   "cell_type": "code",
   "execution_count": null,
   "id": "6cbf82a6",
   "metadata": {},
   "outputs": [],
   "source": [
    "sc.tl.pca(subadata2)"
   ]
  },
  {
   "cell_type": "code",
   "execution_count": null,
   "id": "78743fee",
   "metadata": {},
   "outputs": [],
   "source": [
    "sc.external.pp.harmony_integrate(subadata2, key=\"sample_id\", sigma=0.2, max_iter_harmony=20)"
   ]
  },
  {
   "cell_type": "code",
   "execution_count": null,
   "id": "e7aa7891",
   "metadata": {},
   "outputs": [],
   "source": [
    "sc.pp.neighbors(subadata2, use_rep=\"X_pca_harmony\")"
   ]
  },
  {
   "cell_type": "code",
   "execution_count": null,
   "id": "fc1b6981",
   "metadata": {},
   "outputs": [],
   "source": [
    "sc.tl.umap(subadata2)"
   ]
  },
  {
   "cell_type": "code",
   "execution_count": null,
   "id": "6c2231db",
   "metadata": {},
   "outputs": [],
   "source": [
    "sc.pl.umap(subadata2, color=[\"sample_id\", \"log1p_total_counts\", \"pct_counts_mt\"], ncols=1)"
   ]
  },
  {
   "cell_type": "code",
   "execution_count": null,
   "id": "0afd383b",
   "metadata": {},
   "outputs": [],
   "source": [
    "sc.tl.leiden(subadata2, resolution=0.2)"
   ]
  },
  {
   "cell_type": "code",
   "execution_count": null,
   "id": "f5a9c331",
   "metadata": {},
   "outputs": [],
   "source": [
    "sc.pl.umap(subadata2, color=[\"sample_id\", \"leiden\"], ncols=1)"
   ]
  },
  {
   "cell_type": "code",
   "execution_count": null,
   "id": "07d5e6f7",
   "metadata": {},
   "outputs": [],
   "source": [
    "sc.pl.umap(subadata2, color=[\"sample_id\", \"PDGFRA\"], ncols=1)"
   ]
  },
  {
   "cell_type": "code",
   "execution_count": null,
   "id": "5d95263e",
   "metadata": {},
   "outputs": [],
   "source": [
    "sc.tl.rank_genes_groups(subadata2, groupby=\"leiden\")"
   ]
  },
  {
   "cell_type": "code",
   "execution_count": null,
   "id": "ab68a0ea",
   "metadata": {},
   "outputs": [],
   "source": [
    "sc.tl.dendrogram(subadata2, groupby=\"leiden\", use_rep=\"X_pca_harmony\")"
   ]
  },
  {
   "cell_type": "code",
   "execution_count": null,
   "id": "0296ce67",
   "metadata": {},
   "outputs": [],
   "source": [
    "sc.pl.rank_genes_groups_heatmap(subadata2, n_genes=5, use_raw=False, swap_axes=True, vmax=3, cmap='bwr')"
   ]
  },
  {
   "cell_type": "code",
   "execution_count": null,
   "id": "f1343aba",
   "metadata": {},
   "outputs": [],
   "source": [
    "manual_annotations = {\"0\": \"Fibroblast\", \n",
    "                      \"1\": \"Fibroblast\",\n",
    "                      \"2\": \"Fibroblast\",\n",
    "                      \"3\": \"CAF\",\n",
    "                      \"4\": \"CAF\",\n",
    "                      \"5\": \"CAF\",\n",
    "                      \"6\": \"CAF\",\n",
    "                      \"7\": \"Fibroblast\",}"
   ]
  },
  {
   "cell_type": "code",
   "execution_count": null,
   "id": "3fdfb182",
   "metadata": {},
   "outputs": [],
   "source": [
    "subadata2.obs[\"lowlevel_celltype\"] = subadata2.obs.leiden.replace(manual_annotations)"
   ]
  },
  {
   "cell_type": "code",
   "execution_count": null,
   "id": "8895801c",
   "metadata": {},
   "outputs": [],
   "source": [
    "sc.pl.umap(subadata2, color=[\"lowlevel_celltype\"])"
   ]
  },
  {
   "cell_type": "code",
   "execution_count": null,
   "id": "3b59db68",
   "metadata": {},
   "outputs": [],
   "source": [
    "sc.tl.rank_genes_groups(subadata2, groupby=\"lowlevel_celltype\")"
   ]
  },
  {
   "cell_type": "code",
   "execution_count": null,
   "id": "7de4cd44",
   "metadata": {},
   "outputs": [],
   "source": [
    "group_markers = {}\n",
    "for ct in sorted(subadata2.obs.lowlevel_celltype.unique().to_numpy()):\n",
    "    if ct in [\"StrMus-HighMT\"]:\n",
    "        continue\n",
    "    else:\n",
    "        group_markers[ct] = sc.get.rank_genes_groups_df(subadata2, group=ct)\n",
    "        group_markers[ct] = group_markers[ct].sort_values(by=\"scores\",ascending=False).head(10).names.to_numpy()"
   ]
  },
  {
   "cell_type": "code",
   "execution_count": null,
   "id": "51c46e54",
   "metadata": {
    "scrolled": true
   },
   "outputs": [],
   "source": [
    "sc.pl.dotplot(subadata2[~subadata2.obs.lowlevel_celltype.isin([\"StrMus-HighMT\"])], var_names=group_markers, groupby=\"lowlevel_celltype\")"
   ]
  },
  {
   "cell_type": "code",
   "execution_count": null,
   "id": "78ea7aca",
   "metadata": {},
   "outputs": [],
   "source": [
    "refined_annotations.loc[subadata2.obs_names,\"Annotation\"] = subadata2.obs.lowlevel_celltype.ravel()"
   ]
  },
  {
   "cell_type": "code",
   "execution_count": null,
   "id": "2305cea4",
   "metadata": {},
   "outputs": [],
   "source": [
    "cafadata = subadata2[subadata2.obs.lowlevel_celltype.isin([\"CAF\"])].copy()"
   ]
  },
  {
   "cell_type": "code",
   "execution_count": null,
   "id": "833711b2",
   "metadata": {},
   "outputs": [],
   "source": [
    "sc.tl.pca(cafadata)"
   ]
  },
  {
   "cell_type": "code",
   "execution_count": null,
   "id": "4788ea35",
   "metadata": {},
   "outputs": [],
   "source": [
    "sc.pp.neighbors(cafadata)"
   ]
  },
  {
   "cell_type": "code",
   "execution_count": null,
   "id": "4b88c05b",
   "metadata": {},
   "outputs": [],
   "source": [
    "sc.external.pp.harmony_integrate(cafadata, key=\"sample_id\", sigma=0.1, max_iter_harmony=20)"
   ]
  },
  {
   "cell_type": "code",
   "execution_count": null,
   "id": "d3213712",
   "metadata": {},
   "outputs": [],
   "source": [
    "sc.pp.neighbors(cafadata, use_rep=\"X_pca_harmony\")"
   ]
  },
  {
   "cell_type": "code",
   "execution_count": null,
   "id": "f14c5e96",
   "metadata": {},
   "outputs": [],
   "source": [
    "sc.tl.umap(cafadata)"
   ]
  },
  {
   "cell_type": "code",
   "execution_count": null,
   "id": "e0394499",
   "metadata": {},
   "outputs": [],
   "source": [
    "sc.pl.umap(cafadata, color=[\"celltype\", \"sample_id\", \"log1p_total_counts\", \"pct_counts_mt\"], ncols=1)"
   ]
  },
  {
   "cell_type": "code",
   "execution_count": null,
   "id": "e4d4fb8b",
   "metadata": {},
   "outputs": [],
   "source": [
    "sc.tl.leiden(cafadata, resolution=0.1)"
   ]
  },
  {
   "cell_type": "code",
   "execution_count": null,
   "id": "0356e938",
   "metadata": {},
   "outputs": [],
   "source": [
    "sc.pl.umap(cafadata, color=[\"sample_id\", \"leiden\"], ncols=1)"
   ]
  },
  {
   "cell_type": "code",
   "execution_count": null,
   "id": "26f99cd5",
   "metadata": {},
   "outputs": [],
   "source": [
    "sc.tl.rank_genes_groups(cafadata, groupby=\"leiden\")"
   ]
  },
  {
   "cell_type": "code",
   "execution_count": null,
   "id": "c724a1ba",
   "metadata": {},
   "outputs": [],
   "source": [
    "sc.tl.dendrogram(cafadata, groupby=\"leiden\", use_rep=\"X_pca_harmony\")"
   ]
  },
  {
   "cell_type": "code",
   "execution_count": null,
   "id": "f04ab527",
   "metadata": {},
   "outputs": [],
   "source": [
    "sc.pl.rank_genes_groups_heatmap(cafadata, n_genes=5, use_raw=False, swap_axes=True, vmax=3, cmap='bwr')"
   ]
  },
  {
   "cell_type": "code",
   "execution_count": null,
   "id": "d7e7a7fc",
   "metadata": {},
   "outputs": [],
   "source": [
    "# genes from here https://www.nature.com/articles/s41467-022-34395-2\n",
    "sc.pl.dotplot(cafadata, var_names={\"CAFinfla\": [\"FAP\",\"COL1A1\",\"TGFB1\",\"MMP11\",],\n",
    "                                   \"CAFmyo\": [\"RGS5\",\"MYH11\",\"ACTA2\"], \n",
    "                                   \"CAFadi\": [\"CFD\",\"PTGDS\",\"FBLN1\"], \n",
    "                                   \"CAFendMT\": [\"PLVAP\",\"RAMP2\",\"FLT1\"], \n",
    "                                   \"CAFpn\": [\"S100B\",\"GPM6B\",\"NRXN1\"], \n",
    "                                   \"CAFap\": [\"HLA-DRA\",\"LYZ\"], \n",
    "                                   \"Fibroblast\": [\"PDGFRA\",\"PDGFRB\",\"THY1\",]}, groupby=\"leiden\")"
   ]
  },
  {
   "cell_type": "code",
   "execution_count": null,
   "id": "625ecd22",
   "metadata": {},
   "outputs": [],
   "source": [
    "manual_annotations = {\"0\": \"Inflammatory CAF\", \n",
    "                      \"1\": \"Inflammatory CAF\", \n",
    "                      \"2\": \"Inflammatory CAF\", \n",
    "                      \"3\": \"HGF-CAF\", \n",
    "                      \"4\": \"Adipose CAF\"}"
   ]
  },
  {
   "cell_type": "code",
   "execution_count": null,
   "id": "21ecfcc1",
   "metadata": {},
   "outputs": [],
   "source": [
    "cafadata.obs[\"lowlevel_celltype_lvl2\"] = cafadata.obs.leiden.replace(manual_annotations)"
   ]
  },
  {
   "cell_type": "code",
   "execution_count": null,
   "id": "bb7078cd",
   "metadata": {
    "scrolled": true
   },
   "outputs": [],
   "source": [
    "sc.pl.umap(cafadata, color=[\"lowlevel_celltype_lvl2\"])"
   ]
  },
  {
   "cell_type": "markdown",
   "id": "9c370cb3",
   "metadata": {},
   "source": [
    "References to interesting genes + fibroblast descriptions to explore\n",
    "- https://rupress.org/jem/article/217/3/e20190103/133821/Transforming-growth-factor-in-tissue-fibrosisTGF\n",
    "- https://www.nature.com/articles/s41467-022-30633-9\n",
    "- https://www.ncbi.nlm.nih.gov/pmc/articles/PMC8323949/ \n",
    "- https://www.nature.com/articles/s41467-020-17740-1\n",
    "- https://onlinelibrary.wiley.com/doi/full/10.1002/jcp.22604\n",
    "- https://www.nature.com/articles/s41467-022-34395-2\n",
    "- https://www.spandidos-publications.com/10.3892/or.2018.6500?text=abstract#b12-or-40-02-1185\n"
   ]
  },
  {
   "cell_type": "code",
   "execution_count": null,
   "id": "2cb7bbc0",
   "metadata": {},
   "outputs": [],
   "source": [
    "refined_annotations.loc[cafadata.obs_names,\"Annotation\"] = cafadata.obs.lowlevel_celltype_lvl2.ravel()"
   ]
  },
  {
   "cell_type": "markdown",
   "id": "4240aa2b",
   "metadata": {},
   "source": [
    "# Endothelial"
   ]
  },
  {
   "cell_type": "code",
   "execution_count": null,
   "id": "3ed77ee3",
   "metadata": {},
   "outputs": [],
   "source": [
    "subadata2 = subadata[subadata.obs.lowlevel_celltype==\"Endothelial\"].copy()"
   ]
  },
  {
   "cell_type": "code",
   "execution_count": null,
   "id": "2d18d07c",
   "metadata": {},
   "outputs": [],
   "source": [
    "refined_annotations.loc[subadata2[subadata2.obs.pct_counts_mt>=15].obs_names,\"Annotation\"] = \"StrMus-HighMT\""
   ]
  },
  {
   "cell_type": "code",
   "execution_count": null,
   "id": "463c89f7",
   "metadata": {},
   "outputs": [],
   "source": [
    "subadata2 = subadata2[subadata2.obs[\"pct_counts_mt\"]<15].copy()"
   ]
  },
  {
   "cell_type": "code",
   "execution_count": null,
   "id": "f7d0eb8a",
   "metadata": {},
   "outputs": [],
   "source": [
    "sc.tl.pca(subadata2)"
   ]
  },
  {
   "cell_type": "code",
   "execution_count": null,
   "id": "72c20b65",
   "metadata": {},
   "outputs": [],
   "source": [
    "sc.external.pp.harmony_integrate(subadata2, key=\"sample_id\", sigma=0.2, max_iter_harmony=20)"
   ]
  },
  {
   "cell_type": "code",
   "execution_count": null,
   "id": "35870d30",
   "metadata": {},
   "outputs": [],
   "source": [
    "sc.pp.neighbors(subadata2, use_rep=\"X_pca_harmony\")"
   ]
  },
  {
   "cell_type": "code",
   "execution_count": null,
   "id": "697a8b20",
   "metadata": {},
   "outputs": [],
   "source": [
    "sc.tl.umap(subadata2)"
   ]
  },
  {
   "cell_type": "code",
   "execution_count": null,
   "id": "048eab78",
   "metadata": {},
   "outputs": [],
   "source": [
    "sc.pl.umap(subadata2, color=[\"sample_id\", \"log1p_total_counts\", \"pct_counts_mt\"], ncols=1)"
   ]
  },
  {
   "cell_type": "code",
   "execution_count": null,
   "id": "320464c3",
   "metadata": {},
   "outputs": [],
   "source": [
    "sc.tl.leiden(subadata2, resolution=0.1)"
   ]
  },
  {
   "cell_type": "code",
   "execution_count": null,
   "id": "b7bd5c6a",
   "metadata": {
    "scrolled": true
   },
   "outputs": [],
   "source": [
    "sc.pl.umap(subadata2, color=[\"sample_id\", \"leiden\"], ncols=1)"
   ]
  },
  {
   "cell_type": "code",
   "execution_count": null,
   "id": "20037f52",
   "metadata": {},
   "outputs": [],
   "source": [
    "sc.tl.rank_genes_groups(subadata2, groupby=\"leiden\")"
   ]
  },
  {
   "cell_type": "code",
   "execution_count": null,
   "id": "b2e13d00",
   "metadata": {},
   "outputs": [],
   "source": [
    "sc.tl.dendrogram(subadata2, groupby=\"leiden\", use_rep=\"X_pca_harmony\")"
   ]
  },
  {
   "cell_type": "code",
   "execution_count": null,
   "id": "fa410945",
   "metadata": {},
   "outputs": [],
   "source": [
    "sc.pl.rank_genes_groups_heatmap(subadata2, n_genes=5, use_raw=False, swap_axes=True, vmax=3, cmap='bwr')"
   ]
  },
  {
   "cell_type": "code",
   "execution_count": null,
   "id": "7da7a0ce",
   "metadata": {},
   "outputs": [],
   "source": [
    "manual_annotations = {\"0\": \"Quiescent EC\", \n",
    "                      \"1\": \"Activated EC\",}"
   ]
  },
  {
   "cell_type": "code",
   "execution_count": null,
   "id": "6b92fb9b",
   "metadata": {},
   "outputs": [],
   "source": [
    "subadata2.obs[\"lowlevel_celltype\"] = subadata2.obs.leiden.replace(manual_annotations)"
   ]
  },
  {
   "cell_type": "code",
   "execution_count": null,
   "id": "153f642c",
   "metadata": {},
   "outputs": [],
   "source": [
    "sc.pl.umap(subadata2, color=[\"lowlevel_celltype\"])"
   ]
  },
  {
   "cell_type": "code",
   "execution_count": null,
   "id": "914bd517",
   "metadata": {},
   "outputs": [],
   "source": [
    "sc.tl.rank_genes_groups(subadata2, groupby=\"lowlevel_celltype\")"
   ]
  },
  {
   "cell_type": "code",
   "execution_count": null,
   "id": "1d24e0ba",
   "metadata": {},
   "outputs": [],
   "source": [
    "group_markers = {}\n",
    "for ct in sorted(subadata2.obs.lowlevel_celltype.unique().to_numpy()):\n",
    "    if ct in [\"StrMus-HighMT\"]:\n",
    "        continue\n",
    "    else:\n",
    "        group_markers[ct] = sc.get.rank_genes_groups_df(subadata2, group=ct)\n",
    "        #group_markers[ct] = group_markers[ct].loc[~group_markers[ct].names.str.startswith(\"MT-\")]\n",
    "        group_markers[ct] = group_markers[ct].sort_values(by=\"scores\",ascending=False).head(10).names.to_numpy()"
   ]
  },
  {
   "cell_type": "code",
   "execution_count": null,
   "id": "df8eda74",
   "metadata": {
    "scrolled": true
   },
   "outputs": [],
   "source": [
    "sc.pl.dotplot(subadata2[~subadata2.obs.lowlevel_celltype.isin([\"StrMus-HighMT\"])], var_names=group_markers, groupby=\"lowlevel_celltype\")"
   ]
  },
  {
   "cell_type": "code",
   "execution_count": null,
   "id": "59b47c2e",
   "metadata": {},
   "outputs": [],
   "source": [
    "refined_annotations.loc[subadata2.obs_names,\"Annotation\"] = subadata2.obs.lowlevel_celltype.ravel()"
   ]
  },
  {
   "cell_type": "code",
   "execution_count": null,
   "id": "7b413458",
   "metadata": {},
   "outputs": [],
   "source": []
  },
  {
   "cell_type": "code",
   "execution_count": null,
   "id": "3fad1fb5",
   "metadata": {},
   "outputs": [],
   "source": [
    "endadata = subadata2[subadata2.obs.lowlevel_celltype==\"Activated EC\"].copy()"
   ]
  },
  {
   "cell_type": "code",
   "execution_count": null,
   "id": "76ede379",
   "metadata": {},
   "outputs": [],
   "source": [
    "endadata.shape"
   ]
  },
  {
   "cell_type": "code",
   "execution_count": null,
   "id": "62f2738e",
   "metadata": {},
   "outputs": [],
   "source": [
    "sc.tl.pca(endadata)"
   ]
  },
  {
   "cell_type": "code",
   "execution_count": null,
   "id": "a438e692",
   "metadata": {},
   "outputs": [],
   "source": [
    "sc.external.pp.harmony_integrate(endadata, key=\"sample_id\", sigma=1., max_iter_harmony=30)"
   ]
  },
  {
   "cell_type": "code",
   "execution_count": null,
   "id": "d552dc09",
   "metadata": {},
   "outputs": [],
   "source": [
    "sc.pp.neighbors(endadata, use_rep=\"X_pca_harmony\")"
   ]
  },
  {
   "cell_type": "code",
   "execution_count": null,
   "id": "c150eb6a",
   "metadata": {},
   "outputs": [],
   "source": [
    "sc.tl.umap(endadata)"
   ]
  },
  {
   "cell_type": "code",
   "execution_count": null,
   "id": "7fda3be6",
   "metadata": {},
   "outputs": [],
   "source": [
    "sc.pl.umap(endadata, color=[\"sample_id\", \"log1p_total_counts\", \"pct_counts_mt\"], ncols=1)"
   ]
  },
  {
   "cell_type": "code",
   "execution_count": null,
   "id": "2f36ef83",
   "metadata": {},
   "outputs": [],
   "source": [
    "sc.tl.leiden(endadata, resolution=0.2)"
   ]
  },
  {
   "cell_type": "code",
   "execution_count": null,
   "id": "ee59b0d4",
   "metadata": {},
   "outputs": [],
   "source": [
    "sc.pl.umap(endadata, color=[\"sample_id\", \"leiden\"], ncols=1)"
   ]
  },
  {
   "cell_type": "code",
   "execution_count": null,
   "id": "78184895",
   "metadata": {},
   "outputs": [],
   "source": [
    "sc.tl.rank_genes_groups(endadata, groupby=\"leiden\")"
   ]
  },
  {
   "cell_type": "code",
   "execution_count": null,
   "id": "a336900b",
   "metadata": {},
   "outputs": [],
   "source": [
    "sc.tl.dendrogram(endadata, groupby=\"leiden\", use_rep=\"X_pca_harmony\")"
   ]
  },
  {
   "cell_type": "code",
   "execution_count": null,
   "id": "b58c7312",
   "metadata": {},
   "outputs": [],
   "source": [
    "sc.pl.rank_genes_groups_heatmap(endadata, n_genes=5, use_raw=False, swap_axes=True, vmax=3, cmap='bwr')"
   ]
  },
  {
   "cell_type": "code",
   "execution_count": null,
   "id": "2caca930",
   "metadata": {},
   "outputs": [],
   "source": [
    "manual_annotations = {\"0\": \"Venous EC\", \n",
    "                      \"1\": \"Hepatic EC\", \n",
    "                      \"2\": \"Angiogenic EC\", \n",
    "                      \"3\": \"Venous EC\", \n",
    "                      \"4\": \"Angiogenic EC\", \"5\": \"Carcinoma\"}"
   ]
  },
  {
   "cell_type": "code",
   "execution_count": null,
   "id": "3fd964a7",
   "metadata": {},
   "outputs": [],
   "source": [
    "endadata.obs[\"lowlevel_celltype_lvl2\"] = endadata.obs.leiden.replace(manual_annotations)"
   ]
  },
  {
   "cell_type": "code",
   "execution_count": null,
   "id": "5dda7fff",
   "metadata": {
    "scrolled": true
   },
   "outputs": [],
   "source": [
    "sc.pl.umap(endadata, color=[\"lowlevel_celltype_lvl2\"])"
   ]
  },
  {
   "cell_type": "code",
   "execution_count": null,
   "id": "a9bb2d91",
   "metadata": {},
   "outputs": [],
   "source": [
    "sc.tl.rank_genes_groups(endadata, groupby=\"lowlevel_celltype_lvl2\")"
   ]
  },
  {
   "cell_type": "code",
   "execution_count": null,
   "id": "f07c5dfc",
   "metadata": {},
   "outputs": [],
   "source": [
    "group_markers = {}\n",
    "for ct in sorted(endadata.obs.lowlevel_celltype_lvl2.unique().to_numpy()):\n",
    "    group_markers[ct] = sc.get.rank_genes_groups_df(endadata, group=ct)\n",
    "    group_markers[ct] = group_markers[ct].loc[~group_markers[ct].names.str.startswith(\"RPS\")]\n",
    "    group_markers[ct] = group_markers[ct].loc[~group_markers[ct].names.str.startswith(\"RPL\")]\n",
    "    group_markers[ct] = group_markers[ct].sort_values(by=\"scores\",ascending=False).head(10).names.to_numpy()"
   ]
  },
  {
   "cell_type": "code",
   "execution_count": null,
   "id": "0fa78f3e",
   "metadata": {
    "scrolled": true
   },
   "outputs": [],
   "source": [
    "sc.pl.dotplot(endadata, var_names=group_markers, groupby=\"lowlevel_celltype_lvl2\")"
   ]
  },
  {
   "cell_type": "code",
   "execution_count": null,
   "id": "f1efe731",
   "metadata": {},
   "outputs": [],
   "source": [
    "refined_annotations.loc[endadata.obs_names,\"Annotation\"] = endadata.obs.lowlevel_celltype_lvl2.ravel()"
   ]
  },
  {
   "cell_type": "markdown",
   "id": "b3286a77",
   "metadata": {},
   "source": [
    "References for interesting genes in endothelial cells\n",
    "- https://www.nature.com/articles/nrgastro.2016.180#:~:text=An%20analysis%20of%20confluent%20and,vessels%20in%20patient%20CRC%20samples.\n",
    "- https://www.sciencedirect.com/science/article/pii/S0065242310520043\n",
    "- https://ashpublications.org/blood/article/114/2/478/26237/The-prototype-endothelial-marker-PAL-E-is-a\n",
    "- https://www.ncbi.nlm.nih.gov/pmc/articles/PMC10172233/#CR71\n",
    "- https://www.pnas.org/doi/abs/10.1073/pnas.91.8.3448\n",
    "- https://pubmed.ncbi.nlm.nih.gov/21681612/\n",
    "-https://www.ncbi.nlm.nih.gov/pmc/articles/PMC7609066/ \n",
    "- https://www.ahajournals.org/doi/10.1161/CIRCULATIONAHA.120.052318\n",
    "- https://www.nature.com/articles/s41598-022-05404-7\n",
    "- https://www.ahajournals.org/doi/10.1161/CIRCRESAHA.108.178434\n",
    "- https://www.nature.com/articles/s41419-018-0570-5\n",
    "- https://www.jci.org/articles/view/90086"
   ]
  },
  {
   "cell_type": "markdown",
   "id": "01ff03fe",
   "metadata": {},
   "source": [
    "References for definition of the activated EC \n",
    "- https://academic.oup.com/endo/article/162/8/bqab104/6284300?login=true (INSR)\n",
    "- https://www.ncbi.nlm.nih.gov/pmc/articles/PMC8223739/ (CAMKII)\n",
    "- https://academic.oup.com/cardiovascres/article/81/1/187/275992?login=true (CD81)\n",
    "- https://faseb.onlinelibrary.wiley.com/doi/abs/10.1096/fasebj.24.1_supplement.750.1 (IFITM)\n",
    "- https://www.nature.com/articles/ncb1355 (VIM)\n",
    "- https://www.cell.com/cancer-cell/pdf/S1535-6108(10)00250-3.pdf (EZH2)\n",
    "- https://www.ahajournals.org/doi/10.1161/01.RES.0000134920.10128.b4#:~:text=Previous%20Version%201-,Abstract,preferentially%20in%20vascular%20endothelial%20cells. (EPAS1)\n",
    "- https://www.jci.org/articles/view/64201 (MRTFB)\n",
    "- https://www.ncbi.nlm.nih.gov/pmc/articles/PMC3286203/ (EGFL7)"
   ]
  },
  {
   "cell_type": "markdown",
   "id": "09f15025",
   "metadata": {},
   "source": [
    "# Save annotations"
   ]
  },
  {
   "cell_type": "code",
   "execution_count": null,
   "id": "5fb86324",
   "metadata": {},
   "outputs": [],
   "source": [
    "refined_annotations.Annotation = refined_annotations.Annotation.fillna(adata.obs.highlevel_celltype)"
   ]
  },
  {
   "cell_type": "code",
   "execution_count": null,
   "id": "e96e14e8",
   "metadata": {},
   "outputs": [],
   "source": [
    "refined_annotations.to_csv(\"refined_annotations.csv\")"
   ]
  },
  {
   "cell_type": "code",
   "execution_count": null,
   "id": "f3574786",
   "metadata": {},
   "outputs": [],
   "source": [
    "adata.write(\"/add/path/here/full_cohort.h5ad\")"
   ]
  },
  {
   "cell_type": "code",
   "execution_count": null,
   "id": "391e1f81",
   "metadata": {},
   "outputs": [],
   "source": []
  },
  {
   "cell_type": "code",
   "execution_count": null,
   "id": "36cb50d2",
   "metadata": {},
   "outputs": [],
   "source": []
  }
 ],
 "metadata": {
  "kernelspec": {
   "display_name": "Python 3 (ipykernel)",
   "language": "python",
   "name": "python3"
  },
  "language_info": {
   "codemirror_mode": {
    "name": "ipython",
    "version": 3
   },
   "file_extension": ".py",
   "mimetype": "text/x-python",
   "name": "python",
   "nbconvert_exporter": "python",
   "pygments_lexer": "ipython3",
   "version": "3.9.16"
  }
 },
 "nbformat": 4,
 "nbformat_minor": 5
}
