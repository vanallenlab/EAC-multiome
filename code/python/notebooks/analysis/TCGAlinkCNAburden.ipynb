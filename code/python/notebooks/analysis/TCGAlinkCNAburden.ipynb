{
 "cells": [
  {
   "cell_type": "code",
   "execution_count": null,
   "id": "caafe127",
   "metadata": {},
   "outputs": [],
   "source": [
    "import pandas as pd\n",
    "import numpy as np\n",
    "import pathlib as pl\n",
    "\n",
    "from sklearn.preprocessing import StandardScaler\n",
    "\n",
    "import seaborn as sns\n",
    "import matplotlib.pyplot as plt\n",
    "from scipy.stats import pearsonr"
   ]
  },
  {
   "cell_type": "code",
   "execution_count": null,
   "id": "0e15b6f7",
   "metadata": {},
   "outputs": [],
   "source": [
    "def pretty_ax(ax):\n",
    "    ax.spines['right'].set_visible(False)\n",
    "    ax.spines['top'].set_visible(False)\n",
    "    ax.tick_params(\n",
    "        axis='both',  \n",
    "        which='both',      \n",
    "        bottom=True,     \n",
    "        top=False,\n",
    "        left=False,\n",
    "        labelbottom=True,\n",
    "        labelleft = True)\n",
    "    ax.spines[\"bottom\"].set_linewidth(1.5)\n",
    "    ax.spines[\"left\"].set_linewidth(1.5)"
   ]
  },
  {
   "cell_type": "code",
   "execution_count": null,
   "id": "9b0e9469",
   "metadata": {},
   "outputs": [],
   "source": [
    "_LEN_CNA = 3209286105"
   ]
  },
  {
   "cell_type": "code",
   "execution_count": null,
   "id": "999741b9",
   "metadata": {},
   "outputs": [],
   "source": [
    "tcga_dir = pl.Path(\"/add/path/here\")"
   ]
  },
  {
   "cell_type": "code",
   "execution_count": null,
   "id": "2fe5618b",
   "metadata": {},
   "outputs": [],
   "source": [
    "masked_cnv = pd.read_csv(tcga_dir / \"TCGA-ESCA.masked_cnv.tsv.gz\",sep=\"\\t\",index_col=0)"
   ]
  },
  {
   "cell_type": "code",
   "execution_count": null,
   "id": "7bc70099",
   "metadata": {},
   "outputs": [],
   "source": [
    "clinical_full = pd.read_csv(tcga_dir / \"TCGA.ESCA.sampleMap_ESCA_clinicalMatrix\", sep=\"\\t\", index_col=0)"
   ]
  },
  {
   "cell_type": "code",
   "execution_count": null,
   "id": "e5034b2c",
   "metadata": {},
   "outputs": [],
   "source": [
    "fpkm = pd.read_csv(tcga_dir / \"TCGA-ESCA.htseq_fpkm-uq.tsv.gz\",sep=\"\\t\",index_col=0).T\n",
    "fpkm.index = fpkm.index.str[:15]"
   ]
  },
  {
   "cell_type": "code",
   "execution_count": null,
   "id": "fb5b9bd0",
   "metadata": {},
   "outputs": [],
   "source": [
    "gencode = pd.read_csv(tcga_dir /\"gencode_mapping_table.csv\")\n",
    "gencode = gencode.set_index('gencode_id_gex')\n",
    "\n",
    "mapping_gen = gencode.loc[fpkm.columns.intersection(gencode.index)].gene_name.to_dict()\n",
    "fpkm = fpkm.loc[:,fpkm.columns.intersection(gencode.index)]\n",
    "fpkm = fpkm.rename(columns=mapping_gen)\n",
    "fpkm = fpkm.loc[:,~(fpkm.columns.duplicated())]"
   ]
  },
  {
   "cell_type": "code",
   "execution_count": null,
   "id": "1b57d774",
   "metadata": {},
   "outputs": [],
   "source": [
    "eac_patients = clinical_full[clinical_full[\"histological_type\"]==\"Esophagus Adenocarcinoma, NOS\"].index\n",
    "eac_patients = fpkm.index.intersection(eac_patients)\n",
    "\n",
    "normal_patients = eac_patients[eac_patients.str.contains(\"-11\")]\n",
    "eac_patients = eac_patients[~eac_patients.str.contains(\"-11\")]"
   ]
  },
  {
   "cell_type": "code",
   "execution_count": null,
   "id": "ce5571af",
   "metadata": {},
   "outputs": [],
   "source": [
    "high_cnv = masked_cnv[masked_cnv.value.abs()>0.2]\n",
    "\n",
    "high_cnv[\"length\"]= high_cnv.End - high_cnv.Start\n",
    "\n",
    "total_cna = high_cnv.groupby(by=\"sample\").sum()[\"length\"]\n",
    "\n",
    "cna_burden = (total_cna/_LEN_CNA)*100\n",
    "cna_burden.name = \"CNA burden\"\n",
    "\n",
    "cna_burden.index = cna_burden.index.str[:-1]"
   ]
  },
  {
   "cell_type": "code",
   "execution_count": null,
   "id": "cec16340",
   "metadata": {},
   "outputs": [],
   "source": [
    "fpkm_eac = fpkm.loc[eac_patients]\n",
    "clinical_eac = clinical_full.loc[eac_patients]\n",
    "cna_burden = cna_burden.loc[cna_burden.index.intersection(eac_patients)]"
   ]
  },
  {
   "cell_type": "code",
   "execution_count": null,
   "id": "c8f3ee92",
   "metadata": {},
   "outputs": [],
   "source": [
    "ss = StandardScaler()\n",
    "std_fpkm = pd.DataFrame(ss.fit_transform(fpkm_eac),index=fpkm_eac.index,columns=fpkm_eac.columns)"
   ]
  },
  {
   "cell_type": "code",
   "execution_count": null,
   "id": "8cb7563c",
   "metadata": {},
   "outputs": [],
   "source": [
    "signature_dir = pl.Path(\"/add/path/here\")\n",
    "\n",
    "full_sigs = {}\n",
    "for s in (signature_dir).iterdir():\n",
    "    sig = s.stem\n",
    "    full_sigs[sig] = pd.read_csv(s,index_col=0)\n",
    "    full_sigs[sig] = full_sigs[sig].head(100).index.ravel()"
   ]
  },
  {
   "cell_type": "code",
   "execution_count": null,
   "id": "64201bff",
   "metadata": {},
   "outputs": [],
   "source": [
    "mTFs = ['KLF5', 'ELF3', 'SMAD3', 'TCF7L2', 'HMGA2', \"BNC2\"]"
   ]
  },
  {
   "cell_type": "code",
   "execution_count": null,
   "id": "38ed3bc2",
   "metadata": {},
   "outputs": [],
   "source": [
    "state_score = []\n",
    "for sig, genes in full_sigs.items():\n",
    "    selgenes = std_fpkm.columns.intersection(genes)\n",
    "    selgenes = np.setdiff1d(selgenes, mTFs)\n",
    "    scores = std_fpkm[selgenes].mean(axis=1)\n",
    "    scores.name = sig\n",
    "    state_score.append(scores)\n",
    "state_score = pd.concat(state_score,axis=1)"
   ]
  },
  {
   "cell_type": "code",
   "execution_count": null,
   "id": "acf836c3",
   "metadata": {},
   "outputs": [],
   "source": [
    "df = pd.concat([state_score,cna_burden],axis=1).dropna()"
   ]
  },
  {
   "cell_type": "code",
   "execution_count": null,
   "id": "3b092cdd",
   "metadata": {},
   "outputs": [],
   "source": [
    "df.corr()"
   ]
  },
  {
   "cell_type": "code",
   "execution_count": null,
   "id": "8be45f10",
   "metadata": {},
   "outputs": [],
   "source": [
    "r,p = pearsonr(df.cNMF_4.ravel(), df[\"CNA burden\"].ravel())\n",
    "\n",
    "fig, ax = plt.subplots(1,1,figsize=(3,2))\n",
    "sns.regplot(data=df, y=\"cNMF_4\", x=\"CNA burden\",ax=ax)\n",
    "pretty_ax(ax)\n",
    "ax.text(60,1,f\"R={r:.2f}\\np={p:.1e}\",fontsize=10)"
   ]
  },
  {
   "cell_type": "code",
   "execution_count": null,
   "id": "0643c25c",
   "metadata": {},
   "outputs": [],
   "source": [
    "r,p = pearsonr(df.cNMF_5.ravel(), df[\"CNA burden\"].ravel())\n",
    "\n",
    "fig, ax = plt.subplots(1,1,figsize=(3,2))\n",
    "sns.regplot(data=df, y=\"cNMF_5\", x=\"CNA burden\",ax=ax)\n",
    "pretty_ax(ax)\n",
    "ax.text(60,1,f\"R={r:.2f}\\np={p:.1e}\",fontsize=10)"
   ]
  },
  {
   "cell_type": "code",
   "execution_count": null,
   "id": "9865c136",
   "metadata": {},
   "outputs": [],
   "source": [
    "r,p = pearsonr(df.cNMF_3.ravel(), df[\"CNA burden\"].ravel())\n",
    "\n",
    "fig, ax = plt.subplots(1,1,figsize=(3,2))\n",
    "sns.regplot(data=df, y=\"cNMF_3\", x=\"CNA burden\",ax=ax)\n",
    "pretty_ax(ax)\n",
    "ax.text(60,1,f\"R={r:.2f}\\np={p:.1e}\",fontsize=10)"
   ]
  },
  {
   "cell_type": "code",
   "execution_count": null,
   "id": "8c991802",
   "metadata": {},
   "outputs": [],
   "source": []
  }
 ],
 "metadata": {
  "kernelspec": {
   "display_name": "Python 3 (ipykernel)",
   "language": "python",
   "name": "python3"
  },
  "language_info": {
   "codemirror_mode": {
    "name": "ipython",
    "version": 3
   },
   "file_extension": ".py",
   "mimetype": "text/x-python",
   "name": "python",
   "nbconvert_exporter": "python",
   "pygments_lexer": "ipython3",
   "version": "3.9.16"
  }
 },
 "nbformat": 4,
 "nbformat_minor": 5
}
