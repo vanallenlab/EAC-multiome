{
 "cells": [
  {
   "cell_type": "code",
   "execution_count": null,
   "id": "37c48700-ae8a-4746-8f82-1ac985692bd8",
   "metadata": {},
   "outputs": [],
   "source": [
    "import scanpy as sc\n",
    "import pandas as pd\n",
    "import numpy as np\n",
    "import matplotlib.pyplot as plt\n",
    "import seaborn as sns\n",
    "import palettable\n",
    "\n",
    "\n",
    "import pathlib as pl\n",
    "\n",
    "from tqdm.notebook import tqdm"
   ]
  },
  {
   "cell_type": "code",
   "execution_count": null,
   "id": "3c2b87ac-72cd-46b7-b204-8673b13127dd",
   "metadata": {},
   "outputs": [],
   "source": [
    "from scipy.stats import fisher_exact"
   ]
  },
  {
   "cell_type": "code",
   "execution_count": null,
   "id": "b17f9bd7-8866-4088-a73c-02cf545766f7",
   "metadata": {},
   "outputs": [],
   "source": [
    "def pretty_ax(ax):\n",
    "    ax.spines['right'].set_visible(False)\n",
    "    ax.spines['top'].set_visible(False)\n",
    "    ax.tick_params(\n",
    "        axis='both',  \n",
    "        which='both',      \n",
    "        bottom=True,     \n",
    "        top=False,\n",
    "        left=False,\n",
    "        labelbottom=True,\n",
    "        labelleft = True)\n",
    "    ax.spines[\"bottom\"].set_linewidth(1.5)\n",
    "    ax.spines[\"left\"].set_linewidth(1.5)"
   ]
  },
  {
   "cell_type": "markdown",
   "id": "7fb7c42e-a2aa-466c-b0ec-6bb57d5846ce",
   "metadata": {},
   "source": [
    "# Download data"
   ]
  },
  {
   "cell_type": "code",
   "execution_count": null,
   "id": "20edd475-38ab-4795-b566-dfd72cd91e8f",
   "metadata": {},
   "outputs": [],
   "source": [
    "adata = sc.read_h5ad(\"/add/path/here/full_cohort.h5ad\")"
   ]
  },
  {
   "cell_type": "code",
   "execution_count": null,
   "id": "ea376b47-7817-4936-84d5-c2b891f2f389",
   "metadata": {},
   "outputs": [],
   "source": [
    "clinical = pd.read_csv(\"/add/path/here/EAC_clinical_info.csv\",index_col=0)\n",
    "treatment_mapping = {\"Neoadjuvant CROSS\": \"Neoadj. chemo\", \"Neoadjuvent carboplatin\": \"Neoadj. chemo\"}\n",
    "metastatic = (clinical[\"Tumor?\"]==\"Yes \") & (clinical[\"Site\"].str.contains(\"metastasis\"))\n",
    "metastatic.name = \"Metastatic?\"\n",
    "clinical[\"Metastatic?\"] = metastatic\n",
    "\n",
    "clinical[\"Location\"] = clinical[\"Site\"].replace({\"GEJ\": \"Esophagus/GEJ\", \n",
    "                          \"Esophagus\": \"Esophagus/GEJ\"})\n",
    "clinical[\"Location\"][clinical[\"Location\"].str.contains(\"Liver\")] = \"Liver\"\n",
    "clinical[\"Location\"][clinical[\"Location\"].str.contains(\"Adrenal\")] = \"Adrenal gland\"\n",
    "clinical[\"Location\"][clinical[\"Location\"].str.contains(\"Peritoneal\")] = \"Peritoneum\"\n",
    "\n",
    "clinical[\"Stage\"] = clinical[\"Grade/stage\"].replace({\"Stage IV \": \"IV\", \"Stage IV\": \"IV\", \n",
    "                                                     \"Moderately differentiated; ypT1aN0\": \"I\", \n",
    "                                                     \"Moderately differentiated; pT1aN0\": \"I\", \n",
    "                                                     \"Poorly differentiated; ypT2N0\": \"II\", \n",
    "                                                     \"Presented with stage III became stage IV during esophagectomy when pleural metastases were identified\": \"III/IV\"})\n",
    "\n",
    "clinical[\"Treatment\"] = [\"Neoadj. chemo\",\n",
    "                         \"None\",\n",
    "                         \"Neoadj. chemo + ICI + RT\",\n",
    "                         \"None\",\n",
    "                         \"None\",\n",
    "                         \"Chemo + HER2 targeted + ICI\", \n",
    "                         \"Neoadj. chemo + HER2 targeted\", \n",
    "                         \"Neoadj. chemo + ICI\", \n",
    "                         \"None\",\n",
    "                         \"Neoadj. chemo + VEGFR2i\"]\n",
    "\n",
    "clinical[\"HER2 status\"] = clinical[\"HER2\"].replace({\"HER 2 1+\": \"1+/equivocal\"})\n",
    "\n",
    "clinical = clinical.sort_values(by=[\"Tumor?\",\"Metastatic?\",\"Location\"])\n",
    "\n",
    "clinical[\"PD-L1 CPS score\"] = [0,2,7,2,3,24,0,8,3,15]"
   ]
  },
  {
   "cell_type": "code",
   "execution_count": null,
   "id": "a658c877-9a51-492f-a660-daa8a307729d",
   "metadata": {},
   "outputs": [],
   "source": [
    "refined_annotations = pd.read_csv(\"/add/path/here/refined_annotations.csv\",index_col=0)\n",
    "\n",
    "refined_annotations.columns = [\"refined_annotations\"]\n",
    "\n",
    "refined_wcancer = pd.read_csv(\"/add/path/here/refined_wCNMF_programs_and_sampleid.csv\",index_col=0)"
   ]
  },
  {
   "cell_type": "code",
   "execution_count": null,
   "id": "780bada8-4340-44a8-8b27-32a53fbd7f4b",
   "metadata": {},
   "outputs": [],
   "source": [
    "colorlist = palettable.colorbrewer.qualitative.Dark2_8.mpl_colors\n",
    "colorlistbis = palettable.colorbrewer.qualitative.Paired_3.mpl_colors\n",
    "colormapping_pat = {'Aguirre_EGSFR1982': colorlist[0], \n",
    "                    \"Aguirre_EGSFR2218\": colorlist[1], \n",
    "                    \"CCG1153_4411\": colorlist[2], \n",
    "                    \"Aguirre_EGSFR1938\": colorlist[3], \n",
    "                    \"Aguirre_EGSFR0074\": colorlist[4], \n",
    "                    \"Aguirre_EGSFR0128\": colorlist[5], \n",
    "                    \"Aguirre_EGSFR1732\": colorlist[6], \n",
    "                    \"Aguirre_EGSFR0148\": colorlist[7], \n",
    "                    \"CCG1153_4496262\": colorlistbis[0], \n",
    "                    \"CCG1153_6640539\": colorlistbis[1], \"NA\": \"whitesmoke\"}"
   ]
  },
  {
   "cell_type": "markdown",
   "id": "98b93fa0-8886-4a17-b624-5fa6faa2b398",
   "metadata": {},
   "source": [
    "# snRNA-seq"
   ]
  },
  {
   "cell_type": "code",
   "execution_count": null,
   "id": "80fd421f-787a-4b32-b55d-9c5e67873b91",
   "metadata": {},
   "outputs": [],
   "source": [
    "highlevel_refined = {\"Hepatocyte\": \"Epithelial\", \n",
    "                     \"Carcinoma\": \"Carcinoma\", \n",
    "                     \"Fibroblast\": \"Fibroblast\", \n",
    "                     \"Quiescent endothelial cells\": \"Endothelial\", \n",
    "                     \"Smooth muscle\": \"Muscle\", \n",
    "                     \"Skeletal muscle\": \"Muscle\",\n",
    "                     \"TAM2\": \"Myeloid\", \"TAM3\": \"Myeloid\",\n",
    "                     \"TCD4\": \"Lymphoid\", \n",
    "                     \"Inflammatory CAF\": \"Fibroblast\", \n",
    "                     \"Adipose CAF\": \"Fibroblast\",\n",
    "                     \"HGF-CAF\": \"Fibroblast\",\n",
    "                     \"TAM1\": \"Myeloid\", \n",
    "                     \"Myeloid-HighMT\": \"Unknown/technical\", \n",
    "                     \"Angiogenic EC\": \"Endothelial\", \n",
    "                     \"Quiescent EC\": \"Endothelial\", \n",
    "                     \"Venous EC\": \"Endothelial\",\n",
    "                     \"TCD8\": \"Lymphoid\", \n",
    "                     \"B\": \"Lymphoid\", \n",
    "                     \"DC\": \"Myeloid\", \n",
    "                     \"Hepatic EC\": \"Endothelial\", \n",
    "                     \"Kupffer cells\": \"Myeloid\", \n",
    "                     \"NK\": \"Lymphoid\", \n",
    "                     \"Treg\": \"Lymphoid\", \n",
    "                     \"StrMus-HighMT\": \"Unknown/technical\", \n",
    "                     \"T-HighMT\": \"Unknown/technical\", \n",
    "                     \"Mast\": \"Myeloid\", \n",
    "                     \"Adipocytes\": \"Stromal/Muscle\", \n",
    "                     \"Endo-HighMT\": \"Unknown/technical\"}"
   ]
  },
  {
   "cell_type": "code",
   "execution_count": null,
   "id": "888226af-056d-48ad-9e1a-92f84554a51f",
   "metadata": {},
   "outputs": [],
   "source": [
    "adata.obs = pd.concat([adata.obs,refined_annotations],axis=1)\n",
    "adata.obs = pd.concat([adata.obs,refined_wcancer[\"refined_wcancer\"]],axis=1)\n",
    "\n",
    "adata.obs[\"highlevel_refined\"] = adata.obs.refined_annotations.replace(highlevel_refined)"
   ]
  },
  {
   "cell_type": "code",
   "execution_count": null,
   "id": "a9592c17-1015-4645-8f7e-4dbfec9058af",
   "metadata": {},
   "outputs": [],
   "source": [
    "colorlist = sns.color_palette(\"colorblind\", 10)\n",
    "ctlist = adata.obs.highlevel_refined.unique()\n",
    "colormapping = {ct: colorlist[i] for i,ct in enumerate(ctlist)}\n",
    "colormapping[\"NA\"] = \"whitesmoke\""
   ]
  },
  {
   "cell_type": "code",
   "execution_count": null,
   "id": "b844f813-c521-4a02-9d5e-6b8c6d7d3dce",
   "metadata": {},
   "outputs": [],
   "source": [
    "mTFs = ['KLF5', 'ELF3', 'SMAD3', 'TCF7L2', 'HMGA2', \"BNC2\"]"
   ]
  },
  {
   "cell_type": "markdown",
   "id": "aeaddb12-0a7a-4405-ab19-36c3b4a478a3",
   "metadata": {},
   "source": [
    "## Subset of malignant cells"
   ]
  },
  {
   "cell_type": "code",
   "execution_count": null,
   "id": "443b60eb-627c-4dc1-aaa6-6413f8799078",
   "metadata": {},
   "outputs": [],
   "source": [
    "colorlist = palettable.colorbrewer.qualitative.Set1_5.mpl_colors\n",
    "colormapping_mal = {\"cNMF_1\": colorlist[0], \"cNMF_2\": colorlist[1], \"cNMF_3\": colorlist[2], \n",
    "                    \"cNMF_4\": colorlist[3], \"cNMF_5\": colorlist[4]}\n",
    "colormapping_mal[\"cNMF_Outlier\"] = \"grey\"\n",
    "colormapping_mal[\"Carcinoma_undefined\"] = \"grey\""
   ]
  },
  {
   "cell_type": "code",
   "execution_count": null,
   "id": "3e3225aa-fda6-487d-8182-488668363e9d",
   "metadata": {},
   "outputs": [],
   "source": [
    "subadata = adata[adata.obs.highlevel_refined==\"Carcinoma\"].copy()"
   ]
  },
  {
   "cell_type": "code",
   "execution_count": null,
   "id": "d9adc89e-02d1-4533-86c2-788272f0ab1a",
   "metadata": {},
   "outputs": [],
   "source": [
    "sc.tl.pca(subadata)\n",
    "sc.external.pp.harmony_integrate(subadata, key=\"sample_id\", basis=\"X_pca\", max_iter_harmony=20)\n",
    "sc.pp.neighbors(subadata, use_rep=\"X_pca_harmony\")\n",
    "sc.tl.umap(subadata)"
   ]
  },
  {
   "cell_type": "markdown",
   "id": "7c93d268-2199-4958-adb4-b18c4b6d4526",
   "metadata": {},
   "source": [
    "## Score states"
   ]
  },
  {
   "cell_type": "code",
   "execution_count": null,
   "id": "f716bffd-cc86-4e8e-9ae5-c00d07797074",
   "metadata": {},
   "outputs": [],
   "source": [
    "import signaturescoring as ssc\n",
    "marker_genes = {}\n",
    "for cl in [\"1\",\"2\",\"3\",\"4\",\"5\"]:\n",
    "    marker_genes[cl] = pd.read_csv(f\"/add/path/here/cNMF_{cl}.csv\",index_col=0)\n",
    "    \n",
    "for prog in marker_genes:\n",
    "    ssc.score_signature(adata=subadata,\n",
    "                        gene_list=list(np.setdiff1d(marker_genes[prog].head(100).index.ravel(),mTFs)), \n",
    "                        method=\"adjusted_neighborhood_scoring\", \n",
    "                        ctrl_size=150,\n",
    "                        score_name=f\"cNMF_{prog}_score\")"
   ]
  },
  {
   "cell_type": "code",
   "execution_count": null,
   "id": "570e5f9b-3523-4581-a8dc-8af0b456d09d",
   "metadata": {},
   "outputs": [],
   "source": [
    "ssc.score_signature(adata=subadata,\n",
    "                        gene_list=[\"KLF5\",\"ELF3\",\"SMAD3\",\"TCF7L2\"], \n",
    "                        method=\"adjusted_neighborhood_scoring\", \n",
    "                        ctrl_size=150,\n",
    "                        score_name=\"mTF_score\")"
   ]
  },
  {
   "cell_type": "code",
   "execution_count": null,
   "id": "05592920-a6d5-4bcc-8b0e-5c2551f84cdc",
   "metadata": {},
   "outputs": [],
   "source": [
    "subadata.obs[[\"cNMF_1_score\",\"cNMF_3_score\",\"cNMF_4_score\"]].corr()"
   ]
  },
  {
   "cell_type": "code",
   "execution_count": null,
   "id": "63af04fb-32ea-418a-b15b-46a373e95125",
   "metadata": {
    "scrolled": true
   },
   "outputs": [],
   "source": [
    "TF_expr = pd.DataFrame(subadata[:,mTFs].X.copy().toarray(),index=subadata.obs_names,columns=mTFs)\n",
    "\n",
    "TF_expr = pd.concat([TF_expr,subadata.obs[\"refined_wcancer\"]],axis=1)\n",
    "\n",
    "fig, ax = plt.subplots(2,4, figsize=(15,8))\n",
    "flatax=ax.flatten()\n",
    "for i,tf in enumerate(mTFs):\n",
    "    sns.boxplot(data=TF_expr,x=\"refined_wcancer\",\n",
    "                y=tf,ax=flatax[i], palette=colormapping_mal,order=[\"Carcinoma_undefined\",\"cNMF_1\",\"cNMF_3\",\"cNMF_4\"])\n",
    "    flatax[i].set_xticklabels([\"Carc. Undef.\", \"cNMF_1\", \"cNMF_3\", \"cNMF_4\"], rotation=45, ha=\"right\")\n",
    "    flatax[i].set_xlabel(\"\")\n",
    "    flatax[i].spines[[\"top\",\"right\"]].set_visible(False)\n",
    "flatax[-1].axis(\"off\")\n",
    "fig.tight_layout()\n",
    "fig.savefig(\"figures/malignant/mTFs_expr_perstate.png\",dpi=300,bbox_inches=\"tight\")"
   ]
  },
  {
   "cell_type": "code",
   "execution_count": null,
   "id": "d6328336-f913-45ed-a2dd-933e919f52fd",
   "metadata": {},
   "outputs": [],
   "source": [
    "TF_expr = pd.DataFrame(subadata[:,mTFs].X.copy().toarray(),index=subadata.obs_names,columns=mTFs)\n",
    "TF_expr = pd.concat([TF_expr,subadata.obs[[\"cNMF_1_score\",\"cNMF_3_score\",\"cNMF_4_score\"]]],axis=1)"
   ]
  },
  {
   "cell_type": "code",
   "execution_count": null,
   "id": "55159a6d-9101-4d91-bf78-0983363565f3",
   "metadata": {},
   "outputs": [],
   "source": [
    "heatmap_df = TF_expr.corr().loc[[\"cNMF_3_score\",\"cNMF_1_score\",\"cNMF_4_score\"],mTFs]"
   ]
  },
  {
   "cell_type": "code",
   "execution_count": null,
   "id": "2c7f3aba",
   "metadata": {
    "scrolled": true
   },
   "outputs": [],
   "source": [
    "TF_expr[mTFs].corr()"
   ]
  },
  {
   "cell_type": "code",
   "execution_count": null,
   "id": "e8702981-0d55-4f3b-866c-2327fbec6259",
   "metadata": {},
   "outputs": [],
   "source": [
    "fig, ax = plt.subplots(1,1, figsize=(2,2))\n",
    "sns.regplot(data=TF_expr, x=\"cNMF_3_score\", y=\"ELF3\", ax=ax, scatter_kws={'s':2, \"alpha\": 0.1})\n",
    "pretty_ax(ax)"
   ]
  },
  {
   "cell_type": "code",
   "execution_count": null,
   "id": "d773a186-be0c-42ec-97f7-666b44e3b293",
   "metadata": {},
   "outputs": [],
   "source": [
    "fig, ax = plt.subplots(1,1, figsize=(2,2))\n",
    "sns.regplot(data=TF_expr, x=\"cNMF_4_score\", y=\"HMGA2\", ax=ax, scatter_kws={'s':2, \"alpha\": 0.1})\n",
    "pretty_ax(ax)"
   ]
  },
  {
   "cell_type": "code",
   "execution_count": null,
   "id": "c7f00048-966b-4a32-879e-d43420aee525",
   "metadata": {},
   "outputs": [],
   "source": [
    "fig, ax = plt.subplots(1,1, figsize=(2,2))\n",
    "sns.regplot(data=TF_expr, x=\"cNMF_3_score\", y=\"KLF5\", ax=ax, scatter_kws={'s':2, \"alpha\": 0.1})\n",
    "pretty_ax(ax)"
   ]
  },
  {
   "cell_type": "code",
   "execution_count": null,
   "id": "93a1d519-7fbb-414c-81ce-776bb411a74c",
   "metadata": {},
   "outputs": [],
   "source": [
    "fig, ax = plt.subplots(1,1,figsize=(4,2))\n",
    "sns.heatmap(data=heatmap_df, annot=heatmap_df, cmap=\"vlag\", center=0, ax=ax, fmt=\".2f\")\n",
    "ax.set_yticklabels([\"cNMF_3\",\"cNMF_1\",\"cNMF_4\"])\n",
    "fig.savefig(\"../clean_code/figures/malignant/heatmap_cNMF_TF_corr.png\", dpi=300, bbox_inches=\"tight\")"
   ]
  },
  {
   "cell_type": "code",
   "execution_count": null,
   "id": "8b91b679-e8bc-4719-bd42-d9ed7edb8d4a",
   "metadata": {},
   "outputs": [],
   "source": [
    "df = subadata.obs[[\"refined_wcancer\",\"mTF_score\"]]\n",
    "ax = sns.kdeplot(data=df, x=\"mTF_score\", hue=\"refined_wcancer\", palette=colormapping_mal, common_norm=False)\n",
    "ax.legend(bbox_to_anchor=(1, 1), frameon=False)\n",
    "pretty_ax(ax)\n",
    "ax.figure.savefig(\"../clean_code/figures/malignant/kdeplot_cNMF_mTF_score.svg\", dpi=200, bbox_inches=\"tight\")"
   ]
  },
  {
   "cell_type": "code",
   "execution_count": null,
   "id": "c14f395a-f66d-4428-be7d-53831a1ccfe2",
   "metadata": {},
   "outputs": [],
   "source": [
    "df = subadata.obs[[\"cNMF_3_score\",\"cNMF_1_score\",\"cNMF_4_score\",\"mTF_score\"]]\n",
    "heatmap_df = df.corr().loc[[\"mTF_score\"],[\"cNMF_3_score\",\"cNMF_1_score\",\"cNMF_4_score\"]]\n",
    "fig, ax = plt.subplots(1,1,figsize=(2,0.5))\n",
    "sns.heatmap(data=heatmap_df, annot=heatmap_df, cmap=\"vlag\", center=0, ax=ax)\n",
    "ax.set_yticklabels(ax.get_yticklabels(), rotation=0)\n",
    "ax.set_xticklabels([\"cNMF_3\",\"cNMF_1\",\"cNMF_4\"], rotation=45, ha=\"right\")\n",
    "fig.savefig(\"../clean_code/figures/malignant/heatmap_cNMF_mTFscore_corr.png\", dpi=300, bbox_inches=\"tight\")"
   ]
  },
  {
   "cell_type": "code",
   "execution_count": null,
   "id": "1110d872-9cb8-4328-adb2-4d6f5cc4f807",
   "metadata": {},
   "outputs": [],
   "source": []
  }
 ],
 "metadata": {
  "kernelspec": {
   "display_name": "Python 3 (ipykernel)",
   "language": "python",
   "name": "python3"
  },
  "language_info": {
   "codemirror_mode": {
    "name": "ipython",
    "version": 3
   },
   "file_extension": ".py",
   "mimetype": "text/x-python",
   "name": "python",
   "nbconvert_exporter": "python",
   "pygments_lexer": "ipython3",
   "version": "3.9.16"
  }
 },
 "nbformat": 4,
 "nbformat_minor": 5
}
