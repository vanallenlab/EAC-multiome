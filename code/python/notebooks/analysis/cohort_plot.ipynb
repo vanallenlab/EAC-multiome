{
 "cells": [
  {
   "cell_type": "code",
   "execution_count": null,
   "id": "77c61bdf-d46f-417c-9180-31989e1e08f8",
   "metadata": {},
   "outputs": [],
   "source": [
    "import pandas as pd\n",
    "import numpy as np\n",
    "import palettable\n",
    "%matplotlib inline\n",
    "%config InlineBackend.figure_format = 'retina'\n",
    "\n",
    "import matplotlib.pyplot as plt\n",
    "plt.rcParams[\"font.size\"] = \"17\" # if you don't have arial it will fall back to Deja Vu"
   ]
  },
  {
   "cell_type": "code",
   "execution_count": null,
   "id": "08a392ef-b22b-44ea-bbbf-1f0b892aabf9",
   "metadata": {},
   "outputs": [],
   "source": [
    "import matplotlib"
   ]
  },
  {
   "cell_type": "code",
   "execution_count": null,
   "id": "47007423-d206-407d-9ba6-07f867262def",
   "metadata": {},
   "outputs": [],
   "source": [
    "from comut import comut"
   ]
  },
  {
   "cell_type": "code",
   "execution_count": null,
   "id": "ba228ccb-fea4-4624-b945-440358d7c43d",
   "metadata": {},
   "outputs": [],
   "source": [
    "clinical = pd.read_csv(\"/add/path/here/EAC_clinical_info.csv\",index_col=0)\n",
    "treatment_mapping = {\"Neoadjuvant CROSS\": \"Neoadj. chemo\", \"Neoadjuvent carboplatin\": \"Neoadj. chemo\"}\n",
    "metastatic = (clinical[\"Tumor?\"]==\"Yes \") & (clinical[\"Site\"].str.contains(\"metastasis\"))\n",
    "metastatic.name = \"Metastatic?\"\n",
    "clinical[\"Metastatic?\"] = metastatic\n",
    "\n",
    "clinical[\"Location\"] = clinical[\"Site\"].replace({\"GEJ\": \"Esophagus/GEJ\", \n",
    "                          \"Esophagus\": \"Esophagus/GEJ\"})\n",
    "clinical[\"Location\"][clinical[\"Location\"].str.contains(\"Liver\")] = \"Liver\"\n",
    "clinical[\"Location\"][clinical[\"Location\"].str.contains(\"Adrenal\")] = \"Adrenal gland\"\n",
    "clinical[\"Location\"][clinical[\"Location\"].str.contains(\"Peritoneal\")] = \"Peritoneum\"\n",
    "\n",
    "clinical[\"Stage\"] = clinical[\"Grade/stage\"].replace({\"Stage IV \": \"IV\", \"Stage IV\": \"IV\", \n",
    "                                                     \"Moderately differentiated; ypT1aN0\": \"I\", \n",
    "                                                     \"Moderately differentiated; pT1aN0\": \"I\", \n",
    "                                                     \"Poorly differentiated; ypT2N0\": \"II\", \n",
    "                                                     \"Presented with stage III became stage IV during esophagectomy when pleural metastases were identified\": \"III/IV\"})\n",
    "\n",
    "clinical[\"Treatment\"] = [\"Neoadj. chemo\",\n",
    "                         \"None\",\n",
    "                         \"Neoadj. chemo + ICI + RT\",\n",
    "                         \"None\",\n",
    "                         \"None\",\n",
    "                         \"Chemo + HER2 targeted + ICI\", \n",
    "                         \"Neoadj. chemo + HER2 targeted\", \n",
    "                         \"Neoadj. chemo + ICI\", \n",
    "                         \"None\",\n",
    "                         \"Neoadj. chemo + VEGFR2i\"]\n",
    "\n",
    "clinical[\"HER2 status\"] = clinical[\"HER2\"].replace({\"HER 2 1+\": \"1+/equivocal\"})\n",
    "\n",
    "clinical = clinical.sort_values(by=[\"Tumor?\",\"Metastatic?\",\"Location\"])\n",
    "\n",
    "clinical[\"PD-L1 CPS score\"] = [0,2,7,2,3,24,0,8,3,15]"
   ]
  },
  {
   "cell_type": "markdown",
   "id": "dbb59f0e-9952-4d43-8432-b996361f22d0",
   "metadata": {},
   "source": [
    "# Comut plot"
   ]
  },
  {
   "cell_type": "code",
   "execution_count": null,
   "id": "03e2f4ea-d352-4ddd-acb3-0479038463b9",
   "metadata": {},
   "outputs": [],
   "source": [
    "pastel_10 = palettable.cartocolors.qualitative.Pastel_10.mpl_colors\n",
    "prism_10 = palettable.cartocolors.qualitative.Prism_10.mpl_colors\n",
    "safe_10 = palettable.cartocolors.qualitative.Safe_10.mpl_colors\n",
    "vivid_10 = palettable.cartocolors.qualitative.Vivid_10.mpl_colors\n",
    "BluYl_4 = palettable.cartocolors.sequential.BluYl_4.mpl_colors\n",
    "BrwnYl_4 = palettable.cartocolors.sequential.BrwnYl_4.mpl_colors\n",
    "Emrld_7 = palettable.cartocolors.sequential.Emrld_7.mpl_colormap"
   ]
  },
  {
   "cell_type": "code",
   "execution_count": null,
   "id": "8223d46b-2c05-4a82-a18a-3029b3436211",
   "metadata": {},
   "outputs": [],
   "source": [
    "disease_data = clinical[\"Tumor?\"].replace({\"Yes \": \"Tumor\"}).reset_index()\n",
    "disease_data[\"category\"] = [\"Disease status\"]*disease_data.shape[0]\n",
    "disease_data.columns = [\"sample\",\"value\",\"category\"]\n",
    "\n",
    "met_data = clinical[\"Metastatic?\"]\n",
    "met_data.loc[clinical[\"Tumor?\"].isin([\"Adjacent normal\"])] = \"Not Available\"\n",
    "met_data = met_data.replace({False: \"Primary tissue\", True: \"Metastatic site\"}).reset_index()\n",
    "met_data[\"category\"] = [\"Metastatic status\"]*met_data.shape[0]\n",
    "met_data.columns = [\"sample\",\"value\",\"category\"]\n",
    "full_dis_data = pd.concat([met_data,disease_data,])\n",
    "dis_mapping = {\"Primary tissue\": safe_10[0], \n",
    "               \"Metastatic site\": safe_10[1], \n",
    "               \"Tumor\": safe_10[9], \"Adjacent normal\": safe_10[3]}"
   ]
  },
  {
   "cell_type": "code",
   "execution_count": null,
   "id": "dc995d6f-0f4c-4071-b048-f05281b5cd34",
   "metadata": {},
   "outputs": [],
   "source": [
    "stage_data = clinical[\"Stage\"].reset_index()\n",
    "stage_data[\"category\"] = [\"Stage\"]*stage_data.shape[0]\n",
    "stage_data.columns = [\"sample\",\"value\",\"category\"]\n",
    "stage_mapping = {\"I\": BluYl_4[0], \"II\": BluYl_4[1], \"III/IV\": BluYl_4[2], \"IV\": BluYl_4[3]}"
   ]
  },
  {
   "cell_type": "code",
   "execution_count": null,
   "id": "62a200ce-bfd6-4271-afe9-8f80a4c244c9",
   "metadata": {},
   "outputs": [],
   "source": [
    "site_data = clinical[\"Location\"].reset_index()\n",
    "site_data[\"category\"] = [\"Biopsy site\"]*site_data.shape[0]\n",
    "site_data.columns = [\"sample\",\"value\",\"category\"]\n",
    "site_mapping = {\"Esophagus/GEJ\": vivid_10[0], \"Adrenal gland\": vivid_10[1], \"Liver\": vivid_10[4], \"Peritoneum\": vivid_10[5]}"
   ]
  },
  {
   "cell_type": "code",
   "execution_count": null,
   "id": "0494fcdf-8792-4b52-99a7-1838011c65b4",
   "metadata": {},
   "outputs": [],
   "source": [
    "her2_data = clinical[\"HER2 status\"].str.rstrip().reset_index()\n",
    "her2_data[\"category\"] = [\"HER2 status\"]*her2_data.shape[0]\n",
    "her2_data.columns = [\"sample\",\"value\",\"category\"]\n",
    "her2_mapping = {\"0/negative\": BrwnYl_4[0], \"1+/equivocal\": BrwnYl_4[1],\n",
    "                \"2+/equivocal\": BrwnYl_4[2], \"3+/positive\": BrwnYl_4[3]}"
   ]
  },
  {
   "cell_type": "code",
   "execution_count": null,
   "id": "7efb266d-933c-485d-8caf-c61c67f41655",
   "metadata": {},
   "outputs": [],
   "source": [
    "pdl1_data = clinical[\"PD-L1 CPS score\"].reset_index()\n",
    "pdl1_data[\"category\"] = [\"PD-L1 CPS score\"]*pdl1_data.shape[0]\n",
    "pdl1_data.columns = [\"sample\",\"value\",\"category\"]"
   ]
  },
  {
   "cell_type": "code",
   "execution_count": null,
   "id": "0e1f4ce8-b0d2-4510-8948-477dc34ff375",
   "metadata": {},
   "outputs": [],
   "source": [
    "chemo_indicator = ((clinical[\"Treatment\"].str.contains(\"chemo\")) | (clinical[\"Treatment\"].str.contains(\"Chemo\"))).reset_index()\n",
    "chemo_indicator[\"category\"] = [\"Chemotherapy\"]*chemo_indicator.shape[0]\n",
    "chemo_indicator.columns = [\"sample\",\"value\",\"category\"]\n",
    "ici_indicator = (clinical[\"Treatment\"].str.contains(\"ICI\")).reset_index()\n",
    "ici_indicator[\"category\"] = [\"ICI\"]*ici_indicator.shape[0]\n",
    "ici_indicator.columns = [\"sample\",\"value\",\"category\"]\n",
    "her2_indicator = (clinical[\"Treatment\"].str.contains(\"HER2\")).reset_index()\n",
    "her2_indicator[\"category\"] = [\"HER2 targeted therapy\"]*her2_indicator.shape[0]\n",
    "her2_indicator.columns = [\"sample\",\"value\",\"category\"]\n",
    "rt_indicator = (clinical[\"Treatment\"].str.contains(\"RT\")).reset_index()\n",
    "rt_indicator[\"category\"] = [\"Radiotherapy\"]*rt_indicator.shape[0]\n",
    "rt_indicator.columns = [\"sample\",\"value\",\"category\"]\n",
    "vegf_indicator = (clinical[\"Treatment\"].str.contains(\"VEGFR\")).reset_index()\n",
    "vegf_indicator[\"category\"] = [\"VEGFR inhibitor\"]*vegf_indicator.shape[0]\n",
    "vegf_indicator.columns = [\"sample\",\"value\",\"category\"]\n",
    "treatment_data = pd.concat([her2_indicator,rt_indicator,\n",
    "                            vegf_indicator,\n",
    "                            chemo_indicator,ici_indicator])\n",
    "treatment_mapping = ({True: prism_10[7], False: {'facecolor':'grey', \"alpha\": 0.2},})"
   ]
  },
  {
   "cell_type": "code",
   "execution_count": null,
   "id": "a3f7b0b3-f15d-484e-b08b-70a1b622d98a",
   "metadata": {},
   "outputs": [],
   "source": []
  },
  {
   "cell_type": "code",
   "execution_count": null,
   "id": "65e2bcfa-6cd8-4355-b673-9824eb91f54d",
   "metadata": {},
   "outputs": [],
   "source": [
    "toy_comut = comut.CoMut()\n",
    "toy_comut.samples = clinical.index.tolist()\n",
    "\n",
    "toy_comut.add_categorical_data(data=treatment_data, name=\"Treatment type\", mapping=treatment_mapping)\n",
    "toy_comut.add_categorical_data(data=naive_indicator, name=\"Pre-biopsy treatment\", mapping=naive_mapping)\n",
    "toy_comut.add_continuous_data(data=pdl1_data, name=\"PD-L1 CPS score\", mapping=Emrld_7, value_range=(0,25))\n",
    "toy_comut.add_categorical_data(data=her2_data, name=\"HER2 status\", mapping=her2_mapping)\n",
    "toy_comut.add_categorical_data(data=site_data, name=\"Biopsy site\", mapping=site_mapping)\n",
    "toy_comut.add_categorical_data(data=stage_data, name=\"Stage\", mapping=stage_mapping)\n",
    "toy_comut.add_categorical_data(data=full_dis_data, name=\"Disease status\", mapping=dis_mapping, )\n",
    "heights = {'Treatment type': 1.7,}\n",
    "\n",
    "toy_comut.plot_comut(figsize = (8, 8), x_padding = 0.04, \n",
    "                     y_padding = 0.04, tri_padding = 0.03, heights = heights)\n",
    "toy_comut.add_unified_legend(bbox_to_anchor = (1, 1.4), numpoints = 2, ncol = 2)\n",
    "\n",
    "# color bars must be added manually based on figure coordinates - [left, bottom, width, height]\n",
    "cps_ax = toy_comut.figure.add_axes([0.97, 0.15, 0.08, 0.014])\n",
    "# purity ranges from 0 to 1\n",
    "norm = matplotlib.colors.Normalize(vmin=0, vmax=25)\n",
    "# create the colorbar with colormap used when the continuous data was added (purp_7)\n",
    "cps_colorbar = toy_comut.figure.colorbar(matplotlib.cm.ScalarMappable(norm=norm, cmap=Emrld_7),\n",
    "                                                 cax=cps_ax, orientation='horizontal')\n",
    "# remove tick marks and move tick labels slightly inwards. Also remove black border\n",
    "cps_colorbar.ax.tick_params(size=0)\n",
    "cps_colorbar.set_ticks([0,10,25])\n",
    "cps_colorbar.set_ticklabels([0,10,25])\n",
    "cps_colorbar.outline.set_visible(False)\n",
    "\n",
    "# set title of colorbar to line up with other legend elements\n",
    "cps_colorbar.set_label('CPS score', labelpad = -50, x = 0.3)\n"
   ]
  },
  {
   "cell_type": "code",
   "execution_count": null,
   "id": "bb3f3163-4dc0-4860-b065-690c7f0e6e54",
   "metadata": {},
   "outputs": [],
   "source": []
  }
 ],
 "metadata": {
  "kernelspec": {
   "display_name": "Python 3 (ipykernel)",
   "language": "python",
   "name": "python3"
  },
  "language_info": {
   "codemirror_mode": {
    "name": "ipython",
    "version": 3
   },
   "file_extension": ".py",
   "mimetype": "text/x-python",
   "name": "python",
   "nbconvert_exporter": "python",
   "pygments_lexer": "ipython3",
   "version": "3.9.16"
  }
 },
 "nbformat": 4,
 "nbformat_minor": 5
}
