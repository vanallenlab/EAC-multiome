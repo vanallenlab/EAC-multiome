{
 "cells": [
  {
   "cell_type": "code",
   "execution_count": null,
   "id": "37c48700-ae8a-4746-8f82-1ac985692bd8",
   "metadata": {},
   "outputs": [],
   "source": [
    "import scanpy as sc\n",
    "import pandas as pd\n",
    "import numpy as np\n",
    "import matplotlib.pyplot as plt\n",
    "import seaborn as sns\n",
    "import palettable\n",
    "\n",
    "import pathlib as pl\n",
    "\n",
    "from tqdm.notebook import tqdm"
   ]
  },
  {
   "cell_type": "code",
   "execution_count": null,
   "id": "702b92f3-d670-4a12-9ae6-a94833cbec66",
   "metadata": {},
   "outputs": [],
   "source": [
    "import scib\n",
    "\n",
    "from scipy.stats import fisher_exact"
   ]
  },
  {
   "cell_type": "code",
   "execution_count": null,
   "id": "cccd2928-4f0e-49fc-a833-d8031637adf9",
   "metadata": {},
   "outputs": [],
   "source": [
    "def pretty_ax(ax):\n",
    "    ax.spines['right'].set_visible(False)\n",
    "    ax.spines['top'].set_visible(False)\n",
    "    ax.tick_params(\n",
    "        axis='both',  \n",
    "        which='both',      \n",
    "        bottom=True,     \n",
    "        top=False,\n",
    "        left=False,\n",
    "        labelbottom=False,\n",
    "        labelleft = False)\n",
    "    ax.spines[\"bottom\"].set_linewidth(1.5)\n",
    "    ax.spines[\"left\"].set_linewidth(1.5)"
   ]
  },
  {
   "cell_type": "markdown",
   "id": "7fb7c42e-a2aa-466c-b0ec-6bb57d5846ce",
   "metadata": {},
   "source": [
    "# Download data"
   ]
  },
  {
   "cell_type": "code",
   "execution_count": null,
   "id": "20edd475-38ab-4795-b566-dfd72cd91e8f",
   "metadata": {},
   "outputs": [],
   "source": [
    "adata = sc.read_h5ad(\"/add/path/here/full_cohort.h5ad\")"
   ]
  },
  {
   "cell_type": "code",
   "execution_count": null,
   "id": "ea376b47-7817-4936-84d5-c2b891f2f389",
   "metadata": {},
   "outputs": [],
   "source": [
    "clinical = pd.read_csv(\"/add/path/here/EAC_clinical_info.csv\",index_col=0)\n",
    "treatment_mapping = {\"Neoadjuvant CROSS\": \"Neoadj. chemo\", \"Neoadjuvent carboplatin\": \"Neoadj. chemo\"}\n",
    "metastatic = (clinical[\"Tumor?\"]==\"Yes \") & (clinical[\"Site\"].str.contains(\"metastasis\"))\n",
    "metastatic.name = \"Metastatic?\"\n",
    "clinical[\"Metastatic?\"] = metastatic\n",
    "\n",
    "clinical[\"Location\"] = clinical[\"Site\"].replace({\"GEJ\": \"Esophagus/GEJ\", \n",
    "                          \"Esophagus\": \"Esophagus/GEJ\"})\n",
    "clinical[\"Location\"][clinical[\"Location\"].str.contains(\"Liver\")] = \"Liver\"\n",
    "clinical[\"Location\"][clinical[\"Location\"].str.contains(\"Adrenal\")] = \"Adrenal gland\"\n",
    "clinical[\"Location\"][clinical[\"Location\"].str.contains(\"Peritoneal\")] = \"Peritoneum\"\n",
    "\n",
    "clinical[\"Stage\"] = clinical[\"Grade/stage\"].replace({\"Stage IV \": \"IV\", \"Stage IV\": \"IV\", \n",
    "                                                     \"Moderately differentiated; ypT1aN0\": \"I\", \n",
    "                                                     \"Moderately differentiated; pT1aN0\": \"I\", \n",
    "                                                     \"Poorly differentiated; ypT2N0\": \"II\", \n",
    "                                                     \"Presented with stage III became stage IV during esophagectomy when pleural metastases were identified\": \"III/IV\"})\n",
    "\n",
    "clinical[\"Treatment\"] = [\"Neoadj. chemo\",\n",
    "                         \"None\",\n",
    "                         \"Neoadj. chemo + ICI + RT\",\n",
    "                         \"None\",\n",
    "                         \"None\",\n",
    "                         \"Chemo + HER2 targeted + ICI\", \n",
    "                         \"Neoadj. chemo + HER2 targeted\", \n",
    "                         \"Neoadj. chemo + ICI\", \n",
    "                         \"None\",\n",
    "                         \"Neoadj. chemo + VEGFR2i\"]\n",
    "\n",
    "clinical[\"HER2 status\"] = clinical[\"HER2\"].replace({\"HER 2 1+\": \"1+/equivocal\"})\n",
    "\n",
    "clinical = clinical.sort_values(by=[\"Tumor?\",\"Metastatic?\",\"Location\"])\n",
    "\n",
    "clinical[\"PD-L1 CPS score\"] = [0,2,7,2,3,24,0,8,3,15]"
   ]
  },
  {
   "cell_type": "code",
   "execution_count": null,
   "id": "a658c877-9a51-492f-a660-daa8a307729d",
   "metadata": {},
   "outputs": [],
   "source": [
    "refined_annotations = pd.read_csv(\"/add/path/here/refined_annotations.csv\",index_col=0)\n",
    "\n",
    "refined_annotations.columns = [\"refined_annotations\"]\n",
    "\n",
    "refined_wcancer = pd.read_csv(\"/add/path/here/refined_wCNMF_programs_and_sampleid.csv\",index_col=0)"
   ]
  },
  {
   "cell_type": "code",
   "execution_count": null,
   "id": "409ecf85-d3f8-4bcf-98e0-d5f8e30f3cab",
   "metadata": {},
   "outputs": [],
   "source": [
    "count_df = refined_wcancer[[\"sample_id\",\"Corrected label\"]].value_counts().unstack()"
   ]
  },
  {
   "cell_type": "code",
   "execution_count": null,
   "id": "919c5348-c21f-4a10-9e7c-c6fefadcc13c",
   "metadata": {},
   "outputs": [],
   "source": [
    "(count_df.T/count_df.sum(axis=1)).T"
   ]
  },
  {
   "cell_type": "code",
   "execution_count": null,
   "id": "780bada8-4340-44a8-8b27-32a53fbd7f4b",
   "metadata": {},
   "outputs": [],
   "source": [
    "colorlist = palettable.colorbrewer.qualitative.Dark2_8.mpl_colors\n",
    "colorlistbis = palettable.colorbrewer.qualitative.Paired_3.mpl_colors\n",
    "colormapping_pat = {'Aguirre_EGSFR1982': colorlist[0], \n",
    "                    \"Aguirre_EGSFR2218\": colorlist[1], \n",
    "                    \"CCG1153_4411\": colorlist[2], \n",
    "                    \"Aguirre_EGSFR1938\": colorlist[3], \n",
    "                    \"Aguirre_EGSFR0074\": colorlist[4], \n",
    "                    \"Aguirre_EGSFR0128\": colorlist[5], \n",
    "                    \"Aguirre_EGSFR1732\": colorlist[6], \n",
    "                    \"Aguirre_EGSFR0148\": colorlist[7], \n",
    "                    \"CCG1153_4496262\": colorlistbis[0], \n",
    "                    \"CCG1153_6640539\": colorlistbis[1], \"NA\": \"whitesmoke\"}"
   ]
  },
  {
   "cell_type": "markdown",
   "id": "98b93fa0-8886-4a17-b624-5fa6faa2b398",
   "metadata": {},
   "source": [
    "# snRNA-seq"
   ]
  },
  {
   "cell_type": "code",
   "execution_count": null,
   "id": "80fd421f-787a-4b32-b55d-9c5e67873b91",
   "metadata": {},
   "outputs": [],
   "source": [
    "highlevel_refined = {\"Hepatocyte\": \"Epithelial\", \n",
    "                     \"Carcinoma\": \"Carcinoma\", \n",
    "                     \"Fibroblast\": \"Fibroblast\", \n",
    "                     \"Quiescent endothelial cells\": \"Endothelial\", \n",
    "                     \"Smooth muscle\": \"Muscle\", \n",
    "                     \"Skeletal muscle\": \"Muscle\",\n",
    "                     \"TAM2\": \"Myeloid\", \"TAM3\": \"Myeloid\",\n",
    "                     \"TCD4\": \"Lymphoid\", \n",
    "                     \"Inflammatory CAF\": \"Fibroblast\", \n",
    "                     \"Adipose CAF\": \"Fibroblast\",\n",
    "                     \"HGF-CAF\": \"Fibroblast\",\n",
    "                     \"TAM1\": \"Myeloid\", \n",
    "                     \"Myeloid-HighMT\": \"Unknown/technical\", \n",
    "                     \"Angiogenic EC\": \"Endothelial\", \n",
    "                     \"Quiescent EC\": \"Endothelial\", \n",
    "                     \"Venous EC\": \"Endothelial\",\n",
    "                     \"TCD8\": \"Lymphoid\", \n",
    "                     \"B\": \"Lymphoid\", \n",
    "                     \"DC\": \"Myeloid\", \n",
    "                     \"Hepatic EC\": \"Endothelial\", \n",
    "                     \"Kupffer cells\": \"Myeloid\", \n",
    "                     \"NK\": \"Lymphoid\", \n",
    "                     \"Treg\": \"Lymphoid\", \n",
    "                     \"StrMus-HighMT\": \"Unknown/technical\", \n",
    "                     \"T-HighMT\": \"Unknown/technical\", \n",
    "                     \"Mast\": \"Myeloid\", \n",
    "                     \"Adipocytes\": \"Stromal/Muscle\", \n",
    "                     \"Endo-HighMT\": \"Unknown/technical\"}\n",
    "\n",
    "adata.obs = pd.concat([adata.obs,refined_annotations],axis=1)\n",
    "adata.obs = pd.concat([adata.obs,refined_wcancer[\"refined_wcancer\"]],axis=1)\n",
    "\n",
    "adata.obs[\"highlevel_refined\"] = adata.obs.refined_annotations.replace(highlevel_refined)"
   ]
  },
  {
   "cell_type": "code",
   "execution_count": null,
   "id": "4fc412fa-3c49-442e-9cba-e4237a8332d5",
   "metadata": {},
   "outputs": [],
   "source": [
    "scib.preprocessing.score_cell_cycle(adata, organism=\"human\")"
   ]
  },
  {
   "cell_type": "markdown",
   "id": "1f83f3ee-bd23-418e-bd44-a6ad345b6f4c",
   "metadata": {},
   "source": [
    "## Patient-level distributions"
   ]
  },
  {
   "cell_type": "code",
   "execution_count": null,
   "id": "a9592c17-1015-4645-8f7e-4dbfec9058af",
   "metadata": {},
   "outputs": [],
   "source": [
    "patlevel_counts = adata.obs[[\"sample_id\",\"highlevel_refined\"]].groupby(by=\"sample_id\").value_counts(normalize=True)\n",
    "patlevel_counts = patlevel_counts.round(2)*100\n",
    "\n",
    "df = patlevel_counts.unstack(level=-1)\n",
    "\n",
    "df = df.loc[clinical.index.intersection(df.index)].fillna(0).astype(int)\n",
    "\n",
    "colorlist = sns.color_palette(\"colorblind\", 10)\n",
    "ctlist = adata.obs.highlevel_refined.unique()\n",
    "colormapping = {ct: colorlist[i] for i,ct in enumerate(ctlist)}\n",
    "colormapping[\"NA\"] = \"whitesmoke\""
   ]
  },
  {
   "cell_type": "code",
   "execution_count": null,
   "id": "51eddae7-28b5-4e89-a50f-3b59a44e89c0",
   "metadata": {},
   "outputs": [],
   "source": [
    "def add_clinical_info(ax):\n",
    "\n",
    "    x1, x2 = 0, 1   # columns 'Sat' and 'Sun' (first column: 0, see plt.xticks())\n",
    "    y, h, col = 100, 10, 'k'\n",
    "    ax.plot([x1-0.4, x1-0.3, x2+0.3, x2+0.4], [y, y+h, y+h, y], lw=1.5, c=col)\n",
    "    ax.text((x1+x2)*.5, y+1.3*h, \"NAT\", ha='center', va='bottom', color=col)\n",
    "    \n",
    "    x1, x2 = 2, 4   # columns 'Sat' and 'Sun' (first column: 0, see plt.xticks())\n",
    "    y, h, col = 100, 10, 'k'\n",
    "    ax.plot([x1-0.4, x1-0.3, x2+0.3, x2+0.4], [y, y+h, y+h, y], lw=1.5, c=col)\n",
    "    ax.text((x1+x2)*.5, y+1.3*h, \"Primary\", ha='center', va='bottom', color=col)\n",
    "    \n",
    "    x1, x2 = 5, 9   # columns 'Sat' and 'Sun' (first column: 0, see plt.xticks())\n",
    "    y, h, col = 100, 10, 'k'\n",
    "    ax.plot([x1-0.4, x1-0.3, x2+0.3, x2+0.4], [y, y+h, y+h, y], lw=1.5, c=col)\n",
    "    ax.text((x1+x2)*.5, y+1.3*h, \"Metastatic\", ha='center', va='bottom', color=col)\n",
    "    \n",
    "    return ax"
   ]
  },
  {
   "cell_type": "code",
   "execution_count": null,
   "id": "8496f502-159c-4c5e-8ed4-8ecfc1860123",
   "metadata": {},
   "outputs": [],
   "source": [
    "fig, ax = plt.subplots(1,1,figsize=(6,3))\n",
    "df.plot(kind = 'bar', stacked = True, color=colormapping, ax=ax,)\n",
    "ax.legend(bbox_to_anchor=(1.05, 1), frameon=False)\n",
    "ax.spines[['right', 'top']].set_visible(False)\n",
    "ax.set_xlabel(\"\")\n",
    "ax.set_xticklabels(ax.get_xticklabels(), rotation=45, ha=\"right\")\n",
    "for c in ax.containers:\n",
    "\n",
    "    # Optional: if the segment is small or 0, customize the labels\n",
    "    labels = [int(v.get_height()) if v.get_height() >= 5 else '' for v in c]\n",
    "    \n",
    "    # remove the labels parameter if it's not needed for customized labels\n",
    "    ax.bar_label(c, labels=labels, label_type='center', fmt='%0.0f', color=\"white\")\n",
    "ax = add_clinical_info(ax)\n",
    "fig.savefig(\"figures/barplot_pat_tme_highlevel_scaled.png\", dpi=300, bbox_inches=\"tight\")"
   ]
  },
  {
   "cell_type": "code",
   "execution_count": null,
   "id": "5362c6c5-6931-47ed-acb1-203bd0e0a11f",
   "metadata": {},
   "outputs": [],
   "source": [
    "patlevel_counts = adata.obs[[\"sample_id\",\"highlevel_refined\"]].groupby(by=\"sample_id\").value_counts()\n",
    "df = patlevel_counts.unstack(level=-1)\n",
    "\n",
    "df = df.loc[clinical.index.intersection(df.index)]\n",
    "\n",
    "colorlist = sns.color_palette(\"colorblind\", 10)\n",
    "ctlist = adata.obs.highlevel_refined.unique()\n",
    "colormapping = {ct: colorlist[i] for i,ct in enumerate(ctlist)}\n",
    "colormapping[\"NA\"] = \"whitesmoke\""
   ]
  },
  {
   "cell_type": "code",
   "execution_count": null,
   "id": "5ecd4484-8e68-48c5-8aa8-8a5befb0d211",
   "metadata": {},
   "outputs": [],
   "source": [
    "def add_clinical_info(ax):\n",
    "\n",
    "    x1, x2 = 0, 1   # columns 'Sat' and 'Sun' (first column: 0, see plt.xticks())\n",
    "    y, h, col = 16000, 1000, 'k'\n",
    "    ax.plot([x1-0.4, x1-0.3, x2+0.3, x2+0.4], [y, y+h, y+h, y], lw=1.5, c=col)\n",
    "    ax.text((x1+x2)*.5, y+1.3*h, \"NAT\", ha='center', va='bottom', color=col)\n",
    "    \n",
    "    x1, x2 = 2, 4   # columns 'Sat' and 'Sun' (first column: 0, see plt.xticks())\n",
    "    y, h, col = 16000, 1000, 'k'\n",
    "    ax.plot([x1-0.4, x1-0.3, x2+0.3, x2+0.4], [y, y+h, y+h, y], lw=1.5, c=col)\n",
    "    ax.text((x1+x2)*.5, y+1.3*h, \"Primary\", ha='center', va='bottom', color=col)\n",
    "    \n",
    "    x1, x2 = 5, 9   # columns 'Sat' and 'Sun' (first column: 0, see plt.xticks())\n",
    "    y, h, col = 16000, 1000, 'k'\n",
    "    ax.plot([x1-0.4, x1-0.3, x2+0.3, x2+0.4], [y, y+h, y+h, y], lw=1.5, c=col)\n",
    "    ax.text((x1+x2)*.5, y+1.3*h, \"Metastatic\", ha='center', va='bottom', color=col)\n",
    "    \n",
    "    return ax"
   ]
  },
  {
   "cell_type": "code",
   "execution_count": null,
   "id": "c2764753-dff6-488c-8153-9834deacad6b",
   "metadata": {},
   "outputs": [],
   "source": [
    "fig, ax = plt.subplots(1,1,figsize=(6,3))\n",
    "df.plot(kind = 'bar', stacked = True, color=colormapping, ax=ax,)\n",
    "ax.legend(bbox_to_anchor=(1.05, 1), frameon=False)\n",
    "ax.spines[['right', 'top']].set_visible(False)\n",
    "ax.set_xlabel(\"\")\n",
    "ax.set_xticklabels(ax.get_xticklabels(), rotation=45, ha=\"right\")\n",
    "ax = add_clinical_info(ax)\n",
    "fig.savefig(\"figures/barplot_pat_tme_highlevel_nonscaled.png\", dpi=300, bbox_inches=\"tight\")"
   ]
  },
  {
   "cell_type": "markdown",
   "id": "47167b42-c49f-4284-8b84-57c015d77a2b",
   "metadata": {},
   "source": [
    "## UMAP viz"
   ]
  },
  {
   "cell_type": "code",
   "execution_count": null,
   "id": "0e89e329-8678-4907-b637-60ab3354b558",
   "metadata": {},
   "outputs": [],
   "source": [
    "sc.tl.pca(adata)\n",
    "\n",
    "sc.external.pp.harmony_integrate(adata, key=\"sample_id\", max_iter_harmony=20)\n",
    "\n",
    "sc.pp.neighbors(adata, use_rep=\"X_pca_harmony\")\n",
    "\n",
    "sc.tl.umap(adata)"
   ]
  },
  {
   "cell_type": "code",
   "execution_count": null,
   "id": "73a4f87e-57b2-4f79-9002-e4abcf8afa82",
   "metadata": {},
   "outputs": [],
   "source": [
    "fig = sc.pl.umap(adata, color=[\"highlevel_refined\"], palette=colormapping, frameon=False, ncols=1, return_fig=True)\n",
    "fig.savefig(\"figures/highlevel_refined_scRNA_umap.png\", dpi=300, bbox_inches=\"tight\")"
   ]
  },
  {
   "cell_type": "code",
   "execution_count": null,
   "id": "7abbd4d3-0aab-4f0f-982b-95b4e5d2d41c",
   "metadata": {},
   "outputs": [],
   "source": [
    "adata.obs.highlevel_refined.value_counts()"
   ]
  },
  {
   "cell_type": "code",
   "execution_count": null,
   "id": "90ed0d49-b9f8-4afc-9b93-00f6dbbb3fd4",
   "metadata": {},
   "outputs": [],
   "source": [
    "fig = sc.pl.umap(adata, color=[\"sample_id\"], frameon=False, ncols=1, return_fig=True, palette=colormapping_pat)\n",
    "fig.savefig(\"figures/highlevel_refined_snRNA_umap_sampleid.png\", dpi=300, bbox_inches=\"tight\")"
   ]
  },
  {
   "cell_type": "code",
   "execution_count": null,
   "id": "8c2cb517-9492-43a7-bac5-0b533b208950",
   "metadata": {},
   "outputs": [],
   "source": [
    "fig = sc.pl.umap(adata, color=[\"refined_annotations\"], frameon=False, ncols=1, return_fig=True)\n",
    "fig.savefig(\"figures/lowlevel_refined_snRNA_umap.png\", dpi=300, bbox_inches=\"tight\")"
   ]
  },
  {
   "cell_type": "code",
   "execution_count": null,
   "id": "f716bffd-cc86-4e8e-9ae5-c00d07797074",
   "metadata": {},
   "outputs": [],
   "source": [
    "import signaturescoring as ssc\n",
    "marker_genes = {}\n",
    "for cl in [\"1\",\"2\",\"3\",\"4\",\"5\"]:\n",
    "    marker_genes[cl] = pd.read_csv(f\"/add/path/here/cNMF_{cl}.csv\",index_col=0)\n",
    "    \n",
    "for prog in marker_genes:\n",
    "    ssc.score_signature(adata=adata,\n",
    "                        gene_list=list(marker_genes[prog].head(100).index.ravel()), \n",
    "                        method=\"adjusted_neighborhood_scoring\", \n",
    "                        ctrl_size=150,\n",
    "                        score_name=f\"cNMF_{prog}_score\")"
   ]
  },
  {
   "cell_type": "code",
   "execution_count": null,
   "id": "859dad68-b0ec-4441-837f-c350696868da",
   "metadata": {},
   "outputs": [],
   "source": [
    "fig, axs = plt.subplots(3,2, figsize=(10,10))\n",
    "flatax = axs.flatten()\n",
    "for i,ax in enumerate(flatax[:-1]):\n",
    "    sns.boxplot(data=adata.obs, x=\"highlevel_refined\", y=f\"cNMF_{i+1}_score\", palette=colormapping, ax=flatax[i])\n",
    "    flatax[i].spines[['right', 'top']].set_visible(False)\n",
    "    flatax[i].set_xticklabels(ax.get_xticklabels(), rotation=45, ha=\"right\")\n",
    "    flatax[i].hlines(y=0, xmin=flatax[i].get_xlim()[0], xmax=flatax[i].get_xlim()[1], linestyles=\"dashed\", color=\"grey\")\n",
    "    flatax[i].set_xlabel(\"\")\n",
    "flatax[-1].axis(\"off\")\n",
    "fig.tight_layout()\n",
    "fig.savefig(\"figures/malignant/boxplot_cNMF_score_per_celltype.png\", dpi=250, bbox_inches=\"tight\")"
   ]
  },
  {
   "cell_type": "code",
   "execution_count": null,
   "id": "5acf0492-0d40-4a22-bcc1-bb97633396e1",
   "metadata": {},
   "outputs": [],
   "source": []
  },
  {
   "cell_type": "markdown",
   "id": "468de027-76ed-4df4-b892-75f05aa5d966",
   "metadata": {},
   "source": [
    "## Cell cycle"
   ]
  },
  {
   "cell_type": "code",
   "execution_count": null,
   "id": "78e5e677-c37f-4f0d-8ca1-86d0286a66c8",
   "metadata": {},
   "outputs": [],
   "source": [
    "fig, ax = plt.subplots(1,1,figsize=(2,1))\n",
    "sns.heatmap(adata.obs[[\"S_score\",\"G2M_score\",\"cNMF_2_score\"]].corr().loc[[\"cNMF_2_score\"],[\"S_score\",\"G2M_score\"]],\n",
    "            annot=True, cmap=\"vlag\", center=0, vmin=-1, vmax=1,\n",
    "            ax=ax)\n",
    "ax.set_xticklabels(ax.get_xticklabels(), rotation=45)\n",
    "ax.set_yticklabels(ax.get_yticklabels(), rotation=0)"
   ]
  },
  {
   "cell_type": "code",
   "execution_count": null,
   "id": "baa13f90-2fe4-4c7c-a1a9-8140fd58604b",
   "metadata": {},
   "outputs": [],
   "source": [
    "df = adata.obs[adata.obs.highlevel_refined==\"Carcinoma\"].copy()\n",
    "confusion = df[[\"refined_wcancer\",\"phase\"]].value_counts().unstack()\n",
    "\n",
    "confusion[\"Cycling\"] = confusion[\"G2M\"] + confusion[\"S\"]\n",
    "\n",
    "cycling_OR = {}\n",
    "for state in [\"cNMF_1\",\"cNMF_3\",\"cNMF_4\"]:\n",
    "    conting = pd.concat([confusion.drop([state]).sum().to_frame().T,confusion.loc[[state],:]])\n",
    "    cycling_OR[state] = [fisher_exact(conting.loc[:,['G1','Cycling']])[0]]"
   ]
  },
  {
   "cell_type": "code",
   "execution_count": null,
   "id": "731fe4f3-8b22-4725-9947-579f117ec1a4",
   "metadata": {},
   "outputs": [],
   "source": [
    "fig, ax = plt.subplots(1,1,figsize=(2,1))\n",
    "sns.heatmap(data=pd.DataFrame(cycling_OR, index=[\"Cycling OR\"]),annot=True,fmt=\".1f\",\n",
    "            cmap=\"vlag\",center=1,vmin=0,vmax=2,ax=ax)\n",
    "ax.set_xticklabels(ax.get_xticklabels(), rotation=45)\n",
    "ax.set_yticklabels(ax.get_yticklabels(), rotation=0)"
   ]
  },
  {
   "cell_type": "markdown",
   "id": "aeaddb12-0a7a-4405-ab19-36c3b4a478a3",
   "metadata": {},
   "source": [
    "## Subset of malignant cells"
   ]
  },
  {
   "cell_type": "code",
   "execution_count": null,
   "id": "443b60eb-627c-4dc1-aaa6-6413f8799078",
   "metadata": {},
   "outputs": [],
   "source": [
    "colorlist = palettable.colorbrewer.qualitative.Set1_5.mpl_colors\n",
    "colormapping_mal = {\"cNMF_1\": colorlist[0], \"cNMF_2\": colorlist[1], \"cNMF_3\": colorlist[2], \n",
    "                    \"cNMF_4\": colorlist[3], \"cNMF_5\": colorlist[4]}\n",
    "colormapping_mal[\"cNMF_Outlier\"] = \"grey\"\n",
    "colormapping_mal[\"Carcinoma_undefined\"] = \"grey\""
   ]
  },
  {
   "cell_type": "code",
   "execution_count": null,
   "id": "3e3225aa-fda6-487d-8182-488668363e9d",
   "metadata": {},
   "outputs": [],
   "source": [
    "subadata = adata[adata.obs.highlevel_refined==\"Carcinoma\"].copy()"
   ]
  },
  {
   "cell_type": "code",
   "execution_count": null,
   "id": "d9adc89e-02d1-4533-86c2-788272f0ab1a",
   "metadata": {},
   "outputs": [],
   "source": [
    "sc.tl.pca(subadata)\n",
    "sc.external.pp.harmony_integrate(subadata, key=\"sample_id\", basis=\"X_pca\", max_iter_harmony=20)\n",
    "sc.pp.neighbors(subadata, use_rep=\"X_pca_harmony\")\n",
    "sc.tl.umap(subadata)"
   ]
  },
  {
   "cell_type": "code",
   "execution_count": null,
   "id": "82d4e4ea-2962-4fdf-8230-2f3aa236745a",
   "metadata": {},
   "outputs": [],
   "source": [
    "import signaturescoring as ssc\n",
    "marker_genes = {}\n",
    "for cl in [\"1\",\"2\",\"3\",\"4\",\"5\"]:\n",
    "    marker_genes[cl] = pd.read_csv(f\"/add/path/here/cNMF_{cl}.csv\",index_col=0)\n",
    "    \n",
    "for prog in marker_genes:\n",
    "    ssc.score_signature(adata=subadata,\n",
    "                        gene_list=list(marker_genes[prog].head(100).index.ravel()), \n",
    "                        method=\"adjusted_neighborhood_scoring\", \n",
    "                        ctrl_size=150,\n",
    "                        score_name=f\"cNMF_{prog}_score\")"
   ]
  },
  {
   "cell_type": "code",
   "execution_count": null,
   "id": "11fb800d-ef36-4ea8-8ff3-9beceebf7caa",
   "metadata": {},
   "outputs": [],
   "source": [
    "import matplotlib\n",
    "import matplotlib.cm as cm\n",
    "import matplotlib.colors as mcolors\n",
    "X_pca = pd.DataFrame(subadata.obsm[\"X_pca_harmony\"][:,:2],index=subadata.obs_names,columns=[\"PC1\",\"PC2\"])\n",
    "\n",
    "X_pca = pd.concat([X_pca, subadata.obs[[\"cNMF_1_score\",\"cNMF_3_score\",\"cNMF_4_score\",\"cNMF_2_score\",\"cNMF_5_score\"]]],axis=1)\n",
    "X_pca.columns = [\"PC1\",\"PC2\",\"cNMF_1\",\"cNMF_3\",\"cNMF_4\",\"cNMF_2\",\"cNMF_5\"]\n",
    "\n",
    "def plot_pcs_color(ax, state):\n",
    "    \n",
    "    vmin, vmax = X_pca[state].min(), X_pca[state].max()\n",
    "    #vcenter = 0\n",
    "    vcenter = (X_pca[state].quantile(0.75) + X_pca[state].quantile(0.25))/2\n",
    "    normalize = mcolors.TwoSlopeNorm(vcenter=vcenter, vmin=vmin, vmax=vmax)\n",
    "    colormap = matplotlib.colormaps['RdBu_r']\n",
    "    sns.scatterplot(\n",
    "        y=X_pca[\"PC2\"],\n",
    "        x=X_pca[\"PC1\"],\n",
    "        c=X_pca[state],\n",
    "        s=1,\n",
    "        norm=normalize,\n",
    "        cmap=colormap,\n",
    "        ax=ax\n",
    "    )\n",
    "    scalarmappaple = cm.ScalarMappable(norm=normalize, cmap=colormap)\n",
    "    scalarmappaple.set_array(X_pca[state])\n",
    "    ax.set_title(state)\n",
    "    fig.colorbar(scalarmappaple, ax=ax)\n",
    "    pretty_ax(ax)\n",
    "\n",
    "fig, ax = plt.subplots(1,3, figsize=(15,4))\n",
    "flatax = ax.flatten()\n",
    "\n",
    "plot_pcs_color(flatax[0], \"cNMF_3\")\n",
    "plot_pcs_color(flatax[1], \"cNMF_1\")\n",
    "plot_pcs_color(flatax[2], \"cNMF_4\")\n",
    "fig.tight_layout()\n",
    "fig.savefig(\"figures/malignant/PC_wCNMF_score.png\", dpi=300, bbox_inches=\"tight\")\n",
    "\n",
    "fig, ax = plt.subplots(1,2, figsize=(10,4))\n",
    "flatax = ax.flatten()\n",
    "\n",
    "plot_pcs_color(flatax[0], \"cNMF_2\")\n",
    "plot_pcs_color(flatax[1], \"cNMF_5\")\n",
    "fig.tight_layout()"
   ]
  },
  {
   "cell_type": "code",
   "execution_count": null,
   "id": "fde93d64-350c-4c07-abc8-7049a290bdab",
   "metadata": {},
   "outputs": [],
   "source": [
    "fig = sc.pl.umap(subadata, color=[\"refined_wcancer\"], palette=colormapping_mal, frameon=False, ncols=1, return_fig=True)\n",
    "fig.savefig(\"figures/malonly_cNMF_harmony_snRNA_umap.png\", dpi=300, bbox_inches=\"tight\")"
   ]
  },
  {
   "cell_type": "code",
   "execution_count": null,
   "id": "76a0f114-e60a-4cde-bb3c-4c72eccfc8cf",
   "metadata": {},
   "outputs": [],
   "source": [
    "fig = sc.pl.umap(subadata, color=[\"sample_id\"], frameon=False, ncols=1, palette=colormapping_pat, return_fig=True)\n",
    "fig.savefig(\"figures/malonly_sampleid_harmony_snRNA_umap.png\", dpi=300, bbox_inches=\"tight\")"
   ]
  },
  {
   "cell_type": "code",
   "execution_count": null,
   "id": "46a91851-ee17-4e42-af7c-7efe3e6be1d4",
   "metadata": {},
   "outputs": [],
   "source": [
    "fig = sc.pl.umap(subadata, color=[\"log1p_total_counts\",\"pct_counts_mt\"], frameon=False, ncols=1, return_fig=True)\n",
    "fig.savefig(\"figures/malonly_technical_harmony_snRNA_umap.png\", dpi=300, bbox_inches=\"tight\")"
   ]
  },
  {
   "cell_type": "code",
   "execution_count": null,
   "id": "8f079551-7c67-46b1-881b-4941a96a6fa5",
   "metadata": {},
   "outputs": [],
   "source": [
    "mTFs = [\"KLF5\",\"NFE2L1\",\"MXD1\",\"PPARD\",\"SMAD3\",\"KLF6\",\"TCF7L2\",\"ATF3\",\"EHF\",\"GRHL2\"]"
   ]
  },
  {
   "cell_type": "code",
   "execution_count": null,
   "id": "9331c40b-08c3-4473-b131-8ed21dec4b2f",
   "metadata": {},
   "outputs": [],
   "source": [
    "fig = sc.pl.umap(subadata, color=mTFs,\n",
    "                 frameon=False, ncols=2, return_fig=True)\n",
    "fig.savefig(\"figures/malonly_cNMF_harmony_mTF_expression.png\", dpi=300, bbox_inches=\"tight\")"
   ]
  },
  {
   "cell_type": "code",
   "execution_count": null,
   "id": "63af04fb-32ea-418a-b15b-46a373e95125",
   "metadata": {},
   "outputs": [],
   "source": [
    "TF_expr = pd.DataFrame(subadata[:,mTFs].X.copy().toarray(),index=subadata.obs_names,columns=mTFs)\n",
    "\n",
    "TF_expr = pd.concat([TF_expr,subadata.obs[\"refined_wcancer\"]],axis=1)\n",
    "\n",
    "fig, ax = plt.subplots(2,5, figsize=(15,5))\n",
    "flatax=ax.flatten()\n",
    "for i,axi in enumerate(flatax):\n",
    "    sns.boxplot(data=TF_expr,x=\"refined_wcancer\",y=mTFs[i],ax=axi, palette=colormapping_mal)\n",
    "    axi.set_xticklabels(axi.get_xticklabels(), rotation=45)\n",
    "    axi.set_xlabel(\"\")\n",
    "    axi.spines[[\"top\",\"right\"]].set_visible(False)\n",
    "fig.tight_layout()\n",
    "fig.savefig(\"figures/malignant/malonly_technical_harmony_snRNA_umap.png\",dpi=300,bbox_inches=\"tight\")"
   ]
  },
  {
   "cell_type": "markdown",
   "id": "84842df2-14b9-4751-9d73-503375fb56b6",
   "metadata": {},
   "source": [
    "# snATAC-seq"
   ]
  },
  {
   "cell_type": "code",
   "execution_count": null,
   "id": "731e09e2-efe6-4fb5-8ef4-6b3817886f0b",
   "metadata": {},
   "outputs": [],
   "source": [
    "atac = sc.read_h5ad(\"/add/path/here/combined_atac.h5ad\")"
   ]
  },
  {
   "cell_type": "code",
   "execution_count": null,
   "id": "949fefa9-b178-4b80-9a14-78f34c26b6a7",
   "metadata": {},
   "outputs": [],
   "source": [
    "atac.obs.highlevel_annotation = atac.obs.refined_wcancer.replace(highlevel_refined)\n",
    "atac.obs.highlevel_annotation = atac.obs.highlevel_annotation.replace({f\"cNMF_{i}\": \"Carcinoma\" for i in range(1,6)})\n",
    "atac.obs.highlevel_annotation = atac.obs.highlevel_annotation.replace({\"Carcinoma_undefined\": \"Carcinoma\"})"
   ]
  },
  {
   "cell_type": "code",
   "execution_count": null,
   "id": "c8f85109-2fab-47a1-9a2f-887beb4d7c16",
   "metadata": {},
   "outputs": [],
   "source": [
    "atac.obsm[\"X_lsi_red\"] = atac.obsm[\"X_lsi\"][:,:40]"
   ]
  },
  {
   "cell_type": "code",
   "execution_count": null,
   "id": "62ea7665-b72a-43e2-a168-263f7bb6ad89",
   "metadata": {},
   "outputs": [],
   "source": [
    "sc.external.pp.harmony_integrate(atac, key=\"sample_id\", basis=\"X_lsi_red\", max_iter_harmony=20)"
   ]
  },
  {
   "cell_type": "code",
   "execution_count": null,
   "id": "e556acb1-d567-4a6d-84fc-21540ef6d7d1",
   "metadata": {},
   "outputs": [],
   "source": [
    "sc.pp.neighbors(atac, use_rep=\"X_pca_harmony\")"
   ]
  },
  {
   "cell_type": "code",
   "execution_count": null,
   "id": "e315bf14-a86b-4e25-a883-86a9b90734da",
   "metadata": {},
   "outputs": [],
   "source": [
    "sc.tl.umap(atac)"
   ]
  },
  {
   "cell_type": "code",
   "execution_count": null,
   "id": "22e71a4b-1abf-4997-b69d-84122ee8c0e8",
   "metadata": {},
   "outputs": [],
   "source": [
    "fig = sc.pl.umap(atac, color=[\"highlevel_annotation\"], palette=colormapping, frameon=False, ncols=1, return_fig=True)\n",
    "fig.savefig(\"figures/highlevel_refined_snATAC_umap.png\", dpi=300, bbox_inches=\"tight\")"
   ]
  },
  {
   "cell_type": "code",
   "execution_count": null,
   "id": "61fe6438-59c1-4b7b-8f4c-d1c7a9571b9b",
   "metadata": {},
   "outputs": [],
   "source": [
    "atac.obs.highlevel_annotation.value_counts()"
   ]
  },
  {
   "cell_type": "code",
   "execution_count": null,
   "id": "3888f16b-c940-4981-b1a4-3d805c4e49ab",
   "metadata": {},
   "outputs": [],
   "source": [
    "fig = sc.pl.umap(atac, color=[\"dataset\"], frameon=False, ncols=1, palette=colormapping_pat, return_fig=True)\n",
    "fig.savefig(\"figures/highlevel_refined_snATAC_umap_sampleid.png\", dpi=300, bbox_inches=\"tight\")"
   ]
  },
  {
   "cell_type": "markdown",
   "id": "fa0ca0ab-a0e1-412d-a6d9-dfc6afa0fba1",
   "metadata": {},
   "source": [
    "## Patient-level distributions"
   ]
  },
  {
   "cell_type": "code",
   "execution_count": null,
   "id": "ce45d2fa-7ac8-4d59-b124-1de10d367f88",
   "metadata": {},
   "outputs": [],
   "source": [
    "patlevel_counts = atac.obs[[\"sample_id\",\"highlevel_annotation\"]].groupby(by=\"sample_id\").value_counts(normalize=True)\n",
    "patlevel_counts = patlevel_counts.round(2)*100\n",
    "\n",
    "df = patlevel_counts.unstack(level=-1)\n",
    "\n",
    "df = df.loc[clinical.index.intersection(df.index)].fillna(0).astype(int)\n",
    "\n",
    "colorlist = sns.color_palette(\"colorblind\", 10)\n",
    "ctlist = adata.obs.highlevel_refined.unique()\n",
    "colormapping = {ct: colorlist[i] for i,ct in enumerate(ctlist)}\n",
    "colormapping[\"NA\"] = \"whitesmoke\""
   ]
  },
  {
   "cell_type": "code",
   "execution_count": null,
   "id": "62df1cd6-d534-46de-b49d-2dac1258027d",
   "metadata": {},
   "outputs": [],
   "source": [
    "def add_clinical_info(ax):\n",
    "\n",
    "    x1, x2 = 0, 1   # columns 'Sat' and 'Sun' (first column: 0, see plt.xticks())\n",
    "    y, h, col = 100, 10, 'k'\n",
    "    ax.plot([x1-0.4, x1-0.3, x2+0.3, x2+0.4], [y, y+h, y+h, y], lw=1.5, c=col)\n",
    "    ax.text((x1+x2)*.5, y+1.3*h, \"NAT\", ha='center', va='bottom', color=col)\n",
    "    \n",
    "    x1, x2 = 2, 4   # columns 'Sat' and 'Sun' (first column: 0, see plt.xticks())\n",
    "    y, h, col = 100, 10, 'k'\n",
    "    ax.plot([x1-0.4, x1-0.3, x2+0.3, x2+0.4], [y, y+h, y+h, y], lw=1.5, c=col)\n",
    "    ax.text((x1+x2)*.5, y+1.3*h, \"Primary\", ha='center', va='bottom', color=col)\n",
    "    \n",
    "    x1, x2 = 5, 9   # columns 'Sat' and 'Sun' (first column: 0, see plt.xticks())\n",
    "    y, h, col = 100, 10, 'k'\n",
    "    ax.plot([x1-0.4, x1-0.3, x2+0.3, x2+0.4], [y, y+h, y+h, y], lw=1.5, c=col)\n",
    "    ax.text((x1+x2)*.5, y+1.3*h, \"Metastatic\", ha='center', va='bottom', color=col)\n",
    "    \n",
    "    return ax"
   ]
  },
  {
   "cell_type": "code",
   "execution_count": null,
   "id": "2397f1f5-e304-425f-b43f-d90915852b51",
   "metadata": {},
   "outputs": [],
   "source": [
    "fig, ax = plt.subplots(1,1,figsize=(6,3))\n",
    "df.plot(kind = 'bar', stacked = True, color=colormapping, ax=ax,)\n",
    "ax.legend(bbox_to_anchor=(1.05, 1), frameon=False)\n",
    "ax.spines[['right', 'top']].set_visible(False)\n",
    "ax.set_xlabel(\"\")\n",
    "ax.set_xticklabels(ax.get_xticklabels(), rotation=45, ha=\"right\")\n",
    "for c in ax.containers:\n",
    "\n",
    "    # Optional: if the segment is small or 0, customize the labels\n",
    "    labels = [int(v.get_height()) if v.get_height() >= 5 else '' for v in c]\n",
    "    \n",
    "    # remove the labels parameter if it's not needed for customized labels\n",
    "    ax.bar_label(c, labels=labels, label_type='center', fmt='%0.0f', color=\"white\")\n",
    "ax = add_clinical_info(ax)\n",
    "fig.savefig(\"figures/barplot_pat_tme_ATAC_highlevel_scaled.png\", dpi=300, bbox_inches=\"tight\")"
   ]
  },
  {
   "cell_type": "code",
   "execution_count": null,
   "id": "19655714-49e1-4399-8d4f-86633c6c4711",
   "metadata": {},
   "outputs": [],
   "source": []
  },
  {
   "cell_type": "code",
   "execution_count": null,
   "id": "9aa9cfb5-205b-438f-a10b-b36141764d95",
   "metadata": {},
   "outputs": [],
   "source": [
    "patlevel_counts = atac.obs[[\"sample_id\",\"highlevel_annotation\"]].groupby(by=\"sample_id\").value_counts()\n",
    "df = patlevel_counts.unstack(level=-1)\n",
    "\n",
    "df = df.loc[clinical.index.intersection(df.index)].fillna(0).astype(int)\n",
    "\n",
    "colorlist = sns.color_palette(\"colorblind\", 10)\n",
    "ctlist = adata.obs.highlevel_refined.unique()\n",
    "colormapping = {ct: colorlist[i] for i,ct in enumerate(ctlist)}\n",
    "colormapping[\"NA\"] = \"whitesmoke\""
   ]
  },
  {
   "cell_type": "code",
   "execution_count": null,
   "id": "6739b06f-16c3-4053-affa-38fa97710237",
   "metadata": {},
   "outputs": [],
   "source": [
    "def add_clinical_info(ax):\n",
    "\n",
    "    x1, x2 = 0, 1   # columns 'Sat' and 'Sun' (first column: 0, see plt.xticks())\n",
    "    y, h, col = 9000, 600, 'k'\n",
    "    ax.plot([x1-0.4, x1-0.3, x2+0.3, x2+0.4], [y, y+h, y+h, y], lw=1.5, c=col)\n",
    "    ax.text((x1+x2)*.5, y+1.3*h, \"NAT\", ha='center', va='bottom', color=col)\n",
    "    \n",
    "    x1, x2 = 2, 4   # columns 'Sat' and 'Sun' (first column: 0, see plt.xticks())\n",
    "    y, h, col = 9000, 600, 'k'\n",
    "    ax.plot([x1-0.4, x1-0.3, x2+0.3, x2+0.4], [y, y+h, y+h, y], lw=1.5, c=col)\n",
    "    ax.text((x1+x2)*.5, y+1.3*h, \"Primary\", ha='center', va='bottom', color=col)\n",
    "    \n",
    "    x1, x2 = 5, 9   # columns 'Sat' and 'Sun' (first column: 0, see plt.xticks())\n",
    "    y, h, col = 9000, 600, 'k'\n",
    "    ax.plot([x1-0.4, x1-0.3, x2+0.3, x2+0.4], [y, y+h, y+h, y], lw=1.5, c=col)\n",
    "    ax.text((x1+x2)*.5, y+1.3*h, \"Metastatic\", ha='center', va='bottom', color=col)\n",
    "    \n",
    "    return ax"
   ]
  },
  {
   "cell_type": "code",
   "execution_count": null,
   "id": "e5e763da-6670-494e-9025-c975d16d9935",
   "metadata": {},
   "outputs": [],
   "source": [
    "fig, ax = plt.subplots(1,1,figsize=(6,3))\n",
    "df.plot(kind = 'bar', stacked = True, color=colormapping, ax=ax,)\n",
    "ax.legend(bbox_to_anchor=(1.05, 1), frameon=False)\n",
    "ax.spines[['right', 'top']].set_visible(False)\n",
    "ax.set_xlabel(\"\")\n",
    "ax.set_xticklabels(ax.get_xticklabels(), rotation=45, ha=\"right\")\n",
    "ax = add_clinical_info(ax)\n",
    "fig.savefig(\"figures/barplot_pat_tme_ATAC_highlevel_nonscaled.png\", dpi=300, bbox_inches=\"tight\")"
   ]
  },
  {
   "cell_type": "markdown",
   "id": "de5cb352-b1bd-442c-ad34-0de3be819400",
   "metadata": {},
   "source": [
    "## Subset malignant"
   ]
  },
  {
   "cell_type": "code",
   "execution_count": null,
   "id": "7f1a2ef1-b645-42ba-a1c5-5e900818e2c2",
   "metadata": {
    "scrolled": true
   },
   "outputs": [],
   "source": [
    "subatac = atac[atac.obs.highlevel_annotation==\"Carcinoma\"].copy()\n",
    "subatac.obsm[\"X_lsi_red\"] = subatac.obsm[\"X_lsi\"][:,:40]\n"
   ]
  },
  {
   "cell_type": "code",
   "execution_count": null,
   "id": "55ac0926-89d8-4790-ad41-038a59dfb266",
   "metadata": {},
   "outputs": [],
   "source": [
    "sc.external.pp.harmony_integrate(subatac, key=\"sample_id\", basis=\"X_lsi_red\", max_iter_harmony=20)\n",
    "sc.pp.neighbors(subatac, use_rep=\"X_pca_harmony\")\n",
    "sc.tl.umap(subatac)"
   ]
  },
  {
   "cell_type": "code",
   "execution_count": null,
   "id": "18721ed7-ba59-41a4-a85d-7da48101b780",
   "metadata": {},
   "outputs": [],
   "source": [
    "fig = sc.pl.umap(subatac, color=[\"refined_wcancer\"], palette=colormapping_mal, frameon=False, ncols=1, return_fig=True)\n",
    "fig.savefig(\"figures/malonly_cNMF_harmony_snATAC_umap.png\", dpi=300, bbox_inches=\"tight\")"
   ]
  },
  {
   "cell_type": "code",
   "execution_count": null,
   "id": "3317f6ca-7a15-47aa-ac35-cd18e87fcd06",
   "metadata": {},
   "outputs": [],
   "source": [
    "fig = sc.pl.umap(subatac, color=[\"sample_id\"], palette=colormapping_pat, frameon=False, ncols=1, return_fig=True)\n",
    "fig.savefig(\"figures/malonly_sampleid_harmony_snATAC_umap.png\", dpi=300, bbox_inches=\"tight\")"
   ]
  },
  {
   "cell_type": "markdown",
   "id": "4cc3f0f4-22b6-49f9-8280-684a5a7cde95",
   "metadata": {},
   "source": [
    "# Heatmaps of marker genes/regions"
   ]
  },
  {
   "cell_type": "markdown",
   "id": "12097f2c-b36b-4f79-ac0a-70240a8502f9",
   "metadata": {},
   "source": [
    "## Regions"
   ]
  },
  {
   "cell_type": "code",
   "execution_count": null,
   "id": "748d99eb-a47c-4b50-8521-6b8d6f97bd04",
   "metadata": {},
   "outputs": [],
   "source": [
    "DAR_res_dir = pl.Path(\"/add/path/here\")\n",
    "\n",
    "region_markers = {}\n",
    "for state in [\"cNMF_1\",\"cNMF_3\",\"cNMF_4\"]:\n",
    "    region_markers[state] = pd.read_csv(DAR_res_dir / (state + \".csv\"),index_col=0)\n",
    "\n",
    "var_names = {state: region_markers[state].head(100).index.to_numpy() for state in [\"cNMF_1\",\"cNMF_3\",\"cNMF_4\"]}"
   ]
  },
  {
   "cell_type": "code",
   "execution_count": null,
   "id": "b3a9cc74-6f16-4ef4-9d26-1989d30f7dc1",
   "metadata": {},
   "outputs": [],
   "source": [
    "all_region_markers = [var_names[state] for state in [\"cNMF_1\",\"cNMF_3\",\"cNMF_4\"]]\n",
    "all_region_markers = np.hstack(all_region_markers)\n",
    "#all_region_markers = np.unique(np.hstack(all_region_markers))"
   ]
  },
  {
   "cell_type": "code",
   "execution_count": null,
   "id": "fa396c11-e937-4218-85bf-6481d73931e1",
   "metadata": {},
   "outputs": [],
   "source": [
    "heatmapadata = subatac[:,all_region_markers].copy()"
   ]
  },
  {
   "cell_type": "code",
   "execution_count": null,
   "id": "ad9c2c73-b6a3-47b6-999f-7fcb61c6d8d0",
   "metadata": {},
   "outputs": [],
   "source": [
    "sc.pp.scale(heatmapadata)\n",
    "\n",
    "cell_idx = heatmapadata.obs.refined_wcancer.sort_values().index.to_numpy()\n",
    "\n",
    "heatmap_df = pd.DataFrame(heatmapadata[cell_idx,:].X.copy(), index=heatmapadata.obs_names, columns=heatmapadata.var_names)"
   ]
  },
  {
   "cell_type": "code",
   "execution_count": null,
   "id": "31e24849-98e1-43e3-a9e8-4926b1d0da8a",
   "metadata": {},
   "outputs": [],
   "source": [
    "state_score = {}\n",
    "for state in [\"cNMF_1\",\"cNMF_3\",\"cNMF_4\"]:\n",
    "    state_score[state] = heatmap_df[var_names[state]].mean(axis=1)\n",
    "\n",
    "state_score = pd.concat(state_score,axis=1)\n",
    "\n",
    "state_score = pd.concat([state_score,heatmapadata.obs],axis=1)"
   ]
  },
  {
   "cell_type": "code",
   "execution_count": null,
   "id": "82329498-b221-4c68-bb18-0cd4e426c5f6",
   "metadata": {},
   "outputs": [],
   "source": [
    "sns.boxplot(data=state_score,x=\"refined_wcancer\",y=\"cNMF_1\")"
   ]
  },
  {
   "cell_type": "code",
   "execution_count": null,
   "id": "4b8b6368-f6d2-4dde-b204-70b9f05535d6",
   "metadata": {},
   "outputs": [],
   "source": [
    "sns.boxplot(data=state_score,x=\"refined_wcancer\",y=\"cNMF_3\")"
   ]
  },
  {
   "cell_type": "code",
   "execution_count": null,
   "id": "973397f1-9575-4a78-9af1-3dd4b5e3adc0",
   "metadata": {},
   "outputs": [],
   "source": [
    "sns.boxplot(data=state_score,x=\"refined_wcancer\",y=\"cNMF_4\")"
   ]
  },
  {
   "cell_type": "code",
   "execution_count": null,
   "id": "75767177-564f-425a-a4a9-7d298b01d47a",
   "metadata": {},
   "outputs": [],
   "source": [
    "heatmap_df.loc[heatmapadata.obs[heatmapadata.obs.refined_wcancer==\"cNMF_3\"].index]"
   ]
  },
  {
   "cell_type": "code",
   "execution_count": null,
   "id": "1c4ebbea-6923-40ef-a7d0-cf0d62eb1f84",
   "metadata": {},
   "outputs": [],
   "source": [
    "row_colors = []\n",
    "df = heatmapadata.obs.loc[cell_idx].refined_wcancer\n",
    "for cell in df.index:\n",
    "    row_colors.append(colormapping_mal[df.loc[cell]])"
   ]
  },
  {
   "cell_type": "code",
   "execution_count": null,
   "id": "9a9cac7e-539d-4895-8d28-10f0811879ee",
   "metadata": {},
   "outputs": [],
   "source": [
    "clmap = sns.clustermap(heatmap_df, cmap=\"vlag\", center=0, vmax=4, vmin=-1, \n",
    "                       row_cluster=False, col_cluster=False, \n",
    "                       row_colors=row_colors)\n",
    "clmap.ax_heatmap.set_xticklabels([])\n",
    "clmap.ax_heatmap.set_xticks([])\n",
    "clmap.ax_heatmap.set_yticklabels([])\n",
    "clmap.ax_heatmap.set_yticks([])\n",
    "clmap.fig.savefig(\"figures/malignant/heatmap_DAR_snATAC.png\", dpi=300, bbox_inches=\"tight\")"
   ]
  },
  {
   "cell_type": "code",
   "execution_count": null,
   "id": "a8df3651-2828-4f5c-a4cd-96b5516af748",
   "metadata": {},
   "outputs": [],
   "source": []
  },
  {
   "cell_type": "markdown",
   "id": "19765f9a-2a5e-4837-8a9b-6eb7048c61c5",
   "metadata": {},
   "source": [
    "## Genes"
   ]
  },
  {
   "cell_type": "code",
   "execution_count": null,
   "id": "89c797f2-f8e6-493e-865b-748560a7f9c6",
   "metadata": {},
   "outputs": [],
   "source": [
    "cnmf_res_dir = pl.Path(\"/add/path/here\")\n",
    "\n",
    "gene_markers = {}\n",
    "for state in [\"cNMF_1\",\"cNMF_3\",\"cNMF_4\"]:\n",
    "    gene_markers[state] = pd.read_csv(cnmf_res_dir / (state + \".csv\"),index_col=0)\n",
    "\n",
    "var_names = {state: gene_markers[state].head(100).index.to_numpy() for state in [\"cNMF_1\",\"cNMF_3\",\"cNMF_4\"]}"
   ]
  },
  {
   "cell_type": "code",
   "execution_count": null,
   "id": "f3b4d3d7-18b7-4751-b957-872c53804960",
   "metadata": {},
   "outputs": [],
   "source": [
    "all_region_markers = [var_names[state] for state in [\"cNMF_1\",\"cNMF_3\",\"cNMF_4\"]]\n",
    "all_region_markers = np.hstack(all_region_markers)\n",
    "#all_region_markers = np.unique(np.hstack(all_region_markers))"
   ]
  },
  {
   "cell_type": "code",
   "execution_count": null,
   "id": "bc331d7f-f780-4e3d-a5ea-eedcae58d03a",
   "metadata": {},
   "outputs": [],
   "source": [
    "heatmapadata = subadata[:,all_region_markers].copy()"
   ]
  },
  {
   "cell_type": "code",
   "execution_count": null,
   "id": "f0dcf2e0-1713-4ac9-b8a3-0a3bc5abd7ff",
   "metadata": {},
   "outputs": [],
   "source": [
    "sc.pp.scale(heatmapadata)\n",
    "\n",
    "cell_idx = heatmapadata.obs.refined_wcancer.sort_values().index.to_numpy()\n",
    "\n",
    "heatmap_df = pd.DataFrame(heatmapadata[cell_idx,:].X.copy(), index=heatmapadata.obs_names, columns=heatmapadata.var_names)"
   ]
  },
  {
   "cell_type": "code",
   "execution_count": null,
   "id": "285dc15a-fce1-416a-8a0a-3003aadd22b1",
   "metadata": {},
   "outputs": [],
   "source": [
    "row_colors = []\n",
    "df = heatmapadata.obs.loc[cell_idx].refined_wcancer\n",
    "for cell in df.index:\n",
    "    row_colors.append(colormapping_mal[df.loc[cell]])"
   ]
  },
  {
   "cell_type": "code",
   "execution_count": null,
   "id": "f2bfd985-4c60-4462-b4ec-b8ccb6218e56",
   "metadata": {},
   "outputs": [],
   "source": [
    "clmap = sns.clustermap(heatmap_df, cmap=\"vlag\", center=0, vmax=3, vmin=-1, \n",
    "                       row_cluster=False, col_cluster=False, \n",
    "                       row_colors=row_colors)\n",
    "clmap.ax_heatmap.set_xticklabels([])\n",
    "clmap.ax_heatmap.set_xticks([])\n",
    "clmap.ax_heatmap.set_yticklabels([])\n",
    "clmap.ax_heatmap.set_yticks([])\n",
    "clmap.fig.savefig(\"figures/malignant/heatmap_DGEX_snRNA.png\", dpi=300, bbox_inches=\"tight\")"
   ]
  },
  {
   "cell_type": "code",
   "execution_count": null,
   "id": "0f82decc-f223-465a-89c1-dafa0f1d4202",
   "metadata": {},
   "outputs": [],
   "source": []
  },
  {
   "cell_type": "code",
   "execution_count": null,
   "id": "1110d872-9cb8-4328-adb2-4d6f5cc4f807",
   "metadata": {},
   "outputs": [],
   "source": []
  }
 ],
 "metadata": {
  "kernelspec": {
   "display_name": "Python 3 (ipykernel)",
   "language": "python",
   "name": "python3"
  },
  "language_info": {
   "codemirror_mode": {
    "name": "ipython",
    "version": 3
   },
   "file_extension": ".py",
   "mimetype": "text/x-python",
   "name": "python",
   "nbconvert_exporter": "python",
   "pygments_lexer": "ipython3",
   "version": "3.9.16"
  }
 },
 "nbformat": 4,
 "nbformat_minor": 5
}
