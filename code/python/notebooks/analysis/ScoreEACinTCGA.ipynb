{
 "cells": [
  {
   "cell_type": "code",
   "execution_count": null,
   "id": "71bc41de-865c-47f3-b674-cbd48774c359",
   "metadata": {},
   "outputs": [],
   "source": [
    "import numpy as np\n",
    "import pandas as pd\n",
    "import scanpy as sc\n",
    "import matplotlib.pyplot as plt\n",
    "import seaborn as sns\n",
    "\n",
    "from statannotations.Annotator import Annotator"
   ]
  },
  {
   "cell_type": "code",
   "execution_count": null,
   "id": "921113cb-6074-4a6c-8373-58a1fae958ed",
   "metadata": {},
   "outputs": [],
   "source": [
    "import pathlib as pl"
   ]
  },
  {
   "cell_type": "code",
   "execution_count": null,
   "id": "4df9dcf8-7d97-496c-a544-c0f14a4c83a1",
   "metadata": {},
   "outputs": [],
   "source": [
    "from sklearn.preprocessing import StandardScaler\n",
    "from lifelines import CoxPHFitter"
   ]
  },
  {
   "cell_type": "code",
   "execution_count": null,
   "id": "b6a6c392-9717-4225-b03c-f9349b6f5910",
   "metadata": {},
   "outputs": [],
   "source": [
    "def pretty_ax(ax):\n",
    "    ax.spines['right'].set_visible(False)\n",
    "    ax.spines['top'].set_visible(False)\n",
    "    ax.tick_params(\n",
    "        axis='both',  \n",
    "        which='both',      \n",
    "        bottom=True,     \n",
    "        top=False,\n",
    "        left=False,\n",
    "        labelbottom=True,\n",
    "        labelleft = True)\n",
    "    ax.spines[\"bottom\"].set_linewidth(1.5)\n",
    "    ax.spines[\"left\"].set_linewidth(1.5)"
   ]
  },
  {
   "cell_type": "markdown",
   "id": "3346b977-0fab-43a0-95b4-ec16fd7901f1",
   "metadata": {},
   "source": [
    "# Download TCGA data"
   ]
  },
  {
   "cell_type": "code",
   "execution_count": null,
   "id": "379544ce-03c8-49fa-8e1e-1244366c762c",
   "metadata": {},
   "outputs": [],
   "source": [
    "tcga_dir = pl.Path(\"/add/path/here\")"
   ]
  },
  {
   "cell_type": "code",
   "execution_count": null,
   "id": "4db9e0e0-8e2a-4593-a50e-bbf54104b547",
   "metadata": {},
   "outputs": [],
   "source": [
    "eac_tcga_dir = pl.Path(\"/add/path/here\")"
   ]
  },
  {
   "cell_type": "code",
   "execution_count": null,
   "id": "35c75e01-76b2-474c-ac6f-5f05568c7883",
   "metadata": {},
   "outputs": [],
   "source": [
    "clinical_full = pd.read_csv(eac_tcga_dir / \"TCGA.ESCA.sampleMap_ESCA_clinicalMatrix\", sep=\"\\t\", index_col=0)"
   ]
  },
  {
   "cell_type": "code",
   "execution_count": null,
   "id": "a985a01c",
   "metadata": {},
   "outputs": [],
   "source": [
    "clinical_nature = pd.read_csv(eac_tcga_dir / \"ESCA_Nature_clinicalinfo.csv\", index_col=0, skiprows=1)"
   ]
  },
  {
   "cell_type": "code",
   "execution_count": null,
   "id": "c58bb450-7950-4138-9c24-e5403050d3a9",
   "metadata": {},
   "outputs": [],
   "source": [
    "fpkm = pd.read_csv(eac_tcga_dir / \"TCGA-ESCA.htseq_fpkm-uq.tsv.gz\",sep=\"\\t\",index_col=0).T\n",
    "fpkm.index = fpkm.index.str[:15]"
   ]
  },
  {
   "cell_type": "code",
   "execution_count": null,
   "id": "35417b76-e57b-43a2-9188-d901b447d2e1",
   "metadata": {},
   "outputs": [],
   "source": [
    "gencode = pd.read_csv(eac_tcga_dir /\"gencode_mapping_table.csv\")\n",
    "gencode = gencode.set_index('gencode_id_gex')\n",
    "\n",
    "mapping_gen = gencode.loc[fpkm.columns.intersection(gencode.index)].gene_name.to_dict()\n",
    "fpkm = fpkm.loc[:,fpkm.columns.intersection(gencode.index)]\n",
    "fpkm = fpkm.rename(columns=mapping_gen)\n",
    "fpkm = fpkm.loc[:,~(fpkm.columns.duplicated())]"
   ]
  },
  {
   "cell_type": "code",
   "execution_count": null,
   "id": "95e06c6b-76f1-41ee-81d5-720d670520f3",
   "metadata": {},
   "outputs": [],
   "source": [
    "eac_patients = clinical_full[clinical_full[\"histological_type\"]==\"Esophagus Adenocarcinoma, NOS\"].index\n",
    "eac_patients = fpkm.index.intersection(eac_patients)"
   ]
  },
  {
   "cell_type": "code",
   "execution_count": null,
   "id": "323b5187-da06-43ab-bc78-b2fa71fa767b",
   "metadata": {},
   "outputs": [],
   "source": [
    "normal_patients = eac_patients[eac_patients.str.contains(\"-11\")]\n",
    "eac_patients = eac_patients[~eac_patients.str.contains(\"-11\")]"
   ]
  },
  {
   "cell_type": "code",
   "execution_count": null,
   "id": "dbe8d2cf-d6c1-47ca-89a5-4f494d26a835",
   "metadata": {},
   "outputs": [],
   "source": [
    "fpkm_eac = fpkm.loc[eac_patients]\n",
    "clinical_eac = clinical_full.loc[eac_patients]"
   ]
  },
  {
   "cell_type": "code",
   "execution_count": null,
   "id": "044b08ac-4955-46c6-a0d4-e213ce0b325e",
   "metadata": {},
   "outputs": [],
   "source": [
    "ss = StandardScaler()\n",
    "std_fpkm = pd.DataFrame(ss.fit_transform(fpkm_eac),index=fpkm_eac.index,columns=fpkm_eac.columns)"
   ]
  },
  {
   "cell_type": "code",
   "execution_count": null,
   "id": "2ceeb9c0-f8ef-4ed2-b0dc-3d2c7b524734",
   "metadata": {},
   "outputs": [],
   "source": [
    "signature_dir = pl.Path(\"/add/path/here\")\n",
    "\n",
    "full_sigs = {}\n",
    "for s in (signature_dir).iterdir():\n",
    "    sig = s.stem\n",
    "    full_sigs[sig] = pd.read_csv(s,index_col=0)\n",
    "    full_sigs[sig] = full_sigs[sig].head(100).index.ravel()"
   ]
  },
  {
   "cell_type": "code",
   "execution_count": null,
   "id": "52b6a047-2389-44f6-bded-acbbe1d4e277",
   "metadata": {},
   "outputs": [],
   "source": [
    "mTFs = ['KLF5', 'ELF3', 'SMAD3', 'TCF7L2', 'HMGA2', \"BNC2\"]"
   ]
  },
  {
   "cell_type": "code",
   "execution_count": null,
   "id": "407150cb-1942-4678-a748-eef7f84aa759",
   "metadata": {},
   "outputs": [],
   "source": [
    "state_score = []\n",
    "for sig, genes in full_sigs.items():\n",
    "    selgenes = std_fpkm.columns.intersection(genes)\n",
    "    selgenes = np.setdiff1d(selgenes, mTFs)\n",
    "    scores = std_fpkm[selgenes].mean(axis=1)\n",
    "    scores.name = sig\n",
    "    state_score.append(scores)\n",
    "state_score = pd.concat(state_score,axis=1)"
   ]
  },
  {
   "cell_type": "code",
   "execution_count": null,
   "id": "be499271-ca9d-4972-93fc-09bcc35eea59",
   "metadata": {},
   "outputs": [],
   "source": [
    "mTF_score = std_fpkm[std_fpkm.columns.intersection([\"KLF5\",\"ELF3\",\"SMAD3\",\"TCF7L2\"])].mean(axis=1)\n",
    "mTF_score.name = \"mTF_score\""
   ]
  },
  {
   "cell_type": "code",
   "execution_count": null,
   "id": "73e691ec-511e-4d5d-9c59-37076f61c4d4",
   "metadata": {},
   "outputs": [],
   "source": [
    "ax = sns.scatterplot(data=state_score, x=\"cNMF_3\", y=\"cNMF_4\")\n",
    "ax.spines[['right', 'top']].set_visible(False)\n",
    "ax.hlines(y=0, xmin=ax.get_xlim()[0], xmax=ax.get_xlim()[1], linestyles=\"dashed\", color=\"grey\")\n",
    "ax.vlines(x=0, ymin=ax.get_ylim()[0], ymax=ax.get_ylim()[1], linestyles=\"dashed\", color=\"grey\")"
   ]
  },
  {
   "cell_type": "code",
   "execution_count": null,
   "id": "e4e84032-94d2-4607-9c7e-71049c434607",
   "metadata": {},
   "outputs": [],
   "source": [
    "cNMF_3_patients = state_score[(state_score[\"cNMF_3\"]>=0) & (state_score[\"cNMF_4\"]<0)].index\n",
    "\n",
    "cNMF_4_patients = state_score[(state_score[\"cNMF_4\"]>=0) & (state_score[\"cNMF_3\"]<0)].index\n",
    "\n",
    "cNMF_mixed_patients = state_score[(state_score[\"cNMF_4\"]>0) & (state_score[\"cNMF_3\"]>0)].index"
   ]
  },
  {
   "cell_type": "code",
   "execution_count": null,
   "id": "e6f45245-501f-4d29-b3e3-56bfeb06507a",
   "metadata": {},
   "outputs": [],
   "source": [
    "len(cNMF_3_patients),len(cNMF_4_patients),cNMF_4_patients.intersection(cNMF_3_patients)"
   ]
  },
  {
   "cell_type": "code",
   "execution_count": null,
   "id": "7db6e176",
   "metadata": {},
   "outputs": [],
   "source": [
    "df = state_score.copy()\n",
    "df.index = df.index.str[:-3]"
   ]
  },
  {
   "cell_type": "code",
   "execution_count": null,
   "id": "9b00e84e",
   "metadata": {},
   "outputs": [],
   "source": [
    "common_patients = df.index.intersection(clinical_nature.index)"
   ]
  },
  {
   "cell_type": "code",
   "execution_count": null,
   "id": "dc836848",
   "metadata": {},
   "outputs": [],
   "source": [
    "pats = pd.concat([df.loc[common_patients],clinical_nature.loc[common_patients]],axis=1)"
   ]
  },
  {
   "cell_type": "code",
   "execution_count": null,
   "id": "37d8e17f-e85a-481b-8f5f-fcddfad8064a",
   "metadata": {},
   "outputs": [],
   "source": [
    "augclin = pd.concat([state_score,clinical_eac],axis=1,join=\"inner\")\n",
    "augclin = pd.concat([augclin, tmb_eac],axis=1,join='outer')\n",
    "\n",
    "stage_mapping = {\"Stage X\": np.nan, \"Stage IV\": 4, \"Stage IVB\": 4, \"Stage IVA\": 4, \"Stage IIB\": 2, \"Stage IA\": 1, \"Stage IIIA\": 3, \"Stage IIA\": 2, \"Stage IIC\": 2, \n",
    "                 \"Stage I\": 1, \"Stage IIIC\": 3, \"Stage IB\": 1, \"Stage IIIB\": 3, 'Stage III': 3, \"Stage II\": 2, \"I/II NOS\": 1,\n",
    "                 \"[Discrepancy]\": np.nan}\n",
    "\n",
    "augclin[\"Disease\"] = pd.Series(augclin.index.str[:15].str.split(\"-\").str[-1]).replace({\"01\": \"Tumor\", \"11\": \"Normal\", \"06\": \"Tumor\"}).ravel()\n",
    "\n",
    "augclin[\"Stage\"] = augclin.pathologic_stage.replace(stage_mapping).astype(\"category\")\n",
    "\n",
    "augclin[\"Response to treatment\"] = augclin[\"additional_treatment_completion_success_outcome\"].replace({\"Partial Response\": \"Response/Stable\", \n",
    "                                                                    \"Stable Disease\": \"Response/Stable\", \n",
    "                                                                    \"Complete Response\": \"Response/Stable\"})\n",
    "\n",
    "augclin[\"M_status\"]  = augclin[\"pathologic_M\"].fillna(augclin[\"clinical_M\"]).replace({\"MX\": np.nan, \"M1a\": \"M1\", \"M1b\": \"M1\"})\n",
    "\n",
    "augclin[\"N_status\"] = augclin[\"pathologic_N\"].fillna(augclin[\"clinical_N\"]).replace({\"NX\": np.nan, \"N2\": \"N1/N2/N3\", \"N1\": \"N1/N2/N3\", \"N3\": \"N1/N2/N3\"})\n",
    "\n",
    "augclin[\"T_status\"] = augclin[\"pathologic_T\"].fillna(augclin[\"clinical_T\"]).replace({\"TX\": np.nan, \"T0\": np.nan, \n",
    "                                                                                     \"T3\": \"T3/T4\", \n",
    "                                                                                     \"T4\": \"T3/T4\",\n",
    "                                                                                     \"T4a\": \"T3/T4\", })\n",
    "\n",
    "augclin[\"MSI_status\"] = augclin[\"CDE_ID_3226963\"].replace({\"MSI-H\": \"MSI\", \"MSI-L\": \"MSI\"})\n",
    "augclin[\"Histological subtype\"] = augclin[\"histological_type\"].replace({\"Esophagus Adenocarcinoma, NOS\": \"EAC\", \n",
    "                                                                        \"Esophagus Squamous Cell Carcinoma\": \"ESCC\"})"
   ]
  },
  {
   "cell_type": "code",
   "execution_count": null,
   "id": "d6ee3485-0069-4cc1-bbd4-9d5442338ab5",
   "metadata": {},
   "outputs": [],
   "source": [
    "augclin[\"PatClass\"] = \"None\"\n",
    "augclin.loc[cNMF_3_patients, \"PatClass\"] = \"cNMF_3\"\n",
    "augclin.loc[cNMF_4_patients, \"PatClass\"] = \"cNMF_4\"\n",
    "augclin.loc[cNMF_mixed_patients, \"PatClass\"] = \"Mixed\""
   ]
  },
  {
   "cell_type": "code",
   "execution_count": null,
   "id": "05ef7894-d1d0-420c-9a77-f881275bb0a4",
   "metadata": {},
   "outputs": [],
   "source": [
    "def plot_box(ax, augclin, x, y, pairs, order=None):\n",
    "    sns.boxplot(data=augclin,x=x, y=y, order=order, ax=ax)\n",
    "    pretty_ax(ax)\n",
    "    annotator = Annotator(ax, pairs, data=augclin,\n",
    "                          x=x, y=y, order=order)\n",
    "    annotator.configure(test='Mann-Whitney', text_format='simple', show_test_name=False, loc='inside')\n",
    "    annotator.apply_and_annotate()"
   ]
  },
  {
   "cell_type": "code",
   "execution_count": null,
   "id": "cb3c2b72-70ea-4701-b9db-5c945b05ccc0",
   "metadata": {},
   "outputs": [],
   "source": [
    "augclin[[\"cNMF_3\",\"TMB\"]].corr()"
   ]
  },
  {
   "cell_type": "code",
   "execution_count": null,
   "id": "d3653a97-2bd0-4d5e-a122-0b6f2b58826d",
   "metadata": {},
   "outputs": [],
   "source": [
    "fig, ax = plt.subplots(1,1, figsize=(3,3))\n",
    "plot_box(ax, augclin[augclin.TMB<40], \"PatClass\", \"TMB\", \n",
    "         [(\"cNMF_3\",\"None\"),(\"cNMF_3\",\"cNMF_4\"),(\"cNMF_3\",\"Mixed\"),(\"None\",\"cNMF_4\"),(\"cNMF_4\",\"Mixed\"),(\"None\",\"Mixed\")], order=[\"None\",\"cNMF_3\",\"Mixed\",\"cNMF_4\"])"
   ]
  },
  {
   "cell_type": "code",
   "execution_count": null,
   "id": "ada97c13-1c0c-491a-90b1-c1af5ad1c3a7",
   "metadata": {},
   "outputs": [],
   "source": [
    "pd.crosstab(augclin[\"N_status\"], augclin[\"PatClass\"])"
   ]
  },
  {
   "cell_type": "code",
   "execution_count": null,
   "id": "8512062f-1c19-473b-aac2-3bb008737fd1",
   "metadata": {},
   "outputs": [],
   "source": [
    "pd.crosstab(augclin[\"T_status\"], augclin[\"PatClass\"])"
   ]
  },
  {
   "cell_type": "code",
   "execution_count": null,
   "id": "04c06d83-f99b-4e75-8740-1c1d27eb9130",
   "metadata": {},
   "outputs": [],
   "source": [
    "fig, ax = plt.subplots(1,1, figsize=(3,3))\n",
    "plot_box(ax, augclin, \"N_status\", \"cNMF_3\", [(\"N0\",\"N1/N2/N3\")], order=[\"N0\",\"N1/N2/N3\"])\n",
    "fig.savefig(\"/cluster/work/boeva/jyates/EAC_singlecell/clean_code/figures/tcga/cNMF_3_N_status.svg\", dpi=200, bbox_inches=\"tight\")"
   ]
  },
  {
   "cell_type": "code",
   "execution_count": null,
   "id": "464ee90b-95ce-46c2-a2eb-4ee255f3f112",
   "metadata": {},
   "outputs": [],
   "source": [
    "fig, ax = plt.subplots(1,1, figsize=(3,3))\n",
    "plot_box(ax, augclin, \"N_status\", \"cNMF_4\", [(\"N0\",\"N1/N2/N3\")], order=[\"N0\",\"N1/N2/N3\"])\n",
    "fig.savefig(\"/cluster/work/boeva/jyates/EAC_singlecell/clean_code/figures/tcga/cNMF_4_N_status.svg\", dpi=200, bbox_inches=\"tight\")"
   ]
  },
  {
   "cell_type": "code",
   "execution_count": null,
   "id": "ee108727-093e-44c2-886e-4dd74f669f99",
   "metadata": {},
   "outputs": [],
   "source": [
    "fig, ax = plt.subplots(1,1, figsize=(3,3))\n",
    "plot_box(ax, augclin, \"T_status\", \"cNMF_3\", [(\"T1\",\"T2\"),(\"T2\",\"T3/T4\"),(\"T1\",\"T3/T4\")], order=[\"T1\",\"T2\",\"T3/T4\"])"
   ]
  },
  {
   "cell_type": "code",
   "execution_count": null,
   "id": "886d8af2-8d7a-41b6-b8ae-13b80c71754b",
   "metadata": {},
   "outputs": [],
   "source": [
    "fig, ax = plt.subplots(1,1, figsize=(3,3))\n",
    "plot_box(ax, augclin, \"T_status\", \"cNMF_4\", [(\"T1\",\"T2\"),(\"T2\",\"T3/T4\"),(\"T1\",\"T3/T4\")], order=[\"T1\",\"T2\",\"T3/T4\"])"
   ]
  },
  {
   "cell_type": "code",
   "execution_count": null,
   "id": "43f329aa-fb22-4542-b158-e999d123455d",
   "metadata": {},
   "outputs": [],
   "source": [
    "fig, ax = plt.subplots(1,1, figsize=(3,3))\n",
    "plot_box(ax, augclin, \"T_status\", \"cNMF_5\", [(\"T1\",\"T2\"),(\"T2\",\"T3/T4\"),(\"T1\",\"T3/T4\")], order=[\"T1\",\"T2\",\"T3/T4\"])"
   ]
  },
  {
   "cell_type": "code",
   "execution_count": null,
   "id": "a013bd0f-6bb8-4050-a8a3-7fac87588111",
   "metadata": {},
   "outputs": [],
   "source": [
    "import matplotlib\n",
    "import matplotlib.cm as cm\n",
    "import matplotlib.colors as mcolors\n",
    "\n",
    "from sklearn.decomposition import PCA\n",
    "\n",
    "pca = PCA(n_components=2)\n",
    "X_pca = pd.DataFrame(pca.fit_transform(std_fpkm.fillna(0)),index=std_fpkm.index,columns=[\"PC1\",\"PC2\"])\n",
    "\n",
    "X_pca = pd.concat([X_pca, state_score, augclin[\"PatClass\"]],axis=1)\n",
    "\n",
    "def plot_pcs_color(ax, state):\n",
    "    vcenter = 0\n",
    "    vmin, vmax = X_pca[state].min(), X_pca[state].max()\n",
    "    normalize = mcolors.TwoSlopeNorm(vcenter=vcenter, vmin=vmin, vmax=vmax)\n",
    "    colormap = matplotlib.colormaps['RdBu_r']\n",
    "    sns.scatterplot(\n",
    "        y=X_pca[\"PC2\"],\n",
    "        x=X_pca[\"PC1\"],\n",
    "        c=X_pca[state],\n",
    "        norm=normalize,\n",
    "        cmap=colormap,\n",
    "        ax=ax\n",
    "    )\n",
    "    scalarmappaple = cm.ScalarMappable(norm=normalize, cmap=colormap)\n",
    "    scalarmappaple.set_array(X_pca[state])\n",
    "    ax.set_title(state)\n",
    "    fig.colorbar(scalarmappaple, ax=ax)\n",
    "    pretty_ax(ax)\n",
    "\n",
    "fig, ax = plt.subplots(1,3, figsize=(15,4))\n",
    "flatax = ax.flatten()\n",
    "\n",
    "plot_pcs_color(flatax[0], \"cNMF_3\")\n",
    "plot_pcs_color(flatax[1], \"cNMF_1\")\n",
    "plot_pcs_color(flatax[2], \"cNMF_4\")\n",
    "fig.tight_layout()\n",
    "fig.savefig(\"figures/tcga/PC_wCNMF_score.svg\", dpi=200, bbox_inches=\"tight\")\n",
    "\n",
    "fig, ax = plt.subplots(1,2, figsize=(10,4))\n",
    "flatax = ax.flatten()\n",
    "\n",
    "plot_pcs_color(flatax[0], \"cNMF_2\")\n",
    "plot_pcs_color(flatax[1], \"cNMF_5\")\n",
    "\n",
    "fig.tight_layout()"
   ]
  },
  {
   "cell_type": "code",
   "execution_count": null,
   "id": "fe9de103-05ca-4a92-a036-fced828f712c",
   "metadata": {},
   "outputs": [],
   "source": [
    "fig, ax = plt.subplots(1,1,figsize=(2,2))\n",
    "sns.scatterplot(\n",
    "    y=X_pca[\"PC2\"],\n",
    "    x=X_pca[\"PC1\"],\n",
    "    hue=X_pca[\"PatClass\"], ax=ax\n",
    ")\n",
    "plt.legend(bbox_to_anchor=(1,1,1,0), frameon=False)\n",
    "pretty_ax(ax)"
   ]
  },
  {
   "cell_type": "code",
   "execution_count": null,
   "id": "f8160446-5e86-44fc-8a40-bd699cf1bc6c",
   "metadata": {},
   "outputs": [],
   "source": [
    "X_pca.corr()"
   ]
  },
  {
   "cell_type": "markdown",
   "id": "4b061d18-9f09-4475-8216-76d370d9076f",
   "metadata": {},
   "source": [
    "# Survival"
   ]
  },
  {
   "cell_type": "code",
   "execution_count": null,
   "id": "41b9a8a8-50ea-47b8-8e18-098121e08295",
   "metadata": {},
   "outputs": [],
   "source": [
    "from lifelines import KaplanMeierFitter\n",
    "from lifelines.statistics import logrank_test"
   ]
  },
  {
   "cell_type": "code",
   "execution_count": null,
   "id": "ca6566c6-8f42-44d4-9342-9b8d47d4c02c",
   "metadata": {},
   "outputs": [],
   "source": [
    "survival = pd.read_csv(eac_tcga_dir / \"survival.txt\", sep=\"\\t\",index_col=0)\n",
    "purity = pd.read_csv(eac_tcga_dir / \"tumor_purity_ESTIMATE.csv\",index_col=0) # for ESCA\n",
    "cancer_purity = purity[purity[\"cancer_type\"]==\"ESCA\"][\"TumorPurity\"]\n",
    "cancer_purity.index = cancer_purity.index.str.rstrip(\"A\")\n",
    "cancer_purity.index = cancer_purity.index.str.rstrip(\"B\")\n",
    "cancer_purity.index = cancer_purity.index.str.rstrip(\"C\")\n",
    "\n",
    "cancer_purity = cancer_purity.loc[~cancer_purity.index.duplicated(keep=\"first\")]"
   ]
  },
  {
   "cell_type": "code",
   "execution_count": null,
   "id": "d52c0d14-49b4-4242-b57a-c5c92a676f23",
   "metadata": {},
   "outputs": [],
   "source": [
    "augclin[\"age\"] = augclin[\"age_at_initial_pathologic_diagnosis\"]\n",
    "survstr = \"DSS\"\n",
    "clin = pd.concat([augclin[[\"age\",\"Stage\",\"gender\"]],survival[[survstr,f\"{survstr}.time\"]],cancer_purity],axis=1,join=\"inner\")\n",
    "clin = clin.rename(columns={\"TumorPurity\": \"Purity\"})\n",
    "clin.DSS = clin[survstr].fillna(0)\n",
    "clin.age = (clin.age - clin.age.min())/(clin.age.max()- clin.age.min())\n",
    "clin.gender = clin.gender.replace({\"MALE\": 0, \"FEMALE\": 1})\n",
    "\n",
    "common_patients = fpkm_eac.index.intersection(clin.index)\n",
    "std_fpkm = std_fpkm.loc[common_patients]\n",
    "clin = clin.loc[common_patients]"
   ]
  },
  {
   "cell_type": "code",
   "execution_count": null,
   "id": "fea1fe05-c9e8-4f7f-b723-9e904d693682",
   "metadata": {},
   "outputs": [],
   "source": [
    "survstr = \"DSS\"\n",
    "for i in range(1,6):\n",
    "    metasig = f\"cNMF_{i}\"\n",
    "    scores = std_fpkm[std_fpkm.columns.intersection(full_sigs[metasig])].mean(axis=1)\n",
    "    scores = scores.loc[clin.index]\n",
    "\n",
    "    duration, event = {},{}\n",
    "    for high in [0,1]:\n",
    "        if high==1:\n",
    "            stratification = scores>=scores.quantile(0.7)\n",
    "            df = clin[stratification]\n",
    "            duration[high] = df[f\"{survstr}.time\"].ravel()\n",
    "            event[high] = df[survstr].ravel()\n",
    "        else:\n",
    "            stratification = scores<=scores.quantile(0.3)\n",
    "            df = clin[stratification]\n",
    "            duration[high] = df[f\"{survstr}.time\"].ravel()\n",
    "            event[high] = df[survstr].ravel()\n",
    "\n",
    "    fig, ax = plt.subplots(1,1)\n",
    "    kmf = KaplanMeierFitter() \n",
    "    ## Fit the data into the model\n",
    "    kmf.fit(duration[0], event[0], label='Low score')\n",
    "    kmf.plot(show_censors=True,c=\"r\",ax=ax,ci_alpha=0.1)\n",
    "    kmf.fit(duration[1], event[1], label='High score')\n",
    "    kmf.plot(show_censors=True,c=\"b\",ax=ax)\n",
    "    pretty_ax(ax)\n",
    "    ax.set_ylabel(\"DSS\")\n",
    "    ax.set_xlabel(\"Time to event\")\n",
    "    results=logrank_test(duration[0],duration[1],event_observed_A=event[0], event_observed_B=event[1])\n",
    "    results.print_summary()\n",
    "    ax.text(0.75*ax.get_xlim()[1],0.8,f\"p={results.p_value:.1e}\",fontsize=13)"
   ]
  },
  {
   "cell_type": "code",
   "execution_count": null,
   "id": "c4643f7c-4628-4d00-9109-2b40a5d6d000",
   "metadata": {},
   "outputs": [],
   "source": [
    "duration, event = {},{}\n",
    "for high in [0,1]:\n",
    "    if high==1:\n",
    "        df = clin[augclin[\"PatClass\"]==\"cNMF_3\"]\n",
    "        duration[high] = df[f\"{survstr}.time\"].ravel()\n",
    "        event[high] = df[survstr].ravel()\n",
    "    else:\n",
    "        df = clin[augclin[\"PatClass\"]==\"cNMF_4\"]\n",
    "        duration[high] = df[f\"{survstr}.time\"].ravel()\n",
    "        event[high] = df[survstr].ravel()\n",
    "\n",
    "fig, ax = plt.subplots(1,1)\n",
    "kmf = KaplanMeierFitter() \n",
    "## Fit the data into the model\n",
    "kmf.fit(duration[0], event[0], label='cNMF_4 patients')\n",
    "kmf.plot(show_censors=True,c=\"r\",ax=ax,ci_alpha=0.1)\n",
    "kmf.fit(duration[1], event[1], label='cNMF_3 patients')\n",
    "kmf.plot(show_censors=True,c=\"b\",ax=ax)\n",
    "pretty_ax(ax)\n",
    "ax.set_ylabel(\"DSS\")\n",
    "ax.set_xlabel(\"Time to event\")\n",
    "results=logrank_test(duration[0],duration[1],event_observed_A=event[0], event_observed_B=event[1])\n",
    "results.print_summary()\n",
    "ax.text(0.75*ax.get_xlim()[1],0.8,f\"p={results.p_value:.1e}\",fontsize=13)"
   ]
  },
  {
   "cell_type": "code",
   "execution_count": null,
   "id": "4da94baa-98c0-4e06-9aa3-e488f7ce7e1b",
   "metadata": {},
   "outputs": [],
   "source": [
    "duration, event = {},{}\n",
    "for high in [0,1,2]:\n",
    "    if high==2:\n",
    "        df = clin[augclin[\"PatClass\"]==\"cNMF_3\"]\n",
    "        duration[high] = df[f\"{survstr}.time\"].ravel()\n",
    "        event[high] = df[survstr].ravel()\n",
    "    elif high==1:\n",
    "        df = clin[augclin[\"PatClass\"]==\"Mixed\"]\n",
    "        duration[high] = df[f\"{survstr}.time\"].ravel()\n",
    "        event[high] = df[survstr].ravel()\n",
    "    elif high==0:\n",
    "        df = clin[augclin[\"PatClass\"]==\"cNMF_4\"]\n",
    "        duration[high] = df[f\"{survstr}.time\"].ravel()\n",
    "        event[high] = df[survstr].ravel()\n",
    "\n",
    "fig, ax = plt.subplots(1,1)\n",
    "kmf = KaplanMeierFitter() \n",
    "## Fit the data into the model\n",
    "kmf.fit(duration[0], event[0], label='cNMF_4 patients')\n",
    "kmf.plot(show_censors=True,c=\"r\",ax=ax,ci_alpha=0.1)\n",
    "kmf.fit(duration[1], event[1], label='Mixed patients')\n",
    "kmf.plot(show_censors=True,c=\"g\",ax=ax)\n",
    "kmf.fit(duration[2], event[2], label='cNMF_3 patients')\n",
    "kmf.plot(show_censors=True,c=\"b\",ax=ax)\n",
    "pretty_ax(ax)\n",
    "ax.set_ylabel(\"DSS\")\n",
    "ax.set_xlabel(\"Time to event\")\n",
    "res4vsM=logrank_test(duration[0],duration[1],event_observed_A=event[0], event_observed_B=event[1])\n",
    "res4vsM.print_summary()\n",
    "p4vsM = res4vsM.p_value\n",
    "res3vsM=logrank_test(duration[2],duration[1],event_observed_A=event[2], event_observed_B=event[1])\n",
    "res3vsM.print_summary()\n",
    "p3vsM = res3vsM.p_value\n",
    "res3vs4=logrank_test(duration[2],duration[0],event_observed_A=event[2], event_observed_B=event[0])\n",
    "res3vs4.print_summary()\n",
    "p3vs4 = res3vs4.p_value\n",
    "ax.text(0.65*ax.get_xlim()[1],0.95,f\"p(3vs4)={p3vs4:.1e}\",fontsize=13)\n",
    "ax.text(0.65*ax.get_xlim()[1],0.85,f\"p(3vsM)={p3vsM:.1e}\",fontsize=13)\n",
    "ax.text(0.65*ax.get_xlim()[1],0.75,f\"p(4vsM)={p4vsM:.1e}\",fontsize=13)\n",
    "plt.legend(bbox_to_anchor=(1,1,0.5,0), frameon=False, fontsize=13)"
   ]
  },
  {
   "cell_type": "code",
   "execution_count": null,
   "id": "99c3c332-28dc-49e9-bdf2-f1fef6fb911b",
   "metadata": {},
   "outputs": [],
   "source": [
    "gene = \"TCF7L2\""
   ]
  },
  {
   "cell_type": "code",
   "execution_count": null,
   "id": "69a9aa26-fb3e-42b4-875e-e8bf03d85724",
   "metadata": {},
   "outputs": [],
   "source": [
    "duration, event = {},{}\n",
    "gene_expr = std_fpkm[gene]\n",
    "for high in [0,1]:\n",
    "    if high==1:\n",
    "        stratification = gene_expr>=gene_expr.quantile(0.75)\n",
    "        df = clin[stratification]\n",
    "        duration[high] = df[f\"{survstr}.time\"].ravel()\n",
    "        event[high] = df[survstr].ravel()\n",
    "    else:\n",
    "        stratification = gene_expr<=gene_expr.quantile(0.25)\n",
    "        df = clin[stratification]\n",
    "        duration[high] = df[f\"{survstr}.time\"].ravel()\n",
    "        event[high] = df[survstr].ravel()\n",
    "\n",
    "fig, ax = plt.subplots(1,1)\n",
    "kmf = KaplanMeierFitter() \n",
    "## Fit the data into the model\n",
    "kmf.fit(duration[0], event[0], label='Low score')\n",
    "kmf.plot(show_censors=True,c=\"r\",ax=ax,ci_alpha=0.1)\n",
    "kmf.fit(duration[1], event[1], label='High score')\n",
    "kmf.plot(show_censors=True,c=\"b\",ax=ax)\n",
    "pretty_ax(ax)\n",
    "ax.set_ylabel(\"DSS\")\n",
    "ax.set_xlabel(\"Time to event\")\n",
    "results=logrank_test(duration[0],duration[1],event_observed_A=event[0], event_observed_B=event[1])\n",
    "results.print_summary()\n",
    "ax.text(0.75*ax.get_xlim()[1],0.8,f\"p={results.p_value:.1e}\",fontsize=13)"
   ]
  },
  {
   "cell_type": "code",
   "execution_count": null,
   "id": "8adc23a4-cb4f-4a65-8ba8-f695b648b1cd",
   "metadata": {},
   "outputs": [],
   "source": []
  },
  {
   "cell_type": "markdown",
   "id": "1d99870f-3746-4291-97e1-1b1e85c4600b",
   "metadata": {},
   "source": [
    "# Correlation between scores and TF"
   ]
  },
  {
   "cell_type": "code",
   "execution_count": null,
   "id": "b01eef8d-ac54-4de1-8786-7f35394da984",
   "metadata": {},
   "outputs": [],
   "source": [
    "state_score[[\"cNMF_1\",\"cNMF_3\",\"cNMF_4\"]].corr()"
   ]
  },
  {
   "cell_type": "code",
   "execution_count": null,
   "id": "9f391b9e-7bf1-4a85-8d4a-e918a4c7ec21",
   "metadata": {},
   "outputs": [],
   "source": [
    "corr_df = pd.concat([fpkm_eac[mTFs],state_score[[\"cNMF_1\",\"cNMF_3\",\"cNMF_4\"]]],axis=1)"
   ]
  },
  {
   "cell_type": "code",
   "execution_count": null,
   "id": "18ed66bc-9d91-4f1e-a896-694898e2c489",
   "metadata": {},
   "outputs": [],
   "source": [
    "heatmap_df = corr_df.corr().loc[[\"cNMF_3\",\"cNMF_1\",\"cNMF_4\"],mTFs]"
   ]
  },
  {
   "cell_type": "code",
   "execution_count": null,
   "id": "b838cb9e-fbb0-4d72-a5c5-dff2bc2d7ff8",
   "metadata": {},
   "outputs": [],
   "source": [
    "fig, ax = plt.subplots(1,1,figsize=(5,2))\n",
    "sns.heatmap(data=heatmap_df, annot=heatmap_df, cmap=\"vlag\", center=0, ax=ax)\n",
    "fig.savefig(\"figures/tcga/heatmap_cNMF_TF_corr.png\", dpi=300, bbox_inches=\"tight\")"
   ]
  },
  {
   "cell_type": "code",
   "execution_count": null,
   "id": "8183f718-a616-4536-a25e-d3cd13d5841c",
   "metadata": {},
   "outputs": [],
   "source": [
    "corr_df = pd.concat([state_score[[\"cNMF_3\",\"cNMF_1\",\"cNMF_4\"]],\n",
    "           mTF_score],axis=1)\n",
    "\n",
    "heatmap_df = corr_df.corr().loc[[\"mTF_score\"],[\"cNMF_3\",\"cNMF_1\",\"cNMF_4\"]]"
   ]
  },
  {
   "cell_type": "code",
   "execution_count": null,
   "id": "113c4c07-87f7-4c7b-9bcb-ed0735090696",
   "metadata": {},
   "outputs": [],
   "source": [
    "fig, ax = plt.subplots(1,1,figsize=(2,0.5))\n",
    "sns.heatmap(data=heatmap_df, annot=heatmap_df, cmap=\"vlag\", center=0, ax=ax)\n",
    "ax.set_yticklabels(ax.get_yticklabels(), rotation=0)\n",
    "ax.set_xticklabels([\"cNMF_3\",\"cNMF_1\",\"cNMF_4\"], rotation=45, ha=\"right\")\n",
    "fig.savefig(\"figures/tcga/heatmap_cNMF_mTFscore_corr.png\", dpi=300, bbox_inches=\"tight\")"
   ]
  },
  {
   "cell_type": "markdown",
   "id": "9951efd7-f9e5-48d0-9bcd-a84e1a74cb11",
   "metadata": {},
   "source": [
    "# Download other TCGA"
   ]
  },
  {
   "cell_type": "code",
   "execution_count": null,
   "id": "2a02c01b-7319-4edc-96ac-d994c48334f1",
   "metadata": {},
   "outputs": [],
   "source": [
    "all_fpkm = {}\n",
    "for ct in tcga_dir.iterdir():\n",
    "    if ct.stem in [\"STAD\",\"COAD\",\"PAAD\",\"ESCA\"]:\n",
    "        all_fpkm[ct.stem] = pd.read_csv(ct / f\"{ct.stem}_gex_fpkm_uq.csv\",index_col=0)"
   ]
  },
  {
   "cell_type": "code",
   "execution_count": null,
   "id": "835e2a50-24f5-4c86-8b03-44ded96e00bc",
   "metadata": {},
   "outputs": [],
   "source": [
    "all_clinical = {}\n",
    "for ct in [\"STAD\",\"COAD\",\"PAAD\",\"ESCA\"]:\n",
    "    all_clinical[ct] = pd.read_csv(eac_tcga_dir / f\"TCGA.{ct}.sampleMap_{ct}_clinicalMatrix\",sep=\"\\t\", index_col=0)"
   ]
  },
  {
   "cell_type": "code",
   "execution_count": null,
   "id": "87f10ccc-9be2-4610-8b69-98a281724b66",
   "metadata": {},
   "outputs": [],
   "source": [
    "all_histological = {}\n",
    "all_histological[\"COAD\"] = all_clinical[\"COAD\"][\"histological_type\"].fillna(\"NA\")\n",
    "all_histological[\"COAD\"].loc[all_histological[\"COAD\"].isin([\"[Discrepancy]\"])] = \"NA\"\n",
    "all_histological[\"COAD\"].name = \"Histological type\"\n",
    "\n",
    "all_histological[\"PAAD\"] = all_clinical[\"PAAD\"][\"histological_type\"]\n",
    "all_histological[\"PAAD\"].loc[all_histological[\"PAAD\"].isin([\"[Discrepancy]\",\n",
    "                                                    \"Pancreas-Undifferentiated Carcinoma\",\n",
    "                                                    \"Pancreas-Colloid (mucinous non-cystic) Carcinoma\"])] = \"NA\"\n",
    "all_histological[\"PAAD\"] = all_histological[\"PAAD\"].str.split(\"-\").str[:].ravel()\n",
    "all_histological[\"PAAD\"] = [\" \".join(all_histological[\"PAAD\"][i]) for i in range(len(all_histological[\"PAAD\"]))]\n",
    "all_histological[\"PAAD\"] = pd.DataFrame(all_histological[\"PAAD\"], index=all_clinical[\"PAAD\"].index, columns=[\"Histological type\"])\n",
    "\n",
    "all_histological[\"STAD\"] = all_clinical[\"STAD\"][\"histological_type\"].fillna(\"NA\")\n",
    "all_histological[\"STAD\"].loc[all_histological[\"STAD\"].isin([\"[Discrepancy]\"])] = \"NA\"\n",
    "all_histological[\"STAD\"] = all_histological[\"STAD\"].str.split(\",\").str[:-1].ravel()\n",
    "all_histological[\"STAD\"] = [\"\".join(all_histological[\"STAD\"][i]) for i in range(len(all_histological[\"STAD\"]))]\n",
    "all_histological[\"STAD\"] = pd.DataFrame(all_histological[\"STAD\"], index=all_clinical[\"STAD\"].index, columns=[\"Histological type\"])\n",
    "\n",
    "all_histological[\"ESCA\"] = all_clinical[\"ESCA\"][\"histological_type\"].replace({\"Esophagus Adenocarcinoma, NOS\": \"Esophagus Adenocarcinoma\"}).fillna(\"NA\")\n",
    "all_histological[\"ESCA\"].name = \"Histological type\""
   ]
  },
  {
   "cell_type": "code",
   "execution_count": null,
   "id": "35c8241d-7856-4b6a-a621-6308af26a8e9",
   "metadata": {},
   "outputs": [],
   "source": [
    "full_fpkm = []\n",
    "for ct in all_fpkm:\n",
    "    all_fpkm[ct][\"Cancer type\"] = ct\n",
    "    all_fpkm[ct] = pd.concat([all_fpkm[ct],all_histological[ct]],axis=1)\n",
    "    full_fpkm.append(all_fpkm[ct])"
   ]
  },
  {
   "cell_type": "code",
   "execution_count": null,
   "id": "4b0905a4-7b7d-4378-bd64-bc14bff87043",
   "metadata": {},
   "outputs": [],
   "source": [
    "full_fpkm = pd.concat(full_fpkm)"
   ]
  },
  {
   "cell_type": "code",
   "execution_count": null,
   "id": "b541b1e4-32b0-49ce-9e0d-3dfeec46df0b",
   "metadata": {},
   "outputs": [],
   "source": [
    "full_fpkm = full_fpkm.dropna()"
   ]
  },
  {
   "cell_type": "code",
   "execution_count": null,
   "id": "dfad91c1-8a8d-4db2-810c-1c4d16acb3ee",
   "metadata": {},
   "outputs": [],
   "source": [
    "full_fpkm[\"Histological type\"] = full_fpkm[\"Histological type\"].replace({\"\":\"NA\"})"
   ]
  },
  {
   "cell_type": "code",
   "execution_count": null,
   "id": "74ecc8e6-8e40-493f-b513-08abe331d307",
   "metadata": {},
   "outputs": [],
   "source": [
    "ss = StandardScaler()\n",
    "std_full_fpkm = pd.DataFrame(ss.fit_transform(full_fpkm.iloc[:,:-2]),index=full_fpkm.index,columns=full_fpkm.columns[:-2])\n",
    "\n",
    "std_full_fpkm = pd.concat([std_full_fpkm,full_fpkm[[\"Cancer type\",\"Histological type\"]]],axis=1)"
   ]
  },
  {
   "cell_type": "code",
   "execution_count": null,
   "id": "039d495d-bf58-4b29-99c7-940ab621d13a",
   "metadata": {},
   "outputs": [],
   "source": [
    "state_score = []\n",
    "for sig, genes in full_sigs.items():\n",
    "    scores = std_full_fpkm[std_full_fpkm.columns.intersection(genes)].mean(axis=1)\n",
    "    scores.name = sig\n",
    "    state_score.append(scores)\n",
    "state_score = pd.concat(state_score,axis=1)"
   ]
  },
  {
   "cell_type": "code",
   "execution_count": null,
   "id": "0c7573b1-4dfe-46e4-a861-ddbccc8231f5",
   "metadata": {},
   "outputs": [],
   "source": [
    "state_score = pd.concat([state_score,std_full_fpkm[[\"Cancer type\",\"Histological type\"]]],axis=1)"
   ]
  },
  {
   "cell_type": "code",
   "execution_count": null,
   "id": "008bf5da-0821-4898-8ab7-82992825947a",
   "metadata": {},
   "outputs": [],
   "source": [
    "pairs = [(\"Esophagus Adenocarcinoma\",ct) for ct in np.setdiff1d(state_score[\"Histological type\"].unique(),[\"Esophagus Adenocarcinoma\"])]"
   ]
  },
  {
   "cell_type": "code",
   "execution_count": null,
   "id": "713caef0-5258-4378-90c8-0f6dae181d71",
   "metadata": {},
   "outputs": [],
   "source": [
    "fig, ax = plt.subplots(1,1,figsize=(7,5))\n",
    "x= \"Histological type\"\n",
    "y=\"cNMF_5\"\n",
    "order=[\"Esophagus Adenocarcinoma\", \"Esophagus Squamous Cell Carcinoma\", \"Stomach Intestinal Adenocarcinoma\",\n",
    "        \"Stomach Adenocarcinoma\", \"Colon Adenocarcinoma\", \"Colon Mucinous Adenocarcinoma\",\n",
    "         \"Pancreas Adenocarcinoma Ductal Type\", \"Pancreas Adenocarcinoma Other Subtype\",\"NA\"]\n",
    "sns.boxplot(data=state_score, x=x, y=y, ax=ax, order=order)\n",
    "ax.set_xticklabels(ax.get_xticklabels(), rotation=45, ha=\"right\")\n",
    "pretty_ax(ax)\n",
    "ax.set_xlabel(\"\")\n",
    "annotator = Annotator(ax, pairs, data=state_score,\n",
    "                      x=x, y=y, order=order)\n",
    "annotator.configure(test='Mann-Whitney', text_format='star', loc='inside')\n",
    "annotator.apply_and_annotate()\n",
    "fig.savefig(\"figures/tcga/cNMF_5_score_GI_tract_cancers.svg\", dpi=200, bbox_inches=\"tight\")"
   ]
  },
  {
   "cell_type": "code",
   "execution_count": null,
   "id": "b6a2ade1-0e79-460a-ab4c-4352c54bac48",
   "metadata": {},
   "outputs": [],
   "source": [
    "fig, ax = plt.subplots(1,1,figsize=(7,5))\n",
    "x= \"Histological type\"\n",
    "y=\"cNMF_1\"\n",
    "order=[\"Esophagus Adenocarcinoma\", \"Esophagus Squamous Cell Carcinoma\", \"Stomach Intestinal Adenocarcinoma\",\n",
    "        \"Stomach Adenocarcinoma\", \"Colon Adenocarcinoma\", \"Colon Mucinous Adenocarcinoma\",\n",
    "         \"Pancreas Adenocarcinoma Ductal Type\", \"Pancreas Adenocarcinoma Other Subtype\",\"NA\"]\n",
    "sns.boxplot(data=state_score, x=x, y=y, ax=ax, order=order)\n",
    "ax.set_xticklabels(ax.get_xticklabels(), rotation=45, ha=\"right\")\n",
    "pretty_ax(ax)\n",
    "ax.set_xlabel(\"\")\n",
    "annotator = Annotator(ax, pairs, data=state_score,\n",
    "                      x=x, y=y, order=order)\n",
    "annotator.configure(test='Mann-Whitney', text_format='star', loc='inside')\n",
    "annotator.apply_and_annotate()"
   ]
  },
  {
   "cell_type": "code",
   "execution_count": null,
   "id": "3c0eacab-4b89-419b-89e0-6d9b15ad776d",
   "metadata": {},
   "outputs": [],
   "source": [
    "fig, ax = plt.subplots(1,1,figsize=(7,5))\n",
    "x= \"Histological type\"\n",
    "y=\"cNMF_2\"\n",
    "order=[\"Esophagus Adenocarcinoma\", \"Esophagus Squamous Cell Carcinoma\", \"Stomach Intestinal Adenocarcinoma\",\n",
    "        \"Stomach Adenocarcinoma\", \"Colon Adenocarcinoma\", \"Colon Mucinous Adenocarcinoma\",\n",
    "         \"Pancreas Adenocarcinoma Ductal Type\", \"Pancreas Adenocarcinoma Other Subtype\",\"NA\"]\n",
    "sns.boxplot(data=state_score, x=x, y=y, ax=ax, order=order)\n",
    "ax.set_xticklabels(ax.get_xticklabels(), rotation=45, ha=\"right\")\n",
    "pretty_ax(ax)\n",
    "ax.set_xlabel(\"\")\n",
    "annotator = Annotator(ax, pairs, data=state_score,\n",
    "                      x=x, y=y, order=order)\n",
    "annotator.configure(test='Mann-Whitney', text_format='star', loc='inside')\n",
    "annotator.apply_and_annotate()"
   ]
  },
  {
   "cell_type": "code",
   "execution_count": null,
   "id": "1e8c0fc7-df86-40b8-bb95-147e6f0556ee",
   "metadata": {},
   "outputs": [],
   "source": [
    "fig, ax = plt.subplots(1,1,figsize=(7,5))\n",
    "x= \"Histological type\"\n",
    "y=\"cNMF_3\"\n",
    "order=[\"Esophagus Adenocarcinoma\", \"Esophagus Squamous Cell Carcinoma\", \"Stomach Intestinal Adenocarcinoma\",\n",
    "        \"Stomach Adenocarcinoma\", \"Colon Adenocarcinoma\", \"Colon Mucinous Adenocarcinoma\",\n",
    "         \"Pancreas Adenocarcinoma Ductal Type\", \"Pancreas Adenocarcinoma Other Subtype\",\"NA\"]\n",
    "sns.boxplot(data=state_score, x=x, y=y, ax=ax, order=order)\n",
    "ax.set_xticklabels(ax.get_xticklabels(), rotation=45, ha=\"right\")\n",
    "pretty_ax(ax)\n",
    "ax.set_xlabel(\"\")\n",
    "annotator = Annotator(ax, pairs, data=state_score,\n",
    "                      x=x, y=y, order=order)\n",
    "annotator.configure(test='Mann-Whitney', text_format='star', loc='inside')\n",
    "annotator.apply_and_annotate()\n",
    "fig.savefig(\"figures/tcga/cNMF_3_score_GI_tract_cancers.svg\", dpi=200, bbox_inches=\"tight\")"
   ]
  },
  {
   "cell_type": "code",
   "execution_count": null,
   "id": "cdb553bd-b8f9-4e4d-ab31-9e7f1a375201",
   "metadata": {},
   "outputs": [],
   "source": [
    "fig, ax = plt.subplots(1,1,figsize=(7,5))\n",
    "x= \"Histological type\"\n",
    "y=\"cNMF_4\"\n",
    "order=[\"Esophagus Adenocarcinoma\", \"Esophagus Squamous Cell Carcinoma\", \"Stomach Intestinal Adenocarcinoma\",\n",
    "        \"Stomach Adenocarcinoma\", \"Colon Adenocarcinoma\", \"Colon Mucinous Adenocarcinoma\",\n",
    "         \"Pancreas Adenocarcinoma Ductal Type\", \"Pancreas Adenocarcinoma Other Subtype\",\"NA\"]\n",
    "sns.boxplot(data=state_score, x=x, y=y, ax=ax, order=order)\n",
    "ax.set_xticklabels(ax.get_xticklabels(), rotation=45, ha=\"right\")\n",
    "pretty_ax(ax)\n",
    "ax.set_xlabel(\"\")\n",
    "annotator = Annotator(ax, pairs, data=state_score,\n",
    "                      x=x, y=y, order=order)\n",
    "annotator.configure(test='Mann-Whitney', text_format='star', loc='inside')\n",
    "annotator.apply_and_annotate()"
   ]
  },
  {
   "cell_type": "markdown",
   "id": "82a2c1d2",
   "metadata": {},
   "source": [
    "# Link with perineural invasion"
   ]
  },
  {
   "cell_type": "code",
   "execution_count": null,
   "id": "eb5f1991-c507-416b-acbf-e5dd31602ee9",
   "metadata": {},
   "outputs": [],
   "source": [
    "path_reports = pd.read_csv(\"/add/path/here/TCGA_Reports.csv\",index_col=0)\n",
    "\n",
    "path_reports.index = path_reports.index.str.split(\".\").str[0]\n",
    "\n",
    "gi_path_reports = path_reports.loc[path_reports.index.intersection(state_score[state_score[\"Cancer type\"]!=\"COAD\"].index.str[:-3])]\n",
    "\n",
    "pni_info = gi_path_reports[gi_path_reports.text.str.lower().str.contains(\"perineural\") | gi_path_reports.text.str.lower().str.contains(\"pni\") | gi_path_reports.text.str.lower().str.contains(\"peri-neural\")]\n",
    "\n",
    "#pni_info.text[139]\n",
    "\n",
    "PNI_status = [0,1,None,1,None,0,None,None,1,1,\n",
    "             1,None,0,0,1,1,None,0,1,0,\n",
    "             1,None,None,1,1,1,1,1,None,0,\n",
    "             1,0,None,0,1,0,0,1,None,None,\n",
    "             1,1,0,1,1,1,None,1,1,None,\n",
    "             1,1,1,None,1,0,1,1,1,1,\n",
    "             1,None,0,1,None,1,1,None,1,1,\n",
    "             0,None,1,None,None,0,1,None,None,1,\n",
    "             None,1,1,1,1,None,None,1,0,0,\n",
    "             0,1,None,1,1,None,None,0,1,0,\n",
    "             1,0,None,None,None,None,0,1,1,1,\n",
    "             1,0,0,1,1,None,0,0,1,1,\n",
    "              1,0,None,None,1,0,None,1,1,1,\n",
    "             0,None,None,0,0,1,1,1,None,1,\n",
    "             0,None,None,1,1,None,0,1,1,1,\n",
    "              1,None,None,1,1,1,1,1,None,1,\n",
    "             None,None,1,None,1,0,1,0,1,0,\n",
    "             1,None,0,None,None,1,None,None,1,0,\n",
    "             0,1,0,0,None,1,1,None,1,1,\n",
    "             None,0,None,1,0,1,1,1,1,1,\n",
    "             1,1,0,1,0,0,None,None,1,0,\n",
    "             0,0,1,1,1,1,None,1,None,1,\n",
    "             0,1,None,1,None,None,None,0,1,None,\n",
    "             None,None,1,1,0,1,1,1,0,1,\n",
    "             0,None,0,None,1,None,None,1,1,1,\n",
    "             0,None,None,None,1,0,0,None,1,None,\n",
    "             0,0,None,0,1,1,None,1,0,None,\n",
    "             0,None,1,None,None,1,1,1,None,None,\n",
    "             1,1,1,1,0,1,None,1,None,1,\n",
    "              1,None,0,1,1,1,None,None,0,1,\n",
    "             1,1,1,1,None,1,1,None,1,1,\n",
    "             1,1,0,0,1,1,1,1,1,0,\n",
    "             1,1,None,0,1,1,0,1,0,None,\n",
    "              1,1,None,1,None,1,1,None,None,1,\n",
    "             None,None,0,1,1,None,1,1,1,1,\n",
    "             1,1,None,None,1,None,1,0,0,1,\n",
    "             None,0,0,1,1,None,1,None,1,1,\n",
    "             1,0,None,1,1,None,0,1,]\n",
    "\n",
    "pni_info[\"PNI_status\"] = PNI_status\n",
    "\n",
    "pni_info.to_csv(\"/add/path/here/PNI_status_annotated_manually.csv\")"
   ]
  },
  {
   "cell_type": "code",
   "execution_count": null,
   "id": "f0a90563-2036-4588-bdf0-91aaf280276b",
   "metadata": {},
   "outputs": [],
   "source": [
    "pni_info = pd.read_csv(\"/add/path/here/PNI_status_annotated_manually.csv\",index_col=0)\n",
    "\n",
    "pni_info.PNI_status = pni_info.PNI_status.replace({np.nan:\"Not specified\", 1: \"PNI+\", 0: \"PNI-\"})\n",
    "\n",
    "cNMF_4_specific = pd.read_csv(\"/cluster/work/boeva/jyates/EAC_singlecell/auxiliary_data/marker_genes_cNMF_4_wonerve.csv\",index_col=0).values.ravel()\n",
    "\n",
    "cNMF_4_score = std_full_fpkm.loc[:,std_full_fpkm.columns.intersection(cNMF_4_specific)].mean(axis=1)\n",
    "cNMF_4_score.name = \"cNMF_4\"\n",
    "cNMF_4_score = pd.concat([cNMF_4_score,std_full_fpkm[[\"Cancer type\",\"Histological type\"]]],axis=1)\n",
    "\n",
    "idx = cNMF_4_score.index.str.split(\"-\")\n",
    "idx = [\"-\".join(ix[:-1]) for ix in idx]\n",
    "\n",
    "cNMF_4_score.index = idx\n",
    "\n",
    "cNMF_4_score = cNMF_4_score.loc[~cNMF_4_score.index.duplicated()]\n",
    "\n",
    "df = pd.concat([cNMF_4_score,pni_info],axis=1)"
   ]
  },
  {
   "cell_type": "code",
   "execution_count": null,
   "id": "1af4d6cc-1d36-488b-a2b0-b81ed1be216c",
   "metadata": {},
   "outputs": [],
   "source": [
    "fig, ax = plt.subplots(1,1,figsize=(7,5))\n",
    "x= \"PNI_status\"\n",
    "y=\"cNMF_4\"\n",
    "order=[\"PNI-\",\"PNI+\"]\n",
    "pairs = [(\"PNI-\",\"PNI+\")]\n",
    "sns.boxplot(data=df, x=x, y=y, ax=ax, order=order)\n",
    "ax.set_xticklabels(ax.get_xticklabels(), rotation=45, ha=\"right\")\n",
    "pretty_ax(ax)\n",
    "ax.set_xlabel(\"\")\n",
    "annotator = Annotator(ax, pairs, data=df,\n",
    "                      x=x, y=y, order=order)\n",
    "annotator.configure(test='Mann-Whitney', text_format='simple', loc='inside')\n",
    "annotator.apply_and_annotate()"
   ]
  },
  {
   "cell_type": "code",
   "execution_count": null,
   "id": "872fdbf8-5b4e-4c99-bf5f-5d1ce410f040",
   "metadata": {},
   "outputs": [],
   "source": [
    "df = df.dropna()"
   ]
  },
  {
   "cell_type": "code",
   "execution_count": null,
   "id": "e794758f-6401-4e2e-838c-1ec5f4043c69",
   "metadata": {},
   "outputs": [],
   "source": [
    "fig, ax = plt.subplots(1,1,figsize=(10,5))\n",
    "x=\"Cancer type\"\n",
    "hue= \"PNI_status\"\n",
    "y=\"cNMF_4\"\n",
    "hue_order=[\"PNI-\",\"PNI+\"]\n",
    "order = [\"ESCA\",\"STAD\",\"PAAD\"]\n",
    "\n",
    "sub_pairs = [\"PNI-\",\"PNI+\"]\n",
    "hist_types = df[\"Cancer type\"].dropna().unique()\n",
    "pairs = []\n",
    "for typ in hist_types:\n",
    "    pairs.append(((typ, sub_pairs[0]),(typ, sub_pairs[1])))\n",
    "    \n",
    "sns.boxplot(data=df, x=x, y=y, hue=hue, ax=ax, hue_order=hue_order, order=order)\n",
    "ax.set_xticklabels(ax.get_xticklabels(), rotation=45, ha=\"right\")\n",
    "pretty_ax(ax)\n",
    "ax.set_xlabel(\"\")\n",
    "annotator = Annotator(ax, pairs, data=df,\n",
    "                      x=x, y=y, hue=hue, hue_order=hue_order, order=order)\n",
    "annotator.configure(test='Mann-Whitney', text_format='simple', loc='inside')\n",
    "annotator.apply_and_annotate()"
   ]
  },
  {
   "cell_type": "code",
   "execution_count": null,
   "id": "dd5b343a-f1ad-4772-b6eb-8d747c4b3838",
   "metadata": {},
   "outputs": [],
   "source": [
    "df[[\"Cancer type\",\"PNI_status\"]].value_counts()"
   ]
  },
  {
   "cell_type": "code",
   "execution_count": null,
   "id": "fc0d2139-0b37-4398-bb22-af35e2a8a93b",
   "metadata": {},
   "outputs": [],
   "source": [
    "df[[\"Histological type\",\"PNI_status\"]].value_counts().unstack()"
   ]
  },
  {
   "cell_type": "code",
   "execution_count": null,
   "id": "2da913d8-220f-47ed-95a3-317aaebac351",
   "metadata": {},
   "outputs": [],
   "source": [
    "fig, ax = plt.subplots(1,1,figsize=(10,5))\n",
    "x=\"Histological type\"\n",
    "hue= \"PNI_status\"\n",
    "y=\"cNMF_4\"\n",
    "hue_order=[\"PNI-\",\"PNI+\"]\n",
    "order = [\"Esophagus Adenocarcinoma\", \"Esophagus Squamous Cell Carcinoma\", \"Stomach Intestinal Adenocarcinoma\",\n",
    "        \"Stomach Adenocarcinoma\", \n",
    "         \"Pancreas Adenocarcinoma Ductal Type\", \"Pancreas Adenocarcinoma Other Subtype\",\"NA\"]\n",
    "sub_pairs = [\"PNI-\",\"PNI+\"]\n",
    "hist_types = df[\"Histological type\"].dropna().unique()\n",
    "pairs = []\n",
    "for typ in hist_types:\n",
    "    pairs.append(((typ, sub_pairs[0]),(typ, sub_pairs[1])))\n",
    "sns.boxplot(data=df, x=x, y=y, hue=hue, ax=ax, hue_order=hue_order, order=order)\n",
    "ax.set_xticklabels(ax.get_xticklabels(), rotation=45, ha=\"right\")\n",
    "pretty_ax(ax)\n",
    "ax.set_xlabel(\"\")\n",
    "annotator = Annotator(ax, pairs, data=df,\n",
    "                      x=x, y=y, hue=hue, hue_order=hue_order, order=order)\n",
    "annotator.configure(test='Mann-Whitney', text_format='simple', loc='inside')\n",
    "annotator.apply_and_annotate()"
   ]
  },
  {
   "cell_type": "markdown",
   "id": "f9eb2b3b-75a6-4a96-a23a-2e960d8b1f7c",
   "metadata": {},
   "source": [
    "# BayesPrism deconvolved data"
   ]
  },
  {
   "cell_type": "code",
   "execution_count": null,
   "id": "05ac51cd-ce88-4f12-9f11-21fe5f85bce5",
   "metadata": {},
   "outputs": [],
   "source": [
    "name_mapping = {\"ESCA\": \"eac\", \"PAAD\": \"pdac\", \"STAD\": \"gastric\"}"
   ]
  },
  {
   "cell_type": "code",
   "execution_count": null,
   "id": "817ef414-fd9b-4789-af6a-f7da95ed4de0",
   "metadata": {
    "scrolled": true
   },
   "outputs": [],
   "source": [
    "bp_deconvolved = {}\n",
    "for cancer in [\"ESCA\",\"PAAD\",\"STAD\"]:\n",
    "    bp_deconvolved[cancer] = pd.read_csv(f\"/add/path/here/{name_mapping[cancer]}_tumor_component_counts.csv\",index_col=0)\n",
    "    bp_deconvolved[cancer].index = bp_deconvolved[cancer].index.str.replace(\".\",\"-\")\n",
    "\n",
    "bp_purity = {}\n",
    "for cancer in [\"ESCA\",\"PAAD\",\"STAD\"]:\n",
    "    bp_purity[cancer] = pd.read_csv(f\"/add/path/here/{name_mapping[cancer]}_purity.csv\",index_col=0)\n",
    "    bp_purity[cancer].index = bp_purity[cancer].index.str.replace(\".\",\"-\")\n",
    "    bp_purity[cancer].index = bp_purity[cancer].index.str[:-1]\n",
    "    if cancer == \"ESCA\":\n",
    "        bp_purity[cancer] = bp_purity[cancer][\"tumor\"]\n",
    "    elif cancer==\"PAAD\":\n",
    "        bp_purity[cancer] = bp_purity[cancer][\"Malignant\"]\n",
    "    elif cancer==\"STAD\":\n",
    "        bp_purity[cancer] = bp_purity[cancer][\"Epithelium\"]\n",
    "    bp_purity[cancer].name = \"Malignant\""
   ]
  },
  {
   "cell_type": "code",
   "execution_count": null,
   "id": "0cb4bf9e-f150-4240-abe3-771376d0d8d1",
   "metadata": {},
   "outputs": [],
   "source": [
    "true_purity = {}\n",
    "for cancer in [\"ESCA\", \"PAAD\", \"STAD\"]:\n",
    "        purity = pd.read_csv(eac_tcga_dir / \"tumor_purity_ESTIMATE.csv\",index_col=0) # for ESCA\n",
    "        cancer_purity = purity[purity[\"cancer_type\"]==cancer][\"TumorPurity\"]\n",
    "        cancer_purity.index = cancer_purity.index.str.rstrip(\"A\")\n",
    "        cancer_purity.index = cancer_purity.index.str.rstrip(\"B\")\n",
    "        cancer_purity.index = cancer_purity.index.str.rstrip(\"C\")\n",
    "        cancer_purity = cancer_purity.loc[~cancer_purity.index.duplicated(keep=\"first\")]\n",
    "        true_purity[cancer] = cancer_purity"
   ]
  },
  {
   "cell_type": "code",
   "execution_count": null,
   "id": "00dcf418-766b-482c-acbf-240ea86c5953",
   "metadata": {},
   "outputs": [],
   "source": [
    "gencode = pd.read_csv(\"/add/path/here/gencode_annot_length.csv\",index_col=0).set_index(\"gene_name\")"
   ]
  },
  {
   "cell_type": "code",
   "execution_count": null,
   "id": "27b16dfc-aa49-4d82-9c49-3997bd68e29c",
   "metadata": {},
   "outputs": [],
   "source": [
    "def get_tpm(bp_deconvolved: pd.DataFrame, gencode: pd.DataFrame) -> pd.DataFrame:\n",
    "    gencode = gencode.loc[bp_deconvolved.columns.intersection(gencode.index)]\n",
    "    gencode = gencode.loc[~gencode.index.duplicated()]\n",
    "    bp_deconvolved = bp_deconvolved.loc[:,bp_deconvolved.columns.intersection(gencode.index)]\n",
    "    bp_deconvolved = bp_deconvolved.loc[~bp_deconvolved.index.duplicated()]\n",
    "\n",
    "    tpm = bp_deconvolved/gencode[\"length\"]\n",
    "    tpm = (tpm.T/tpm.sum(axis=1)).T*1000000\n",
    "    return tpm"
   ]
  },
  {
   "cell_type": "code",
   "execution_count": null,
   "id": "ab729227-cf5d-4e10-883a-d856ca3c7b55",
   "metadata": {},
   "outputs": [],
   "source": [
    "tpm_pc = {}\n",
    "for cancer in [\"ESCA\",\"PAAD\",\"STAD\"]:\n",
    "    tpm_pc[cancer] = get_tpm(bp_deconvolved=bp_deconvolved[cancer], gencode=gencode)\n",
    "    tpm_pc[cancer].index = tpm_pc[cancer].index.str[:-1]"
   ]
  },
  {
   "cell_type": "code",
   "execution_count": null,
   "id": "a281b02c-b4a9-4baa-8845-a0f319c21891",
   "metadata": {},
   "outputs": [],
   "source": [
    "fig, ax = plt.subplots(1,3,figsize=(10,2))\n",
    "sns.scatterplot(data=pd.concat([bp_purity[\"ESCA\"],true_purity[\"ESCA\"]],axis=1),\n",
    "                x=\"Malignant\",y=\"TumorPurity\",ax=ax[0])\n",
    "sns.scatterplot(data=pd.concat([bp_purity[\"PAAD\"],true_purity[\"PAAD\"]],axis=1),\n",
    "                x=\"Malignant\",y=\"TumorPurity\",ax=ax[1])\n",
    "sns.scatterplot(data=pd.concat([bp_purity[\"STAD\"],true_purity[\"STAD\"]],axis=1),\n",
    "                x=\"Malignant\",y=\"TumorPurity\",ax=ax[2])\n",
    "for i in range(len(ax)):\n",
    "    pretty_ax(ax[i])\n",
    "ax[0].set_title(\"ESCA\")\n",
    "ax[1].set_title(\"PAAD\")\n",
    "ax[2].set_title(\"STAD\")\n",
    "fig.tight_layout()"
   ]
  },
  {
   "cell_type": "code",
   "execution_count": null,
   "id": "21ed4864-ff54-4c82-a229-5901af9d3cf3",
   "metadata": {},
   "outputs": [],
   "source": [
    "state_score_full = []\n",
    "for cancer in [\"ESCA\",\"PAAD\",\"STAD\"]:\n",
    "    state_score = []\n",
    "    for sig, genes in full_sigs.items():\n",
    "        scores = tpm_pc[cancer][tpm_pc[cancer].columns.intersection(genes)].mean(axis=1)\n",
    "        scores.name = sig\n",
    "        state_score.append(scores)\n",
    "    state_score = pd.concat(state_score,axis=1)\n",
    "    state_score[\"Cancer type\"] = cancer\n",
    "    \n",
    "    state_score = pd.concat([state_score,all_histological[cancer]],axis=1).dropna()\n",
    "    state_score_full.append(state_score)\n",
    "\n",
    "state_score_full = pd.concat(state_score_full)\n",
    "\n",
    "idx = state_score_full.index.str.split(\"-\")\n",
    "idx = [\"-\".join(ix[:-1]) for ix in idx]\n",
    "\n",
    "state_score_full.index = idx\n",
    "\n",
    "state_score_full = state_score_full.loc[~state_score_full.index.duplicated()]\n",
    "\n",
    "df = pd.concat([state_score_full,pni_info],axis=1).dropna()"
   ]
  },
  {
   "cell_type": "code",
   "execution_count": null,
   "id": "8b9d43f0-ab4b-4058-acd4-ae440bacace3",
   "metadata": {},
   "outputs": [],
   "source": [
    "fig, ax = plt.subplots(1,1,figsize=(10,5))\n",
    "x=\"Histological type\"\n",
    "hue= \"PNI_status\"\n",
    "y=\"cNMF_4\"\n",
    "hue_order=[\"PNI-\",\"PNI+\"]\n",
    "order = [\"Esophagus Adenocarcinoma\", \"Esophagus Squamous Cell Carcinoma\", \"Stomach Intestinal Adenocarcinoma\",\n",
    "        \"Stomach Adenocarcinoma\", \n",
    "         \"Pancreas Adenocarcinoma Ductal Type\", \"Pancreas Adenocarcinoma Other Subtype\",\"NA\"]\n",
    "sub_pairs = [\"PNI-\",\"PNI+\"]\n",
    "hist_types = df[\"Histological type\"].dropna().unique()\n",
    "pairs = []\n",
    "for typ in hist_types:\n",
    "    pairs.append(((typ, sub_pairs[0]),(typ, sub_pairs[1])))\n",
    "sns.boxplot(data=df, x=x, y=y, hue=hue, ax=ax, hue_order=hue_order, order=order)\n",
    "ax.set_xticklabels(ax.get_xticklabels(), rotation=45, ha=\"right\")\n",
    "pretty_ax(ax)\n",
    "ax.set_xlabel(\"\")\n",
    "annotator = Annotator(ax, pairs, data=df,\n",
    "                      x=x, y=y, hue=hue, hue_order=hue_order, order=order)\n",
    "annotator.configure(test='Mann-Whitney', text_format='simple', loc='inside')\n",
    "annotator.apply_and_annotate()"
   ]
  },
  {
   "cell_type": "code",
   "execution_count": null,
   "id": "aea00bb4-ce3a-451f-bf32-6ee7ece79ef0",
   "metadata": {},
   "outputs": [],
   "source": [
    "df[[\"Histological type\",\"PNI_status\"]].value_counts().unstack()"
   ]
  },
  {
   "cell_type": "code",
   "execution_count": null,
   "id": "1568e461-3a60-4f03-9ed3-458956dbcadd",
   "metadata": {},
   "outputs": [],
   "source": [
    "fig, ax = plt.subplots(1,1,figsize=(10,5))\n",
    "x=\"Cancer type\"\n",
    "hue= \"PNI_status\"\n",
    "y=\"cNMF_4\"\n",
    "hue_order=[\"PNI-\",\"PNI+\"]\n",
    "order = [\"ESCA\",\"STAD\",\"PAAD\"]\n",
    "\n",
    "sub_pairs = [\"PNI-\",\"PNI+\"]\n",
    "hist_types = df[\"Cancer type\"].dropna().unique()\n",
    "pairs = []\n",
    "for typ in hist_types:\n",
    "    pairs.append(((typ, sub_pairs[0]),(typ, sub_pairs[1])))\n",
    "    \n",
    "sns.boxplot(data=df, x=x, y=y, hue=hue, ax=ax, hue_order=hue_order, order=order)\n",
    "ax.set_xticklabels(ax.get_xticklabels(), rotation=45, ha=\"right\")\n",
    "pretty_ax(ax)\n",
    "ax.set_xlabel(\"\")\n",
    "annotator = Annotator(ax, pairs, data=df,\n",
    "                      x=x, y=y, hue=hue, hue_order=hue_order, order=order)\n",
    "annotator.configure(test='Mann-Whitney', text_format='simple', loc='inside')\n",
    "annotator.apply_and_annotate()"
   ]
  },
  {
   "cell_type": "code",
   "execution_count": null,
   "id": "29455404-1653-44a4-8123-b7bf3369dd86",
   "metadata": {},
   "outputs": [],
   "source": []
  }
 ],
 "metadata": {
  "kernelspec": {
   "display_name": "Python 3 (ipykernel)",
   "language": "python",
   "name": "python3"
  },
  "language_info": {
   "codemirror_mode": {
    "name": "ipython",
    "version": 3
   },
   "file_extension": ".py",
   "mimetype": "text/x-python",
   "name": "python",
   "nbconvert_exporter": "python",
   "pygments_lexer": "ipython3",
   "version": "3.9.16"
  }
 },
 "nbformat": 4,
 "nbformat_minor": 5
}
