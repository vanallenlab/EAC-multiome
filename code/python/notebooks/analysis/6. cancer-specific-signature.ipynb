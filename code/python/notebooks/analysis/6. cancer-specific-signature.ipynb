{
 "cells": [
  {
   "cell_type": "code",
   "execution_count": null,
   "id": "10ab9565-4a9f-4a70-a14c-ea7c8165154a",
   "metadata": {},
   "outputs": [],
   "source": [
    "import pandas as pd\n",
    "\n",
    "import numpy as np\n",
    "import scanpy as sc\n",
    "\n",
    "import pathlib as pl\n",
    "\n",
    "import seaborn as sns\n",
    "\n",
    "from tqdm.notebook import tqdm\n",
    "\n",
    "import os"
   ]
  },
  {
   "cell_type": "markdown",
   "id": "6400b5b5-db6c-4954-b82a-68b77c59f9ab",
   "metadata": {},
   "source": [
    "# Download single-cell data"
   ]
  },
  {
   "cell_type": "code",
   "execution_count": null,
   "id": "aafc6320-c2ea-4bbe-8ddd-9e6ced1a95f6",
   "metadata": {},
   "outputs": [],
   "source": [
    "adata = sc.read_h5ad(\"/add/path/here/full_cohort.h5ad\")"
   ]
  },
  {
   "cell_type": "code",
   "execution_count": null,
   "id": "e302b5a9-0f83-49d4-bdbf-def209474192",
   "metadata": {},
   "outputs": [],
   "source": [
    "marker_genes = {}\n",
    "for cl in [\"1\",\"2\",\"3\",\"4\",\"5\"]:\n",
    "    marker_genes[cl] = pd.read_csv(f\"/add/path/here/cNMF_{cl}.csv\",index_col=0)"
   ]
  },
  {
   "cell_type": "code",
   "execution_count": null,
   "id": "63e42ef7-24b6-4652-b480-7bc991b6490b",
   "metadata": {},
   "outputs": [],
   "source": [
    "refined_annotations = pd.read_csv(\"/add/path/here/refined_annotations.csv\",index_col=0)\n",
    "refined_annotations.columns = [\"refined_annotations\"]"
   ]
  },
  {
   "cell_type": "code",
   "execution_count": null,
   "id": "cf091fa7-12e9-4c5e-8f5f-8804895c67c8",
   "metadata": {},
   "outputs": [],
   "source": [
    "highlevel_refined = {\"Hepatocyte\": \"Epithelial\", \n",
    "                     \"Carcinoma\": \"Carcinoma\", \n",
    "                     \"Fibroblast\": \"Fibroblast\", \n",
    "                     \"Quiescent endothelial cells\": \"Endothelial\", \n",
    "                     \"Smooth muscle\": \"Muscle\", \n",
    "                     \"Skeletal muscle\": \"Muscle\",\n",
    "                     \"TAM2\": \"Myeloid\", \"TAM3\": \"Myeloid\",\n",
    "                     \"TCD4\": \"Lymphoid\", \n",
    "                     \"Inflammatory CAF\": \"Fibroblast\", \n",
    "                     \"Adipose CAF\": \"Fibroblast\",\n",
    "                     \"HGF-CAF\": \"Fibroblast\",\n",
    "                     \"TAM1\": \"Myeloid\", \n",
    "                     \"Myeloid-HighMT\": \"Unknown/technical\", \n",
    "                     \"Angiogenic EC\": \"Endothelial\", \n",
    "                     \"Quiescent EC\": \"Endothelial\", \n",
    "                     \"Venous EC\": \"Endothelial\",\n",
    "                     \"TCD8\": \"Lymphoid\", \n",
    "                     \"B\": \"Lymphoid\", \n",
    "                     \"DC\": \"Myeloid\", \n",
    "                     \"Hepatic EC\": \"Endothelial\", \n",
    "                     \"Kupffer cells\": \"Myeloid\", \n",
    "                     \"NK\": \"Lymphoid\", \n",
    "                     \"Treg\": \"Lymphoid\", \n",
    "                     \"StrMus-HighMT\": \"Unknown/technical\", \n",
    "                     \"T-HighMT\": \"Unknown/technical\", \n",
    "                     \"Mast\": \"Myeloid\", \n",
    "                     \"Adipocytes\": \"Stromal/Muscle\", \n",
    "                     \"Endo-HighMT\": \"Unknown/technical\"}\n",
    "\n",
    "adata.obs = pd.concat([adata.obs,refined_annotations],axis=1)\n",
    "adata.obs[\"highlevel_refined\"] = adata.obs.refined_annotations.replace(highlevel_refined)"
   ]
  },
  {
   "cell_type": "code",
   "execution_count": null,
   "id": "9f026237-1a9d-4c99-aa0d-acad66ba19c7",
   "metadata": {},
   "outputs": [],
   "source": [
    "n_genes = 200\n",
    "\n",
    "all_selgenes = {}\n",
    "for sig in marker_genes:\n",
    "    all_perc = []\n",
    "    goi = pd.DataFrame(adata[:,marker_genes[sig].index[:n_genes]].X.toarray().copy(), index=adata.obs_names, columns=marker_genes[sig].index[:n_genes])\n",
    "    goi = pd.concat([goi, adata.obs.highlevel_refined],axis=1)\n",
    "    for gene in tqdm(marker_genes[sig].index[:n_genes]):\n",
    "        df = pd.concat([(goi[gene]>0).astype(int),goi.highlevel_refined],axis=1)\n",
    "        pc_counts = df.value_counts().unstack().T.drop(\"Unknown/technical\")\n",
    "        perc = pc_counts[1]/(pc_counts[0]+pc_counts[1])\n",
    "        perc.name = gene\n",
    "        all_perc.append(perc)\n",
    "    \n",
    "    all_perc = pd.concat(all_perc,axis=1).T\n",
    "    \n",
    "    selgenes = all_perc[(all_perc[\"Endothelial\"]<0.1) & (all_perc[\"Fibroblast\"]<0.1) & (all_perc[\"Lymphoid\"]<0.1) & (all_perc[\"Muscle\"]<0.1) & (all_perc[\"Myeloid\"]<0.1)]\n",
    "    all_selgenes[sig] = selgenes"
   ]
  },
  {
   "cell_type": "code",
   "execution_count": null,
   "id": "0a1570b6-8573-46c0-a6fe-9354b3650cbb",
   "metadata": {},
   "outputs": [],
   "source": [
    "resdir = pl.Path(\"/add/path/here/\")\n",
    "os.makedirs(resdir,exist_ok=True)"
   ]
  },
  {
   "cell_type": "code",
   "execution_count": null,
   "id": "ac03f7c8-5a46-406d-a42d-9802b3103461",
   "metadata": {},
   "outputs": [],
   "source": [
    "for cl in all_selgenes:\n",
    "    pd.Series(all_selgenes[cl].index).to_csv(resdir / f\"cNMF_{cl}.csv\")"
   ]
  },
  {
   "cell_type": "code",
   "execution_count": null,
   "id": "27be324e-0b6b-4d12-877e-427e12447f90",
   "metadata": {},
   "outputs": [],
   "source": []
  }
 ],
 "metadata": {
  "kernelspec": {
   "display_name": "Python 3 (ipykernel)",
   "language": "python",
   "name": "python3"
  },
  "language_info": {
   "codemirror_mode": {
    "name": "ipython",
    "version": 3
   },
   "file_extension": ".py",
   "mimetype": "text/x-python",
   "name": "python",
   "nbconvert_exporter": "python",
   "pygments_lexer": "ipython3",
   "version": "3.9.16"
  }
 },
 "nbformat": 4,
 "nbformat_minor": 5
}
