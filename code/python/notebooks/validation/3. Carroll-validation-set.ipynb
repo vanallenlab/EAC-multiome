{
 "cells": [
  {
   "cell_type": "code",
   "execution_count": null,
   "id": "ffde3b8f",
   "metadata": {},
   "outputs": [],
   "source": [
    "import pandas as pd \n",
    "import numpy as np\n",
    "import scanpy as sc\n",
    "import pathlib as pl\n",
    "\n",
    "import seaborn as sns\n",
    "import matplotlib.pyplot as plt\n",
    "\n",
    "from statannotations.Annotator import Annotator\n",
    "\n",
    "from lifelines import KaplanMeierFitter\n",
    "from lifelines.statistics import logrank_test\n",
    "\n",
    "from tqdm.notebook import tqdm"
   ]
  },
  {
   "cell_type": "code",
   "execution_count": null,
   "id": "2948356b",
   "metadata": {},
   "outputs": [],
   "source": [
    "def pretty_ax(ax):\n",
    "    ax.spines['right'].set_visible(False)\n",
    "    ax.spines['top'].set_visible(False)\n",
    "    ax.tick_params(\n",
    "        axis='both',  \n",
    "        which='both',      \n",
    "        bottom=True,     \n",
    "        top=False,\n",
    "        left=False,\n",
    "        labelbottom=True,\n",
    "        labelleft = True)\n",
    "    ax.spines[\"bottom\"].set_linewidth(1.5)\n",
    "    ax.spines[\"left\"].set_linewidth(1.5)"
   ]
  },
  {
   "cell_type": "code",
   "execution_count": null,
   "id": "031a9c32",
   "metadata": {},
   "outputs": [],
   "source": [
    "cell_cycle_genes = [x.strip() for x in open('/add/path/here/regev_lab_cell_cycle_genes.txt')]\n",
    "s_genes = cell_cycle_genes[:43]\n",
    "g2m_genes = cell_cycle_genes[43:]"
   ]
  },
  {
   "cell_type": "code",
   "execution_count": null,
   "id": "8f3d7f66",
   "metadata": {},
   "outputs": [],
   "source": [
    "adata = sc.read_h5ad(\"/add/path/here/Carroll_EAC_raw.h5ad\")"
   ]
  },
  {
   "cell_type": "code",
   "execution_count": null,
   "id": "d6df209b",
   "metadata": {},
   "outputs": [],
   "source": [
    "clinical = pd.read_csv(\"/add/path/here/carroll_clinical.csv\", index_col=0)"
   ]
  },
  {
   "cell_type": "code",
   "execution_count": null,
   "id": "88a614b8",
   "metadata": {},
   "outputs": [],
   "source": [
    "adata.layers[\"counts\"] = adata.X.copy()\n",
    "\n",
    "sc.pp.normalize_total(adata, target_sum=10000)\n",
    "sc.pp.log1p(adata)"
   ]
  },
  {
   "cell_type": "code",
   "execution_count": null,
   "id": "6787513e",
   "metadata": {},
   "outputs": [],
   "source": [
    "del adata.raw"
   ]
  },
  {
   "cell_type": "code",
   "execution_count": null,
   "id": "cd611d29",
   "metadata": {},
   "outputs": [],
   "source": [
    "signature_dir = pl.Path(\"/add/path/here/\")\n",
    "\n",
    "full_sigs = {}\n",
    "for s in (signature_dir).iterdir():\n",
    "    sig = s.stem\n",
    "    full_sigs[sig] = pd.read_csv(s,index_col=0)\n",
    "    full_sigs[sig] = full_sigs[sig][~full_sigs[sig].index.str.startswith((\"MT-\",\"RPS\",\"RPL\"))]\n",
    "    full_sigs[sig] = full_sigs[sig].head(100).index.ravel()"
   ]
  },
  {
   "cell_type": "code",
   "execution_count": null,
   "id": "f9cf8567",
   "metadata": {},
   "outputs": [],
   "source": [
    "signature_dir2 = pl.Path(\"/add/path/here/\")\n",
    "\n",
    "fibrosigs = {}\n",
    "for s in (signature_dir2).iterdir():\n",
    "    sig = s.stem\n",
    "    fibrosigs[sig] = pd.read_csv(s,index_col=0).set_index(\"names\")\n",
    "    fibrosigs[sig] = fibrosigs[sig][~fibrosigs[sig].index.str.startswith((\"MT-\",\"RPS\",\"RPL\"))]\n",
    "    fibrosigs[sig] = fibrosigs[sig].head(100).index.ravel()"
   ]
  },
  {
   "cell_type": "code",
   "execution_count": null,
   "id": "4c6bea53",
   "metadata": {},
   "outputs": [],
   "source": [
    "toptfs = pd.read_csv(\"/add/path/here/toptfs_top20.csv\",index_col=0)\n",
    "toptfs = {state[:6]: toptfs[state].dropna().ravel() for state in toptfs.columns}"
   ]
  },
  {
   "cell_type": "code",
   "execution_count": null,
   "id": "d5963ccd",
   "metadata": {
    "scrolled": true
   },
   "outputs": [],
   "source": [
    "for sig, genes in full_sigs.items():\n",
    "    sc.tl.score_genes(adata=adata,\n",
    "                        gene_list=list(np.setdiff1d(genes,toptfs[sig])), \n",
    "                        score_name=f\"{sig}_score\")"
   ]
  },
  {
   "cell_type": "code",
   "execution_count": null,
   "id": "f436671e",
   "metadata": {},
   "outputs": [],
   "source": [
    "for sig, genes in fibrosigs.items():\n",
    "    sc.tl.score_genes(adata=adata,\n",
    "                        gene_list=genes, \n",
    "                        score_name=f\"{sig}_score\")"
   ]
  },
  {
   "cell_type": "code",
   "execution_count": null,
   "id": "4f488e3f",
   "metadata": {},
   "outputs": [],
   "source": [
    "adata.obs[\"condition\"] = adata.obs[\"sample\"].str.split(\"_\").str[1]"
   ]
  },
  {
   "cell_type": "code",
   "execution_count": null,
   "id": "552ce6dd",
   "metadata": {},
   "outputs": [],
   "source": [
    "sc.tl.pca(adata)"
   ]
  },
  {
   "cell_type": "code",
   "execution_count": null,
   "id": "2e2d3a6d",
   "metadata": {},
   "outputs": [],
   "source": [
    "sc.pp.neighbors(adata)\n",
    "sc.tl.umap(adata)"
   ]
  },
  {
   "cell_type": "code",
   "execution_count": null,
   "id": "5802b68f",
   "metadata": {},
   "outputs": [],
   "source": [
    "sc.pl.umap(adata, color=[\"celltype\"])"
   ]
  },
  {
   "cell_type": "markdown",
   "id": "9aa38d52",
   "metadata": {},
   "source": [
    "# Subset carcinoma single cells"
   ]
  },
  {
   "cell_type": "code",
   "execution_count": null,
   "id": "b97fa705",
   "metadata": {},
   "outputs": [],
   "source": [
    "subadata = adata[adata.obs.celltype.isin([\"EAC\"])].copy()"
   ]
  },
  {
   "cell_type": "code",
   "execution_count": null,
   "id": "a865c5b9",
   "metadata": {},
   "outputs": [],
   "source": [
    "subadata = subadata[~subadata.obs.patient.isin([\"ESCC-LAFI\",'BARR-3242', 'BARR-4845', 'BARR-4846','BARR-4988'])].copy()"
   ]
  },
  {
   "cell_type": "code",
   "execution_count": null,
   "id": "a88dbf71",
   "metadata": {},
   "outputs": [],
   "source": [
    "sc.tl.score_genes_cell_cycle(subadata, s_genes=s_genes, g2m_genes=g2m_genes)"
   ]
  },
  {
   "cell_type": "code",
   "execution_count": null,
   "id": "0bc1e89a",
   "metadata": {},
   "outputs": [],
   "source": [
    "sc.tl.pca(subadata)\n",
    "sc.pp.neighbors(subadata)\n",
    "sc.tl.umap(subadata)"
   ]
  },
  {
   "cell_type": "code",
   "execution_count": null,
   "id": "699f556e",
   "metadata": {},
   "outputs": [],
   "source": [
    "fig = sc.pl.umap(subadata, \n",
    "           color=['cNMF_1_score',\"cNMF_2_score\",'cNMF_3_score','cNMF_4_score',\n",
    "                  \"cNMF_5_score\",\"patient\"],\n",
    "           ncols=2, frameon=False, return_fig=True)\n",
    "for i in range(5):\n",
    "    fig.axes[2*i].set_title(f\"cNMF$_{i+1}$ score\")\n",
    "fig.axes[-1].set_title(\"Patient ID\")\n",
    "fig.savefig(\"figures/Carroll_unintegrated_cNMF_score_snRNA_umap.png\", dpi=300, bbox_inches=\"tight\")"
   ]
  },
  {
   "cell_type": "code",
   "execution_count": null,
   "id": "17fa8279",
   "metadata": {
    "scrolled": true
   },
   "outputs": [],
   "source": [
    "sc.external.pp.harmony_integrate(subadata, key=\"patient\", max_iter_harmony=20)"
   ]
  },
  {
   "cell_type": "code",
   "execution_count": null,
   "id": "353137c7",
   "metadata": {},
   "outputs": [],
   "source": [
    "sc.pp.neighbors(subadata, use_rep=\"X_pca_harmony\")\n",
    "sc.tl.umap(subadata)"
   ]
  },
  {
   "cell_type": "code",
   "execution_count": null,
   "id": "45b7221e",
   "metadata": {},
   "outputs": [],
   "source": [
    "fig=sc.pl.umap(subadata, \n",
    "           color=['cNMF_1_score',\"cNMF_2_score\",'cNMF_3_score','cNMF_4_score',\n",
    "                  \"cNMF_5_score\",\"patient\"],\n",
    "           ncols=2, frameon=False, return_fig=True)\n",
    "for i in range(5):\n",
    "    fig.axes[2*i].set_title(f\"cNMF$_{i+1}$ score\")\n",
    "fig.axes[-1].set_title(\"Patient ID\")\n",
    "fig.savefig(\"figures/Carroll_cNMF_score_snRNA_umap.png\", dpi=300, bbox_inches=\"tight\")"
   ]
  },
  {
   "cell_type": "code",
   "execution_count": null,
   "id": "8c9cc952",
   "metadata": {},
   "outputs": [],
   "source": [
    "subadata.obs[\"condition\"] = subadata.obs[\"sample\"].str.split(\"_\").str[1]"
   ]
  },
  {
   "cell_type": "code",
   "execution_count": null,
   "id": "241f2422",
   "metadata": {},
   "outputs": [],
   "source": [
    "sc.pl.umap(subadata, \n",
    "           color=['condition',\"patient\"],\n",
    "           ncols=2, frameon=False)"
   ]
  },
  {
   "cell_type": "code",
   "execution_count": null,
   "id": "f8c26576",
   "metadata": {
    "scrolled": true
   },
   "outputs": [],
   "source": [
    "subadata.obs[[\"cNMF_1_score\",\"cNMF_2_score\",\"cNMF_3_score\",\"cNMF_4_score\",\"cNMF_5_score\"]].corr()"
   ]
  },
  {
   "cell_type": "code",
   "execution_count": null,
   "id": "ea908e25",
   "metadata": {},
   "outputs": [],
   "source": [
    "df = subadata.obs[subadata.obs.tissue.isin([\"EAC\",\"EAC.Op\"])].copy()\n",
    "\n",
    "df.patient = df.patient.astype(str)\n",
    "\n",
    "df[\"Clinical Benefit\"] = df.patient.replace(clinical['Clinical_benefit'].to_dict())\n",
    "\n",
    "df[\"Clinical Benefit\"] = df[\"Clinical Benefit\"].replace({'EAC-ODHL': \"NA\", 'EAC-IKIJ': \"NA\", 'EAC-JJHD': \"NA\"})"
   ]
  },
  {
   "cell_type": "code",
   "execution_count": null,
   "id": "b189ed48",
   "metadata": {},
   "outputs": [],
   "source": [
    "y=\"cNMF_5_score\"\n",
    "pairs = [((pat, \"PreTx\"), (pat, \"ICI-4W\")) for pat in df.patient.unique()]\n",
    "\n",
    "fig, ax = plt.subplots(1,1,figsize=(5,3))\n",
    "sns.boxplot(data=df, x=\"patient\", y=y, \n",
    "                 order=[\"EAC-ACMO\",\"EAC-GDBD\",\"EAC-JCNP\",\"EAC-LPPN\",\n",
    "                        \"EAC-HDHI\",\"EAC-HENB\",\"EAC-HGFI\",\"EAC-PAHE\",'EAC-ODHL', 'EAC-IKIJ','EAC-JJHD'],\n",
    "                 hue=\"condition\", hue_order=[\"PreTx\",\"ICI-4W\",\"PostTx\"],ax=ax)\n",
    "plt.legend(frameon=False, bbox_to_anchor=(1,1,0,0), title=\"Condition\")\n",
    "pretty_ax(ax)\n",
    "ax.set_xticklabels(ax.get_xticklabels(), rotation=45, ha=\"right\")\n",
    "\n",
    "annotator = Annotator(ax, pairs, data=df, x=\"patient\", y=y, \n",
    "                 order=[\"EAC-ACMO\",\"EAC-GDBD\",\"EAC-JCNP\",\"EAC-LPPN\",\n",
    "                        \"EAC-HDHI\",\"EAC-HENB\",\"EAC-HGFI\",\"EAC-PAHE\",'EAC-ODHL', 'EAC-IKIJ','EAC-JJHD'],\n",
    "                 hue=\"condition\", hue_order=[\"PreTx\",\"ICI-4W\",\"PostTx\"])\n",
    "annotator.configure(test='Mann-Whitney', text_format='simple', show_test_name=False, loc='inside')\n",
    "annotator.apply_and_annotate()\n",
    "fig.savefig(\"figures/external/carroll_cNMF_5_link_CB_perpatient.svg\", dpi=200, bbox_inches=\"tight\")"
   ]
  },
  {
   "cell_type": "code",
   "execution_count": null,
   "id": "a13a721e",
   "metadata": {},
   "outputs": [],
   "source": [
    "y=\"cNMF_5_score\"\n",
    "pairs = [((\"CB\", \"PreTx\"), (\"CB\", \"ICI-4W\")),\n",
    "         ((\"CB\", \"PreTx\"), (\"CB\", \"PostTx\")),\n",
    "         ((\"CB\", \"ICI-4W\"), (\"CB\", \"PostTx\")),\n",
    "         ((\"NCB\", \"PreTx\"), (\"NCB\", \"ICI-4W\")),]\n",
    "\n",
    "\n",
    "fig, ax = plt.subplots(1,1,figsize=(3,2))\n",
    "sns.boxplot(data=df, x=\"Clinical Benefit\", y=y, \n",
    "                 order=[\"CB\",\"NCB\"],\n",
    "                 hue=\"condition\", hue_order=[\"PreTx\",\"ICI-4W\",\"PostTx\"],ax=ax)\n",
    "\n",
    "plt.legend(frameon=False, bbox_to_anchor=(1,1,0,0), title=\"Condition\")\n",
    "pretty_ax(ax)\n",
    "ax.set_xticklabels(ax.get_xticklabels(), rotation=45, ha=\"right\")\n",
    "\n",
    "annotator = Annotator(ax, pairs, data=df, x=\"Clinical Benefit\", y=y, \n",
    "                 order=[\"CB\",\"NCB\"],\n",
    "                 hue=\"condition\", hue_order=[\"PreTx\",\"ICI-4W\",\"PostTx\"],)\n",
    "annotator.configure(test='Mann-Whitney', text_format='simple', show_test_name=False, loc='inside')\n",
    "annotator.apply_and_annotate()\n",
    "fig.savefig(\"figures/external/carroll_cNMF_5_link_CB.svg\", dpi=200, bbox_inches=\"tight\")"
   ]
  },
  {
   "cell_type": "code",
   "execution_count": null,
   "id": "53516779",
   "metadata": {},
   "outputs": [],
   "source": [
    "import matplotlib\n",
    "import matplotlib.cm as cm\n",
    "import matplotlib.colors as mcolors\n",
    "\n",
    "X_pca = pd.DataFrame(subadata.obsm[\"X_pca_harmony\"][:,:2],index=subadata.obs_names,columns=[\"PC1\",\"PC2\"])\n",
    "\n",
    "X_pca = pd.concat([X_pca, subadata.obs[[\"cNMF_1_score\",\"cNMF_2_score\",\n",
    "                                        \"cNMF_3_score\",\"cNMF_4_score\",\"cNMF_5_score\",\n",
    "                                        \"S_score\",\"G2M_score\"]]],axis=1)\n",
    "X_pca.columns = [\"PC1\",\"PC2\",\"cNMF$_{1}$\",\"cNMF$_{2}$\",\"cNMF$_{3}$\",\"cNMF$_{4}$\",\"cNMF$_{5}$\",\"S_score\",\"G2M_score\"]\n",
    "\n",
    "def plot_pcs_color(ax, state):\n",
    "    vcenter = 0\n",
    "    vmin, vmax = X_pca[state].min(), X_pca[state].max()\n",
    "    normalize = mcolors.TwoSlopeNorm(vcenter=vcenter, vmin=vmin, vmax=vmax)\n",
    "    colormap = matplotlib.colormaps['RdBu_r']\n",
    "    sns.scatterplot(\n",
    "        y=X_pca[\"PC2\"],\n",
    "        x=X_pca[\"PC1\"],\n",
    "        c=X_pca[state],\n",
    "        s=5,\n",
    "        norm=normalize,\n",
    "        cmap=colormap,\n",
    "        ax=ax\n",
    "    )\n",
    "    scalarmappaple = cm.ScalarMappable(norm=normalize, cmap=colormap)\n",
    "    scalarmappaple.set_array(X_pca[state])\n",
    "    fig.colorbar(scalarmappaple, ax=ax)\n",
    "    ax.set_title(state)\n",
    "    pretty_ax(ax)\n",
    "\n",
    "fig, ax = plt.subplots(1,5, figsize=(15,2))\n",
    "flatax = ax.flatten()\n",
    "\n",
    "plot_pcs_color(flatax[0], \"cNMF$_{1}$\")\n",
    "plot_pcs_color(flatax[1], \"cNMF$_{2}$\")\n",
    "plot_pcs_color(flatax[2], \"cNMF$_{3}$\")\n",
    "plot_pcs_color(flatax[3], \"cNMF$_{4}$\")\n",
    "plot_pcs_color(flatax[4], \"cNMF$_{5}$\")\n",
    "\n",
    "fig.tight_layout()\n",
    "fig.tight_layout()\n",
    "fig.savefig(\"figures/Carroll_pca_harmony.png\", dpi=200, bbox_inches=\"tight\")"
   ]
  },
  {
   "cell_type": "markdown",
   "id": "358f7ab7",
   "metadata": {},
   "source": [
    "# Subset fibroblast cells"
   ]
  },
  {
   "cell_type": "code",
   "execution_count": null,
   "id": "7f952e78",
   "metadata": {},
   "outputs": [],
   "source": [
    "subadata = adata[adata.obs.subcompartment.isin([\"Fibroblast_Mural\"])].copy()"
   ]
  },
  {
   "cell_type": "code",
   "execution_count": null,
   "id": "ad34e765",
   "metadata": {},
   "outputs": [],
   "source": [
    "subadata = subadata[~subadata.obs.patient.isin([\"ESCC-LAFI\",'BARR-3242', 'BARR-4845', 'BARR-4846','BARR-4988'])].copy()"
   ]
  },
  {
   "cell_type": "code",
   "execution_count": null,
   "id": "b5670982",
   "metadata": {},
   "outputs": [],
   "source": [
    "sc.tl.pca(subadata)\n",
    "sc.pp.neighbors(subadata)\n",
    "sc.tl.umap(subadata)"
   ]
  },
  {
   "cell_type": "code",
   "execution_count": null,
   "id": "3383379d",
   "metadata": {},
   "outputs": [],
   "source": [
    "fig = sc.pl.umap(subadata, \n",
    "           color=['Adipose CAF_score',\n",
    "       'HGF-CAF_score', 'Inflammatory CAF_score', 'Fibroblast_score',\"celltype\",\"patient\"],\n",
    "           ncols=2, frameon=False, return_fig=True)"
   ]
  },
  {
   "cell_type": "code",
   "execution_count": null,
   "id": "02fbc1c3",
   "metadata": {
    "scrolled": true
   },
   "outputs": [],
   "source": [
    "sc.external.pp.harmony_integrate(subadata, key=\"patient\", max_iter_harmony=20)"
   ]
  },
  {
   "cell_type": "code",
   "execution_count": null,
   "id": "ede41efe",
   "metadata": {},
   "outputs": [],
   "source": [
    "sc.pp.neighbors(subadata, use_rep=\"X_pca_harmony\")\n",
    "sc.tl.umap(subadata)"
   ]
  },
  {
   "cell_type": "code",
   "execution_count": null,
   "id": "86f674ca",
   "metadata": {},
   "outputs": [],
   "source": [
    "fig = sc.pl.umap(subadata, \n",
    "           color=['Adipose CAF_score',\n",
    "       'HGF-CAF_score', 'Inflammatory CAF_score', 'Fibroblast_score',\"celltype\",\"patient\"],\n",
    "           ncols=2, frameon=False, return_fig=True)"
   ]
  },
  {
   "cell_type": "code",
   "execution_count": null,
   "id": "8b20153a",
   "metadata": {},
   "outputs": [],
   "source": [
    "df = subadata.obs[subadata.obs.tissue.isin([\"EAC\",\"EAC.Op\"])].copy()\n",
    "\n",
    "df.patient = df.patient.astype(str)\n",
    "\n",
    "df[\"Clinical Benefit\"] = df.patient.replace(clinical['Clinical_benefit'].to_dict())\n",
    "\n",
    "df[\"Clinical Benefit\"] = df[\"Clinical Benefit\"].replace({'EAC-ODHL': \"NA\", 'EAC-IKIJ': \"NA\", 'EAC-JJHD': \"NA\"})"
   ]
  },
  {
   "cell_type": "code",
   "execution_count": null,
   "id": "798b6d7a",
   "metadata": {},
   "outputs": [],
   "source": [
    "y=\"Inflammatory CAF_score\"\n",
    "pairs = [((pat, \"PreTx\"), (pat, \"ICI-4W\")) for pat in df.patient.unique()]\n",
    "pairs += [((pat, \"PreTx\"), (pat, \"PostTx\")) for pat in df[df[\"condition\"]==\"PostTx\"].patient.unique()]\n",
    "\n",
    "fig, ax = plt.subplots(1,1,figsize=(6,3))\n",
    "sns.boxplot(data=df, x=\"patient\", y=y, \n",
    "                 order=[\"EAC-ACMO\",\"EAC-GDBD\",\"EAC-JCNP\",\"EAC-LPPN\",\n",
    "                        \"EAC-HDHI\",\"EAC-HENB\",\"EAC-HGFI\",\"EAC-PAHE\",'EAC-ODHL', 'EAC-IKIJ','EAC-JJHD'],\n",
    "                 hue=\"condition\", hue_order=[\"PreTx\",\"ICI-4W\",\"PostTx\"],ax=ax)\n",
    "plt.legend(frameon=False, bbox_to_anchor=(1,1,0,0), title=\"Condition\")\n",
    "pretty_ax(ax)\n",
    "ax.set_xticklabels(ax.get_xticklabels(), rotation=45, ha=\"right\")\n",
    "\n",
    "annotator = Annotator(ax, pairs, data=df, x=\"patient\", y=y, \n",
    "                 order=[\"EAC-ACMO\",\"EAC-GDBD\",\"EAC-JCNP\",\"EAC-LPPN\",\n",
    "                        \"EAC-HDHI\",\"EAC-HENB\",\"EAC-HGFI\",\"EAC-PAHE\",'EAC-ODHL', 'EAC-IKIJ','EAC-JJHD'],\n",
    "                 hue=\"condition\", hue_order=[\"PreTx\",\"ICI-4W\",\"PostTx\"])\n",
    "annotator.configure(test='Mann-Whitney', text_format='simple', show_test_name=False, loc='inside')\n",
    "annotator.apply_and_annotate()\n",
    "fig.savefig(\"figures/external/carroll_fibroblast_link_CB_perpatient.svg\", dpi=200, bbox_inches=\"tight\")"
   ]
  },
  {
   "cell_type": "code",
   "execution_count": null,
   "id": "6e1ff383",
   "metadata": {},
   "outputs": [],
   "source": [
    "y=\"Inflammatory CAF_score\"\n",
    "pairs = [((\"CB\", \"PreTx\"), (\"CB\", \"ICI-4W\")),\n",
    "         ((\"NCB\", \"PreTx\"), (\"NCB\", \"ICI-4W\")),]\n",
    "\n",
    "\n",
    "fig, ax = plt.subplots(1,1,figsize=(3,2))\n",
    "sns.boxplot(data=df, x=\"Clinical Benefit\", y=y, \n",
    "                 order=[\"CB\",\"NCB\"],\n",
    "                 hue=\"condition\", hue_order=[\"PreTx\",\"ICI-4W\"],ax=ax)\n",
    "\n",
    "plt.legend(frameon=False, bbox_to_anchor=(1,1,0,0), title=\"Condition\")\n",
    "pretty_ax(ax)\n",
    "ax.set_xticklabels(ax.get_xticklabels(), rotation=45, ha=\"right\")\n",
    "\n",
    "annotator = Annotator(ax, pairs, data=df, x=\"Clinical Benefit\", y=y, \n",
    "                 order=[\"CB\",\"NCB\"],\n",
    "                 hue=\"condition\", hue_order=[\"PreTx\",\"ICI-4W\",])\n",
    "annotator.configure(test='Mann-Whitney', text_format='simple', show_test_name=False, loc='inside')\n",
    "annotator.apply_and_annotate()\n",
    "fig.savefig(\"figures/external/carroll_fibroblast_link_CB.svg\", dpi=200, bbox_inches=\"tight\")"
   ]
  },
  {
   "cell_type": "markdown",
   "id": "230e2879",
   "metadata": {},
   "source": [
    "# Read bulk"
   ]
  },
  {
   "cell_type": "code",
   "execution_count": null,
   "id": "5a3719b9",
   "metadata": {},
   "outputs": [],
   "source": [
    "gencode = pd.read_csv(\"/add/path/here/gencode_v41_positions.csv\",index_col=0)\n",
    "\n",
    "gencode[\"gen_red\"] = gencode[\"gene_id\"].str.split(\".\").str[0]\n",
    "\n",
    "mapping = gencode.set_index(\"gen_red\")[\"gene_name\"].to_dict()"
   ]
  },
  {
   "cell_type": "code",
   "execution_count": null,
   "id": "4f4a8da3",
   "metadata": {},
   "outputs": [],
   "source": [
    "\n",
    "\n",
    "gene_info = bulk.iloc[:,:5].copy()\n",
    "\n",
    "bulk = bulk.iloc[:,5:].copy()"
   ]
  },
  {
   "cell_type": "code",
   "execution_count": null,
   "id": "7fb46820",
   "metadata": {},
   "outputs": [],
   "source": [
    "condition = pd.DataFrame(bulk.columns.str.split(\"_\").str[1], index=bulk.columns, columns=[\"condition\"])\n",
    "condition[\"patient\"] = condition.index.str.split(\"_\").str[0]\n",
    "condition[\"tissue\"] = condition.index.str.split(\"_\").str[2]"
   ]
  },
  {
   "cell_type": "code",
   "execution_count": null,
   "id": "af5c7b32",
   "metadata": {},
   "outputs": [],
   "source": [
    "logcounts = bulk.sum().apply(np.log1p)\n",
    "\n",
    "tpm = (bulk.T / gene_info[\"Length\"]).T\n",
    "\n",
    "tpm = tpm / tpm.sum()*1000000\n",
    "\n",
    "tpm = tpm.rename(index=mapping).T\n",
    "\n",
    "tpm = tpm.loc[:,(tpm==0).sum()<=0.5*tpm.shape[0]]\n",
    "\n",
    "tpm[\"condition\"] = tpm.index.str.split(\"_\").str[1]\n",
    "tpm[\"patient\"] = tpm.index.str.split(\"_\").str[0]\n",
    "tpm[\"tissue\"] = tpm.index.str.split(\"_\").str[2]\n",
    "\n",
    "tpm = tpm[tpm[\"tissue\"]==\"Tumor\"]"
   ]
  },
  {
   "cell_type": "markdown",
   "id": "0911c87f",
   "metadata": {},
   "source": [
    "# Survival analysis on PreTx tissue only"
   ]
  },
  {
   "cell_type": "code",
   "execution_count": null,
   "id": "d963a588",
   "metadata": {},
   "outputs": [],
   "source": [
    "red_tpm = std_tpm[std_tpm[\"condition\"]==\"PreTx\"]"
   ]
  },
  {
   "cell_type": "code",
   "execution_count": null,
   "id": "f0db38f4",
   "metadata": {},
   "outputs": [],
   "source": [
    "import gseapy as gp\n",
    "\n",
    "ss = gp.ssgsea(data=red_tpm.drop([\"condition\",\"patient\",\"tissue\"],axis=1).T,\n",
    "               gene_sets=full_sigs.copy(),\n",
    "               outdir=None,\n",
    "               sample_norm_method='rank', # choose 'custom' will only use the raw value of `data`\n",
    "               no_plot=True)\n",
    "\n",
    "state_score = ss.res2d.T\n",
    "\n",
    "state_score.index = state_score.index.str.split(\"_\").str[0]\n",
    "\n",
    "ss = gp.ssgsea(data=red_tpm.drop([\"condition\",\"patient\",\"tissue\"],axis=1).T,\n",
    "               gene_sets=caf_sigs.copy(),\n",
    "               outdir=None,\n",
    "               sample_norm_method='rank', # choose 'custom' will only use the raw value of `data`\n",
    "               no_plot=True)\n",
    "\n",
    "caf_score = ss.res2d.T\n",
    "\n",
    "caf_score.index = caf_score.index.str.split(\"_\").str[0]"
   ]
  },
  {
   "cell_type": "code",
   "execution_count": null,
   "id": "498c6218",
   "metadata": {},
   "outputs": [],
   "source": [
    "augclin = pd.concat([state_score.loc[common_patients],\n",
    "                     caf_score.loc[common_patients], \n",
    "                     clinical.loc[common_patients]],axis=1)"
   ]
  },
  {
   "cell_type": "code",
   "execution_count": null,
   "id": "75b42f3d",
   "metadata": {},
   "outputs": [],
   "source": [
    "from lifelines import CoxPHFitter\n",
    "survstr=\"OS\"\n",
    "clin = augclin[[\"Age\",\"Stage\",\"Sex\",\"Status\",\"OS\"]].copy()\n",
    "clin[survstr] = clin[survstr].fillna(clin[survstr].median())\n",
    "clin.Age = (clin.Age - clin.Age.min())/(clin.Age.max()- clin.Age.min())\n",
    "clin.Sex = clin.Sex.replace({\"Male\": 0, \"Female\": 1})\n",
    "clin.Stage = clin.Stage.replace({\"IV\": 1, \"IIIB\": 0, \"IIIA\": 0, \"IIIC\": 0})\n",
    "\n",
    "\n",
    "cox_results = []\n",
    "for state in [\"cNMF_1\",\"cNMF_2\",\"cNMF_3\",\"cNMF_4\",\"cNMF_5\"]: \n",
    "    expr = augclin[state]\n",
    "    expr = (expr - expr.mean())/expr.std()\n",
    "    cox_clin = pd.concat([clin[[\"Status\",\"OS\"]],expr],axis=1)\n",
    "    \n",
    "    cph = CoxPHFitter()\n",
    "    cph.fit(cox_clin, duration_col=f\"OS\", event_col=\"Status\")\n",
    "    summ = cph.summary\n",
    "    cox_results.append(summ)\n",
    "\n",
    "cox_results = pd.concat(cox_results)\n",
    "\n",
    "ps = cox_results.loc[:,\"p\"].ravel()\n",
    "x = cox_results.loc[:,\"exp(coef)\"].ravel()\n",
    "lower = cox_results.loc[:,\"exp(coef) lower 95%\"].ravel()\n",
    "upper = cox_results.loc[:,\"exp(coef) upper 95%\"].ravel()\n",
    "ci = [x - lower, upper - x]\n",
    "names = cox_results.index\n",
    "colorlist = [\"red\" if ((x[i] - ci[0][i])>1 and (ci[1][i] + x[i])>1) else (\"blue\" if ((x[i] - ci[0][i])<1 and (ci[1][i] + x[i])<1) else \"black\") for i in range(len(ci[0]))]\n",
    "\n",
    "fig, ax = plt.subplots(1,1,figsize=(3,3))\n",
    "ax.errorbar(x,np.arange(0,len(x))[::-1],\n",
    "            xerr=ci, marker=\"s\",\n",
    "            linewidth=0,\n",
    "            elinewidth=2,\n",
    "            ecolor=colorlist,\n",
    "            markerfacecolor=\"black\",\n",
    "            markeredgecolor=\"black\")\n",
    "ax.spines[[\"bottom\",\"left\"]].set_linewidth(2)\n",
    "ax.spines[[\"top\",\"right\"]].set_visible(False)\n",
    "ax.vlines(1,ymin=ax.get_ylim()[0],ymax=ax.get_ylim()[1],linestyle=\"--\",color=\"grey\")\n",
    "ax.set_yticks(np.arange(0,len(x)))\n",
    "ax.set_yticklabels([\"cNMF$_{1}$\",\"cNMF$_{2}$\",\"cNMF$_{3}$\",\"cNMF$_{4}$\",\"cNMF$_{5}$\"][::-1])\n",
    "for i,p in enumerate(ps[::-1]):\n",
    "    ax.text(ax.get_xlim()[1], i, f\"p={p:.2e}\")\n",
    "    \n",
    "fig.savefig(\"figures/survival_carroll_cox_plot.svg\", dpi=200, bbox_inches=\"tight\")"
   ]
  },
  {
   "cell_type": "code",
   "execution_count": null,
   "id": "6e5a4bad",
   "metadata": {},
   "outputs": [],
   "source": []
  }
 ],
 "metadata": {
  "kernelspec": {
   "display_name": "Python 3 (ipykernel)",
   "language": "python",
   "name": "python3"
  },
  "language_info": {
   "codemirror_mode": {
    "name": "ipython",
    "version": 3
   },
   "file_extension": ".py",
   "mimetype": "text/x-python",
   "name": "python",
   "nbconvert_exporter": "python",
   "pygments_lexer": "ipython3",
   "version": "3.9.16"
  }
 },
 "nbformat": 4,
 "nbformat_minor": 5
}
