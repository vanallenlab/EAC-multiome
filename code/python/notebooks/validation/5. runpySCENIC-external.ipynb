{
 "cells": [
  {
   "cell_type": "code",
   "execution_count": null,
   "id": "2e08eaeb-6ebd-4eba-be33-dc4cc0a2cfc2",
   "metadata": {},
   "outputs": [],
   "source": [
    "import pandas as pd\n",
    "import numpy as np\n",
    "import scanpy as sc\n",
    "import loompy as lp\n",
    "import pathlib as pl"
   ]
  },
  {
   "cell_type": "code",
   "execution_count": null,
   "id": "980020aa-a4ed-4a28-897a-3e66e431b7ad",
   "metadata": {},
   "outputs": [],
   "source": [
    "import seaborn as sns\n",
    "import matplotlib.pyplot as plt"
   ]
  },
  {
   "cell_type": "code",
   "execution_count": null,
   "id": "09a6b083-0acb-4c48-946f-215facd350bc",
   "metadata": {},
   "outputs": [],
   "source": [
    "def pretty_ax(ax, linew: float=1.5):\n",
    "    ax.spines['right'].set_visible(False)\n",
    "    ax.spines['top'].set_visible(False)\n",
    "    ax.tick_params(\n",
    "        axis='both',  \n",
    "        which='both',      \n",
    "        bottom=True,     \n",
    "        top=False,\n",
    "        left=False,\n",
    "        labelbottom=True,\n",
    "        labelleft = True)\n",
    "    ax.spines[\"bottom\"].set_linewidth(linew)\n",
    "    ax.spines[\"left\"].set_linewidth(linew)"
   ]
  },
  {
   "cell_type": "code",
   "execution_count": null,
   "id": "f5331206-4145-4637-9f0f-c95336190b14",
   "metadata": {},
   "outputs": [],
   "source": [
    "orig_corrs = {}\n",
    "for state in [f\"cNMF_{i}\" for i in range(1,6)]:\n",
    "   orig_corrs[state] = pd.read_csv(f\"/cluster/work/boeva/jyates/EAC_singlecell/upd_clean_code/correlation_TF_scenicplus/{state}_score_triad_corr.csv\",index_col=0)"
   ]
  },
  {
   "cell_type": "code",
   "execution_count": null,
   "id": "8bd2a3e1-0a2f-4985-b7ae-2e1538121570",
   "metadata": {},
   "outputs": [],
   "source": [
    "mTFs_pp = {}\n",
    "for state in [f\"cNMF_{i}\" for i in range(1,6)]:\n",
    "    df = orig_corrs[state].dropna().copy()\n",
    "    mTFs_pp[state] = df[(df[\"TF GEX r\"]>0.1) & (df[\"eReg. Gene r\"]>0.1) & (df[\"eReg. Reg. r\"]>0.1)].index"
   ]
  },
  {
   "cell_type": "markdown",
   "id": "38c88b1f-cee0-4012-ba1f-2aa907045c0e",
   "metadata": {},
   "source": [
    "# Carroll "
   ]
  },
  {
   "cell_type": "code",
   "execution_count": null,
   "id": "34a09743-dd57-4a56-b3e0-169dc9a39c9a",
   "metadata": {},
   "outputs": [],
   "source": [
    "adata = sc.read_h5ad(\"/cluster/work/boeva/jyates/EAC_singlecell/atlas_datasets/Carroll_singlecell/Carroll_EAC_raw.h5ad\")\n",
    "\n",
    "sc.pp.filter_genes(adata, min_cells=500)\n",
    "\n",
    "adata = adata[adata.obs.patient.isin([\"EAC-LPPN\",'EAC-ACMO','EAC-HDHI', 'EAC-PAHE', 'EAC-HENB', \n",
    "                        'EAC-HGFI', 'EAC-GDBD','EAC-JCNP', 'EAC-ODHL', 'EAC-IKIJ', \n",
    "                        'EAC-JJHD'])].copy()"
   ]
  },
  {
   "cell_type": "code",
   "execution_count": null,
   "id": "86552958-ff41-42c6-8b41-710c4489e21f",
   "metadata": {},
   "outputs": [],
   "source": [
    "import loompy\n",
    "\n",
    "f_loom_path_scenic = \"/cluster/work/boeva/jyates/EAC_singlecell/upd_clean_code/pyscenic-external-results/adata_filtered_scenic.loom\"\n",
    "\n",
    "# create basic row and column attributes for the loom file:\n",
    "row_attrs = {\n",
    "    \"Gene\": np.array(adata.var_names) ,\n",
    "}\n",
    "col_attrs = {\n",
    "    \"CellID\": np.array(adata.obs_names) ,\n",
    "    \"nGene\": np.array( np.sum(adata.X.transpose()>0 , axis=0)).flatten() ,\n",
    "    \"nUMI\": np.array( np.sum(adata.X.transpose() , axis=0)).flatten() ,\n",
    "}\n",
    "loompy.create( f_loom_path_scenic, adata.X.transpose(), row_attrs, col_attrs)"
   ]
  },
  {
   "cell_type": "code",
   "execution_count": null,
   "id": "b23da444-a2b5-4edc-b6ad-c4a9faaa31e5",
   "metadata": {},
   "outputs": [],
   "source": [
    "# collect SCENIC AUCell output\n",
    "lf = lp.connect(\"pyscenic-external-results/pyscenic_carroll_output.loom\", mode='r+', validate=False )\n",
    "auc_mtx = pd.DataFrame( lf.ca.RegulonsAUC, index=lf.ca.CellID)\n",
    "lf.close()"
   ]
  },
  {
   "cell_type": "code",
   "execution_count": null,
   "id": "92182f12-c695-41e2-94a4-f535951d852c",
   "metadata": {},
   "outputs": [],
   "source": [
    "adata.layers[\"counts\"] = adata.X.copy()\n",
    "\n",
    "sc.pp.normalize_total(adata, target_sum=10000)\n",
    "sc.pp.log1p(adata)"
   ]
  },
  {
   "cell_type": "code",
   "execution_count": null,
   "id": "31489da7-fb7b-41e5-8e2b-fda1388e0cc0",
   "metadata": {},
   "outputs": [],
   "source": [
    "del adata.raw"
   ]
  },
  {
   "cell_type": "code",
   "execution_count": null,
   "id": "65acbd23-d612-4a8b-94d7-52696979ae4f",
   "metadata": {},
   "outputs": [],
   "source": [
    "signature_dir = pl.Path(\"/cluster/work/boeva/jyates/EAC_singlecell/upd_clean_code/cNMF_malignant_genes_new_cosine\")\n",
    "\n",
    "full_sigs = {}\n",
    "for s in (signature_dir).iterdir():\n",
    "    sig = s.stem\n",
    "    full_sigs[sig] = pd.read_csv(s,index_col=0)\n",
    "    full_sigs[sig] = full_sigs[sig][~full_sigs[sig].index.str.startswith((\"MT-\",\"RPS\",\"RPL\"))]\n",
    "    full_sigs[sig] = full_sigs[sig].head(100).index.ravel()"
   ]
  },
  {
   "cell_type": "code",
   "execution_count": null,
   "id": "20847381-2278-4bc4-83ac-014b9ddcf098",
   "metadata": {},
   "outputs": [],
   "source": [
    "toptfs = pd.read_csv(\"/cluster/work/boeva/jyates/EAC_singlecell/upd_clean_code/correlation_TF_scenicplus/toptfs_top20.csv\",index_col=0)\n",
    "#toptfs = pd.read_csv(\"/cluster/work/boeva/jyates/EAC_singlecell/upd_clean_code/correlation_TF_scenicplus/toptfs_top10_zscoreauc.csv\",index_col=0)\n",
    "\n",
    "toptfs = {state[:6]: toptfs[state].dropna().ravel() for state in toptfs.columns}\n",
    "\n",
    "for sig, genes in full_sigs.items():\n",
    "    sc.tl.score_genes(adata=adata,\n",
    "                        gene_list=list(np.setdiff1d(genes,toptfs[sig])), \n",
    "                        score_name=f\"{sig}_score\")"
   ]
  },
  {
   "cell_type": "code",
   "execution_count": null,
   "id": "33e235fc-30f2-4aa8-a0b1-567b2abd64b9",
   "metadata": {},
   "outputs": [],
   "source": [
    "subadata = adata[adata.obs.celltype.isin([\"EAC\"])].copy()"
   ]
  },
  {
   "cell_type": "code",
   "execution_count": null,
   "id": "4f430309-4efa-4c2b-9217-952dda9501d8",
   "metadata": {},
   "outputs": [],
   "source": [
    "all_tfs = pd.read_csv(\"/cluster/work/boeva/jyates/EAC_singlecell/auxiliary_data/utoronto_human_tfs_v_1.01.txt\",header=None).values.ravel()\n",
    "\n",
    "TF_expr = pd.DataFrame(subadata[:,subadata.var_names.intersection(all_tfs)].X.copy().toarray(),\n",
    "                       index=subadata.obs_names,columns=subadata.var_names.intersection(all_tfs))\n",
    "\n",
    "all_corrs = pd.concat([TF_expr.corrwith(subadata.obs[f\"cNMF_{i}_score\"]) for i in range(1,6)],axis=1)\n",
    "all_corrs.columns = [f\"cNMF_{i}\" for i in range(1,6)]\n",
    "all_corrs = all_corrs.dropna()\n",
    "\n",
    "reg_corrs = pd.concat([auc_mtx.loc[subadata.obs_names].corrwith(subadata.obs[f\"cNMF_{i}_score\"]) for i in range(1,6)],axis=1)\n",
    "reg_corrs.columns = [f\"cNMF_{i}\" for i in range(1,6)]\n",
    "reg_corrs.index = reg_corrs.index.str[:-3]\n",
    "reg_corrs = reg_corrs.dropna()"
   ]
  },
  {
   "cell_type": "code",
   "execution_count": null,
   "id": "b505caf3-1145-43db-b492-0980dc907e13",
   "metadata": {
    "scrolled": true
   },
   "outputs": [],
   "source": [
    "from scipy.stats import pearsonr\n",
    "from statsmodels.stats.multitest import multipletests\n",
    "from adjustText import adjust_text\n",
    "\n",
    "from tqdm.notebook import tqdm\n",
    "\n",
    "mTFs_pp = toptfs.copy()\n",
    "\n",
    "for i,state in tqdm(enumerate([f\"cNMF_{i}\" for i in range(1,6)])):\n",
    "\n",
    "    wormdf = pd.concat([all_corrs[state].sort_values(ascending=False),reg_corrs[state]],axis=1).dropna()\n",
    "    wormdf.columns = [\"TF GEX r\",\"Gene-based eReg. r\"]\n",
    "    \n",
    "    TFs_mostcorr = all_corrs[(all_corrs[state]>0.1) & (reg_corrs[state]>0.1)].index\n",
    "    \n",
    "    TFs_candidate = wormdf.index.intersection(mTFs_pp[state])\n",
    "    \n",
    "    TFs_common = np.intersect1d(TFs_candidate, TFs_mostcorr)\n",
    "        \n",
    "    fig, ax = plt.subplots(1,1, figsize=(3,3))\n",
    "    sns.scatterplot(data=wormdf, x=\"TF GEX r\", y=\"Gene-based eReg. r\",ax=ax, alpha=0.7, c=[\"lightgray\"]*wormdf.shape[0])\n",
    "    \n",
    "    ax.set_title(f\"cNMF$_{i+1}$ top TFs\", fontsize=13)\n",
    "    \n",
    "    texts = []\n",
    "    for g in np.setdiff1d(TFs_candidate,TFs_common):\n",
    "        x = wormdf.loc[g,\"TF GEX r\"]\n",
    "        y = wormdf.loc[g,\"Gene-based eReg. r\"]\n",
    "        texts.append(ax.text(x,y,g,fontsize=13,c=\"red\"))\n",
    "    for g in TFs_common:\n",
    "        x = wormdf.loc[g,\"TF GEX r\"]\n",
    "        y = wormdf.loc[g,\"Gene-based eReg. r\"]\n",
    "        texts.append(ax.text(x,y,g,fontsize=13,c=\"purple\"))\n",
    "    \n",
    "    \n",
    "    adjust_text(texts, arrowprops=dict(arrowstyle=\"-\", color='r', lw=1.5), force_text=(0.2,0.3))\n",
    "    ax.xaxis.set_tick_params(labelsize=13)\n",
    "    ax.yaxis.set_tick_params(labelsize=13)\n",
    "    ax.set_ylabel(\"Gene-based eReg. r\", fontsize=13)\n",
    "    ax.set_xlabel(\"TF GEX r\", fontsize=13)\n",
    "    pretty_ax(ax, linew=3)\n",
    "\n",
    "    fig.savefig(f\"/cluster/work/boeva/jyates/EAC_singlecell/upd_clean_code/figures/pyscenic-external/{state}_carroll_et_al.png\", \n",
    "            dpi=200, bbox_inches=\"tight\")\n",
    "    fig.savefig(f\"/cluster/work/boeva/jyates/EAC_singlecell/upd_clean_code/figures/pyscenic-external/{state}_carroll_et_al.svg\", \n",
    "            dpi=200, bbox_inches=\"tight\")"
   ]
  },
  {
   "cell_type": "markdown",
   "id": "8f27a390-ee21-49e8-996e-afff8c2a1a02",
   "metadata": {},
   "source": [
    "# Croft"
   ]
  },
  {
   "cell_type": "code",
   "execution_count": null,
   "id": "edb93d4f-eb1c-4f60-8d56-d6807bc239b6",
   "metadata": {},
   "outputs": [],
   "source": [
    "adata_croft = sc.read_h5ad(\"/cluster/work/boeva/jyates/EAC_singlecell/atlas_datasets/Croft_singlecell/GSE222078_adata.h5ad\")"
   ]
  },
  {
   "cell_type": "code",
   "execution_count": null,
   "id": "f0830bf7-9207-4227-bdea-dce56c949d59",
   "metadata": {},
   "outputs": [],
   "source": [
    "sc.pp.filter_genes(adata, min_cells=500)"
   ]
  },
  {
   "cell_type": "code",
   "execution_count": null,
   "id": "7d718445-5bd1-4da9-b8be-7e299e1f782e",
   "metadata": {},
   "outputs": [],
   "source": [
    "import loompy\n",
    "\n",
    "f_loom_path_scenic = \"/cluster/work/boeva/jyates/EAC_singlecell/upd_clean_code/pyscenic-external-results/adata_croft_filtered_scenic.loom\"\n",
    "\n",
    "# create basic row and column attributes for the loom file:\n",
    "row_attrs = {\n",
    "    \"Gene\": np.array(adata.var_names) ,\n",
    "}\n",
    "col_attrs = {\n",
    "    \"CellID\": np.array(adata.obs_names) ,\n",
    "    \"nGene\": np.array( np.sum(adata.X.transpose()>0 , axis=0)).flatten() ,\n",
    "    \"nUMI\": np.array( np.sum(adata.X.transpose() , axis=0)).flatten() ,\n",
    "}\n",
    "loompy.create( f_loom_path_scenic, adata.X.transpose(), row_attrs, col_attrs)"
   ]
  },
  {
   "cell_type": "code",
   "execution_count": null,
   "id": "47dc1ab5-5481-4141-9162-6902cf3ec9a7",
   "metadata": {},
   "outputs": [],
   "source": [
    "adata_croft.layers[\"counts\"] = adata_croft.X.copy()\n",
    "\n",
    "sc.pp.normalize_total(adata_croft, target_sum=10000)\n",
    "sc.pp.log1p(adata_croft)"
   ]
  },
  {
   "cell_type": "code",
   "execution_count": null,
   "id": "38e31bd2-5574-4cb8-bd3d-8c9d2be5daae",
   "metadata": {},
   "outputs": [],
   "source": [
    "# collect SCENIC AUCell output\n",
    "lf = lp.connect(\"pyscenic-external-results/pyscenic_croft_output.loom\", mode='r+', validate=False )\n",
    "auc_mtx = pd.DataFrame( lf.ca.RegulonsAUC, index=lf.ca.CellID)\n",
    "lf.close()"
   ]
  },
  {
   "cell_type": "code",
   "execution_count": null,
   "id": "7b75d5d2-8fa8-43e1-ab02-b795e10cbcfa",
   "metadata": {},
   "outputs": [],
   "source": [
    "signature_dir = pl.Path(\"/cluster/work/boeva/jyates/EAC_singlecell/upd_clean_code/cNMF_malignant_genes_new_cosine\")\n",
    "\n",
    "full_sigs = {}\n",
    "for s in (signature_dir).iterdir():\n",
    "    sig = s.stem\n",
    "    full_sigs[sig] = pd.read_csv(s,index_col=0)\n",
    "    full_sigs[sig] = full_sigs[sig][~full_sigs[sig].index.str.startswith((\"MT-\",\"RPS\",\"RPL\"))]\n",
    "    full_sigs[sig] = full_sigs[sig].head(100).index.ravel()"
   ]
  },
  {
   "cell_type": "code",
   "execution_count": null,
   "id": "a3f5f027-18df-4c85-bc11-9028c22e0157",
   "metadata": {},
   "outputs": [],
   "source": [
    "toptfs = pd.read_csv(\"/cluster/work/boeva/jyates/EAC_singlecell/upd_clean_code/correlation_TF_scenicplus/toptfs_top20.csv\",index_col=0)\n",
    "#toptfs = pd.read_csv(\"/cluster/work/boeva/jyates/EAC_singlecell/upd_clean_code/correlation_TF_scenicplus/toptfs_top10_zscoreauc.csv\",index_col=0)\n",
    "toptfs = {state[:6]: toptfs[state].dropna().ravel() for state in toptfs.columns}\n",
    "\n",
    "for sig, genes in full_sigs.items():\n",
    "    sc.tl.score_genes(adata=adata_croft,\n",
    "                        gene_list=list(np.setdiff1d(genes,toptfs[sig])), \n",
    "                        score_name=f\"{sig}_score\")"
   ]
  },
  {
   "cell_type": "code",
   "execution_count": null,
   "id": "ef5d6597-9282-4361-89cc-3a17638e205b",
   "metadata": {},
   "outputs": [],
   "source": [
    "subadata_croft = adata_croft[adata_croft.obs.celltype.isin([\"Epithelial\"])].copy()"
   ]
  },
  {
   "cell_type": "code",
   "execution_count": null,
   "id": "f76f0da2-2e87-4af3-9737-f5adaab514e8",
   "metadata": {
    "scrolled": true
   },
   "outputs": [],
   "source": [
    "all_tfs = pd.read_csv(\"/cluster/work/boeva/jyates/EAC_singlecell/auxiliary_data/utoronto_human_tfs_v_1.01.txt\",header=None).values.ravel()\n",
    "\n",
    "TF_expr_croft = pd.DataFrame(subadata_croft[:,subadata_croft.var_names.intersection(all_tfs)].X.copy().toarray(),\n",
    "                       index=subadata_croft.obs_names,columns=subadata_croft.var_names.intersection(all_tfs))\n",
    "\n",
    "all_corrs_croft = pd.concat([TF_expr_croft.corrwith(subadata_croft.obs[f\"cNMF_{i}_score\"]) for i in range(1,6)],axis=1)\n",
    "all_corrs_croft.columns = [f\"cNMF_{i}\" for i in range(1,6)]\n",
    "all_corrs_croft = all_corrs_croft.dropna()\n",
    "\n",
    "reg_corrs_croft = pd.concat([auc_mtx.loc[subadata_croft.obs_names].corrwith(subadata_croft.obs[f\"cNMF_{i}_score\"]) for i in range(1,6)],axis=1)\n",
    "reg_corrs_croft.columns = [f\"cNMF_{i}\" for i in range(1,6)]\n",
    "reg_corrs_croft.index = reg_corrs_croft.index.str[:-3]\n",
    "reg_corrs_croft = reg_corrs_croft.dropna()"
   ]
  },
  {
   "cell_type": "code",
   "execution_count": null,
   "id": "24b82f85-9af4-4412-86f9-4c0c8dd7c9d3",
   "metadata": {
    "scrolled": true
   },
   "outputs": [],
   "source": [
    "from scipy.stats import pearsonr\n",
    "from statsmodels.stats.multitest import multipletests\n",
    "from adjustText import adjust_text\n",
    "\n",
    "from tqdm.notebook import tqdm\n",
    "\n",
    "mTFs_pp = toptfs.copy()\n",
    "\n",
    "for i,state in tqdm(enumerate([f\"cNMF_{i}\" for i in range(1,6)])):\n",
    "\n",
    "    wormdf = pd.concat([all_corrs_croft[state].sort_values(ascending=False),reg_corrs_croft[state]],axis=1).dropna()\n",
    "    wormdf.columns = [\"TF GEX r\",\"Gene-based eReg. r\"]\n",
    "    \n",
    "    TFs_mostcorr = all_corrs_croft[(all_corrs_croft[state]>0.1) & (reg_corrs_croft[state]>0.1)].index\n",
    "    \n",
    "    TFs_candidate = wormdf.index.intersection(mTFs_pp[state])\n",
    "    \n",
    "    TFs_common = np.intersect1d(TFs_candidate, TFs_mostcorr)\n",
    "        \n",
    "    fig, ax = plt.subplots(1,1, figsize=(3,3))\n",
    "    sns.scatterplot(data=wormdf, x=\"TF GEX r\", y=\"Gene-based eReg. r\",ax=ax, alpha=0.7, c=[\"lightgray\"]*wormdf.shape[0])\n",
    "    \n",
    "    ax.set_title(f\"cNMF$_{i+1}$ top TFs\", fontsize=13)\n",
    "\n",
    "    if len(TFs_candidate)>0:\n",
    "        texts = []\n",
    "        for g in np.setdiff1d(TFs_candidate,TFs_common):\n",
    "            x = wormdf.loc[g,\"TF GEX r\"]\n",
    "            y = wormdf.loc[g,\"Gene-based eReg. r\"]\n",
    "            texts.append(ax.text(x,y,g,fontsize=13,c=\"red\"))\n",
    "        for g in TFs_common:\n",
    "            x = wormdf.loc[g,\"TF GEX r\"]\n",
    "            y = wormdf.loc[g,\"Gene-based eReg. r\"]\n",
    "            texts.append(ax.text(x,y,g,fontsize=13,c=\"purple\"))\n",
    "    \n",
    "    \n",
    "    adjust_text(texts, arrowprops=dict(arrowstyle=\"-\", color='r', lw=1.5), force_text=(0.2,0.3))\n",
    "    ax.xaxis.set_tick_params(labelsize=13)\n",
    "    ax.yaxis.set_tick_params(labelsize=13)\n",
    "    ax.set_ylabel(\"Gene-based eReg. r\", fontsize=13)\n",
    "    ax.set_xlabel(\"TF GEX r\", fontsize=13)\n",
    "    pretty_ax(ax, linew=3)\n",
    "\n",
    "    fig.savefig(f\"/cluster/work/boeva/jyates/EAC_singlecell/upd_clean_code/figures/pyscenic-external/{state}_croft_et_al.png\", \n",
    "            dpi=200, bbox_inches=\"tight\")\n",
    "    fig.savefig(f\"/cluster/work/boeva/jyates/EAC_singlecell/upd_clean_code/figures/pyscenic-external/{state}_croft_et_al.svg\", \n",
    "            dpi=200, bbox_inches=\"tight\")"
   ]
  },
  {
   "cell_type": "markdown",
   "id": "23e8e578-28b4-489d-87f2-02028b487d28",
   "metadata": {},
   "source": [
    "# Luo et al"
   ]
  },
  {
   "cell_type": "code",
   "execution_count": null,
   "id": "5d171bb5-f352-43c5-b884-b701c238e3c3",
   "metadata": {},
   "outputs": [],
   "source": [
    "adata_luo = sc.read_h5ad(\"/cluster/work/boeva/jyates/EAC_singlecell/atlas_datasets/CAF_atlas/CAF/GSE210347_fibroblast_counts.h5ad\")\n",
    "\n",
    "sc.pp.filter_genes(adata_luo, min_cells=500)"
   ]
  },
  {
   "cell_type": "code",
   "execution_count": null,
   "id": "7a50ba8d-287e-4f0f-b8ed-dd6383b300c4",
   "metadata": {},
   "outputs": [],
   "source": [
    "del adata_luo.raw"
   ]
  },
  {
   "cell_type": "code",
   "execution_count": null,
   "id": "0d772c19-7b2e-4b5b-bcd8-aeac9c49fbec",
   "metadata": {},
   "outputs": [],
   "source": [
    "import loompy\n",
    "\n",
    "f_loom_path_scenic = \"/cluster/work/boeva/jyates/EAC_singlecell/upd_clean_code/pyscenic-external-results/adata_luo_filtered_scenic.loom\"\n",
    "\n",
    "# create basic row and column attributes for the loom file:\n",
    "row_attrs = {\n",
    "    \"Gene\": np.array(adata_luo.var_names) ,\n",
    "}\n",
    "col_attrs = {\n",
    "    \"CellID\": np.array(adata_luo.obs_names) ,\n",
    "    \"nGene\": np.array( np.sum(adata_luo.X.transpose()>0 , axis=0)).flatten() ,\n",
    "    \"nUMI\": np.array( np.sum(adata_luo.X.transpose() , axis=0)).flatten() ,\n",
    "}\n",
    "loompy.create( f_loom_path_scenic, adata_luo.X.transpose(), row_attrs, col_attrs)"
   ]
  },
  {
   "cell_type": "code",
   "execution_count": null,
   "id": "9fe0e33b-d3e8-4122-9382-17170290723b",
   "metadata": {},
   "outputs": [],
   "source": [
    "adata_luo.layers[\"counts\"] = adata_luo.X.copy()\n",
    "\n",
    "sc.pp.normalize_total(adata_luo, target_sum=10000)\n",
    "sc.pp.log1p(adata_luo)"
   ]
  },
  {
   "cell_type": "code",
   "execution_count": null,
   "id": "1ab09467-2d7c-418f-9bda-b58967d1ce53",
   "metadata": {},
   "outputs": [],
   "source": [
    "# collect SCENIC AUCell output\n",
    "lf = lp.connect(\"pyscenic-external-results/pyscenic_luo_output.loom\", mode='r+', validate=False )\n",
    "auc_mtx = pd.DataFrame( lf.ca.RegulonsAUC, index=lf.ca.CellID)\n",
    "lf.close()"
   ]
  },
  {
   "cell_type": "code",
   "execution_count": null,
   "id": "0011d080-a263-489b-a6a2-7af85bafcca1",
   "metadata": {},
   "outputs": [],
   "source": [
    "signature_dir = pl.Path(\"/cluster/work/boeva/jyates/EAC_singlecell/upd_clean_code/marker_genes/fibroblast/\")\n",
    "\n",
    "full_sigs = {}\n",
    "for s in (signature_dir).iterdir():\n",
    "    sig = s.stem\n",
    "    full_sigs[sig] = pd.read_csv(s,index_col=0).set_index(\"names\")\n",
    "    full_sigs[sig] = full_sigs[sig][~full_sigs[sig].index.str.startswith((\"MT-\",\"RPS\",\"RPL\"))]\n",
    "    full_sigs[sig] = full_sigs[sig].head(100).index.ravel()"
   ]
  },
  {
   "cell_type": "code",
   "execution_count": null,
   "id": "69d33d38-81be-4517-9a08-7dc9ee09eb2c",
   "metadata": {},
   "outputs": [],
   "source": [
    "sig = \"Inflammatory CAF\"\n",
    "toptfs ={\"Inflammatory CAF\": [\"RUNX1\",\"RUNX2\",\"PRRX1\",\"BNC2\"]} \n",
    "sc.tl.score_genes(adata=adata_luo,\n",
    "                        gene_list=list(np.setdiff1d(full_sigs[sig],toptfs[sig])), \n",
    "                        score_name=f\"{sig}_score\")"
   ]
  },
  {
   "cell_type": "code",
   "execution_count": null,
   "id": "65e4ec89-b16c-4b3e-8512-4d5c3d791002",
   "metadata": {},
   "outputs": [],
   "source": [
    "all_tfs = pd.read_csv(\"/cluster/work/boeva/jyates/EAC_singlecell/auxiliary_data/utoronto_human_tfs_v_1.01.txt\",header=None).values.ravel()\n",
    "\n",
    "TF_expr_luo = pd.DataFrame(adata_luo[:,adata_luo.var_names.intersection(all_tfs)].X.copy().toarray(),\n",
    "                       index=adata_luo.obs_names,columns=adata_luo.var_names.intersection(all_tfs))\n",
    "\n",
    "all_corrs_luo = TF_expr_luo.corrwith(adata_luo.obs[\"Inflammatory CAF_score\"]).to_frame()\n",
    "all_corrs_luo.columns = [\"Inflammatory CAF\"]\n",
    "all_corrs_luo = all_corrs_luo.dropna()\n",
    "\n",
    "reg_corrs_luo = auc_mtx.loc[adata_luo.obs_names].corrwith(adata_luo.obs[\"Inflammatory CAF_score\"]).to_frame()\n",
    "reg_corrs_luo.columns = [\"Inflammatory CAF\"]\n",
    "reg_corrs_luo.index = reg_corrs_luo.index.str[:-3]\n",
    "reg_corrs_luo = reg_corrs_luo.dropna()"
   ]
  },
  {
   "cell_type": "code",
   "execution_count": null,
   "id": "d5d0a7af-7177-43bc-9da5-3220e3af1102",
   "metadata": {},
   "outputs": [],
   "source": [
    "from scipy.stats import pearsonr\n",
    "from statsmodels.stats.multitest import multipletests\n",
    "from adjustText import adjust_text\n",
    "\n",
    "from tqdm.notebook import tqdm\n",
    "\n",
    "mTFs_pp = toptfs.copy()\n",
    "state = \"Inflammatory CAF\"\n",
    "\n",
    "wormdf = pd.concat([all_corrs_luo[state].sort_values(ascending=False),reg_corrs_luo[state]],axis=1).dropna()\n",
    "wormdf.columns = [\"TF GEX r\",\"pySCENIC Gene-based eReg. r\"]\n",
    "\n",
    "TFs_mostcorr = all_corrs_luo[(all_corrs_luo[state]>0.1) & (reg_corrs_luo[state]>0.1)].index\n",
    "\n",
    "TFs_candidate = wormdf.index.intersection(mTFs_pp[state])\n",
    "\n",
    "TFs_common = np.intersect1d(TFs_candidate, TFs_mostcorr)\n",
    "    \n",
    "fig, ax = plt.subplots(1,1, figsize=(3.5,3.5))\n",
    "sns.scatterplot(data=wormdf, x=\"TF GEX r\", y=\"pySCENIC Gene-based eReg. r\",ax=ax, alpha=0.7, c=[\"lightgray\"]*wormdf.shape[0])\n",
    "pretty_ax(ax)\n",
    "ax.set_title(f\"{state} top TFs\")\n",
    "\n",
    "if len(TFs_candidate)>0:\n",
    "    texts = []\n",
    "    for g in np.setdiff1d(TFs_candidate,TFs_common):\n",
    "        x = wormdf.loc[g,\"TF GEX r\"]\n",
    "        y = wormdf.loc[g,\"pySCENIC Gene-based eReg. r\"]\n",
    "        texts.append(ax.text(x,y,g,fontsize=10,c=\"red\"))\n",
    "    for g in TFs_common:\n",
    "        x = wormdf.loc[g,\"TF GEX r\"]\n",
    "        y = wormdf.loc[g,\"pySCENIC Gene-based eReg. r\"]\n",
    "        texts.append(ax.text(x,y,g,fontsize=10,c=\"purple\"))\n",
    "\n",
    "\n",
    "adjust_text(texts, arrowprops=dict(arrowstyle=\"-\", color='r', lw=1.5), force_text=(0.2,0.3))\n",
    "fig.savefig(\"/cluster/work/boeva/jyates/EAC_singlecell/upd_clean_code/figures/pyscenic-external/luo_et_al.png\", \n",
    "            dpi=200, bbox_inches=\"tight\")\n",
    "fig.savefig(\"/cluster/work/boeva/jyates/EAC_singlecell/upd_clean_code/figures/pyscenic-external/luo_et_al.svg\", \n",
    "            dpi=200, bbox_inches=\"tight\")"
   ]
  },
  {
   "cell_type": "code",
   "execution_count": null,
   "id": "b4bbec51-67fc-4f8d-8acb-32644a800354",
   "metadata": {},
   "outputs": [],
   "source": [
    "from scipy.stats import pearsonr\n",
    "from statsmodels.stats.multitest import multipletests\n",
    "from adjustText import adjust_text\n",
    "\n",
    "from tqdm.notebook import tqdm\n",
    "\n",
    "mTFs_pp = toptfs.copy()\n",
    "state = \"Inflammatory CAF\"\n",
    "\n",
    "wormdf = pd.concat([all_corrs_luo[state].sort_values(ascending=False),all_corrs_luo[state].sort_values(ascending=False).rank()],axis=1)\n",
    "wormdf.columns = [\"Correlation\",\"Rank\"]\n",
    "\n",
    "TFs_mostcorr = all_corrs_luo[(all_corrs_luo[state]>0.1)].index\n",
    "\n",
    "TFs_candidate = wormdf.index.intersection(mTFs_pp[state])\n",
    "\n",
    "TFs_common = np.intersect1d(TFs_candidate, TFs_mostcorr)\n",
    "    \n",
    "fig, ax = plt.subplots(1,1, figsize=(1,3.5))\n",
    "sns.scatterplot(data=wormdf, x=\"Rank\", y=\"Correlation\",ax=ax)\n",
    "pretty_ax(ax)\n",
    "ax.set_title(f\"{state} top TFs\")\n",
    "\n",
    "if len(TFs_candidate)>0:\n",
    "    texts = []\n",
    "    for g in np.setdiff1d(TFs_candidate,TFs_common):\n",
    "        x = wormdf.loc[g,\"Rank\"]\n",
    "        y = wormdf.loc[g,\"Correlation\"]\n",
    "        texts.append(ax.text(x,y,g,fontsize=10,c=\"red\"))\n",
    "    for g in TFs_common:\n",
    "        x = wormdf.loc[g,\"Rank\"]\n",
    "        y = wormdf.loc[g,\"Correlation\"]\n",
    "        texts.append(ax.text(x,y,g,fontsize=10,c=\"purple\"))\n",
    "\n",
    "\n",
    "adjust_text(texts, arrowprops=dict(arrowstyle=\"-\", color='r', lw=1.5), force_text=(0.2,0.3))\n",
    "adjust_text(texts, arrowprops=dict(arrowstyle=\"-\", color='r', lw=1.5), force_text=(0.2,0.3))\n",
    "fig.savefig(\"/cluster/work/boeva/jyates/EAC_singlecell/upd_clean_code/figures/pyscenic-external/luo_et_al_onlygex.png\", \n",
    "            dpi=200, bbox_inches=\"tight\")\n",
    "fig.savefig(\"/cluster/work/boeva/jyates/EAC_singlecell/upd_clean_code/figures/pyscenic-external/luo_et_al.svg\", \n",
    "            dpi=200, bbox_inches=\"tight\")"
   ]
  },
  {
   "cell_type": "code",
   "execution_count": null,
   "id": "366c2211-3ca9-48f1-85c8-91d4ffcc52d1",
   "metadata": {},
   "outputs": [],
   "source": [
    "wormdf.sort_values(\"Gene-based eReg. r\",ascending=False).head(20)"
   ]
  },
  {
   "cell_type": "code",
   "execution_count": null,
   "id": "1689dd74-541f-4206-ad84-9aa3ba116093",
   "metadata": {},
   "outputs": [],
   "source": []
  }
 ],
 "metadata": {
  "kernelspec": {
   "display_name": "Python 3 (ipykernel)",
   "language": "python",
   "name": "python3"
  },
  "language_info": {
   "codemirror_mode": {
    "name": "ipython",
    "version": 3
   },
   "file_extension": ".py",
   "mimetype": "text/x-python",
   "name": "python",
   "nbconvert_exporter": "python",
   "pygments_lexer": "ipython3",
   "version": "3.9.16"
  }
 },
 "nbformat": 4,
 "nbformat_minor": 5
}
