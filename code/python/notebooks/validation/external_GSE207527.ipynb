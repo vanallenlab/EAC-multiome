{
 "cells": [
  {
   "cell_type": "code",
   "execution_count": null,
   "id": "037a077c",
   "metadata": {},
   "outputs": [],
   "source": [
    "import pandas as pd\n",
    "import numpy as np\n",
    "import scanpy as sc\n",
    "import pathlib as pl\n",
    "from sklearn.preprocessing import StandardScaler\n",
    "\n",
    "import seaborn as sns\n",
    "import matplotlib.pyplot as plt\n",
    "\n",
    "import signaturescoring as ssc\n",
    "\n",
    "from tqdm.notebook import tqdm\n",
    "\n",
    "from statannotations.Annotator import Annotator"
   ]
  },
  {
   "cell_type": "code",
   "execution_count": null,
   "id": "83d46443",
   "metadata": {},
   "outputs": [],
   "source": [
    "def pretty_ax(ax):\n",
    "    ax.spines['right'].set_visible(False)\n",
    "    ax.spines['top'].set_visible(False)\n",
    "    ax.tick_params(\n",
    "        axis='both',  \n",
    "        which='both',      \n",
    "        bottom=True,     \n",
    "        top=False,\n",
    "        left=False,\n",
    "        labelbottom=True,\n",
    "        labelleft = True)\n",
    "    ax.spines[\"bottom\"].set_linewidth(1.5)\n",
    "    ax.spines[\"left\"].set_linewidth(1.5)"
   ]
  },
  {
   "cell_type": "code",
   "execution_count": null,
   "id": "78538e22",
   "metadata": {},
   "outputs": [],
   "source": [
    "def get_tpm(gencode_mapping: pd.DataFrame, bulk: pd.DataFrame) -> pd.DataFrame:\n",
    "    gene_length = (gencode_mapping.set_index(\"gene_name\")[\"end\"] - gencode_mapping.set_index(\"gene_name\")[\"start\"])\n",
    "    gene_length = gene_length[~(gene_length.index.duplicated())]\n",
    "\n",
    "    bulk = bulk.loc[:,bulk.columns.intersection(gene_length.index)]\n",
    "    gene_length = gene_length.loc[bulk.columns.intersection(gene_length.index)]\n",
    "\n",
    "    full_rpk = bulk/gene_length\n",
    "\n",
    "    pm_factor = full_rpk.sum(axis=1)/1000000\n",
    "\n",
    "    tpm = (full_rpk.T / pm_factor).T\n",
    "    \n",
    "    return tpm"
   ]
  },
  {
   "cell_type": "code",
   "execution_count": null,
   "id": "622d8e1a",
   "metadata": {},
   "outputs": [],
   "source": [
    "mTFs = ['KLF5', 'ELF3', 'SMAD3', 'TCF7L2', 'HMGA2',\"BNC2\"]"
   ]
  },
  {
   "cell_type": "code",
   "execution_count": null,
   "id": "5f3e83db",
   "metadata": {},
   "outputs": [],
   "source": [
    "gex_df = pd.read_csv(\"/add/path/here/GSE207526/GSE207526_110.EAC.and.10.Normal.for.GSEA.txt\",sep=\"\\t\").iloc[1:,:].T"
   ]
  },
  {
   "cell_type": "code",
   "execution_count": null,
   "id": "ffbb658a",
   "metadata": {},
   "outputs": [],
   "source": [
    "gencode_mapping = pd.read_csv(\"/add/path/here/gencode_v41_positions.csv\",index_col=0)"
   ]
  },
  {
   "cell_type": "code",
   "execution_count": null,
   "id": "032f009a",
   "metadata": {},
   "outputs": [],
   "source": [
    "tpm = get_tpm(gencode_mapping, gex_df)"
   ]
  },
  {
   "cell_type": "code",
   "execution_count": null,
   "id": "7404f230",
   "metadata": {
    "scrolled": true
   },
   "outputs": [],
   "source": [
    "import GEOparse\n",
    "\n",
    "gse = GEOparse.get_GEO(geo=\"GSE207526\", destdir=\"/add/path/here\")\n",
    "\n",
    "clinical_df, gex_df = [],[]\n",
    "for gsm_name, gsm in gse.gsms.items():\n",
    "    name = gsm.metadata[\"title\"][0].split(\" \")[1]\n",
    "    gsmid = gsm.metadata[\"geo_accession\"][0]\n",
    "    charac = gsm.metadata[\"characteristics_ch1\"]\n",
    "    disease = charac[0].split(\": \")[1]\n",
    "    treated = charac[1].split(\": \")[1]\n",
    "\n",
    "    df = pd.DataFrame([name,gsmid,disease,treated]).T\n",
    "    df.columns=[\"ID\",\"GSM_ID\",\"Disease\",\"Treatment\"]\n",
    "    clinical_df.append(df)\n",
    "    \n",
    "\n",
    "clinical_df = pd.concat(clinical_df).set_index(\"ID\")\n",
    "\n",
    "clinical_df[\"Status\"] = clinical_df[\"Disease\"].replace({\"esophageal adenocarcinoma\": \"EAC\", \"healthy squamous cell tissue from patient with esophageal adenocarcinoma\": \"NAT\"})\n",
    "\n",
    "clinical_df[\"Study\"] = clinical_df.index.str.split(\".\").str[0]\n",
    "\n",
    "survival_clin = pd.read_csv(\"/add/path/here/data.SPSS.subselect.txt\", sep=\"\\t\", index_col=0).set_index(\"FileName.GenomeScan\")\n",
    "\n",
    "clinical_df = pd.concat([clinical_df,survival_clin],axis=1)\n",
    "\n",
    "clinical_df[\"OS.status\"] = clinical_df[\"OS.status\"].replace({\"Alive or censored\": 0, \"Deceased\": 1})\n",
    "\n",
    "clinical_df[\"Stage\"] = clinical_df[\"AJCC_baseline_detailed\"].replace({\"stage IIIA\": \"III\",\n",
    "                                                                      \"stage IV\": \"IV\",\n",
    "                                                                      \"stage IIIB\": \"III\", \n",
    "                                                                      \"stage IIB\": \"II\",\n",
    "                                               \"stage IIIC\": \"III\", \"stage IIA\": \"II\",\n",
    "                                               \"not possible to stage\": np.nan})"
   ]
  },
  {
   "cell_type": "code",
   "execution_count": null,
   "id": "2a9b90b2",
   "metadata": {},
   "outputs": [],
   "source": [
    "signature_dir = pl.Path(\"/add_path_here/\")\n",
    "\n",
    "full_sigs = {}\n",
    "for s in (signature_dir).iterdir():\n",
    "    sig = s.stem\n",
    "    full_sigs[sig] = pd.read_csv(s,index_col=0)\n",
    "    full_sigs[sig] = full_sigs[sig][~full_sigs[sig].index.str.startswith((\"MT-\",\"RPS\",\"RPL\"))]\n",
    "    full_sigs[sig] = full_sigs[sig].head(100).index.ravel()"
   ]
  },
  {
   "cell_type": "code",
   "execution_count": null,
   "id": "b63c909e",
   "metadata": {},
   "outputs": [],
   "source": [
    "ss = StandardScaler()\n",
    "std_fpkm = pd.DataFrame(ss.fit_transform(tpm),index=tpm.index,columns=tpm.columns)\n",
    "\n",
    "state_score = []\n",
    "for sig, genes in full_sigs.items():\n",
    "    selgenes = std_fpkm.columns.intersection(genes)\n",
    "    selgenes = np.setdiff1d(selgenes,mTFs)\n",
    "    scores = std_fpkm[selgenes].mean(axis=1)\n",
    "    scores.name = sig\n",
    "    state_score.append(scores)\n",
    "state_score = pd.concat(state_score,axis=1)"
   ]
  },
  {
   "cell_type": "code",
   "execution_count": null,
   "id": "d7164434",
   "metadata": {},
   "outputs": [],
   "source": [
    "state_score = pd.concat([state_score,clinical_df],axis=1)"
   ]
  },
  {
   "cell_type": "code",
   "execution_count": null,
   "id": "df23fd19",
   "metadata": {},
   "outputs": [],
   "source": [
    "from itertools import combinations"
   ]
  },
  {
   "cell_type": "code",
   "execution_count": null,
   "id": "47274d1f",
   "metadata": {},
   "outputs": [],
   "source": [
    "vc = state_score[\"Status\"].value_counts().to_dict()\n",
    "\n",
    "for score in [\"cNMF_3\",\"cNMF_4\",\"cNMF_1\",\"cNMF_5\"]:\n",
    "\n",
    "    fig, ax = plt.subplots(1,1,figsize=(6,5))\n",
    "    pairs = list(combinations(state_score[\"Status\"].unique(), 2))\n",
    "    order = [\"NAT\",'EAC']\n",
    "    ax= sns.boxplot(data=state_score, x=\"Status\", y=score,order=order)\n",
    "    annot = Annotator(\n",
    "        ax,\n",
    "        pairs=pairs,\n",
    "        data=state_score, x=\"Status\", y=score,order=order\n",
    "    )\n",
    "    annot.configure(\n",
    "        test=\"Mann-Whitney\",\n",
    "        loc=\"inside\",\n",
    "        text_format=\"star\",\n",
    "        show_test_name=False,\n",
    "        verbose=2,\n",
    "        comparisons_correction=None,\n",
    "        fontsize=10,\n",
    "    )\n",
    "    annot.apply_test()\n",
    "    _, test_results = annot.annotate()\n",
    "    pretty_ax(ax)\n",
    "    ax.set_xticklabels([el.replace(\" \",\"\\n\") + f\"\\nN={vc[el]}\" for el in order])\n",
    "    ax.set_xlabel(\"\")"
   ]
  },
  {
   "cell_type": "code",
   "execution_count": null,
   "id": "4ef8b515",
   "metadata": {},
   "outputs": [],
   "source": [
    "vc = state_score[\"Stage\"].value_counts().to_dict()\n",
    "\n",
    "for score in [\"cNMF_3\",\"cNMF_4\",\"cNMF_1\",\"cNMF_5\"]:\n",
    "\n",
    "    fig, ax = plt.subplots(1,1,figsize=(6,5))\n",
    "    pairs = list(combinations(state_score[\"Stage\"].dropna().unique(), 2))\n",
    "    order = [\"II\",\"III\",\"IV\"]\n",
    "    ax= sns.boxplot(data=state_score, x=\"Stage\", y=score,order=order)\n",
    "    annot = Annotator(\n",
    "        ax,\n",
    "        pairs=pairs,\n",
    "        data=state_score, x=\"Stage\", y=score,order=order\n",
    "    )\n",
    "    annot.configure(\n",
    "        test=\"Mann-Whitney\",\n",
    "        loc=\"inside\",\n",
    "        text_format=\"star\",\n",
    "        show_test_name=False,\n",
    "        verbose=2,\n",
    "        comparisons_correction=None,\n",
    "        fontsize=10,\n",
    "    )\n",
    "    annot.apply_test()\n",
    "    _, test_results = annot.annotate()\n",
    "    pretty_ax(ax)\n",
    "    ax.set_xticklabels([el.replace(\" \",\"\\n\") + f\"\\nN={vc[el]}\" for el in order])\n",
    "    ax.set_xlabel(\"\")"
   ]
  },
  {
   "cell_type": "code",
   "execution_count": null,
   "id": "3d08518e",
   "metadata": {},
   "outputs": [],
   "source": [
    "ax = sns.scatterplot(data=state_score, x=\"cNMF_3\", y=\"cNMF_4\", hue=\"Status\")\n",
    "ax.spines[['right', 'top']].set_visible(False)\n",
    "ax.hlines(y=0, xmin=ax.get_xlim()[0], xmax=ax.get_xlim()[1], linestyles=\"dashed\", color=\"grey\")\n",
    "ax.vlines(x=0, ymin=ax.get_ylim()[0], ymax=ax.get_ylim()[1], linestyles=\"dashed\", color=\"grey\")"
   ]
  },
  {
   "cell_type": "code",
   "execution_count": null,
   "id": "6c8d9754",
   "metadata": {},
   "outputs": [],
   "source": [
    "cNMF_3_patients = state_score[(state_score[\"cNMF_3\"]>=0) & (state_score[\"cNMF_4\"]<0)].index\n",
    "\n",
    "cNMF_4_patients = state_score[(state_score[\"cNMF_4\"]>=0) & (state_score[\"cNMF_3\"]<0)].index\n",
    "\n",
    "cNMF_mixed_patients = state_score[(state_score[\"cNMF_4\"]>0) & (state_score[\"cNMF_3\"]>0)].index"
   ]
  },
  {
   "cell_type": "code",
   "execution_count": null,
   "id": "c664648a",
   "metadata": {},
   "outputs": [],
   "source": [
    "state_score[\"PatClass\"] = \"None\"\n",
    "state_score.loc[cNMF_3_patients, \"PatClass\"] = \"cNMF_3\"\n",
    "state_score.loc[cNMF_4_patients, \"PatClass\"] = \"cNMF_4\"\n",
    "state_score.loc[cNMF_mixed_patients, \"PatClass\"] = \"Mixed\""
   ]
  },
  {
   "cell_type": "code",
   "execution_count": null,
   "id": "c1f861e9",
   "metadata": {},
   "outputs": [],
   "source": [
    "ax = sns.scatterplot(data=state_score, x=\"cNMF_3\", y=\"cNMF_4\", hue=\"Study\")\n",
    "ax.spines[['right', 'top']].set_visible(False)\n",
    "ax.hlines(y=0, xmin=ax.get_xlim()[0], xmax=ax.get_xlim()[1], linestyles=\"dashed\", color=\"grey\")\n",
    "ax.vlines(x=0, ymin=ax.get_ylim()[0], ymax=ax.get_ylim()[1], linestyles=\"dashed\", color=\"grey\")"
   ]
  },
  {
   "cell_type": "code",
   "execution_count": null,
   "id": "1ba45a1d",
   "metadata": {},
   "outputs": [],
   "source": [
    "import matplotlib\n",
    "import matplotlib.cm as cm\n",
    "import matplotlib.colors as mcolors\n",
    "\n",
    "from sklearn.decomposition import PCA\n",
    "pca = PCA(n_components=50)\n",
    "X_pca = pca.fit_transform(std_fpkm)\n",
    "X_pca = pd.DataFrame(X_pca,index=std_fpkm.index,columns=[f\"PC{i}\" for i in range(1,51)])\n",
    "\n",
    "X_pca = pd.concat([X_pca, state_score],axis=1)\n",
    "\n",
    "def plot_pcs_color(ax, state):\n",
    "    vcenter = 0\n",
    "    vmin, vmax = X_pca[state].min(), X_pca[state].max()\n",
    "    normalize = mcolors.TwoSlopeNorm(vcenter=vcenter, vmin=vmin, vmax=vmax)\n",
    "    colormap = matplotlib.colormaps['RdBu_r']\n",
    "    sns.scatterplot(\n",
    "        y=X_pca[\"PC2\"],\n",
    "        x=X_pca[\"PC1\"],\n",
    "        c=X_pca[state],\n",
    "        s=10,\n",
    "        norm=normalize,\n",
    "        cmap=colormap,\n",
    "        ax=ax\n",
    "    )\n",
    "    scalarmappaple = cm.ScalarMappable(norm=normalize, cmap=colormap)\n",
    "    scalarmappaple.set_array(X_pca[state])\n",
    "    fig.colorbar(scalarmappaple, ax=ax)\n",
    "    ax.set_title(state)\n",
    "    pretty_ax(ax)\n",
    "\n",
    "fig, ax = plt.subplots(1,3, figsize=(11,3))\n",
    "flatax = ax.flatten()\n",
    "\n",
    "plot_pcs_color(flatax[0], \"cNMF_3\")\n",
    "plot_pcs_color(flatax[1], \"cNMF_1\")\n",
    "plot_pcs_color(flatax[2], \"cNMF_4\")\n",
    "fig.tight_layout()\n",
    "fig.savefig(\"figures/external/GSE207526_PC_wCNMF_score.png\", dpi=200, bbox_inches=\"tight\")\n",
    "\n",
    "fig, ax = plt.subplots(1,2, figsize=(6,2))\n",
    "flatax = ax.flatten()\n",
    "\n",
    "plot_pcs_color(flatax[0], \"cNMF_2\")\n",
    "plot_pcs_color(flatax[1], \"cNMF_5\")\n",
    "\n",
    "fig.tight_layout()"
   ]
  },
  {
   "cell_type": "code",
   "execution_count": null,
   "id": "ddce88e3",
   "metadata": {},
   "outputs": [],
   "source": [
    "sns.scatterplot(x=np.arange(50), y=pca.explained_variance_ratio_)"
   ]
  },
  {
   "cell_type": "code",
   "execution_count": null,
   "id": "6ee09a7e",
   "metadata": {},
   "outputs": [],
   "source": [
    "X_pca[[\"cNMF_3\",\"cNMF_4\",\"PC1\",\"PC2\"]].corr()"
   ]
  },
  {
   "cell_type": "code",
   "execution_count": null,
   "id": "d8366b3d",
   "metadata": {},
   "outputs": [],
   "source": [
    "fig, ax = plt.subplots(1,1)\n",
    "sns.scatterplot(\n",
    "        y=X_pca[\"PC2\"],\n",
    "        x=X_pca[\"PC1\"],\n",
    "        hue=X_pca[\"Status\"],\n",
    "        ax=ax\n",
    "    )"
   ]
  },
  {
   "cell_type": "code",
   "execution_count": null,
   "id": "4b29664c",
   "metadata": {},
   "outputs": [],
   "source": [
    "fig, ax = plt.subplots(1,1)\n",
    "sns.scatterplot(\n",
    "        y=X_pca[\"PC2\"],\n",
    "        x=X_pca[\"PC1\"],\n",
    "        hue=X_pca[\"Study\"],\n",
    "        ax=ax\n",
    "    )"
   ]
  },
  {
   "cell_type": "markdown",
   "id": "ec863aab",
   "metadata": {},
   "source": [
    "# Survival data"
   ]
  },
  {
   "cell_type": "code",
   "execution_count": null,
   "id": "6b91fa2f",
   "metadata": {},
   "outputs": [],
   "source": [
    "from lifelines import KaplanMeierFitter, CoxPHFitter\n",
    "from lifelines.statistics import logrank_test\n"
   ]
  },
  {
   "cell_type": "code",
   "execution_count": null,
   "id": "23714177",
   "metadata": {},
   "outputs": [],
   "source": [
    "clin = state_score[[f\"cNMF_{i}\" for i in range(1,6)]+[\"OS.days\",\"OS.status\",\"PatClass\"]].dropna()\n",
    "\n",
    "for i in range(1,6):\n",
    "    metasig = f\"cNMF_{i}\"\n",
    "    scores = state_score[metasig]\n",
    "\n",
    "    duration, event = {},{}\n",
    "    for high in [0,1]:\n",
    "        if high==1:\n",
    "            stratification = scores>=scores.quantile(0.7)\n",
    "            df = clin[stratification]\n",
    "            duration[high] = df[\"OS.days\"].ravel()\n",
    "            event[high] = df[\"OS.status\"].ravel()\n",
    "        else:\n",
    "            stratification = scores<=scores.quantile(0.3)\n",
    "            df = clin[stratification]\n",
    "            duration[high] = df[\"OS.days\"].ravel()\n",
    "            event[high] = df[\"OS.status\"].ravel()\n",
    "\n",
    "    fig, ax = plt.subplots(1,1)\n",
    "    kmf = KaplanMeierFitter() \n",
    "    ## Fit the data into the model\n",
    "    kmf.fit(duration[0], event[0], label='Low score')\n",
    "    kmf.plot(show_censors=True,c=\"r\",ax=ax,ci_alpha=0.1)\n",
    "    kmf.fit(duration[1], event[1], label='High score')\n",
    "    kmf.plot(show_censors=True,c=\"b\",ax=ax)\n",
    "    pretty_ax(ax)\n",
    "    ax.set_ylabel(\"OS\")\n",
    "    ax.set_xlabel(\"Time to event\")\n",
    "    results=logrank_test(duration[0],duration[1],event_observed_A=event[0], event_observed_B=event[1])\n",
    "    results.print_summary()\n",
    "    ax.text(0.75*ax.get_xlim()[1],0.8,f\"p={results.p_value:.1e}\",fontsize=13)"
   ]
  },
  {
   "cell_type": "markdown",
   "id": "757b9a97",
   "metadata": {},
   "source": [
    "# Correlation with TFs"
   ]
  },
  {
   "cell_type": "code",
   "execution_count": null,
   "id": "c2ebdf13",
   "metadata": {},
   "outputs": [],
   "source": [
    "corr_df = pd.concat([state_score[[\"cNMF_1\",\"cNMF_3\",\"cNMF_4\"]],\n",
    "           tpm.loc[:,mTFs]],axis=1)"
   ]
  },
  {
   "cell_type": "code",
   "execution_count": null,
   "id": "31bbffae",
   "metadata": {},
   "outputs": [],
   "source": [
    "heatmap_df = corr_df.corr().loc[[\"cNMF_3\",\"cNMF_1\",\"cNMF_4\"],mTFs]"
   ]
  },
  {
   "cell_type": "code",
   "execution_count": null,
   "id": "002a38d5",
   "metadata": {},
   "outputs": [],
   "source": [
    "fig, ax = plt.subplots(1,1,figsize=(4,1.5))\n",
    "sns.heatmap(data=heatmap_df, annot=heatmap_df, cmap=\"vlag\", center=0, ax=ax)\n",
    "fig.savefig(\"figures/celllines/heatmap_cNMF_TF_corr.png\", dpi=300, bbox_inches=\"tight\")"
   ]
  },
  {
   "cell_type": "code",
   "execution_count": null,
   "id": "edeb1fd5",
   "metadata": {},
   "outputs": [],
   "source": []
  },
  {
   "cell_type": "code",
   "execution_count": null,
   "id": "9267f524",
   "metadata": {},
   "outputs": [],
   "source": []
  }
 ],
 "metadata": {
  "kernelspec": {
   "display_name": "Python 3 (ipykernel)",
   "language": "python",
   "name": "python3"
  },
  "language_info": {
   "codemirror_mode": {
    "name": "ipython",
    "version": 3
   },
   "file_extension": ".py",
   "mimetype": "text/x-python",
   "name": "python",
   "nbconvert_exporter": "python",
   "pygments_lexer": "ipython3",
   "version": "3.9.16"
  }
 },
 "nbformat": 4,
 "nbformat_minor": 5
}
