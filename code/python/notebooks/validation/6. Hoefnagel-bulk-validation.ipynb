{
 "cells": [
  {
   "cell_type": "code",
   "execution_count": null,
   "id": "037a077c",
   "metadata": {},
   "outputs": [],
   "source": [
    "import pandas as pd\n",
    "import numpy as np\n",
    "import scanpy as sc\n",
    "import pathlib as pl\n",
    "from sklearn.preprocessing import StandardScaler\n",
    "\n",
    "import seaborn as sns\n",
    "import matplotlib.pyplot as plt\n",
    "from tqdm.notebook import tqdm\n",
    "\n",
    "from statannotations.Annotator import Annotator"
   ]
  },
  {
   "cell_type": "code",
   "execution_count": null,
   "id": "83d46443",
   "metadata": {},
   "outputs": [],
   "source": [
    "def pretty_ax(ax):\n",
    "    ax.spines['right'].set_visible(False)\n",
    "    ax.spines['top'].set_visible(False)\n",
    "    ax.tick_params(\n",
    "        axis='both',  \n",
    "        which='both',      \n",
    "        bottom=True,     \n",
    "        top=False,\n",
    "        left=False,\n",
    "        labelbottom=True,\n",
    "        labelleft = True)\n",
    "    ax.spines[\"bottom\"].set_linewidth(1.5)\n",
    "    ax.spines[\"left\"].set_linewidth(1.5)"
   ]
  },
  {
   "cell_type": "code",
   "execution_count": null,
   "id": "78538e22",
   "metadata": {},
   "outputs": [],
   "source": [
    "def get_tpm(gencode_mapping: pd.DataFrame, bulk: pd.DataFrame) -> pd.DataFrame:\n",
    "    gene_length = (gencode_mapping.set_index(\"gene_name\")[\"end\"] - gencode_mapping.set_index(\"gene_name\")[\"start\"])\n",
    "    gene_length = gene_length[~(gene_length.index.duplicated())]\n",
    "\n",
    "    bulk = bulk.loc[:,bulk.columns.intersection(gene_length.index)]\n",
    "    gene_length = gene_length.loc[bulk.columns.intersection(gene_length.index)]\n",
    "\n",
    "    full_rpk = bulk/gene_length\n",
    "\n",
    "    pm_factor = full_rpk.sum(axis=1)/1000000\n",
    "\n",
    "    tpm = (full_rpk.T / pm_factor).T\n",
    "    \n",
    "    return tpm"
   ]
  },
  {
   "cell_type": "code",
   "execution_count": null,
   "id": "5bf289b2",
   "metadata": {},
   "outputs": [],
   "source": [
    "from pydeseq2.dds import DeseqDataSet\n",
    "from pydeseq2.ds import DeseqStats\n",
    "from pydeseq2.utils import load_example_data"
   ]
  },
  {
   "cell_type": "code",
   "execution_count": null,
   "id": "5f3e83db",
   "metadata": {},
   "outputs": [],
   "source": [
    "gex_df = pd.read_csv(\"/add/path/here/GSE207526_110.EAC.and.10.Normal.for.GSEA.txt\",sep=\"\\t\").iloc[1:,:].T\n",
    "\n",
    "gencode_mapping = pd.read_csv(\"/add/path/here/gencode_v41_positions.csv\",index_col=0)\n",
    "\n",
    "tpm = get_tpm(gencode_mapping, gex_df)"
   ]
  },
  {
   "cell_type": "code",
   "execution_count": null,
   "id": "c5726017",
   "metadata": {},
   "outputs": [],
   "source": [
    "survival_clin = pd.read_csv(\"/add/path/here/data.SPSS.subselect.txt\", sep=\"\\t\", index_col=0).set_index(\"FileName.GenomeScan\")"
   ]
  },
  {
   "cell_type": "code",
   "execution_count": null,
   "id": "7404f230",
   "metadata": {
    "scrolled": true
   },
   "outputs": [],
   "source": [
    "import GEOparse\n",
    "\n",
    "gse = GEOparse.get_GEO(geo=\"GSE207526\", destdir=\"/add/path/here/\")"
   ]
  },
  {
   "cell_type": "code",
   "execution_count": null,
   "id": "c5616b08",
   "metadata": {},
   "outputs": [],
   "source": [
    "clinical_df = []\n",
    "for gsm_name, gsm in gse.gsms.items():\n",
    "    name = gsm.metadata[\"title\"][0].split(\" \")[1]\n",
    "    gsmid = gsm.metadata[\"geo_accession\"][0]\n",
    "    charac = gsm.metadata[\"characteristics_ch1\"]\n",
    "    disease = charac[0].split(\": \")[1]\n",
    "    treated = charac[1].split(\": \")[1]\n",
    "\n",
    "    df = pd.DataFrame([name,gsmid,disease,treated]).T\n",
    "    df.columns=[\"ID\",\"GSM_ID\",\"Disease\",\"Treatment\"]\n",
    "    clinical_df.append(df)\n",
    "    \n",
    "\n",
    "clinical_df = pd.concat(clinical_df).set_index(\"ID\")\n",
    "\n",
    "clinical_df[\"Status\"] = clinical_df[\"Disease\"].replace({\"esophageal adenocarcinoma\": \"EAC\", \"healthy squamous cell tissue from patient with esophageal adenocarcinoma\": \"NAT\"})\n",
    "\n",
    "clinical_df[\"Study\"] = clinical_df.index.str.split(\".\").str[0]\n",
    "\n",
    "clinical_df = pd.concat([clinical_df,survival_clin],axis=1)\n",
    "\n",
    "clinical_df[\"OS.status\"] = clinical_df[\"OS.status\"].replace({\"Alive or censored\": 0, \"Deceased\": 1})\n",
    "\n",
    "clinical_df[\"Stage\"] = clinical_df[\"AJCC_baseline_detailed\"].replace({\"stage IIIA\": \"III\",\n",
    "                                                                      \"stage IV\": \"IV\",\n",
    "                                                                      \"stage IIIB\": \"III\", \n",
    "                                                                      \"stage IIB\": \"II\",\n",
    "                                               \"stage IIIC\": \"III\", \"stage IIA\": \"II\",\n",
    "                                               \"not possible to stage\": np.nan})\n",
    "\n",
    "clinical_df = clinical_df[clinical_df.Status==\"EAC\"]"
   ]
  },
  {
   "cell_type": "code",
   "execution_count": null,
   "id": "1ec7ac33",
   "metadata": {},
   "outputs": [],
   "source": [
    "tpm = tpm.loc[clinical_df.index]"
   ]
  },
  {
   "cell_type": "code",
   "execution_count": null,
   "id": "c864ed14",
   "metadata": {},
   "outputs": [],
   "source": [
    "signature_dir = pl.Path(\"/add/path/here/signatures_canceronly/\")\n",
    "\n",
    "full_sigs = {}\n",
    "for s in (signature_dir).iterdir():\n",
    "    sig = s.stem\n",
    "    full_sigs[sig] = pd.read_csv(s,index_col=0).set_index(\"0\")\n",
    "    full_sigs[sig] = full_sigs[sig][~full_sigs[sig].index.str.startswith((\"MT-\",\"RPS\",\"RPL\"))]\n",
    "    full_sigs[sig] = full_sigs[sig].index.ravel()"
   ]
  },
  {
   "cell_type": "code",
   "execution_count": null,
   "id": "b63c909e",
   "metadata": {},
   "outputs": [],
   "source": [
    "import gseapy as gp\n",
    "ss = gp.ssgsea(data=tpm.T,\n",
    "               gene_sets=full_sigs.copy(),\n",
    "               outdir=None,\n",
    "               sample_norm_method='rank', # choose 'custom' will only use the raw value of `data`\n",
    "               no_plot=True)\n",
    "\n",
    "state_score = ss.res2d.T"
   ]
  },
  {
   "cell_type": "code",
   "execution_count": null,
   "id": "d7164434",
   "metadata": {},
   "outputs": [],
   "source": [
    "state_score = pd.concat([state_score,clinical_df],axis=1)"
   ]
  },
  {
   "cell_type": "code",
   "execution_count": null,
   "id": "0a347e04",
   "metadata": {},
   "outputs": [],
   "source": [
    "import matplotlib\n",
    "import matplotlib.cm as cm\n",
    "import matplotlib.colors as mcolors\n",
    "\n",
    "from sklearn.decomposition import PCA\n",
    "pca = PCA(n_components=2)\n",
    "\n",
    "std_fpkm = (tpm - tpm.mean())/tpm.std()\n",
    "std_fpkm = std_fpkm.dropna(axis=1)\n",
    "X_pca = pca.fit_transform(std_fpkm)\n",
    "X_pca = pd.DataFrame(X_pca,index=std_fpkm.index,columns=[f\"PC{i}\" for i in range(1,3)])\n",
    "\n",
    "X_pca = pd.concat([X_pca, state_score[[\"cNMF_1\",\"cNMF_2\",\"cNMF_3\",\"cNMF_4\",\"cNMF_5\"]]],axis=1)\n",
    "X_pca.columns = [\"PC1\",\"PC2\",\"cNMF$_{1}$\",\"cNMF$_{2}$\",\"cNMF$_{3}$\",\"cNMF$_{4}$\",\"cNMF$_{5}$\"]\n",
    "\n",
    "def plot_pcs_color(ax, state):\n",
    "    vcenter = X_pca[state].median()\n",
    "    vmin, vmax = X_pca[state].min(), X_pca[state].max()\n",
    "    normalize = mcolors.TwoSlopeNorm(vcenter=vcenter, vmin=vmin, vmax=vmax)\n",
    "    colormap = matplotlib.colormaps['RdBu_r']\n",
    "    sns.scatterplot(\n",
    "        y=X_pca[\"PC2\"],\n",
    "        x=X_pca[\"PC1\"],\n",
    "        c=X_pca[state],\n",
    "        s=10,\n",
    "        norm=normalize,\n",
    "        cmap=colormap,\n",
    "        ax=ax\n",
    "    )\n",
    "    scalarmappaple = cm.ScalarMappable(norm=normalize, cmap=colormap)\n",
    "    scalarmappaple.set_array(X_pca[state])\n",
    "    fig.colorbar(scalarmappaple, ax=ax)\n",
    "    ax.set_title(state)\n",
    "    pretty_ax(ax)\n",
    "\n",
    "fig, ax = plt.subplots(1,5, figsize=(15,2))\n",
    "flatax = ax.flatten()\n",
    "\n",
    "plot_pcs_color(flatax[0], \"cNMF$_{1}$\")\n",
    "plot_pcs_color(flatax[1], \"cNMF$_{2}$\")\n",
    "plot_pcs_color(flatax[2], \"cNMF$_{3}$\")\n",
    "plot_pcs_color(flatax[3], \"cNMF$_{4}$\")\n",
    "plot_pcs_color(flatax[4], \"cNMF$_{5}$\")\n",
    "\n",
    "fig.tight_layout()\n"
   ]
  },
  {
   "cell_type": "markdown",
   "id": "ec863aab",
   "metadata": {},
   "source": [
    "# Survival data"
   ]
  },
  {
   "cell_type": "code",
   "execution_count": null,
   "id": "6b91fa2f",
   "metadata": {},
   "outputs": [],
   "source": [
    "from lifelines import KaplanMeierFitter, CoxPHFitter\n",
    "from lifelines.statistics import logrank_test"
   ]
  },
  {
   "cell_type": "code",
   "execution_count": null,
   "id": "23714177",
   "metadata": {
    "scrolled": false
   },
   "outputs": [],
   "source": [
    "clin = state_score[[f\"cNMF_{i}\" for i in range(1,4)]+[\"OS.days\",\"OS.status\"]].dropna()\n",
    "\n",
    "cox_results = []\n",
    "for state in [\"cNMF_1\",\"cNMF_2\",\"cNMF_3\",\"cNMF_4\",\"cNMF_5\"]: \n",
    "    expr = state_score[state]\n",
    "    expr = (expr - expr.mean())/expr.std()\n",
    "    cox_clin = pd.concat([clin[[\"OS.status\",\"OS.days\",]],expr],axis=1).dropna()\n",
    "    \n",
    "    cph = CoxPHFitter()\n",
    "    cph.fit(cox_clin, duration_col=\"OS.days\", event_col=\"OS.status\")\n",
    "    summ = cph.summary\n",
    "    summ = summ.rename(index={\"age\": f\"{state}_age\", \"gender\": f\"{state}_gender\"})\n",
    "    cox_results.append(summ)\n",
    "\n",
    "cox_results = pd.concat(cox_results)\n",
    "\n",
    "ps = cox_results.loc[:,\"p\"].ravel()\n",
    "x = cox_results.loc[:,\"exp(coef)\"].ravel()\n",
    "lower = cox_results.loc[:,\"exp(coef) lower 95%\"].ravel()\n",
    "upper = cox_results.loc[:,\"exp(coef) upper 95%\"].ravel()\n",
    "ci = [x - lower, upper - x]\n",
    "names = cox_results.index\n",
    "colorlist = [\"red\" if ((x[i] - ci[0][i])>1 and (ci[1][i] + x[i])>1) else (\"blue\" if ((x[i] - ci[0][i])<1 and (ci[1][i] + x[i])<1) else \"black\") for i in range(len(ci[0]))]\n",
    "\n",
    "fig, ax = plt.subplots(1,1,figsize=(3,3))\n",
    "ax.errorbar(x,np.arange(0,len(x))[::-1],\n",
    "            xerr=ci, marker=\"s\",\n",
    "            linewidth=0,\n",
    "            elinewidth=2,\n",
    "            ecolor=colorlist,\n",
    "            markerfacecolor=\"black\",\n",
    "            markeredgecolor=\"black\")\n",
    "ax.spines[[\"bottom\",\"left\"]].set_linewidth(2)\n",
    "ax.spines[[\"top\",\"right\"]].set_visible(False)\n",
    "ax.vlines(1,ymin=ax.get_ylim()[0],ymax=ax.get_ylim()[1],linestyle=\"--\",color=\"grey\")\n",
    "ax.set_yticks(np.arange(0,len(x)))\n",
    "ax.set_yticklabels([\"cNMF$_{1}$\",\"cNMF$_{2}$\",\"cNMF$_{3}$\",\"cNMF$_{4}$\",\"cNMF$_{5}$\"][::-1])\n",
    "for i,p in enumerate(ps[::-1]):\n",
    "    ax.text(ax.get_xlim()[1], i, f\"p={p:.2e}\")\n",
    "    \n",
    "fig.savefig(\"figures/survival_GSE207526_cox_plot.svg\", dpi=200, bbox_inches=\"tight\")"
   ]
  },
  {
   "cell_type": "code",
   "execution_count": null,
   "id": "ba617eed",
   "metadata": {},
   "outputs": [],
   "source": []
  }
 ],
 "metadata": {
  "kernelspec": {
   "display_name": "Python 3 (ipykernel)",
   "language": "python",
   "name": "python3"
  },
  "language_info": {
   "codemirror_mode": {
    "name": "ipython",
    "version": 3
   },
   "file_extension": ".py",
   "mimetype": "text/x-python",
   "name": "python",
   "nbconvert_exporter": "python",
   "pygments_lexer": "ipython3",
   "version": "3.9.16"
  }
 },
 "nbformat": 4,
 "nbformat_minor": 5
}
