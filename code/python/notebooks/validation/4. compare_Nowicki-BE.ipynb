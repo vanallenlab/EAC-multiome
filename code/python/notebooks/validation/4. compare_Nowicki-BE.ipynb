{
 "cells": [
  {
   "cell_type": "code",
   "execution_count": null,
   "id": "037a077c",
   "metadata": {},
   "outputs": [],
   "source": [
    "import pandas as pd\n",
    "import numpy as np\n",
    "import scanpy as sc\n",
    "import pathlib as pl\n",
    "from sklearn.preprocessing import StandardScaler\n",
    "\n",
    "import seaborn as sns\n",
    "import matplotlib.pyplot as plt\n",
    "\n",
    "import signaturescoring as ssc\n",
    "\n",
    "from tqdm.notebook import tqdm\n",
    "\n",
    "from statannotations.Annotator import Annotator"
   ]
  },
  {
   "cell_type": "code",
   "execution_count": null,
   "id": "69c539fc",
   "metadata": {},
   "outputs": [],
   "source": [
    "from scipy.stats import fisher_exact"
   ]
  },
  {
   "cell_type": "code",
   "execution_count": null,
   "id": "83d46443",
   "metadata": {},
   "outputs": [],
   "source": [
    "def pretty_ax(ax):\n",
    "    ax.spines['right'].set_visible(False)\n",
    "    ax.spines['top'].set_visible(False)\n",
    "    ax.tick_params(\n",
    "        axis='both',  \n",
    "        which='both',      \n",
    "        bottom=True,     \n",
    "        top=False,\n",
    "        left=False,\n",
    "        labelbottom=True,\n",
    "        labelleft = True)\n",
    "    ax.spines[\"bottom\"].set_linewidth(1.5)\n",
    "    ax.spines[\"left\"].set_linewidth(1.5)"
   ]
  },
  {
   "cell_type": "code",
   "execution_count": null,
   "id": "2a9b90b2",
   "metadata": {},
   "outputs": [],
   "source": [
    "signature_dir = pl.Path(\"/Users/josephineyates/Documents/VisitingPhd_VanAllenLab/cNMF_malignant_genes_new_cosine\")\n",
    "\n",
    "full_sigs = {}\n",
    "for s in (signature_dir).iterdir():\n",
    "    sig = s.stem\n",
    "    full_sigs[sig] = pd.read_csv(s,index_col=0)\n",
    "    _N_GENES = full_sigs[sig].shape[0]\n",
    "    full_sigs[sig] = full_sigs[sig][~full_sigs[sig].index.str.startswith((\"MT-\",\"RPS\",\"RPL\"))]\n",
    "    #full_sigs[sig] = full_sigs[sig].head(100).index.ravel()"
   ]
  },
  {
   "cell_type": "code",
   "execution_count": null,
   "id": "46b2e10d",
   "metadata": {},
   "outputs": [],
   "source": [
    "science_path = pl.Path(\"/Users/josephineyates/Documents/VisitingPhd_VanAllenLab/auxiliary_data/ScienceNowickiFitzgerald_Barretts_data\")"
   ]
  },
  {
   "cell_type": "code",
   "execution_count": null,
   "id": "98b6d9d6",
   "metadata": {},
   "outputs": [],
   "source": [
    "science_sigs = {}\n",
    "for f in science_path.iterdir():\n",
    "    if f.stem==\".DS_Store\":\n",
    "        continue\n",
    "    science_sigs[f.stem] = pd.read_csv(f,index_col=0)"
   ]
  },
  {
   "cell_type": "code",
   "execution_count": null,
   "id": "81037d3f",
   "metadata": {},
   "outputs": [],
   "source": [
    "from scipy.stats import fisher_exact"
   ]
  },
  {
   "cell_type": "code",
   "execution_count": null,
   "id": "507d595b",
   "metadata": {},
   "outputs": [],
   "source": [
    "from matplotlib_venn import venn2"
   ]
  },
  {
   "cell_type": "code",
   "execution_count": null,
   "id": "4ae84b5a",
   "metadata": {},
   "outputs": [],
   "source": [
    "import gseapy as gp"
   ]
  },
  {
   "cell_type": "code",
   "execution_count": null,
   "id": "b416029f",
   "metadata": {},
   "outputs": [],
   "source": [
    "gene_sets = {}\n",
    "for state in science_sigs:\n",
    "    if state==\"BE_endocrine_specific\":\n",
    "        gene_sets[state] = science_sigs[\"BE_endocrine_specific\"].index.ravel()\n",
    "    elif \"Symbol\" in science_sigs[state].columns:\n",
    "        gene_sets[state] = science_sigs[state][\"Symbol\"].ravel()\n",
    "    else:\n",
    "        gene_sets[state] = science_sigs[state][\"Genename\"].ravel()"
   ]
  },
  {
   "cell_type": "code",
   "execution_count": null,
   "id": "5eb3fc67",
   "metadata": {},
   "outputs": [],
   "source": [
    "from gseapy import gseaplot"
   ]
  },
  {
   "cell_type": "code",
   "execution_count": null,
   "id": "5cc2f096",
   "metadata": {},
   "outputs": [],
   "source": [
    "gsea_results = {}\n",
    "\n",
    "for state_name in sorted(full_sigs):\n",
    "    \n",
    "    pre_res = gp.prerank(rnk=full_sigs[state_name], # or rnk = rnk,\n",
    "                         gene_sets=gene_sets,\n",
    "                         min_size=5,\n",
    "                         max_size=1000,\n",
    "                         permutation_num=1000, # reduce number to speed up testing\n",
    "                         outdir=None, # don't write to disk\n",
    "                         seed=6,\n",
    "                         verbose=True, # see what's going on behind the scenes\n",
    "                        )\n",
    "    gsea_results[state_name] = pre_res.res2d.sort_values(by=\"nes\",ascending=False)\n",
    "    gsea_results[state_name][\"state\"] = state_name\n",
    "    \n",
    "    selterms = gsea_results[state_name][gsea_results[state_name].nes>2.5].index\n",
    "    for term in selterms:\n",
    "        gseaplot(rank_metric=pre_res.ranking, term=term, ofname=f'figures/gsea_figures/{state_name}_{term}.pdf', **pre_res.results[term])"
   ]
  },
  {
   "cell_type": "code",
   "execution_count": null,
   "id": "dba9f0f7",
   "metadata": {},
   "outputs": [],
   "source": [
    "gsea_df = pd.concat(list(gsea_results.values()))"
   ]
  },
  {
   "cell_type": "code",
   "execution_count": null,
   "id": "1fc2871d",
   "metadata": {},
   "outputs": [],
   "source": [
    "gsea_df[(gsea_df[\"nes\"]>2.5) & (gsea_df[\"fdr\"]<0.05)].dropna()"
   ]
  },
  {
   "cell_type": "code",
   "execution_count": null,
   "id": "767a3fa2",
   "metadata": {},
   "outputs": [],
   "source": []
  },
  {
   "cell_type": "code",
   "execution_count": null,
   "id": "4f5db97a",
   "metadata": {},
   "outputs": [],
   "source": []
  }
 ],
 "metadata": {
  "kernelspec": {
   "display_name": "Python 3 (ipykernel)",
   "language": "python",
   "name": "python3"
  },
  "language_info": {
   "codemirror_mode": {
    "name": "ipython",
    "version": 3
   },
   "file_extension": ".py",
   "mimetype": "text/x-python",
   "name": "python",
   "nbconvert_exporter": "python",
   "pygments_lexer": "ipython3",
   "version": "3.9.16"
  }
 },
 "nbformat": 4,
 "nbformat_minor": 5
}
