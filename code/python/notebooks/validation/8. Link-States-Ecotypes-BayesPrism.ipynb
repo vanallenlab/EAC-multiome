{
 "cells": [
  {
   "cell_type": "code",
   "execution_count": 1,
   "id": "2aaf0b3f",
   "metadata": {},
   "outputs": [],
   "source": [
    "import pandas as pd\n",
    "import numpy as np\n",
    "import pathlib as pl\n",
    "\n",
    "import matplotlib.pyplot as plt\n",
    "import seaborn as sns\n",
    "\n",
    "import scipy\n",
    "\n",
    "from sklearn.preprocessing import StandardScaler\n",
    "\n",
    "from statannotations.Annotator import Annotator"
   ]
  },
  {
   "cell_type": "code",
   "execution_count": null,
   "id": "dce8a3b1",
   "metadata": {},
   "outputs": [],
   "source": [
    "def pretty_ax(ax):\n",
    "    ax.spines['right'].set_visible(False)\n",
    "    ax.spines['top'].set_visible(False)\n",
    "    ax.tick_params(\n",
    "        axis='both',  \n",
    "        which='both',      \n",
    "        bottom=True,     \n",
    "        top=False,\n",
    "        left=False,\n",
    "        labelbottom=True,\n",
    "        labelleft = True)\n",
    "    ax.spines[\"bottom\"].set_linewidth(1.5)\n",
    "    ax.spines[\"left\"].set_linewidth(1.5)"
   ]
  },
  {
   "cell_type": "code",
   "execution_count": null,
   "id": "ea0db60b",
   "metadata": {},
   "outputs": [],
   "source": [
    "def get_tpm(gencode_mapping: pd.DataFrame, bulk: pd.DataFrame) -> pd.DataFrame:\n",
    "    gene_length = (gencode_mapping.set_index(\"gene_name\")[\"end\"] - gencode_mapping.set_index(\"gene_name\")[\"start\"])\n",
    "    gene_length = gene_length[~(gene_length.index.duplicated())]\n",
    "\n",
    "    bulk = bulk.loc[:,bulk.columns.intersection(gene_length.index)]\n",
    "    gene_length = gene_length.loc[bulk.columns.intersection(gene_length.index)]\n",
    "\n",
    "    full_rpk = bulk/gene_length\n",
    "\n",
    "    pm_factor = full_rpk.sum(axis=1)/1000000\n",
    "\n",
    "    tpm = (full_rpk.T / pm_factor).T\n",
    "    \n",
    "    return tpm"
   ]
  },
  {
   "cell_type": "code",
   "execution_count": null,
   "id": "2e28caf7",
   "metadata": {},
   "outputs": [],
   "source": [
    "import os\n",
    "os.makedirs(\"figures/ecotypes/\", exist_ok=True)"
   ]
  },
  {
   "cell_type": "code",
   "execution_count": null,
   "id": "b34e0955",
   "metadata": {},
   "outputs": [],
   "source": []
  },
  {
   "cell_type": "code",
   "execution_count": null,
   "id": "24475097",
   "metadata": {},
   "outputs": [],
   "source": [
    "tcga_dir = pl.Path(\"/add/path/here/\")"
   ]
  },
  {
   "cell_type": "code",
   "execution_count": 2,
   "id": "1c9947c6",
   "metadata": {},
   "outputs": [
    {
     "name": "stderr",
     "output_type": "stream",
     "text": [
      "/var/folders/y0/0jmz5bl96kb57fmb09fl6fdw0000gn/T/ipykernel_29468/483154761.py:2: FutureWarning: The default value of regex will change from True to False in a future version. In addition, single character regular expressions will *not* be treated as literal strings when regex=True.\n",
      "  bp_eac.index = bp_eac.index.str.replace(\".\",\"-\").str[:-1]\n",
      "/var/folders/y0/0jmz5bl96kb57fmb09fl6fdw0000gn/T/ipykernel_29468/483154761.py:7: FutureWarning: The default value of regex will change from True to False in a future version. In addition, single character regular expressions will *not* be treated as literal strings when regex=True.\n",
      "  bp_eac_carroll.index = bp_eac_carroll.index.str.replace(\".\",\"-\")\n"
     ]
    }
   ],
   "source": [
    "bp_eac = pd.read_csv(\"/add/path/here/eac_purity.csv\",index_col=0)\n",
    "bp_eac.index = bp_eac.index.str.replace(\".\",\"-\").str[:-1]\n",
    "\n",
    "bp_eac_gse = pd.read_csv(\"/add/path/here/eac_gse_purity.csv\",index_col=0)\n",
    "\n",
    "bp_eac_carroll = pd.read_csv(\"/add/path/here/eac_carroll_purity.csv\",index_col=0)\n",
    "bp_eac_carroll.index = bp_eac_carroll.index.str.replace(\".\",\"-\")"
   ]
  },
  {
   "cell_type": "code",
   "execution_count": null,
   "id": "7ad2a306",
   "metadata": {},
   "outputs": [],
   "source": [
    "purity = pd.read_csv(\"/add/path/here/TCGA_absolute_purity.txt\",index_col=0,sep=\"\\t\") # for ESCA"
   ]
  },
  {
   "cell_type": "code",
   "execution_count": null,
   "id": "22a184ff",
   "metadata": {},
   "outputs": [],
   "source": [
    "joint_purity = pd.concat([purity[\"purity\"], bp_eac[\"tumor\"]],axis=1).dropna()"
   ]
  },
  {
   "cell_type": "code",
   "execution_count": null,
   "id": "bb40fd6c",
   "metadata": {},
   "outputs": [],
   "source": [
    "from scipy.stats import pearsonr\n",
    "r,p = pearsonr(joint_purity.tumor.ravel(), joint_purity.purity.ravel())\n",
    "\n",
    "fig, ax = plt.subplots(1,1,figsize=(3,2))\n",
    "sns.regplot(data=joint_purity, y=\"tumor\", x=\"purity\",ax=ax)\n",
    "pretty_ax(ax)\n",
    "ax.text(0.75,0.1,f\"R={r:.2f}\\np={p:.1e}\",fontsize=10)\n",
    "ax.set_ylabel(\"BayesPrism Purity\")\n",
    "ax.set_xlabel(\"ABSOLUTE Purity\")"
   ]
  },
  {
   "cell_type": "code",
   "execution_count": null,
   "id": "434c238d",
   "metadata": {},
   "outputs": [],
   "source": [
    "clinical_full = pd.read_csv(tcga_dir / \"TCGA.ESCA.sampleMap_ESCA_clinicalMatrix\", sep=\"\\t\", index_col=0)"
   ]
  },
  {
   "cell_type": "code",
   "execution_count": null,
   "id": "399c5813",
   "metadata": {},
   "outputs": [],
   "source": [
    "fpkm = pd.read_csv(tcga_dir / \"TCGA-ESCA.htseq_fpkm-uq.tsv.gz\",sep=\"\\t\",index_col=0).T\n",
    "fpkm.index = fpkm.index.str[:15]"
   ]
  },
  {
   "cell_type": "code",
   "execution_count": null,
   "id": "2529e94a",
   "metadata": {},
   "outputs": [],
   "source": [
    "gencode = pd.read_csv(tcga_dir /\"gencode_mapping_table.csv\")\n",
    "gencode = gencode.set_index('gencode_id_gex')\n",
    "\n",
    "mapping_gen = gencode.loc[fpkm.columns.intersection(gencode.index)].gene_name.to_dict()\n",
    "fpkm = fpkm.loc[:,fpkm.columns.intersection(gencode.index)]\n",
    "fpkm = fpkm.rename(columns=mapping_gen)\n",
    "fpkm = fpkm.loc[:,~(fpkm.columns.duplicated())]"
   ]
  },
  {
   "cell_type": "code",
   "execution_count": null,
   "id": "2610647f",
   "metadata": {},
   "outputs": [],
   "source": [
    "eac_patients = clinical_full[clinical_full[\"histological_type\"]==\"Esophagus Adenocarcinoma, NOS\"].index\n",
    "eac_patients = fpkm.index.intersection(eac_patients)\n",
    "\n",
    "normal_patients = eac_patients[eac_patients.str.contains(\"-11\")]\n",
    "eac_patients = eac_patients[~eac_patients.str.contains(\"-11\")]"
   ]
  },
  {
   "cell_type": "code",
   "execution_count": null,
   "id": "aa443e8b",
   "metadata": {},
   "outputs": [],
   "source": [
    "fpkm_eac = fpkm.loc[eac_patients]"
   ]
  },
  {
   "cell_type": "code",
   "execution_count": null,
   "id": "5a87ff95",
   "metadata": {},
   "outputs": [],
   "source": [
    "gex_df = pd.read_csv(\"/add/path/here/GSE207526_110.EAC.and.10.Normal.for.GSEA.txt\",sep=\"\\t\").iloc[1:,:].T\n",
    "\n",
    "gencode_mapping = pd.read_csv(\"/add/path/here/gencode_v41_positions.csv\",index_col=0)\n",
    "\n",
    "tpm = get_tpm(gencode_mapping, gex_df)"
   ]
  },
  {
   "cell_type": "code",
   "execution_count": null,
   "id": "7db5718d",
   "metadata": {},
   "outputs": [],
   "source": [
    "gex_df2 = pd.read_csv(\"/add/path/here/bulk_preprocessed.csv\",index_col=0).T\n",
    "\n",
    "gencode_mapping = pd.read_csv(\"/add/path/here/gencode_v41_positions.csv\",index_col=0)\n",
    "\n",
    "tpm2 = get_tpm(gencode_mapping, gex_df2)"
   ]
  },
  {
   "cell_type": "code",
   "execution_count": null,
   "id": "83c30d5b",
   "metadata": {},
   "outputs": [],
   "source": [
    "signature_dir = pl.Path(\"/add/path/here/signatures_canceronly/\")\n",
    "\n",
    "full_sigs = {}\n",
    "for s in (signature_dir).iterdir():\n",
    "    sig = s.stem\n",
    "    full_sigs[sig] = pd.read_csv(s,index_col=0).set_index(\"0\")\n",
    "    full_sigs[sig] = full_sigs[sig][~full_sigs[sig].index.str.startswith((\"MT-\",\"RPS\",\"RPL\"))]\n",
    "    full_sigs[sig] = full_sigs[sig].index.ravel()"
   ]
  },
  {
   "cell_type": "code",
   "execution_count": null,
   "id": "aa7520cb",
   "metadata": {},
   "outputs": [],
   "source": [
    "from itertools import chain\n",
    "full_tpm = pd.concat([fpkm_eac, tpm, tpm2]).dropna(axis=1)\n",
    "full_tpm[\"Study\"] = list(chain([\"TCGA\"]*fpkm_eac.shape[0],[\"Hoefnagel\"]*tpm.shape[0],[\"Carroll\"]*tpm2.shape[0]))"
   ]
  },
  {
   "cell_type": "code",
   "execution_count": null,
   "id": "4dc3716f",
   "metadata": {
    "scrolled": true
   },
   "outputs": [],
   "source": [
    "import gseapy as gp\n",
    "\n",
    "ss = gp.ssgsea(data=full_tpm.drop(\"Study\", axis=1).T,\n",
    "               gene_sets=full_sigs.copy(),\n",
    "               min_size=10,\n",
    "               outdir=None,\n",
    "               sample_norm_method='rank', # choose 'custom' will only use the raw value of `data`\n",
    "               no_plot=True)\n",
    "\n",
    "state_score = ss.res2d.T"
   ]
  },
  {
   "cell_type": "code",
   "execution_count": null,
   "id": "a5bd7f30",
   "metadata": {},
   "outputs": [],
   "source": [
    "rel_prop = bp_eac.drop([\"tumor\",\"NonSquamous_Epithelium\",\"Squamous_Epithelium\"],axis=1)\n",
    "rel_prop = (rel_prop - rel_prop.min())/(rel_prop.max() - rel_prop.min())\n",
    "rel_prop = rel_prop.loc[eac_patients]\n",
    "\n",
    "rel_prop_gse = bp_eac_gse.drop([\"tumor\",\"NonSquamous_Epithelium\",\"Squamous_Epithelium\"],axis=1)\n",
    "rel_prop_gse = (rel_prop_gse - rel_prop_gse.min())/(rel_prop_gse.max() - rel_prop_gse.min())\n",
    "\n",
    "rel_prop_carroll = bp_eac_carroll.drop([\"tumor\",\"NonSquamous_Epithelium\",\"Squamous_Epithelium\"],axis=1)\n",
    "rel_prop_carroll = (rel_prop_carroll - rel_prop_carroll.min())/(rel_prop_carroll.max() - rel_prop_carroll.min())\n",
    "\n",
    "full_rel_prop = pd.concat([rel_prop,rel_prop_gse,rel_prop_carroll])"
   ]
  },
  {
   "cell_type": "code",
   "execution_count": null,
   "id": "066595ee",
   "metadata": {},
   "outputs": [],
   "source": [
    "study = pd.DataFrame(list(chain([\"TCGA\"]*fpkm_eac.shape[0],[\"Hoefnagel\"]*tpm.shape[0],[\"Carroll\"]*tpm2.shape[0])),\n",
    "                     index=full_rel_prop.index,columns=[\"Study\"])"
   ]
  },
  {
   "cell_type": "code",
   "execution_count": null,
   "id": "1eecbe08",
   "metadata": {
    "scrolled": true
   },
   "outputs": [],
   "source": [
    "ax = sns.clustermap(data=full_rel_prop, cmap=\"vlag\", method=\"ward\", )"
   ]
  },
  {
   "cell_type": "code",
   "execution_count": null,
   "id": "58101aaf",
   "metadata": {},
   "outputs": [],
   "source": [
    "lnkg = ax.dendrogram_row.linkage"
   ]
  },
  {
   "cell_type": "code",
   "execution_count": null,
   "id": "96380f2c",
   "metadata": {},
   "outputs": [],
   "source": [
    "clusters = scipy.cluster.hierarchy.fcluster(lnkg, t=6, criterion=\"maxclust\")"
   ]
  },
  {
   "cell_type": "code",
   "execution_count": null,
   "id": "951eae3e",
   "metadata": {},
   "outputs": [],
   "source": [
    "row_colors = pd.DataFrame(clusters, index=full_rel_prop.index, columns=[\"Ecotype\"])\n",
    "row_colors = row_colors.replace({1: \"red\", 2: \"blue\", 3: \"purple\", 4: \"yellow\", 5: \"green\", 6: \"pink\"})\n",
    "row_colors = pd.concat([row_colors, study.replace({\"TCGA\": \"dimgrey\", \"Hoefnagel\": \"darkgreen\", \"Carroll\": \"cornflowerblue\"})],axis=1)"
   ]
  },
  {
   "cell_type": "code",
   "execution_count": null,
   "id": "09af05cb",
   "metadata": {},
   "outputs": [],
   "source": [
    "ax = sns.clustermap(data=full_rel_prop, cmap=\"vlag\", method=\"ward\", row_colors=row_colors, figsize=(5,6), tree_kws={\"linewidth\": 2})\n",
    "ax.ax_heatmap.yaxis.set_visible(False)\n",
    "ax.figure.savefig(\"figures/ecotypes/ecotype_5eco_heatmap.svg\", dpi=200, bbox_inches=\"tight\")"
   ]
  },
  {
   "cell_type": "code",
   "execution_count": null,
   "id": "6387dac3",
   "metadata": {},
   "outputs": [],
   "source": [
    "row_colors.groupby(\"Study\").value_counts().unstack()"
   ]
  },
  {
   "cell_type": "code",
   "execution_count": null,
   "id": "53d3f854",
   "metadata": {},
   "outputs": [],
   "source": [
    "df = pd.concat([full_rel_prop,pd.DataFrame(clusters, index=full_rel_prop.index, columns=[\"Cluster\"])],axis=1)\n",
    "df.groupby(by=\"Cluster\").mean()"
   ]
  },
  {
   "cell_type": "code",
   "execution_count": null,
   "id": "8352fa21",
   "metadata": {},
   "outputs": [],
   "source": [
    "ecotypes = row_colors.replace({\"red\": \"Vasc. Endo.\", \n",
    "                    \"blue\": \"Immune/stromal desert\", \n",
    "                    \"purple\": \"Vasc. Endo.+Schwann\",\n",
    "                    \"yellow\": \"Vasc. Endo.+Fibroblast+Myeloid\", \n",
    "                    \"green\": \"B+Plasma\",\"pink\": \"T+NK+B\"})\n",
    "ecotypes.columns = [\"Ecotypes\",\"Study\"]\n",
    "ecotypes.Study = ecotypes.Study.replace({\"dimgrey\": \"TCGA\", \"darkgreen\": \"Hoefnagel\", \"cornflowerblue\": \"Carroll\"})\n",
    "\n",
    "df = pd.concat([state_score, ecotypes],axis=1)"
   ]
  },
  {
   "cell_type": "code",
   "execution_count": null,
   "id": "7a5ca396",
   "metadata": {},
   "outputs": [],
   "source": [
    "palette = {\"red\": \"Vasc. Endo.\", \n",
    "                    \"blue\": \"Immune/stromal desert\", \n",
    "                    \"purple\": \"Vasc. Endo.+Schwann\",\n",
    "                    \"yellow\": \"Vasc. Endo.+Fibroblast+Myeloid\", \n",
    "                    \"green\": \"B+Plasma\",\"pink\": \"T+NK+B\"}\n",
    "palette = {v: k for k,v in palette.items()}"
   ]
  },
  {
   "cell_type": "code",
   "execution_count": null,
   "id": "5872866b",
   "metadata": {},
   "outputs": [],
   "source": [
    "fig, ax = plt.subplots(1,1,figsize=(5,3))\n",
    "x=\"Ecotypes\"\n",
    "y=\"cNMF_3\"\n",
    "\n",
    "order = [\"Immune/stromal desert\",\n",
    "                   \"Vasc. Endo.\",\n",
    "                   \"Vasc. Endo.+Schwann\",\n",
    "         \"Vasc. Endo.+Fibroblast+Myeloid\",\n",
    "                   \"T+NK+B\",\n",
    "                   \"B+Plasma\"]\n",
    "#order = list(palette.keys())\n",
    "\n",
    "pairs = [(\"Immune/stromal desert\",\"Vasc. Endo.+Schwann\"),\n",
    "         (\"Immune/stromal desert\",\"Vasc. Endo.+Fibroblast+Myeloid\"),\n",
    "         (\"Immune/stromal desert\",\"Vasc. Endo.\"),\n",
    "         (\"Immune/stromal desert\",\"T+NK+B\"),(\"Immune/stromal desert\",\"B+Plasma\")]\n",
    "\n",
    "\n",
    "sns.boxplot(data=df, x=x, y=y, ax=ax, palette=palette, order=order)\n",
    "ax.set_xticklabels(ax.get_xticklabels(), rotation=45, ha=\"right\")\n",
    "pretty_ax(ax)\n",
    "ax.set_xlabel(\"\")\n",
    "annotator = Annotator(ax, pairs, data=df,\n",
    "                      x=x, y=y, order=order)\n",
    "annotator.configure(test='Mann-Whitney', text_format='simple', loc='inside')\n",
    "annotator.apply_and_annotate()\n",
    "#ax.hlines(xmin=ax.get_xlim()[0], xmax=ax.get_xlim()[1], y=0, color=\"grey\", linestyle=\"--\")\n",
    "ax.set_ylabel(\"cNMF$_{3}$\")\n",
    "\n",
    "fig.savefig(\"figures/ecotypes/cNMF_3_dist_5eco_boxplot.svg\", dpi=200, bbox_inches=\"tight\")"
   ]
  },
  {
   "cell_type": "code",
   "execution_count": null,
   "id": "6afcfa22",
   "metadata": {},
   "outputs": [],
   "source": [
    "fig, ax = plt.subplots(1,1,figsize=(5,3))\n",
    "x=\"Ecotypes\"\n",
    "y=\"cNMF_3\"\n",
    "hue=\"Study\"\n",
    "\n",
    "#order = list(palette.keys())\n",
    "order = [\"Immune/stromal desert\",\n",
    "                   \"Vasc. Endo.\",\n",
    "                   \"Vasc. Endo.+Schwann\",\n",
    "         \"Vasc. Endo.+Fibroblast+Myeloid\",\n",
    "                   \"T+NK+B\",\n",
    "                   \"B+Plasma\"]\n",
    "pairs = [\n",
    "         ((\"Immune/stromal desert\", \"TCGA\"), (\"Vasc. Endo.+Fibroblast+Myeloid\", \"TCGA\")),\n",
    "         ((\"Immune/stromal desert\", \"TCGA\"), (\"Vasc. Endo.\", \"TCGA\")),\n",
    "         ((\"Immune/stromal desert\", \"TCGA\"), (\"T+NK+B\", \"TCGA\")),\n",
    "         ((\"Immune/stromal desert\", \"TCGA\"), (\"B+Plasma\", \"TCGA\")),\n",
    "         ((\"Immune/stromal desert\", \"Hoefnagel\"), (\"Vasc. Endo.+Schwann\", \"Hoefnagel\")),\n",
    "         ((\"Immune/stromal desert\", \"Hoefnagel\"), (\"Vasc. Endo.+Fibroblast+Myeloid\", \"Hoefnagel\")),\n",
    "         ((\"Immune/stromal desert\", \"Hoefnagel\"), (\"Vasc. Endo.\", \"Hoefnagel\")),\n",
    "         ((\"Immune/stromal desert\", \"Hoefnagel\"), (\"T+NK+B\", \"Hoefnagel\")),\n",
    "         ((\"Immune/stromal desert\", \"Hoefnagel\"), (\"B+Plasma\", \"Hoefnagel\")),\n",
    "        ((\"Immune/stromal desert\", \"Carroll\"), (\"Vasc. Endo.+Schwann\", \"Carroll\")),\n",
    "         ((\"Immune/stromal desert\", \"Carroll\"), (\"Vasc. Endo.+Fibroblast+Myeloid\", \"Carroll\")),\n",
    "         ((\"Immune/stromal desert\", \"Carroll\"), (\"Vasc. Endo.\", \"Carroll\")),\n",
    "         ((\"Immune/stromal desert\", \"Carroll\"), (\"T+NK+B\", \"Carroll\")),\n",
    "         ((\"Immune/stromal desert\", \"Carroll\"), (\"B+Plasma\", \"Carroll\")),]\n",
    "\n",
    "\n",
    "sns.boxplot(data=df, x=x, y=y, ax=ax, order=order, hue=hue, palette={\"TCGA\": \"dimgrey\", \"Hoefnagel\": \"darkgreen\", \"Carroll\": \"cornflowerblue\"})\n",
    "ax.legend(bbox_to_anchor=(1,1,0,0),frameon=False)\n",
    "ax.set_xticklabels(ax.get_xticklabels(), rotation=45, ha=\"right\")\n",
    "pretty_ax(ax)\n",
    "ax.set_xlabel(\"\")\n",
    "#ax.hlines(xmin=ax.get_xlim()[0], xmax=ax.get_xlim()[1], y=0, color=\"grey\", linestyle=\"--\")\n",
    "annotator = Annotator(ax, pairs, data=df, hue=hue,\n",
    "                      x=x, y=y, order=order)\n",
    "annotator.configure(test='Mann-Whitney', text_format='simple', loc='inside')\n",
    "annotator.apply_and_annotate()\n",
    "ax.set_ylabel(\"cNMF$_{3}$\")\n",
    "\n",
    "fig.savefig(\"figures/ecotypes/cNMF_3_dist_5eco__perstudy_boxplot.svg\", dpi=200, bbox_inches=\"tight\")"
   ]
  },
  {
   "cell_type": "code",
   "execution_count": null,
   "id": "810da8e3",
   "metadata": {},
   "outputs": [],
   "source": [
    "fig, ax = plt.subplots(1,1,figsize=(5,3))\n",
    "x=\"Ecotypes\"\n",
    "y=\"cNMF_4\"\n",
    "\n",
    "order = [\"Immune/stromal desert\",\n",
    "                   \"Vasc. Endo.\",\n",
    "                   \"Vasc. Endo.+Schwann\",\n",
    "         \"Vasc. Endo.+Fibroblast+Myeloid\",\n",
    "                   \"T+NK+B\",\n",
    "                   \"B+Plasma\"]\n",
    "#order = list(palette.keys())\n",
    "\n",
    "pairs = [(\"Immune/stromal desert\",\"Vasc. Endo.+Schwann\"),\n",
    "         (\"Immune/stromal desert\",\"Vasc. Endo.+Fibroblast+Myeloid\"),\n",
    "         (\"Immune/stromal desert\",\"Vasc. Endo.\"),\n",
    "         (\"Immune/stromal desert\",\"T+NK+B\"),(\"Immune/stromal desert\",\"B+Plasma\")]\n",
    "\n",
    "\n",
    "sns.boxplot(data=df, x=x, y=y, ax=ax, palette=palette, order=order)\n",
    "ax.set_xticklabels(ax.get_xticklabels(), rotation=45, ha=\"right\")\n",
    "pretty_ax(ax)\n",
    "ax.set_xlabel(\"\")\n",
    "annotator = Annotator(ax, pairs, data=df,\n",
    "                      x=x, y=y, order=order)\n",
    "annotator.configure(test='Mann-Whitney', text_format='simple', loc='inside')\n",
    "annotator.apply_and_annotate()\n",
    "ax.set_ylabel(\"cNMF$_{4}$\")\n",
    "\n",
    "\n",
    "fig.savefig(\"figures/ecotypes/cNMF_4_dist_5eco_boxplot.svg\", dpi=200, bbox_inches=\"tight\")"
   ]
  },
  {
   "cell_type": "code",
   "execution_count": null,
   "id": "92d832cc",
   "metadata": {},
   "outputs": [],
   "source": [
    "fig, ax = plt.subplots(1,1,figsize=(5,3))\n",
    "x=\"Ecotypes\"\n",
    "y=\"cNMF_4\"\n",
    "hue=\"Study\"\n",
    "\n",
    "#order = list(palette.keys())\n",
    "order = [\"Immune/stromal desert\",\n",
    "                   \"Vasc. Endo.\",\n",
    "                   \"Vasc. Endo.+Schwann\",\n",
    "         \"Vasc. Endo.+Fibroblast+Myeloid\",\n",
    "                   \"T+NK+B\",\n",
    "                   \"B+Plasma\"]\n",
    "pairs = [\n",
    "         ((\"Immune/stromal desert\", \"TCGA\"), (\"Vasc. Endo.+Fibroblast+Myeloid\", \"TCGA\")),\n",
    "         ((\"Immune/stromal desert\", \"TCGA\"), (\"Vasc. Endo.\", \"TCGA\")),\n",
    "         ((\"Immune/stromal desert\", \"TCGA\"), (\"T+NK+B\", \"TCGA\")),\n",
    "         ((\"Immune/stromal desert\", \"TCGA\"), (\"B+Plasma\", \"TCGA\")),\n",
    "         ((\"Immune/stromal desert\", \"Hoefnagel\"), (\"Vasc. Endo.+Schwann\", \"Hoefnagel\")),\n",
    "         ((\"Immune/stromal desert\", \"Hoefnagel\"), (\"Vasc. Endo.+Fibroblast+Myeloid\", \"Hoefnagel\")),\n",
    "         ((\"Immune/stromal desert\", \"Hoefnagel\"), (\"Vasc. Endo.\", \"Hoefnagel\")),\n",
    "         ((\"Immune/stromal desert\", \"Hoefnagel\"), (\"T+NK+B\", \"Hoefnagel\")),\n",
    "         ((\"Immune/stromal desert\", \"Hoefnagel\"), (\"B+Plasma\", \"Hoefnagel\")),\n",
    "        ((\"Immune/stromal desert\", \"Carroll\"), (\"Vasc. Endo.+Schwann\", \"Carroll\")),\n",
    "         ((\"Immune/stromal desert\", \"Carroll\"), (\"Vasc. Endo.+Fibroblast+Myeloid\", \"Carroll\")),\n",
    "         ((\"Immune/stromal desert\", \"Carroll\"), (\"Vasc. Endo.\", \"Carroll\")),\n",
    "         ((\"Immune/stromal desert\", \"Carroll\"), (\"T+NK+B\", \"Carroll\")),\n",
    "         ((\"Immune/stromal desert\", \"Carroll\"), (\"B+Plasma\", \"Carroll\")),]\n",
    "\n",
    "\n",
    "sns.boxplot(data=df, x=x, y=y, ax=ax, order=order, hue=hue, palette={\"TCGA\": \"dimgrey\", \"Hoefnagel\": \"darkgreen\", \"Carroll\": \"cornflowerblue\"})\n",
    "ax.legend(bbox_to_anchor=(1,1,0,0),frameon=False)\n",
    "ax.set_xticklabels(ax.get_xticklabels(), rotation=45, ha=\"right\")\n",
    "pretty_ax(ax)\n",
    "ax.set_xlabel(\"\")\n",
    "#ax.hlines(xmin=ax.get_xlim()[0], xmax=ax.get_xlim()[1], y=0, color=\"grey\", linestyle=\"--\")\n",
    "annotator = Annotator(ax, pairs, data=df, hue=hue,\n",
    "                      x=x, y=y, order=order)\n",
    "annotator.configure(test='Mann-Whitney', text_format='simple', loc='inside')\n",
    "annotator.apply_and_annotate()\n",
    "ax.set_ylabel(\"cNMF$_{4}$\")\n",
    "\n",
    "\n",
    "fig.savefig(\"figures/ecotypes/cNMF_4_dist_5eco_perstudy_boxplot.svg\", dpi=200, bbox_inches=\"tight\")"
   ]
  },
  {
   "cell_type": "code",
   "execution_count": null,
   "id": "fa5ab1e6",
   "metadata": {},
   "outputs": [],
   "source": [
    "fig, ax = plt.subplots(1,1,figsize=(5,3))\n",
    "x=\"Ecotypes\"\n",
    "y=\"cNMF_5\"\n",
    "\n",
    "order = [\"Immune/stromal desert\",\n",
    "                   \"Vasc. Endo.\",\n",
    "                   \"Vasc. Endo.+Schwann\",\n",
    "         \"Vasc. Endo.+Fibroblast+Myeloid\",\n",
    "                   \"T+NK+B\",\n",
    "                   \"B+Plasma\"]\n",
    "#order = list(palette.keys())\n",
    "\n",
    "pairs = [(\"Immune/stromal desert\",\"Vasc. Endo.+Schwann\"),\n",
    "         (\"Immune/stromal desert\",\"Vasc. Endo.+Fibroblast+Myeloid\"),\n",
    "         (\"Immune/stromal desert\",\"Vasc. Endo.\"),\n",
    "         (\"Immune/stromal desert\",\"T+NK+B\"),(\"Immune/stromal desert\",\"B+Plasma\")]\n",
    "\n",
    "\n",
    "sns.boxplot(data=df, x=x, y=y, ax=ax, palette=palette, order=order)\n",
    "ax.set_xticklabels(ax.get_xticklabels(), rotation=45, ha=\"right\")\n",
    "pretty_ax(ax)\n",
    "ax.set_xlabel(\"\")\n",
    "annotator = Annotator(ax, pairs, data=df,\n",
    "                      x=x, y=y, order=order)\n",
    "annotator.configure(test='Mann-Whitney', text_format='simple', loc='inside')\n",
    "annotator.apply_and_annotate()\n",
    "ax.set_ylabel(\"cNMF$_{5}$\")\n",
    "\n",
    "fig.savefig(\"figures/ecotypes/cNMF_5_dist_5eco_boxplot.svg\", dpi=200, bbox_inches=\"tight\")"
   ]
  },
  {
   "cell_type": "code",
   "execution_count": null,
   "id": "80615e26",
   "metadata": {},
   "outputs": [],
   "source": [
    "fig, ax = plt.subplots(1,1,figsize=(5,3))\n",
    "x=\"Ecotypes\"\n",
    "y=\"cNMF_5\"\n",
    "hue=\"Study\"\n",
    "\n",
    "#order = list(palette.keys())\n",
    "order = [\"Immune/stromal desert\",\n",
    "                   \"Vasc. Endo.\",\n",
    "                   \"Vasc. Endo.+Schwann\",\n",
    "         \"Vasc. Endo.+Fibroblast+Myeloid\",\n",
    "                   \"T+NK+B\",\n",
    "                   \"B+Plasma\"]\n",
    "pairs = [\n",
    "         ((\"Immune/stromal desert\", \"TCGA\"), (\"Vasc. Endo.+Fibroblast+Myeloid\", \"TCGA\")),\n",
    "         ((\"Immune/stromal desert\", \"TCGA\"), (\"Vasc. Endo.\", \"TCGA\")),\n",
    "         ((\"Immune/stromal desert\", \"TCGA\"), (\"T+NK+B\", \"TCGA\")),\n",
    "         ((\"Immune/stromal desert\", \"TCGA\"), (\"B+Plasma\", \"TCGA\")),\n",
    "         ((\"Immune/stromal desert\", \"Hoefnagel\"), (\"Vasc. Endo.+Schwann\", \"Hoefnagel\")),\n",
    "         ((\"Immune/stromal desert\", \"Hoefnagel\"), (\"Vasc. Endo.+Fibroblast+Myeloid\", \"Hoefnagel\")),\n",
    "         ((\"Immune/stromal desert\", \"Hoefnagel\"), (\"Vasc. Endo.\", \"Hoefnagel\")),\n",
    "         ((\"Immune/stromal desert\", \"Hoefnagel\"), (\"T+NK+B\", \"Hoefnagel\")),\n",
    "         ((\"Immune/stromal desert\", \"Hoefnagel\"), (\"B+Plasma\", \"Hoefnagel\")),\n",
    "        ((\"Immune/stromal desert\", \"Carroll\"), (\"Vasc. Endo.+Schwann\", \"Carroll\")),\n",
    "         ((\"Immune/stromal desert\", \"Carroll\"), (\"Vasc. Endo.+Fibroblast+Myeloid\", \"Carroll\")),\n",
    "         ((\"Immune/stromal desert\", \"Carroll\"), (\"Vasc. Endo.\", \"Carroll\")),\n",
    "         ((\"Immune/stromal desert\", \"Carroll\"), (\"T+NK+B\", \"Carroll\")),\n",
    "         ((\"Immune/stromal desert\", \"Carroll\"), (\"B+Plasma\", \"Carroll\")),]\n",
    "\n",
    "\n",
    "sns.boxplot(data=df, x=x, y=y, ax=ax, order=order, hue=hue, palette={\"TCGA\": \"dimgrey\", \"Hoefnagel\": \"darkgreen\", \"Carroll\": \"cornflowerblue\"})\n",
    "ax.legend(bbox_to_anchor=(1,1,0,0),frameon=False)\n",
    "ax.set_xticklabels(ax.get_xticklabels(), rotation=45, ha=\"right\")\n",
    "pretty_ax(ax)\n",
    "ax.set_xlabel(\"\")\n",
    "#ax.hlines(xmin=ax.get_xlim()[0], xmax=ax.get_xlim()[1], y=0, color=\"grey\", linestyle=\"--\")\n",
    "annotator = Annotator(ax, pairs, data=df, hue=hue,\n",
    "                      x=x, y=y, order=order)\n",
    "annotator.configure(test='Mann-Whitney', text_format='simple', loc='inside')\n",
    "annotator.apply_and_annotate()\n",
    "ax.set_ylabel(\"cNMF$_{5}$\")\n",
    "\n",
    "fig.savefig(\"figures/ecotypes/cNMF_5_dist_5eco_perstudy_boxplot.svg\", dpi=200, bbox_inches=\"tight\")"
   ]
  },
  {
   "cell_type": "markdown",
   "id": "74f55cf6",
   "metadata": {},
   "source": [
    "# With n_cluster=2"
   ]
  },
  {
   "cell_type": "code",
   "execution_count": null,
   "id": "f3ce176c",
   "metadata": {},
   "outputs": [],
   "source": [
    "rel_prop = bp_eac.drop([\"tumor\",\"NonSquamous_Epithelium\",\"Squamous_Epithelium\"],axis=1)\n",
    "rel_prop = (rel_prop - rel_prop.min())/(rel_prop.max() - rel_prop.min())\n",
    "rel_prop = rel_prop.loc[eac_patients]\n",
    "\n",
    "rel_prop_gse = bp_eac_gse.drop([\"tumor\",\"NonSquamous_Epithelium\",\"Squamous_Epithelium\"],axis=1)\n",
    "rel_prop_gse = (rel_prop_gse - rel_prop_gse.min())/(rel_prop_gse.max() - rel_prop_gse.min())\n",
    "\n",
    "rel_prop_carroll = bp_eac_carroll.drop([\"tumor\",\"NonSquamous_Epithelium\",\"Squamous_Epithelium\"],axis=1)\n",
    "rel_prop_carroll = (rel_prop_carroll - rel_prop_carroll.min())/(rel_prop_carroll.max() - rel_prop_carroll.min())\n",
    "\n",
    "full_rel_prop = pd.concat([rel_prop,rel_prop_gse,rel_prop_carroll])"
   ]
  },
  {
   "cell_type": "code",
   "execution_count": null,
   "id": "55f0cd2d",
   "metadata": {},
   "outputs": [],
   "source": [
    "study = pd.DataFrame(list(chain([\"TCGA\"]*fpkm_eac.shape[0],[\"Hoefnagel\"]*tpm.shape[0],[\"Carroll\"]*tpm2.shape[0])),\n",
    "                     index=full_rel_prop.index,columns=[\"Study\"])"
   ]
  },
  {
   "cell_type": "code",
   "execution_count": null,
   "id": "2717ebf1",
   "metadata": {
    "scrolled": true
   },
   "outputs": [],
   "source": [
    "ax = sns.clustermap(data=full_rel_prop, cmap=\"vlag\", method=\"ward\", )"
   ]
  },
  {
   "cell_type": "code",
   "execution_count": null,
   "id": "dd0af107",
   "metadata": {},
   "outputs": [],
   "source": [
    "lnkg = ax.dendrogram_row.linkage"
   ]
  },
  {
   "cell_type": "code",
   "execution_count": null,
   "id": "e6481738",
   "metadata": {},
   "outputs": [],
   "source": [
    "clusters = scipy.cluster.hierarchy.fcluster(lnkg, t=2, criterion=\"maxclust\")"
   ]
  },
  {
   "cell_type": "code",
   "execution_count": null,
   "id": "60eff68c",
   "metadata": {},
   "outputs": [],
   "source": [
    "row_colors = pd.DataFrame(clusters, index=full_rel_prop.index, columns=[\"Ecotype\"])\n",
    "row_colors = row_colors.replace({1: \"brown\", 2: \"pink\"})\n",
    "row_colors.name = \"Ecotype\"\n",
    "row_colors = pd.concat([row_colors, study.replace({\"TCGA\": \"dimgrey\", \"Hoefnagel\": \"darkgreen\", \"Carroll\": \"cornflowerblue\"})],axis=1)"
   ]
  },
  {
   "cell_type": "code",
   "execution_count": null,
   "id": "92886c54",
   "metadata": {},
   "outputs": [],
   "source": [
    "ax = sns.clustermap(data=full_rel_prop, cmap=\"vlag\", method=\"ward\", row_colors=row_colors, figsize=(5,6), tree_kws={\"linewidth\": 2})\n",
    "#ax.ax_heatmap.yaxis.set_ticklabels([])\n",
    "ax.ax_heatmap.yaxis.set_visible(False)\n",
    "ax.ax_heatmap.set_xticks(ax.ax_heatmap.get_xticks(),ax.ax_heatmap.get_xticklabels(),rotation=45, ha='right')\n",
    "ax.figure.savefig(\"figures/ecotypes/ecotype_2eco_heatmap.svg\", dpi=200, bbox_inches=\"tight\")"
   ]
  },
  {
   "cell_type": "code",
   "execution_count": null,
   "id": "fbf42bef",
   "metadata": {},
   "outputs": [],
   "source": [
    "ecotypes = row_colors.replace({\"pink\": \"Immune/stromal activated\", \n",
    "                    \"brown\": \"Immune/stromal desert\",})\n",
    "ecotypes.columns = [\"Ecotypes\",\"Study\"]\n",
    "\n",
    "ecotypes.Study = ecotypes.Study.replace({\"dimgrey\": \"TCGA\", \"darkgreen\": \"Hoefnagel\", \"cornflowerblue\": \"Carroll\"})\n",
    "\n",
    "df = pd.concat([state_score, ecotypes],axis=1)"
   ]
  },
  {
   "cell_type": "code",
   "execution_count": null,
   "id": "ca39137b",
   "metadata": {},
   "outputs": [],
   "source": [
    "fig, ax = plt.subplots(1,5,figsize=(10,3))\n",
    "flatax = ax.flatten()\n",
    "x=\"Ecotypes\"\n",
    "palette= {\"Immune/stromal desert\": \"brown\", \n",
    "                            \"Immune/stromal activated\": \"pink\",}\n",
    "order = [\"Immune/stromal desert\",\"Immune/stromal activated\"]\n",
    "\n",
    "pairs = [(\"Immune/stromal desert\",\"Immune/stromal activated\"),]\n",
    "\n",
    "for i,y in enumerate([f\"cNMF_{i}\" for i in range(1,6)]):\n",
    "\n",
    "    sns.boxplot(data=df, x=x, y=y, ax=flatax[i], palette=palette, order=order)\n",
    "    flatax[i].set_xticks(flatax[i].get_xticks(), [\"Immune/stromal\\ndesert\", \"Immune/stromal\\nactivated\"], \n",
    "                         rotation=60, ha=\"right\")\n",
    "    pretty_ax(flatax[i])\n",
    "    flatax[i].set_xlabel(\"\")\n",
    "    annotator = Annotator(flatax[i], pairs, data=df,\n",
    "                          x=x, y=y, order=order)\n",
    "    annotator.configure(test='Mann-Whitney', text_format='simple', loc='inside', show_test_name=False,)\n",
    "    annotator.apply_and_annotate()\n",
    "    flatax[i].set_ylabel(f\"cNMF$_{i+1}$\")\n",
    "fig.tight_layout()"
   ]
  },
  {
   "cell_type": "code",
   "execution_count": null,
   "id": "972f0c69",
   "metadata": {
    "scrolled": true
   },
   "outputs": [],
   "source": [
    "unstacked = df[[\"cNMF_1\",'cNMF_2',\"cNMF_3\",\"cNMF_4\",\"cNMF_5\"]].unstack().reset_index()\n",
    "\n",
    "unstacked[\"Ecotype\"] = unstacked[\"level_1\"].replace((df[\"Study\"] + \" \" + df[\"Ecotypes\"]).to_dict())\n",
    "\n",
    "unstacked.columns = [\"Program\",\"Idx\",\"Score\",\"Ecotype\"]\n",
    "\n",
    "unstacked = unstacked.set_index(\"Idx\")\n",
    "\n",
    "palette = {\"TCGA Immune/stromal activated\": \"dimgrey\", \"TCGA Immune/stromal desert\": \"silver\",\n",
    "          \"Hoefnagel Immune/stromal activated\": \"darkgreen\", \"Hoefnagel Immune/stromal desert\": \"mediumaquamarine\",\n",
    "          \"Carroll Immune/stromal activated\": \"cornflowerblue\", \"Carroll Immune/stromal desert\": \"lavender\"}\n",
    "\n",
    "pairs = []\n",
    "programs = [\"cNMF_1\",'cNMF_2',\"cNMF_3\",\"cNMF_4\",\"cNMF_5\"]\n",
    "\n",
    "for prg in programs:\n",
    "    pairs.append(((prg, \"TCGA Immune/stromal activated\"),(prg, \"TCGA Immune/stromal desert\")))\n",
    "    pairs.append(((prg, \"Hoefnagel Immune/stromal activated\"),(prg, \"Hoefnagel Immune/stromal desert\")))\n",
    "    pairs.append(((prg, \"Carroll Immune/stromal activated\"),(prg, \"Carroll Immune/stromal desert\")))\n",
    "\n",
    "fig, ax = plt.subplots(1,1,figsize=(5,4))\n",
    "sns.boxplot(data=unstacked, x=\"Program\", y=\"Score\", hue=\"Ecotype\", palette=palette, \n",
    "            hue_order=[\"TCGA Immune/stromal activated\",\"TCGA Immune/stromal desert\",\n",
    "                       \"Hoefnagel Immune/stromal activated\",\"Hoefnagel Immune/stromal desert\",\n",
    "                       \"Carroll Immune/stromal activated\",\"Carroll Immune/stromal desert\"])\n",
    "\n",
    "\n",
    "annotator = Annotator(ax, pairs, data=unstacked, x=\"Program\", y=\"Score\", hue=\"Ecotype\", palette=palette, \n",
    "            hue_order=[\"TCGA Immune/stromal activated\",\"TCGA Immune/stromal desert\",\n",
    "                       \"Hoefnagel Immune/stromal activated\",\"Hoefnagel Immune/stromal desert\",\n",
    "                       \"Carroll Immune/stromal activated\",\"Carroll Immune/stromal desert\"])\n",
    "annotator.configure(test='Mann-Whitney', text_format='simple', show_test_name=False, loc='inside')\n",
    "annotator.apply_and_annotate()\n",
    "\n",
    "plt.legend(frameon=False, bbox_to_anchor=(1,1,0,0), title=\"Study/Ecotype\")\n",
    "pretty_ax(ax)\n",
    "ax.set_xticks(ax.get_xticks(), [\"cNMF$_{1}$\",\"cNMF$_{2}$\",\"cNMF$_{3}$\",\"cNMF$_{4}$\",\"cNMF$_{5}$\"])\n",
    "fig.savefig(\"figures/ecotypes/dist_score_ecotype_2eco_boxplot.svg\", dpi=200, bbox_inches=\"tight\")"
   ]
  },
  {
   "cell_type": "code",
   "execution_count": null,
   "id": "cc648acf",
   "metadata": {},
   "outputs": [],
   "source": []
  },
  {
   "cell_type": "code",
   "execution_count": null,
   "id": "ad1919e9",
   "metadata": {},
   "outputs": [],
   "source": [
    "fig, ax = plt.subplots(2,3,figsize=(8,5))\n",
    "flatax = ax.flatten()\n",
    "\n",
    "x=\"Ecotypes\"\n",
    "\n",
    "hue=\"Study\"\n",
    "palette= {\"Immune/stromal desert\": \"brown\", \n",
    "                            \"Immune/stromal activated\": \"pink\",}\n",
    "order = [\"Immune/stromal desert\",\"Immune/stromal activated\"]\n",
    "\n",
    "pairs = [((\"Immune/stromal desert\", \"TCGA\"), (\"Immune/stromal activated\", \"TCGA\")),\n",
    "         ((\"Immune/stromal desert\", \"Hoefnagel\"), (\"Immune/stromal activated\", \"Hoefnagel\")),\n",
    "        ((\"Immune/stromal desert\", \"Carroll\"), (\"Immune/stromal activated\", \"Carroll\")),]\n",
    "\n",
    "showleg = [True if i==5 else False for i in range(1,6)]\n",
    "for i,y in enumerate([f\"cNMF_{i}\" for i in range(1,6)]):\n",
    "    sns.boxplot(data=df, x=x, y=y, ax=flatax[i], order=order,\n",
    "                hue=hue, palette={\"TCGA\": \"grey\", \"Hoefnagel\": \"whitesmoke\", \"Carroll\": \"cornflowerblue\"})\n",
    "    if showleg[i]:\n",
    "        flatax[i].legend(bbox_to_anchor=(1,1,0,0),frameon=False)\n",
    "    else: \n",
    "        flatax[i].legend([],[], frameon=False)\n",
    "    flatax[i].set_xticks(flatax[i].get_xticks(), [\"Immune/stromal\\ndesert\", \"Immune/stromal\\nactivated\"], \n",
    "                         rotation=35, ha=\"right\")\n",
    "    pretty_ax(flatax[i])\n",
    "    flatax[i].set_xlabel(\"\")\n",
    "\n",
    "    annotator = Annotator(flatax[i], pairs, data=df, hue=hue,\n",
    "                          x=x, y=y, order=order)\n",
    "    annotator.configure(test='Mann-Whitney', text_format='simple', show_test_name=False, loc='inside')\n",
    "    annotator.apply_and_annotate()\n",
    "flatax[-1].axis(\"off\")\n",
    "\n",
    "fig.tight_layout()\n",
    "fig.savefig(\"figures/ecotype_dist_immune_act_perstudy.svg\", dpi=200)"
   ]
  }
 ],
 "metadata": {
  "kernelspec": {
   "display_name": "Python 3 (ipykernel)",
   "language": "python",
   "name": "python3"
  },
  "language_info": {
   "codemirror_mode": {
    "name": "ipython",
    "version": 3
   },
   "file_extension": ".py",
   "mimetype": "text/x-python",
   "name": "python",
   "nbconvert_exporter": "python",
   "pygments_lexer": "ipython3",
   "version": "3.9.16"
  }
 },
 "nbformat": 4,
 "nbformat_minor": 5
}
