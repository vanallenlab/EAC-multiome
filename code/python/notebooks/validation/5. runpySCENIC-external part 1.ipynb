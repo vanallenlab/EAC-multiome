{
 "cells": [
  {
   "cell_type": "code",
   "execution_count": 1,
   "id": "2e08eaeb-6ebd-4eba-be33-dc4cc0a2cfc2",
   "metadata": {},
   "outputs": [
    {
     "name": "stderr",
     "output_type": "stream",
     "text": [
      "OMP: Info #276: omp_set_nested routine deprecated, please use omp_set_max_active_levels instead.\n"
     ]
    }
   ],
   "source": [
    "import pandas as pd\n",
    "import numpy as np\n",
    "import scanpy as sc\n",
    "import pathlib as pl"
   ]
  },
  {
   "cell_type": "code",
   "execution_count": null,
   "id": "7e525856",
   "metadata": {},
   "outputs": [],
   "source": [
    "import loompy"
   ]
  },
  {
   "cell_type": "markdown",
   "id": "38c88b1f-cee0-4012-ba1f-2aa907045c0e",
   "metadata": {},
   "source": [
    "# Carroll "
   ]
  },
  {
   "cell_type": "code",
   "execution_count": null,
   "id": "34a09743-dd57-4a56-b3e0-169dc9a39c9a",
   "metadata": {},
   "outputs": [],
   "source": [
    "adata = sc.read_h5ad(\"/add/path/here/Carroll_EAC_raw.h5ad\")\n",
    "\n",
    "sc.pp.filter_genes(adata, min_cells=500)\n",
    "\n",
    "adata = adata[adata.obs.patient.isin([\"EAC-LPPN\",'EAC-ACMO','EAC-HDHI', 'EAC-PAHE', 'EAC-HENB', \n",
    "                        'EAC-HGFI', 'EAC-GDBD','EAC-JCNP', 'EAC-ODHL', 'EAC-IKIJ', \n",
    "                        'EAC-JJHD'])].copy()"
   ]
  },
  {
   "cell_type": "code",
   "execution_count": null,
   "id": "86552958-ff41-42c6-8b41-710c4489e21f",
   "metadata": {},
   "outputs": [],
   "source": [
    "### IMPORTANT: need to save RAW COUNTS\n",
    "\n",
    "f_loom_path_scenic = \"/add/path/here/adata_filtered_scenic.loom\"\n",
    "\n",
    "# create basic row and column attributes for the loom file:\n",
    "row_attrs = {\n",
    "    \"Gene\": np.array(adata.var_names) ,\n",
    "}\n",
    "col_attrs = {\n",
    "    \"CellID\": np.array(adata.obs_names) ,\n",
    "    \"nGene\": np.array( np.sum(adata.X.transpose()>0 , axis=0)).flatten() ,\n",
    "    \"nUMI\": np.array( np.sum(adata.X.transpose() , axis=0)).flatten() ,\n",
    "}\n",
    "loompy.create( f_loom_path_scenic, adata.X.transpose(), row_attrs, col_attrs)"
   ]
  },
  {
   "cell_type": "markdown",
   "id": "8f27a390-ee21-49e8-996e-afff8c2a1a02",
   "metadata": {},
   "source": [
    "# Croft"
   ]
  },
  {
   "cell_type": "code",
   "execution_count": 13,
   "id": "edb93d4f-eb1c-4f60-8d56-d6807bc239b6",
   "metadata": {},
   "outputs": [],
   "source": [
    "adata_croft = sc.read_h5ad(\"/add/path/here/GSE222078_adata.h5ad\")\n",
    "\n",
    "adata_croft.X = adata_croft.layers[\"counts\"].copy()\n",
    "\n",
    "sc.pp.filter_genes(adata, min_cells=500)"
   ]
  },
  {
   "cell_type": "code",
   "execution_count": null,
   "id": "7d718445-5bd1-4da9-b8be-7e299e1f782e",
   "metadata": {},
   "outputs": [],
   "source": [
    "### IMPORTANT: need to save RAW COUNTS\n",
    "\n",
    "f_loom_path_scenic = \"/add/path/here/adata_croft_filtered_scenic.loom\"\n",
    "\n",
    "# create basic row and column attributes for the loom file:\n",
    "row_attrs = {\n",
    "    \"Gene\": np.array(adata.var_names) ,\n",
    "}\n",
    "col_attrs = {\n",
    "    \"CellID\": np.array(adata.obs_names) ,\n",
    "    \"nGene\": np.array( np.sum(adata.X.transpose()>0 , axis=0)).flatten() ,\n",
    "    \"nUMI\": np.array( np.sum(adata.X.transpose() , axis=0)).flatten() ,\n",
    "}\n",
    "loompy.create( f_loom_path_scenic, adata.X.transpose(), row_attrs, col_attrs)"
   ]
  },
  {
   "cell_type": "markdown",
   "id": "23e8e578-28b4-489d-87f2-02028b487d28",
   "metadata": {},
   "source": [
    "# Luo et al"
   ]
  },
  {
   "cell_type": "code",
   "execution_count": 5,
   "id": "5d171bb5-f352-43c5-b884-b701c238e3c3",
   "metadata": {},
   "outputs": [],
   "source": [
    "adata_luo = sc.read_h5ad(\"/add/path/here/GSE210347_fibroblast_counts.h5ad\")\n",
    "adata_luo.X = adata_luo.layers[\"counts\"].copy()\n",
    "sc.pp.filter_genes(adata_luo, min_cells=500)"
   ]
  },
  {
   "cell_type": "code",
   "execution_count": null,
   "id": "7a50ba8d-287e-4f0f-b8ed-dd6383b300c4",
   "metadata": {},
   "outputs": [],
   "source": [
    "del adata_luo.raw"
   ]
  },
  {
   "cell_type": "code",
   "execution_count": null,
   "id": "0d772c19-7b2e-4b5b-bcd8-aeac9c49fbec",
   "metadata": {},
   "outputs": [],
   "source": [
    "### IMPORTANT: need to save RAW COUNTS\n",
    "\n",
    "f_loom_path_scenic = \"/add/path/here/adata_luo_filtered_scenic.loom\"\n",
    "\n",
    "# create basic row and column attributes for the loom file:\n",
    "row_attrs = {\n",
    "    \"Gene\": np.array(adata_luo.var_names) ,\n",
    "}\n",
    "col_attrs = {\n",
    "    \"CellID\": np.array(adata_luo.obs_names) ,\n",
    "    \"nGene\": np.array( np.sum(adata_luo.X.transpose()>0 , axis=0)).flatten() ,\n",
    "    \"nUMI\": np.array( np.sum(adata_luo.X.transpose() , axis=0)).flatten() ,\n",
    "}\n",
    "loompy.create( f_loom_path_scenic, adata_luo.X.transpose(), row_attrs, col_attrs)"
   ]
  },
  {
   "cell_type": "code",
   "execution_count": null,
   "id": "1689dd74-541f-4206-ad84-9aa3ba116093",
   "metadata": {},
   "outputs": [],
   "source": []
  }
 ],
 "metadata": {
  "kernelspec": {
   "display_name": "Python 3 (ipykernel)",
   "language": "python",
   "name": "python3"
  },
  "language_info": {
   "codemirror_mode": {
    "name": "ipython",
    "version": 3
   },
   "file_extension": ".py",
   "mimetype": "text/x-python",
   "name": "python",
   "nbconvert_exporter": "python",
   "pygments_lexer": "ipython3",
   "version": "3.9.16"
  }
 },
 "nbformat": 4,
 "nbformat_minor": 5
}
