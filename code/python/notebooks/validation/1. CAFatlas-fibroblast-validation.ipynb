{
 "cells": [
  {
   "cell_type": "code",
   "execution_count": null,
   "id": "28b60cc4",
   "metadata": {},
   "outputs": [],
   "source": [
    "import pandas as pd\n",
    "import numpy as np\n",
    "import scanpy as sc\n",
    "import seaborn as sns\n",
    "import matplotlib.pyplot as plt"
   ]
  },
  {
   "cell_type": "code",
   "execution_count": null,
   "id": "a748bfdd",
   "metadata": {},
   "outputs": [],
   "source": [
    "import pathlib as pl\n",
    "import os"
   ]
  },
  {
   "cell_type": "code",
   "execution_count": null,
   "id": "a3bf18d9",
   "metadata": {},
   "outputs": [],
   "source": [
    "from scipy.sparse import csr_matrix"
   ]
  },
  {
   "cell_type": "code",
   "execution_count": null,
   "id": "156a8b8b",
   "metadata": {},
   "outputs": [],
   "source": [
    "from statannotations.Annotator import Annotator"
   ]
  },
  {
   "cell_type": "code",
   "execution_count": null,
   "id": "2f88f421",
   "metadata": {},
   "outputs": [],
   "source": [
    "from tqdm.notebook import tqdm"
   ]
  },
  {
   "cell_type": "code",
   "execution_count": null,
   "id": "3d1be8be",
   "metadata": {},
   "outputs": [],
   "source": [
    "def pretty_ax(ax):\n",
    "    ax.spines['right'].set_visible(False)\n",
    "    ax.spines['top'].set_visible(False)\n",
    "    ax.tick_params(\n",
    "        axis='both',  \n",
    "        which='both',      \n",
    "        bottom=True,     \n",
    "        top=False,\n",
    "        left=False,\n",
    "        labelbottom=True,\n",
    "        labelleft = True)\n",
    "    ax.spines[\"bottom\"].set_linewidth(1.5)\n",
    "    ax.spines[\"left\"].set_linewidth(1.5)"
   ]
  },
  {
   "cell_type": "code",
   "execution_count": null,
   "id": "d7d05b90",
   "metadata": {},
   "outputs": [],
   "source": [
    "signature_dir = pl.Path(\"/add/path/here/fibroblast/\")\n",
    "\n",
    "fibroblast_markers = {}\n",
    "for s in (signature_dir).iterdir():\n",
    "    sig = s.stem\n",
    "    fibroblast_markers[sig] = pd.read_csv(s,index_col=0).set_index(\"names\")\n",
    "    fibroblast_markers[sig] = fibroblast_markers[sig][~fibroblast_markers[sig].index.str.startswith((\"MT-\",\"RPS\",\"RPL\"))]"
   ]
  },
  {
   "cell_type": "markdown",
   "id": "13ce24fc",
   "metadata": {},
   "source": [
    "# CAF atlas"
   ]
  },
  {
   "cell_type": "code",
   "execution_count": null,
   "id": "3a9f6758",
   "metadata": {},
   "outputs": [],
   "source": [
    "metadata = pd.read_csv(\"/add/path/here/GSE210347_meta.txt.gz\", sep=\"\\t\",index_col=0)\n",
    "adata = sc.read_h5ad(\"/add/path/here/GSE210347_counts.h5ad\")\n",
    "adata.obs = pd.concat([adata.obs,metadata],axis=1)"
   ]
  },
  {
   "cell_type": "code",
   "execution_count": null,
   "id": "8c395cbb",
   "metadata": {},
   "outputs": [],
   "source": [
    "fibadata = adata[adata.obs.celltype==\"Fibroblast\"].copy()\n",
    "fibadata.__dict__['_raw'].__dict__['_var'] = fibadata.__dict__['_raw'].__dict__['_var'].rename(columns={'_index': 'features'})"
   ]
  },
  {
   "cell_type": "code",
   "execution_count": null,
   "id": "adba969c",
   "metadata": {},
   "outputs": [],
   "source": [
    "fibadata.layers[\"counts\"] = fibadata.X.copy()\n",
    "sc.pp.normalize_total(fibadata)\n",
    "sc.pp.log1p(fibadata)\n",
    "\n",
    "sc.tl.pca(fibadata)\n",
    "\n",
    "sc.external.pp.harmony_integrate(fibadata, key=\"SampleID\", max_iter_harmony=20)"
   ]
  },
  {
   "cell_type": "code",
   "execution_count": null,
   "id": "2df97f47",
   "metadata": {},
   "outputs": [],
   "source": [
    "sc.pp.neighbors(fibadata, use_rep=\"X_pca_harmony\")\n",
    "\n",
    "sc.tl.umap(fibadata)"
   ]
  },
  {
   "cell_type": "code",
   "execution_count": null,
   "id": "bdb3f92e",
   "metadata": {},
   "outputs": [],
   "source": [
    "mTFs = [\"BNC2\",\"RUNX1\",\"RUNX2\",\"PRRX1\",\n",
    "       ]"
   ]
  },
  {
   "cell_type": "code",
   "execution_count": null,
   "id": "467f6ca0",
   "metadata": {},
   "outputs": [],
   "source": [
    "for sig, genes in fibroblast_markers.items():\n",
    "    print(sig)\n",
    "    sc.tl.score_genes(adata=fibadata,\n",
    "                        gene_list=list(np.setdiff1d(genes.head(100).index,mTFs)), \n",
    "                        score_name=f\"{sig}_score\",use_raw=False)"
   ]
  },
  {
   "cell_type": "code",
   "execution_count": null,
   "id": "ca764781",
   "metadata": {},
   "outputs": [],
   "source": [
    "sc.pl.umap(fibadata, color=['Inflammatory CAF_score', 'Fibroblast_score'] ,ncols=2, frameon=False)"
   ]
  },
  {
   "cell_type": "code",
   "execution_count": null,
   "id": "1fc9457e",
   "metadata": {},
   "outputs": [],
   "source": [
    "sc.pl.umap(fibadata, color=['group',\"tissue\"] ,ncols=2, frameon=False)"
   ]
  },
  {
   "cell_type": "code",
   "execution_count": null,
   "id": "82f5ea3c",
   "metadata": {},
   "outputs": [],
   "source": [
    "fibadata.write_h5ad(\"/add/path/here/GSE210347_fibroblast_counts.h5ad\")"
   ]
  },
  {
   "cell_type": "code",
   "execution_count": null,
   "id": "56a8ff9b",
   "metadata": {},
   "outputs": [],
   "source": [
    "os.makedirs(\"figures/external\", exist_ok=True)"
   ]
  },
  {
   "cell_type": "code",
   "execution_count": null,
   "id": "836c4987",
   "metadata": {},
   "outputs": [],
   "source": [
    "fig, ax = plt.subplots(1,1,figsize=(1.5,1.5))\n",
    "\n",
    "pairs = [(\"Adjacent\",\"Normal\"),\n",
    "         (\"Adjacent\",\"Tumor\"),\n",
    "         (\"Normal\",\"Tumor\")]\n",
    "\n",
    "sns.boxplot(data=fibadata.obs,x=\"group\",\n",
    "            y=\"Inflammatory CAF_score\", \n",
    "            order=[\"Normal\",\"Adjacent\",\"Tumor\"],\n",
    "            ax=ax)\n",
    "pretty_ax(ax)\n",
    "ax.set_xlabel(\"\")\n",
    "ax.set_xticklabels(ax.get_xticklabels(), rotation=45, ha=\"right\")\n",
    "ax.set_ylabel(\"Inflammatory CAF\\nscore\")\n",
    "\n",
    "annot = Annotator(\n",
    "    ax,\n",
    "    pairs=pairs,\n",
    "    data=fibadata.obs,x=\"group\",\n",
    "            y=\"Inflammatory CAF_score\", \n",
    "            order=[\"Normal\",\"Adjacent\",\"Tumor\"]\n",
    ")\n",
    "annot.configure(\n",
    "    test=\"Mann-Whitney\",\n",
    "    loc=\"inside\",\n",
    "    text_format=\"star\",\n",
    "    show_test_name=False,\n",
    "    verbose=2,\n",
    "    comparisons_correction=None,\n",
    "    fontsize=10,\n",
    ")\n",
    "annot.apply_test()\n",
    "_, test_results = annot.annotate()\n",
    "\n",
    "fig.savefig(\"figures/external/inflamm_CAF_score_type.svg\", dpi=200, bbox_inches=\"tight\")"
   ]
  },
  {
   "cell_type": "code",
   "execution_count": null,
   "id": "82a6a7e3",
   "metadata": {},
   "outputs": [],
   "source": [
    "fig, ax = plt.subplots(1,1,figsize=(1.5,1.5))\n",
    "\n",
    "pairs = [(\"Adjacent\",\"Normal\"),\n",
    "         (\"Adjacent\",\"Tumor\"),\n",
    "         (\"Normal\",\"Tumor\")]\n",
    "\n",
    "sns.boxplot(data=fibadata.obs,x=\"group\",\n",
    "            y=\"Fibroblast_score\", \n",
    "            order=[\"Normal\",\"Adjacent\",\"Tumor\"],\n",
    "            ax=ax)\n",
    "pretty_ax(ax)\n",
    "ax.set_xlabel(\"\")\n",
    "ax.set_xticklabels(ax.get_xticklabels(), rotation=45, ha=\"right\")\n",
    "ax.set_ylabel(\"Fibroblast\\nscore\")\n",
    "\n",
    "annot = Annotator(\n",
    "    ax,\n",
    "    pairs=pairs,\n",
    "    data=fibadata.obs,x=\"group\",\n",
    "            y=\"Fibroblast_score\", \n",
    "            order=[\"Normal\",\"Adjacent\",\"Tumor\"]\n",
    ")\n",
    "annot.configure(\n",
    "    test=\"Mann-Whitney\",\n",
    "    loc=\"inside\",\n",
    "    text_format=\"star\",\n",
    "    show_test_name=False,\n",
    "    verbose=2,\n",
    "    comparisons_correction=None,\n",
    "    fontsize=10,\n",
    ")\n",
    "annot.apply_test()\n",
    "_, test_results = annot.annotate()\n",
    "\n",
    "fig.savefig(\"figures/external/fibroblast_score_type.svg\", dpi=200, bbox_inches=\"tight\")"
   ]
  },
  {
   "cell_type": "code",
   "execution_count": null,
   "id": "eb066078",
   "metadata": {},
   "outputs": [],
   "source": []
  }
 ],
 "metadata": {
  "kernelspec": {
   "display_name": "Python 3 (ipykernel)",
   "language": "python",
   "name": "python3"
  },
  "language_info": {
   "codemirror_mode": {
    "name": "ipython",
    "version": 3
   },
   "file_extension": ".py",
   "mimetype": "text/x-python",
   "name": "python",
   "nbconvert_exporter": "python",
   "pygments_lexer": "ipython3",
   "version": "3.9.16"
  }
 },
 "nbformat": 4,
 "nbformat_minor": 5
}
