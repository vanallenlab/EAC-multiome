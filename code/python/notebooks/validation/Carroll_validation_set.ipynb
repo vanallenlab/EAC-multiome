{
 "cells": [
  {
   "cell_type": "code",
   "execution_count": null,
   "id": "ffde3b8f",
   "metadata": {},
   "outputs": [],
   "source": [
    "import pandas as pd \n",
    "import numpy as np\n",
    "import scanpy as sc\n",
    "import pathlib as pl"
   ]
  },
  {
   "cell_type": "code",
   "execution_count": null,
   "id": "4a83d430",
   "metadata": {},
   "outputs": [],
   "source": [
    "import signaturescoring as ssc"
   ]
  },
  {
   "cell_type": "code",
   "execution_count": null,
   "id": "203325b3",
   "metadata": {},
   "outputs": [],
   "source": [
    "import seaborn as sns\n",
    "import matplotlib.pyplot as plt"
   ]
  },
  {
   "cell_type": "code",
   "execution_count": null,
   "id": "1987e285",
   "metadata": {},
   "outputs": [],
   "source": [
    "from statannotations.Annotator import Annotator"
   ]
  },
  {
   "cell_type": "code",
   "execution_count": null,
   "id": "2948356b",
   "metadata": {},
   "outputs": [],
   "source": [
    "def pretty_ax(ax):\n",
    "    ax.spines['right'].set_visible(False)\n",
    "    ax.spines['top'].set_visible(False)\n",
    "    ax.tick_params(\n",
    "        axis='both',  \n",
    "        which='both',      \n",
    "        bottom=True,     \n",
    "        top=False,\n",
    "        left=False,\n",
    "        labelbottom=True,\n",
    "        labelleft = True)\n",
    "    ax.spines[\"bottom\"].set_linewidth(1.5)\n",
    "    ax.spines[\"left\"].set_linewidth(1.5)"
   ]
  },
  {
   "cell_type": "code",
   "execution_count": null,
   "id": "031a9c32",
   "metadata": {},
   "outputs": [],
   "source": [
    "cell_cycle_genes = [x.strip() for x in open('/add/path/here/regev_lab_cell_cycle_genes.txt')]\n",
    "s_genes = cell_cycle_genes[:43]\n",
    "g2m_genes = cell_cycle_genes[43:]"
   ]
  },
  {
   "cell_type": "code",
   "execution_count": null,
   "id": "8f3d7f66",
   "metadata": {},
   "outputs": [],
   "source": [
    "adata = sc.read_h5ad(\"/add/path/here/Carroll_singlecell/Carroll_EAC_raw.h5ad\")"
   ]
  },
  {
   "cell_type": "code",
   "execution_count": null,
   "id": "88a614b8",
   "metadata": {},
   "outputs": [],
   "source": [
    "adata.layers[\"counts\"] = adata.X.copy()"
   ]
  },
  {
   "cell_type": "code",
   "execution_count": null,
   "id": "16054123",
   "metadata": {},
   "outputs": [],
   "source": [
    "sc.pp.normalize_total(adata, target_sum=10000)\n",
    "sc.pp.log1p(adata)"
   ]
  },
  {
   "cell_type": "code",
   "execution_count": null,
   "id": "6787513e",
   "metadata": {},
   "outputs": [],
   "source": [
    "del adata.raw"
   ]
  },
  {
   "cell_type": "code",
   "execution_count": null,
   "id": "552ce6dd",
   "metadata": {},
   "outputs": [],
   "source": [
    "sc.tl.pca(adata)"
   ]
  },
  {
   "cell_type": "code",
   "execution_count": null,
   "id": "2e2d3a6d",
   "metadata": {},
   "outputs": [],
   "source": [
    "sc.pp.neighbors(adata)\n",
    "sc.tl.umap(adata)"
   ]
  },
  {
   "cell_type": "code",
   "execution_count": null,
   "id": "5802b68f",
   "metadata": {},
   "outputs": [],
   "source": [
    "sc.pl.umap(adata, color=[\"celltype\"])"
   ]
  },
  {
   "cell_type": "code",
   "execution_count": null,
   "id": "20491120",
   "metadata": {},
   "outputs": [],
   "source": [
    "adata.obs[\"condition\"] = adata.obs[\"sample\"].str.split(\"_\").str[1]"
   ]
  },
  {
   "cell_type": "code",
   "execution_count": null,
   "id": "de88dcdb",
   "metadata": {},
   "outputs": [],
   "source": []
  },
  {
   "cell_type": "code",
   "execution_count": null,
   "id": "b97fa705",
   "metadata": {},
   "outputs": [],
   "source": [
    "subadata = adata[adata.obs.celltype.isin([\"EAC\"])].copy()"
   ]
  },
  {
   "cell_type": "code",
   "execution_count": null,
   "id": "99ab1673",
   "metadata": {},
   "outputs": [],
   "source": [
    "sc.pp.filter_genes(subadata, min_cells=20)"
   ]
  },
  {
   "cell_type": "code",
   "execution_count": null,
   "id": "a88dbf71",
   "metadata": {},
   "outputs": [],
   "source": [
    "sc.tl.score_genes_cell_cycle(subadata, s_genes=s_genes, g2m_genes=g2m_genes)"
   ]
  },
  {
   "cell_type": "code",
   "execution_count": null,
   "id": "0bc1e89a",
   "metadata": {},
   "outputs": [],
   "source": [
    "sc.tl.pca(subadata)"
   ]
  },
  {
   "cell_type": "code",
   "execution_count": null,
   "id": "17fa8279",
   "metadata": {
    "scrolled": true
   },
   "outputs": [],
   "source": [
    "sc.external.pp.harmony_integrate(subadata, key=\"patient\", max_iter_harmony=20)"
   ]
  },
  {
   "cell_type": "code",
   "execution_count": null,
   "id": "353137c7",
   "metadata": {},
   "outputs": [],
   "source": [
    "sc.pp.neighbors(subadata, use_rep=\"X_pca_harmony\")\n",
    "\n",
    "sc.tl.umap(subadata)"
   ]
  },
  {
   "cell_type": "code",
   "execution_count": null,
   "id": "580255ab",
   "metadata": {},
   "outputs": [],
   "source": [
    "sc.pl.umap(subadata, color=[\"patient\"])"
   ]
  },
  {
   "cell_type": "code",
   "execution_count": null,
   "id": "7f4f8baf",
   "metadata": {},
   "outputs": [],
   "source": [
    "signature_dir = pl.Path(\"/add/path/here\")\n",
    "\n",
    "full_sigs = {}\n",
    "for s in (signature_dir).iterdir():\n",
    "    sig = s.stem\n",
    "    full_sigs[sig] = pd.read_csv(s,index_col=0)\n",
    "    full_sigs[sig] = full_sigs[sig][~full_sigs[sig].index.str.startswith((\"MT-\",\"RPS\",\"RPL\"))]\n",
    "    full_sigs[sig] = full_sigs[sig].head(75).index.ravel()"
   ]
  },
  {
   "cell_type": "code",
   "execution_count": null,
   "id": "128d0f0e",
   "metadata": {},
   "outputs": [],
   "source": [
    "mTFs =['KLF5', 'ELF3', 'SMAD3', 'TCF7L2', 'HNF4G', \"BNC2\"]"
   ]
  },
  {
   "cell_type": "code",
   "execution_count": null,
   "id": "26f8a190",
   "metadata": {},
   "outputs": [],
   "source": [
    "for sig, genes in full_sigs.items():\n",
    "    ssc.score_signature(adata=subadata,\n",
    "                        gene_list=list(np.setdiff1d(genes,mTFs)), \n",
    "                        method=\"adjusted_neighborhood_scoring\", \n",
    "                        ctrl_size=150,\n",
    "                        score_name=f\"{sig}_score\")"
   ]
  },
  {
   "cell_type": "code",
   "execution_count": null,
   "id": "b8d77cf2",
   "metadata": {},
   "outputs": [],
   "source": [
    "ssc.score_signature(adata=subadata,\n",
    "                        gene_list=[\"KLF5\",\"ELF3\",\"SMAD3\",\"TCF7L2\"], \n",
    "                        method=\"adjusted_neighborhood_scoring\", \n",
    "                        ctrl_size=150,\n",
    "                        score_name=\"mTF_score\")"
   ]
  },
  {
   "cell_type": "code",
   "execution_count": null,
   "id": "45b7221e",
   "metadata": {},
   "outputs": [],
   "source": [
    "sc.pl.umap(subadata, \n",
    "           color=['cNMF_1_score','cNMF_3_score','cNMF_4_score',\"celltype\"],\n",
    "           ncols=2, frameon=False)"
   ]
  },
  {
   "cell_type": "code",
   "execution_count": null,
   "id": "4a3553f2",
   "metadata": {},
   "outputs": [],
   "source": [
    "sc.pl.umap(subadata, \n",
    "           color=['S_score','G2M_score'],\n",
    "           ncols=2, frameon=False)"
   ]
  },
  {
   "cell_type": "code",
   "execution_count": null,
   "id": "8c9cc952",
   "metadata": {},
   "outputs": [],
   "source": [
    "subadata.obs[\"condition\"] = subadata.obs[\"sample\"].str.split(\"_\").str[1]"
   ]
  },
  {
   "cell_type": "code",
   "execution_count": null,
   "id": "241f2422",
   "metadata": {},
   "outputs": [],
   "source": [
    "sc.pl.umap(subadata, \n",
    "           color=['condition',\"celltype\",\"patient\"],\n",
    "           ncols=2, frameon=False)"
   ]
  },
  {
   "cell_type": "code",
   "execution_count": null,
   "id": "f8c26576",
   "metadata": {
    "scrolled": true
   },
   "outputs": [],
   "source": [
    "subadata.obs[[\"cNMF_1_score\",\"cNMF_3_score\",\"cNMF_4_score\"]].corr()"
   ]
  },
  {
   "cell_type": "code",
   "execution_count": null,
   "id": "ea908e25",
   "metadata": {},
   "outputs": [],
   "source": [
    "df = subadata.obs[subadata.obs.tissue.isin([\"EAC\",\"EAC.Op\"])].copy()"
   ]
  },
  {
   "cell_type": "code",
   "execution_count": null,
   "id": "aa3175f9",
   "metadata": {},
   "outputs": [],
   "source": [
    "df.patient = df.patient.astype(str)"
   ]
  },
  {
   "cell_type": "code",
   "execution_count": null,
   "id": "68ae4980",
   "metadata": {},
   "outputs": [],
   "source": [
    "ax = sns.boxplot(data=df, x=\"patient\", y=\"cNMF_4_score\", hue=\"condition\", hue_order=[\"PreTx\",\"ICI-4W\",\"PostTx\"])\n",
    "pretty_ax(ax)\n",
    "ax.set_xticklabels(ax.get_xticklabels(), rotation=45)"
   ]
  },
  {
   "cell_type": "code",
   "execution_count": null,
   "id": "4b58053a",
   "metadata": {},
   "outputs": [],
   "source": [
    "subadata.obs.condition.value_counts()"
   ]
  },
  {
   "cell_type": "code",
   "execution_count": null,
   "id": "236a70c3",
   "metadata": {},
   "outputs": [],
   "source": [
    "ax = sns.boxplot(data=df, x=\"patient\", y=\"cNMF_3_score\", hue=\"condition\", hue_order=[\"PreTx\",\"ICI-4W\",\"PostTx\"])\n",
    "pretty_ax(ax)\n",
    "ax.set_xticklabels(ax.get_xticklabels(), rotation=45)"
   ]
  },
  {
   "cell_type": "code",
   "execution_count": null,
   "id": "ae19f73b",
   "metadata": {},
   "outputs": [],
   "source": [
    "ax = sns.boxplot(data=df, x=\"patient\", y=\"cNMF_5_score\", hue=\"condition\", hue_order=[\"PreTx\",\"ICI-4W\",\"PostTx\"])\n",
    "pretty_ax(ax)\n",
    "ax.set_xticklabels(ax.get_xticklabels(), rotation=45)"
   ]
  },
  {
   "cell_type": "code",
   "execution_count": null,
   "id": "5af0b66e",
   "metadata": {},
   "outputs": [],
   "source": [
    "g = sns.PairGrid(subadata.obs[[\"cNMF_1_score\",\"cNMF_3_score\",\"cNMF_4_score\"]], diag_sharey=False, corner=True)\n",
    "g.map_lower(sns.kdeplot)\n",
    "g.map_diag(sns.histplot)\n",
    "g.fig.savefig(\"figures/external/Carroll_cNMF_relplot.png\", dpi=200, bbox_inches=\"tight\")"
   ]
  },
  {
   "cell_type": "code",
   "execution_count": null,
   "id": "fa64a04b",
   "metadata": {},
   "outputs": [],
   "source": [
    "import matplotlib\n",
    "import matplotlib.cm as cm\n",
    "import matplotlib.colors as mcolors\n",
    "\n",
    "X_pca = pd.DataFrame(subadata.obsm[\"X_pca_harmony\"][:,:2],index=subadata.obs_names,columns=[\"PC1\",\"PC2\"])\n",
    "\n",
    "X_pca = pd.concat([X_pca, subadata.obs[[\"cNMF_1_score\",\"cNMF_3_score\",\n",
    "                                        \"cNMF_4_score\",\"cNMF_2_score\",\n",
    "                                        \"cNMF_5_score\",\"S_score\",\"G2M_score\"]]],axis=1)\n",
    "X_pca.columns = [\"PC1\",\"PC2\",\"cNMF_1\",\"cNMF_3\",\"cNMF_4\",\"cNMF_2\",\"cNMF_5\",\"S_score\",\"G2M_score\"]\n",
    "\n",
    "def plot_pcs_color(ax, state):\n",
    "    vcenter = 0\n",
    "    vmin, vmax = X_pca[state].min(), X_pca[state].max()\n",
    "    normalize = mcolors.TwoSlopeNorm(vcenter=vcenter, vmin=vmin, vmax=vmax)\n",
    "    colormap = matplotlib.colormaps['RdBu_r']\n",
    "    sns.scatterplot(\n",
    "        y=X_pca[\"PC2\"],\n",
    "        x=X_pca[\"PC1\"],\n",
    "        c=X_pca[state],\n",
    "        s=10,\n",
    "        norm=normalize,\n",
    "        cmap=colormap,\n",
    "        ax=ax\n",
    "    )\n",
    "    scalarmappaple = cm.ScalarMappable(norm=normalize, cmap=colormap)\n",
    "    scalarmappaple.set_array(X_pca[state])\n",
    "    fig.colorbar(scalarmappaple, ax=ax)\n",
    "    ax.set_title(state)\n",
    "    pretty_ax(ax)\n",
    "\n",
    "fig, ax = plt.subplots(1,3, figsize=(15,4))\n",
    "flatax = ax.flatten()\n",
    "\n",
    "plot_pcs_color(flatax[0], \"cNMF_3\")\n",
    "plot_pcs_color(flatax[1], \"cNMF_1\")\n",
    "plot_pcs_color(flatax[2], \"cNMF_4\")\n",
    "fig.tight_layout()\n",
    "fig.savefig(\"figures/external/Carroll_PC_wCNMF_score.png\", dpi=200, bbox_inches=\"tight\")\n",
    "\n",
    "fig, ax = plt.subplots(1,2, figsize=(10,4))\n",
    "flatax = ax.flatten()\n",
    "\n",
    "plot_pcs_color(flatax[0], \"cNMF_2\")\n",
    "plot_pcs_color(flatax[1], \"cNMF_5\")\n",
    "\n",
    "fig.tight_layout()\n",
    "\n",
    "fig, ax = plt.subplots(1,2, figsize=(10,4))\n",
    "flatax = ax.flatten()\n",
    "\n",
    "plot_pcs_color(flatax[0], \"S_score\")\n",
    "plot_pcs_color(flatax[1], \"G2M_score\")\n",
    "\n",
    "fig.tight_layout()"
   ]
  },
  {
   "cell_type": "code",
   "execution_count": null,
   "id": "e7419462",
   "metadata": {},
   "outputs": [],
   "source": [
    "TF_expr = pd.DataFrame(subadata[:,mTFs].X.copy().toarray(),index=subadata.obs_names,columns=mTFs)\n",
    "TF_expr = pd.concat([TF_expr,subadata.obs[[\"cNMF_1_score\",\"cNMF_3_score\",\"cNMF_4_score\"]]],axis=1)\n",
    "\n",
    "heatmap_df = TF_expr.corr().loc[[\"cNMF_3_score\",\"cNMF_1_score\",\"cNMF_4_score\"],mTFs]"
   ]
  },
  {
   "cell_type": "code",
   "execution_count": null,
   "id": "28f29a90",
   "metadata": {},
   "outputs": [],
   "source": [
    "fig, ax = plt.subplots(1,1,figsize=(5,2))\n",
    "sns.heatmap(data=heatmap_df, annot=heatmap_df, cmap=\"vlag\", center=0, ax=ax, fmt=\".2f\")\n",
    "ax.set_yticklabels([\"cNMF_3\",\"cNMF_1\",\"cNMF_4\"])\n",
    "fig.savefig(\"figures/external/Carroll_heatmap_cNMF_TF_corr.png\", dpi=300, bbox_inches=\"tight\")"
   ]
  },
  {
   "cell_type": "code",
   "execution_count": null,
   "id": "e3b28fff",
   "metadata": {
    "scrolled": true
   },
   "outputs": [],
   "source": [
    "df = subadata.obs[[\"cNMF_3_score\",\"cNMF_1_score\",\"cNMF_4_score\",\"mTF_score\"]]\n",
    "heatmap_df = df.corr().loc[[\"mTF_score\"],[\"cNMF_3_score\",\"cNMF_1_score\",\"cNMF_4_score\"]]\n",
    "fig, ax = plt.subplots(1,1,figsize=(2,0.5))\n",
    "sns.heatmap(data=heatmap_df, annot=heatmap_df, cmap=\"vlag\", center=0, ax=ax)\n",
    "ax.set_yticklabels(ax.get_yticklabels(), rotation=0)\n",
    "ax.set_xticklabels([\"cNMF_3\",\"cNMF_1\",\"cNMF_4\"], rotation=45, ha=\"right\")\n",
    "fig.savefig(\"figures/external/Carroll_heatmap_cNMF_mTFscore_corr.png\", dpi=300, bbox_inches=\"tight\")"
   ]
  },
  {
   "cell_type": "code",
   "execution_count": null,
   "id": "0253ed95",
   "metadata": {},
   "outputs": [],
   "source": []
  },
  {
   "cell_type": "markdown",
   "id": "230e2879",
   "metadata": {},
   "source": [
    "# Read bulk"
   ]
  },
  {
   "cell_type": "code",
   "execution_count": null,
   "id": "f9965d07",
   "metadata": {},
   "outputs": [],
   "source": [
    "clinical = pd.read_csv(\"/add/path/here/carroll_clinical.csv\", index_col=0)"
   ]
  },
  {
   "cell_type": "code",
   "execution_count": null,
   "id": "5a3719b9",
   "metadata": {},
   "outputs": [],
   "source": [
    "gencode = pd.read_csv(\"/add/path/here/gencode_v41_positions.csv\",index_col=0)\n",
    "\n",
    "gencode[\"gen_red\"] = gencode[\"gene_id\"].str.split(\".\").str[0]"
   ]
  },
  {
   "cell_type": "code",
   "execution_count": null,
   "id": "24d10e7a",
   "metadata": {},
   "outputs": [],
   "source": [
    "mapping = gencode.set_index(\"gen_red\")[\"gene_name\"].to_dict()"
   ]
  },
  {
   "cell_type": "code",
   "execution_count": null,
   "id": "4f4a8da3",
   "metadata": {},
   "outputs": [],
   "source": [
    "bulk = pd.read_csv(\"/add/path/here/Carroll_singlecell/LUD2015-005_RNAseq_featureCounts.tsv\",sep=\"\\t\",index_col=0)\n",
    "\n",
    "gene_info = bulk.iloc[:,:5].copy()\n",
    "\n",
    "bulk = bulk.iloc[:,5:].copy()"
   ]
  },
  {
   "cell_type": "code",
   "execution_count": null,
   "id": "af5c7b32",
   "metadata": {},
   "outputs": [],
   "source": [
    "logcounts = bulk.sum().apply(np.log1p)\n",
    "\n",
    "tpm = (bulk.T / gene_info[\"Length\"]).T\n",
    "\n",
    "tpm = tpm / tpm.sum()*1000000\n",
    "\n",
    "tpm = tpm.rename(index=mapping).T\n",
    "\n",
    "tpm = tpm.loc[:,(tpm==0).sum()<=0.5*tpm.shape[0]]\n",
    "\n",
    "std_tpm = (tpm - tpm.mean())/tpm.std()\n",
    "\n",
    "std_tpm[\"condition\"] = std_tpm.index.str.split(\"_\").str[1]\n",
    "std_tpm[\"patient\"] = std_tpm.index.str.split(\"_\").str[0]\n",
    "std_tpm[\"tissue\"] = std_tpm.index.str.split(\"_\").str[2]\n",
    "\n",
    "std_tpm = std_tpm[std_tpm[\"tissue\"]==\"Tumor\"]"
   ]
  },
  {
   "cell_type": "code",
   "execution_count": null,
   "id": "207b0564",
   "metadata": {},
   "outputs": [],
   "source": [
    "state_score = []\n",
    "for sig, genes in full_sigs.items():\n",
    "    selgenes = std_tpm.columns.intersection(genes)\n",
    "    selgenes = np.setdiff1d(selgenes, mTFs)\n",
    "    scores = std_tpm[selgenes].mean(axis=1)\n",
    "    scores.name = sig\n",
    "    state_score.append(scores)\n",
    "state_score = pd.concat(state_score,axis=1)\n",
    "\n",
    "state_score[\"condition\"] = state_score.index.str.split(\"_\").str[1]\n",
    "state_score[\"patient\"] = state_score.index.str.split(\"_\").str[0]\n",
    "state_score[\"tissue\"] = state_score.index.str.split(\"_\").str[2]\n",
    "state_score[\"logcounts\"] = logcounts"
   ]
  },
  {
   "cell_type": "code",
   "execution_count": null,
   "id": "7670a76e",
   "metadata": {},
   "outputs": [],
   "source": [
    "common_patients = clinical.index.intersection(state_score.patient.unique())\n",
    "\n",
    "state_score = state_score[state_score.patient.isin(common_patients)]\n",
    "\n",
    "state_score[\"condition\"] = pd.Categorical(state_score[\"condition\"], [\"PreTx\",\"ICI-4W\",\"PostTx\"])"
   ]
  },
  {
   "cell_type": "code",
   "execution_count": null,
   "id": "9ecfaa40",
   "metadata": {
    "scrolled": true
   },
   "outputs": [],
   "source": [
    "import matplotlib\n",
    "import matplotlib.cm as cm\n",
    "import matplotlib.colors as mcolors\n",
    "\n",
    "from sklearn.decomposition import PCA\n",
    "pca = PCA(n_components=50)\n",
    "X_pca = pca.fit_transform(std_tpm.drop([\"condition\",\"patient\",\"tissue\"],axis=1).dropna(axis=1))\n",
    "X_pca = pd.DataFrame(X_pca,index=std_tpm.index,columns=[f\"PC{i}\" for i in range(1,51)])\n",
    "\n",
    "X_pca = pd.concat([X_pca, state_score],axis=1)\n",
    "\n",
    "def plot_pcs_color(ax, state):\n",
    "    vcenter = 0\n",
    "    vmin, vmax = X_pca[state].min(), X_pca[state].max()\n",
    "    normalize = mcolors.TwoSlopeNorm(vcenter=vcenter, vmin=vmin, vmax=vmax)\n",
    "    colormap = matplotlib.colormaps['RdBu_r']\n",
    "    sns.scatterplot(\n",
    "        y=X_pca[\"PC2\"],\n",
    "        x=X_pca[\"PC1\"],\n",
    "        c=X_pca[state],\n",
    "        s=10,\n",
    "        norm=normalize,\n",
    "        cmap=colormap,\n",
    "        ax=ax\n",
    "    )\n",
    "    scalarmappaple = cm.ScalarMappable(norm=normalize, cmap=colormap)\n",
    "    scalarmappaple.set_array(X_pca[state])\n",
    "    fig.colorbar(scalarmappaple, ax=ax)\n",
    "    ax.set_title(state)\n",
    "    pretty_ax(ax)\n",
    "\n",
    "fig, ax = plt.subplots(1,3, figsize=(11,3))\n",
    "flatax = ax.flatten()\n",
    "\n",
    "plot_pcs_color(flatax[0], \"cNMF_3\")\n",
    "plot_pcs_color(flatax[1], \"cNMF_1\")\n",
    "plot_pcs_color(flatax[2], \"cNMF_4\")\n",
    "fig.tight_layout()\n",
    "fig.savefig(\"figures/external/GSE207526_PC_wCNMF_score.svg\", dpi=200, bbox_inches=\"tight\")\n",
    "\n",
    "fig, ax = plt.subplots(1,2, figsize=(6,2))\n",
    "flatax = ax.flatten()\n",
    "\n",
    "plot_pcs_color(flatax[0], \"cNMF_2\")\n",
    "plot_pcs_color(flatax[1], \"cNMF_5\")\n",
    "\n",
    "fig.tight_layout()"
   ]
  },
  {
   "cell_type": "code",
   "execution_count": null,
   "id": "6ad33f3e",
   "metadata": {},
   "outputs": [],
   "source": [
    "ax = sns.scatterplot(data=X_pca, x=\"PC1\", y=\"PC2\", hue=\"condition\")\n",
    "ax.spines[['right', 'top']].set_visible(False)"
   ]
  },
  {
   "cell_type": "code",
   "execution_count": null,
   "id": "86f28227",
   "metadata": {},
   "outputs": [],
   "source": [
    "ax = sns.scatterplot(data=X_pca, x=\"PC1\", y=\"PC2\", hue=\"logcounts\")\n",
    "ax.spines[['right', 'top']].set_visible(False)"
   ]
  },
  {
   "cell_type": "code",
   "execution_count": null,
   "id": "acaf49db",
   "metadata": {},
   "outputs": [],
   "source": [
    "custom_palette = sns.color_palette(\"mako\", 33)\n",
    "patcolors = {pat: custom_palette[i] for i,pat in enumerate(state_score.patient.unique())}"
   ]
  },
  {
   "cell_type": "code",
   "execution_count": null,
   "id": "8afd7f35",
   "metadata": {},
   "outputs": [],
   "source": [
    "state_score = state_score.sort_values(by=[\"patient\",\"condition\"])"
   ]
  },
  {
   "cell_type": "code",
   "execution_count": null,
   "id": "248f1f45",
   "metadata": {},
   "outputs": [],
   "source": [
    "ax = sns.lineplot(data=state_score, x=\"cNMF_3\", y=\"cNMF_4\", hue=\"patient\",\n",
    "                  palette=patcolors,\n",
    "                  markers=list(state_score.condition.replace({\"PreTx\": \"o\", \"ICI-4W\": \"v\", \"PostTx\": \"\"}).ravel()))\n",
    "marker_map = {\"PreTx\": \"o\", \"ICI-4W\": \"v\", \"PostTx\": \"s\"}\n",
    "for condition in state_score.condition.unique():\n",
    "    ax = sns.scatterplot(data=state_score[state_score.condition==condition],\n",
    "                         x=\"cNMF_3\", y=\"cNMF_4\", \n",
    "                         marker=marker_map[condition], hue=\"patient\", palette=patcolors, legend=None)\n",
    "ax.spines[['right', 'top']].set_visible(False)\n",
    "ax.hlines(y=0, xmin=ax.get_xlim()[0], xmax=ax.get_xlim()[1], linestyles=\"dashed\", color=\"grey\")\n",
    "ax.vlines(x=0, ymin=ax.get_ylim()[0], ymax=ax.get_ylim()[1], linestyles=\"dashed\", color=\"grey\")\n",
    "plt.legend(ncols=2, bbox_to_anchor=(1,1,0,0), frameon=False)"
   ]
  },
  {
   "cell_type": "code",
   "execution_count": null,
   "id": "115809b0",
   "metadata": {},
   "outputs": [],
   "source": [
    "sns.boxplot(data=state_score, y=\"cNMF_4\", x=\"condition\", order=[\"PreTx\",\"ICI-4W\",\"PostTx\"])"
   ]
  },
  {
   "cell_type": "code",
   "execution_count": null,
   "id": "3de16a09",
   "metadata": {},
   "outputs": [],
   "source": [
    "sns.boxplot(data=state_score, y=\"cNMF_5\", x=\"condition\", order=[\"PreTx\",\"ICI-4W\",\"PostTx\"])"
   ]
  },
  {
   "cell_type": "code",
   "execution_count": null,
   "id": "d963a588",
   "metadata": {},
   "outputs": [],
   "source": [
    "red_tpm = std_tpm[std_tpm[\"condition\"]==\"PreTx\"]"
   ]
  },
  {
   "cell_type": "code",
   "execution_count": null,
   "id": "559de25f",
   "metadata": {},
   "outputs": [],
   "source": [
    "state_score = []\n",
    "for sig, genes in full_sigs.items():\n",
    "    selgenes = red_tpm.columns.intersection(genes)\n",
    "    selgenes = np.setdiff1d(selgenes, mTFs)\n",
    "    scores = red_tpm[selgenes].mean(axis=1)\n",
    "    scores.name = sig\n",
    "    state_score.append(scores)\n",
    "state_score = pd.concat(state_score,axis=1)\n",
    "\n",
    "state_score[\"condition\"] = state_score.index.str.split(\"_\").str[1]\n",
    "state_score[\"patient\"] = state_score.index.str.split(\"_\").str[0]\n",
    "state_score[\"tissue\"] = state_score.index.str.split(\"_\").str[2]\n",
    "\n",
    "common_patients = clinical.index.intersection(state_score.patient.unique())\n",
    "\n",
    "state_score = state_score[state_score.patient.isin(common_patients)]\n",
    "\n",
    "state_score.index = state_score.index.str.split(\"_\").str[0]"
   ]
  }
 ],
 "metadata": {
  "kernelspec": {
   "display_name": "Python 3 (ipykernel)",
   "language": "python",
   "name": "python3"
  },
  "language_info": {
   "codemirror_mode": {
    "name": "ipython",
    "version": 3
   },
   "file_extension": ".py",
   "mimetype": "text/x-python",
   "name": "python",
   "nbconvert_exporter": "python",
   "pygments_lexer": "ipython3",
   "version": "3.9.16"
  }
 },
 "nbformat": 4,
 "nbformat_minor": 5
}
