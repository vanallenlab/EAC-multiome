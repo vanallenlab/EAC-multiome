{
 "cells": [
  {
   "cell_type": "code",
   "execution_count": null,
   "id": "28b60cc4",
   "metadata": {},
   "outputs": [],
   "source": [
    "import pandas as pd\n",
    "import numpy as np\n",
    "import scanpy as sc\n",
    "import seaborn as sns\n",
    "import matplotlib.pyplot as plt\n",
    "\n",
    "import pathlib as pl\n",
    "\n",
    "from scipy.sparse import csr_matrix\n",
    "\n",
    "from statannotations.Annotator import Annotator\n",
    "\n",
    "from tqdm.notebook import tqdm"
   ]
  },
  {
   "cell_type": "code",
   "execution_count": null,
   "id": "4043ee6f",
   "metadata": {},
   "outputs": [],
   "source": [
    "def pretty_ax(ax):\n",
    "    ax.spines['right'].set_visible(False)\n",
    "    ax.spines['top'].set_visible(False)\n",
    "    ax.tick_params(\n",
    "        axis='both',  \n",
    "        which='both',      \n",
    "        bottom=True,     \n",
    "        top=False,\n",
    "        left=False,\n",
    "        labelbottom=True,\n",
    "        labelleft = True)\n",
    "    ax.spines[\"bottom\"].set_linewidth(1.5)\n",
    "    ax.spines[\"left\"].set_linewidth(1.5)"
   ]
  },
  {
   "cell_type": "code",
   "execution_count": null,
   "id": "07eda0f1",
   "metadata": {},
   "outputs": [],
   "source": [
    "datadir = pl.Path(\"/add/path/here\")"
   ]
  },
  {
   "cell_type": "code",
   "execution_count": null,
   "id": "07787d6c",
   "metadata": {},
   "outputs": [],
   "source": [
    "counts = pd.read_csv(datadir / \"GSE222078_counts.csv.gz\")\n",
    "counts.index = counts[\"Unnamed: 0\"]\n",
    "counts = counts.drop(\"Unnamed: 0\", axis=1)\n",
    "counts = counts.T"
   ]
  },
  {
   "cell_type": "code",
   "execution_count": null,
   "id": "2fafcf13",
   "metadata": {},
   "outputs": [],
   "source": [
    "meta = pd.DataFrame(\"s\"+counts.index.str.split(\"_\").str[-1].to_numpy(), index=counts.index, columns=[\"Sample\"])"
   ]
  },
  {
   "cell_type": "code",
   "execution_count": null,
   "id": "b97f87e2",
   "metadata": {},
   "outputs": [],
   "source": [
    "meta[\"Patient\"] = meta.Sample.replace({\"s1\": \"P1\", \"s2\": \"P2\", \"s3\": \"P3\", \n",
    "                                \"s4\": \"P4\", \"s5\": \"P5\", \"s6\": \"P6\", \n",
    "                                \"s7\": \"P7\", \"s8\": \"P7\", \"s9\": \"P8\", \n",
    "                                \"s10\": \"P8\"})"
   ]
  },
  {
   "cell_type": "code",
   "execution_count": null,
   "id": "bcae7ba4",
   "metadata": {},
   "outputs": [],
   "source": [
    "meta[\"Tumor status\"] = meta.Sample.replace({\"s1\": \"Tumor\", \"s2\": \"Tumor\", \"s3\": \"Tumor\", \n",
    "                                \"s4\": \"Tumor\", \"s5\": \"Tumor\", \"s6\": \"Tumor\", \n",
    "                                \"s7\": \"AN\", \"s8\": \"Tumor\", \"s9\": \"AN\", \n",
    "                                \"s10\": \"Tumor\"})"
   ]
  },
  {
   "cell_type": "code",
   "execution_count": null,
   "id": "00235a50",
   "metadata": {},
   "outputs": [],
   "source": [
    "X = csr_matrix(counts.round().values)"
   ]
  },
  {
   "cell_type": "code",
   "execution_count": null,
   "id": "f4bcc040",
   "metadata": {},
   "outputs": [],
   "source": [
    "genes = pd.DataFrame(index=counts.columns)"
   ]
  },
  {
   "cell_type": "code",
   "execution_count": null,
   "id": "bf75f40c",
   "metadata": {},
   "outputs": [],
   "source": [
    "adata = sc.AnnData(X, obs=meta, var=genes)"
   ]
  },
  {
   "cell_type": "code",
   "execution_count": null,
   "id": "487fff92",
   "metadata": {},
   "outputs": [],
   "source": [
    "sc.pp.filter_cells(adata, min_genes=200)\n",
    "sc.pp.filter_genes(adata, min_cells=3)"
   ]
  },
  {
   "cell_type": "code",
   "execution_count": null,
   "id": "7a283650",
   "metadata": {},
   "outputs": [],
   "source": [
    "adata.var['mt'] = adata.var_names.str.startswith('MT-')  # annotate the group of mitochondrial genes as 'mt'\n",
    "sc.pp.calculate_qc_metrics(adata, qc_vars=['mt'], percent_top=None, log1p=False, inplace=True)"
   ]
  },
  {
   "cell_type": "code",
   "execution_count": null,
   "id": "f14504df",
   "metadata": {},
   "outputs": [],
   "source": [
    "adata.obs.total_counts.hist(bins=20)"
   ]
  },
  {
   "cell_type": "code",
   "execution_count": null,
   "id": "3e647704",
   "metadata": {},
   "outputs": [],
   "source": [
    "adata.layers[\"counts\"] = adata.X.copy()"
   ]
  },
  {
   "cell_type": "code",
   "execution_count": null,
   "id": "2b797f01",
   "metadata": {},
   "outputs": [],
   "source": [
    "sc.pp.normalize_total(adata, target_sum=10000)\n",
    "sc.pp.log1p(adata)"
   ]
  },
  {
   "cell_type": "code",
   "execution_count": null,
   "id": "a40ebe77",
   "metadata": {},
   "outputs": [],
   "source": [
    "adata.write(\"/add/path/here/GSE222078_adata.h5ad\")"
   ]
  },
  {
   "cell_type": "markdown",
   "id": "40a9d6a8",
   "metadata": {},
   "source": [
    "# Download program signatures"
   ]
  },
  {
   "cell_type": "code",
   "execution_count": null,
   "id": "742a5877",
   "metadata": {},
   "outputs": [],
   "source": [
    "signature_dir = pl.Path(\"/add/path/here/\")\n",
    "\n",
    "full_sigs = {}\n",
    "for s in (signature_dir).iterdir():\n",
    "    sig = s.stem\n",
    "    full_sigs[sig] = pd.read_csv(s,index_col=0)\n",
    "    full_sigs[sig] = full_sigs[sig][~full_sigs[sig].index.str.startswith((\"MT-\",\"RPS\",\"RPL\"))]\n",
    "    full_sigs[sig] = full_sigs[sig].head(100).index.ravel()"
   ]
  },
  {
   "cell_type": "markdown",
   "id": "5d108598",
   "metadata": {},
   "source": [
    "# Visualizing signatures in full cohort"
   ]
  },
  {
   "cell_type": "code",
   "execution_count": null,
   "id": "272245d0",
   "metadata": {},
   "outputs": [],
   "source": [
    "adata = sc.read_h5ad(\"/add/path/here/GSE222078_adata.h5ad\")"
   ]
  },
  {
   "cell_type": "code",
   "execution_count": null,
   "id": "feb76696",
   "metadata": {},
   "outputs": [],
   "source": [
    "celltypes = pd.read_csv(datadir / \"highLevelCellTypes.csv\",index_col=0)\n",
    "\n",
    "celltypes.index = celltypes.index.str.replace(\"-\",\".\")\n",
    "\n",
    "adata.obs = pd.concat([adata.obs,celltypes],axis=1)"
   ]
  },
  {
   "cell_type": "code",
   "execution_count": null,
   "id": "74a18442",
   "metadata": {},
   "outputs": [],
   "source": [
    "sc.tl.pca(adata)\n",
    "\n",
    "sc.external.pp.harmony_integrate(adata, key=\"Sample\", max_iter_harmony=20)\n",
    "\n",
    "sc.pp.neighbors(adata, use_rep=\"X_pca_harmony\")\n",
    "\n",
    "sc.tl.umap(adata)"
   ]
  },
  {
   "cell_type": "code",
   "execution_count": null,
   "id": "c1ef45fb",
   "metadata": {},
   "outputs": [],
   "source": [
    "toptfs = pd.read_csv(\"/add/path/here/toptfs_top20.csv\",index_col=0)\n",
    "toptfs = {state[:6]: toptfs[state].dropna().ravel() for state in toptfs.columns}"
   ]
  },
  {
   "cell_type": "code",
   "execution_count": null,
   "id": "6a24155e",
   "metadata": {},
   "outputs": [],
   "source": [
    "for sig, genes in full_sigs.items():\n",
    "    sc.tl.score_genes(adata=adata,\n",
    "                        gene_list=np.setdiff1d(genes,toptfs[sig]), \n",
    "                        score_name=f\"{sig}_score\")"
   ]
  },
  {
   "cell_type": "code",
   "execution_count": null,
   "id": "12595265",
   "metadata": {},
   "outputs": [],
   "source": [
    "cnmf_names = [f\"cNMF_{i}_score\" for i in range(1,6)]"
   ]
  },
  {
   "cell_type": "code",
   "execution_count": null,
   "id": "a18459b9",
   "metadata": {},
   "outputs": [],
   "source": [
    "sc.pl.umap(adata, color=[\"celltype\"]+cnmf_names,ncols=2)"
   ]
  },
  {
   "cell_type": "code",
   "execution_count": null,
   "id": "660ad1f6",
   "metadata": {},
   "outputs": [],
   "source": [
    "fig, axs = plt.subplots(3,2, figsize=(10,10))\n",
    "flatax = axs.flatten()\n",
    "for i,ax in enumerate(flatax[:-1]):\n",
    "    sns.boxplot(data=adata.obs, x=\"celltype\", y=f\"cNMF_{i+1}_score\", ax=flatax[i])\n",
    "    flatax[i].spines[['right', 'top']].set_visible(False)\n",
    "    flatax[i].set_xticklabels(ax.get_xticklabels(), rotation=45, ha=\"right\")\n",
    "    flatax[i].hlines(y=adata.obs[f\"cNMF_{i+1}_score\"].median(), xmin=flatax[i].get_xlim()[0], xmax=flatax[i].get_xlim()[1], linestyles=\"dashed\", color=\"grey\")\n",
    "flatax[-1].axis(\"off\")\n",
    "fig.tight_layout()\n",
    "fig.savefig(\"figures/external/boxplot_cNMF_score_per_celltype.png\", dpi=250, bbox_inches=\"tight\")"
   ]
  },
  {
   "cell_type": "markdown",
   "id": "ebe861b6",
   "metadata": {},
   "source": [
    "# Visualizing signatures in carcinoma cells"
   ]
  },
  {
   "cell_type": "code",
   "execution_count": null,
   "id": "99c95abc",
   "metadata": {},
   "outputs": [],
   "source": [
    "subadata = adata[adata.obs.celltype.isin([\"Epithelial\"])].copy()"
   ]
  },
  {
   "cell_type": "code",
   "execution_count": null,
   "id": "183bd5ca",
   "metadata": {},
   "outputs": [],
   "source": [
    "sc.tl.pca(subadata)\n",
    "\n",
    "sc.external.pp.harmony_integrate(subadata, key=\"Sample\", max_iter_harmony=20, sigma=0.6)\n",
    "\n",
    "sc.pp.neighbors(subadata, use_rep=\"X_pca_harmony\")\n",
    "\n",
    "sc.tl.umap(subadata)"
   ]
  },
  {
   "cell_type": "code",
   "execution_count": null,
   "id": "075e9c99",
   "metadata": {},
   "outputs": [],
   "source": [
    "sc.pl.umap(subadata, color=cnmf_names,ncols=2, frameon=False)"
   ]
  },
  {
   "cell_type": "code",
   "execution_count": null,
   "id": "0c6eb892",
   "metadata": {},
   "outputs": [],
   "source": [
    "import matplotlib\n",
    "import matplotlib.cm as cm\n",
    "import matplotlib.colors as mcolors\n",
    "\n",
    "X_pca = pd.DataFrame(subadata.obsm[\"X_pca_harmony\"][:,:2],index=subadata.obs_names,columns=[\"PC1\",\"PC2\"])\n",
    "\n",
    "X_pca = pd.concat([X_pca, subadata.obs[[\"cNMF_1_score\",\"cNMF_2_score\",\"cNMF_3_score\",\n",
    "                                        \"cNMF_4_score\",\"cNMF_5_score\"]]],axis=1)\n",
    "X_pca.columns = [\"PC1\",\"PC2\",\"cNMF_1\",\"cNMF_2\",\"cNMF_3\",\"cNMF_4\",\"cNMF_5\"]\n",
    "\n",
    "def plot_pcs_color(ax, state):\n",
    "    vcenter = X_pca[state].median()\n",
    "    vmin, vmax = X_pca[state].min(), X_pca[state].max()\n",
    "    normalize = mcolors.TwoSlopeNorm(vcenter=vcenter, vmin=vmin, vmax=vmax)\n",
    "    colormap = matplotlib.colormaps['RdBu_r']\n",
    "    sns.scatterplot(\n",
    "        y=X_pca[\"PC2\"],\n",
    "        x=X_pca[\"PC1\"],\n",
    "        c=X_pca[state],\n",
    "        s=15,\n",
    "        norm=normalize,\n",
    "        cmap=colormap,\n",
    "        ax=ax\n",
    "    )\n",
    "    scalarmappaple = cm.ScalarMappable(norm=normalize, cmap=colormap)\n",
    "    scalarmappaple.set_array(X_pca[state])\n",
    "    fig.colorbar(scalarmappaple, ax=ax)\n",
    "    ax.set_title(state)\n",
    "    pretty_ax(ax)\n",
    "\n",
    "fig, ax = plt.subplots(1,5, figsize=(15,2))\n",
    "flatax = ax.flatten()\n",
    "\n",
    "plot_pcs_color(flatax[0], \"cNMF_1\")\n",
    "plot_pcs_color(flatax[1], \"cNMF_2\")\n",
    "plot_pcs_color(flatax[2], \"cNMF_3\")\n",
    "plot_pcs_color(flatax[3], \"cNMF_4\")\n",
    "plot_pcs_color(flatax[4], \"cNMF_5\")\n",
    "\n",
    "fig.tight_layout()\n"
   ]
  },
  {
   "cell_type": "code",
   "execution_count": null,
   "id": "a445d621",
   "metadata": {},
   "outputs": [],
   "source": [
    "subadata.obs[[\"cNMF_1_score\",\"cNMF_2_score\",\"cNMF_3_score\",\"cNMF_4_score\",\"cNMF_5_score\"]].corr()"
   ]
  }
 ],
 "metadata": {
  "kernelspec": {
   "display_name": "Python 3 (ipykernel)",
   "language": "python",
   "name": "python3"
  },
  "language_info": {
   "codemirror_mode": {
    "name": "ipython",
    "version": 3
   },
   "file_extension": ".py",
   "mimetype": "text/x-python",
   "name": "python",
   "nbconvert_exporter": "python",
   "pygments_lexer": "ipython3",
   "version": "3.9.16"
  }
 },
 "nbformat": 4,
 "nbformat_minor": 5
}
