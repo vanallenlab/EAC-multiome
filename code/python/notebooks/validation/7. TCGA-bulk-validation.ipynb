{
 "cells": [
  {
   "cell_type": "code",
   "execution_count": null,
   "id": "71bc41de-865c-47f3-b674-cbd48774c359",
   "metadata": {},
   "outputs": [],
   "source": [
    "import numpy as np\n",
    "import pandas as pd\n",
    "import scanpy as sc\n",
    "import matplotlib.pyplot as plt\n",
    "import seaborn as sns\n",
    "\n",
    "from statannotations.Annotator import Annotator"
   ]
  },
  {
   "cell_type": "code",
   "execution_count": null,
   "id": "921113cb-6074-4a6c-8373-58a1fae958ed",
   "metadata": {},
   "outputs": [],
   "source": [
    "import pathlib as pl"
   ]
  },
  {
   "cell_type": "code",
   "execution_count": null,
   "id": "4df9dcf8-7d97-496c-a544-c0f14a4c83a1",
   "metadata": {},
   "outputs": [],
   "source": [
    "from sklearn.preprocessing import StandardScaler\n",
    "from lifelines import CoxPHFitter"
   ]
  },
  {
   "cell_type": "code",
   "execution_count": null,
   "id": "0aab69e3-8eed-48b9-ad99-4e51b5cabdf8",
   "metadata": {},
   "outputs": [],
   "source": [
    "import itertools"
   ]
  },
  {
   "cell_type": "code",
   "execution_count": null,
   "id": "b6a6c392-9717-4225-b03c-f9349b6f5910",
   "metadata": {},
   "outputs": [],
   "source": [
    "def pretty_ax(ax):\n",
    "    ax.spines['right'].set_visible(False)\n",
    "    ax.spines['top'].set_visible(False)\n",
    "    ax.tick_params(\n",
    "        axis='both',  \n",
    "        which='both',      \n",
    "        bottom=True,     \n",
    "        top=False,\n",
    "        left=False,\n",
    "        labelbottom=True,\n",
    "        labelleft = True)\n",
    "    ax.spines[\"bottom\"].set_linewidth(1.5)\n",
    "    ax.spines[\"left\"].set_linewidth(1.5)"
   ]
  },
  {
   "cell_type": "markdown",
   "id": "3346b977-0fab-43a0-95b4-ec16fd7901f1",
   "metadata": {},
   "source": [
    "# Download TCGA data"
   ]
  },
  {
   "cell_type": "code",
   "execution_count": null,
   "id": "379544ce-03c8-49fa-8e1e-1244366c762c",
   "metadata": {},
   "outputs": [],
   "source": [
    "tcga_dir = pl.Path(\"/cluster/work/boeva/scRNAdata/TCGA_data/\")"
   ]
  },
  {
   "cell_type": "code",
   "execution_count": null,
   "id": "4db9e0e0-8e2a-4593-a50e-bbf54104b547",
   "metadata": {},
   "outputs": [],
   "source": [
    "eac_tcga_dir = pl.Path(\"/cluster/work/boeva/jyates/EAC_singlecell/auxiliary_data/tcga/\")"
   ]
  },
  {
   "cell_type": "code",
   "execution_count": null,
   "id": "35c75e01-76b2-474c-ac6f-5f05568c7883",
   "metadata": {},
   "outputs": [],
   "source": [
    "clinical_full = pd.read_csv(eac_tcga_dir / \"TCGA.ESCA.sampleMap_ESCA_clinicalMatrix\", sep=\"\\t\", index_col=0)"
   ]
  },
  {
   "cell_type": "code",
   "execution_count": null,
   "id": "a985a01c",
   "metadata": {},
   "outputs": [],
   "source": [
    "clinical_nature = pd.read_csv(eac_tcga_dir / \"ESCA_Nature_clinicalinfo.csv\", index_col=0, skiprows=1)"
   ]
  },
  {
   "cell_type": "code",
   "execution_count": null,
   "id": "83632791-a085-441b-8f98-039623b4024d",
   "metadata": {},
   "outputs": [],
   "source": [
    "hrd_score = pd.read_csv(eac_tcga_dir / \"TCGA.HRD_withSampleID.txt.gz\",sep=\"\\t\",index_col=0).T"
   ]
  },
  {
   "cell_type": "code",
   "execution_count": null,
   "id": "673a6c15-5463-40dd-8d4f-fafb58fc8a48",
   "metadata": {},
   "outputs": [],
   "source": [
    "immune_subtype = pd.read_csv(eac_tcga_dir / \"Subtype_Immune_Model_Based.txt.gz\",sep=\"\\t\",index_col=0)"
   ]
  },
  {
   "cell_type": "code",
   "execution_count": null,
   "id": "c58bb450-7950-4138-9c24-e5403050d3a9",
   "metadata": {},
   "outputs": [],
   "source": [
    "fpkm = pd.read_csv(eac_tcga_dir / \"TCGA-ESCA.htseq_fpkm-uq.tsv.gz\",sep=\"\\t\",index_col=0).T\n",
    "fpkm.index = fpkm.index.str[:15]"
   ]
  },
  {
   "cell_type": "code",
   "execution_count": null,
   "id": "35417b76-e57b-43a2-9188-d901b447d2e1",
   "metadata": {},
   "outputs": [],
   "source": [
    "gencode = pd.read_csv(eac_tcga_dir /\"gencode_mapping_table.csv\")\n",
    "gencode = gencode.set_index('gencode_id_gex')\n",
    "\n",
    "mapping_gen = gencode.loc[fpkm.columns.intersection(gencode.index)].gene_name.to_dict()\n",
    "fpkm = fpkm.loc[:,fpkm.columns.intersection(gencode.index)]\n",
    "fpkm = fpkm.rename(columns=mapping_gen)\n",
    "fpkm = fpkm.loc[:,~(fpkm.columns.duplicated())]"
   ]
  },
  {
   "cell_type": "code",
   "execution_count": null,
   "id": "80292d7c-0c95-4b19-8249-8d45c417c084",
   "metadata": {},
   "outputs": [],
   "source": [
    "cnvs = pd.read_csv(eac_tcga_dir / \"TCGA-ESCA.gistic.tsv.gz\",sep=\"\\t\",index_col=0).T\n",
    "cnvs.index = cnvs.index.str[:15]\n",
    "cnvs = cnvs.loc[:,cnvs.columns.intersection(gencode.index)]\n",
    "cnvs = cnvs.rename(columns=mapping_gen)\n",
    "cnvs = cnvs.loc[:,~cnvs.columns.duplicated()]"
   ]
  },
  {
   "cell_type": "code",
   "execution_count": null,
   "id": "5faa2df4-3a5c-4e46-918c-977aba2778d7",
   "metadata": {},
   "outputs": [],
   "source": [
    "mutations = pd.read_csv(eac_tcga_dir / \"mc3_gene_level_ESCA_mc3_gene_level.txt.gz\",sep=\"\\t\",index_col=0).T"
   ]
  },
  {
   "cell_type": "code",
   "execution_count": null,
   "id": "5953b618-72e0-42c6-8249-6121f08209c8",
   "metadata": {},
   "outputs": [],
   "source": [
    "mutect2 = pd.read_csv(eac_tcga_dir / \"TCGA-ESCA.mutect2_snv.tsv.gz\", sep=\"\\t\",index_col=0)\n",
    "mutect2= mutect2[(~(mutect2.effect.str.contains(\"synonymous_variant\"))) & (mutect2[\"filter\"]==\"PASS\")]\n",
    "mutect2.index = mutect2.index.str[:-1]\n",
    "tmb = mutect2.groupby(by=mutect2.index).count()[\"gene\"]/38\n",
    "tmb.name = \"TMB\""
   ]
  },
  {
   "cell_type": "code",
   "execution_count": null,
   "id": "95e06c6b-76f1-41ee-81d5-720d670520f3",
   "metadata": {},
   "outputs": [],
   "source": [
    "eac_patients = clinical_full[clinical_full[\"histological_type\"]==\"Esophagus Adenocarcinoma, NOS\"].index\n",
    "eac_patients = fpkm.index.intersection(eac_patients)"
   ]
  },
  {
   "cell_type": "code",
   "execution_count": null,
   "id": "323b5187-da06-43ab-bc78-b2fa71fa767b",
   "metadata": {},
   "outputs": [],
   "source": [
    "normal_patients = eac_patients[eac_patients.str.contains(\"-11\")]\n",
    "eac_patients = eac_patients[~eac_patients.str.contains(\"-11\")]"
   ]
  },
  {
   "cell_type": "code",
   "execution_count": null,
   "id": "dbe8d2cf-d6c1-47ca-89a5-4f494d26a835",
   "metadata": {},
   "outputs": [],
   "source": [
    "fpkm_eac = fpkm.loc[eac_patients]\n",
    "clinical_eac = clinical_full.loc[eac_patients]\n",
    "cnvs_eac = cnvs.loc[cnvs.index.intersection(eac_patients)]\n",
    "mut_eac = mutations.loc[mutations.index.intersection(eac_patients)]\n",
    "tmb_eac = tmb.loc[tmb.index.intersection(eac_patients)]\n",
    "hrd_score = hrd_score.loc[hrd_score.index.intersection(eac_patients)]\n",
    "immune_subtype = immune_subtype.loc[immune_subtype.index.intersection(eac_patients)]"
   ]
  },
  {
   "cell_type": "code",
   "execution_count": null,
   "id": "55ea6a42-8969-4e16-a4c0-84e48900105c",
   "metadata": {},
   "outputs": [],
   "source": [
    "std_fpkm = (fpkm_eac-fpkm_eac.mean())/fpkm_eac.std()"
   ]
  },
  {
   "cell_type": "code",
   "execution_count": null,
   "id": "2ceeb9c0-f8ef-4ed2-b0dc-3d2c7b524734",
   "metadata": {
    "scrolled": true
   },
   "outputs": [],
   "source": [
    "signature_dir = pl.Path(\"/cluster/work/boeva/jyates/EAC_singlecell/upd_clean_code/signatures_canceronly\")\n",
    "\n",
    "full_sigs = {}\n",
    "for s in (signature_dir).iterdir():\n",
    "    sig = s.stem\n",
    "    full_sigs[sig] = pd.read_csv(s,index_col=0).set_index(\"0\")\n",
    "    full_sigs[sig] = full_sigs[sig].index.ravel()"
   ]
  },
  {
   "cell_type": "code",
   "execution_count": null,
   "id": "cd5531b9-8fa8-443c-b192-002f16ec855b",
   "metadata": {},
   "outputs": [],
   "source": [
    "caf_sig_dir = pl.Path(\"/cluster/work/boeva/jyates/EAC_singlecell/upd_clean_code/marker_genes/fibroblast/\")\n",
    "\n",
    "caf_sigs = {}\n",
    "for sig in caf_sig_dir.iterdir():\n",
    "    caf_sigs[sig.stem] = pd.read_csv(sig, index_col=0).set_index(\"names\")\n",
    "    caf_sigs[sig.stem] = caf_sigs[sig.stem][~caf_sigs[sig.stem].index.str.startswith((\"MT-\",\"RPS\",\"RPL\"))]\n",
    "    caf_sigs[sig.stem] = caf_sigs[sig.stem].head(100).index.ravel()"
   ]
  },
  {
   "cell_type": "code",
   "execution_count": null,
   "id": "eadbd0c4-964e-4cea-8138-d7aeed8832d7",
   "metadata": {},
   "outputs": [],
   "source": [
    "myeloid_sig_dir = pl.Path(\"/cluster/work/boeva/jyates/EAC_singlecell/upd_clean_code/marker_genes/myeloid/\")\n",
    "\n",
    "myeloid_sigs = {}\n",
    "for sig in myeloid_sig_dir.iterdir():\n",
    "    myeloid_sigs[sig.stem] = pd.read_csv(sig, index_col=0).set_index(\"names\")\n",
    "    myeloid_sigs[sig.stem] = myeloid_sigs[sig.stem][~myeloid_sigs[sig.stem].index.str.startswith((\"MT-\",\"RPS\",\"RPL\"))]\n",
    "    myeloid_sigs[sig.stem] = myeloid_sigs[sig.stem].head(100).index.ravel()"
   ]
  },
  {
   "cell_type": "code",
   "execution_count": null,
   "id": "ec978a68-5177-466e-bede-82c2112607f1",
   "metadata": {},
   "outputs": [],
   "source": [
    "red_sigs = full_sigs"
   ]
  },
  {
   "cell_type": "code",
   "execution_count": null,
   "id": "804ebc7e-7831-4942-b775-40a0b8062871",
   "metadata": {},
   "outputs": [],
   "source": [
    "import gseapy as gp\n",
    "\n",
    "ss = gp.ssgsea(data=fpkm_eac.T, \n",
    "               gene_sets=red_sigs.copy(),\n",
    "               outdir=None,\n",
    "               sample_norm_method='rank', # choose 'custom' will only use the raw value of `data`\n",
    "               no_plot=True)\n",
    "\n",
    "state_score = ss.res2d.T"
   ]
  },
  {
   "cell_type": "code",
   "execution_count": null,
   "id": "6e4c92a8-a605-41b9-906e-2345e95b32ff",
   "metadata": {},
   "outputs": [],
   "source": [
    "ss = gp.ssgsea(data=fpkm_eac.T,\n",
    "               gene_sets=caf_sigs.copy(),\n",
    "               outdir=None,\n",
    "               sample_norm_method='rank', # choose 'custom' will only use the raw value of `data`\n",
    "               no_plot=True)\n",
    "\n",
    "caf_score = ss.res2d.T"
   ]
  },
  {
   "cell_type": "code",
   "execution_count": null,
   "id": "980fbc84-bb10-4244-b2ad-17c092aa4d04",
   "metadata": {},
   "outputs": [],
   "source": [
    "ss = gp.ssgsea(data=fpkm_eac.T,\n",
    "               gene_sets=myeloid_sigs.copy(),\n",
    "               outdir=None,\n",
    "               sample_norm_method='rank', # choose 'custom' will only use the raw value of `data`\n",
    "               no_plot=True)\n",
    "\n",
    "myeloid_score = ss.res2d.T"
   ]
  },
  {
   "cell_type": "code",
   "execution_count": null,
   "id": "e3b1cfec-4502-41e9-bdb7-88fed8e0f3b8",
   "metadata": {},
   "outputs": [],
   "source": [
    "df = state_score.copy()\n",
    "df.index = df.index.str[:-3]\n",
    "\n",
    "common_patients = df.index.intersection(clinical_nature.index)\n",
    "\n",
    "augclin = pd.concat([state_score,caf_score,myeloid_score,clinical_eac],axis=1,join=\"inner\")\n",
    "augclin = pd.concat([augclin, tmb_eac],axis=1,join='outer')\n",
    "\n",
    "stage_mapping = {\"Stage X\": np.nan, \"Stage IV\": 4, \"Stage IVB\": 4, \"Stage IVA\": 4, \"Stage IIB\": 2, \"Stage IA\": 1, \"Stage IIIA\": 3, \"Stage IIA\": 2, \"Stage IIC\": 2, \n",
    "                 \"Stage I\": 1, \"Stage IIIC\": 3, \"Stage IB\": 1, \"Stage IIIB\": 3, 'Stage III': 3, \"Stage II\": 2, \"I/II NOS\": 1,\n",
    "                 \"[Discrepancy]\": np.nan}\n",
    "\n",
    "augclin[\"Disease\"] = pd.Series(augclin.index.str[:15].str.split(\"-\").str[-1]).replace({\"01\": \"Tumor\", \"11\": \"Normal\", \"06\": \"Tumor\"}).ravel()\n",
    "\n",
    "augclin[\"Stage\"] = augclin.pathologic_stage.replace(stage_mapping).astype(\"category\")\n",
    "\n",
    "augclin[\"Response to treatment\"] = augclin[\"additional_treatment_completion_success_outcome\"].replace({\"Partial Response\": \"Response/Stable\", \n",
    "                                                                    \"Stable Disease\": \"Response/Stable\", \n",
    "                                                                    \"Complete Response\": \"Response/Stable\"})\n",
    "\n",
    "augclin[\"M_status\"]  = augclin[\"pathologic_M\"].fillna(augclin[\"clinical_M\"]).replace({\"MX\": np.nan, \"M1a\": \"M1\", \"M1b\": \"M1\"})\n",
    "\n",
    "augclin[\"N_status\"] = augclin[\"pathologic_N\"].fillna(augclin[\"clinical_N\"]).replace({\"NX\": np.nan, \"N2\": \"N1/N2/N3\", \"N1\": \"N1/N2/N3\", \"N3\": \"N1/N2/N3\"})\n",
    "\n",
    "augclin[\"T_status\"] = augclin[\"pathologic_T\"].fillna(augclin[\"clinical_T\"]).replace({\"TX\": np.nan, \"T0\": np.nan, \n",
    "                                                                                     \"T3\": \"T3/T4\", \n",
    "                                                                                     \"T4\": \"T3/T4\",\n",
    "                                                                                     \"T4a\": \"T3/T4\", })\n",
    "\n",
    "augclin[\"MSI_status\"] = augclin[\"CDE_ID_3226963\"].replace({\"MSI-H\": \"MSI\", \"MSI-L\": \"MSI\"})\n",
    "augclin[\"Histological subtype\"] = augclin[\"histological_type\"].replace({\"Esophagus Adenocarcinoma, NOS\": \"EAC\", \n",
    "                                                                     \"Esophagus Squamous Cell Carcinoma\": \"ESCC\"})\n",
    "augclin[\"HRD\"] = np.nan\n",
    "augclin.loc[hrd_score.index,\"HRD\"] = hrd_score[\"HRD\"] \n",
    "\n",
    "augclin[\"Immune subtype\"] = \"None\"\n",
    "augclin.loc[immune_subtype.index,\"Immune subtype\"] = immune_subtype[\"Subtype_Immune_Model_Based\"]"
   ]
  },
  {
   "cell_type": "code",
   "execution_count": null,
   "id": "05ef7894-d1d0-420c-9a77-f881275bb0a4",
   "metadata": {},
   "outputs": [],
   "source": [
    "def plot_box(ax, augclin, x, y, pairs, order=None):\n",
    "    sns.boxplot(data=augclin,x=x, y=y, order=order, ax=ax)\n",
    "    pretty_ax(ax)\n",
    "    annotator = Annotator(ax, pairs, data=augclin,\n",
    "                          x=x, y=y, order=order)\n",
    "    annotator.configure(test='Mann-Whitney', text_format='simple', show_test_name=False, loc='inside')\n",
    "    annotator.apply_and_annotate()"
   ]
  },
  {
   "cell_type": "code",
   "execution_count": null,
   "id": "c1ba34c6-a1e1-41ce-8818-26295d07fabb",
   "metadata": {},
   "outputs": [],
   "source": []
  },
  {
   "cell_type": "code",
   "execution_count": null,
   "id": "db162816-50fb-437a-8b90-e43ffe9319d3",
   "metadata": {},
   "outputs": [],
   "source": [
    "df = augclin[[\"cNMF_1\",\"cNMF_2\",\"cNMF_3\",\"cNMF_4\",\"cNMF_5\"]].unstack(-1).reset_index()\n",
    "df[\"N status\"] = df[\"level_1\"].replace(augclin[\"N_status\"].to_dict())\n",
    "df = df.set_index(\"level_1\")\n",
    "df.columns = [\"Program\", \"Score\", \"N status\"]\n",
    "\n",
    "x= \"Program\"\n",
    "y= \"Score\"\n",
    "hue = \"N status\"\n",
    "hue_order = [\"N0\", \"N1/N2/N3\"]\n",
    "pairs = []\n",
    "for prog in [\"cNMF_1\",\"cNMF_2\",\"cNMF_3\",\"cNMF_4\",\"cNMF_5\"]:\n",
    "    for i,c1 in enumerate(hue_order):\n",
    "        for j,c2 in enumerate(hue_order):\n",
    "            if j>i:\n",
    "                pairs.append([(prog, c1), (prog, c2)])\n",
    "\n",
    "\n",
    "fig, ax = plt.subplots(1,1,figsize=(5,3))\n",
    "sns.boxplot(data=df, x=x, y=y, hue=hue, hue_order=hue_order,ax=ax)\n",
    "ax.set_ylabel(\"ssGSEA score\")\n",
    "ax.set_xticks(ax.get_xticks(), [\"cNMF$_{1}$\",\"cNMF$_{2}$\",\"cNMF$_{3}$\",\"cNMF$_{4}$\",\"cNMF$_{5}$\"])\n",
    "plt.legend(frameon=False, bbox_to_anchor=(1,1,0,0), title=hue)\n",
    "\n",
    "\n",
    "annotator = Annotator(ax, pairs, data=df,\n",
    "                          x=x, y=y, hue=hue, hue_order=hue_order)\n",
    "annotator.configure(test='Mann-Whitney', text_format='simple', show_test_name=False, loc='inside')\n",
    "annotator.apply_and_annotate()\n",
    "pretty_ax(ax)\n",
    "fig.savefig(\"figures/tcga/cNMF_link_N_status.svg\", dpi=200, bbox_inches=\"tight\")"
   ]
  },
  {
   "cell_type": "code",
   "execution_count": null,
   "id": "33a306ba-699b-445f-a1a1-82ab00a74622",
   "metadata": {},
   "outputs": [],
   "source": [
    "df = augclin[[\"cNMF_1\",\"cNMF_2\",\"cNMF_3\",\"cNMF_4\",\"cNMF_5\"]].unstack(-1).reset_index()\n",
    "df[\"M status\"] = df[\"level_1\"].replace(augclin[\"M_status\"].to_dict())\n",
    "df = df.set_index(\"level_1\")\n",
    "df.columns = [\"Program\", \"Score\", \"M status\"]\n",
    "\n",
    "x= \"Program\"\n",
    "y= \"Score\"\n",
    "hue = \"M status\"\n",
    "hue_order = [\"M0\", \"M1\"]\n",
    "pairs = []\n",
    "for prog in [\"cNMF_1\",\"cNMF_2\",\"cNMF_3\",\"cNMF_4\",\"cNMF_5\"]:\n",
    "    for i,c1 in enumerate(hue_order):\n",
    "        for j,c2 in enumerate(hue_order):\n",
    "            if j>i:\n",
    "                pairs.append([(prog, c1), (prog, c2)])\n",
    "\n",
    "\n",
    "fig, ax = plt.subplots(1,1,figsize=(5,3))\n",
    "sns.boxplot(data=df, x=x, y=y, hue=hue, hue_order=hue_order,ax=ax)\n",
    "ax.set_ylabel(\"ssGSEA score\")\n",
    "ax.set_xticks(ax.get_xticks(), [\"cNMF$_{1}$\",\"cNMF$_{2}$\",\"cNMF$_{3}$\",\"cNMF$_{4}$\",\"cNMF$_{5}$\"])\n",
    "plt.legend(frameon=False, bbox_to_anchor=(1,1,0,0), title=hue)\n",
    "\n",
    "\n",
    "annotator = Annotator(ax, pairs, data=df,\n",
    "                          x=x, y=y, hue=hue, hue_order=hue_order)\n",
    "annotator.configure(test='Mann-Whitney', text_format='simple', show_test_name=False, loc='inside')\n",
    "annotator.apply_and_annotate()\n",
    "pretty_ax(ax)\n",
    "fig.savefig(\"figures/tcga/cNMF_link_M_status.svg\", dpi=200, bbox_inches=\"tight\")"
   ]
  },
  {
   "cell_type": "code",
   "execution_count": null,
   "id": "545fd893-19ad-4418-8f9a-69428b7037fb",
   "metadata": {},
   "outputs": [],
   "source": [
    "df = augclin[['Adipose CAF',\n",
    "       'Fibroblast', 'HGF-CAF', 'Inflammatory CAF']].unstack(-1).reset_index()\n",
    "df[\"T status\"] = df[\"level_1\"].replace(augclin[\"T_status\"].to_dict())\n",
    "df = df.set_index(\"level_1\")\n",
    "df.columns = [\"Program\", \"Score\", \"T status\"]\n",
    "\n",
    "x= \"Program\"\n",
    "y= \"Score\"\n",
    "hue = \"T status\"\n",
    "hue_order = [\"T1\", \"T2\", \"T3/T4\"]\n",
    "pairs = []\n",
    "for prog in ['Adipose CAF',\n",
    "       'Fibroblast', 'HGF-CAF', 'Inflammatory CAF']:\n",
    "    for i,c1 in enumerate(hue_order):\n",
    "        for j,c2 in enumerate(hue_order):\n",
    "            if j>i:\n",
    "                pairs.append([(prog, c1), (prog, c2)])\n",
    "\n",
    "fig, ax = plt.subplots(1,1,figsize=(5,3))\n",
    "sns.boxplot(data=df, x=x, y=y, hue=hue, hue_order=hue_order,ax=ax)\n",
    "ax.set_ylabel(\"ssGSEA score\")\n",
    "\n",
    "plt.legend(frameon=False, bbox_to_anchor=(1,1,0,0), title=hue)\n",
    "\n",
    "\n",
    "annotator = Annotator(ax, pairs, data=df,\n",
    "                          x=x, y=y, hue=hue, hue_order=hue_order)\n",
    "annotator.configure(test='Mann-Whitney', text_format='simple', show_test_name=False, loc='inside')\n",
    "annotator.apply_and_annotate()\n",
    "pretty_ax(ax)\n",
    "fig.savefig(\"figures/tcga/fibroblast_link_T_status.svg\", dpi=200, bbox_inches=\"tight\")"
   ]
  },
  {
   "cell_type": "code",
   "execution_count": null,
   "id": "8f230e4b-b5db-4cdd-a5bc-8c5d45c798c6",
   "metadata": {},
   "outputs": [],
   "source": [
    "df = augclin[['Adipose CAF',\n",
    "       'Fibroblast', 'HGF-CAF', 'Inflammatory CAF']].unstack(-1).reset_index()\n",
    "df[\"N status\"] = df[\"level_1\"].replace(augclin[\"N_status\"].to_dict())\n",
    "df = df.set_index(\"level_1\")\n",
    "df.columns = [\"Program\", \"Score\", \"N status\"]\n",
    "\n",
    "x= \"Program\"\n",
    "y= \"Score\"\n",
    "hue = \"N status\"\n",
    "hue_order = [\"N0\", \"N1/N2/N3\"]\n",
    "pairs = []\n",
    "for prog in ['Adipose CAF',\n",
    "       'Fibroblast', 'HGF-CAF', 'Inflammatory CAF']:\n",
    "    for i,c1 in enumerate(hue_order):\n",
    "        for j,c2 in enumerate(hue_order):\n",
    "            if j>i:\n",
    "                pairs.append([(prog, c1), (prog, c2)])\n",
    "\n",
    "fig, ax = plt.subplots(1,1,figsize=(5,3))\n",
    "sns.boxplot(data=df, x=x, y=y, hue=hue, hue_order=hue_order,ax=ax)\n",
    "ax.set_ylabel(\"ssGSEA score\")\n",
    "\n",
    "plt.legend(frameon=False, bbox_to_anchor=(1,1,0,0), title=hue)\n",
    "\n",
    "\n",
    "annotator = Annotator(ax, pairs, data=df,\n",
    "                          x=x, y=y, hue=hue, hue_order=hue_order)\n",
    "annotator.configure(test='Mann-Whitney', text_format='simple', show_test_name=False, loc='inside')\n",
    "annotator.apply_and_annotate()\n",
    "pretty_ax(ax)\n",
    "fig.savefig(\"figures/tcga/fibroblast_link_N_status.svg\", dpi=200, bbox_inches=\"tight\")"
   ]
  },
  {
   "cell_type": "code",
   "execution_count": null,
   "id": "b9a8f81d-77fd-4c88-9549-b4974e0256a1",
   "metadata": {},
   "outputs": [],
   "source": [
    "df = augclin[['DC', 'Kupffer cells',\n",
    "       'Mast', 'TAM1', 'TAM2']].unstack(-1).reset_index()\n",
    "df[\"T status\"] = df[\"level_1\"].replace(augclin[\"T_status\"].to_dict())\n",
    "df = df.set_index(\"level_1\")\n",
    "df.columns = [\"Program\", \"Score\", \"T status\"]\n",
    "\n",
    "x= \"Program\"\n",
    "y= \"Score\"\n",
    "hue = \"T status\"\n",
    "hue_order = [\"T1\", \"T2\", \"T3/T4\"]\n",
    "pairs = []\n",
    "for prog in ['DC', 'Kupffer cells',\n",
    "       'Mast', 'TAM1', 'TAM2']:\n",
    "    for i,c1 in enumerate(hue_order):\n",
    "        for j,c2 in enumerate(hue_order):\n",
    "            if j>i:\n",
    "                pairs.append([(prog, c1), (prog, c2)])\n",
    "\n",
    "fig, ax = plt.subplots(1,1,figsize=(5,3))\n",
    "sns.boxplot(data=df, x=x, y=y, hue=hue, hue_order=hue_order,ax=ax)\n",
    "ax.set_ylabel(\"ssGSEA score\")\n",
    "\n",
    "plt.legend(frameon=False, bbox_to_anchor=(1,1,0,0), title=hue)\n",
    "\n",
    "\n",
    "annotator = Annotator(ax, pairs, data=df,\n",
    "                          x=x, y=y, hue=hue, hue_order=hue_order)\n",
    "annotator.configure(test='Mann-Whitney', text_format='simple', show_test_name=False, loc='inside')\n",
    "annotator.apply_and_annotate()\n",
    "pretty_ax(ax)\n",
    "fig.savefig(\"figures/tcga/myeloid_link_T_status.svg\", dpi=200, bbox_inches=\"tight\")"
   ]
  },
  {
   "cell_type": "code",
   "execution_count": null,
   "id": "53a03a3e-dbec-4b05-aff4-eedc3309ec63",
   "metadata": {},
   "outputs": [],
   "source": [
    "df = augclin[['DC', 'Kupffer cells',\n",
    "       'Mast', 'TAM1', 'TAM2']].unstack(-1).reset_index()\n",
    "df[\"N status\"] = df[\"level_1\"].replace(augclin[\"N_status\"].to_dict())\n",
    "df = df.set_index(\"level_1\")\n",
    "df.columns = [\"Program\", \"Score\", \"N status\"]\n",
    "\n",
    "x= \"Program\"\n",
    "y= \"Score\"\n",
    "hue = \"N status\"\n",
    "hue_order = [\"N0\", \"N1/N2/N3\"]\n",
    "pairs = []\n",
    "for prog in ['DC', 'Kupffer cells',\n",
    "       'Mast', 'TAM1', 'TAM2']:\n",
    "    for i,c1 in enumerate(hue_order):\n",
    "        for j,c2 in enumerate(hue_order):\n",
    "            if j>i:\n",
    "                pairs.append([(prog, c1), (prog, c2)])\n",
    "\n",
    "fig, ax = plt.subplots(1,1,figsize=(5,3))\n",
    "sns.boxplot(data=df, x=x, y=y, hue=hue, hue_order=hue_order,ax=ax)\n",
    "ax.set_ylabel(\"ssGSEA score\")\n",
    "\n",
    "plt.legend(frameon=False, bbox_to_anchor=(1,1,0,0), title=hue)\n",
    "\n",
    "\n",
    "annotator = Annotator(ax, pairs, data=df,\n",
    "                          x=x, y=y, hue=hue, hue_order=hue_order)\n",
    "annotator.configure(test='Mann-Whitney', text_format='simple', show_test_name=False, loc='inside')\n",
    "annotator.apply_and_annotate()\n",
    "pretty_ax(ax)\n",
    "fig.savefig(\"figures/tcga/myeloid_link_N_status.svg\", dpi=200, bbox_inches=\"tight\")"
   ]
  },
  {
   "cell_type": "code",
   "execution_count": null,
   "id": "67caa2ed-0e2b-47fe-9820-5f5bcdfe7c71",
   "metadata": {},
   "outputs": [],
   "source": [
    "fig, ax = plt.subplots(1,5, figsize=(20,4))\n",
    "flatax = ax.flatten()\n",
    "for i,state in enumerate([f\"cNMF_{i}\" for i in range(1,6)]):\n",
    "    plot_box(flatax[i], augclin, \"Immune subtype\", state, \n",
    "             [(\"Inflammatory (Immune C3)\",\"IFN-gamma Dominant (Immune C2)\"),\n",
    "         (\"Wound Healing (Immune C1)\",\"Inflammatory (Immune C3)\"),\n",
    "          (\"Inflammatory (Immune C3)\",\"Lymphocyte Depleted (Immune C4)\")], \n",
    "         order=[\"Wound Healing (Immune C1)\",\"IFN-gamma Dominant (Immune C2)\",\n",
    "                \"Inflammatory (Immune C3)\",\"Lymphocyte Depleted (Immune C4)\"])\n",
    "    flatax[i].set_xlabel(\"\")\n",
    "    flatax[i].set_ylabel(f\"{state} score\")\n",
    "    flatax[i].set_xticks(flatax[i].get_xticks(), flatax[i].get_xticklabels(), rotation=45, ha=\"right\")\n",
    "fig.tight_layout()\n",
    "#fig.savefig(\"/cluster/work/boeva/jyates/EAC_singlecell/clean_code/figures/tcga/cNMF_4_N_status.svg\", dpi=200, bbox_inches=\"tight\")"
   ]
  },
  {
   "cell_type": "code",
   "execution_count": null,
   "id": "996d138a-4086-4336-ba02-e1ea6a4f12f1",
   "metadata": {},
   "outputs": [],
   "source": [
    "augclin[\"HRD cat\"] = pd.cut(augclin.HRD, bins=[0,20,30,40,100], labels=[\"<20\",\"20-30\",\"30-40\",\">40\"])"
   ]
  },
  {
   "cell_type": "code",
   "execution_count": null,
   "id": "07e6c84c-9129-42c1-a8e2-2253fb1b8f07",
   "metadata": {},
   "outputs": [],
   "source": [
    "fig, ax = plt.subplots(2,3, figsize=(7,5))\n",
    "flatax = ax.flatten()\n",
    "for i,state in enumerate([f\"cNMF_{i}\" for i in range(1,6)]):\n",
    "    plot_box(flatax[i], augclin, \"HRD cat\", state, \n",
    "             [(\"<20\",\"20-30\"),(\"<20\",\"30-40\"),(\"<20\",\">40\"),(\"20-30\",\"30-40\"),(\">40\",\"20-30\"),(\">40\",\"30-40\")], \n",
    "         order=[\"<20\",\"20-30\",\"30-40\",\">40\"])\n",
    "    flatax[i].set_xlabel(\"\")\n",
    "    flatax[i].set_ylabel(f\"{state} score\")\n",
    "flatax[-1].axis(\"off\")\n",
    "fig.tight_layout()\n",
    "fig.savefig(\"figures/tcga/cNMF_link_HRD_score.svg\", dpi=200, bbox_inches=\"tight\")"
   ]
  },
  {
   "cell_type": "code",
   "execution_count": null,
   "id": "d158cb8a-7fa1-4c9c-bba8-1f51ca27df0f",
   "metadata": {},
   "outputs": [],
   "source": [
    "import matplotlib\n",
    "import matplotlib.cm as cm\n",
    "import matplotlib.colors as mcolors\n",
    "\n",
    "from sklearn.decomposition import PCA\n",
    "\n",
    "pca = PCA(n_components=2)\n",
    "X_pca = pd.DataFrame(pca.fit_transform(std_fpkm.fillna(0)),index=std_fpkm.index,columns=[\"PC1\",\"PC2\"])\n",
    "\n",
    "X_pca = pd.concat([X_pca, state_score],axis=1)\n",
    "X_pca.columns = [\"PC1\",\"PC2\",\"cNMF$_{1}$\",\"cNMF$_{2}$\",\"cNMF$_{3}$\",\"cNMF$_{4}$\",\"cNMF$_{5}$\"]\n",
    "\n",
    "def plot_pcs_color(ax, state):\n",
    "    vcenter = X_pca[state].median()\n",
    "    vmin, vmax = X_pca[state].min(), X_pca[state].max()\n",
    "    normalize = mcolors.TwoSlopeNorm(vcenter=vcenter, vmin=vmin, vmax=vmax)\n",
    "    colormap = matplotlib.colormaps['RdBu_r']\n",
    "    sns.scatterplot(\n",
    "        y=X_pca[\"PC2\"],\n",
    "        x=X_pca[\"PC1\"],\n",
    "        c=X_pca[state],\n",
    "        norm=normalize,\n",
    "        cmap=colormap,\n",
    "        ax=ax\n",
    "    )\n",
    "    scalarmappaple = cm.ScalarMappable(norm=normalize, cmap=colormap)\n",
    "    scalarmappaple.set_array(X_pca[state])\n",
    "    ax.set_title(state)\n",
    "    fig.colorbar(scalarmappaple, ax=ax)\n",
    "    pretty_ax(ax)\n",
    "\n",
    "fig, ax = plt.subplots(1,5, figsize=(15,2))\n",
    "flatax = ax.flatten()\n",
    "\n",
    "plot_pcs_color(flatax[0], \"cNMF$_{1}$\")\n",
    "plot_pcs_color(flatax[1], \"cNMF$_{2}$\")\n",
    "plot_pcs_color(flatax[2], \"cNMF$_{3}$\")\n",
    "plot_pcs_color(flatax[3], \"cNMF$_{4}$\")\n",
    "plot_pcs_color(flatax[4], \"cNMF$_{5}$\")\n",
    "\n",
    "fig.tight_layout()\n",
    "fig.savefig(\"figures/tcga/pca_harmony.png\", dpi=200, bbox_inches=\"tight\")"
   ]
  },
  {
   "cell_type": "code",
   "execution_count": null,
   "id": "f8160446-5e86-44fc-8a40-bd699cf1bc6c",
   "metadata": {},
   "outputs": [],
   "source": [
    "X_pca.corr().round(2)"
   ]
  },
  {
   "cell_type": "markdown",
   "id": "4b061d18-9f09-4475-8216-76d370d9076f",
   "metadata": {},
   "source": [
    "# Survival"
   ]
  },
  {
   "cell_type": "code",
   "execution_count": null,
   "id": "41b9a8a8-50ea-47b8-8e18-098121e08295",
   "metadata": {},
   "outputs": [],
   "source": [
    "from lifelines import KaplanMeierFitter\n",
    "from lifelines.statistics import logrank_test"
   ]
  },
  {
   "cell_type": "code",
   "execution_count": null,
   "id": "54a91a88-5301-4f69-953d-74ec9a0d10a0",
   "metadata": {},
   "outputs": [],
   "source": [
    "survival = pd.read_csv(eac_tcga_dir / \"Survival_SupplementalTable_S1_20171025_xena_sp\",sep=\"\\t\",index_col=0, dtype={\"DSS\": float, \"OS\": float, \"DFI\": float, \"PFI\": float})\n",
    "\n",
    "augclin[\"age\"] = augclin[\"age_at_initial_pathologic_diagnosis\"]\n",
    "\n",
    "survstr = \"DSS\"\n",
    "clin = pd.concat([augclin[[\"age\",\"Stage\",\"gender\"]],survival.loc[augclin.index,[survstr,f\"{survstr}.time\"]]],axis=1,join=\"inner\")\n",
    "clin[survstr] = clin[survstr].fillna(clin[survstr].median())\n",
    "clin.age = (clin.age - clin.age.min())/(clin.age.max()- clin.age.min())\n",
    "clin.gender = clin.gender.replace({\"MALE\": 0, \"FEMALE\": 1})\n",
    "\n",
    "common_patients = fpkm_eac.index.intersection(clin.index)\n",
    "std_fpkm = std_fpkm.loc[common_patients]\n",
    "clin = clin.loc[common_patients]"
   ]
  },
  {
   "cell_type": "code",
   "execution_count": null,
   "id": "d47cb761-44e2-46ea-b694-9d78e73f2de5",
   "metadata": {},
   "outputs": [],
   "source": [
    "augclin[\"age\"] = augclin[\"age_at_initial_pathologic_diagnosis\"]\n",
    "\n",
    "survstr = \"DSS\"\n",
    "clin = pd.concat([augclin[[\"age\",\"Stage\",\"gender\"]],survival.loc[augclin.index,[survstr,f\"{survstr}.time\"]]],axis=1,join=\"inner\")\n",
    "clin[survstr] = clin[survstr].fillna(clin[survstr].median())\n",
    "clin.age = (clin.age - clin.age.min())/(clin.age.max()- clin.age.min())\n",
    "clin.gender = clin.gender.replace({\"MALE\": 0, \"FEMALE\": 1})\n",
    "\n",
    "common_patients = fpkm_eac.index.intersection(clin.index)\n",
    "std_fpkm = std_fpkm.loc[common_patients]\n",
    "clin = clin.loc[common_patients]\n",
    "\n",
    "cox_results = []\n",
    "for state in [\"cNMF_1\",\"cNMF_2\",\"cNMF_3\",\"cNMF_4\",\"cNMF_5\"]: \n",
    "\n",
    "    expr = state_score[state]\n",
    "    expr = (expr - expr.mean())/expr.std()\n",
    "    cox_clin = pd.concat([clin[[survstr,f\"{survstr}.time\",]],expr],axis=1)\n",
    "    \n",
    "    cph = CoxPHFitter()\n",
    "    cph.fit(cox_clin, duration_col=f\"{survstr}.time\", event_col=survstr)\n",
    "    summ = cph.summary\n",
    "    summ = summ.rename(index={\"age\": f\"{state}_age\", \"gender\": f\"{state}_gender\"})\n",
    "    cox_results.append(summ)\n",
    "\n",
    "cox_results = pd.concat(cox_results)\n",
    "\n",
    "ps = cox_results.loc[:,\"p\"].ravel()\n",
    "x = cox_results.loc[:,\"exp(coef)\"].ravel()\n",
    "lower = cox_results.loc[:,\"exp(coef) lower 95%\"].ravel()\n",
    "upper = cox_results.loc[:,\"exp(coef) upper 95%\"].ravel()\n",
    "ci = [x - lower, upper - x]\n",
    "names = cox_results.index\n",
    "colorlist = [\"red\" if ((x[i] - ci[0][i])>1 and (ci[1][i] + x[i])>1) else (\"blue\" if ((x[i] - ci[0][i])<1 and (ci[1][i] + x[i])<1) else \"black\") for i in range(len(ci[0]))]\n",
    "\n",
    "fig, ax = plt.subplots(1,1,figsize=(3,3))\n",
    "ax.errorbar(x,np.arange(0,len(x))[::-1],\n",
    "            xerr=ci, marker=\"s\",\n",
    "            linewidth=0,\n",
    "            elinewidth=2,\n",
    "            ecolor=colorlist,\n",
    "            markerfacecolor=\"black\",\n",
    "            markeredgecolor=\"black\")\n",
    "ax.spines[[\"bottom\",\"left\"]].set_linewidth(2)\n",
    "ax.spines[[\"top\",\"right\"]].set_visible(False)\n",
    "ax.vlines(1,ymin=ax.get_ylim()[0],ymax=ax.get_ylim()[1],linestyle=\"--\",color=\"grey\")\n",
    "ax.set_yticks(np.arange(0,len(x)))\n",
    "ax.set_yticklabels([\"cNMF$_{1}$\",\"cNMF$_{2}$\",\"cNMF$_{3}$\",\"cNMF$_{4}$\",\"cNMF$_{5}$\"][::-1])\n",
    "for i,p in enumerate(ps[::-1]):\n",
    "    ax.text(ax.get_xlim()[1], i, f\"p={p:.2e}\")\n",
    "\n",
    "fig.savefig(\"figures/tcga/survival_cox_plot.svg\", dpi=200, bbox_inches=\"tight\")"
   ]
  },
  {
   "cell_type": "code",
   "execution_count": null,
   "id": "f8d0b9c4-e7e9-49e9-8bfa-950356fc9354",
   "metadata": {},
   "outputs": [],
   "source": []
  },
  {
   "cell_type": "code",
   "execution_count": null,
   "id": "0bebf937-3018-4eca-a6d0-42b64d6e3151",
   "metadata": {},
   "outputs": [],
   "source": [
    "augclin[\"age\"] = augclin[\"age_at_initial_pathologic_diagnosis\"]\n",
    "\n",
    "survstr = \"DSS\"\n",
    "clin = pd.concat([augclin[[\"age\",\"Stage\",\"gender\"]],survival.loc[augclin.index,[survstr,f\"{survstr}.time\"]]],axis=1,join=\"inner\")\n",
    "clin[survstr] = clin[survstr].fillna(clin[survstr].median())\n",
    "clin.age = (clin.age - clin.age.min())/(clin.age.max()- clin.age.min())\n",
    "clin.gender = clin.gender.replace({\"MALE\": 0, \"FEMALE\": 1})\n",
    "\n",
    "common_patients = fpkm_eac.index.intersection(clin.index)\n",
    "std_fpkm = std_fpkm.loc[common_patients]\n",
    "clin = clin.loc[common_patients]\n",
    "\n",
    "cox_results = []\n",
    "for state in [\"Inflammatory CAF\", \"Adipose CAF\", \"HGF-CAF\", \"Fibroblast\"]: \n",
    "\n",
    "    expr = caf_score[state]\n",
    "    expr = (expr - expr.mean())/expr.std()\n",
    "    cox_clin = pd.concat([clin[[survstr,f\"{survstr}.time\",]],expr],axis=1)\n",
    "    \n",
    "    cph = CoxPHFitter()\n",
    "    cph.fit(cox_clin, duration_col=f\"{survstr}.time\", event_col=survstr)\n",
    "    summ = cph.summary\n",
    "    summ = summ.rename(index={\"age\": f\"{state}_age\", \"gender\": f\"{state}_gender\"})\n",
    "    cox_results.append(summ)\n",
    "\n",
    "cox_results = pd.concat(cox_results)\n",
    "\n",
    "ps = cox_results.loc[:,\"p\"].ravel()\n",
    "x = cox_results.loc[:,\"exp(coef)\"].ravel()\n",
    "lower = cox_results.loc[:,\"exp(coef) lower 95%\"].ravel()\n",
    "upper = cox_results.loc[:,\"exp(coef) upper 95%\"].ravel()\n",
    "ci = [x - lower, upper - x]\n",
    "names = cox_results.index\n",
    "colorlist = [\"red\" if ((x[i] - ci[0][i])>1 and (ci[1][i] + x[i])>1) else (\"blue\" if ((x[i] - ci[0][i])<1 and (ci[1][i] + x[i])<1) else \"black\") for i in range(len(ci[0]))]\n",
    "\n",
    "fig, ax = plt.subplots(1,1,figsize=(3,3))\n",
    "ax.errorbar(x,np.arange(0,len(x))[::-1],\n",
    "            xerr=ci, marker=\"s\",\n",
    "            linewidth=0,\n",
    "            elinewidth=2,\n",
    "            ecolor=colorlist,\n",
    "            markerfacecolor=\"black\",\n",
    "            markeredgecolor=\"black\")\n",
    "ax.spines[[\"bottom\",\"left\"]].set_linewidth(2)\n",
    "ax.spines[[\"top\",\"right\"]].set_visible(False)\n",
    "ax.vlines(1,ymin=ax.get_ylim()[0],ymax=ax.get_ylim()[1],linestyle=\"--\",color=\"grey\")\n",
    "ax.set_yticks(np.arange(0,len(x)))\n",
    "ax.set_yticklabels(names[::-1])\n",
    "for i,p in enumerate(ps[::-1]):\n",
    "    ax.text(ax.get_xlim()[1], i, f\"p={p:.2e}\")"
   ]
  },
  {
   "cell_type": "code",
   "execution_count": null,
   "id": "87e78606-ce5c-4d18-84d2-9636ec26eb15",
   "metadata": {},
   "outputs": [],
   "source": [
    "augclin[\"age\"] = augclin[\"age_at_initial_pathologic_diagnosis\"]\n",
    "#survstr = \"OS\"\n",
    "survstr = \"DSS\"\n",
    "clin = pd.concat([augclin[[\"age\",\"Stage\",\"gender\"]],survival.loc[augclin.index,[survstr,f\"{survstr}.time\"]]],axis=1,join=\"inner\")\n",
    "clin[survstr] = clin[survstr].fillna(clin[survstr].median())\n",
    "clin.age = (clin.age - clin.age.min())/(clin.age.max()- clin.age.min())\n",
    "clin.gender = clin.gender.replace({\"MALE\": 0, \"FEMALE\": 1})\n",
    "\n",
    "common_patients = fpkm_eac.index.intersection(clin.index)\n",
    "std_fpkm = std_fpkm.loc[common_patients]\n",
    "clin = clin.loc[common_patients]\n",
    "\n",
    "cox_results = []\n",
    "for state in ['DC', 'Kupffer cells',\n",
    "       'Mast', 'TAM1', 'TAM2']: \n",
    "\n",
    "    expr = myeloid_score[state]\n",
    "    expr = (expr - expr.mean())/expr.std()\n",
    "    cox_clin = pd.concat([clin[[survstr,f\"{survstr}.time\",]],expr],axis=1)\n",
    "    \n",
    "    cph = CoxPHFitter()\n",
    "    cph.fit(cox_clin, duration_col=f\"{survstr}.time\", event_col=survstr)\n",
    "    summ = cph.summary\n",
    "    summ = summ.rename(index={\"age\": f\"{state}_age\", \"gender\": f\"{state}_gender\"})\n",
    "    cox_results.append(summ)\n",
    "\n",
    "cox_results = pd.concat(cox_results)\n",
    "\n",
    "ps = cox_results.loc[:,\"p\"].ravel()\n",
    "x = cox_results.loc[:,\"exp(coef)\"].ravel()\n",
    "lower = cox_results.loc[:,\"exp(coef) lower 95%\"].ravel()\n",
    "upper = cox_results.loc[:,\"exp(coef) upper 95%\"].ravel()\n",
    "ci = [x - lower, upper - x]\n",
    "names = cox_results.index\n",
    "colorlist = [\"red\" if ((x[i] - ci[0][i])>1 and (ci[1][i] + x[i])>1) else (\"blue\" if ((x[i] - ci[0][i])<1 and (ci[1][i] + x[i])<1) else \"black\") for i in range(len(ci[0]))]\n",
    "\n",
    "fig, ax = plt.subplots(1,1,figsize=(3,3))\n",
    "ax.errorbar(x,np.arange(0,len(x))[::-1],\n",
    "            xerr=ci, marker=\"s\",\n",
    "            linewidth=0,\n",
    "            elinewidth=2,\n",
    "            ecolor=colorlist,\n",
    "            markerfacecolor=\"black\",\n",
    "            markeredgecolor=\"black\")\n",
    "ax.spines[[\"bottom\",\"left\"]].set_linewidth(2)\n",
    "ax.spines[[\"top\",\"right\"]].set_visible(False)\n",
    "ax.vlines(1,ymin=ax.get_ylim()[0],ymax=ax.get_ylim()[1],linestyle=\"--\",color=\"grey\")\n",
    "ax.set_yticks(np.arange(0,len(x)))\n",
    "ax.set_yticklabels(names[::-1])\n",
    "for i,p in enumerate(ps[::-1]):\n",
    "    ax.text(ax.get_xlim()[1], i, f\"p={p:.2e}\")"
   ]
  },
  {
   "cell_type": "code",
   "execution_count": null,
   "id": "29455404-1653-44a4-8123-b7bf3369dd86",
   "metadata": {},
   "outputs": [],
   "source": []
  }
 ],
 "metadata": {
  "kernelspec": {
   "display_name": "Python 3 (ipykernel)",
   "language": "python",
   "name": "python3"
  },
  "language_info": {
   "codemirror_mode": {
    "name": "ipython",
    "version": 3
   },
   "file_extension": ".py",
   "mimetype": "text/x-python",
   "name": "python",
   "nbconvert_exporter": "python",
   "pygments_lexer": "ipython3",
   "version": "3.9.16"
  }
 },
 "nbformat": 4,
 "nbformat_minor": 5
}
