{
 "cells": [
  {
   "cell_type": "code",
   "execution_count": null,
   "id": "8548e926",
   "metadata": {},
   "outputs": [],
   "source": [
    "import scanpy as sc\n",
    "import pandas as pd\n",
    "import matplotlib.pyplot as plt\n",
    "import seaborn as sns\n",
    "import numpy as np\n",
    "import pathlib as pl\n",
    "import squidpy as sq\n",
    "\n",
    "from typing import Tuple\n",
    "from sklearn.decomposition import PCA\n",
    "from sklearn.cluster import KMeans\n",
    "import infercnvpy as cnv"
   ]
  },
  {
   "cell_type": "code",
   "execution_count": null,
   "id": "60c47134",
   "metadata": {},
   "outputs": [],
   "source": [
    "from anndata import AnnData"
   ]
  },
  {
   "cell_type": "code",
   "execution_count": null,
   "id": "df09c70e",
   "metadata": {},
   "outputs": [],
   "source": [
    "from statannotations.Annotator import Annotator"
   ]
  },
  {
   "cell_type": "code",
   "execution_count": null,
   "id": "893a052d",
   "metadata": {},
   "outputs": [],
   "source": [
    "import pathlib as pl"
   ]
  },
  {
   "cell_type": "code",
   "execution_count": null,
   "id": "7a76dbee",
   "metadata": {
    "scrolled": true
   },
   "outputs": [],
   "source": [
    "from ncem.interpretation import InterpreterDeconvolution\n",
    "from ncem.train import TrainModelLinearDeconvolution\n",
    "from ncem.data import get_data_custom, customLoaderDeconvolution"
   ]
  },
  {
   "cell_type": "code",
   "execution_count": null,
   "id": "dccabed5",
   "metadata": {},
   "outputs": [],
   "source": [
    "def pretty_ax(ax):\n",
    "    ax.spines['right'].set_visible(False)\n",
    "    ax.spines['top'].set_visible(False)\n",
    "    ax.tick_params(\n",
    "        axis='both',  \n",
    "        which='both',      \n",
    "        bottom=True,     \n",
    "        top=False,\n",
    "        left=False,\n",
    "        labelbottom=True,\n",
    "        labelleft = True)\n",
    "    ax.spines[\"bottom\"].set_linewidth(1.5)\n",
    "    ax.spines[\"left\"].set_linewidth(1.5)"
   ]
  },
  {
   "cell_type": "code",
   "execution_count": null,
   "id": "41207ee5",
   "metadata": {},
   "outputs": [],
   "source": [
    "def get_preprocessed_sample(sample_path: pl.Path, min_counts: int, pct_mt: int, min_cells: int) -> sc.AnnData:\n",
    "\n",
    "    adata = sc.read_visium(path=sample_path)\n",
    "\n",
    "    adata.var_names_make_unique()\n",
    "    adata.var[\"mt\"] = adata.var_names.str.startswith(\"MT-\")\n",
    "    sc.pp.calculate_qc_metrics(adata, qc_vars=[\"mt\"], inplace=True)\n",
    "\n",
    "    adata.obsm[\"spatial\"] = adata.obsm[\"spatial\"].astype(int)\n",
    "\n",
    "    sc.pp.filter_cells(adata, min_counts=min_counts)\n",
    "    adata = adata[adata.obs[\"pct_counts_mt\"] < pct_mt]\n",
    "    print(f\"#cells after MT filter: {adata.n_obs}\")\n",
    "    sc.pp.filter_genes(adata, min_cells=min_cells)\n",
    "    \n",
    "    return adata"
   ]
  },
  {
   "cell_type": "code",
   "execution_count": null,
   "id": "dba2e84a",
   "metadata": {},
   "outputs": [],
   "source": [
    "spatial_dir = pl.Path(\"/add/path/here/\")"
   ]
  },
  {
   "cell_type": "code",
   "execution_count": null,
   "id": "db9c1605",
   "metadata": {},
   "outputs": [],
   "source": [
    "cell2location_results_dir = pl.Path(\"/add/path/here/\")"
   ]
  },
  {
   "cell_type": "markdown",
   "id": "7302e457",
   "metadata": {},
   "source": [
    "# EGSFR0074_A"
   ]
  },
  {
   "cell_type": "code",
   "execution_count": null,
   "id": "c4eb47c2",
   "metadata": {},
   "outputs": [],
   "source": [
    "patient_name = \"EGSFR0074_A\""
   ]
  },
  {
   "cell_type": "code",
   "execution_count": null,
   "id": "cadf5574",
   "metadata": {},
   "outputs": [],
   "source": [
    "resdir = cell2location_results_dir / patient_name \n",
    "\n",
    "sample_path = resdir / patient_name\n",
    "\n",
    "adata = sc.read_h5ad(resdir / \"cell2location_map\" / \"sp.h5ad\")\n",
    "\n",
    "tissue_path = spatial_dir / patient_name / \"spatial/tissue_positions_list.csv\"\n",
    "tissue_position = pd.read_csv(tissue_path,index_col=0)\n",
    "tissue_position = tissue_position.loc[adata.obs_names]\n",
    "\n",
    "#Set coordinates\n",
    "x_array=tissue_position[\"array_row\"].tolist()\n",
    "y_array=tissue_position[\"array_col\"].tolist()\n",
    "x_pixel=tissue_position[\"pxl_row_in_fullres\"].tolist()\n",
    "y_pixel=tissue_position[\"pxl_col_in_fullres\"].tolist()\n",
    "\n",
    "x_min, x_max = np.min(x_pixel), np.max(x_pixel)\n",
    "y_min, y_max = np.min(y_pixel), np.max(y_pixel)"
   ]
  },
  {
   "cell_type": "code",
   "execution_count": null,
   "id": "2008f937",
   "metadata": {},
   "outputs": [],
   "source": [
    "cell2loc_res = pd.read_csv(cell2location_results_dir / patient_name / \"cell2location_map\" / \"celltype_abundance.csv\",index_col=0)"
   ]
  },
  {
   "cell_type": "code",
   "execution_count": null,
   "id": "66cc1441",
   "metadata": {},
   "outputs": [],
   "source": [
    "cell_types = cell2loc_res.columns.to_numpy()\n",
    "\n",
    "cell_expression = []\n",
    "node_types = []\n",
    "proportions = []\n",
    "spatial = []\n",
    "for i, ct in enumerate(cell_types):\n",
    "    proportions.append(cell2loc_res)\n",
    "    cell_expression.append(adata.layers[ct].toarray())\n",
    "    nt = np.zeros((cell2loc_res.shape[0], len(cell_types)))\n",
    "    nt[:, i] = 1\n",
    "    node_types.append(nt)\n",
    "    spatial.append(adata.obsm['spatial'])\n",
    "    \n",
    "proportions = pd.DataFrame(np.concatenate(proportions), columns=cell_types)\n",
    "cell_expression = pd.DataFrame(np.concatenate(cell_expression), columns=adata.var_names)\n",
    "node_types = pd.DataFrame(np.concatenate(node_types), columns=cell_types)\n",
    "spatial = pd.DataFrame(np.concatenate(spatial))"
   ]
  },
  {
   "cell_type": "code",
   "execution_count": null,
   "id": "72c6fa56",
   "metadata": {},
   "outputs": [],
   "source": [
    "ad = AnnData(cell_expression)\n",
    "ad.obsm['proportions'] = np.array(proportions)\n",
    "ad.obsm['node_types'] = np.array(node_types)\n",
    "ad.obsm['spatial'] = np.array(spatial)\n",
    "\n",
    "ad.uns[\"node_type_names\"] = {x: x for x in cell_types}\n",
    "\n",
    "ad.var_names = adata.var_names\n",
    "\n",
    "sc.pp.log1p(ad)\n",
    "sc.pp.highly_variable_genes(ad, n_top_genes=2000, subset=True,)\n",
    "\n",
    "h_0 = pd.DataFrame(ad.obsm['node_types'], columns=list(ad.uns['node_type_names'].values()))\n",
    "target_type = pd.DataFrame(np.array(h_0.idxmax(axis=1)), columns=[\"target_cell\"]).reset_index()\n",
    "ad.obs = target_type\n",
    "\n",
    "random_library_id = np.random.randint(2, size=ad.shape[0])\n",
    "ad.obs['library_id'] = pd.Categorical([f\"image_{i}\" for i in random_library_id])"
   ]
  },
  {
   "cell_type": "code",
   "execution_count": null,
   "id": "c484b543",
   "metadata": {},
   "outputs": [],
   "source": [
    "ncem_ip = InterpreterDeconvolution()"
   ]
  },
  {
   "cell_type": "code",
   "execution_count": null,
   "id": "372337a3",
   "metadata": {},
   "outputs": [],
   "source": [
    "ncem_ip.data = customLoaderDeconvolution(\n",
    "    adata=ad, patient=None, library_id='library_id', radius=None\n",
    ")"
   ]
  },
  {
   "cell_type": "code",
   "execution_count": null,
   "id": "31d9dd0b",
   "metadata": {},
   "outputs": [],
   "source": [
    "get_data_custom(interpreter=ncem_ip, deconvolution=True)"
   ]
  },
  {
   "cell_type": "code",
   "execution_count": null,
   "id": "718a9966",
   "metadata": {},
   "outputs": [],
   "source": [
    "ncem_ip.get_sender_receiver_effects()"
   ]
  },
  {
   "cell_type": "code",
   "execution_count": null,
   "id": "d3254bd7",
   "metadata": {},
   "outputs": [],
   "source": [
    "type_coupling = ncem_ip.type_coupling_analysis_circular(\n",
    "    edge_attr='magnitude', edge_width_scale=0.2, figsize=(5,5), text_space=1.28, \n",
    "    de_genes_threshold=25,)"
   ]
  },
  {
   "cell_type": "markdown",
   "id": "d33115f5",
   "metadata": {},
   "source": [
    "# EGSFR1938_A"
   ]
  },
  {
   "cell_type": "code",
   "execution_count": null,
   "id": "f7e1488a",
   "metadata": {},
   "outputs": [],
   "source": [
    "patient_name = \"EGSFR1938_A\""
   ]
  },
  {
   "cell_type": "code",
   "execution_count": null,
   "id": "5707be86",
   "metadata": {},
   "outputs": [],
   "source": [
    "resdir = cell2location_results_dir / patient_name \n",
    "\n",
    "sample_path = resdir / patient_name\n",
    "\n",
    "adata = sc.read_h5ad(resdir / \"cell2location_map\" / \"sp.h5ad\")\n",
    "\n",
    "tissue_path = spatial_dir / patient_name / \"spatial/tissue_positions_list.csv\"\n",
    "tissue_position = pd.read_csv(tissue_path,index_col=0)\n",
    "tissue_position = tissue_position.loc[adata.obs_names]\n",
    "\n",
    "#Set coordinates\n",
    "x_array=tissue_position[\"array_row\"].tolist()\n",
    "y_array=tissue_position[\"array_col\"].tolist()\n",
    "x_pixel=tissue_position[\"pxl_row_in_fullres\"].tolist()\n",
    "y_pixel=tissue_position[\"pxl_col_in_fullres\"].tolist()\n",
    "\n",
    "x_min, x_max = np.min(x_pixel), np.max(x_pixel)\n",
    "y_min, y_max = np.min(y_pixel), np.max(y_pixel)"
   ]
  },
  {
   "cell_type": "code",
   "execution_count": null,
   "id": "afbb6111",
   "metadata": {},
   "outputs": [],
   "source": [
    "cell2loc_res = pd.read_csv(cell2location_results_dir / patient_name / \"cell2location_map\" / \"celltype_abundance.csv\",index_col=0)"
   ]
  },
  {
   "cell_type": "code",
   "execution_count": null,
   "id": "b78bf032",
   "metadata": {},
   "outputs": [],
   "source": [
    "cell_types = cell2loc_res.columns.to_numpy()\n",
    "\n",
    "cell_expression = []\n",
    "node_types = []\n",
    "proportions = []\n",
    "spatial = []\n",
    "for i, ct in enumerate(cell_types):\n",
    "    proportions.append(cell2loc_res)\n",
    "    cell_expression.append(adata.layers[ct].toarray())\n",
    "    nt = np.zeros((cell2loc_res.shape[0], len(cell_types)))\n",
    "    nt[:, i] = 1\n",
    "    node_types.append(nt)\n",
    "    spatial.append(adata.obsm['spatial'])\n",
    "    \n",
    "proportions = pd.DataFrame(np.concatenate(proportions), columns=cell_types)\n",
    "cell_expression = pd.DataFrame(np.concatenate(cell_expression), columns=adata.var_names)\n",
    "node_types = pd.DataFrame(np.concatenate(node_types), columns=cell_types)\n",
    "spatial = pd.DataFrame(np.concatenate(spatial))"
   ]
  },
  {
   "cell_type": "code",
   "execution_count": null,
   "id": "e06a80c8",
   "metadata": {},
   "outputs": [],
   "source": [
    "ad = AnnData(cell_expression)\n",
    "ad.obsm['proportions'] = np.array(proportions)\n",
    "ad.obsm['node_types'] = np.array(node_types)\n",
    "ad.obsm['spatial'] = np.array(spatial)\n",
    "\n",
    "ad.uns[\"node_type_names\"] = {x: x for x in cell_types}\n",
    "\n",
    "ad.var_names = adata.var_names\n",
    "\n",
    "sc.pp.log1p(ad)\n",
    "sc.pp.highly_variable_genes(ad, n_top_genes=2000, subset=True,)\n",
    "\n",
    "h_0 = pd.DataFrame(ad.obsm['node_types'], columns=list(ad.uns['node_type_names'].values()))\n",
    "target_type = pd.DataFrame(np.array(h_0.idxmax(axis=1)), columns=[\"target_cell\"]).reset_index()\n",
    "ad.obs = target_type\n",
    "\n",
    "random_library_id = np.random.randint(2, size=ad.shape[0])\n",
    "ad.obs['library_id'] = pd.Categorical([f\"image_{i}\" for i in random_library_id])"
   ]
  },
  {
   "cell_type": "code",
   "execution_count": null,
   "id": "c1c60c76",
   "metadata": {},
   "outputs": [],
   "source": [
    "ncem_ip = InterpreterDeconvolution()"
   ]
  },
  {
   "cell_type": "code",
   "execution_count": null,
   "id": "02cea55f",
   "metadata": {},
   "outputs": [],
   "source": [
    "ncem_ip.data = customLoaderDeconvolution(\n",
    "    adata=ad, patient=None, library_id='library_id', radius=None\n",
    ")"
   ]
  },
  {
   "cell_type": "code",
   "execution_count": null,
   "id": "d7eeb64a",
   "metadata": {},
   "outputs": [],
   "source": [
    "get_data_custom(interpreter=ncem_ip, deconvolution=True)"
   ]
  },
  {
   "cell_type": "code",
   "execution_count": null,
   "id": "c7aa93ed",
   "metadata": {},
   "outputs": [],
   "source": [
    "ncem_ip.get_sender_receiver_effects()"
   ]
  },
  {
   "cell_type": "code",
   "execution_count": null,
   "id": "64c1141b",
   "metadata": {},
   "outputs": [],
   "source": [
    "type_coupling = ncem_ip.type_coupling_analysis_circular(\n",
    "    edge_attr='magnitude', edge_width_scale=0.2, figsize=(5,5), text_space=1.28, de_genes_threshold=25)"
   ]
  },
  {
   "cell_type": "markdown",
   "id": "79ef7d41",
   "metadata": {},
   "source": [
    "# EGSFR0148"
   ]
  },
  {
   "cell_type": "code",
   "execution_count": null,
   "id": "d3049f20",
   "metadata": {},
   "outputs": [],
   "source": [
    "patient_name = \"EGSFR0148\""
   ]
  },
  {
   "cell_type": "code",
   "execution_count": null,
   "id": "3eef1d70",
   "metadata": {},
   "outputs": [],
   "source": [
    "resdir = cell2location_results_dir / patient_name \n",
    "\n",
    "sample_path = resdir / patient_name\n",
    "\n",
    "adata = sc.read_h5ad(resdir / \"cell2location_map\" / \"sp.h5ad\")\n",
    "\n",
    "tissue_path = spatial_dir / patient_name / \"spatial/tissue_positions_list.csv\"\n",
    "tissue_position = pd.read_csv(tissue_path,index_col=0)\n",
    "tissue_position = tissue_position.loc[adata.obs_names]\n",
    "\n",
    "#Set coordinates\n",
    "x_array=tissue_position[\"array_row\"].tolist()\n",
    "y_array=tissue_position[\"array_col\"].tolist()\n",
    "x_pixel=tissue_position[\"pxl_row_in_fullres\"].tolist()\n",
    "y_pixel=tissue_position[\"pxl_col_in_fullres\"].tolist()\n",
    "\n",
    "x_min, x_max = np.min(x_pixel), np.max(x_pixel)\n",
    "y_min, y_max = np.min(y_pixel), np.max(y_pixel)"
   ]
  },
  {
   "cell_type": "code",
   "execution_count": null,
   "id": "128d0298",
   "metadata": {},
   "outputs": [],
   "source": [
    "cell2loc_res = pd.read_csv(cell2location_results_dir / patient_name / \"cell2location_map\" / \"celltype_abundance.csv\",index_col=0)"
   ]
  },
  {
   "cell_type": "code",
   "execution_count": null,
   "id": "20a9f132",
   "metadata": {},
   "outputs": [],
   "source": [
    "cell_types = cell2loc_res.columns.to_numpy()\n",
    "\n",
    "cell_expression = []\n",
    "node_types = []\n",
    "proportions = []\n",
    "spatial = []\n",
    "for i, ct in enumerate(cell_types):\n",
    "    proportions.append(cell2loc_res)\n",
    "    cell_expression.append(adata.layers[ct].toarray())\n",
    "    nt = np.zeros((cell2loc_res.shape[0], len(cell_types)))\n",
    "    nt[:, i] = 1\n",
    "    node_types.append(nt)\n",
    "    spatial.append(adata.obsm['spatial'])\n",
    "    \n",
    "proportions = pd.DataFrame(np.concatenate(proportions), columns=cell_types)\n",
    "cell_expression = pd.DataFrame(np.concatenate(cell_expression), columns=adata.var_names)\n",
    "node_types = pd.DataFrame(np.concatenate(node_types), columns=cell_types)\n",
    "spatial = pd.DataFrame(np.concatenate(spatial))"
   ]
  },
  {
   "cell_type": "code",
   "execution_count": null,
   "id": "8ddb1273",
   "metadata": {},
   "outputs": [],
   "source": [
    "ad = AnnData(cell_expression)\n",
    "ad.obsm['proportions'] = np.array(proportions)\n",
    "ad.obsm['node_types'] = np.array(node_types)\n",
    "ad.obsm['spatial'] = np.array(spatial)\n",
    "\n",
    "ad.uns[\"node_type_names\"] = {x: x for x in cell_types}\n",
    "\n",
    "ad.var_names = adata.var_names\n",
    "\n",
    "sc.pp.log1p(ad)\n",
    "sc.pp.highly_variable_genes(ad, n_top_genes=2000, subset=True,)\n",
    "\n",
    "h_0 = pd.DataFrame(ad.obsm['node_types'], columns=list(ad.uns['node_type_names'].values()))\n",
    "target_type = pd.DataFrame(np.array(h_0.idxmax(axis=1)), columns=[\"target_cell\"]).reset_index()\n",
    "ad.obs = target_type\n",
    "\n",
    "random_library_id = np.random.randint(2, size=ad.shape[0])\n",
    "ad.obs['library_id'] = pd.Categorical([f\"image_{i}\" for i in random_library_id])"
   ]
  },
  {
   "cell_type": "code",
   "execution_count": null,
   "id": "18d21a73",
   "metadata": {},
   "outputs": [],
   "source": [
    "ncem_ip = InterpreterDeconvolution()"
   ]
  },
  {
   "cell_type": "code",
   "execution_count": null,
   "id": "a8a58e30",
   "metadata": {},
   "outputs": [],
   "source": [
    "ncem_ip.data = customLoaderDeconvolution(\n",
    "    adata=ad, patient=None, library_id='library_id', radius=None\n",
    ")"
   ]
  },
  {
   "cell_type": "code",
   "execution_count": null,
   "id": "d0d652ab",
   "metadata": {},
   "outputs": [],
   "source": [
    "get_data_custom(interpreter=ncem_ip, deconvolution=True)"
   ]
  },
  {
   "cell_type": "code",
   "execution_count": null,
   "id": "8e3d0066",
   "metadata": {},
   "outputs": [],
   "source": [
    "ncem_ip.get_sender_receiver_effects()"
   ]
  },
  {
   "cell_type": "code",
   "execution_count": null,
   "id": "23e79018",
   "metadata": {},
   "outputs": [],
   "source": [
    "type_coupling = ncem_ip.type_coupling_analysis_circular(\n",
    "    edge_attr='magnitude', edge_width_scale=0.2, figsize=(5,5), text_space=1.28, de_genes_threshold=25)"
   ]
  },
  {
   "cell_type": "markdown",
   "id": "17d80efd",
   "metadata": {},
   "source": [
    "# EGSFR1938_B"
   ]
  },
  {
   "cell_type": "code",
   "execution_count": null,
   "id": "b9b58294",
   "metadata": {},
   "outputs": [],
   "source": [
    "patient_name = \"EGSFR1938_B\""
   ]
  },
  {
   "cell_type": "code",
   "execution_count": null,
   "id": "79ac0248",
   "metadata": {},
   "outputs": [],
   "source": [
    "resdir = cell2location_results_dir / patient_name \n",
    "\n",
    "sample_path = resdir / patient_name\n",
    "\n",
    "adata = sc.read_h5ad(resdir / \"cell2location_map\" / \"sp.h5ad\")\n",
    "\n",
    "tissue_path = spatial_dir / patient_name / \"spatial/tissue_positions_list.csv\"\n",
    "tissue_position = pd.read_csv(tissue_path,index_col=0)\n",
    "tissue_position = tissue_position.loc[adata.obs_names]\n",
    "\n",
    "#Set coordinates\n",
    "x_array=tissue_position[\"array_row\"].tolist()\n",
    "y_array=tissue_position[\"array_col\"].tolist()\n",
    "x_pixel=tissue_position[\"pxl_row_in_fullres\"].tolist()\n",
    "y_pixel=tissue_position[\"pxl_col_in_fullres\"].tolist()\n",
    "\n",
    "x_min, x_max = np.min(x_pixel), np.max(x_pixel)\n",
    "y_min, y_max = np.min(y_pixel), np.max(y_pixel)"
   ]
  },
  {
   "cell_type": "code",
   "execution_count": null,
   "id": "d6cb99da",
   "metadata": {},
   "outputs": [],
   "source": [
    "cell2loc_res = pd.read_csv(cell2location_results_dir / patient_name / \"cell2location_map\" / \"celltype_abundance.csv\",index_col=0)"
   ]
  },
  {
   "cell_type": "code",
   "execution_count": null,
   "id": "3273a56f",
   "metadata": {},
   "outputs": [],
   "source": [
    "cell_types = cell2loc_res.columns.to_numpy()\n",
    "\n",
    "cell_expression = []\n",
    "node_types = []\n",
    "proportions = []\n",
    "spatial = []\n",
    "for i, ct in enumerate(cell_types):\n",
    "    proportions.append(cell2loc_res)\n",
    "    cell_expression.append(adata.layers[ct].toarray())\n",
    "    nt = np.zeros((cell2loc_res.shape[0], len(cell_types)))\n",
    "    nt[:, i] = 1\n",
    "    node_types.append(nt)\n",
    "    spatial.append(adata.obsm['spatial'])\n",
    "    \n",
    "proportions = pd.DataFrame(np.concatenate(proportions), columns=cell_types)\n",
    "cell_expression = pd.DataFrame(np.concatenate(cell_expression), columns=adata.var_names)\n",
    "node_types = pd.DataFrame(np.concatenate(node_types), columns=cell_types)\n",
    "spatial = pd.DataFrame(np.concatenate(spatial))"
   ]
  },
  {
   "cell_type": "code",
   "execution_count": null,
   "id": "cde9f38e",
   "metadata": {},
   "outputs": [],
   "source": [
    "ad = AnnData(cell_expression)\n",
    "ad.obsm['proportions'] = np.array(proportions)\n",
    "ad.obsm['node_types'] = np.array(node_types)\n",
    "ad.obsm['spatial'] = np.array(spatial)\n",
    "\n",
    "ad.uns[\"node_type_names\"] = {x: x for x in cell_types}\n",
    "\n",
    "ad.var_names = adata.var_names\n",
    "\n",
    "sc.pp.log1p(ad)\n",
    "sc.pp.highly_variable_genes(ad, n_top_genes=2000, subset=True,)\n",
    "\n",
    "h_0 = pd.DataFrame(ad.obsm['node_types'], columns=list(ad.uns['node_type_names'].values()))\n",
    "target_type = pd.DataFrame(np.array(h_0.idxmax(axis=1)), columns=[\"target_cell\"]).reset_index()\n",
    "ad.obs = target_type\n",
    "\n",
    "random_library_id = np.random.randint(2, size=ad.shape[0])\n",
    "ad.obs['library_id'] = pd.Categorical([f\"image_{i}\" for i in random_library_id])"
   ]
  },
  {
   "cell_type": "code",
   "execution_count": null,
   "id": "83df115b",
   "metadata": {},
   "outputs": [],
   "source": [
    "ncem_ip = InterpreterDeconvolution()"
   ]
  },
  {
   "cell_type": "code",
   "execution_count": null,
   "id": "155c676f",
   "metadata": {},
   "outputs": [],
   "source": [
    "ncem_ip.data = customLoaderDeconvolution(\n",
    "    adata=ad, patient=None, library_id='library_id', radius=None\n",
    ")"
   ]
  },
  {
   "cell_type": "code",
   "execution_count": null,
   "id": "27eb9bcc",
   "metadata": {},
   "outputs": [],
   "source": [
    "get_data_custom(interpreter=ncem_ip, deconvolution=True)"
   ]
  },
  {
   "cell_type": "code",
   "execution_count": null,
   "id": "09ebdaa4",
   "metadata": {},
   "outputs": [],
   "source": [
    "ncem_ip.get_sender_receiver_effects()"
   ]
  },
  {
   "cell_type": "code",
   "execution_count": null,
   "id": "b72704db",
   "metadata": {},
   "outputs": [],
   "source": [
    "type_coupling = ncem_ip.type_coupling_analysis_circular(\n",
    "    edge_attr='magnitude', edge_width_scale=0.2, figsize=(5,5), text_space=1.28, de_genes_threshold=25)"
   ]
  },
  {
   "cell_type": "markdown",
   "id": "5059fb18",
   "metadata": {},
   "source": [
    "# EGSFR1938_C"
   ]
  },
  {
   "cell_type": "code",
   "execution_count": null,
   "id": "cf30f78a",
   "metadata": {},
   "outputs": [],
   "source": [
    "patient_name = \"EGSFR1938_C\""
   ]
  },
  {
   "cell_type": "code",
   "execution_count": null,
   "id": "6995fc37",
   "metadata": {},
   "outputs": [],
   "source": [
    "resdir = cell2location_results_dir / patient_name \n",
    "\n",
    "sample_path = resdir / patient_name\n",
    "\n",
    "adata = sc.read_h5ad(resdir / \"cell2location_map\" / \"sp.h5ad\")\n",
    "\n",
    "tissue_path = spatial_dir / patient_name / \"spatial/tissue_positions_list.csv\"\n",
    "tissue_position = pd.read_csv(tissue_path,index_col=0)\n",
    "tissue_position = tissue_position.loc[adata.obs_names]\n",
    "\n",
    "#Set coordinates\n",
    "x_array=tissue_position[\"array_row\"].tolist()\n",
    "y_array=tissue_position[\"array_col\"].tolist()\n",
    "x_pixel=tissue_position[\"pxl_row_in_fullres\"].tolist()\n",
    "y_pixel=tissue_position[\"pxl_col_in_fullres\"].tolist()\n",
    "\n",
    "x_min, x_max = np.min(x_pixel), np.max(x_pixel)\n",
    "y_min, y_max = np.min(y_pixel), np.max(y_pixel)"
   ]
  },
  {
   "cell_type": "code",
   "execution_count": null,
   "id": "f0336222",
   "metadata": {},
   "outputs": [],
   "source": [
    "cell2loc_res = pd.read_csv(cell2location_results_dir / patient_name / \"cell2location_map\" / \"celltype_abundance.csv\",index_col=0)"
   ]
  },
  {
   "cell_type": "code",
   "execution_count": null,
   "id": "e07d7304",
   "metadata": {},
   "outputs": [],
   "source": [
    "cell_types = cell2loc_res.columns.to_numpy()\n",
    "\n",
    "cell_expression = []\n",
    "node_types = []\n",
    "proportions = []\n",
    "spatial = []\n",
    "for i, ct in enumerate(cell_types):\n",
    "    proportions.append(cell2loc_res)\n",
    "    cell_expression.append(adata.layers[ct].toarray())\n",
    "    nt = np.zeros((cell2loc_res.shape[0], len(cell_types)))\n",
    "    nt[:, i] = 1\n",
    "    node_types.append(nt)\n",
    "    spatial.append(adata.obsm['spatial'])\n",
    "    \n",
    "proportions = pd.DataFrame(np.concatenate(proportions), columns=cell_types)\n",
    "cell_expression = pd.DataFrame(np.concatenate(cell_expression), columns=adata.var_names)\n",
    "node_types = pd.DataFrame(np.concatenate(node_types), columns=cell_types)\n",
    "spatial = pd.DataFrame(np.concatenate(spatial))"
   ]
  },
  {
   "cell_type": "code",
   "execution_count": null,
   "id": "c440415a",
   "metadata": {},
   "outputs": [],
   "source": [
    "ad = AnnData(cell_expression)\n",
    "ad.obsm['proportions'] = np.array(proportions)\n",
    "ad.obsm['node_types'] = np.array(node_types)\n",
    "ad.obsm['spatial'] = np.array(spatial)\n",
    "\n",
    "ad.uns[\"node_type_names\"] = {x: x for x in cell_types}\n",
    "\n",
    "ad.var_names = adata.var_names\n",
    "\n",
    "sc.pp.log1p(ad)\n",
    "sc.pp.highly_variable_genes(ad, n_top_genes=2000, subset=True,)\n",
    "\n",
    "h_0 = pd.DataFrame(ad.obsm['node_types'], columns=list(ad.uns['node_type_names'].values()))\n",
    "target_type = pd.DataFrame(np.array(h_0.idxmax(axis=1)), columns=[\"target_cell\"]).reset_index()\n",
    "ad.obs = target_type\n",
    "\n",
    "random_library_id = np.random.randint(2, size=ad.shape[0])\n",
    "ad.obs['library_id'] = pd.Categorical([f\"image_{i}\" for i in random_library_id])"
   ]
  },
  {
   "cell_type": "code",
   "execution_count": null,
   "id": "4d9c8e0f",
   "metadata": {},
   "outputs": [],
   "source": [
    "ncem_ip = InterpreterDeconvolution()"
   ]
  },
  {
   "cell_type": "code",
   "execution_count": null,
   "id": "3a7519af",
   "metadata": {},
   "outputs": [],
   "source": [
    "ncem_ip.data = customLoaderDeconvolution(\n",
    "    adata=ad, patient=None, library_id='library_id', radius=None\n",
    ")"
   ]
  },
  {
   "cell_type": "code",
   "execution_count": null,
   "id": "516275c4",
   "metadata": {},
   "outputs": [],
   "source": [
    "get_data_custom(interpreter=ncem_ip, deconvolution=True)"
   ]
  },
  {
   "cell_type": "code",
   "execution_count": null,
   "id": "45afa7a7",
   "metadata": {},
   "outputs": [],
   "source": [
    "ncem_ip.get_sender_receiver_effects()"
   ]
  },
  {
   "cell_type": "code",
   "execution_count": null,
   "id": "445c1645",
   "metadata": {},
   "outputs": [],
   "source": [
    "type_coupling = ncem_ip.type_coupling_analysis_circular(\n",
    "    edge_attr='magnitude', edge_width_scale=0.2, figsize=(5,5), text_space=1.28, de_genes_threshold=25)"
   ]
  },
  {
   "cell_type": "code",
   "execution_count": null,
   "id": "2f42447c",
   "metadata": {},
   "outputs": [],
   "source": []
  }
 ],
 "metadata": {
  "kernelspec": {
   "display_name": "Python 3 (ipykernel)",
   "language": "python",
   "name": "python3"
  },
  "language_info": {
   "codemirror_mode": {
    "name": "ipython",
    "version": 3
   },
   "file_extension": ".py",
   "mimetype": "text/x-python",
   "name": "python",
   "nbconvert_exporter": "python",
   "pygments_lexer": "ipython3",
   "version": "3.9.16"
  }
 },
 "nbformat": 4,
 "nbformat_minor": 5
}
