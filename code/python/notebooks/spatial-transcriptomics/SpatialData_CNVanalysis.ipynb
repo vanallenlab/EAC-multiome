{
 "cells": [
  {
   "cell_type": "code",
   "execution_count": null,
   "id": "1a9bca7e",
   "metadata": {},
   "outputs": [],
   "source": [
    "import scanpy as sc\n",
    "import pandas as pd\n",
    "import matplotlib.pyplot as plt\n",
    "import seaborn as sns\n",
    "import numpy as np\n",
    "import pathlib as pl\n",
    "import squidpy as sq\n",
    "\n",
    "from typing import Tuple\n",
    "from sklearn.decomposition import PCA\n",
    "from sklearn.cluster import KMeans\n",
    "import infercnvpy as cnv"
   ]
  },
  {
   "cell_type": "code",
   "execution_count": null,
   "id": "8e3956d4",
   "metadata": {},
   "outputs": [],
   "source": [
    "from statannotations.Annotator import Annotator"
   ]
  },
  {
   "cell_type": "code",
   "execution_count": null,
   "id": "66e421f7",
   "metadata": {},
   "outputs": [],
   "source": [
    "import pathlib as pl"
   ]
  },
  {
   "cell_type": "code",
   "execution_count": null,
   "id": "98c1b88a",
   "metadata": {},
   "outputs": [],
   "source": [
    "def pretty_ax(ax):\n",
    "    ax.spines['right'].set_visible(False)\n",
    "    ax.spines['top'].set_visible(False)\n",
    "    ax.tick_params(\n",
    "        axis='both',  \n",
    "        which='both',      \n",
    "        bottom=True,     \n",
    "        top=False,\n",
    "        left=False,\n",
    "        labelbottom=True,\n",
    "        labelleft = True)\n",
    "    ax.spines[\"bottom\"].set_linewidth(1.5)\n",
    "    ax.spines[\"left\"].set_linewidth(1.5)"
   ]
  },
  {
   "cell_type": "code",
   "execution_count": null,
   "id": "f1ff2a7f",
   "metadata": {},
   "outputs": [],
   "source": [
    "def get_preprocessed_sample(sample_path: pl.Path, min_counts: int, pct_mt: int, min_cells: int) -> sc.AnnData:\n",
    "\n",
    "    adata = sc.read_visium(path=sample_path)\n",
    "\n",
    "    adata.var_names_make_unique()\n",
    "    adata.var[\"mt\"] = adata.var_names.str.startswith(\"MT-\")\n",
    "    sc.pp.calculate_qc_metrics(adata, qc_vars=[\"mt\"], inplace=True)\n",
    "\n",
    "    adata.obsm[\"spatial\"] = adata.obsm[\"spatial\"].astype(int)\n",
    "\n",
    "    sc.pp.filter_cells(adata, min_counts=min_counts)\n",
    "    adata = adata[adata.obs[\"pct_counts_mt\"] < pct_mt]\n",
    "    print(f\"#cells after MT filter: {adata.n_obs}\")\n",
    "    sc.pp.filter_genes(adata, min_cells=min_cells)\n",
    "    \n",
    "    return adata"
   ]
  },
  {
   "cell_type": "code",
   "execution_count": null,
   "id": "b845d3c9",
   "metadata": {},
   "outputs": [],
   "source": [
    "def filter_genes(data: np.ndarray, min_cells: int) -> Tuple[np.ndarray, np.ndarray]:\n",
    "    keep = []\n",
    "    for gene in range(data.shape[0]):\n",
    "        if np.count_nonzero(data[gene,:]) >= min_cells:\n",
    "            keep.append(gene)\n",
    "    return data[np.asarray(keep),:],np.asarray(keep)\n",
    "\n",
    "def library_size_normalize(data):\n",
    "    m = np.median(np.sum(data,axis=0))\n",
    "    data = data / np.sum(data,axis=0)\n",
    "    data = data * m\n",
    "    return data\n",
    "\n",
    "def threshold_data(data,max_value=4.0):\n",
    "    data[data> max_value] = max_value\n",
    "    data[data< -max_value] = -max_value\n",
    "    return data\n"
   ]
  },
  {
   "cell_type": "code",
   "execution_count": null,
   "id": "c6ade513",
   "metadata": {},
   "outputs": [],
   "source": [
    "def get_cancer_spot(adata: sc.AnnData) -> np.ndarray:\n",
    "    data = adata.X.toarray()\n",
    "    data = data.T\n",
    "\n",
    "    data,k = filter_genes(data,min_cells=int(data.shape[1]/20)) # 1\n",
    "    data = library_size_normalize(data) #2\n",
    "    data = np.log(data+1) \n",
    "    data = threshold_data(data,max_value=4.0)\n",
    "    pca = PCA(n_components=1).fit_transform(data.T)\n",
    "    km = KMeans(n_clusters=2).fit(pca)\n",
    "    clusters = np.asarray(km.predict(pca))\n",
    "    if np.mean(data[:,clusters==0]) < np.mean(data[:,clusters==1]):\n",
    "        cancer_spots = np.asarray([x for x in range(data.shape[1])])[clusters==1]\n",
    "    else:\n",
    "        cancer_spots = np.asarray([x for x in range(data.shape[1])])[clusters==0]\n",
    "    return cancer_spots"
   ]
  },
  {
   "cell_type": "code",
   "execution_count": null,
   "id": "09880922",
   "metadata": {},
   "outputs": [],
   "source": [
    "def get_spot_assignment(adata, neighbors, name):\n",
    "    label = adata.obs.loc[name,\"CNV_assignment\"]\n",
    "    if label!=\"Tumor\":\n",
    "        return label\n",
    "    \n",
    "    vc = adata.obs.loc[neighbors[neighbors.loc[name]==1].index][\"CNV_assignment\"].value_counts()\n",
    "    if vc.loc[\"Tumor\"]<=int(vc.sum()/2)+1:\n",
    "        return \"Tumor_LE\"\n",
    "    else:\n",
    "        return \"Tumor_Core\"\n",
    "    "
   ]
  },
  {
   "cell_type": "code",
   "execution_count": null,
   "id": "070ffb5d",
   "metadata": {},
   "outputs": [],
   "source": [
    "def get_smoothed_label(label: str, vc: pd.DataFrame) -> str:\n",
    "    if label==\"Tumor\":\n",
    "        if vc.loc[\"Tumor\"]<=1:\n",
    "            return vc.idxmax()\n",
    "        else:\n",
    "            return label\n",
    "    elif label==\"Normal\":\n",
    "        if vc.loc[\"Normal\"]<=1:\n",
    "            return vc.idxmax()\n",
    "        else:\n",
    "            return label\n",
    "    else:\n",
    "        return label\n",
    "\n",
    "def get_full_smoothed_assignment(adata: sc.AnnData) -> pd.DataFrame: \n",
    "\n",
    "    sq.gr.spatial_neighbors(adata, n_rings=1, coord_type=\"grid\", n_neighs=6)\n",
    "    \n",
    "    neighbors = pd.DataFrame(adata.obsp[\"spatial_connectivities\"].toarray(), \n",
    "                             index=adata.obs_names, columns=adata.obs_names)\n",
    "    \n",
    "    smoothed = []\n",
    "    for name in adata.obs_names:\n",
    "        label = adata.obs.loc[name,\"CNV_assignment\"]\n",
    "        vc = adata.obs.loc[neighbors[neighbors.loc[name]==1].index][\"CNV_assignment\"].value_counts()\n",
    "        if vc.sum()<=3:\n",
    "            smoothed.append(label)\n",
    "        else:\n",
    "            smoothed.append(get_smoothed_label(label, vc))\n",
    "    smoothed = pd.DataFrame(smoothed, index=adata.obs_names, columns=[\"Smoothed_assignment\"])\n",
    "    return smoothed\n",
    "\n",
    "def update_closest(adata: sc.AnnData, n_rings: int, closest: pd.DataFrame, ass_col: str = \"CNV_assignment\") -> pd.DataFrame:\n",
    "    sq.gr.spatial_neighbors(adata, n_rings=n_rings, coord_type=\"grid\", n_neighs=6)\n",
    "\n",
    "    neighbors = pd.DataFrame(adata.obsp[\"spatial_connectivities\"].toarray(), \n",
    "                         index=adata.obs_names, columns=adata.obs_names)\n",
    "\n",
    "    for name in adata.obs[adata.obs[ass_col]==\"Tumor\"].index:\n",
    "        vc = adata.obs.loc[neighbors[neighbors.loc[name]==1].index][ass_col].value_counts()\n",
    "        \n",
    "        if vc.loc[\"Tumor\"]<=vc.sum()-1:\n",
    "            closest.loc[name,\"Dist. to edge\"] = min(n_rings,closest.loc[name,\"Dist. to edge\"])\n",
    "    return closest"
   ]
  },
  {
   "cell_type": "code",
   "execution_count": null,
   "id": "1aa37304",
   "metadata": {},
   "outputs": [],
   "source": [
    "from typing import Dict\n",
    "def get_heatmap_interactions_tumor(sign_int: pd.DataFrame, \n",
    "                                   full_sigs: Dict[str, np.ndarray], \n",
    "                                   tumor_means: pd.DataFrame) -> pd.DataFrame:\n",
    "\n",
    "    heatmap_df = {}\n",
    "\n",
    "    for i,sig1 in enumerate(sorted(full_sigs)):\n",
    "        df = sign_int.loc[sign_int.index.get_level_values(0).intersection(full_sigs[sig1])].reset_index()\n",
    "        for j,sig2 in enumerate(sorted(full_sigs)):\n",
    "            if j>=i:\n",
    "                df1 = df[df.target.isin(np.intersect1d(df.target,full_sigs[sig2]))]\n",
    "                if df1.shape[0]>0:\n",
    "                    print(sig1,sig2)\n",
    "                    pairs = [(df1.iloc[i].source,df1.iloc[i].target) for i in range(df1.shape[0])]\n",
    "                    for pair in pairs:\n",
    "                        if pair[0] in heatmap_df:\n",
    "                            heatmap_df[pair[0]][pair[1]] = tumor_means.loc[pair][\"Tumor_Core\"]\n",
    "                        else:\n",
    "                            heatmap_df[pair[0]] = {pair[1]: tumor_means.loc[pair][\"Tumor_Core\"]}\n",
    "    return pd.DataFrame(heatmap_df).T\n",
    "\n",
    "def get_heatmap_interactions_tumor_to_normal(sign_int: pd.DataFrame, full_sigs: Dict[str, np.ndarray],\n",
    "                                   normal_sigs: Dict[str, np.ndarray], tumor_means: pd.DataFrame) -> pd.DataFrame:\n",
    "\n",
    "    heatmap_df = {}\n",
    "\n",
    "    for i,sig1 in enumerate(sorted(full_sigs)):\n",
    "        df = sign_int.loc[sign_int.index.get_level_values(0).intersection(full_sigs[sig1])].reset_index()\n",
    "        for j,sig2 in enumerate(normal_sigs):\n",
    "            if j>=i:\n",
    "                df1 = df[df.target.isin(np.intersect1d(df.target,normal_sigs[sig2]))]\n",
    "                if df1.shape[0]>0:\n",
    "                    print(sig1,sig2)\n",
    "                    pairs = [(df1.iloc[i].source,df1.iloc[i].target) for i in range(df1.shape[0])]\n",
    "                    for pair in pairs:\n",
    "                        if pair[0] in heatmap_df:\n",
    "                            heatmap_df[pair[0]][pair[1]] = tumor_means.loc[pair][\"Normal_Periphery\"]\n",
    "                        else:\n",
    "                            heatmap_df[pair[0]] = {pair[1]: tumor_means.loc[pair][\"Normal_Periphery\"]}\n",
    "    return pd.DataFrame(heatmap_df).T\n",
    "\n",
    "def get_heatmap_interactions_normal_to_tumor(sign_int: pd.DataFrame, full_sigs: Dict[str, np.ndarray],\n",
    "                                   normal_sigs: Dict[str, np.ndarray], normal_means: pd.DataFrame) -> pd.DataFrame:\n",
    "\n",
    "    heatmap_df = {}\n",
    "\n",
    "    for i,sig1 in enumerate(sorted(normal_sigs)):\n",
    "        df = sign_int.loc[sign_int.index.get_level_values(0).intersection(normal_sigs[sig1])].reset_index()\n",
    "        for j,sig2 in enumerate(full_sigs):\n",
    "            if j>=i:\n",
    "                df1 = df[df.target.isin(np.intersect1d(df.target,full_sigs[sig2]))]\n",
    "                if df1.shape[0]>0:\n",
    "                    print(sig1,sig2)\n",
    "                    pairs = [(df1.iloc[i].source,df1.iloc[i].target) for i in range(df1.shape[0])]\n",
    "                    for pair in pairs:\n",
    "                        if pair[0] in heatmap_df:\n",
    "                            heatmap_df[pair[0]][pair[1]] = normal_means.loc[pair][\"Tumor_Periphery\"]\n",
    "                        else:\n",
    "                            heatmap_df[pair[0]] = {pair[1]: normal_means.loc[pair][\"Tumor_Periphery\"]}\n",
    "    return pd.DataFrame(heatmap_df).T\n",
    "\n",
    "def return_color(list_idx: np.ndarray, \n",
    "                 sigs: Dict[str, np.ndarray], color_palette: Dict[str, str]) -> np.ndarray:\n",
    "    color_mapping = {}\n",
    "    for gene in list_idx:\n",
    "        for sig, siggenes in sigs.items():\n",
    "            if gene in siggenes:\n",
    "                color_mapping[gene] = color_palette[sig]\n",
    "    return color_mapping\n",
    "\n",
    "def plot_interaction_heatmap(heatmap_df, color_mapping_idx, color_mapping_col, figsize=(2,1)) -> plt.Figure:\n",
    "    fig, ax = plt.subplots(1,1,figsize=figsize)\n",
    "    sns.heatmap(data=heatmap_df, cmap=\"vlag\", center=0)\n",
    "    ax.set_xticks(ax.get_xticks(), ax.get_xticklabels(), rotation=45, ha=\"right\")\n",
    "    for i,tick in enumerate(ax.get_xticklabels()):\n",
    "        tick.set_color(color_mapping_col[tick.get_text()])\n",
    "    for i,tick in enumerate(ax.get_yticklabels()):\n",
    "        tick.set_color(color_mapping_idx[tick.get_text()])\n",
    "    return fig"
   ]
  },
  {
   "cell_type": "code",
   "execution_count": null,
   "id": "f1e56221",
   "metadata": {},
   "outputs": [],
   "source": [
    "def get_refined_location(adata: sc.AnnData, n_rings: int, location_refined: pd.DataFrame, \n",
    "                         ass_col: str = \"CNV_assignment\") -> pd.DataFrame:\n",
    "    sq.gr.spatial_neighbors(adata, n_rings=n_rings, coord_type=\"grid\", n_neighs=6)\n",
    "\n",
    "    neighbors = pd.DataFrame(adata.obsp[\"spatial_connectivities\"].toarray(), \n",
    "                         index=adata.obs_names, columns=adata.obs_names)\n",
    "\n",
    "    for cell in neighbors.index:\n",
    "    \n",
    "        label = adata.obs.loc[cell,ass_col]\n",
    "\n",
    "        vc = adata.obs.loc[neighbors[neighbors.loc[cell]==1].index][ass_col].value_counts()\n",
    "\n",
    "        if label==\"Tumor\":\n",
    "            if vc.loc[\"Tumor\"]<=vc.sum()-1:\n",
    "                location_refined.loc[cell,\"Location refined\"] = 'Tumor_Periphery'\n",
    "            else:\n",
    "                location_refined.loc[cell,\"Location refined\"] = 'Tumor_Core'\n",
    "        elif label==\"Normal\":\n",
    "            if vc.loc[\"Normal\"]<=vc.sum()-1:\n",
    "                location_refined.loc[cell,\"Location refined\"] = 'Normal_Periphery'\n",
    "            else:\n",
    "                location_refined.loc[cell,\"Location refined\"] = 'Normal_Healthy'\n",
    "    return location_refined"
   ]
  },
  {
   "cell_type": "code",
   "execution_count": null,
   "id": "76c7547e",
   "metadata": {},
   "outputs": [],
   "source": [
    "spatial_dir = pl.Path(\"/add/path/here/SpaceRanger_output/\")\n",
    "\n",
    "cell2location_results_dir = pl.Path(\"/add/path/here/Cell2Location_results/\")\n",
    "\n",
    "figure_dir = pl.Path(\"/add/path/here/\")\n",
    "\n",
    "visium_results_csv_dir = pl.Path(\"/add/path/here/visium_results_csv\")\n",
    "\n",
    "gencode_df = pd.read_csv(\"/add/path/here/gencode_v41_chr_mapping.csv\",index_col=0)"
   ]
  },
  {
   "cell_type": "markdown",
   "id": "dff4d7bd",
   "metadata": {},
   "source": [
    "# Download signatures"
   ]
  },
  {
   "cell_type": "code",
   "execution_count": null,
   "id": "1b3a1279",
   "metadata": {},
   "outputs": [],
   "source": [
    "signature_dir = pl.Path(\"/add/path/here/\")\n",
    "\n",
    "full_sigs = {}\n",
    "for s in (signature_dir).iterdir():\n",
    "    sig = s.stem\n",
    "    full_sigs[sig] = pd.read_csv(s,index_col=0)\n",
    "    full_sigs[sig] = full_sigs[sig].head(100).index.to_numpy()"
   ]
  },
  {
   "cell_type": "code",
   "execution_count": null,
   "id": "216e1a16",
   "metadata": {},
   "outputs": [],
   "source": [
    "caf_dir = pl.Path(\"/add/path/here/\")\n",
    "\n",
    "caf_sigs = {}\n",
    "for s in (caf_dir).iterdir():\n",
    "    sig = s.stem\n",
    "    caf_sigs[sig] = pd.read_csv(s,index_col=0)\n",
    "    caf_sigs[sig] = caf_sigs[sig].head(100).names.to_numpy()"
   ]
  },
  {
   "cell_type": "code",
   "execution_count": null,
   "id": "d140c1dc",
   "metadata": {},
   "outputs": [],
   "source": [
    "myeloid_dir = pl.Path(\"/add/path/here/\")\n",
    "\n",
    "myeloid_sigs = {}\n",
    "for s in (myeloid_dir).iterdir():\n",
    "    sig = s.stem\n",
    "    myeloid_sigs[sig] = pd.read_csv(s,index_col=0)\n",
    "    myeloid_sigs[sig] = myeloid_sigs[sig].head(100).names.to_numpy()"
   ]
  },
  {
   "cell_type": "code",
   "execution_count": null,
   "id": "cecddd1e",
   "metadata": {},
   "outputs": [],
   "source": [
    "normal_sigs = (caf_sigs | myeloid_sigs)\n",
    "del normal_sigs[\"HGF-CAF\"]\n",
    "del normal_sigs[\"Kupffer cells\"]"
   ]
  },
  {
   "cell_type": "markdown",
   "id": "bdfa7de4",
   "metadata": {},
   "source": [
    "# Download interactions for LIGREC"
   ]
  },
  {
   "cell_type": "code",
   "execution_count": null,
   "id": "cedb842b",
   "metadata": {},
   "outputs": [],
   "source": [
    "interactions = pd.read_csv(\"/add/path/here/omnipath_intercell_network.csv\",index_col=0)\n",
    "\n",
    "df_interaction = interactions.loc[:,['genesymbol_intercell_source', 'genesymbol_intercell_target']]\n",
    "df_interaction.columns = [\"source\",\"target\"]\n",
    "df_interaction.source = df_interaction.source.str.lstrip(\"COMPLEX:\")\n",
    "df_interaction.target = df_interaction.target.str.lstrip(\"COMPLEX:\")"
   ]
  },
  {
   "cell_type": "markdown",
   "id": "ef68574d",
   "metadata": {},
   "source": [
    "# EGSFR0074_A"
   ]
  },
  {
   "cell_type": "code",
   "execution_count": null,
   "id": "93d27086",
   "metadata": {},
   "outputs": [],
   "source": [
    "patient_name = \"EGSFR0074_A\""
   ]
  },
  {
   "cell_type": "code",
   "execution_count": null,
   "id": "99edf034",
   "metadata": {},
   "outputs": [],
   "source": [
    "resdir = cell2location_results_dir / patient_name \n",
    "\n",
    "sample_path = resdir / patient_name\n",
    "\n",
    "adata = sc.read_h5ad(resdir / \"cell2location_map\" / \"sp.h5ad\")\n",
    "\n",
    "tissue_path = spatial_dir / patient_name / \"spatial/tissue_positions_list.csv\"\n",
    "tissue_position = pd.read_csv(tissue_path,index_col=0)\n",
    "tissue_position = tissue_position.loc[adata.obs_names]\n",
    "\n",
    "#Set coordinates\n",
    "x_array=tissue_position[\"array_row\"].tolist()\n",
    "y_array=tissue_position[\"array_col\"].tolist()\n",
    "x_pixel=tissue_position[\"pxl_row_in_fullres\"].tolist()\n",
    "y_pixel=tissue_position[\"pxl_col_in_fullres\"].tolist()\n",
    "\n",
    "x_min, x_max = np.min(x_pixel), np.max(x_pixel)\n",
    "y_min, y_max = np.min(y_pixel), np.max(y_pixel)\n",
    "\n",
    "cancer_spots = get_cancer_spot(adata=adata)\n",
    "\n",
    "cancer_spot = pd.DataFrame(np.zeros(adata.shape[0]),index=adata.obs_names,columns=[\"Cancer spot\"])\n",
    "cancer_spot.loc[adata.obs_names[cancer_spots],\"Cancer spot\"] = 1\n",
    "\n",
    "adata.obs[\"Cancer spot\"] = cancer_spot.replace({0: \"Normal\", 1: \"Tumor\"})"
   ]
  },
  {
   "cell_type": "code",
   "execution_count": null,
   "id": "a61c6740",
   "metadata": {},
   "outputs": [],
   "source": [
    "cell2loc_res = pd.read_csv(cell2location_results_dir / patient_name / \"cell2location_map\" / \"celltype_abundance.csv\",index_col=0)"
   ]
  },
  {
   "cell_type": "markdown",
   "id": "b7d9138c",
   "metadata": {},
   "source": [
    "# Get CNV profile"
   ]
  },
  {
   "cell_type": "code",
   "execution_count": null,
   "id": "701915e9",
   "metadata": {},
   "outputs": [],
   "source": [
    "sq.pl.spatial_scatter(adata, color=[\"Cancer spot\"], crop_coord=(y_min, x_min, y_max, x_max), alpha=1)"
   ]
  },
  {
   "cell_type": "code",
   "execution_count": null,
   "id": "fda32cc4",
   "metadata": {},
   "outputs": [],
   "source": [
    "adata.var = pd.concat([adata.var,gencode_df.loc[adata.var_names.intersection(df.index)]],axis=1)"
   ]
  },
  {
   "cell_type": "code",
   "execution_count": null,
   "id": "72809fdc",
   "metadata": {},
   "outputs": [],
   "source": [
    "cnv.tl.infercnv(\n",
    "    adata,\n",
    "    reference_key=\"Cancer spot\",\n",
    "    reference_cat=[\n",
    "        \"Normal\",\n",
    "    ],\n",
    "    window_size=250,\n",
    ")\n",
    "\n",
    "cnv.tl.pca(adata)\n",
    "cnv.pp.neighbors(adata)\n",
    "cnv.tl.leiden(adata, resolution=0.3)"
   ]
  },
  {
   "cell_type": "code",
   "execution_count": null,
   "id": "c31da98b",
   "metadata": {},
   "outputs": [],
   "source": [
    "cnv.pl.chromosome_heatmap(adata, groupby=\"cnv_leiden\", dendrogram=True)"
   ]
  },
  {
   "cell_type": "code",
   "execution_count": null,
   "id": "b6b691e9",
   "metadata": {},
   "outputs": [],
   "source": [
    "cnv.tl.umap(adata)\n",
    "cnv.tl.cnv_score(adata)\n",
    "\n",
    "fig, ((ax1, ax2), (ax3, ax4)) = plt.subplots(2, 2, figsize=(11, 11))\n",
    "ax4.axis(\"off\")\n",
    "cnv.pl.umap(\n",
    "    adata,\n",
    "    color=\"cnv_leiden\",\n",
    "    legend_loc=\"on data\",\n",
    "    legend_fontoutline=2,\n",
    "    ax=ax1,\n",
    "    show=False,\n",
    ")\n",
    "cnv.pl.umap(adata, color=\"cnv_score\", ax=ax2, show=False)\n",
    "cnv.pl.umap(adata, color=\"Cancer spot\", ax=ax3)"
   ]
  },
  {
   "cell_type": "code",
   "execution_count": null,
   "id": "e6b723c4",
   "metadata": {},
   "outputs": [],
   "source": [
    "adata.obs[\"CNV_assignment\"] = adata.obs.cnv_leiden.replace({'2': \"Tumor\", '0': \"Mixed\", '1': \"Normal\"})\n",
    "\n",
    "adata.obs[[\"Cancer spot\",\"cnv_leiden\",\"cnv_score\",\"CNV_assignment\"]].to_csv(f\"{patient_name}_cnv_info.csv\")"
   ]
  },
  {
   "cell_type": "markdown",
   "id": "09833266",
   "metadata": {},
   "source": [
    "# Carcinoma component normalize"
   ]
  },
  {
   "cell_type": "code",
   "execution_count": null,
   "id": "9f099ed8",
   "metadata": {},
   "outputs": [],
   "source": [
    "adata.layers[\"counts\"] = adata.X.copy()\n",
    "adata.X = adata.layers[\"Carcinoma\"]\n",
    "\n",
    "sc.pp.normalize_total(adata, target_sum=10000)\n",
    "sc.pp.log1p(adata)\n",
    "\n",
    "gex = adata.to_df()\n",
    "gex = (gex - gex.mean())/gex.std()\n",
    "\n",
    "for sig, genes in full_sigs.items():\n",
    "    adata.obs[sig] = gex[gex.columns.intersection(genes)].mean(axis=1)"
   ]
  },
  {
   "cell_type": "code",
   "execution_count": null,
   "id": "116e3e59",
   "metadata": {
    "scrolled": true
   },
   "outputs": [],
   "source": [
    "smoothed_labels = get_full_smoothed_assignment(adata)\n",
    "\n",
    "adata.obs[\"Smoothed label\"] = smoothed_labels\n",
    "adata.obs[\"Smoothed label\"] = adata.obs[\"Smoothed label\"].astype(\"category\")\n",
    "\n",
    "ass_col = \"Smoothed label\"\n",
    "\n",
    "closest = pd.DataFrame([1000]*adata.obs.shape[0],index=adata.obs.index,columns=[\"Dist. to edge\"])\n",
    "\n",
    "closest.loc[adata.obs[ass_col]==\"Mixed\"] = 0\n",
    "closest.loc[adata.obs[ass_col]==\"Normal\"] = -1\n",
    "\n",
    "for n_rings in np.arange(1,11):\n",
    "    closest = update_closest(adata, n_rings=n_rings, closest=closest, ass_col=ass_col)\n",
    "\n",
    "adata.obs[\"Dist. to edge\"] = closest\n",
    "\n",
    "order_filtered = sorted(closest.value_counts()[(closest.value_counts()>=5)].index.get_level_values(0))\n",
    "\n",
    "fig, ax = plt.subplots(2,3,figsize=(10,5))\n",
    "flatax = ax.flatten()\n",
    "\n",
    "for i,prog in enumerate([f\"cNMF_{i}\" for i in range(1,6)]):\n",
    "    sns.barplot(data=adata.obs, x=\"Dist. to edge\", y=prog, ax=flatax[i], order=order_filtered)\n",
    "    pretty_ax(flatax[i])\n",
    "    labels = flatax[i].get_xticklabels()\n",
    "    labels = [\"Normal\" if l.get_text()==\"-1\" else (\"Mixed\" if l.get_text()==\"0\" else f\"d={l.get_text()}\") for l in labels]\n",
    "    flatax[i].set_xticks(flatax[i].get_xticks(), labels,rotation=45,ha=\"right\")\n",
    "    flatax[i].set_xlabel(\"\")\n",
    "    flatax[i].set_ylabel(f\"cNMF$_{i+1}$\")\n",
    "flatax[-1].axis(\"off\")\n",
    "fig.tight_layout()\n",
    "fig.savefig(figure_dir / patient_name / \"cnmf_distance_to_center.svg\", dpi=200, bbox_inches=\"tight\")"
   ]
  },
  {
   "cell_type": "code",
   "execution_count": null,
   "id": "c0cfb354",
   "metadata": {},
   "outputs": [],
   "source": [
    "adata.obs[[\"Dist. to edge\",\"cNMF_1\",\"cNMF_2\",\"cNMF_3\",\"cNMF_4\",\"cNMF_5\"]].to_csv(visium_results_csv_dir / f\"{patient_name}_cNMF_dist_to_edge.csv\")\n",
    "pd.Series(order_filtered).to_csv(visium_results_csv_dir / f\"{patient_name}_dist_to_edge_order.csv\")"
   ]
  },
  {
   "cell_type": "code",
   "execution_count": null,
   "id": "bf2d3f5a",
   "metadata": {},
   "outputs": [],
   "source": [
    "fig, ax = plt.subplots(2,3, figsize=(10,5))\n",
    "flatax = ax.flatten()\n",
    "sq.pl.spatial_scatter(adata, color=[f\"cNMF_{i}\" for i in range(1,6)]+[\"Smoothed label\"], \n",
    "                      crop_coord=(y_min, x_min, y_max, x_max), \n",
    "                      alpha=1, ncols=3, \n",
    "                      vcenter=0, vmin=-0.3, \n",
    "                      vmax=0.3, fig=fig, ax=flatax)\n",
    "for i in range(len(flatax)-1):\n",
    "    flatax[i].set_title(f\"cNMF$_{i+1}$\")\n",
    "flatax[-1].set_title(\"CNV-derived spot label\")\n",
    "fig.tight_layout()\n",
    "fig.savefig(figure_dir / patient_name / \"scatterplot_spatial.png\", dpi=200, bbox_inches=\"tight\")"
   ]
  },
  {
   "cell_type": "code",
   "execution_count": null,
   "id": "8f1578f5",
   "metadata": {},
   "outputs": [],
   "source": [
    "fig, ax = plt.subplots(2,3,figsize=(7,3.5))\n",
    "flatax = ax.flatten()\n",
    "\n",
    "pairs = [(\"Normal\",\"Tumor\"),(\"Normal\",\"Mixed\"),(\"Mixed\",\"Tumor\")]\n",
    "for i,prog in enumerate([f\"cNMF_{i}\" for i in range(1,6)]):\n",
    "    sns.boxplot(data=adata.obs, x=\"Smoothed label\", y=prog, ax=flatax[i], order=[\"Normal\",\"Mixed\",\"Tumor\"])\n",
    "    pretty_ax(flatax[i])\n",
    "    flatax[i].set_xticks(flatax[i].get_xticks(),flatax[i].get_xticklabels(),rotation=45,ha=\"right\")\n",
    "    flatax[i].set_xlabel(\"\")\n",
    "    flatax[i].set_ylabel(f\"cNMF$_{i+1}$\")\n",
    "    annotator = Annotator(flatax[i], pairs, data=adata.obs, x=\"Smoothed label\", \n",
    "                          y=prog, order=[\"Normal\",\"Mixed\",\"Tumor\"])\n",
    "    annotator.configure(test='Mann-Whitney', text_format='simple', show_test_name=False, loc='inside')\n",
    "    annotator.apply_and_annotate()\n",
    "flatax[-1].axis(\"off\")\n",
    "fig.tight_layout()\n",
    "fig.savefig(figure_dir / patient_name / \"dist_cnmf_cnv_assignemnt.png\", dpi=200, bbox_inches=\"tight\")"
   ]
  },
  {
   "cell_type": "code",
   "execution_count": null,
   "id": "9f25cbb5",
   "metadata": {},
   "outputs": [],
   "source": [
    "fig, ax = plt.subplots(2,3,figsize=(7,3.5))\n",
    "flatax = ax.flatten()\n",
    "list_ct = [\"Carcinoma\",\"Fibroblast\",\"Endothelial\",\"Myeloid\",\"Lymphoid\",\"Muscle\"]\n",
    "for i in range(len(list_ct)):\n",
    "    sns.boxplot(data=adata.obs, x=\"Smoothed label\", y=list_ct[i], ax=flatax[i], order=[\"Normal\",\"Mixed\",\"Tumor\"])\n",
    "    pretty_ax(flatax[i])\n",
    "    flatax[i].set_ylabel(\"N cells\")\n",
    "    flatax[i].set_xlabel(\"\")\n",
    "    flatax[i].set_title(f\"{list_ct[i]}\")\n",
    "    flatax[i].set_xticks(flatax[i].get_xticks(), flatax[i].get_xticklabels(), rotation=45, ha=\"right\")\n",
    "    \n",
    "fig.tight_layout()\n",
    "fig.savefig(figure_dir / patient_name / \"N_cells_perspot.png\", dpi=200, bbox_inches=\"tight\")"
   ]
  },
  {
   "cell_type": "code",
   "execution_count": null,
   "id": "f700bb25",
   "metadata": {},
   "outputs": [],
   "source": [
    "location_refined = adata.obs[[ass_col]].copy().astype(str)\n",
    "location_refined.columns = [\"Location refined\"]\n",
    "\n",
    "adata.obs[\"Location refined\"] = get_refined_location(adata=adata, n_rings=1, \n",
    "                                                     location_refined=location_refined, ass_col=\"Smoothed label\")\n",
    "adata.obs[\"Location refined\"] = adata.obs[\"Location refined\"].astype(\"category\")"
   ]
  },
  {
   "cell_type": "markdown",
   "id": "d6bda1c2",
   "metadata": {},
   "source": [
    "# Run LIGREC"
   ]
  },
  {
   "cell_type": "code",
   "execution_count": null,
   "id": "ac48ab6a",
   "metadata": {},
   "outputs": [],
   "source": [
    "adata.X = adata.layers[\"counts\"].copy()\n",
    "sc.pp.normalize_total(adata, target_sum=10000)"
   ]
  },
  {
   "cell_type": "code",
   "execution_count": null,
   "id": "facd0670",
   "metadata": {},
   "outputs": [],
   "source": [
    "sq.gr.ligrec(\n",
    "    adata, use_raw=False, interactions=df_interaction,\n",
    "    n_perms=500, corr_method=\"fdr_bh\",\n",
    "    cluster_key=\"Location refined\",\n",
    ")\n",
    "\n",
    "tumor_interactions = adata.uns[\"Location refined_ligrec\"][\"pvalues\"][\"Tumor_Periphery\"]\n",
    "\n",
    "tumor_means = adata.uns[\"Location refined_ligrec\"][\"means\"][\"Tumor_Periphery\"]\n",
    "\n",
    "normal_interactions = adata.uns[\"Location refined_ligrec\"][\"pvalues\"][\"Normal_Periphery\"]\n",
    "\n",
    "normal_means = adata.uns[\"Location refined_ligrec\"][\"means\"][\"Normal_Periphery\"]\n",
    "\n",
    "mixed_interactions = adata.uns[\"Location refined_ligrec\"][\"pvalues\"][\"Mixed\"]\n",
    "\n",
    "mixed_means = adata.uns[\"Location refined_ligrec\"][\"means\"][\"Mixed\"]"
   ]
  },
  {
   "cell_type": "code",
   "execution_count": null,
   "id": "1e87f55f",
   "metadata": {},
   "outputs": [],
   "source": [
    "sign_int = tumor_interactions[\"Tumor_Periphery\"][tumor_interactions[\"Tumor_Periphery\"]<0.05]\n",
    "\n",
    "heatmap_tumor_df = get_heatmap_interactions_tumor(sign_int=sign_int, full_sigs=full_sigs, tumor_means=tumor_means)\n",
    "\n",
    "sign_int = tumor_interactions[\"Normal_Periphery\"][tumor_interactions[\"Normal_Periphery\"]<0.05]\n",
    "\n",
    "heatmap_tumor_to_normal_df = get_heatmap_interactions_tumor_to_normal(sign_int=sign_int, full_sigs=full_sigs, \n",
    "                                                             normal_sigs=normal_sigs, tumor_means=tumor_means)\n",
    "\n",
    "sign_int = normal_interactions[\"Tumor_Periphery\"][normal_interactions[\"Tumor_Periphery\"]<0.05]\n",
    "\n",
    "heatmap_normal_to_tumor_df = get_heatmap_interactions_normal_to_tumor(sign_int=sign_int, full_sigs=full_sigs, \n",
    "                                                             normal_sigs=normal_sigs, normal_means=normal_means)"
   ]
  },
  {
   "cell_type": "code",
   "execution_count": null,
   "id": "1a927aad",
   "metadata": {},
   "outputs": [],
   "source": [
    "import palettable\n",
    "colorlist = palettable.colorbrewer.qualitative.Set1_7.mpl_colors\n",
    "colormapping_mal = {\"cNMF_1\": colorlist[0], \"cNMF_2\": colorlist[1], \"cNMF_3\": colorlist[3], \n",
    "                    \"cNMF_4\": colorlist[4], \"cNMF_5\": colorlist[6]}\n",
    "\n",
    "colorlist = palettable.colorbrewer.sequential.Greens_9.mpl_colors\n",
    "colormapping_myeloid = {\"TAM1\": colorlist[1], \"DC\": colorlist[2], \n",
    "                        \"Mast\": colorlist[4], \"TAM2\": colorlist[5]}\n",
    "\n",
    "colorlist = palettable.colorbrewer.sequential.Oranges_5.mpl_colors\n",
    "colormapping_fibroblast = {\"Inflammatory CAF\": colorlist[1], \"Adipose CAF\": colorlist[3], \n",
    "                           \"Fibroblast\": colorlist[4]}\n",
    "\n",
    "colormapping_normal = (colormapping_myeloid | colormapping_fibroblast)"
   ]
  },
  {
   "cell_type": "code",
   "execution_count": null,
   "id": "73388517",
   "metadata": {},
   "outputs": [],
   "source": [
    "color_mapping_idx = return_color(list_idx = heatmap_normal_to_tumor_df.index.to_numpy(), \n",
    "                             sigs = normal_sigs, color_palette = colormapping_normal)\n",
    "color_mapping_col = return_color(list_idx = heatmap_normal_to_tumor_df.columns.to_numpy(), \n",
    "                             sigs = full_sigs, color_palette = colormapping_mal)\n",
    "\n",
    "fig = plot_interaction_heatmap(heatmap_normal_to_tumor_df, color_mapping_idx, color_mapping_col, figsize=(2,1.5))\n",
    "fig.savefig(figure_dir / patient_name / \"normal_to_tumor_LIGREC.svg\", dpi=200, bbox_inches=\"tight\")"
   ]
  },
  {
   "cell_type": "code",
   "execution_count": null,
   "id": "8a9dda0b",
   "metadata": {},
   "outputs": [],
   "source": [
    "adata.uns[\"Location refined_ligrec\"][\"means\"].to_csv(visium_results_csv_dir / f\"{patient_name}_LIGREC_means.csv\")\n",
    "adata.uns[\"Location refined_ligrec\"][\"pvalues\"].to_csv(visium_results_csv_dir / f\"{patient_name}_LIGREC_pvalues.csv\")"
   ]
  },
  {
   "cell_type": "markdown",
   "id": "d2c24d55",
   "metadata": {},
   "source": [
    "# EGSFR1938_A"
   ]
  },
  {
   "cell_type": "code",
   "execution_count": null,
   "id": "dba15eb2",
   "metadata": {},
   "outputs": [],
   "source": [
    "patient_name = \"EGSFR1938_A\""
   ]
  },
  {
   "cell_type": "code",
   "execution_count": null,
   "id": "f921fa63",
   "metadata": {},
   "outputs": [],
   "source": [
    "resdir = cell2location_results_dir / patient_name \n",
    "\n",
    "sample_path = resdir / patient_name\n",
    "\n",
    "adata = sc.read_h5ad(resdir / \"cell2location_map\" / \"sp.h5ad\")\n",
    "\n",
    "tissue_path = spatial_dir / patient_name / \"spatial/tissue_positions_list.csv\"\n",
    "tissue_position = pd.read_csv(tissue_path,index_col=0)\n",
    "tissue_position = tissue_position.loc[adata.obs_names]\n",
    "\n",
    "#Set coordinates\n",
    "x_array=tissue_position[\"array_row\"].tolist()\n",
    "y_array=tissue_position[\"array_col\"].tolist()\n",
    "x_pixel=tissue_position[\"pxl_row_in_fullres\"].tolist()\n",
    "y_pixel=tissue_position[\"pxl_col_in_fullres\"].tolist()\n",
    "\n",
    "x_min, x_max = np.min(x_pixel), np.max(x_pixel)\n",
    "y_min, y_max = np.min(y_pixel), np.max(y_pixel)\n",
    "\n",
    "cancer_spots = get_cancer_spot(adata=adata)\n",
    "\n",
    "cancer_spot = pd.DataFrame(np.zeros(adata.shape[0]),index=adata.obs_names,columns=[\"Cancer spot\"])\n",
    "cancer_spot.loc[adata.obs_names[cancer_spots],\"Cancer spot\"] = 1\n",
    "\n",
    "adata.obs[\"Cancer spot\"] = cancer_spot.replace({0: \"Normal\", 1: \"Tumor\"})"
   ]
  },
  {
   "cell_type": "code",
   "execution_count": null,
   "id": "db58c3bd",
   "metadata": {},
   "outputs": [],
   "source": [
    "cell2loc_res = pd.read_csv(cell2location_results_dir / patient_name / \"cell2location_map\" / \"celltype_abundance.csv\",index_col=0)"
   ]
  },
  {
   "cell_type": "markdown",
   "id": "a9205504",
   "metadata": {},
   "source": [
    "# Get CNV profile"
   ]
  },
  {
   "cell_type": "code",
   "execution_count": null,
   "id": "6942d3c4",
   "metadata": {},
   "outputs": [],
   "source": [
    "sq.pl.spatial_scatter(adata, color=[\"Cancer spot\"], crop_coord=(y_min, x_min, y_max, x_max), alpha=1)"
   ]
  },
  {
   "cell_type": "code",
   "execution_count": null,
   "id": "bf3aee1f",
   "metadata": {},
   "outputs": [],
   "source": [
    "adata.var = pd.concat([adata.var,gencode_df.loc[adata.var_names.intersection(df.index)]],axis=1)"
   ]
  },
  {
   "cell_type": "code",
   "execution_count": null,
   "id": "fd48f636",
   "metadata": {},
   "outputs": [],
   "source": [
    "cnv.tl.infercnv(\n",
    "    adata,\n",
    "    reference_key=\"Cancer spot\",\n",
    "    reference_cat=[\n",
    "        \"Normal\",\n",
    "    ],\n",
    "    window_size=250,\n",
    ")\n",
    "\n",
    "cnv.tl.pca(adata)\n",
    "cnv.pp.neighbors(adata)\n",
    "cnv.tl.leiden(adata, resolution=0.2)"
   ]
  },
  {
   "cell_type": "code",
   "execution_count": null,
   "id": "b41bc911",
   "metadata": {},
   "outputs": [],
   "source": [
    "cnv.pl.chromosome_heatmap(adata, groupby=\"cnv_leiden\", dendrogram=True)"
   ]
  },
  {
   "cell_type": "code",
   "execution_count": null,
   "id": "97c030da",
   "metadata": {},
   "outputs": [],
   "source": [
    "cnv.tl.umap(adata)\n",
    "cnv.tl.cnv_score(adata)\n",
    "\n",
    "fig, ((ax1, ax2), (ax3, ax4)) = plt.subplots(2, 2, figsize=(11, 11))\n",
    "ax4.axis(\"off\")\n",
    "cnv.pl.umap(\n",
    "    adata,\n",
    "    color=\"cnv_leiden\",\n",
    "    legend_loc=\"on data\",\n",
    "    legend_fontoutline=2,\n",
    "    ax=ax1,\n",
    "    show=False,\n",
    ")\n",
    "cnv.pl.umap(adata, color=\"cnv_score\", ax=ax2, show=False)\n",
    "cnv.pl.umap(adata, color=\"Cancer spot\", ax=ax3)"
   ]
  },
  {
   "cell_type": "code",
   "execution_count": null,
   "id": "06ff76bd",
   "metadata": {},
   "outputs": [],
   "source": [
    "adata.obs[\"CNV_assignment\"] = adata.obs.cnv_leiden.replace({'3': \"Tumor\", '0': \"Normal\", '1': \"Normal\", \n",
    "                                                            '2': \"Normal\", '4': \"Normal\", })#\"5\": \"Normal\"\n",
    "\n",
    "adata.obs[[\"Cancer spot\",\"cnv_leiden\",\"cnv_score\",\"CNV_assignment\"]].to_csv(f\"{patient_name}_cnv_info.csv\")"
   ]
  },
  {
   "cell_type": "markdown",
   "id": "e6307a05",
   "metadata": {},
   "source": [
    "# Carcinoma component normalize"
   ]
  },
  {
   "cell_type": "code",
   "execution_count": null,
   "id": "a0502eca",
   "metadata": {},
   "outputs": [],
   "source": [
    "adata.layers[\"counts\"] = adata.X.copy()\n",
    "adata.X = adata.layers[\"Carcinoma\"]\n",
    "\n",
    "sc.pp.normalize_total(adata, target_sum=10000)\n",
    "sc.pp.log1p(adata)\n",
    "\n",
    "gex = adata.to_df()\n",
    "gex = (gex - gex.mean())/gex.std()\n",
    "\n",
    "for sig, genes in full_sigs.items():\n",
    "    adata.obs[sig] = gex[gex.columns.intersection(genes)].mean(axis=1)"
   ]
  },
  {
   "cell_type": "code",
   "execution_count": null,
   "id": "8fe91c23",
   "metadata": {},
   "outputs": [],
   "source": [
    "adata.X = adata.layers[\"Fibroblast\"]\n",
    "\n",
    "sc.pp.normalize_total(adata, target_sum=10000)\n",
    "sc.pp.log1p(adata)\n",
    "\n",
    "gex = adata.to_df()\n",
    "gex = (gex - gex.mean())/gex.std()\n",
    "\n",
    "for sig, genes in caf_sigs.items():\n",
    "    adata.obs[sig] = gex[gex.columns.intersection(genes)].mean(axis=1)"
   ]
  },
  {
   "cell_type": "code",
   "execution_count": null,
   "id": "4dd80e64",
   "metadata": {},
   "outputs": [],
   "source": [
    "adata.X = adata.layers[\"Myeloid\"]\n",
    "\n",
    "sc.pp.normalize_total(adata, target_sum=10000)\n",
    "sc.pp.log1p(adata)\n",
    "\n",
    "gex = adata.to_df()\n",
    "gex = (gex - gex.mean())/gex.std()\n",
    "\n",
    "for sig, genes in myeloid_sigs.items():\n",
    "    adata.obs[sig] = gex[gex.columns.intersection(genes)].mean(axis=1)"
   ]
  },
  {
   "cell_type": "code",
   "execution_count": null,
   "id": "6a378bf6",
   "metadata": {},
   "outputs": [],
   "source": [
    "smoothed_labels = get_full_smoothed_assignment(adata)\n",
    "\n",
    "adata.obs[\"Smoothed label\"] = smoothed_labels\n",
    "adata.obs[\"Smoothed label\"] = adata.obs[\"Smoothed label\"].astype(\"category\")\n",
    "\n",
    "ass_col = \"Smoothed label\"\n",
    "\n",
    "closest = pd.DataFrame([1000]*adata.obs.shape[0],index=adata.obs.index,columns=[\"Dist. to edge\"])\n",
    "\n",
    "closest.loc[adata.obs[ass_col]==\"Mixed\"] = 0\n",
    "closest.loc[adata.obs[ass_col]==\"Normal\"] = -1\n",
    "\n",
    "for n_rings in np.arange(1,11):\n",
    "    closest = update_closest(adata, n_rings=n_rings, closest=closest, ass_col=ass_col)\n",
    "\n",
    "adata.obs[\"Dist. to edge\"] = closest\n",
    "\n",
    "order_filtered = sorted(closest.value_counts()[(closest.value_counts()>=5)].index.get_level_values(0))\n",
    "\n",
    "fig, ax = plt.subplots(2,3,figsize=(10,5))\n",
    "flatax = ax.flatten()\n",
    "\n",
    "for i,prog in enumerate([f\"cNMF_{i}\" for i in range(1,6)]):\n",
    "    sns.barplot(data=adata.obs, x=\"Dist. to edge\", y=prog, ax=flatax[i], order=order_filtered)\n",
    "    pretty_ax(flatax[i])\n",
    "    labels = flatax[i].get_xticklabels()\n",
    "    labels = [\"Normal\" if l.get_text()==\"-1\" else (\"Mixed\" if l.get_text()==\"0\" else f\"d={l.get_text()}\") for l in labels]\n",
    "    flatax[i].set_xticks(flatax[i].get_xticks(), labels,rotation=45,ha=\"right\")\n",
    "    flatax[i].set_xlabel(\"\")\n",
    "    flatax[i].set_ylabel(f\"cNMF$_{i+1}$\")\n",
    "flatax[-1].axis(\"off\")\n",
    "fig.tight_layout()\n",
    "fig.savefig(figure_dir / patient_name / \"cnmf_distance_to_center.svg\", dpi=200, bbox_inches=\"tight\")"
   ]
  },
  {
   "cell_type": "code",
   "execution_count": null,
   "id": "af40db0c",
   "metadata": {},
   "outputs": [],
   "source": [
    "adata.obs[[\"Dist. to edge\",\"cNMF_1\",\"cNMF_2\",\"cNMF_3\",\"cNMF_4\",\"cNMF_5\"]].to_csv(visium_results_csv_dir / f\"{patient_name}_cNMF_dist_to_edge.csv\")\n",
    "pd.Series(order_filtered).to_csv(visium_results_csv_dir / f\"{patient_name}_dist_to_edge_order.csv\")"
   ]
  },
  {
   "cell_type": "code",
   "execution_count": null,
   "id": "3f5f591a",
   "metadata": {},
   "outputs": [],
   "source": [
    "fig, ax = plt.subplots(2,3, figsize=(10,5))\n",
    "flatax = ax.flatten()\n",
    "sq.pl.spatial_scatter(adata, color=[f\"cNMF_{i}\" for i in range(1,6)]+[\"Smoothed label\"], \n",
    "                      crop_coord=(y_min, x_min, y_max, x_max), \n",
    "                      alpha=1, ncols=3, \n",
    "                      vcenter=0, vmin=-0.4, \n",
    "                      vmax=0.4, fig=fig, ax=flatax)\n",
    "for i in range(len(flatax)-1):\n",
    "    flatax[i].set_title(f\"cNMF$_{i+1}$\")\n",
    "flatax[-1].set_title(\"CNV-derived spot label\")\n",
    "fig.tight_layout()\n",
    "fig.savefig(figure_dir / patient_name / \"scatterplot_spatial.png\", dpi=200, bbox_inches=\"tight\")\n",
    "fig.savefig(figure_dir / patient_name / \"scatterplot_spatial.svg\", dpi=100, bbox_inches=\"tight\")"
   ]
  },
  {
   "cell_type": "code",
   "execution_count": null,
   "id": "4df22a84",
   "metadata": {},
   "outputs": [],
   "source": [
    "fig, ax = plt.subplots(1,4, figsize=(12,2.6))\n",
    "flatax = ax.flatten()\n",
    "sq.pl.spatial_scatter(adata, color=[\"Inflammatory CAF\",\"Adipose CAF\",\"Fibroblast\"]+[\"Smoothed label\"], \n",
    "                      crop_coord=(y_min, x_min, y_max, x_max), \n",
    "                      alpha=1, ncols=3, \n",
    "                      vcenter=0, vmin=-0.4, \n",
    "                      vmax=0.4, fig=fig, ax=flatax)\n",
    "\n",
    "flatax[-1].set_title(\"CNV-derived spot label\")\n",
    "fig.tight_layout()\n",
    "fig.savefig(figure_dir / patient_name / \"scatterplot_fibro.png\", dpi=200, bbox_inches=\"tight\")\n",
    "fig.savefig(figure_dir / patient_name / \"scatterplot_fibro.svg\", dpi=100, bbox_inches=\"tight\")"
   ]
  },
  {
   "cell_type": "code",
   "execution_count": null,
   "id": "d876e30a",
   "metadata": {},
   "outputs": [],
   "source": [
    "fig, ax = plt.subplots(2,3, figsize=(10,5))\n",
    "flatax = ax.flatten()\n",
    "sq.pl.spatial_scatter(adata, color=list(myeloid_sigs.keys())+[\"Smoothed label\"], \n",
    "                      crop_coord=(y_min, x_min, y_max, x_max), \n",
    "                      alpha=1, ncols=3, \n",
    "                      vcenter=0, vmin=-0.4, \n",
    "                      vmax=0.4, fig=fig, ax=flatax)\n",
    "\n",
    "flatax[-1].set_title(\"CNV-derived spot label\")\n",
    "fig.tight_layout()\n",
    "fig.savefig(figure_dir / patient_name / \"scatterplot_myeloid.png\", dpi=200, bbox_inches=\"tight\")\n",
    "fig.savefig(figure_dir / patient_name / \"scatterplot_myeloid.svg\", dpi=100, bbox_inches=\"tight\")"
   ]
  },
  {
   "cell_type": "code",
   "execution_count": null,
   "id": "21472421",
   "metadata": {},
   "outputs": [],
   "source": [
    "fig, ax = plt.subplots(2,3,figsize=(7,3.5))\n",
    "flatax = ax.flatten()\n",
    "list_ct = [\"Carcinoma\",\"Fibroblast\",\"Endothelial\",\"Myeloid\",\"Lymphoid\",\"Muscle\"]\n",
    "for i in range(len(list_ct)):\n",
    "    sns.boxplot(data=adata.obs, x=\"Smoothed label\", y=list_ct[i], ax=flatax[i], order=[\"Normal\",\"Tumor\"])\n",
    "    pretty_ax(flatax[i])\n",
    "    flatax[i].set_ylabel(\"N cells\")\n",
    "    flatax[i].set_xlabel(\"\")\n",
    "    flatax[i].set_title(f\"{list_ct[i]}\")\n",
    "    flatax[i].set_xticks(flatax[i].get_xticks(), flatax[i].get_xticklabels(), rotation=45, ha=\"right\")\n",
    "    \n",
    "fig.tight_layout()\n",
    "fig.savefig(figure_dir / patient_name / \"N_cells_perspot.png\", dpi=200, bbox_inches=\"tight\")"
   ]
  },
  {
   "cell_type": "code",
   "execution_count": null,
   "id": "8a74ba85",
   "metadata": {},
   "outputs": [],
   "source": [
    "fig, ax = plt.subplots(2,3,figsize=(7,3.5))\n",
    "flatax = ax.flatten()\n",
    "\n",
    "pairs = [(\"Normal\",\"Tumor\")]\n",
    "for i,prog in enumerate([f\"cNMF_{i}\" for i in range(1,6)]):\n",
    "    sns.boxplot(data=adata.obs, x=\"Smoothed label\", y=prog, ax=flatax[i], order=[\"Normal\",\"Tumor\"])\n",
    "    pretty_ax(flatax[i])\n",
    "    flatax[i].set_xticks(flatax[i].get_xticks(),flatax[i].get_xticklabels(),rotation=45,ha=\"right\")\n",
    "    flatax[i].set_xlabel(\"\")\n",
    "    flatax[i].set_ylabel(f\"cNMF$_{i+1}$\")\n",
    "    annotator = Annotator(flatax[i], pairs, data=adata.obs, x=\"Smoothed label\", \n",
    "                          y=prog, order=[\"Normal\",\"Tumor\"])\n",
    "    annotator.configure(test='Mann-Whitney', text_format='simple', show_test_name=False, loc='inside')\n",
    "    annotator.apply_and_annotate()\n",
    "flatax[-1].axis(\"off\")\n",
    "fig.tight_layout()\n",
    "fig.savefig(figure_dir / patient_name / \"dist_cnmf_cnv_assignemnt.png\", dpi=200, bbox_inches=\"tight\")"
   ]
  },
  {
   "cell_type": "code",
   "execution_count": null,
   "id": "701839bc",
   "metadata": {},
   "outputs": [],
   "source": [
    "location_refined = adata.obs[[ass_col]].copy().astype(str)\n",
    "location_refined.columns = [\"Location refined\"]\n",
    "\n",
    "adata.obs[\"Location refined\"] = get_refined_location(adata=adata, n_rings=1, \n",
    "                                                     location_refined=location_refined, ass_col=\"Smoothed label\")\n",
    "adata.obs[\"Location refined\"] = adata.obs[\"Location refined\"].astype(\"category\")"
   ]
  },
  {
   "cell_type": "markdown",
   "id": "19b006ca",
   "metadata": {},
   "source": [
    "# Run LIGREC"
   ]
  },
  {
   "cell_type": "code",
   "execution_count": null,
   "id": "e9ec0ffc",
   "metadata": {},
   "outputs": [],
   "source": [
    "adata.X = adata.layers[\"counts\"].copy()\n",
    "sc.pp.normalize_total(adata, target_sum=10000)"
   ]
  },
  {
   "cell_type": "code",
   "execution_count": null,
   "id": "13e10560",
   "metadata": {},
   "outputs": [],
   "source": [
    "sq.gr.ligrec(\n",
    "    adata, use_raw=False, interactions=df_interaction,\n",
    "    n_perms=500, corr_method=\"fdr_bh\",\n",
    "    cluster_key=\"Location refined\",\n",
    ")\n",
    "\n",
    "tumor_per_interactions = adata.uns[\"Location refined_ligrec\"][\"pvalues\"][\"Tumor_Periphery\"]\n",
    "\n",
    "tumor_per_means = adata.uns[\"Location refined_ligrec\"][\"means\"][\"Tumor_Periphery\"]\n",
    "\n",
    "tumor_core_interactions = adata.uns[\"Location refined_ligrec\"][\"pvalues\"][\"Tumor_Core\"]\n",
    "\n",
    "tumor_core_means = adata.uns[\"Location refined_ligrec\"][\"means\"][\"Tumor_Core\"]\n",
    "\n",
    "normal_interactions = adata.uns[\"Location refined_ligrec\"][\"pvalues\"][\"Normal_Periphery\"]\n",
    "\n",
    "normal_means = adata.uns[\"Location refined_ligrec\"][\"means\"][\"Normal_Periphery\"]"
   ]
  },
  {
   "cell_type": "code",
   "execution_count": null,
   "id": "66b03755",
   "metadata": {},
   "outputs": [],
   "source": [
    "sign_int = tumor_core_interactions[\"Tumor_Core\"][tumor_core_interactions[\"Tumor_Core\"]<0.05]\n",
    "\n",
    "heatmap_tumor_df = get_heatmap_interactions_tumor(sign_int=sign_int, full_sigs=full_sigs, tumor_means=tumor_core_means)\n",
    "\n",
    "sign_int = tumor_per_interactions[\"Normal_Periphery\"][tumor_per_interactions[\"Normal_Periphery\"]<0.05]\n",
    "\n",
    "heatmap_tumor_to_normal_df = get_heatmap_interactions_tumor_to_normal(sign_int=sign_int, full_sigs=full_sigs, \n",
    "                                                             normal_sigs=normal_sigs, tumor_means=tumor_per_means)\n",
    "\n",
    "sign_int = normal_interactions[\"Tumor_Periphery\"][normal_interactions[\"Tumor_Periphery\"]<0.05]\n",
    "\n",
    "heatmap_normal_to_tumor_df = get_heatmap_interactions_normal_to_tumor(sign_int=sign_int, full_sigs=full_sigs, \n",
    "                                                             normal_sigs=normal_sigs, normal_means=normal_means)"
   ]
  },
  {
   "cell_type": "code",
   "execution_count": null,
   "id": "47ea5dd1",
   "metadata": {},
   "outputs": [],
   "source": [
    "import palettable\n",
    "colorlist = palettable.colorbrewer.qualitative.Set1_7.mpl_colors\n",
    "colormapping_mal = {\"cNMF_1\": colorlist[0], \"cNMF_2\": colorlist[1], \"cNMF_3\": colorlist[3], \n",
    "                    \"cNMF_4\": colorlist[4], \"cNMF_5\": colorlist[6]}\n",
    "\n",
    "colorlist = palettable.colorbrewer.sequential.Greens_9.mpl_colors\n",
    "colormapping_myeloid = {\"TAM1\": colorlist[1], \"DC\": colorlist[2], \n",
    "                        \"Mast\": colorlist[4], \"TAM2\": colorlist[5]}\n",
    "\n",
    "colorlist = palettable.colorbrewer.sequential.Oranges_5.mpl_colors\n",
    "colormapping_fibroblast = {\"Inflammatory CAF\": colorlist[1], \"Adipose CAF\": colorlist[3], \n",
    "                           \"Fibroblast\": colorlist[4]}\n",
    "\n",
    "colormapping_normal = (colormapping_myeloid | colormapping_fibroblast)"
   ]
  },
  {
   "cell_type": "code",
   "execution_count": null,
   "id": "d5adcd6e",
   "metadata": {},
   "outputs": [],
   "source": [
    "color_mapping_idx = return_color(list_idx = heatmap_tumor_to_normal_df.index.to_numpy(), \n",
    "                             sigs = full_sigs, color_palette = colormapping_mal)\n",
    "color_mapping_col = return_color(list_idx = heatmap_tumor_to_normal_df.columns.to_numpy(), \n",
    "                             sigs = normal_sigs, color_palette = colormapping_normal)\n",
    "\n",
    "fig = plot_interaction_heatmap(heatmap_tumor_to_normal_df, color_mapping_idx, color_mapping_col, figsize=(2,1.5))\n",
    "fig.savefig(figure_dir / patient_name / \"tumor_to_normal_LIGREC.svg\", dpi=200, bbox_inches=\"tight\")"
   ]
  },
  {
   "cell_type": "code",
   "execution_count": null,
   "id": "adb29179",
   "metadata": {},
   "outputs": [],
   "source": [
    "color_mapping_idx = return_color(list_idx = heatmap_normal_to_tumor_df.index.to_numpy(), \n",
    "                             sigs = normal_sigs, color_palette = colormapping_normal)\n",
    "color_mapping_col = return_color(list_idx = heatmap_normal_to_tumor_df.columns.to_numpy(), \n",
    "                             sigs = full_sigs, color_palette = colormapping_mal)\n",
    "\n",
    "fig = plot_interaction_heatmap(heatmap_normal_to_tumor_df, color_mapping_idx, color_mapping_col, figsize=(2,1.5))\n",
    "fig.savefig(figure_dir / patient_name / \"normal_to_tumor_LIGREC.svg\", dpi=200, bbox_inches=\"tight\")"
   ]
  },
  {
   "cell_type": "code",
   "execution_count": null,
   "id": "4a48ac0e",
   "metadata": {},
   "outputs": [],
   "source": [
    "adata.uns[\"Location refined_ligrec\"][\"means\"].to_csv(visium_results_csv_dir / f\"{patient_name}_LIGREC_means.csv\")\n",
    "adata.uns[\"Location refined_ligrec\"][\"pvalues\"].to_csv(visium_results_csv_dir / f\"{patient_name}_LIGREC_pvalues.csv\")"
   ]
  },
  {
   "cell_type": "code",
   "execution_count": null,
   "id": "1aa74e20",
   "metadata": {},
   "outputs": [],
   "source": [
    "# want to show in log scale\n",
    "sc.pp.log1p(adata)"
   ]
  },
  {
   "cell_type": "code",
   "execution_count": null,
   "id": "f13bdf1e",
   "metadata": {},
   "outputs": [],
   "source": [
    "LR_list = [\"TGFBI\",\"ITGB1\",\"FN1\",\"ITGA4\",\"FN1\",\"ITGA2\",\"APP\",\"TNFRSF21\",]\n",
    "LR_color_list = [colormapping_mal[\"cNMF_3\"],colormapping_fibroblast[\"Adipose CAF\"],\n",
    "                colormapping_mal[\"cNMF_3\"],colormapping_myeloid[\"DC\"],\n",
    "                colormapping_fibroblast[\"Adipose CAF\"],colormapping_mal[\"cNMF_4\"],\n",
    "                colormapping_myeloid[\"TAM2\"],colormapping_mal[\"cNMF_4\"],]\n",
    "\n",
    "fig, ax = plt.subplots(4,2, figsize=(7,8))\n",
    "flatax = ax.flatten()\n",
    "sq.pl.spatial_scatter(adata, color=LR_list, \n",
    "                      crop_coord=(y_min, x_min, y_max, x_max), \n",
    "                      alpha=1, ncols=2, \n",
    "                      fig=fig, ax=flatax)\n",
    "for i in range(len(flatax)):\n",
    "    flatax[i].set_title(LR_list[i], c=LR_color_list[i])\n",
    "fig.tight_layout()\n",
    "fig.savefig(figure_dir / patient_name / \"spatial_rep_LR_LIGREC_full.svg\", dpi=200, bbox_inches=\"tight\")"
   ]
  },
  {
   "cell_type": "code",
   "execution_count": null,
   "id": "5907d8cb",
   "metadata": {},
   "outputs": [],
   "source": [
    "LR_list = [\"FN1\",\"VCAN\",\"BIRC5\",\"ITGA2\"]\n",
    "LR_color_list = [colormapping_fibroblast[\"Adipose CAF\"],colormapping_mal[\"cNMF_3\"],\n",
    "                colormapping_mal[\"cNMF_2\"],\n",
    "                colormapping_mal[\"cNMF_4\"],]\n",
    "\n",
    "fig, ax = plt.subplots(1,4, figsize=(7,7))\n",
    "flatax = ax.flatten()\n",
    "sq.pl.spatial_scatter(adata, color=LR_list, \n",
    "                      crop_coord=(y_min, x_min, y_max, x_max), \n",
    "                      alpha=1, ncols=4, fig=fig, ax=flatax)\n",
    "for i in range(len(flatax)):\n",
    "    flatax[i].set_title(LR_list[i], c=LR_color_list[i])\n",
    "fig.tight_layout()\n",
    "fig.savefig(figure_dir / patient_name / \"spatial_rep_LR_LIGREC.svg\", dpi=200, bbox_inches=\"tight\")"
   ]
  },
  {
   "cell_type": "markdown",
   "id": "514caa83",
   "metadata": {},
   "source": [
    "# EGSFR0148"
   ]
  },
  {
   "cell_type": "code",
   "execution_count": null,
   "id": "6d18e4fe",
   "metadata": {},
   "outputs": [],
   "source": [
    "patient_name = \"EGSFR0148\""
   ]
  },
  {
   "cell_type": "code",
   "execution_count": null,
   "id": "e932b199",
   "metadata": {},
   "outputs": [],
   "source": [
    "resdir = cell2location_results_dir / patient_name \n",
    "\n",
    "sample_path = resdir / patient_name\n",
    "\n",
    "adata = sc.read_h5ad(resdir / \"cell2location_map\" / \"sp.h5ad\")\n",
    "\n",
    "tissue_path = spatial_dir / patient_name / \"spatial/tissue_positions_list.csv\"\n",
    "tissue_position = pd.read_csv(tissue_path,index_col=0)\n",
    "tissue_position = tissue_position.loc[adata.obs_names]\n",
    "\n",
    "#Set coordinates\n",
    "x_array=tissue_position[\"array_row\"].tolist()\n",
    "y_array=tissue_position[\"array_col\"].tolist()\n",
    "x_pixel=tissue_position[\"pxl_row_in_fullres\"].tolist()\n",
    "y_pixel=tissue_position[\"pxl_col_in_fullres\"].tolist()\n",
    "\n",
    "x_min, x_max = np.min(x_pixel), np.max(x_pixel)\n",
    "y_min, y_max = np.min(y_pixel), np.max(y_pixel)\n",
    "\n",
    "cancer_spots = get_cancer_spot(adata=adata)\n",
    "\n",
    "cancer_spot = pd.DataFrame(np.zeros(adata.shape[0]),index=adata.obs_names,columns=[\"Cancer spot\"])\n",
    "cancer_spot.loc[adata.obs_names[cancer_spots],\"Cancer spot\"] = 1\n",
    "\n",
    "adata.obs[\"Cancer spot\"] = cancer_spot.replace({0: \"Normal\", 1: \"Tumor\"})"
   ]
  },
  {
   "cell_type": "markdown",
   "id": "95ae936f",
   "metadata": {},
   "source": [
    "# Get carcinoma-specific expression and save in layers"
   ]
  },
  {
   "cell_type": "code",
   "execution_count": null,
   "id": "7f1699bd",
   "metadata": {},
   "outputs": [],
   "source": [
    "cell2loc_res = pd.read_csv(cell2location_results_dir / patient_name / \"cell2location_map\" / \"celltype_abundance.csv\",index_col=0)"
   ]
  },
  {
   "cell_type": "markdown",
   "id": "8bb34fab",
   "metadata": {},
   "source": [
    "# Get CNV profile"
   ]
  },
  {
   "cell_type": "code",
   "execution_count": null,
   "id": "e7d10650",
   "metadata": {},
   "outputs": [],
   "source": [
    "adata.var = pd.concat([adata.var,gencode_df.loc[adata.var_names.intersection(df.index)]],axis=1)"
   ]
  },
  {
   "cell_type": "code",
   "execution_count": null,
   "id": "81269177",
   "metadata": {},
   "outputs": [],
   "source": [
    "cnv.tl.infercnv(\n",
    "    adata,\n",
    "    reference_key=\"Cancer spot\",\n",
    "    reference_cat=[\n",
    "        \"Normal\",\n",
    "    ],\n",
    "    window_size=250,\n",
    ")\n",
    "\n",
    "cnv.tl.pca(adata)\n",
    "cnv.pp.neighbors(adata)\n",
    "cnv.tl.leiden(adata, resolution=0.3)"
   ]
  },
  {
   "cell_type": "code",
   "execution_count": null,
   "id": "d74b586b",
   "metadata": {},
   "outputs": [],
   "source": [
    "cnv.pl.chromosome_heatmap(adata, groupby=\"cnv_leiden\", dendrogram=True)"
   ]
  },
  {
   "cell_type": "code",
   "execution_count": null,
   "id": "0f16507f",
   "metadata": {},
   "outputs": [],
   "source": [
    "cnv.tl.umap(adata)\n",
    "cnv.tl.cnv_score(adata)\n",
    "\n",
    "fig, ((ax1, ax2), (ax3, ax4)) = plt.subplots(2, 2, figsize=(11, 11))\n",
    "ax4.axis(\"off\")\n",
    "cnv.pl.umap(\n",
    "    adata,\n",
    "    color=\"cnv_leiden\",\n",
    "    legend_loc=\"on data\",\n",
    "    legend_fontoutline=2,\n",
    "    ax=ax1,\n",
    "    show=False,\n",
    ")\n",
    "cnv.pl.umap(adata, color=\"cnv_score\", ax=ax2, show=False)\n",
    "cnv.pl.umap(adata, color=\"Cancer spot\", ax=ax3)"
   ]
  },
  {
   "cell_type": "code",
   "execution_count": null,
   "id": "1e0ed0cb",
   "metadata": {},
   "outputs": [],
   "source": [
    "adata.obs[\"CNV_assignment\"] = adata.obs.cnv_leiden.replace({'0': \"Normal\", '1': \"Tumor\", \n",
    "                                                            '2': \"Normal\", '3': \"Mixed\"})\n",
    "\n",
    "adata.obs[[\"Cancer spot\",\"cnv_leiden\",\"cnv_score\",\"CNV_assignment\"]].to_csv(f\"{patient_name}_cnv_info.csv\")"
   ]
  },
  {
   "cell_type": "markdown",
   "id": "166111ba",
   "metadata": {},
   "source": [
    "# Carcinoma component normalize"
   ]
  },
  {
   "cell_type": "code",
   "execution_count": null,
   "id": "5bca047d",
   "metadata": {},
   "outputs": [],
   "source": [
    "adata.layers[\"counts\"] = adata.X.copy()\n",
    "adata.X = adata.layers[\"Carcinoma\"]\n",
    "\n",
    "sc.pp.normalize_total(adata, target_sum=10000)\n",
    "sc.pp.log1p(adata)\n",
    "\n",
    "gex = adata.to_df()\n",
    "gex = (gex - gex.mean())/gex.std()\n",
    "\n",
    "for sig, genes in full_sigs.items():\n",
    "    adata.obs[sig] = gex[gex.columns.intersection(genes)].mean(axis=1)"
   ]
  },
  {
   "cell_type": "code",
   "execution_count": null,
   "id": "947569ab",
   "metadata": {},
   "outputs": [],
   "source": [
    "adata.X = adata.layers[\"Fibroblast\"]\n",
    "\n",
    "sc.pp.normalize_total(adata, target_sum=10000)\n",
    "sc.pp.log1p(adata)\n",
    "\n",
    "gex = adata.to_df()\n",
    "gex = (gex - gex.mean())/gex.std()\n",
    "\n",
    "for sig, genes in caf_sigs.items():\n",
    "    adata.obs[sig] = gex[gex.columns.intersection(genes)].mean(axis=1)"
   ]
  },
  {
   "cell_type": "code",
   "execution_count": null,
   "id": "82f9783b",
   "metadata": {},
   "outputs": [],
   "source": [
    "adata.X = adata.layers[\"Myeloid\"]\n",
    "\n",
    "sc.pp.normalize_total(adata, target_sum=10000)\n",
    "sc.pp.log1p(adata)\n",
    "\n",
    "gex = adata.to_df()\n",
    "gex = (gex - gex.mean())/gex.std()\n",
    "\n",
    "for sig, genes in myeloid_sigs.items():\n",
    "    adata.obs[sig] = gex[gex.columns.intersection(genes)].mean(axis=1)"
   ]
  },
  {
   "cell_type": "code",
   "execution_count": null,
   "id": "ecff531f",
   "metadata": {},
   "outputs": [],
   "source": [
    "smoothed_labels = get_full_smoothed_assignment(adata)\n",
    "\n",
    "adata.obs[\"Smoothed label\"] = smoothed_labels\n",
    "adata.obs[\"Smoothed label\"] = adata.obs[\"Smoothed label\"].astype(\"category\")\n",
    "\n",
    "ass_col = \"Smoothed label\"\n",
    "\n",
    "closest = pd.DataFrame([1000]*adata.obs.shape[0],index=adata.obs.index,columns=[\"Dist. to edge\"])\n",
    "\n",
    "closest.loc[adata.obs[ass_col]==\"Mixed\"] = 0\n",
    "closest.loc[adata.obs[ass_col]==\"Normal\"] = -1\n",
    "\n",
    "for n_rings in np.arange(1,11):\n",
    "    closest = update_closest(adata, n_rings=n_rings, closest=closest, ass_col=ass_col)\n",
    "\n",
    "adata.obs[\"Dist. to edge\"] = closest\n",
    "\n",
    "order_filtered = sorted(closest.value_counts()[(closest.value_counts()>=5)].index.get_level_values(0))\n",
    "\n",
    "fig, ax = plt.subplots(2,3,figsize=(10,5))\n",
    "flatax = ax.flatten()\n",
    "\n",
    "for i,prog in enumerate([f\"cNMF_{i}\" for i in range(1,6)]):\n",
    "    sns.barplot(data=adata.obs, x=\"Dist. to edge\", y=prog, ax=flatax[i], order=order_filtered)\n",
    "    pretty_ax(flatax[i])\n",
    "    labels = flatax[i].get_xticklabels()\n",
    "    labels = [\"Normal\" if l.get_text()==\"-1\" else (\"Mixed\" if l.get_text()==\"0\" else f\"d={l.get_text()}\") for l in labels]\n",
    "    flatax[i].set_xticks(flatax[i].get_xticks(), labels,rotation=45,ha=\"right\")\n",
    "    flatax[i].set_xlabel(\"\")\n",
    "    flatax[i].set_ylabel(f\"cNMF$_{i+1}$\")\n",
    "flatax[-1].axis(\"off\")\n",
    "fig.tight_layout()\n",
    "fig.savefig(figure_dir / patient_name / \"cnmf_distance_to_center.svg\", dpi=200, bbox_inches=\"tight\")"
   ]
  },
  {
   "cell_type": "code",
   "execution_count": null,
   "id": "ff2cfb86",
   "metadata": {},
   "outputs": [],
   "source": [
    "adata.obs[[\"Dist. to edge\",\"cNMF_1\",\"cNMF_2\",\"cNMF_3\",\"cNMF_4\",\"cNMF_5\"]].to_csv(visium_results_csv_dir / f\"{patient_name}_cNMF_dist_to_edge.csv\")\n",
    "pd.Series(order_filtered).to_csv(visium_results_csv_dir / f\"{patient_name}_dist_to_edge_order.csv\")"
   ]
  },
  {
   "cell_type": "code",
   "execution_count": null,
   "id": "1a7083dd",
   "metadata": {},
   "outputs": [],
   "source": [
    "fig, ax = plt.subplots(2,3, figsize=(10,5))\n",
    "flatax = ax.flatten()\n",
    "sq.pl.spatial_scatter(adata, color=[f\"cNMF_{i}\" for i in range(1,6)]+[\"Smoothed label\"], \n",
    "                      crop_coord=(y_min, x_min, y_max, x_max), \n",
    "                      alpha=1, ncols=3, \n",
    "                      vcenter=0, vmin=-0.3, \n",
    "                      vmax=0.3, fig=fig, ax=flatax)\n",
    "for i in range(len(flatax)-1):\n",
    "    flatax[i].set_title(f\"cNMF$_{i+1}$\")\n",
    "flatax[-1].set_title(\"CNV-derived spot label\")\n",
    "fig.tight_layout()\n",
    "fig.savefig(figure_dir / patient_name / \"scatterplot_spatial.png\", dpi=200, bbox_inches=\"tight\")\n",
    "fig.savefig(figure_dir / patient_name / \"scatterplot_spatial.svg\", dpi=100, bbox_inches=\"tight\")"
   ]
  },
  {
   "cell_type": "code",
   "execution_count": null,
   "id": "95004921",
   "metadata": {},
   "outputs": [],
   "source": [
    "fig, ax = plt.subplots(1,4, figsize=(13,2.5))\n",
    "flatax = ax.flatten()\n",
    "sq.pl.spatial_scatter(adata, color=[\"Inflammatory CAF\",\"Adipose CAF\",\"Fibroblast\"]+[\"Smoothed label\"], \n",
    "                      crop_coord=(y_min, x_min, y_max, x_max), \n",
    "                      alpha=1, ncols=3, \n",
    "                      vcenter=0, vmin=-0.3, \n",
    "                      vmax=0.3, fig=fig, ax=flatax)\n",
    "\n",
    "flatax[-1].set_title(\"CNV-derived spot label\")\n",
    "fig.tight_layout()\n",
    "fig.savefig(figure_dir / patient_name / \"scatterplot_fibro.png\", dpi=200, bbox_inches=\"tight\")\n",
    "fig.savefig(figure_dir / patient_name / \"scatterplot_fibro.svg\", dpi=100, bbox_inches=\"tight\")"
   ]
  },
  {
   "cell_type": "code",
   "execution_count": null,
   "id": "64f4665a",
   "metadata": {},
   "outputs": [],
   "source": [
    "fig, ax = plt.subplots(2,3, figsize=(10,5))\n",
    "flatax = ax.flatten()\n",
    "sq.pl.spatial_scatter(adata, color=list(myeloid_sigs.keys())+[\"Smoothed label\"], \n",
    "                      crop_coord=(y_min, x_min, y_max, x_max), \n",
    "                      alpha=1, ncols=3, \n",
    "                      vcenter=0, vmin=-0.3, \n",
    "                      vmax=0.3, fig=fig, ax=flatax)\n",
    "\n",
    "flatax[-1].set_title(\"CNV-derived spot label\")\n",
    "fig.tight_layout()\n",
    "fig.savefig(figure_dir / patient_name / \"scatterplot_myeloid.png\", dpi=200, bbox_inches=\"tight\")\n",
    "fig.savefig(figure_dir / patient_name / \"scatterplot_myeloid.svg\", dpi=100, bbox_inches=\"tight\")"
   ]
  },
  {
   "cell_type": "code",
   "execution_count": null,
   "id": "aec43ea3",
   "metadata": {},
   "outputs": [],
   "source": [
    "fig, ax = plt.subplots(2,3,figsize=(7,3.5))\n",
    "flatax = ax.flatten()\n",
    "list_ct = [\"Carcinoma\",\"Fibroblast\",\"Endothelial\",\"Myeloid\",\"Lymphoid\",\"Muscle\"]\n",
    "for i in range(len(list_ct)):\n",
    "    sns.boxplot(data=adata.obs, x=\"Smoothed label\", y=list_ct[i], ax=flatax[i], order=[\"Normal\",\"Mixed\",\"Tumor\"])\n",
    "    pretty_ax(flatax[i])\n",
    "    flatax[i].set_ylabel(\"N cells\")\n",
    "    flatax[i].set_xlabel(\"\")\n",
    "    flatax[i].set_title(f\"{list_ct[i]}\")\n",
    "    flatax[i].set_xticks(flatax[i].get_xticks(), flatax[i].get_xticklabels(), rotation=45, ha=\"right\")\n",
    "    \n",
    "fig.tight_layout()\n",
    "fig.savefig(figure_dir / patient_name / \"N_cells_perspot.png\", dpi=200, bbox_inches=\"tight\")"
   ]
  },
  {
   "cell_type": "code",
   "execution_count": null,
   "id": "56499018",
   "metadata": {},
   "outputs": [],
   "source": [
    "fig, ax = plt.subplots(2,3,figsize=(7,3.5))\n",
    "flatax = ax.flatten()\n",
    "\n",
    "pairs = [(\"Normal\",\"Tumor\"),(\"Normal\",\"Mixed\"),(\"Mixed\",\"Tumor\")]\n",
    "for i,prog in enumerate([f\"cNMF_{i}\" for i in range(1,6)]):\n",
    "    sns.boxplot(data=adata.obs, x=\"Smoothed label\", y=prog, ax=flatax[i], order=[\"Normal\",\"Mixed\",\"Tumor\"])\n",
    "    pretty_ax(flatax[i])\n",
    "    flatax[i].set_xticks(flatax[i].get_xticks(),flatax[i].get_xticklabels(),rotation=45,ha=\"right\")\n",
    "    flatax[i].set_xlabel(\"\")\n",
    "    flatax[i].set_ylabel(f\"cNMF$_{i+1}$\")\n",
    "    annotator = Annotator(flatax[i], pairs, data=adata.obs, x=\"Smoothed label\", \n",
    "                          y=prog, order=[\"Normal\",\"Mixed\",\"Tumor\"])\n",
    "    annotator.configure(test='Mann-Whitney', text_format='simple', show_test_name=False, loc='inside')\n",
    "    annotator.apply_and_annotate()\n",
    "flatax[-1].axis(\"off\")\n",
    "fig.tight_layout()\n",
    "fig.savefig(figure_dir / patient_name / \"dist_cnmf_cnv_assignemnt.png\", dpi=200, bbox_inches=\"tight\")"
   ]
  },
  {
   "cell_type": "code",
   "execution_count": null,
   "id": "d6d38444",
   "metadata": {},
   "outputs": [],
   "source": [
    "location_refined = adata.obs[[ass_col]].copy().astype(str)\n",
    "location_refined.columns = [\"Location refined\"]\n",
    "\n",
    "adata.obs[\"Location refined\"] = get_refined_location(adata=adata, n_rings=1, \n",
    "                                                     location_refined=location_refined, ass_col=\"Smoothed label\")\n",
    "adata.obs[\"Location refined\"] = adata.obs[\"Location refined\"].astype(\"category\")"
   ]
  },
  {
   "cell_type": "markdown",
   "id": "b8d63904",
   "metadata": {},
   "source": [
    "# Run LIGREC"
   ]
  },
  {
   "cell_type": "code",
   "execution_count": null,
   "id": "980ef483",
   "metadata": {},
   "outputs": [],
   "source": [
    "adata.X = adata.layers[\"counts\"].copy()\n",
    "sc.pp.normalize_total(adata, target_sum=10000)"
   ]
  },
  {
   "cell_type": "code",
   "execution_count": null,
   "id": "f4f8f024",
   "metadata": {},
   "outputs": [],
   "source": [
    "sq.gr.ligrec(\n",
    "    adata, use_raw=False, interactions=df_interaction,\n",
    "    n_perms=500, corr_method=\"fdr_bh\",\n",
    "    cluster_key=\"Location refined\",\n",
    ")\n",
    "\n",
    "tumor_per_interactions = adata.uns[\"Location refined_ligrec\"][\"pvalues\"][\"Tumor_Periphery\"]\n",
    "\n",
    "tumor_per_means = adata.uns[\"Location refined_ligrec\"][\"means\"][\"Tumor_Periphery\"]\n",
    "\n",
    "tumor_core_interactions = adata.uns[\"Location refined_ligrec\"][\"pvalues\"][\"Tumor_Core\"]\n",
    "\n",
    "tumor_core_means = adata.uns[\"Location refined_ligrec\"][\"means\"][\"Tumor_Core\"]\n",
    "\n",
    "normal_interactions = adata.uns[\"Location refined_ligrec\"][\"pvalues\"][\"Normal_Periphery\"]\n",
    "\n",
    "normal_means = adata.uns[\"Location refined_ligrec\"][\"means\"][\"Normal_Periphery\"]"
   ]
  },
  {
   "cell_type": "code",
   "execution_count": null,
   "id": "a082ea6b",
   "metadata": {},
   "outputs": [],
   "source": [
    "sign_int = tumor_core_interactions[\"Tumor_Core\"][tumor_core_interactions[\"Tumor_Core\"]<0.05]\n",
    "\n",
    "heatmap_tumor_df = get_heatmap_interactions_tumor(sign_int=sign_int, full_sigs=full_sigs, tumor_means=tumor_core_means)\n",
    "\n",
    "sign_int = tumor_per_interactions[\"Normal_Periphery\"][tumor_per_interactions[\"Normal_Periphery\"]<0.05]\n",
    "\n",
    "heatmap_tumor_to_normal_df = get_heatmap_interactions_tumor_to_normal(sign_int=sign_int, full_sigs=full_sigs, \n",
    "                                                             normal_sigs=normal_sigs, tumor_means=tumor_per_means)\n",
    "\n",
    "sign_int = normal_interactions[\"Tumor_Periphery\"][normal_interactions[\"Tumor_Periphery\"]<0.05]\n",
    "\n",
    "heatmap_normal_to_tumor_df = get_heatmap_interactions_normal_to_tumor(sign_int=sign_int, full_sigs=full_sigs, \n",
    "                                                             normal_sigs=normal_sigs, normal_means=normal_means)"
   ]
  },
  {
   "cell_type": "code",
   "execution_count": null,
   "id": "e8e123b6",
   "metadata": {},
   "outputs": [],
   "source": [
    "import palettable\n",
    "colorlist = palettable.colorbrewer.qualitative.Set1_7.mpl_colors\n",
    "colormapping_mal = {\"cNMF_1\": colorlist[0], \"cNMF_2\": colorlist[1], \"cNMF_3\": colorlist[3], \n",
    "                    \"cNMF_4\": colorlist[4], \"cNMF_5\": colorlist[6]}\n",
    "\n",
    "colorlist = palettable.colorbrewer.sequential.Greens_9.mpl_colors\n",
    "colormapping_myeloid = {\"TAM1\": colorlist[1], \"DC\": colorlist[2], \n",
    "                        \"Mast\": colorlist[4], \"TAM2\": colorlist[5]}\n",
    "\n",
    "colorlist = palettable.colorbrewer.sequential.Oranges_5.mpl_colors\n",
    "colormapping_fibroblast = {\"Inflammatory CAF\": colorlist[1], \"Adipose CAF\": colorlist[3], \n",
    "                           \"Fibroblast\": colorlist[4]}\n",
    "\n",
    "colormapping_normal = (colormapping_myeloid | colormapping_fibroblast)"
   ]
  },
  {
   "cell_type": "code",
   "execution_count": null,
   "id": "67d261de",
   "metadata": {},
   "outputs": [],
   "source": [
    "color_mapping_idx = return_color(list_idx = heatmap_tumor_to_normal_df.index.to_numpy(), \n",
    "                             sigs = full_sigs, color_palette = colormapping_mal)\n",
    "color_mapping_col = return_color(list_idx = heatmap_tumor_to_normal_df.columns.to_numpy(), \n",
    "                             sigs = normal_sigs, color_palette = colormapping_normal)\n",
    "\n",
    "fig = plot_interaction_heatmap(heatmap_tumor_to_normal_df, color_mapping_idx, color_mapping_col, figsize=(2,1.5))\n",
    "fig.savefig(figure_dir / patient_name / \"tumor_to_normal_LIGREC.svg\", dpi=200, bbox_inches=\"tight\")"
   ]
  },
  {
   "cell_type": "code",
   "execution_count": null,
   "id": "1090252f",
   "metadata": {},
   "outputs": [],
   "source": [
    "color_mapping_idx = return_color(list_idx = heatmap_normal_to_tumor_df.index.to_numpy(), \n",
    "                             sigs = normal_sigs, color_palette = colormapping_normal)\n",
    "color_mapping_col = return_color(list_idx = heatmap_normal_to_tumor_df.columns.to_numpy(), \n",
    "                             sigs = full_sigs, color_palette = colormapping_mal)\n",
    "\n",
    "fig = plot_interaction_heatmap(heatmap_normal_to_tumor_df, color_mapping_idx, color_mapping_col, figsize=(2,1.5))\n",
    "fig.savefig(figure_dir / patient_name / \"normal_to_tumor_LIGREC.svg\", dpi=200, bbox_inches=\"tight\")"
   ]
  },
  {
   "cell_type": "code",
   "execution_count": null,
   "id": "e30fbadc",
   "metadata": {},
   "outputs": [],
   "source": [
    "adata.uns[\"Location refined_ligrec\"][\"means\"].to_csv(visium_results_csv_dir / f\"{patient_name}_LIGREC_means.csv\")\n",
    "adata.uns[\"Location refined_ligrec\"][\"pvalues\"].to_csv(visium_results_csv_dir / f\"{patient_name}_LIGREC_pvalues.csv\")"
   ]
  },
  {
   "cell_type": "code",
   "execution_count": null,
   "id": "61bed22c",
   "metadata": {},
   "outputs": [],
   "source": [
    "sc.pp.log1p(adata)"
   ]
  },
  {
   "cell_type": "code",
   "execution_count": null,
   "id": "dbc54997",
   "metadata": {},
   "outputs": [],
   "source": [
    "LR_list = [\"TGFBI\",\"ITGB1\",\"FN1\",\"ITGA4\",\"FN1\",\"ITGA2\",\"APP\",\"TNFRSF21\",]\n",
    "LR_color_list = [colormapping_mal[\"cNMF_3\"],colormapping_fibroblast[\"Adipose CAF\"],\n",
    "                colormapping_mal[\"cNMF_3\"],colormapping_myeloid[\"DC\"],\n",
    "                colormapping_fibroblast[\"Adipose CAF\"],colormapping_mal[\"cNMF_4\"],\n",
    "                colormapping_myeloid[\"TAM2\"],colormapping_mal[\"cNMF_4\"],]\n",
    "\n",
    "fig, ax = plt.subplots(4,2, figsize=(7,8))\n",
    "flatax = ax.flatten()\n",
    "sq.pl.spatial_scatter(adata, color=LR_list, \n",
    "                      crop_coord=(y_min, x_min, y_max, x_max), \n",
    "                      alpha=1, ncols=2, \n",
    "                      fig=fig, ax=flatax)\n",
    "for i in range(len(flatax)):\n",
    "    flatax[i].set_title(LR_list[i], c=LR_color_list[i])\n",
    "fig.tight_layout()\n",
    "fig.savefig(figure_dir / patient_name / \"spatial_rep_LR_LIGREC_full.svg\", dpi=200, bbox_inches=\"tight\")"
   ]
  },
  {
   "cell_type": "markdown",
   "id": "9bb7dc75",
   "metadata": {},
   "source": [
    "# EGSFR1938_B"
   ]
  },
  {
   "cell_type": "code",
   "execution_count": null,
   "id": "8f38dade",
   "metadata": {},
   "outputs": [],
   "source": [
    "patient_name = \"EGSFR1938_B\""
   ]
  },
  {
   "cell_type": "code",
   "execution_count": null,
   "id": "87195253",
   "metadata": {},
   "outputs": [],
   "source": [
    "resdir = cell2location_results_dir / patient_name \n",
    "\n",
    "sample_path = resdir / patient_name\n",
    "\n",
    "adata = sc.read_h5ad(resdir / \"cell2location_map\" / \"sp.h5ad\")\n",
    "\n",
    "tissue_path = spatial_dir / patient_name / \"spatial/tissue_positions_list.csv\"\n",
    "tissue_position = pd.read_csv(tissue_path,index_col=0)\n",
    "tissue_position = tissue_position.loc[adata.obs_names]\n",
    "\n",
    "#Set coordinates\n",
    "x_array=tissue_position[\"array_row\"].tolist()\n",
    "y_array=tissue_position[\"array_col\"].tolist()\n",
    "x_pixel=tissue_position[\"pxl_row_in_fullres\"].tolist()\n",
    "y_pixel=tissue_position[\"pxl_col_in_fullres\"].tolist()\n",
    "\n",
    "x_min, x_max = np.min(x_pixel), np.max(x_pixel)\n",
    "y_min, y_max = np.min(y_pixel), np.max(y_pixel)\n",
    "\n",
    "cancer_spots = get_cancer_spot(adata=adata)\n",
    "\n",
    "cancer_spot = pd.DataFrame(np.zeros(adata.shape[0]),index=adata.obs_names,columns=[\"Cancer spot\"])\n",
    "cancer_spot.loc[adata.obs_names[cancer_spots],\"Cancer spot\"] = 1\n",
    "\n",
    "adata.obs[\"Cancer spot\"] = cancer_spot.replace({0: \"Normal\", 1: \"Tumor\"})"
   ]
  },
  {
   "cell_type": "markdown",
   "id": "be9a2b9a",
   "metadata": {},
   "source": [
    "# Get carcinoma-specific expression and save in layers"
   ]
  },
  {
   "cell_type": "code",
   "execution_count": null,
   "id": "d62d63c2",
   "metadata": {},
   "outputs": [],
   "source": [
    "cell2loc_res = pd.read_csv(cell2location_results_dir / patient_name / \"cell2location_map\" / \"celltype_abundance.csv\",index_col=0)"
   ]
  },
  {
   "cell_type": "markdown",
   "id": "c1b13e67",
   "metadata": {},
   "source": [
    "# Get CNV profile"
   ]
  },
  {
   "cell_type": "code",
   "execution_count": null,
   "id": "168a00d1",
   "metadata": {},
   "outputs": [],
   "source": [
    "adata.var = pd.concat([adata.var,gencode_df.loc[adata.var_names.intersection(df.index)]],axis=1)"
   ]
  },
  {
   "cell_type": "code",
   "execution_count": null,
   "id": "9a13ef4f",
   "metadata": {},
   "outputs": [],
   "source": [
    "cnv.tl.infercnv(\n",
    "    adata,\n",
    "    reference_key=\"Cancer spot\",\n",
    "    reference_cat=[\n",
    "        \"Normal\",\n",
    "    ],\n",
    "    window_size=250,\n",
    ")\n",
    "\n",
    "cnv.tl.pca(adata)\n",
    "cnv.pp.neighbors(adata)\n",
    "cnv.tl.leiden(adata, resolution=0.2)"
   ]
  },
  {
   "cell_type": "code",
   "execution_count": null,
   "id": "7ccc8332",
   "metadata": {},
   "outputs": [],
   "source": [
    "cnv.pl.chromosome_heatmap(adata, groupby=\"cnv_leiden\", dendrogram=True)"
   ]
  },
  {
   "cell_type": "code",
   "execution_count": null,
   "id": "5d1deb80",
   "metadata": {},
   "outputs": [],
   "source": [
    "cnv.tl.umap(adata)\n",
    "cnv.tl.cnv_score(adata)\n",
    "\n",
    "fig, ((ax1, ax2), (ax3, ax4)) = plt.subplots(2, 2, figsize=(11, 11))\n",
    "ax4.axis(\"off\")\n",
    "cnv.pl.umap(\n",
    "    adata,\n",
    "    color=\"cnv_leiden\",\n",
    "    legend_loc=\"on data\",\n",
    "    legend_fontoutline=2,\n",
    "    ax=ax1,\n",
    "    show=False,\n",
    ")\n",
    "cnv.pl.umap(adata, color=\"cnv_score\", ax=ax2, show=False)\n",
    "cnv.pl.umap(adata, color=\"Cancer spot\", ax=ax3)"
   ]
  },
  {
   "cell_type": "code",
   "execution_count": null,
   "id": "cb871791",
   "metadata": {},
   "outputs": [],
   "source": [
    "adata.obs[\"CNV_assignment\"] = adata.obs.cnv_leiden.replace({'0': \"Tumor\", '1': \"Normal\", \n",
    "                                                            '2': \"Mixed\", '3': \"Normal\"})\n",
    "\n",
    "adata.obs[[\"Cancer spot\",\"cnv_leiden\",\"cnv_score\",\"CNV_assignment\"]].to_csv(f\"{patient_name}_cnv_info.csv\")"
   ]
  },
  {
   "cell_type": "markdown",
   "id": "161c0f27",
   "metadata": {},
   "source": [
    "# Carcinoma component normalize"
   ]
  },
  {
   "cell_type": "code",
   "execution_count": null,
   "id": "1290d25b",
   "metadata": {},
   "outputs": [],
   "source": [
    "adata.layers[\"counts\"] = adata.X.copy()\n",
    "adata.X = adata.layers[\"Carcinoma\"]\n",
    "\n",
    "sc.pp.normalize_total(adata, target_sum=10000)\n",
    "sc.pp.log1p(adata)\n",
    "\n",
    "gex = adata.to_df()\n",
    "gex = (gex - gex.mean())/gex.std()\n",
    "\n",
    "for sig, genes in full_sigs.items():\n",
    "    adata.obs[sig] = gex[gex.columns.intersection(genes)].mean(axis=1)"
   ]
  },
  {
   "cell_type": "code",
   "execution_count": null,
   "id": "348fc36b",
   "metadata": {},
   "outputs": [],
   "source": [
    "smoothed_labels = get_full_smoothed_assignment(adata)\n",
    "\n",
    "adata.obs[\"Smoothed label\"] = smoothed_labels\n",
    "adata.obs[\"Smoothed label\"] = adata.obs[\"Smoothed label\"].astype(\"category\")\n",
    "\n",
    "ass_col = \"Smoothed label\"\n",
    "\n",
    "closest = pd.DataFrame([1000]*adata.obs.shape[0],index=adata.obs.index,columns=[\"Dist. to edge\"])\n",
    "\n",
    "closest.loc[adata.obs[ass_col]==\"Mixed\"] = 0\n",
    "closest.loc[adata.obs[ass_col]==\"Normal\"] = -1\n",
    "\n",
    "for n_rings in np.arange(1,11):\n",
    "    closest = update_closest(adata, n_rings=n_rings, closest=closest, ass_col=ass_col)\n",
    "\n",
    "adata.obs[\"Dist. to edge\"] = closest\n",
    "\n",
    "order_filtered = sorted(closest.value_counts()[(closest.value_counts()>=5)].index.get_level_values(0))\n",
    "\n",
    "fig, ax = plt.subplots(2,3,figsize=(10,5))\n",
    "flatax = ax.flatten()\n",
    "\n",
    "for i,prog in enumerate([f\"cNMF_{i}\" for i in range(1,6)]):\n",
    "    sns.barplot(data=adata.obs, x=\"Dist. to edge\", y=prog, ax=flatax[i], order=order_filtered)\n",
    "    pretty_ax(flatax[i])\n",
    "    labels = flatax[i].get_xticklabels()\n",
    "    labels = [\"Normal\" if l.get_text()==\"-1\" else (\"Mixed\" if l.get_text()==\"0\" else f\"d={l.get_text()}\") for l in labels]\n",
    "    flatax[i].set_xticks(flatax[i].get_xticks(), labels,rotation=45,ha=\"right\")\n",
    "    flatax[i].set_xlabel(\"\")\n",
    "    flatax[i].set_ylabel(f\"cNMF$_{i+1}$\")\n",
    "flatax[-1].axis(\"off\")\n",
    "fig.tight_layout()\n",
    "fig.savefig(figure_dir / patient_name / \"cnmf_distance_to_center.svg\", dpi=200, bbox_inches=\"tight\")"
   ]
  },
  {
   "cell_type": "code",
   "execution_count": null,
   "id": "b9b21926",
   "metadata": {},
   "outputs": [],
   "source": [
    "adata.obs[[\"Dist. to edge\",\"cNMF_1\",\"cNMF_2\",\"cNMF_3\",\"cNMF_4\",\"cNMF_5\"]].to_csv(visium_results_csv_dir / f\"{patient_name}_cNMF_dist_to_edge.csv\")\n",
    "pd.Series(order_filtered).to_csv(visium_results_csv_dir / f\"{patient_name}_dist_to_edge_order.csv\")"
   ]
  },
  {
   "cell_type": "code",
   "execution_count": null,
   "id": "21e2a0e3",
   "metadata": {},
   "outputs": [],
   "source": [
    "fig, ax = plt.subplots(2,3, figsize=(10,5))\n",
    "flatax = ax.flatten()\n",
    "sq.pl.spatial_scatter(adata, color=[f\"cNMF_{i}\" for i in range(1,6)]+[\"Smoothed label\"], \n",
    "                      crop_coord=(y_min, x_min, y_max, x_max), \n",
    "                      alpha=1, ncols=3, \n",
    "                      vcenter=0, vmin=-0.3, \n",
    "                      vmax=0.3, fig=fig, ax=flatax)\n",
    "for i in range(len(flatax)-1):\n",
    "    flatax[i].set_title(f\"cNMF$_{i+1}$\")\n",
    "flatax[-1].set_title(\"CNV-derived spot label\")\n",
    "fig.tight_layout()\n",
    "fig.savefig(figure_dir / patient_name / \"scatterplot_spatial.png\", dpi=200, bbox_inches=\"tight\")"
   ]
  },
  {
   "cell_type": "code",
   "execution_count": null,
   "id": "65bb06be",
   "metadata": {},
   "outputs": [],
   "source": [
    "fig, ax = plt.subplots(2,3,figsize=(7,3.5))\n",
    "flatax = ax.flatten()\n",
    "list_ct = [\"Carcinoma\",\"Fibroblast\",\"Endothelial\",\"Myeloid\",\"Lymphoid\",\"Muscle\"]\n",
    "for i in range(len(list_ct)):\n",
    "    sns.boxplot(data=adata.obs, x=\"Smoothed label\", y=list_ct[i], ax=flatax[i], order=[\"Normal\",\"Mixed\",\"Tumor\"])\n",
    "    pretty_ax(flatax[i])\n",
    "    flatax[i].set_ylabel(\"N cells\")\n",
    "    flatax[i].set_xlabel(\"\")\n",
    "    flatax[i].set_title(f\"{list_ct[i]}\")\n",
    "    flatax[i].set_xticks(flatax[i].get_xticks(), flatax[i].get_xticklabels(), rotation=45, ha=\"right\")\n",
    "    \n",
    "fig.tight_layout()\n",
    "fig.savefig(figure_dir / patient_name / \"N_cells_perspot.png\", dpi=200, bbox_inches=\"tight\")"
   ]
  },
  {
   "cell_type": "code",
   "execution_count": null,
   "id": "1850ac3c",
   "metadata": {},
   "outputs": [],
   "source": [
    "fig, ax = plt.subplots(2,3,figsize=(7,3.5))\n",
    "flatax = ax.flatten()\n",
    "\n",
    "pairs = [(\"Normal\",\"Tumor\"),(\"Normal\",\"Mixed\"),(\"Mixed\",\"Tumor\")]\n",
    "for i,prog in enumerate([f\"cNMF_{i}\" for i in range(1,6)]):\n",
    "    sns.boxplot(data=adata.obs, x=\"Smoothed label\", y=prog, ax=flatax[i], order=[\"Normal\",\"Mixed\",\"Tumor\"])\n",
    "    pretty_ax(flatax[i])\n",
    "    flatax[i].set_xticks(flatax[i].get_xticks(),flatax[i].get_xticklabels(),rotation=45,ha=\"right\")\n",
    "    flatax[i].set_xlabel(\"\")\n",
    "    flatax[i].set_ylabel(f\"cNMF$_{i+1}$\")\n",
    "    annotator = Annotator(flatax[i], pairs, data=adata.obs, x=\"Smoothed label\", \n",
    "                          y=prog, order=[\"Normal\",\"Mixed\",\"Tumor\"])\n",
    "    annotator.configure(test='Mann-Whitney', text_format='simple', show_test_name=False, loc='inside')\n",
    "    annotator.apply_and_annotate()\n",
    "flatax[-1].axis(\"off\")\n",
    "fig.tight_layout()\n",
    "fig.savefig(figure_dir / patient_name / \"dist_cnmf_cnv_assignemnt.png\", dpi=200, bbox_inches=\"tight\")"
   ]
  },
  {
   "cell_type": "code",
   "execution_count": null,
   "id": "29687098",
   "metadata": {},
   "outputs": [],
   "source": [
    "location_refined = adata.obs[[ass_col]].copy().astype(str)\n",
    "location_refined.columns = [\"Location refined\"]\n",
    "\n",
    "adata.obs[\"Location refined\"] = get_refined_location(adata=adata, n_rings=1, \n",
    "                                                     location_refined=location_refined, ass_col=\"Smoothed label\")\n",
    "adata.obs[\"Location refined\"] = adata.obs[\"Location refined\"].astype(\"category\")"
   ]
  },
  {
   "cell_type": "markdown",
   "id": "87df4d46",
   "metadata": {},
   "source": [
    "# Run LIGREC"
   ]
  },
  {
   "cell_type": "code",
   "execution_count": null,
   "id": "c1500d2e",
   "metadata": {},
   "outputs": [],
   "source": [
    "adata.X = adata.layers[\"counts\"].copy()\n",
    "sc.pp.normalize_total(adata, target_sum=10000)"
   ]
  },
  {
   "cell_type": "code",
   "execution_count": null,
   "id": "66f8acb6",
   "metadata": {},
   "outputs": [],
   "source": [
    "sq.gr.ligrec(\n",
    "    adata, use_raw=False, interactions=df_interaction,\n",
    "    n_perms=500, corr_method=\"fdr_bh\",\n",
    "    cluster_key=\"Location refined\",\n",
    ")\n",
    "\n",
    "tumor_per_interactions = adata.uns[\"Location refined_ligrec\"][\"pvalues\"][\"Tumor_Periphery\"]\n",
    "\n",
    "tumor_per_means = adata.uns[\"Location refined_ligrec\"][\"means\"][\"Tumor_Periphery\"]\n",
    "\n",
    "tumor_core_interactions = adata.uns[\"Location refined_ligrec\"][\"pvalues\"][\"Tumor_Core\"]\n",
    "\n",
    "tumor_core_means = adata.uns[\"Location refined_ligrec\"][\"means\"][\"Tumor_Core\"]\n",
    "\n",
    "normal_interactions = adata.uns[\"Location refined_ligrec\"][\"pvalues\"][\"Normal_Periphery\"]\n",
    "\n",
    "normal_means = adata.uns[\"Location refined_ligrec\"][\"means\"][\"Normal_Periphery\"]"
   ]
  },
  {
   "cell_type": "code",
   "execution_count": null,
   "id": "6b019f95",
   "metadata": {},
   "outputs": [],
   "source": [
    "sign_int = tumor_core_interactions[\"Tumor_Core\"][tumor_core_interactions[\"Tumor_Core\"]<0.05]\n",
    "\n",
    "heatmap_tumor_df = get_heatmap_interactions_tumor(sign_int=sign_int, full_sigs=full_sigs, tumor_means=tumor_core_means)\n",
    "\n",
    "sign_int = tumor_per_interactions[\"Normal_Periphery\"][tumor_per_interactions[\"Normal_Periphery\"]<0.05]\n",
    "\n",
    "heatmap_tumor_to_normal_df = get_heatmap_interactions_tumor_to_normal(sign_int=sign_int, full_sigs=full_sigs, \n",
    "                                                             normal_sigs=normal_sigs, tumor_means=tumor_per_means)\n",
    "\n",
    "sign_int = normal_interactions[\"Tumor_Periphery\"][normal_interactions[\"Tumor_Periphery\"]<0.05]\n",
    "\n",
    "heatmap_normal_to_tumor_df = get_heatmap_interactions_normal_to_tumor(sign_int=sign_int, full_sigs=full_sigs, \n",
    "                                                             normal_sigs=normal_sigs, normal_means=normal_means)"
   ]
  },
  {
   "cell_type": "code",
   "execution_count": null,
   "id": "5d595af4",
   "metadata": {},
   "outputs": [],
   "source": [
    "import palettable\n",
    "colorlist = palettable.colorbrewer.qualitative.Set1_7.mpl_colors\n",
    "colormapping_mal = {\"cNMF_1\": colorlist[0], \"cNMF_2\": colorlist[1], \"cNMF_3\": colorlist[3], \n",
    "                    \"cNMF_4\": colorlist[4], \"cNMF_5\": colorlist[6]}\n",
    "\n",
    "colorlist = palettable.colorbrewer.sequential.Greens_9.mpl_colors\n",
    "colormapping_myeloid = {\"TAM1\": colorlist[1], \"DC\": colorlist[2], \n",
    "                        \"Mast\": colorlist[4], \"TAM2\": colorlist[5]}\n",
    "\n",
    "colorlist = palettable.colorbrewer.sequential.Oranges_5.mpl_colors\n",
    "colormapping_fibroblast = {\"Inflammatory CAF\": colorlist[1], \"Adipose CAF\": colorlist[3], \n",
    "                           \"Fibroblast\": colorlist[4]}\n",
    "\n",
    "colormapping_normal = (colormapping_myeloid | colormapping_fibroblast)"
   ]
  },
  {
   "cell_type": "code",
   "execution_count": null,
   "id": "2c6899db",
   "metadata": {},
   "outputs": [],
   "source": [
    "color_mapping_idx = return_color(list_idx = heatmap_tumor_to_normal_df.index.to_numpy(), \n",
    "                             sigs = full_sigs, color_palette = colormapping_mal)\n",
    "color_mapping_col = return_color(list_idx = heatmap_tumor_to_normal_df.columns.to_numpy(), \n",
    "                             sigs = normal_sigs, color_palette = colormapping_normal)\n",
    "\n",
    "fig = plot_interaction_heatmap(heatmap_tumor_to_normal_df, color_mapping_idx, color_mapping_col, figsize=(2,1.5))\n",
    "fig.savefig(figure_dir / patient_name / \"tumor_to_normal_LIGREC.svg\", dpi=200, bbox_inches=\"tight\")"
   ]
  },
  {
   "cell_type": "code",
   "execution_count": null,
   "id": "62ddb23a",
   "metadata": {},
   "outputs": [],
   "source": [
    "color_mapping_idx = return_color(list_idx = heatmap_normal_to_tumor_df.index.to_numpy(), \n",
    "                             sigs = normal_sigs, color_palette = colormapping_normal)\n",
    "color_mapping_col = return_color(list_idx = heatmap_normal_to_tumor_df.columns.to_numpy(), \n",
    "                             sigs = full_sigs, color_palette = colormapping_mal)\n",
    "\n",
    "fig = plot_interaction_heatmap(heatmap_normal_to_tumor_df, color_mapping_idx, color_mapping_col, figsize=(2,1.5))\n",
    "fig.savefig(figure_dir / patient_name / \"normal_to_tumor_LIGREC.svg\", dpi=200, bbox_inches=\"tight\")"
   ]
  },
  {
   "cell_type": "code",
   "execution_count": null,
   "id": "31f6c3d9",
   "metadata": {},
   "outputs": [],
   "source": [
    "adata.uns[\"Location refined_ligrec\"][\"means\"].to_csv(visium_results_csv_dir / f\"{patient_name}_LIGREC_means.csv\")\n",
    "adata.uns[\"Location refined_ligrec\"][\"pvalues\"].to_csv(visium_results_csv_dir / f\"{patient_name}_LIGREC_pvalues.csv\")"
   ]
  },
  {
   "cell_type": "markdown",
   "id": "c4cc2905",
   "metadata": {},
   "source": [
    "# EGSFR1938_C"
   ]
  },
  {
   "cell_type": "code",
   "execution_count": null,
   "id": "c52026c3",
   "metadata": {},
   "outputs": [],
   "source": [
    "patient_name = \"EGSFR1938_C\""
   ]
  },
  {
   "cell_type": "code",
   "execution_count": null,
   "id": "31466872",
   "metadata": {},
   "outputs": [],
   "source": [
    "resdir = cell2location_results_dir / patient_name \n",
    "\n",
    "sample_path = resdir / patient_name\n",
    "\n",
    "adata = sc.read_h5ad(resdir / \"cell2location_map\" / \"sp.h5ad\")\n",
    "\n",
    "tissue_path = spatial_dir / patient_name / \"spatial/tissue_positions_list.csv\"\n",
    "tissue_position = pd.read_csv(tissue_path,index_col=0)\n",
    "tissue_position = tissue_position.loc[adata.obs_names]\n",
    "\n",
    "#Set coordinates\n",
    "x_array=tissue_position[\"array_row\"].tolist()\n",
    "y_array=tissue_position[\"array_col\"].tolist()\n",
    "x_pixel=tissue_position[\"pxl_row_in_fullres\"].tolist()\n",
    "y_pixel=tissue_position[\"pxl_col_in_fullres\"].tolist()\n",
    "\n",
    "x_min, x_max = np.min(x_pixel), np.max(x_pixel)\n",
    "y_min, y_max = np.min(y_pixel), np.max(y_pixel)\n",
    "\n",
    "cancer_spots = get_cancer_spot(adata=adata)\n",
    "\n",
    "cancer_spot = pd.DataFrame(np.zeros(adata.shape[0]),index=adata.obs_names,columns=[\"Cancer spot\"])\n",
    "cancer_spot.loc[adata.obs_names[cancer_spots],\"Cancer spot\"] = 1\n",
    "\n",
    "adata.obs[\"Cancer spot\"] = cancer_spot.replace({0: \"Normal\", 1: \"Tumor\"})"
   ]
  },
  {
   "cell_type": "markdown",
   "id": "8dd0cc12",
   "metadata": {},
   "source": [
    "# Get carcinoma-specific expression and save in layers"
   ]
  },
  {
   "cell_type": "code",
   "execution_count": null,
   "id": "bc3d4ec5",
   "metadata": {},
   "outputs": [],
   "source": [
    "cell2loc_res = pd.read_csv(cell2location_results_dir / patient_name / \"cell2location_map\" / \"celltype_abundance.csv\",index_col=0)"
   ]
  },
  {
   "cell_type": "markdown",
   "id": "8cb0ad81",
   "metadata": {},
   "source": [
    "# Get CNV profile"
   ]
  },
  {
   "cell_type": "code",
   "execution_count": null,
   "id": "893149ce",
   "metadata": {},
   "outputs": [],
   "source": [
    "adata.var = pd.concat([adata.var,gencode_df.loc[adata.var_names.intersection(df.index)]],axis=1)"
   ]
  },
  {
   "cell_type": "code",
   "execution_count": null,
   "id": "ca076511",
   "metadata": {},
   "outputs": [],
   "source": [
    "cnv.tl.infercnv(\n",
    "    adata,\n",
    "    reference_key=\"Cancer spot\",\n",
    "    reference_cat=[\n",
    "        \"Normal\",\n",
    "    ],\n",
    "    window_size=250,\n",
    ")\n",
    "\n",
    "cnv.tl.pca(adata)\n",
    "cnv.pp.neighbors(adata)\n",
    "cnv.tl.leiden(adata, resolution=0.2)"
   ]
  },
  {
   "cell_type": "code",
   "execution_count": null,
   "id": "d696b3ce",
   "metadata": {},
   "outputs": [],
   "source": [
    "cnv.pl.chromosome_heatmap(adata, groupby=\"cnv_leiden\", dendrogram=True)"
   ]
  },
  {
   "cell_type": "code",
   "execution_count": null,
   "id": "437d5a67",
   "metadata": {},
   "outputs": [],
   "source": [
    "cnv.tl.umap(adata)\n",
    "cnv.tl.cnv_score(adata)\n",
    "\n",
    "fig, ((ax1, ax2), (ax3, ax4)) = plt.subplots(2, 2, figsize=(11, 11))\n",
    "ax4.axis(\"off\")\n",
    "cnv.pl.umap(\n",
    "    adata,\n",
    "    color=\"cnv_leiden\",\n",
    "    legend_loc=\"on data\",\n",
    "    legend_fontoutline=2,\n",
    "    ax=ax1,\n",
    "    show=False,\n",
    ")\n",
    "cnv.pl.umap(adata, color=\"cnv_score\", ax=ax2, show=False)\n",
    "cnv.pl.umap(adata, color=\"Cancer spot\", ax=ax3)"
   ]
  },
  {
   "cell_type": "code",
   "execution_count": null,
   "id": "820f6b73",
   "metadata": {},
   "outputs": [],
   "source": [
    "adata.obs[\"CNV_assignment\"] = adata.obs.cnv_leiden.replace({'0': \"Tumor\", '2': \"Mixed\", \n",
    "                                                            '1': \"Normal\", '3': \"Normal\"})\n",
    "\n",
    "adata.obs[[\"Cancer spot\",\"cnv_leiden\",\"cnv_score\",\"CNV_assignment\"]].to_csv(f\"{patient_name}_cnv_info.csv\")"
   ]
  },
  {
   "cell_type": "markdown",
   "id": "44c1ce2c",
   "metadata": {},
   "source": [
    "# Carcinoma component normalize"
   ]
  },
  {
   "cell_type": "code",
   "execution_count": null,
   "id": "1ca30436",
   "metadata": {},
   "outputs": [],
   "source": [
    "adata.layers[\"counts\"] = adata.X.copy()\n",
    "adata.X = adata.layers[\"Carcinoma\"]\n",
    "\n",
    "sc.pp.normalize_total(adata, target_sum=10000)\n",
    "sc.pp.log1p(adata)\n",
    "\n",
    "gex = adata.to_df()\n",
    "gex = (gex - gex.mean())/gex.std()\n",
    "\n",
    "for sig, genes in full_sigs.items():\n",
    "    adata.obs[sig] = gex[gex.columns.intersection(genes)].mean(axis=1)"
   ]
  },
  {
   "cell_type": "code",
   "execution_count": null,
   "id": "8e732bcb",
   "metadata": {},
   "outputs": [],
   "source": [
    "smoothed_labels = get_full_smoothed_assignment(adata)\n",
    "\n",
    "adata.obs[\"Smoothed label\"] = smoothed_labels\n",
    "adata.obs[\"Smoothed label\"] = adata.obs[\"Smoothed label\"].astype(\"category\")\n",
    "\n",
    "ass_col = \"Smoothed label\"\n",
    "\n",
    "closest = pd.DataFrame([1000]*adata.obs.shape[0],index=adata.obs.index,columns=[\"Dist. to edge\"])\n",
    "\n",
    "closest.loc[adata.obs[ass_col]==\"Mixed\"] = 0\n",
    "closest.loc[adata.obs[ass_col]==\"Normal\"] = -1\n",
    "\n",
    "for n_rings in np.arange(1,11):\n",
    "    closest = update_closest(adata, n_rings=n_rings, closest=closest, ass_col=ass_col)\n",
    "\n",
    "adata.obs[\"Dist. to edge\"] = closest\n",
    "\n",
    "order_filtered = sorted(closest.value_counts()[(closest.value_counts()>=5)].index.get_level_values(0))\n",
    "\n",
    "fig, ax = plt.subplots(2,3,figsize=(10,5))\n",
    "flatax = ax.flatten()\n",
    "\n",
    "for i,prog in enumerate([f\"cNMF_{i}\" for i in range(1,6)]):\n",
    "    sns.barplot(data=adata.obs, x=\"Dist. to edge\", y=prog, ax=flatax[i], order=order_filtered)\n",
    "    pretty_ax(flatax[i])\n",
    "    labels = flatax[i].get_xticklabels()\n",
    "    labels = [\"Normal\" if l.get_text()==\"-1\" else (\"Mixed\" if l.get_text()==\"0\" else f\"d={l.get_text()}\") for l in labels]\n",
    "    flatax[i].set_xticks(flatax[i].get_xticks(), labels,rotation=45,ha=\"right\")\n",
    "    flatax[i].set_xlabel(\"\")\n",
    "    flatax[i].set_ylabel(f\"cNMF$_{i+1}$\")\n",
    "flatax[-1].axis(\"off\")\n",
    "fig.tight_layout()\n",
    "fig.savefig(figure_dir / patient_name / \"cnmf_distance_to_center.svg\", dpi=200, bbox_inches=\"tight\")"
   ]
  },
  {
   "cell_type": "code",
   "execution_count": null,
   "id": "0f8117d2",
   "metadata": {},
   "outputs": [],
   "source": [
    "adata.obs[[\"Dist. to edge\",\"cNMF_1\",\"cNMF_2\",\"cNMF_3\",\"cNMF_4\",\"cNMF_5\"]].to_csv(visium_results_csv_dir / f\"{patient_name}_cNMF_dist_to_edge.csv\")\n",
    "pd.Series(order_filtered).to_csv(visium_results_csv_dir / f\"{patient_name}_dist_to_edge_order.csv\")"
   ]
  },
  {
   "cell_type": "code",
   "execution_count": null,
   "id": "c632b623",
   "metadata": {},
   "outputs": [],
   "source": [
    "fig, ax = plt.subplots(2,3, figsize=(10,5))\n",
    "flatax = ax.flatten()\n",
    "sq.pl.spatial_scatter(adata, color=[f\"cNMF_{i}\" for i in range(1,6)]+[\"Smoothed label\"], \n",
    "                      crop_coord=(y_min, x_min, y_max, x_max), \n",
    "                      alpha=1, ncols=3, \n",
    "                      vcenter=0, vmin=-0.3, \n",
    "                      vmax=0.3, fig=fig, ax=flatax)\n",
    "for i in range(len(flatax)-1):\n",
    "    flatax[i].set_title(f\"cNMF$_{i+1}$\")\n",
    "flatax[-1].set_title(\"CNV-derived spot label\")\n",
    "fig.tight_layout()\n",
    "fig.savefig(figure_dir / patient_name / \"scatterplot_spatial.png\", dpi=200, bbox_inches=\"tight\")"
   ]
  },
  {
   "cell_type": "code",
   "execution_count": null,
   "id": "5b053597",
   "metadata": {},
   "outputs": [],
   "source": [
    "fig, ax = plt.subplots(2,3,figsize=(7,3.5))\n",
    "flatax = ax.flatten()\n",
    "list_ct = [\"Carcinoma\",\"Fibroblast\",\"Endothelial\",\"Myeloid\",\"Lymphoid\",\"Muscle\"]\n",
    "for i in range(len(list_ct)):\n",
    "    sns.boxplot(data=adata.obs, x=\"Smoothed label\", y=list_ct[i], ax=flatax[i], order=[\"Normal\",\"Mixed\",\"Tumor\"])\n",
    "    pretty_ax(flatax[i])\n",
    "    flatax[i].set_ylabel(\"N cells\")\n",
    "    flatax[i].set_xlabel(\"\")\n",
    "    flatax[i].set_title(f\"{list_ct[i]}\")\n",
    "    flatax[i].set_xticks(flatax[i].get_xticks(), flatax[i].get_xticklabels(), rotation=45, ha=\"right\")\n",
    "    #flatax[i].set_ylim(0,4)\n",
    "fig.tight_layout()\n",
    "fig.savefig(figure_dir / patient_name / \"N_cells_perspot.png\", dpi=200, bbox_inches=\"tight\")"
   ]
  },
  {
   "cell_type": "code",
   "execution_count": null,
   "id": "4dee2771",
   "metadata": {},
   "outputs": [],
   "source": [
    "fig, ax = plt.subplots(2,3,figsize=(7,3.5))\n",
    "flatax = ax.flatten()\n",
    "\n",
    "pairs = [(\"Normal\",\"Tumor\"),(\"Normal\",\"Mixed\"),(\"Mixed\",\"Tumor\")]\n",
    "for i,prog in enumerate([f\"cNMF_{i}\" for i in range(1,6)]):\n",
    "    sns.boxplot(data=adata.obs, x=\"Smoothed label\", y=prog, ax=flatax[i], order=[\"Normal\",\"Mixed\",\"Tumor\"])\n",
    "    pretty_ax(flatax[i])\n",
    "    flatax[i].set_xticks(flatax[i].get_xticks(),flatax[i].get_xticklabels(),rotation=45,ha=\"right\")\n",
    "    flatax[i].set_xlabel(\"\")\n",
    "    flatax[i].set_ylabel(f\"cNMF$_{i+1}$\")\n",
    "    annotator = Annotator(flatax[i], pairs, data=adata.obs, x=\"Smoothed label\", \n",
    "                          y=prog, order=[\"Normal\",\"Mixed\",\"Tumor\"])\n",
    "    annotator.configure(test='Mann-Whitney', text_format='simple', show_test_name=False, loc='inside')\n",
    "    annotator.apply_and_annotate()\n",
    "flatax[-1].axis(\"off\")\n",
    "fig.tight_layout()\n",
    "fig.savefig(figure_dir / patient_name / \"dist_cnmf_cnv_assignemnt.png\", dpi=200, bbox_inches=\"tight\")"
   ]
  },
  {
   "cell_type": "code",
   "execution_count": null,
   "id": "b5ef196a",
   "metadata": {},
   "outputs": [],
   "source": [
    "location_refined = adata.obs[[ass_col]].copy().astype(str)\n",
    "location_refined.columns = [\"Location refined\"]\n",
    "\n",
    "adata.obs[\"Location refined\"] = get_refined_location(adata=adata, n_rings=1, \n",
    "                                                     location_refined=location_refined, ass_col=\"Smoothed label\")\n",
    "adata.obs[\"Location refined\"] = adata.obs[\"Location refined\"].astype(\"category\")"
   ]
  },
  {
   "cell_type": "markdown",
   "id": "83c42adb",
   "metadata": {},
   "source": [
    "# Run LIGREC"
   ]
  },
  {
   "cell_type": "code",
   "execution_count": null,
   "id": "1c99111c",
   "metadata": {},
   "outputs": [],
   "source": [
    "adata.X = adata.layers[\"counts\"].copy()\n",
    "sc.pp.normalize_total(adata, target_sum=10000)"
   ]
  },
  {
   "cell_type": "code",
   "execution_count": null,
   "id": "7e76c89e",
   "metadata": {},
   "outputs": [],
   "source": [
    "sq.gr.ligrec(\n",
    "    adata, use_raw=False, interactions=df_interaction,\n",
    "    n_perms=500, corr_method=\"fdr_bh\",\n",
    "    cluster_key=\"Location refined\",\n",
    ")\n",
    "\n",
    "tumor_per_interactions = adata.uns[\"Location refined_ligrec\"][\"pvalues\"][\"Tumor_Periphery\"]\n",
    "\n",
    "tumor_per_means = adata.uns[\"Location refined_ligrec\"][\"means\"][\"Tumor_Periphery\"]\n",
    "\n",
    "tumor_core_interactions = adata.uns[\"Location refined_ligrec\"][\"pvalues\"][\"Tumor_Core\"]\n",
    "\n",
    "tumor_core_means = adata.uns[\"Location refined_ligrec\"][\"means\"][\"Tumor_Core\"]\n",
    "\n",
    "normal_interactions = adata.uns[\"Location refined_ligrec\"][\"pvalues\"][\"Normal_Periphery\"]\n",
    "\n",
    "normal_means = adata.uns[\"Location refined_ligrec\"][\"means\"][\"Normal_Periphery\"]"
   ]
  },
  {
   "cell_type": "code",
   "execution_count": null,
   "id": "5e4d6a74",
   "metadata": {},
   "outputs": [],
   "source": [
    "sign_int = tumor_core_interactions[\"Tumor_Core\"][tumor_core_interactions[\"Tumor_Core\"]<0.05]\n",
    "\n",
    "heatmap_tumor_df = get_heatmap_interactions_tumor(sign_int=sign_int, full_sigs=full_sigs, tumor_means=tumor_core_means)\n",
    "\n",
    "sign_int = tumor_per_interactions[\"Normal_Periphery\"][tumor_per_interactions[\"Normal_Periphery\"]<0.05]\n",
    "\n",
    "heatmap_tumor_to_normal_df = get_heatmap_interactions_tumor_to_normal(sign_int=sign_int, full_sigs=full_sigs, \n",
    "                                                             normal_sigs=normal_sigs, tumor_means=tumor_per_means)\n",
    "\n",
    "sign_int = normal_interactions[\"Tumor_Periphery\"][normal_interactions[\"Tumor_Periphery\"]<0.05]\n",
    "\n",
    "heatmap_normal_to_tumor_df = get_heatmap_interactions_normal_to_tumor(sign_int=sign_int, full_sigs=full_sigs, \n",
    "                                                             normal_sigs=normal_sigs, normal_means=normal_means)"
   ]
  },
  {
   "cell_type": "code",
   "execution_count": null,
   "id": "8cac07af",
   "metadata": {},
   "outputs": [],
   "source": [
    "import palettable\n",
    "colorlist = palettable.colorbrewer.qualitative.Set1_7.mpl_colors\n",
    "colormapping_mal = {\"cNMF_1\": colorlist[0], \"cNMF_2\": colorlist[1], \"cNMF_3\": colorlist[3], \n",
    "                    \"cNMF_4\": colorlist[4], \"cNMF_5\": colorlist[6]}\n",
    "\n",
    "colorlist = palettable.colorbrewer.sequential.Greens_9.mpl_colors\n",
    "colormapping_myeloid = {\"TAM1\": colorlist[1], \"DC\": colorlist[2], \n",
    "                        \"Mast\": colorlist[4], \"TAM2\": colorlist[5]}\n",
    "\n",
    "colorlist = palettable.colorbrewer.sequential.Oranges_5.mpl_colors\n",
    "colormapping_fibroblast = {\"Inflammatory CAF\": colorlist[1], \"Adipose CAF\": colorlist[3], \n",
    "                           \"Fibroblast\": colorlist[4]}\n",
    "\n",
    "colormapping_normal = (colormapping_myeloid | colormapping_fibroblast)"
   ]
  },
  {
   "cell_type": "code",
   "execution_count": null,
   "id": "b51e8023",
   "metadata": {},
   "outputs": [],
   "source": [
    "color_mapping_idx = return_color(list_idx = heatmap_tumor_to_normal_df.index.to_numpy(), \n",
    "                             sigs = full_sigs, color_palette = colormapping_mal)\n",
    "color_mapping_col = return_color(list_idx = heatmap_tumor_to_normal_df.columns.to_numpy(), \n",
    "                             sigs = normal_sigs, color_palette = colormapping_normal)\n",
    "\n",
    "fig = plot_interaction_heatmap(heatmap_tumor_to_normal_df, color_mapping_idx, color_mapping_col, figsize=(2,1.5))\n",
    "fig.savefig(figure_dir / patient_name / \"tumor_to_normal_LIGREC.svg\", dpi=200, bbox_inches=\"tight\")"
   ]
  },
  {
   "cell_type": "code",
   "execution_count": null,
   "id": "2060b38f",
   "metadata": {},
   "outputs": [],
   "source": [
    "color_mapping_idx = return_color(list_idx = heatmap_normal_to_tumor_df.index.to_numpy(), \n",
    "                             sigs = normal_sigs, color_palette = colormapping_normal)\n",
    "color_mapping_col = return_color(list_idx = heatmap_normal_to_tumor_df.columns.to_numpy(), \n",
    "                             sigs = full_sigs, color_palette = colormapping_mal)\n",
    "\n",
    "fig = plot_interaction_heatmap(heatmap_normal_to_tumor_df, color_mapping_idx, color_mapping_col, figsize=(2,1.5))\n",
    "fig.savefig(figure_dir / patient_name / \"normal_to_tumor_LIGREC.svg\", dpi=200, bbox_inches=\"tight\")"
   ]
  },
  {
   "cell_type": "code",
   "execution_count": null,
   "id": "9c807a21",
   "metadata": {},
   "outputs": [],
   "source": [
    "adata.uns[\"Location refined_ligrec\"][\"means\"].to_csv(visium_results_csv_dir / f\"{patient_name}_LIGREC_means.csv\")\n",
    "adata.uns[\"Location refined_ligrec\"][\"pvalues\"].to_csv(visium_results_csv_dir / f\"{patient_name}_LIGREC_pvalues.csv\")"
   ]
  },
  {
   "cell_type": "markdown",
   "id": "4012e034",
   "metadata": {},
   "source": [
    "# Full dist to edge plot"
   ]
  },
  {
   "cell_type": "code",
   "execution_count": null,
   "id": "15a07288",
   "metadata": {},
   "outputs": [],
   "source": [
    "patients = [\"EGSFR1938_A\",\"EGSFR1938_B\",\"EGSFR1938_C\",\"EGSFR0074_A\",\"EGSFR0148\"]\n",
    "\n",
    "patient_id_mapping = {\"EGSFR0074_A\": \"P4\", \n",
    "                      \"EGSFR0148\": \"P5\", \"EGSFR1938_A\": \"P8_A\", \n",
    "                      \"EGSFR1938_B\": \"P8_B\", \"EGSFR1938_C\": \"P8_C\"}"
   ]
  },
  {
   "cell_type": "code",
   "execution_count": null,
   "id": "5fe5d541",
   "metadata": {},
   "outputs": [],
   "source": [
    "all_scores = []\n",
    "for patient_name in patients:\n",
    "    scores = pd.read_csv(visium_results_csv_dir / f\"{patient_name}_cNMF_dist_to_edge.csv\", index_col=0)\n",
    "    order = pd.read_csv(visium_results_csv_dir / f\"{patient_name}_dist_to_edge_order.csv\", index_col=0).values.ravel()\n",
    "\n",
    "    scores = scores[scores[\"Dist. to edge\"].isin(order)].sort_values('Dist. to edge')\n",
    "    scores[\"Patient\"] = patient_id_mapping[patient_name]\n",
    "    \n",
    "    all_scores.append(scores)\n",
    "all_scores = pd.concat(all_scores)"
   ]
  },
  {
   "cell_type": "code",
   "execution_count": null,
   "id": "0c8f0a8c",
   "metadata": {},
   "outputs": [],
   "source": [
    "fig, ax = plt.subplots(3,2,figsize=(11,4.6))\n",
    "flatax = ax.flatten()\n",
    "for i,program in enumerate([f\"cNMF_{i}\" for i in range(1,6)]):\n",
    "    sns.barplot(data=all_scores, x=\"Patient\", y=program, hue=\"Dist. to edge\",ax=flatax[i])\n",
    "    if i==3:\n",
    "        flatax[i].legend(frameon=False, title=\"Dist. to edge\",bbox_to_anchor=(1,1,0,0))\n",
    "    else:\n",
    "        flatax[i].legend().set_visible(False)\n",
    "    pretty_ax(flatax[i])\n",
    "    flatax[i].set_ylabel(f\"cNMF$_{i+1}$\")\n",
    "flatax[-1].axis(\"off\")\n",
    "fig.savefig(figure_dir / \"full_dist_to_edge_cNMF.svg\", dpi=200, bbox_inches=\"tight\")"
   ]
  },
  {
   "cell_type": "markdown",
   "id": "f95c3e31",
   "metadata": {},
   "source": [
    "# Full LIGREC interactions"
   ]
  },
  {
   "cell_type": "code",
   "execution_count": null,
   "id": "043353a3",
   "metadata": {},
   "outputs": [],
   "source": [
    "def format_p_val(p: float) -> str:\n",
    "    if p>0.1:\n",
    "        return \"ns\"\n",
    "    elif 0.01<p<=0.1:\n",
    "        return \"*\"\n",
    "    elif 0.001<p<=0.01:\n",
    "        return \"**\"\n",
    "    else:\n",
    "        return \"***\""
   ]
  },
  {
   "cell_type": "code",
   "execution_count": null,
   "id": "8dde6c1e",
   "metadata": {},
   "outputs": [],
   "source": [
    "import palettable\n",
    "colorlist = palettable.colorbrewer.qualitative.Set1_7.mpl_colors\n",
    "colormapping_mal = {\"cNMF_1\": colorlist[0], \"cNMF_2\": colorlist[1], \"cNMF_3\": colorlist[3], \n",
    "                    \"cNMF_4\": colorlist[4], \"cNMF_5\": colorlist[6]}\n",
    "\n",
    "colorlist = palettable.colorbrewer.sequential.Greens_9.mpl_colors\n",
    "colormapping_myeloid = {\"TAM1\": colorlist[1], \"DC\": colorlist[2], \n",
    "                        \"Mast\": colorlist[4], \"TAM2\": colorlist[5]}\n",
    "\n",
    "colorlist = palettable.colorbrewer.sequential.Oranges_5.mpl_colors\n",
    "colormapping_fibroblast = {\"Inflammatory CAF\": colorlist[1], \"Adipose CAF\": colorlist[3], \n",
    "                           \"Fibroblast\": colorlist[4]}\n",
    "\n",
    "colormapping_normal = (colormapping_myeloid | colormapping_fibroblast)"
   ]
  },
  {
   "cell_type": "code",
   "execution_count": null,
   "id": "3597f63b",
   "metadata": {},
   "outputs": [],
   "source": [
    "patients = [\"EGSFR1938_A\",\"EGSFR1938_B\",\"EGSFR1938_C\",\"EGSFR0074_A\",\"EGSFR0148\"]\n",
    "\n",
    "patient_id_mapping = {\"EGSFR0074_A\": \"P4\", \n",
    "                      \"EGSFR0148\": \"P5\", \"EGSFR1938_A\": \"P8_A\", \n",
    "                      \"EGSFR1938_B\": \"P8_B\", \"EGSFR1938_C\": \"P8_C\"}"
   ]
  },
  {
   "cell_type": "code",
   "execution_count": null,
   "id": "b0ab507c",
   "metadata": {},
   "outputs": [],
   "source": [
    "normal_to_tumor_source = [\"FN1\",\"ITGB1\",\"FYN\",\"VCAN\",\"APP\"]\n",
    "normal_to_tumor_target = [\"RACK1\",\"BIRC5\",\"FN1\",\"ITGA2\",\"TNFRSF21\",]\n",
    "\n",
    "tumor_to_normal_source = [\"ACTB\",\"TGFBI\",\"VCAN\",\"SLIT2\",\"FN1\",\"FBN1\",\"THBS2\",\"JUP\",\"NTN4\"]\n",
    "tumor_to_normal_target = [\"ITGB1\",\"FN1\",\"ITGA4\",\"FER\",\"TTN\",\"APP\"]\n",
    "\n",
    "normal_to_tumor_interactions = {pat: pd.DataFrame(np.zeros((len(normal_to_tumor_source),len(normal_to_tumor_target))), \n",
    "             index=normal_to_tumor_source, columns=normal_to_tumor_target) for pat in patients}\n",
    "tumor_to_normal_interactions = {pat: pd.DataFrame(np.zeros((len(tumor_to_normal_source),len(tumor_to_normal_target))), \n",
    "             index=tumor_to_normal_source, columns=tumor_to_normal_target) for pat in patients}\n",
    "\n",
    "\n",
    "normal_to_tumor_pvalues = {pat: pd.DataFrame(np.zeros((len(normal_to_tumor_source),len(normal_to_tumor_target))), \n",
    "             index=normal_to_tumor_source, columns=normal_to_tumor_target) for pat in patients}\n",
    "tumor_to_normal_pvalues = {pat: pd.DataFrame(np.zeros((len(tumor_to_normal_source),len(tumor_to_normal_target))), \n",
    "             index=tumor_to_normal_source, columns=tumor_to_normal_target) for pat in patients}\n",
    "\n",
    "\n",
    "all_means, all_ps = {},{}\n",
    "for patient_name in patients:\n",
    "    all_means[patient_name] = pd.read_csv(visium_results_csv_dir / f\"{patient_name}_LIGREC_means.csv\", \n",
    "                                          index_col=[0,1], header=[0, 1])\n",
    "    all_ps[patient_name] = pd.read_csv(visium_results_csv_dir / f\"{patient_name}_LIGREC_pvalues.csv\", \n",
    "                                       index_col=[0,1], header=[0, 1])"
   ]
  },
  {
   "cell_type": "code",
   "execution_count": null,
   "id": "5db8b301",
   "metadata": {},
   "outputs": [],
   "source": [
    "for patient_name in patients:\n",
    "    df1 = all_means[patient_name][\"Normal_Periphery\"][\"Tumor_Periphery\"].reset_index()\n",
    "    df2 = all_ps[patient_name][\"Normal_Periphery\"][\"Tumor_Periphery\"].reset_index()\n",
    "    for source in normal_to_tumor_source:\n",
    "        for target in normal_to_tumor_target:\n",
    "            found = df1[(df1.source==source) & (df1.target==target)]\n",
    "            pfound = df2[(df2.source==source) & (df2.target==target)]\n",
    "            if found.shape[0]==0:\n",
    "                normal_to_tumor_interactions[patient_name].loc[source,target]=np.nan\n",
    "                normal_to_tumor_pvalues[patient_name].loc[source,target]=1\n",
    "            else:\n",
    "                normal_to_tumor_interactions[patient_name].loc[source,target]=found[\"Tumor_Periphery\"].values[0]\n",
    "                normal_to_tumor_pvalues[patient_name].loc[source,target]=pfound[\"Tumor_Periphery\"].values[0]\n",
    "    normal_to_tumor_pvalues[patient_name] = normal_to_tumor_pvalues[patient_name].applymap(format_p_val)\n",
    "\n",
    "color_mapping_idx = return_color(list_idx = normal_to_tumor_interactions[patients[0]].index.to_numpy(), \n",
    "                             sigs = normal_sigs, color_palette = colormapping_normal)\n",
    "color_mapping_col = return_color(list_idx = normal_to_tumor_interactions[patients[0]].columns.to_numpy(), \n",
    "                             sigs = full_sigs, color_palette = colormapping_mal)\n",
    "\n",
    "fig, ax = plt.subplots(1,5, figsize=(12,1.5))\n",
    "flatax = ax.flatten()\n",
    "for i in range(len(normal_to_tumor_interactions)):\n",
    "    \n",
    "    sns.heatmap(data=normal_to_tumor_interactions[patients[i]], ax=flatax[i], cmap=\"vlag\", \n",
    "                center=0, vmin=0, vmax=15, annot=normal_to_tumor_pvalues[patients[i]], fmt=\"\")\n",
    "    for j,tick in enumerate(flatax[i].get_yticklabels()):\n",
    "        tick.set_color(color_mapping_idx[tick.get_text()])\n",
    "    for j,tick in enumerate(flatax[i].get_xticklabels()):\n",
    "        tick.set_color(color_mapping_col[tick.get_text()])\n",
    "    \n",
    "    if i>0:\n",
    "        flatax[i].get_yaxis().set_visible(False)\n",
    "fig.savefig(figure_dir / \"full_LIGREC_normal_to_tumor.svg\", dpi=200, bbox_inches=\"tight\")"
   ]
  },
  {
   "cell_type": "code",
   "execution_count": null,
   "id": "94086772",
   "metadata": {},
   "outputs": [],
   "source": [
    "for patient_name in patients:\n",
    "    df1 = all_means[patient_name][\"Tumor_Periphery\"][\"Normal_Periphery\"].reset_index()\n",
    "    df2 = all_ps[patient_name][\"Tumor_Periphery\"][\"Normal_Periphery\"].reset_index()\n",
    "    for source in tumor_to_normal_source:\n",
    "        for target in tumor_to_normal_target:\n",
    "            found = df1[(df1.source==source) & (df1.target==target)]\n",
    "            pfound = df2[(df2.source==source) & (df2.target==target)]\n",
    "            if found.shape[0]==0:\n",
    "                tumor_to_normal_interactions[patient_name].loc[source,target]=np.nan\n",
    "                tumor_to_normal_pvalues[patient_name].loc[source,target]=1\n",
    "            else:\n",
    "                tumor_to_normal_interactions[patient_name].loc[source,target]=found[\"Normal_Periphery\"].values[0]\n",
    "                tumor_to_normal_pvalues[patient_name].loc[source,target]=pfound[\"Normal_Periphery\"].values[0]\n",
    "    tumor_to_normal_pvalues[patient_name] = tumor_to_normal_pvalues[patient_name].applymap(format_p_val)\n",
    "\n",
    "color_mapping_idx = return_color(list_idx = tumor_to_normal_interactions[patients[0]].index.to_numpy(), \n",
    "                             sigs = full_sigs, color_palette = colormapping_mal)\n",
    "color_mapping_col = return_color(list_idx = tumor_to_normal_interactions[patients[0]].columns.to_numpy(), \n",
    "                             sigs = normal_sigs, color_palette = colormapping_normal)\n",
    "\n",
    "fig, ax = plt.subplots(1,5, figsize=(12,2.5))\n",
    "flatax = ax.flatten()\n",
    "for i in range(len(tumor_to_normal_interactions)):\n",
    "    \n",
    "    sns.heatmap(data=tumor_to_normal_interactions[patients[i]], ax=flatax[i], cmap=\"vlag\", \n",
    "                center=0, vmin=0, vmax=15, annot=tumor_to_normal_pvalues[patients[i]], fmt=\"\")\n",
    "    for j,tick in enumerate(flatax[i].get_yticklabels()):\n",
    "        tick.set_color(color_mapping_idx[tick.get_text()])\n",
    "    for j,tick in enumerate(flatax[i].get_xticklabels()):\n",
    "        tick.set_color(color_mapping_col[tick.get_text()])\n",
    "    \n",
    "    if i>0:\n",
    "        flatax[i].get_yaxis().set_visible(False)\n",
    "fig.savefig(figure_dir / \"full_LIGREC_tumor_to_normal.svg\", dpi=200, bbox_inches=\"tight\")"
   ]
  },
  {
   "cell_type": "code",
   "execution_count": null,
   "id": "c855d1ef",
   "metadata": {},
   "outputs": [],
   "source": []
  }
 ],
 "metadata": {
  "kernelspec": {
   "display_name": "Python 3 (ipykernel)",
   "language": "python",
   "name": "python3"
  },
  "language_info": {
   "codemirror_mode": {
    "name": "ipython",
    "version": 3
   },
   "file_extension": ".py",
   "mimetype": "text/x-python",
   "name": "python",
   "nbconvert_exporter": "python",
   "pygments_lexer": "ipython3",
   "version": "3.9.16"
  }
 },
 "nbformat": 4,
 "nbformat_minor": 5
}
