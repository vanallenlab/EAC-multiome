{
 "cells": [
  {
   "cell_type": "code",
   "execution_count": null,
   "id": "b1775ad2",
   "metadata": {},
   "outputs": [],
   "source": [
    "import scanpy as sc\n",
    "import numpy as np\n",
    "import matplotlib.pyplot as plt\n",
    "import matplotlib as mpl\n",
    "import pandas as pd\n",
    "import seaborn as sns\n",
    "import pathlib as pl\n",
    "\n",
    "import cell2location\n",
    "\n",
    "from matplotlib import rcParams\n",
    "rcParams['pdf.fonttype'] = 42 # enables correct plotting of text for PDFs\n",
    "\n",
    "\n",
    "\n",
    "def get_preprocessed_sample(sample_path: pl.Path, min_counts: int, pct_mt: int, min_cells: int) -> sc.AnnData:\n",
    "\n",
    "    adata = sc.read_visium(path=sample_path)\n",
    "\n",
    "    adata.var_names_make_unique()\n",
    "    adata.var[\"mt\"] = adata.var_names.str.startswith(\"MT-\")\n",
    "    sc.pp.calculate_qc_metrics(adata, qc_vars=[\"mt\"], inplace=True)\n",
    "\n",
    "    adata.obsm[\"spatial\"] = adata.obsm[\"spatial\"].astype(int)\n",
    "\n",
    "    sc.pp.filter_cells(adata, min_counts=min_counts)\n",
    "    adata = adata[adata.obs[\"pct_counts_mt\"] < pct_mt]\n",
    "    print(f\"#cells after MT filter: {adata.n_obs}\")\n",
    "    sc.pp.filter_genes(adata, min_cells=min_cells)\n",
    "    \n",
    "    return adata"
   ]
  },
  {
   "cell_type": "code",
   "execution_count": null,
   "id": "9fb97af7",
   "metadata": {},
   "outputs": [],
   "source": [
    "spatial_dir = pl.Path(\"/add/path/here/SpaceRanger_output/\")"
   ]
  },
  {
   "cell_type": "markdown",
   "id": "4acba941",
   "metadata": {},
   "source": [
    "# Get single-cell reference"
   ]
  },
  {
   "cell_type": "code",
   "execution_count": null,
   "id": "0b939f14",
   "metadata": {},
   "outputs": [],
   "source": [
    "ad_sc = sc.read_h5ad(\"/add/path/here/full_cohort.h5ad\")\n",
    "\n",
    "refined_annotations = pd.read_csv(\"/add/path/here/refined_annotations.csv\",index_col=0)\n",
    "\n",
    "refined_annotations.columns = [\"refined_annotations\"]\n",
    "highlevel_refined = {\"Hepatocyte\": \"Epithelial\", \n",
    "                     \"Carcinoma\": \"Carcinoma\", \n",
    "                     \"Fibroblast\": \"Fibroblast\", \n",
    "                     \"Quiescent endothelial cells\": \"Endothelial\", \n",
    "                     \"Smooth muscle\": \"Muscle\", \n",
    "                     \"Skeletal muscle\": \"Muscle\",\n",
    "                     \"TAM2\": \"Myeloid\", \"TAM3\": \"Myeloid\",\n",
    "                     \"TCD4\": \"Lymphoid\", \n",
    "                     \"Inflammatory CAF\": \"Fibroblast\", \n",
    "                     \"Adipose CAF\": \"Fibroblast\",\n",
    "                     \"HGF-CAF\": \"Fibroblast\",\n",
    "                     \"TAM1\": \"Myeloid\", \n",
    "                     \"Myeloid-HighMT\": \"Unknown/technical\", \n",
    "                     \"Angiogenic EC\": \"Endothelial\", \n",
    "                     \"Quiescent EC\": \"Endothelial\", \n",
    "                     \"Venous EC\": \"Endothelial\",\n",
    "                     \"TCD8\": \"Lymphoid\", \n",
    "                     \"B\": \"Lymphoid\", \n",
    "                     \"DC\": \"Myeloid\", \n",
    "                     \"Hepatic EC\": \"Endothelial\", \n",
    "                     \"Kupffer cells\": \"Myeloid\", \n",
    "                     \"NK\": \"Lymphoid\", \n",
    "                     \"Treg\": \"Lymphoid\", \n",
    "                     \"StrMus-HighMT\": \"Unknown/technical\", \n",
    "                     \"T-HighMT\": \"Unknown/technical\", \n",
    "                     \"Mast\": \"Myeloid\", \n",
    "                     \"Adipocytes\": \"Stromal/Muscle\", \n",
    "                     \"Endo-HighMT\": \"Unknown/technical\"}\n",
    "ad_sc.obs = pd.concat([ad_sc.obs,refined_annotations],axis=1)\n",
    "\n",
    "ad_sc.obs[\"highlevel_refined\"] = ad_sc.obs.refined_annotations.replace(highlevel_refined)\n",
    "\n",
    "ad_sc = ad_sc[~ad_sc.obs[\"highlevel_refined\"].isin([\"Epithelial\",\"Nerve/adrenal\",\"Stromal/Muscle\",\"Unknown/technical\"])].copy()\n",
    "ad_sc.X = ad_sc.layers[\"counts\"].copy()"
   ]
  },
  {
   "cell_type": "code",
   "execution_count": null,
   "id": "9e4a565a",
   "metadata": {},
   "outputs": [],
   "source": [
    "ad_sc.shape"
   ]
  },
  {
   "cell_type": "code",
   "execution_count": null,
   "id": "52ef99c7",
   "metadata": {
    "scrolled": true
   },
   "outputs": [],
   "source": [
    "from cell2location.utils.filtering import filter_genes\n",
    "selected = filter_genes(ad_sc, cell_count_cutoff=5, cell_percentage_cutoff2=0.03, nonz_mean_cutoff=1.12)\n",
    "\n",
    "# filter the object\n",
    "ad_sc = ad_sc[:, selected].copy()"
   ]
  },
  {
   "cell_type": "code",
   "execution_count": null,
   "id": "8d1ed41a",
   "metadata": {},
   "outputs": [],
   "source": []
  },
  {
   "cell_type": "markdown",
   "id": "7b0324b6",
   "metadata": {},
   "source": [
    "# Estimate NB regression"
   ]
  },
  {
   "cell_type": "code",
   "execution_count": null,
   "id": "608b0cd5",
   "metadata": {},
   "outputs": [],
   "source": [
    "ref_run_name = \"/add/path/here/Cell2Location_results/reference_signatures\""
   ]
  },
  {
   "cell_type": "code",
   "execution_count": null,
   "id": "1dbde1da",
   "metadata": {},
   "outputs": [],
   "source": [
    "# prepare anndata for the regression model\n",
    "cell2location.models.RegressionModel.setup_anndata(adata=ad_sc,\n",
    "                        # 10X reaction / sample / batch\n",
    "                        batch_key='sample_id',\n",
    "                        # cell type, covariate used for constructing signatures\n",
    "                        labels_key='highlevel_refined',\n",
    "                       )"
   ]
  },
  {
   "cell_type": "code",
   "execution_count": null,
   "id": "1cbae580",
   "metadata": {},
   "outputs": [],
   "source": [
    "# create the regression model\n",
    "from cell2location.models import RegressionModel\n",
    "mod = RegressionModel(ad_sc)\n",
    "\n",
    "# view anndata_setup as a sanity check\n",
    "mod.view_anndata_setup()"
   ]
  },
  {
   "cell_type": "code",
   "execution_count": null,
   "id": "d8671a73",
   "metadata": {},
   "outputs": [],
   "source": [
    "mod.train(max_epochs=200, use_gpu=False)"
   ]
  },
  {
   "cell_type": "code",
   "execution_count": null,
   "id": "24eef2a8",
   "metadata": {},
   "outputs": [],
   "source": [
    "mod.save(f\"{ref_run_name}\", overwrite=True)"
   ]
  },
  {
   "cell_type": "code",
   "execution_count": null,
   "id": "5369bef6",
   "metadata": {},
   "outputs": [],
   "source": [
    "mod.plot_history(20)"
   ]
  },
  {
   "cell_type": "code",
   "execution_count": null,
   "id": "2b529e4a",
   "metadata": {},
   "outputs": [],
   "source": [
    "# In this section, we export the estimated cell abundance (summary of the posterior distribution).\n",
    "ad_sc = mod.export_posterior(\n",
    "    ad_sc, sample_kwargs={'num_samples': 1000, 'batch_size': 2500, 'use_gpu': False}\n",
    ")\n",
    "\n",
    "# Save anndata object with results\n",
    "adata_file = f\"{ref_run_name}/sc.h5ad\"\n",
    "ad_sc.write(adata_file)\n",
    "adata_file"
   ]
  },
  {
   "cell_type": "code",
   "execution_count": null,
   "id": "0df2649f",
   "metadata": {},
   "outputs": [],
   "source": [
    "mod.plot_QC()"
   ]
  },
  {
   "cell_type": "code",
   "execution_count": null,
   "id": "f9a80ae9",
   "metadata": {},
   "outputs": [],
   "source": [
    "# export estimated expression in each cluster\n",
    "if 'means_per_cluster_mu_fg' in ad_sc.varm.keys():\n",
    "    inf_aver = ad_sc.varm['means_per_cluster_mu_fg'][[f'means_per_cluster_mu_fg_{i}'\n",
    "                                    for i in ad_sc.uns['mod']['factor_names']]].copy()\n",
    "else:\n",
    "    inf_aver = ad_sc.var[[f'means_per_cluster_mu_fg_{i}'\n",
    "                                    for i in ad_sc.uns['mod']['factor_names']]].copy()\n",
    "inf_aver.columns = ad_sc.uns['mod']['factor_names']\n",
    "inf_aver.iloc[0:5, 0:5]"
   ]
  },
  {
   "cell_type": "code",
   "execution_count": null,
   "id": "efe8e7ae",
   "metadata": {},
   "outputs": [],
   "source": [
    "inf_aver.to_csv(\"/add/path/here/Cell2Location_results/mean-expression-per-celltype.csv\")"
   ]
  },
  {
   "cell_type": "code",
   "execution_count": null,
   "id": "563eb297",
   "metadata": {},
   "outputs": [],
   "source": []
  }
 ],
 "metadata": {
  "kernelspec": {
   "display_name": "Python 3 (ipykernel)",
   "language": "python",
   "name": "python3"
  },
  "language_info": {
   "codemirror_mode": {
    "name": "ipython",
    "version": 3
   },
   "file_extension": ".py",
   "mimetype": "text/x-python",
   "name": "python",
   "nbconvert_exporter": "python",
   "pygments_lexer": "ipython3",
   "version": "3.9.16"
  }
 },
 "nbformat": 4,
 "nbformat_minor": 5
}
